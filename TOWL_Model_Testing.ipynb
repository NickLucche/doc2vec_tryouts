{
 "cells": [
  {
   "cell_type": "markdown",
   "metadata": {},
   "source": [
    "# Model Testing"
   ]
  },
  {
   "cell_type": "markdown",
   "metadata": {},
   "source": [
    "## Example of how testing is going to work\n",
    "Take 3 documents: 2 similar, and a 1 quite different; check if model recognizes this difference,\n",
    "which results, in the live version, to not group the three articles in the same region"
   ]
  },
  {
   "cell_type": "code",
   "execution_count": 5,
   "metadata": {},
   "outputs": [],
   "source": [
    "# 3 sample documents (articles) \n",
    "data = [\"Un incendio è scoppiato, nel tardo pomeriggio di ieri, nella zona delle cave a Bozzano, nel padule di Massarosa. Sul posto sono intervenuti i vigili del fuoco per domare l’incendio. Un odore di bruciato si è levato nella serata dalla zona delle fiamme fino ad invadere Viareggio, tra le proteste dei cittadini.\",\n",
    "       \"Spento l'incendio nel Compitese, ora la bonifica Lucca: sotto controllo gli ultimi focolai nella zona di San Leonardo in Treponzio. L'ipotesi più accreditata sull'origine rimane quella del fulmine.  La situazione, nella mattinata di martedì 2 ottobre, ha visto l'incendio praticamente domato, a parte alcuni focolai che comunque non destano preoccupazione. E' così potuta partire l'operazione di bonifica, grazie a due squadre dell'antincendio boschivo. Per quanto riguarda le cause del rogo, partito dalla zona di Pieve di Compito e poi arrivato fino a San Leonardo in treponzio, al momento una delle più accreditate resta quella del fulmine caduto durante il temporale di lunedì notte. Le forze dell'ordine, comunque, non escludono alcuna possibilità e per questo stanno cercando la presenza di eventuali inneschi.\",\n",
    "        \"Borse deboli, continua effetto Powell su titoli di Stato. Spread stabile a 280. Le Borse europee aprono la seduta tutte in flessione mentre proseguono le vendite sui titoli di Stato europei in scia a quanto avvenuto ieri dopo le parole del presidente della Fed Powell sulla possibile accelerazione nella stretta monetaria Usa. Piazza Affari perde mezzo punto percentuale nel FTSE MIB mentre gli altri indici continentali mostrano cali lievemente più contenuti (seguine qui l'andamento). In fondo al listino milanese StMicroelectronics, Saipem e Leonardo tra i titoli industriali ma anche il comparto bancario (visto il rendimento del decennale sempre in area 3,35%) con Banco Bpm. Intesa Sanpaolo e Ubi giù di un punto percentuale. Brillano Moncler (+2,2%) e Eni (+0,9%). Ieri intanto il Governo Conte ha rilasciato il Documento di Economia e di Finanza prevedendo una crescita dell'economia italiana all'1,5% nel 2019 e all'1,6% nell'anno successivo. \"\n",
    "       ]"
   ]
  },
  {
   "cell_type": "code",
   "execution_count": 6,
   "metadata": {},
   "outputs": [
    {
     "name": "stdout",
     "output_type": "stream",
     "text": [
      "[['un', 'incendio', 'scoppiato', 'nel', 'tardo', 'pomeriggio', 'di', 'ieri', 'nella', 'zona', 'delle', 'cave', 'bozzano', 'nel', 'padule', 'di', 'massarosa', 'sul', 'posto', 'sono', 'intervenuti', 'vigili', 'del', 'fuoco', 'per', 'domare', 'incendio', 'un', 'odore', 'di', 'bruciato', 'si', 'levato', 'nella', 'serata', 'dalla', 'zona', 'delle', 'fiamme', 'fino', 'ad', 'invadere', 'viareggio', 'tra', 'le', 'proteste', 'dei', 'cittadini'], ['spento', 'incendio', 'nel', 'compitese', 'ora', 'la', 'bonifica', 'lucca', 'sotto', 'controllo', 'gli', 'ultimi', 'focolai', 'nella', 'zona', 'di', 'san', 'leonardo', 'in', 'treponzio', 'ipotesi', 'più', 'accreditata', 'sull', 'origine', 'rimane', 'quella', 'del', 'fulmine', 'la', 'situazione', 'nella', 'mattinata', 'di', 'martedì', 'ottobre', 'ha', 'visto', 'incendio', 'praticamente', 'domato', 'parte', 'alcuni', 'focolai', 'che', 'comunque', 'non', 'destano', 'preoccupazione', 'così', 'potuta', 'partire', 'operazione', 'di', 'bonifica', 'grazie', 'due', 'squadre', 'dell', 'antincendio', 'boschivo', 'per', 'quanto', 'riguarda', 'le', 'cause', 'del', 'rogo', 'partito', 'dalla', 'zona', 'di', 'pieve', 'di', 'compito', 'poi', 'arrivato', 'fino', 'san', 'leonardo', 'in', 'treponzio', 'al', 'momento', 'una', 'delle', 'più', 'accreditate', 'resta', 'quella', 'del', 'fulmine', 'caduto', 'durante', 'il', 'temporale', 'di', 'lunedì', 'notte', 'le', 'forze', 'dell', 'ordine', 'comunque', 'non', 'escludono', 'alcuna', 'possibilità', 'per', 'questo', 'stanno', 'cercando', 'la', 'presenza', 'di', 'eventuali', 'inneschi'], ['borse', 'deboli', 'continua', 'effetto', 'powell', 'su', 'titoli', 'di', 'stato', 'spread', 'stabile', 'le', 'borse', 'europee', 'aprono', 'la', 'seduta', 'tutte', 'in', 'flessione', 'mentre', 'proseguono', 'le', 'vendite', 'sui', 'titoli', 'di', 'stato', 'europei', 'in', 'scia', 'quanto', 'avvenuto', 'ieri', 'dopo', 'le', 'parole', 'del', 'presidente', 'della', 'fed', 'powell', 'sulla', 'possibile', 'accelerazione', 'nella', 'stretta', 'monetaria', 'usa', 'piazza', 'affari', 'perde', 'mezzo', 'punto', 'percentuale', 'nel', 'ftse', 'mib', 'mentre', 'gli', 'altri', 'indici', 'continentali', 'mostrano', 'cali', 'lievemente', 'più', 'contenuti', 'seguine', 'qui', 'andamento', 'in', 'fondo', 'al', 'listino', 'milanese', 'saipem', 'leonardo', 'tra', 'titoli', 'industriali', 'ma', 'anche', 'il', 'comparto', 'bancario', 'visto', 'il', 'rendimento', 'del', 'decennale', 'sempre', 'in', 'area', 'con', 'banco', 'bpm', 'intesa', 'sanpaolo', 'ubi', 'giù', 'di', 'un', 'punto', 'percentuale', 'brillano', 'moncler', 'eni', 'ieri', 'intanto', 'il', 'governo', 'conte', 'ha', 'rilasciato', 'il', 'documento', 'di', 'economia', 'di', 'finanza', 'prevedendo', 'una', 'crescita', 'dell', 'economia', 'italiana', 'all', 'nel', 'all', 'nell', 'anno', 'successivo']]\n"
     ]
    }
   ],
   "source": [
    "# Doc2Vec imports\n",
    "from gensim.models.doc2vec import Doc2Vec, TaggedDocument\n",
    "import gensim\n",
    "\n",
    "# sanitize data\n",
    "data = [gensim.utils.simple_preprocess(doc) for doc in data]\n",
    "print(data)"
   ]
  },
  {
   "cell_type": "markdown",
   "metadata": {},
   "source": [
    "## Load model and infer vectors from data"
   ]
  },
  {
   "cell_type": "code",
   "execution_count": 20,
   "metadata": {},
   "outputs": [
    {
     "name": "stdout",
     "output_type": "stream",
     "text": [
      "[[0.37998098]]\n",
      "[[0.32156792]]\n",
      "[[0.27350792]]\n"
     ]
    },
    {
     "ename": "AttributeError",
     "evalue": "module 'gensim.models' has no attribute 'cosine_similarity'",
     "output_type": "error",
     "traceback": [
      "\u001b[0;31m---------------------------------------------------------------------------\u001b[0m",
      "\u001b[0;31mAttributeError\u001b[0m                            Traceback (most recent call last)",
      "\u001b[0;32m<ipython-input-20-c64668b05a8e>\u001b[0m in \u001b[0;36m<module>\u001b[0;34m()\u001b[0m\n\u001b[1;32m     14\u001b[0m \u001b[0mprint\u001b[0m\u001b[0;34m(\u001b[0m\u001b[0mcosine_similarity\u001b[0m\u001b[0;34m(\u001b[0m\u001b[0;34m[\u001b[0m\u001b[0minferred_vectors\u001b[0m\u001b[0;34m[\u001b[0m\u001b[0;36m0\u001b[0m\u001b[0;34m]\u001b[0m\u001b[0;34m]\u001b[0m\u001b[0;34m,\u001b[0m \u001b[0;34m[\u001b[0m\u001b[0minferred_vectors\u001b[0m\u001b[0;34m[\u001b[0m\u001b[0;36m2\u001b[0m\u001b[0;34m]\u001b[0m\u001b[0;34m]\u001b[0m\u001b[0;34m)\u001b[0m\u001b[0;34m)\u001b[0m\u001b[0;34m\u001b[0m\u001b[0m\n\u001b[1;32m     15\u001b[0m \u001b[0mprint\u001b[0m\u001b[0;34m(\u001b[0m\u001b[0mcosine_similarity\u001b[0m\u001b[0;34m(\u001b[0m\u001b[0;34m[\u001b[0m\u001b[0minferred_vectors\u001b[0m\u001b[0;34m[\u001b[0m\u001b[0;36m1\u001b[0m\u001b[0;34m]\u001b[0m\u001b[0;34m]\u001b[0m\u001b[0;34m,\u001b[0m \u001b[0;34m[\u001b[0m\u001b[0minferred_vectors\u001b[0m\u001b[0;34m[\u001b[0m\u001b[0;36m2\u001b[0m\u001b[0;34m]\u001b[0m\u001b[0;34m]\u001b[0m\u001b[0;34m)\u001b[0m\u001b[0;34m)\u001b[0m\u001b[0;34m\u001b[0m\u001b[0m\n\u001b[0;32m---> 16\u001b[0;31m \u001b[0mprint\u001b[0m\u001b[0;34m(\u001b[0m\u001b[0mgensim\u001b[0m\u001b[0;34m.\u001b[0m\u001b[0mmodels\u001b[0m\u001b[0;34m.\u001b[0m\u001b[0mcosine_similarity\u001b[0m\u001b[0;34m(\u001b[0m\u001b[0;34m[\u001b[0m\u001b[0minferred_vectors\u001b[0m\u001b[0;34m[\u001b[0m\u001b[0;36m0\u001b[0m\u001b[0;34m]\u001b[0m\u001b[0;34m,\u001b[0m \u001b[0minferred_vectors\u001b[0m\u001b[0;34m[\u001b[0m\u001b[0;36m1\u001b[0m\u001b[0;34m]\u001b[0m\u001b[0;34m]\u001b[0m\u001b[0;34m)\u001b[0m\u001b[0;34m)\u001b[0m\u001b[0;34m\u001b[0m\u001b[0m\n\u001b[0m\u001b[1;32m     17\u001b[0m \u001b[0;31m# euclidean distance\u001b[0m\u001b[0;34m\u001b[0m\u001b[0;34m\u001b[0m\u001b[0m\n\u001b[1;32m     18\u001b[0m \u001b[0mprint\u001b[0m\u001b[0;34m(\u001b[0m\u001b[0mnp\u001b[0m\u001b[0;34m.\u001b[0m\u001b[0mlinalg\u001b[0m\u001b[0;34m.\u001b[0m\u001b[0mnorm\u001b[0m\u001b[0;34m(\u001b[0m\u001b[0minferred_vectors\u001b[0m\u001b[0;34m[\u001b[0m\u001b[0;36m0\u001b[0m\u001b[0;34m]\u001b[0m\u001b[0;34m-\u001b[0m\u001b[0minferred_vectors\u001b[0m\u001b[0;34m[\u001b[0m\u001b[0;36m1\u001b[0m\u001b[0;34m]\u001b[0m\u001b[0;34m)\u001b[0m\u001b[0;34m)\u001b[0m \u001b[0;31m# the similar documents\u001b[0m\u001b[0;34m\u001b[0m\u001b[0m\n",
      "\u001b[0;31mAttributeError\u001b[0m: module 'gensim.models' has no attribute 'cosine_similarity'"
     ]
    }
   ],
   "source": [
    "from sklearn.metrics.pairwise import cosine_similarity\n",
    "import numpy as np\n",
    "\n",
    "MODEL_NAME = 'TestModels/d2v_TA_abstract&title0.model'\n",
    "model = Doc2Vec.load(MODEL_NAME)\n",
    "inferred_vectors = []\n",
    "for doc in data:\n",
    "    # takes a list of strings\n",
    "    #inferred_vectors.append(np.array(model.infer_vector(doc)).reshape(1, -1))\n",
    "    inferred_vectors.append(model.infer_vector(doc))\n",
    "\n",
    "# cosine similarity\n",
    "print(cosine_similarity([inferred_vectors[0]], [inferred_vectors[1]])) # the similar documents\n",
    "print(cosine_similarity([inferred_vectors[0]], [inferred_vectors[2]]))\n",
    "print(cosine_similarity([inferred_vectors[1]], [inferred_vectors[2]]))\n",
    "print(gensim.models.cosine_similarity([inferred_vectors[0], inferred_vectors[1]]))\n",
    "# euclidean distance\n",
    "print(np.linalg.norm(inferred_vectors[0]-inferred_vectors[1])) # the similar documents\n",
    "print(np.linalg.norm(inferred_vectors[0]-inferred_vectors[2])) \n",
    "print(np.linalg.norm(inferred_vectors[1]-inferred_vectors[2])) "
   ]
  }
 ],
 "metadata": {
  "kernelspec": {
   "display_name": "Python 3",
   "language": "python",
   "name": "python3"
  },
  "language_info": {
   "codemirror_mode": {
    "name": "ipython",
    "version": 3
   },
   "file_extension": ".py",
   "mimetype": "text/x-python",
   "name": "python",
   "nbconvert_exporter": "python",
   "pygments_lexer": "ipython3",
   "version": "3.6.5"
  }
 },
 "nbformat": 4,
 "nbformat_minor": 2
}

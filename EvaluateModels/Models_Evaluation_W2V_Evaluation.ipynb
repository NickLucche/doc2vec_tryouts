{
 "cells": [
  {
   "cell_type": "markdown",
   "metadata": {},
   "source": [
    "# Compare W2V models results over eval.set\n",
    "## TODO: Weighted mean of vectors"
   ]
  },
  {
   "cell_type": "code",
   "execution_count": 1,
   "metadata": {},
   "outputs": [],
   "source": [
    "# load eval.set (duplicates free)\n",
    "import json\n",
    "filename = 'pre-clustered_docs_harder.json'\n",
    "with open(filename, 'r') as file:\n",
    "    cdocs = json.load(file)\n"
   ]
  },
  {
   "cell_type": "markdown",
   "metadata": {},
   "source": [
    "# Load entities models\n",
    "## TODO: lower case text"
   ]
  },
  {
   "cell_type": "code",
   "execution_count": 2,
   "metadata": {},
   "outputs": [
    {
     "name": "stdout",
     "output_type": "stream",
     "text": [
      "Models loaded\n"
     ]
    }
   ],
   "source": [
    "# load pre-trained model\n",
    "from gensim.models import Word2Vec\n",
    "\n",
    "unwrapped_docs = [doc for cluster in cdocs for doc in cluster]\n",
    "\n",
    "#wiki_model = Word2Vec.load('./models/wiki_iter=5_algorithm=skipgram_window=10_size=300_neg-samples=10.m')\n",
    "my_model = Word2Vec.load('./models/w2v_entities+abstract_model.model')\n",
    "print(\"Models loaded\")"
   ]
  },
  {
   "cell_type": "markdown",
   "metadata": {},
   "source": [
    "# Evaluate Clustering"
   ]
  },
  {
   "cell_type": "code",
   "execution_count": 3,
   "metadata": {
    "scrolled": false
   },
   "outputs": [
    {
     "name": "stdout",
     "output_type": "stream",
     "text": [
      "Results occurences(correct guess, cluster index):  [(4, 0), (3, 0), (3, 0), (2, 0), (10, 0), (7, 0), (3, 0), (4, 0), (10, 0), (6, 0)]\n",
      "Accuracy (Precision) over each cluster:  [7.6923076923076925, 5.769230769230769, 5.769230769230769, 3.8461538461538463, 19.23076923076923, 13.461538461538462, 5.769230769230769, 7.6923076923076925, 19.23076923076923, 11.538461538461538]\n",
      "Accuracy (Recall) over each cluster:  [100.0, 100.0, 100.0, 100.0, 100.0, 77.77777777777777, 100.0, 100.0, 100.0, 100.0]\n",
      "Precision score: 9.999999999999998, Recall score: 97.77777777777779\n",
      "#Number of clusters found: 1, against number of pre-computed clusters: 10#\n",
      "\n",
      "Results occurences(correct guess, cluster index):  [(4, 0), (2, 1), (3, 1), (2, 0), (10, 1), (6, 2), (3, 1), (4, 0), (10, 1), (6, 1)]\n",
      "Accuracy (Precision) over each cluster:  [40.0, 5.714285714285714, 8.571428571428571, 20.0, 28.571428571428573, 100.0, 8.571428571428571, 40.0, 28.571428571428573, 17.142857142857142]\n",
      "Accuracy (Recall) over each cluster:  [100.0, 66.66666666666667, 100.0, 100.0, 100.0, 66.66666666666667, 100.0, 100.0, 100.0, 100.0]\n",
      "Precision score: 29.714285714285715, Recall score: 93.33333333333334\n",
      "#Number of clusters found: 3, against number of pre-computed clusters: 10#\n",
      "\n",
      "Online-update\n",
      "Lenght before update 11155\n",
      "Lenght after update 11180\n",
      "CPU times: user 160 ms, sys: 224 ms, total: 384 ms\n",
      "Wall time: 125 ms\n",
      "Results occurences(correct guess, cluster index):  [(4, 0), (3, 1), (3, 0), (2, 0), (10, 1), (9, 1), (3, 1), (4, 0), (9, 1), (6, 1)]\n",
      "Accuracy (Precision) over each cluster:  [30.76923076923077, 7.5, 23.076923076923077, 15.384615384615385, 25.0, 22.5, 7.5, 30.76923076923077, 22.5, 15.0]\n",
      "Accuracy (Recall) over each cluster:  [100.0, 100.0, 100.0, 100.0, 100.0, 100.0, 100.0, 100.0, 90.0, 100.0]\n",
      "Precision score: 20.0, Recall score: 99.0\n",
      "#Number of clusters found: 2, against number of pre-computed clusters: 10#\n",
      "\n"
     ]
    },
    {
     "name": "stderr",
     "output_type": "stream",
     "text": [
      "/home/nick/anaconda3/lib/python3.6/site-packages/ipykernel_launcher.py:10: DeprecationWarning:\n",
      "\n",
      "elementwise != comparison failed; this will raise an error in the future.\n",
      "\n",
      "/home/nick/anaconda3/lib/python3.6/site-packages/ipykernel_launcher.py:37: DeprecationWarning:\n",
      "\n",
      "elementwise != comparison failed; this will raise an error in the future.\n",
      "\n"
     ]
    }
   ],
   "source": [
    "import utils\n",
    "import my_dbscan\n",
    "import model_evaluation as me\n",
    "import w2v_model_utils as mm_utils\n",
    "#import importlib\n",
    "#importlib.reload(mm_utils)\n",
    "\n",
    "# infer document vectors (once, they won't change)\n",
    "my_doc_vecs = [mm_utils.infer_vector(doc['result_entities'], my_model) for doc in unwrapped_docs \n",
    "               if mm_utils.infer_vector(doc['result_entities'], my_model)!=[]]\n",
    "#wiki_doc_vecs = [mm_utils.infer_vector(doc['result_entities'], wiki_model) for doc in unwrapped_docs]\n",
    "\n",
    "titles = [doc['title'] for doc in unwrapped_docs]\n",
    "urls = [doc['url'] for doc in unwrapped_docs]\n",
    "\n",
    "models_recall = []\n",
    "models_precision = []\n",
    "clusters_found = [] # keep clusters results, they're useful later on\n",
    "min_s = 2 # min_samples\n",
    "\n",
    "# let's try 3 combinations of clustering\n",
    "for k in range(3):\n",
    "    # try different eps for some model\n",
    "    if k == 0:\n",
    "        # default eps dbscan\n",
    "        eps = 0.27\n",
    "        eps_increment = 0.1\n",
    "    elif k==1:\n",
    "        eps = 0.11\n",
    "        eps_increment = 0.13\n",
    "    else:\n",
    "        # online update of model\n",
    "        print(\"Online-update\")\n",
    "        eps = 0.11\n",
    "        eps_increment = 0.13\n",
    "        training_corpus = [utils.lower_case_list(doc['result_entities']) for doc in unwrapped_docs\n",
    "                          if mm_utils.infer_vector(doc['result_entities'], my_model)!=[]]\n",
    "        %time my_model = mm_utils.online_training(my_model, training_corpus)\n",
    "        # wiki_model = mm_utils.online_training(wiki_model, training_corpus)\n",
    "        # re-infer vectors\n",
    "        my_doc_vecs = [mm_utils.infer_vector(doc['result_entities'], my_model) for doc in unwrapped_docs]\n",
    "        #wiki_doc_vecs = [mm_utils.infer_vector(doc['result_entities'], wiki_model) for doc in unwrapped_docs]\n",
    "    doc_vecs = my_doc_vecs\n",
    "    # TODO: change to 2 to cluster both models\n",
    "    for i in range(1):\n",
    "        # apply dbscan clustering to these vectors\n",
    "        urls_cluster_list = my_dbscan.apply_dbscan(doc_vecs = doc_vecs, titles = titles, \n",
    "                                                   urls = urls, subset_length = len(titles),\n",
    "                                                     eps = eps, eps_increment = eps_increment,\n",
    "                                                   n_iterations = 3, verbose = False, min_samples = min_s)\n",
    "        # get clusters as list of titles\n",
    "        titles_clusters = utils.getDocTitleFromUrl(unwrapped_docs, urls_cluster_list)\n",
    "        clusters_found.append(titles_clusters)\n",
    "        #data = utils.plot_clusters(titles_clusters)\n",
    "\n",
    "        # evaluate clustering\n",
    "        expected_clusters = []\n",
    "        for docs in cdocs:\n",
    "            expected_clusters.append([doc['title'] for doc in docs])\n",
    "        precision, recall = me.compute_clustering_accuracy(titles_clusters, expected_clusters)\n",
    "        print('Precision score: %s, Recall score: %s'%(precision, recall))\n",
    "\n",
    "        models_precision.append(precision)\n",
    "        models_recall.append(recall)\n",
    "        # last check: we want to penalize models that simply cluster all docs together (that's not a valid result)\n",
    "        # that's way we have precision score\n",
    "        print(\"#Number of clusters found: {0}, against number of pre-computed clusters: {1}#\\n\".format(\n",
    "            len(urls_cluster_list), len(cdocs)))\n",
    "        # change inferred docs for next model\n",
    "        #doc_vecs = wiki_doc_vecs"
   ]
  },
  {
   "cell_type": "code",
   "execution_count": 11,
   "metadata": {},
   "outputs": [
    {
     "name": "stdout",
     "output_type": "stream",
     "text": [
      "{'fonte_dati': ['trend_analisys'], 'id': 'https://www.webnews.it/speciale/fifa-19/', 'ta_id': [6, 7], 'title': 'FIFA 19: novità, uscita e prezzo', 'abstract': 'Presentato ufficialmente in occasione della conferenza stampa all’E3 2018, FIFA 19 è la nuova iterazione del gioco di calcio sviluppato da EA Sports che costituisce il 27esimo titolo della popolare e vendutissima serie. Arriva sul mercato con tante novità, sia a livello di gameplay che delle competizioni disponibili, per sfidare ancora una volta PES 2019, il rivale di Konami.\\n Novità e gameplay Modalità Carriera e campionati Il Viaggio FUT, ovvero FIFA Ultimate Team Comparto grafico Il testimonial in copertina: Cristiano Ronaldo La demo giocabile/a&gt; Prezzo e uscita \\nFIFA 19 è stato nuovamente migliorato rispetto al precedente titolo della serie introducendo peraltro tante novità sia a livello di funzioni che di gameplay, che vanno a incrementare sostanzialmente le possibilità di gioco e la gestione in campo.\\nNuovo sistema Active Touch\\nIl nuovo sistema Active Touch di FIFA 19 cambia radicalmente il modo di ricevere e colpire il pallone, dando un controllo e una fluidità migliori e aumentando la creatività e la personalità dei giocatori. Al sistema di controllo della palla sono stati aggiunti strumenti e animazioni per garantire una maggiore varietà nel movimento della palla. Nello specifico, ora è possibile controllare il pallone in tanti modi diversi, come lo “stop fintato”, una finta con cui spingere i difensori a muoversi nella direzione sbagliata con un lieve movimento sul tocco di prima, così da avvantaggiarsi. L’obiettivo è quello di scendere in campo giocando in modo sempre più simile a quello del calcio reale, sfruttando le stesse mosse dei calciatori più bravi al mondo.\\nAggiunte nuove animazioni per alzare la palla: ora, i giocatori possono utilizzare la testa, il petto, le ginocchia e i piedi, cambiare direzione, disorientare i difensori e creare spazi da sfruttare per attaccare.\\nTattiche dinamiche\\nIl sistema di tattiche dinamiche di FIFA 19 è stato completamente rivisitato per offrire un maggior controllo sulle tattiche della propria squadra, sia prima che durante le partite. La preparazione del team assume qui in ruolo ancora più importante, con l’utente che può anche creare diversi piani di gioco e cambiarli in corsa. I piani di gioco personalizzati sono assegnati alla croce direzionale (su console), in modo da poterli richiamare rapidamente durante il match.\\nFinalizzazione a tempo\\nLa Finalizzazione a tempo aumenta il controllo sulla propria squadra in FIFA 19 e aumenta l’efficacia in zona goal. È una funzione inedita e mai vista prima ideata per rendere impeccabile qualsiasi tiro, premendo il comando tiro una seconda volta al momento giusto, con un tempismo perfetto. Funziona con tutte le conclusioni su azione, che si tratti di un colpo di testa, di un tiro al volo, di un tiro di precisione o perfino di una rovesciata.\\nScontri 50/50\\nGli scontri 50/50 di FIFA 19 trasmettono una maggiore fisicità e richiedono una buona dose di abilità per conquistare il pallone. Sono le reazioni dell’utente e le caratteristiche del giocatore a determinare l’esito dei contrasti in campo.\\nLa modalità Carriera torna in FIFA 19 con nuove licenze e funzionalità volte a offrire un’esperienza calcistica più realistica che mai. Il gioco presenta per la prima volta le competizioni UEFA per club, compresa la UEFA Champions League, la UEFA Europa League e la UEFA Super Cup, completamente integrate in questa modalità. A seconda del piazzamento ottenuto dalla propria squadra nella stagione precedente, si partirà dunque dalle qualificazioni o dalla fase a gironi per disputare tutte le partite previste dal torneo fino all’eventuale finale e aggiudicarsi così il titolo.\\nI campionati in licenza presenti in FIFA 19 sono nello specifico:\\n A-League Airtricity League Dawri Jameel Allsvenskan Premier League FL Championship Football League 1 Football League 2 Bundesliga austriaca Bundesliga Liga Campeonato Brasileiro Série A Ekstraklasa Eredivisie Jupiler League Meiji Yasuda J1 K-League Liga Bancomer MX La Liga Primeira Liga Liga DIMAYOR Ligue 1 Ligue 2 Major League Soccer Primera División Cile Primera División Argentina Raiffeisen Super League Scottish Premiership Serie A TIM Serie B Süper Lig Superliga Tippeligaen CSL. \\nQuest’anno ne Il Viaggio: Campioni di FIFA 19 oltre ad Alex Hunter ci saranno Kim Hunter e Danny Williams. Alex Hunter riesce qui a coronare il suo sogno, giocare nel Real Madrid, con l’obiettivo di vincere la Champions League; Kim Hunter è la sorellastra di Alex, intenzionata a vincere il Mondiale femminile 2019, mentre Danny Williams è un giocatore che Alex ha conosciuto ai provini della Premier League, quando giocava nel campionato inglese con gli LA Galaxy. Vorrà prendere il posto di Alex nella squadra e vincere così l’ambita Champions.\\nFIFA Ultimate Team (FUT) è stato aggiornato in FIFA 19 con l’aggiunta di 10 nuove icone, inoltre a partire dal lancio mostrerà le probabilità per i pacchetti che elencheranno nel dettaglio ciò che è possibile trovare all’interno di ogni pacchetto acquistato, sotto forma di percentuale, con l’obiettivo di aiutare i giocatori a meglio decidere come investire i FIFA Points, i crediti FUT e il proprio tempo.\\nPer la prima volta in assoluto, la UEFA Champions League e l’Europa League sbarcano in FIFA Ultimate Team. Vi sono anche più modi per giocare, nuove caratteristiche come le Scelte giocatori, le Tattiche dinamiche, nuovi modi per gestire i club, modifiche all’intesa di un giocatore e le Division Rivals, una nuova modalità di FUT 19 in cui il giocatore sarà contro altri giocatori della propria divisione allo scopo di ottenere premi settimanali con cui migliorare la propria rosa di calciatori. Ogni vittoria in Division Rivals avvicina alla prossima divisione e fa compiere un passo in avanti per qualificarsi alla Weekend League.\\nNuove icone\\nIn FIFA 19 Ultimate Team saranno disponibili nuove icone: Roberto Baggio, Fabio Cannavaro, Franco Baresi, Gianfranco Zola, Christian Vieri e Gennaro Gattuso tra gli italiani che hanno fatto la storia del nostro calcio, mentre tra gli altri sono stati annunciati Michael Ballack, George Best, Sol Campbell, Emilio Butragueno, Luis Figo, Ryan Giggs, Fernando Hierro, Roy Keane, Miroslav Klose, Frank Lampard, Jens Lehmann, Gary Lineker, Bobby Moore, Hidetoshi Nakata, Pavel Nedved, Paul Scholes, Socrates, Hristo Stoichkov, David Trezeguet, Ruud Van Nistelrooy e Juan Sebastian Veron.\\nAlimentato dal motore Frostbite, FIFA 19 presenta un comparto grafico più avanzato e migliore che mai: vi è una tecnologia d’animazione real player, migliorata e più realistica, soprattutto nella versione 4K dove si raggiungono livelli notevoli.\\nIl testimonial in copertina: Cristiano Ronaldo (↑)\\nInsieme a Cristiano Ronaldo, testimonial del gioco confermato dalla scorsa edizione e ora con la maglia della Juventus dopo l’acquisizione storica avvenuta in estate, nella copertina di FIFA 19 ci sarà anche Neymar.\\n Galleria di immagini: FIFA 19: immagini e screenshot \\nLa demo di FIFA 19 è stata rilasciata da EA Sports il 13 settembre 2018 per PlayStation 4, Xbox One e PC su PlayStation Store, Xbox Live e Origin, dando così modo agli appassionati di scoprire le nuove feature del gameplay che arricchiscono questo nuovo capitolo. La versione di prova consente di assaporare la magica atmosfera della UEFA Champions League e vedrà disponibili 10 club tra i più prestigiosi d’Europa, ovvero Juventus, Real Madrid, Manchester United,Manchester City, Bayern Monaco, Paris Saint-Germain, Atlético Madrid, Borussia Dortmund, A.S. Roma e Tottenham. Disponibile anche un’anticipazione della modalità Il Viaggio: Campioni con Alex Hunter.\\nFIFA 19 è disponibile nei negozi dal 28 settembre 2018 sulle piattaforme PlaStation 4, Xbox One, PC Windows, PlayStation 3 (con supporto PlayStation Move), Xbox 360 e Nintendo Switch.\\nTre le edizioni acquistabili: Standard Edition, Champions Edition e Ultimate Edition. La prima, la Standard Edition, è venduta al prezzo di lancio di 69,99 euro e non offre alcun contenuto aggiuntivo. La Champions Edition invece offrirà tutti i vantaggi menzionati nella versione Ultimate più un piccolo upgrade, ovvero fino a un massimo di 40 pacchetti oro premium maxi per venti settimane, dedicate agli utenti FUT. Costa 89,99 euro. Infine, la Ultimate Edition con pacchetti FUT, Cristiano Ronaldo e Neymar Jr in prestito e molto altro. Il prezzo è di 99,99 euro.', 'url': 'https://www.webnews.it/speciale/fifa-19/', 'website': ['webnews.it'], 'timestamp': [1538559439241], 'publication_date': ['2018-10-03T09:37:19.241Z'], 'flattened_entities': ['2._fußball-bundesliga a-league allsvenskan associazione_sportiva_roma ballspielverein_borussia_09_dortmund bobby_moore calciatore calcio_sport campeonato_brasileiro_série_a campionato_irlandese_di_calcio campo_nuovo_gothic christian_vieri club_atlético_de_madrid comitato_olimpico_internazionale competizioni_uefa_per_club console_videogiochi cristiano_ronaldo danny_williams david_trezeguet demo división_mayor_del_fútbol_colombiano ekstraklasa electronic_arts eliteserien emilio_butragueño eredivisie euro europa fabio_cannavaro fernando_hierro fifa_serie football_league_championship football_league_one football_league_two franco_baresi frank_lampard frostbite_videogioco fußball-bundesliga_austria fußball-club_bayern_münchen fédération_internationale_de_football_association gamepad gameplay gary_lineker gennaro_gattuso george_best gianfranco_zola hidetoshi_nakata hristo_stoičkov icona_società jens_lehmann juan_sebastián_verón juventus_football_club k_league_classic kim_hunter konami ligue_1 ligue_2 los_angeles_galaxy luís_figo major_league_soccer manchester_city_football_club manchester_united_football_club michael_ballack microsoft_windows miroslav_klose motore nazionale_di_calcio_del_cile neymar nintendo_switch origin_informatica paris_saint-germain_football_club paul_scholes pavel_nedvěd playstation_3 playstation_4 playstation_move playstation_store premier_league primeira_liga primera_división_2012-2013_spagna primera_división_argentina primera_división_spagna pro_evolution_soccer_serie pro_league qualificazioni_al_campionato_europeo_di_calcio_2008 real_madrid_club_de_fútbol realplayer roberto_baggio roy_keane ruud_van_nistelrooij ryan_giggs scottish_premiership screenshot serie_a serie_b sol_campbell squadra_di_calcio super_league_svizzera supercoppa_uefa superliga_slovacchia supporto_di_memoria sócrates süper_lig testimonial tottenham_hotspur_football_club uefa_champions_league uefa_champions_league_2011-2012 uefa_europa_league videogioco videogioco_a_piattaforme xbox_360 xbox_live xbox_one'], 'result_entities': ['FIFA (serie)', 'Videogioco', 'Electronic Arts', 'Gameplay', 'Pro Evolution Soccer (serie)', 'Konami', 'Testimonial', 'Cristiano Ronaldo', 'Demo', 'Campo Nuovo (Gothic)', 'Fédération Internationale de Football Association', 'Calcio (sport)', 'Calciatore', 'Gamepad', 'Console (videogiochi)', 'Competizioni UEFA per club', 'UEFA Champions League', 'UEFA Europa League', 'Supercoppa UEFA', 'Squadra di calcio', 'Primera División 2012-2013 (Spagna)', 'Qualificazioni al campionato europeo di calcio 2008', 'UEFA Champions League 2011-2012', 'Eredivisie', 'A-League', 'Campionato irlandese di calcio', 'Allsvenskan', 'Premier League', 'Football League Championship', 'Football League One', 'Football League Two', '2. Fußball-Bundesliga', 'Fußball-Bundesliga (Austria)', 'Primera División (Spagna)', 'Campeonato Brasileiro Série A', 'Ekstraklasa', 'Pro League', 'K League Classic', 'Primeira Liga', 'División Mayor del Fútbol Colombiano', 'Ligue 1', 'Ligue 2', 'Major League Soccer', 'Nazionale di calcio del Cile', 'Primera División (Argentina)', 'Super League (Svizzera)', 'Scottish Premiership', 'Serie A', 'Serie B', 'Süper Lig', 'Superliga (Slovacchia)', 'Eliteserien', 'Kim Hunter', 'Danny Williams', 'Real Madrid Club de Fútbol', 'Los Angeles Galaxy', 'Comitato Olimpico Internazionale', 'Icona (società)', 'Roberto Baggio', 'Fabio Cannavaro', 'Franco Baresi', 'Gianfranco Zola', 'Christian Vieri', 'Gennaro Gattuso', 'Michael Ballack', 'George Best', 'Sol Campbell', 'Emilio Butragueño', 'Luís Figo', 'Ryan Giggs', 'Fernando Hierro', 'Roy Keane', 'Miroslav Klose', 'Frank Lampard', 'Jens Lehmann', 'Gary Lineker', 'Bobby Moore', 'Hidetoshi Nakata', 'Pavel Nedvěd', 'Paul Scholes', 'Sócrates', 'Hristo Stoičkov', 'David Trezeguet', 'Ruud van Nistelrooij', 'Juan Sebastián Verón', 'Motore', 'Frostbite (videogioco)', 'RealPlayer', 'Juventus Football Club', 'Neymar', 'Screenshot', 'PlayStation 4', 'Xbox One', 'PlayStation Store', 'Xbox Live', 'Origin (informatica)', 'Europa', 'Manchester United Football Club', 'Manchester City Football Club', 'Fußball-Club Bayern München', 'Paris Saint-Germain Football Club', 'Club Atlético de Madrid', 'Ballspielverein Borussia 09 Dortmund', 'Associazione Sportiva Roma', 'Tottenham Hotspur Football Club', 'Videogioco a piattaforme', 'Microsoft Windows', 'PlayStation 3', 'Supporto di memoria', 'PlayStation Move', 'Xbox 360', 'Nintendo Switch', 'Euro'], '_version_': 1613296542567890944}\n"
     ]
    }
   ],
   "source": [
    "for cluster in clusters_found[3]:\n",
    "    print(cluster)\n",
    "#print(unwrapped_docs[29])"
   ]
  },
  {
   "cell_type": "markdown",
   "metadata": {},
   "source": [
    "# Visualize results graphically"
   ]
  },
  {
   "cell_type": "code",
   "execution_count": 17,
   "metadata": {},
   "outputs": [
    {
     "data": {
      "text/html": [
       "<iframe id=\"igraph\" scrolling=\"no\" style=\"border:none;\" seamless=\"seamless\" src=\"https://plot.ly/~D4nt3/76.embed\" height=\"525px\" width=\"100%\"></iframe>"
      ],
      "text/plain": [
       "<plotly.tools.PlotlyDisplay object>"
      ]
     },
     "execution_count": 17,
     "metadata": {},
     "output_type": "execute_result"
    }
   ],
   "source": [
    "import plotly.plotly as py\n",
    "import plotly.tools as tls\n",
    "import plotly.graph_objs as go\n",
    "# using my api-key\n",
    "tls.set_credentials_file(username='D4nt3', api_key='FdMB4O6qCfciGDOnLvdQ')\n",
    "graph_name = 'model_eval_entities_results'\n",
    "\n",
    "model_descr = [model.comment for model in models]\n",
    "# plot test-accuracy results, plus silhoutte scores (times 100, since all the values are in between 0-1)\n",
    "trace0 = go.Bar(\n",
    "    x = model_descr + ['loaded model'],\n",
    "    y = models_precision,\n",
    "    name='Precision',\n",
    "    marker=dict(\n",
    "        color='rgb(49,130,189)'\n",
    "    )\n",
    ")\n",
    "trace1 = go.Bar(\n",
    "    x = model_descr + ['loaded model'],\n",
    "    y = [s*100 for s in s_scores] + [0],\n",
    "    name='Silhoutte score',\n",
    "    marker=dict(\n",
    "        color='rgb(204,50,100)',\n",
    "    )\n",
    "    \n",
    ")\n",
    "\n",
    "trace2 = go.Bar(\n",
    "    x = model_descr + ['loaded model'],\n",
    "    y = models_recall,\n",
    "    name='Recall',\n",
    "    marker=dict(\n",
    "        color='rgb(155, 244, 66)',\n",
    "    )\n",
    "    \n",
    ")\n",
    "# precision, recall, silhoutte\n",
    "data = [trace0, trace2,  trace1]\n",
    "layout = go.Layout(\n",
    "    title = 'Clustering Accuracy Results',\n",
    "    xaxis=dict(\n",
    "        tickfont=dict(\n",
    "            size=10,\n",
    "            color='rgb(107, 107, 107)',\n",
    "            \n",
    "        ),\n",
    "        tickangle = -45\n",
    "    ),\n",
    "    yaxis=dict(\n",
    "        title='Clustering accuracy (%)',\n",
    "        titlefont=dict(\n",
    "            size=16,\n",
    "            color='rgb(107, 107, 107)'\n",
    "        ),\n",
    "        tickfont=dict(\n",
    "            size=14,\n",
    "            color='rgb(107, 107, 107)'\n",
    "        )\n",
    "    ),\n",
    "   \n",
    "    barmode='group',\n",
    "    bargap=0.2,\n",
    "    bargroupgap=0.1\n",
    ")\n",
    "\n",
    "fig = go.Figure(data=data, layout=layout)\n",
    "py.iplot(fig, filename=graph_name)"
   ]
  },
  {
   "cell_type": "markdown",
   "metadata": {},
   "source": [
    "# Silhoutte score\n",
    "Silhouette coefficient combines ideas of both cohesion and separation, \n",
    "but for individual points, as well as clusters and \n",
    "clusterings; the Silhouette Coefficient is calculated using the mean intra-cluster distance (a) and the mean nearest-cluster distance (b) for each sample.\n",
    "The Silhoutte score is merely the average of each silhoutte coefficient, computed over each sample.\n",
    "It's a measure of the goodness of clustering, by assuming the fact that a cluster X is defined good if both every sample inside it is close to each other, and far from any other relatively-near cluster Y.\n",
    "This is not necessarily true for every shape of cluster.\n",
    "\n",
    "    The best value is 1 and the worst value is -1. Values near 0 indicate overlapping clusters."
   ]
  },
  {
   "cell_type": "code",
   "execution_count": 16,
   "metadata": {
    "scrolled": false
   },
   "outputs": [
    {
     "name": "stdout",
     "output_type": "stream",
     "text": [
      "0.2057951\n",
      "0.23791973\n",
      "0.24932371\n",
      "0.24040304\n",
      "0.13758796\n",
      "0.0041218703\n",
      "0.12820731\n",
      "0.228402\n"
     ]
    }
   ],
   "source": [
    "from sklearn.metrics import silhouette_score\n",
    "s_scores = []\n",
    "for model in models:\n",
    "    # get clusters for each model\n",
    "    doc_vecs = [model.docvecs[j] for j in range(len(model.docvecs))]\n",
    "    titles = [doc['title'] for doc in unwrapped_docs]\n",
    "    urls = [doc['url'] for doc in unwrapped_docs]\n",
    "    # apply dbscan clustering to these vectors\n",
    "    urls_cluster_list = my_dbscan.apply_dbscan(doc_vecs = doc_vecs, titles = titles, \n",
    "                                               urls = urls, subset_length = len(titles),\n",
    "                                                 eps = 0.27, eps_increment = 0.1, n_iterations = 3, verbose = False)\n",
    "    \n",
    "    # get cluster labels, mantaining original docs ordering\n",
    "    labels = []\n",
    "    for doc in unwrapped_docs:\n",
    "        noise = True\n",
    "        for i, url_list in enumerate(urls_cluster_list):\n",
    "            if(doc['url'] in url_list):\n",
    "                labels.append(i) # keep cluster id\n",
    "                noise = False\n",
    "        if noise:\n",
    "            labels.append(-1)\n",
    "    # make sure they have the same size\n",
    "    assert len(labels) == len(doc_vecs)\n",
    "    ss = silhouette_score(doc_vecs, labels , metric='cosine')\n",
    "    s_scores.append(ss)\n",
    "    print(ss)"
   ]
  },
  {
   "cell_type": "markdown",
   "metadata": {},
   "source": [
    "# Conclusions: \n",
    "A really low silhoutte score helps us identify models that tend to have very few cluster, hence not really recognizing differences between docs. This is fundamental, since test rules used so far prevent us from recognizing these kinds of models.\n",
    "Since silhoutte score is an average of silhoutte coefficients, smaller changes of values here may mean greater differences."
   ]
  }
 ],
 "metadata": {
  "kernelspec": {
   "display_name": "Python 3",
   "language": "python",
   "name": "python3"
  },
  "language_info": {
   "codemirror_mode": {
    "name": "ipython",
    "version": 3
   },
   "file_extension": ".py",
   "mimetype": "text/x-python",
   "name": "python",
   "nbconvert_exporter": "python",
   "pygments_lexer": "ipython3",
   "version": "3.6.5"
  }
 },
 "nbformat": 4,
 "nbformat_minor": 2
}

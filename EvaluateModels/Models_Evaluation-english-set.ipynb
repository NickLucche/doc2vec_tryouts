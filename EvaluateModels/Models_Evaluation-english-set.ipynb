{
 "cells": [
  {
   "cell_type": "markdown",
   "metadata": {},
   "source": [
    "# Try different models-compare clustering results over eval. set\n",
    "TODO: try different eps"
   ]
  },
  {
   "cell_type": "code",
   "execution_count": 46,
   "metadata": {},
   "outputs": [
    {
     "name": "stdout",
     "output_type": "stream",
     "text": [
      "#Number of clusters: 3\n",
      "##Cluster length: ['20', '20', '20']\n",
      "### Doc length:  [10892, 5326, 4735, 3605, 7054, 1028, 1205, 10558, 4099, 2532, 5444, 3866, 1187, 3702, 5434, 261, 10860, 1859, 1325, 5784, 6009, 2788, 3228, 1736, 3098, 3075, 3638, 3608, 3619, 6182, 4331, 4516, 2265, 6123, 3943, 5139, 2874, 3922, 5734, 4247, 2320, 3093, 7587, 2811, 4230, 2806, 2622, 5009, 5855, 2910, 4416, 5706, 3281, 3273, 3973, 4828, 3675, 7436, 6775, 4819]\n",
      "4304.266666666666\n"
     ]
    }
   ],
   "source": [
    "# load eval.set (duplicates free)\n",
    "import json\n",
    "filename = 'english_3_clusters.json'\n",
    "#filename = 'set_with_noise.json'\n",
    "with open(filename, 'r') as file:\n",
    "    cdocs = json.load(file)\n",
    "print(\"#Number of clusters:\",len(cdocs))\n",
    "print(\"##Cluster length:\",[str(len(cluster)) for cluster in cdocs])\n",
    "print(\"### Doc length: \",[len(doc['headline']+doc['bodyText']) for cluster in cdocs for doc in cluster \n",
    "                          if not(doc['bodyText'] is None)])\n",
    "print(sum([len(doc['headline']+doc['bodyText']) for cluster in cdocs for doc in cluster])/60)"
   ]
  },
  {
   "cell_type": "code",
   "execution_count": 12,
   "metadata": {},
   "outputs": [],
   "source": [
    "#print([d for (d, i) in train_corpus_ta][:10])"
   ]
  },
  {
   "cell_type": "markdown",
   "metadata": {},
   "source": [
    "## Title+abstract models\n",
    "## TODO: lower case text"
   ]
  },
  {
   "cell_type": "code",
   "execution_count": 39,
   "metadata": {},
   "outputs": [
    {
     "name": "stdout",
     "output_type": "stream",
     "text": [
      "Noise length 0 and cdocs length 3\n",
      "Total number of documents: 60\n",
      "[479, 1150, 165, 1240, 481, 196, 595, 895, 524, 642, 424, 668, 357, 788, 251, 1759, 611, 289, 1198, 710, 623, 658, 490, 1058, 45, 511, 534, 570, 421, 1093, 904, 864, 695, 904, 609, 201, 441, 640, 770, 414, 798, 769, 656, 623, 200, 750, 1805, 844, 948, 1738, 347, 521, 604, 907, 471, 961, 907, 574, 710, 441]\n",
      "Doc2Vec(\"dm=0, vec = 100\",dbow,d100,n5,mc2,t4) -VocabSize: 3093\n",
      "Doc2Vec(\"dm=0, vec = 800, +Eps\",dbow,d800,n5,mc2,t4) -VocabSize: 3093\n",
      "Doc2Vec(\"dm=0, vec = 800\",dbow,d800,n5,mc2,t4) -VocabSize: 3093\n",
      "Doc2Vec(\"dm=0, vec = 1000\",dbow,d1000,n5,mc2,t4) -VocabSize: 3093\n",
      "Doc2Vec(\"dm=1, vec=500, alpha=.05\",dm/m,d500,n5,w10,mc2,t4) -VocabSize: 3093\n",
      "Vocabulary created!\n",
      "Training Doc2Vec(\"dm=0, vec = 100\",dbow,d100,n5,mc2,t4)\n",
      "CPU times: user 4.27 s, sys: 24 ms, total: 4.29 s\n",
      "Wall time: 1.53 s\n",
      "Training Doc2Vec(\"dm=0, vec = 800, +Eps\",dbow,d800,n5,mc2,t4)\n",
      "CPU times: user 13.6 s, sys: 64 ms, total: 13.7 s\n",
      "Wall time: 4.29 s\n",
      "Training Doc2Vec(\"dm=0, vec = 800\",dbow,d800,n5,mc2,t4)\n",
      "CPU times: user 13.5 s, sys: 112 ms, total: 13.6 s\n",
      "Wall time: 4.18 s\n",
      "Training Doc2Vec(\"dm=0, vec = 1000\",dbow,d1000,n5,mc2,t4)\n",
      "CPU times: user 17.4 s, sys: 92 ms, total: 17.4 s\n",
      "Wall time: 5.18 s\n",
      "Training Doc2Vec(\"dm=1, vec=500, alpha=.05\",dm/m,d500,n5,w10,mc2,t4)\n",
      "CPU times: user 15.8 s, sys: 44 ms, total: 15.9 s\n",
      "Wall time: 4.66 s\n"
     ]
    }
   ],
   "source": [
    "# train different models\n",
    "from gensim.utils import simple_preprocess as sp\n",
    "from gensim.models.doc2vec import Doc2Vec, TaggedDocument\n",
    "import multiprocessing\n",
    "\n",
    "unwrapped_docs = [doc for cluster in cdocs for doc in cluster]\n",
    "\n",
    "# remove noise from expected clusters \n",
    "noise = [cluster for cluster in cdocs if len(cluster)==1]\n",
    "cdocs = [cluster for cluster in cdocs if not(cluster in noise)]\n",
    "print(\"Noise length {} and cdocs length {}\".format(len(noise), len(cdocs)))\n",
    "\n",
    "import random\n",
    "random.shuffle(unwrapped_docs)\n",
    "# title + abstract models; here abstract is called 'content' (I got these articles from GuardianAPI)\n",
    "train_corpus_ta = [ TaggedDocument(sp(doc['headline'] + doc['bodyText']) ,[i]) for i, doc in enumerate(unwrapped_docs)]\n",
    "print(\"Total number of documents:\",len(train_corpus_ta))\n",
    "#print(train_corpus_ta)\n",
    "print([len(doc.words) for doc in train_corpus_ta])\n",
    "epochs = 45\n",
    "vec_size = 100\n",
    "models = [\n",
    "    # dm = 0, simple SG, simpler model, most of the time efficient and accurate\n",
    "    Doc2Vec(dm=0, vector_size=100, negative=5, hs=0, min_count=2, sample=0, \n",
    "            epochs=45, workers=multiprocessing.cpu_count(), comment='dm=0, vec = 100'),\n",
    "    Doc2Vec(dm=0, vector_size=800, negative=5, hs=0, min_count=2, sample=0, \n",
    "            epochs=45, workers=multiprocessing.cpu_count(), comment='dm=0, vec = 800, +Eps'),\n",
    "    Doc2Vec(dm=0, vector_size=800, negative=5, hs=0, min_count=2, sample=0, \n",
    "            epochs=45, workers=multiprocessing.cpu_count(), comment='dm=0, vec = 800'),\n",
    "    Doc2Vec(dm=0, vector_size=1000, negative=5, hs=0, min_count=2, sample=0, \n",
    "            epochs=45, workers=multiprocessing.cpu_count(), comment='dm=0, vec = 1000'),\n",
    "  \n",
    "    # PV-DM\n",
    "    Doc2Vec(dm=1, vector_size= 500, window=10, negative=5, hs=0, min_count=2, sample=0, \n",
    "            epochs = epochs, workers=multiprocessing.cpu_count(), alpha= 0.05, comment='dm=1, vec=500, alpha=.05'),\n",
    "]\n",
    "\n",
    "# build our vocabulary of words (all the unique words encountered inside our corpus)\n",
    "for model in models:\n",
    "    model.build_vocab(train_corpus_ta)\n",
    "    print(model, \"-VocabSize:\", len(model.wv.vocab))\n",
    "print(\"Vocabulary created!\")\n",
    "\n",
    "# train the models on the given data!\n",
    "counter = 0\n",
    "for model in models:\n",
    "    print(\"Training %s\" % model)\n",
    "    %time model.train(train_corpus_ta, total_examples=len(train_corpus_ta), epochs=model.epochs)\n",
    "    #model.save(MODEL_NAME+str(counter)+'.model')\n",
    "    counter = counter + 1\n",
    "#print(\"Models Saved\")"
   ]
  },
  {
   "cell_type": "markdown",
   "metadata": {},
   "source": [
    "# Evaluate Clustering"
   ]
  },
  {
   "cell_type": "code",
   "execution_count": 41,
   "metadata": {
    "scrolled": false
   },
   "outputs": [
    {
     "name": "stdout",
     "output_type": "stream",
     "text": [
      "Accuracy (Precision) over each cluster:  [94.44444444444446, 83.33333333333333, 100.0]\n",
      "Accuracy (Recall) over each cluster:  [15.0, 13.0, 16.666666666666668]\n",
      "Precision score: 92.5925925925926, Recall score: 14.888888888888891\n",
      "#Number of clusters found: 10, against number of pre-computed clusters: 3#\n",
      "\n",
      "Classified 0 noise articles among the total of 0\n",
      "Accuracy (Precision) over each cluster:  [86.80555555555556, 77.43055555555554, 90.47619047619048]\n",
      "Accuracy (Recall) over each cluster:  [25.0, 12.5, 12.857142857142858]\n",
      "Precision score: 84.90410052910052, Recall score: 16.78571428571429\n",
      "#Number of clusters found: 16, against number of pre-computed clusters: 3#\n",
      "\n",
      "Classified 0 noise articles among the total of 0\n",
      "Accuracy (Precision) over each cluster:  [92.85714285714286, 84.52380952380952, 76.78571428571429]\n",
      "Accuracy (Recall) over each cluster:  [35.0, 13.333333333333334, 16.25]\n",
      "Precision score: 84.72222222222223, Recall score: 21.527777777777782\n",
      "#Number of clusters found: 10, against number of pre-computed clusters: 3#\n",
      "\n",
      "Classified 0 noise articles among the total of 0\n",
      "Accuracy (Precision) over each cluster:  [96.2962962962963, 87.3015873015873, 100.0]\n",
      "Accuracy (Recall) over each cluster:  [20.0, 10.0, 18.333333333333332]\n",
      "Precision score: 94.5326278659612, Recall score: 16.11111111111111\n",
      "#Number of clusters found: 12, against number of pre-computed clusters: 3#\n",
      "\n",
      "Classified 0 noise articles among the total of 0\n",
      "Accuracy (Precision) over each cluster:  [91.42857142857143, 92.0, 100.0]\n",
      "Accuracy (Recall) over each cluster:  [12.857142857142858, 18.0, 22.5]\n",
      "Precision score: 94.47619047619048, Recall score: 17.78571428571429\n",
      "#Number of clusters found: 15, against number of pre-computed clusters: 3#\n",
      "\n",
      "Classified 0 noise articles among the total of 0\n"
     ]
    }
   ],
   "source": [
    "import utils\n",
    "import my_dbscan\n",
    "import model_evaluation as me\n",
    "#import importlib\n",
    "#mportlib.reload(me)\n",
    "\n",
    "models_recall = []\n",
    "models_precision = []\n",
    "clusters_found = [] # keep clusters results, they're useful later on\n",
    "min_s = 2 # min_samples\n",
    "titles = [doc['headline'] for doc in unwrapped_docs]\n",
    "urls = [doc['headline'] for doc in unwrapped_docs] # I don't have url in the data-set\n",
    "    \n",
    "for k, model in enumerate(models):\n",
    "    # try different eps for some model\n",
    "    if k == 1:\n",
    "        eps = 0.35\n",
    "        eps_increment = 0.1\n",
    "        min_s = 2\n",
    "    else:\n",
    "        eps = 0.11\n",
    "        eps_increment = 0.13\n",
    "        min_s = 2\n",
    "    # get list of document vectors\n",
    "    doc_vecs = [model.docvecs[j] for j in range(len(model.docvecs))]\n",
    "    \n",
    "    # apply dbscan clustering to these vectors\n",
    "    titles_clusters = my_dbscan.apply_dbscan(doc_vecs = doc_vecs, titles = titles, \n",
    "                                               urls = urls, subset_length = len(titles),\n",
    "                                                 eps = eps, eps_increment = eps_increment,\n",
    "                                               n_iterations = 3, verbose = False, min_samples = min_s)\n",
    "    # get clusters as list of titles\n",
    "    #titles_clusters = utils.getDocTitleFromUrl(unwrapped_docs, urls_cluster_list)\n",
    "    clusters_found.append(titles_clusters)\n",
    "    #data = utils.plot_clusters(titles_clusters)\n",
    "    \n",
    "    # evaluate clustering\n",
    "    expected_clusters = []\n",
    "    for docs in cdocs:\n",
    "        expected_clusters.append([doc['headline'] for doc in docs])\n",
    "    precision, recall = me.compute_clustering_accuracy(titles_clusters, expected_clusters)\n",
    "    print('Precision score: %s, Recall score: %s'%(precision, recall))\n",
    "    \n",
    "    models_precision.append(precision)\n",
    "    models_recall.append(recall)\n",
    "    # last check: we want to penalize models that simply cluster all docs together (that's not a valid result)\n",
    "    # that's why we have precision score\n",
    "    print(\"#Number of clusters found: {0}, against number of pre-computed clusters: {1}#\\n\".format(\n",
    "        len([l for l in titles_clusters if len(l)>0]), len(cdocs)))\n",
    "    \n",
    "    # noise classified\n",
    "    c = 0\n",
    "    for n in noise:\n",
    "        for cluster in titles_clusters:\n",
    "            if n[0]['headline'] in cluster:\n",
    "                c += 1\n",
    "    print(\"Classified {} noise articles among the total of {}\".format(c, len(noise)))\n"
   ]
  },
  {
   "cell_type": "code",
   "execution_count": 45,
   "metadata": {},
   "outputs": [
    {
     "name": "stdout",
     "output_type": "stream",
     "text": [
      "['Don’t let bacteria-laden humans contaminate Mars', 'Could the Earth lose its atmosphere as Mars once did?']\n",
      "[\"Koreas' Kim and Moon to meet again as Trump nuclear agenda sidelined\", 'North Korea set to allow inspectors into nuclear test site']\n",
      "['North Korea threat remains despite Trump summit, says Japan', 'Japan defence ministry seeks record budget over North Korea threat']\n",
      "['Over-65s to be given more effective flu vaccine', 'NHS denies flu vaccine shortage amid complaints over delays']\n",
      "['Congo turmoil means Ebola vaccinators will need armed escorts, experts warn', 'DRC: experimental Ebola vaccine to be administered in Mbandaka']\n",
      "['North Korea is still developing nuclear weapons, says IAEA', 'Pompeo backs away from North Korea denuclearisation timeline', 'South Korea and US resume military drills ahead of nuclear talks', 'Mike Pompeo to visit North Korea this week for nuclear talks', \"North Korea frustrates US as 'maximum pressure' eases on sanctions\", 'US may resume war games as North Korea negotiations stall', 'Trump orders Pompeo to delay nuclear North Korea talks due to lack of progress', 'Trump angry after South Korea signals it may ease North Korea sanctions']\n",
      "['Spacewatch: Martian rocks on Earth a step nearer as UK builds red planet rover', 'Scientists call for ‘mega-mission’ to find ancient life on Mars', \"Planet of the apis: Nasa develops plan to launch 'Marsbees'\", 'Ethiopia deploys hidden rabies vaccine in bid to protect endangered wolf', 'The most likely cradles for life inside our solar system', 'Mars to track blood moon in double celestial treat on Friday', 'Nasa Mars rover finds organic matter in ancient lake bed', \"Trump: 'possible' North Korea nuclear deal may not 'work out'\", 'Mars: huge underground lake raises prospects of life on planet, astronomers say', 'Spacewatch: Can Mars rover beat the dust to trundle on again?', 'Nasa mission to map Mars interior will launch this weekend', 'New moon mission will not distract from effort to reach Mars, Nasa boss says', \"Orange snow transforms eastern Europe into 'Mars'\", 'The lunar gateway: a shortcut to Mars?']\n",
      "[\"'They are devils': China's parents demand answers over vaccine scandal\", 'China: outcry over sale of 250,000 faulty vaccines prompts investigation', 'Beaten, terrified and disappeared: China cracks down on faulty vaccine outcry']\n",
      "['Take-up of MMR vaccine falls for fourth year in a row in England', \"Rubella's elimination from Australia 'shows vaccinations work'\", 'Australia on track to wipe out cervical cancer within 20 years', 'Teenage boys to be vaccinated against cancer-causing HPV', 'Uganda launches major vaccination drive as deadly cholera outbreak bites', 'Resurgence of deadly measles blamed on low MMR vaccination rates']\n",
      "['Yes, you should have a flu jab', \"MPs 'shocked' by low flu vaccine rates among social care staff\"]\n",
      "[10, 16, 10, 12, 15]\n"
     ]
    }
   ],
   "source": [
    "for cluster in clusters_found[2]:\n",
    "    print(cluster)\n",
    "print([len(c) for c in clusters_found])"
   ]
  },
  {
   "cell_type": "markdown",
   "metadata": {},
   "source": [
    "# Conclusions\n",
    "Here, you can clearly see how important the clustering alg. is for obtaining good results: the data-set is (objectively) okay, it has more than enough words, and each model gets a pretty high Precision score, which means that (almost) every document that is put together rightfully belongs to the same cluster, as you can see in the clusters; the 'problem' is that we're splitting clusters too much, finding meaningful, but somewhat unecessary sub-clusters, very specific to a single topic, which is not a bad thing.. it means that by tweaking that 'eps' we can get pretty different results.. is there a way to choose the eps value automatically?"
   ]
  },
  {
   "cell_type": "code",
   "execution_count": 32,
   "metadata": {},
   "outputs": [
    {
     "name": "stdout",
     "output_type": "stream",
     "text": [
      "High five! You successfully sent some data to your account on plotly. View your plot in your browser at https://plot.ly/~D4nt3_/0 or inside your plot.ly account where it is named 'aa'\n"
     ]
    },
    {
     "data": {
      "text/html": [
       "<iframe id=\"igraph\" scrolling=\"no\" style=\"border:none;\" seamless=\"seamless\" src=\"https://plot.ly/~D4nt3_/0.embed\" height=\"525px\" width=\"100%\"></iframe>"
      ],
      "text/plain": [
       "<plotly.tools.PlotlyDisplay object>"
      ]
     },
     "execution_count": 32,
     "metadata": {},
     "output_type": "execute_result"
    }
   ],
   "source": [
    "import utils\n",
    "import importlib\n",
    "importlib.reload(utils)\n",
    "# finally, call eps-estimate function\n",
    "doc_vecs = [models[1].docvecs[j] for j in range(len(models[1].docvecs))]\n",
    "title_dist_tuples = utils.choose_eps(2, doc_vecs, titles)\n",
    "data = utils.visualize_eps_graph(title_dist_tuples=title_dist_tuples)\n",
    "import matplotlib.pyplot as plt\n",
    "%matplotlib inline\n",
    "import plotly.plotly as py\n",
    "import plotly.figure_factory as ff\n",
    "import plotly.tools as tls\n",
    "import plotly.graph_objs as go\n",
    "\n",
    "tls.set_credentials_file(username='D4nt3_', api_key='4O71urldgOueVtcApOdX')\n",
    "py.iplot(data, filename='aa')"
   ]
  },
  {
   "cell_type": "markdown",
   "metadata": {},
   "source": [
    "# Visualize results graphically"
   ]
  },
  {
   "cell_type": "code",
   "execution_count": 44,
   "metadata": {},
   "outputs": [
    {
     "data": {
      "text/html": [
       "<iframe id=\"igraph\" scrolling=\"no\" style=\"border:none;\" seamless=\"seamless\" src=\"https://plot.ly/~D4nt3_/2.embed\" height=\"525px\" width=\"100%\"></iframe>"
      ],
      "text/plain": [
       "<plotly.tools.PlotlyDisplay object>"
      ]
     },
     "execution_count": 44,
     "metadata": {},
     "output_type": "execute_result"
    }
   ],
   "source": [
    "import plotly.plotly as py\n",
    "import plotly.tools as tls\n",
    "import plotly.graph_objs as go\n",
    "# using my api-key\n",
    "tls.set_credentials_file(username='D4nt3_', api_key='4O71urldgOueVtcApOdX')\n",
    "graph_name = 'model_eval_result_3_cl'\n",
    "\n",
    "model_descr = [model.comment for model in models]\n",
    "# plot test-accuracy results, plus silhoutte scores (times 100, since all the values are in between 0-1)\n",
    "trace0 = go.Bar(\n",
    "    x = model_descr,\n",
    "    y = models_precision,\n",
    "    name='Precision',\n",
    "    marker=dict(\n",
    "        color='rgb(49,130,189)'\n",
    "    )\n",
    ")\n",
    "\n",
    "trace1 = go.Bar(\n",
    "    x = model_descr,\n",
    "    y = models_recall,\n",
    "    name='Recall',\n",
    "    marker=dict(\n",
    "        color='rgb(155, 244, 66)',\n",
    "    )\n",
    "    \n",
    ")\n",
    "# precision, recall, silhoutte\n",
    "data = [trace0, trace1]\n",
    "layout = go.Layout(\n",
    "    title = 'Clustering Accuracy Results',\n",
    "    xaxis=dict(\n",
    "        tickfont=dict(\n",
    "            size=10,\n",
    "            color='rgb(107, 107, 107)',\n",
    "            \n",
    "        ),\n",
    "        tickangle = -45\n",
    "    ),\n",
    "    yaxis=dict(\n",
    "        title='Clustering accuracy (%)',\n",
    "        titlefont=dict(\n",
    "            size=16,\n",
    "            color='rgb(107, 107, 107)'\n",
    "        ),\n",
    "        tickfont=dict(\n",
    "            size=14,\n",
    "            color='rgb(107, 107, 107)'\n",
    "        )\n",
    "    ),\n",
    "   \n",
    "    barmode='group',\n",
    "    bargap=0.2,\n",
    "    bargroupgap=0.1\n",
    ")\n",
    "\n",
    "fig = go.Figure(data=data, layout=layout)\n",
    "py.iplot(fig, filename=graph_name)"
   ]
  },
  {
   "cell_type": "markdown",
   "metadata": {},
   "source": [
    "# Silhoutte score\n",
    "Silhouette coefficient combines ideas of both cohesion and separation, \n",
    "but for individual points, as well as clusters and \n",
    "clusterings; the Silhouette Coefficient is calculated using the mean intra-cluster distance (a) and the mean nearest-cluster distance (b) for each sample.\n",
    "The Silhoutte score is merely the average of each silhoutte coefficient, computed over each sample.\n",
    "It's a measure of the goodness of clustering, by assuming the fact that a cluster X is defined good if both every sample inside it is close to each other, and far from any other relatively-near cluster Y.\n",
    "This is not necessarily true for every shape of cluster.\n",
    "\n",
    "    The best value is 1 and the worst value is -1. Values near 0 indicate overlapping clusters."
   ]
  },
  {
   "cell_type": "code",
   "execution_count": 15,
   "metadata": {
    "scrolled": false
   },
   "outputs": [
    {
     "ename": "KeyError",
     "evalue": "'url'",
     "output_type": "error",
     "traceback": [
      "\u001b[0;31m---------------------------------------------------------------------------\u001b[0m",
      "\u001b[0;31mKeyError\u001b[0m                                  Traceback (most recent call last)",
      "\u001b[0;32m<ipython-input-15-571257437e27>\u001b[0m in \u001b[0;36m<module>\u001b[0;34m()\u001b[0m\n\u001b[1;32m     16\u001b[0m         \u001b[0mnoise\u001b[0m \u001b[0;34m=\u001b[0m \u001b[0;32mTrue\u001b[0m\u001b[0;34m\u001b[0m\u001b[0m\n\u001b[1;32m     17\u001b[0m         \u001b[0;32mfor\u001b[0m \u001b[0mi\u001b[0m\u001b[0;34m,\u001b[0m \u001b[0murl_list\u001b[0m \u001b[0;32min\u001b[0m \u001b[0menumerate\u001b[0m\u001b[0;34m(\u001b[0m\u001b[0murls_cluster_list\u001b[0m\u001b[0;34m)\u001b[0m\u001b[0;34m:\u001b[0m\u001b[0;34m\u001b[0m\u001b[0m\n\u001b[0;32m---> 18\u001b[0;31m             \u001b[0;32mif\u001b[0m\u001b[0;34m(\u001b[0m\u001b[0mdoc\u001b[0m\u001b[0;34m[\u001b[0m\u001b[0;34m'url'\u001b[0m\u001b[0;34m]\u001b[0m \u001b[0;32min\u001b[0m \u001b[0murl_list\u001b[0m\u001b[0;34m)\u001b[0m\u001b[0;34m:\u001b[0m\u001b[0;34m\u001b[0m\u001b[0m\n\u001b[0m\u001b[1;32m     19\u001b[0m                 \u001b[0mlabels\u001b[0m\u001b[0;34m.\u001b[0m\u001b[0mappend\u001b[0m\u001b[0;34m(\u001b[0m\u001b[0mi\u001b[0m\u001b[0;34m)\u001b[0m \u001b[0;31m# keep cluster id\u001b[0m\u001b[0;34m\u001b[0m\u001b[0m\n\u001b[1;32m     20\u001b[0m                 \u001b[0mnoise\u001b[0m \u001b[0;34m=\u001b[0m \u001b[0;32mFalse\u001b[0m\u001b[0;34m\u001b[0m\u001b[0m\n",
      "\u001b[0;31mKeyError\u001b[0m: 'url'"
     ]
    }
   ],
   "source": [
    "from sklearn.metrics import silhouette_score\n",
    "s_scores = []\n",
    "for model in models:\n",
    "    # get clusters for each model\n",
    "    doc_vecs = [model.docvecs[j] for j in range(len(model.docvecs))]\n",
    "    titles = [doc['title'] for doc in unwrapped_docs]\n",
    "    urls = [doc['url'] for doc in unwrapped_docs]\n",
    "    # apply dbscan clustering to these vectors\n",
    "    urls_cluster_list = my_dbscan.apply_dbscan(doc_vecs = doc_vecs, titles = titles, \n",
    "                                               urls = urls, subset_length = len(titles),\n",
    "                                                 eps = 0.27, eps_increment = 0.1, n_iterations = 3, verbose = False)\n",
    "    \n",
    "    # get cluster labels, mantaining original docs ordering\n",
    "    labels = []\n",
    "    for doc in unwrapped_docs:\n",
    "        noise = True\n",
    "        for i, url_list in enumerate(urls_cluster_list):\n",
    "            if(doc['url'] in url_list):\n",
    "                labels.append(i) # keep cluster id\n",
    "                noise = False\n",
    "        if noise:\n",
    "            labels.append(-1)\n",
    "    # make sure they have the same size\n",
    "    assert len(labels) == len(doc_vecs)\n",
    "    ss = silhouette_score(doc_vecs, labels , metric='cosine')\n",
    "    s_scores.append(ss)\n",
    "    print(ss)"
   ]
  },
  {
   "cell_type": "markdown",
   "metadata": {},
   "source": [
    "# Conclusions: \n",
    "A really low silhoutte score helps us identify models that tend to have very few cluster, hence not really recognizing differences between docs. This is fundamental, since test rules used so far prevent us from recognizing these kinds of models.\n",
    "Since silhoutte score is an average of silhoutte coefficients, smaller changes of values here may mean greater differences."
   ]
  }
 ],
 "metadata": {
  "kernelspec": {
   "display_name": "Python 3",
   "language": "python",
   "name": "python3"
  },
  "language_info": {
   "codemirror_mode": {
    "name": "ipython",
    "version": 3
   },
   "file_extension": ".py",
   "mimetype": "text/x-python",
   "name": "python",
   "nbconvert_exporter": "python",
   "pygments_lexer": "ipython3",
   "version": "3.6.5"
  }
 },
 "nbformat": 4,
 "nbformat_minor": 2
}

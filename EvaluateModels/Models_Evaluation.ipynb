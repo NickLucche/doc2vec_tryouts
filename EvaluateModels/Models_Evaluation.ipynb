{
 "cells": [
  {
   "cell_type": "markdown",
   "metadata": {},
   "source": [
    "# Try different models-compare clustering results over eval. set\n",
    "TODO: try different eps"
   ]
  },
  {
   "cell_type": "code",
   "execution_count": 47,
   "metadata": {},
   "outputs": [],
   "source": [
    "# load eval.set (duplicates free)\n",
    "import json\n",
    "filename = 'pre-clustered_docs_harder.json'\n",
    "with open(filename, 'r') as file:\n",
    "    cdocs = json.load(file)\n"
   ]
  },
  {
   "cell_type": "markdown",
   "metadata": {},
   "source": [
    "## Title+abstract models\n",
    "## TODO: lower case text"
   ]
  },
  {
   "cell_type": "code",
   "execution_count": 79,
   "metadata": {},
   "outputs": [
    {
     "name": "stdout",
     "output_type": "stream",
     "text": [
      "Doc2Vec(\"dm=0, vec = 100\",dbow,d100,n5,mc2,t4)\n",
      "Doc2Vec(\"dm=0, vec = 150, lower eps\",dbow,d150,n5,mc2,t4)\n",
      "Doc2Vec(\"dm=0, vec = 500\",dbow,d500,n5,mc2,t4)\n",
      "Doc2Vec(\"dm=0, vec = 800\",dbow,d800,n5,mc2,t4)\n",
      "Doc2Vec(\"dm=0, vec = 1000\",dbow,d1000,n5,mc2,t4)\n",
      "Doc2Vec(\"dm=1, vec=100, alpha=0.05\",dm/m,d100,n5,w10,mc2,t4)\n",
      "Doc2Vec(\"dm=1, vec=150, alpha=0.5, hs=1\",dm/m,d150,n5,w5,mc2,s0.001,t4)\n",
      "Doc2Vec(\"dm=1, vec=400, alpha=.05\",dm/m,d400,n5,w10,mc2,t4)\n",
      "Vocabulary created!\n",
      "Training Doc2Vec(\"dm=0, vec = 100\",dbow,d100,n5,mc2,t4)\n",
      "CPU times: user 1.8 s, sys: 12 ms, total: 1.81 s\n",
      "Wall time: 914 ms\n",
      "Training Doc2Vec(\"dm=0, vec = 150, lower eps\",dbow,d150,n5,mc2,t4)\n",
      "CPU times: user 2.02 s, sys: 4 ms, total: 2.02 s\n",
      "Wall time: 998 ms\n",
      "Training Doc2Vec(\"dm=0, vec = 500\",dbow,d500,n5,mc2,t4)\n",
      "CPU times: user 3.48 s, sys: 28 ms, total: 3.51 s\n",
      "Wall time: 1.62 s\n",
      "Training Doc2Vec(\"dm=0, vec = 800\",dbow,d800,n5,mc2,t4)\n",
      "CPU times: user 5.23 s, sys: 32 ms, total: 5.26 s\n",
      "Wall time: 2.36 s\n",
      "Training Doc2Vec(\"dm=0, vec = 1000\",dbow,d1000,n5,mc2,t4)\n",
      "CPU times: user 7.66 s, sys: 44 ms, total: 7.7 s\n",
      "Wall time: 3.43 s\n",
      "Training Doc2Vec(\"dm=1, vec=100, alpha=0.05\",dm/m,d100,n5,w10,mc2,t4)\n",
      "CPU times: user 3.07 s, sys: 16 ms, total: 3.09 s\n",
      "Wall time: 1.46 s\n",
      "Training Doc2Vec(\"dm=1, vec=150, alpha=0.5, hs=1\",dm/m,d150,n5,w5,mc2,s0.001,t4)\n",
      "CPU times: user 1.85 s, sys: 28 ms, total: 1.88 s\n",
      "Wall time: 952 ms\n",
      "Training Doc2Vec(\"dm=1, vec=400, alpha=.05\",dm/m,d400,n5,w10,mc2,t4)\n",
      "CPU times: user 5.42 s, sys: 44 ms, total: 5.46 s\n",
      "Wall time: 2.47 s\n"
     ]
    }
   ],
   "source": [
    "# train different models\n",
    "from gensim.utils import simple_preprocess as sp\n",
    "from gensim.models.doc2vec import Doc2Vec, TaggedDocument\n",
    "import multiprocessing\n",
    "\n",
    "unwrapped_docs = [doc for cluster in cdocs for doc in cluster]\n",
    "# title + abstract models\n",
    "train_corpus_ta = [ TaggedDocument(sp(doc['title'] + doc['abstract']) ,[i]) for i, doc in enumerate(unwrapped_docs)]\n",
    "epochs = 45\n",
    "vec_size = 100\n",
    "models = [\n",
    "    # dm = 0, simple SG, simpler model, most of the time efficient and accurate\n",
    "    Doc2Vec(dm=0, vector_size=100, negative=5, hs=0, min_count=2, sample=0, \n",
    "            epochs=45, workers=multiprocessing.cpu_count(), comment='dm=0, vec = 100'),\n",
    "    Doc2Vec(dm=0, vector_size=150, negative=5, hs=0, min_count=2, sample=0, \n",
    "            epochs=45, workers=multiprocessing.cpu_count(), comment='dm=0, vec = 150, lower eps'),\n",
    "    Doc2Vec(dm=0, vector_size=500, negative=5, hs=0, min_count=2, sample=0, \n",
    "            epochs=45, workers=multiprocessing.cpu_count(), comment='dm=0, vec = 500'),\n",
    "    Doc2Vec(dm=0, vector_size=800, negative=5, hs=0, min_count=2, sample=0, \n",
    "            epochs=45, workers=multiprocessing.cpu_count(), comment='dm=0, vec = 800'),\n",
    "    Doc2Vec(dm=0, vector_size=1000, negative=5, hs=0, min_count=2, sample=0, \n",
    "            epochs=45, workers=multiprocessing.cpu_count(), comment='dm=0, vec = 1000'),\n",
    "    # dm = 1, CBOW equivalent \n",
    "    Doc2Vec(dm=1, vector_size= 100, window=10, negative=5, hs=0, min_count=2, sample=0, \n",
    "            epochs = epochs, workers=multiprocessing.cpu_count(), alpha= 0.05, comment='dm=1, vec=100, alpha=0.05'),\n",
    "    Doc2Vec(dm=1, vector_size= 150, min_count=2,epochs = epochs, \n",
    "            workers=multiprocessing.cpu_count(), alpha= 0.5, comment='dm=1, vec=150, alpha=0.5, hs=1'),\n",
    "    Doc2Vec(dm=1, vector_size= 400, window=10, negative=5, hs=0, min_count=2, sample=0, \n",
    "            epochs = epochs, workers=multiprocessing.cpu_count(), alpha= 0.05, comment='dm=1, vec=400, alpha=.05')\n",
    "]\n",
    "\n",
    "# build our vocabulary of words (all the unique words encountered inside our corpus)\n",
    "for model in models:\n",
    "    print(model)\n",
    "    model.build_vocab(train_corpus_ta)\n",
    "print(\"Vocabulary created!\")\n",
    "\n",
    "# train the models on the given data!\n",
    "counter = 0\n",
    "for model in models:\n",
    "    print(\"Training %s\" % model)\n",
    "    %time model.train(train_corpus_ta, total_examples=len(train_corpus_ta), epochs=model.epochs)\n",
    "    #model.save(MODEL_NAME+str(counter)+'.model')\n",
    "    counter = counter + 1\n",
    "#print(\"Models Saved\")"
   ]
  },
  {
   "cell_type": "markdown",
   "metadata": {},
   "source": [
    "# Evaluate Clustering"
   ]
  },
  {
   "cell_type": "code",
   "execution_count": 90,
   "metadata": {
    "scrolled": false
   },
   "outputs": [
    {
     "name": "stdout",
     "output_type": "stream",
     "text": [
      "Results occurences:  [(3, 0), (3, 1), (3, 2), (2, 3), (11, 4), (9, 6), (2, 1), (4, 0), (5, 7), (4, 7)]\n",
      "Accuracy over each cluster:  [75.0, 100.0, 100.0, 100.0, 61.111111111111114, 100.0, 66.66666666666667, 100.0, 50.0, 66.66666666666667]\n",
      "81.94444444444443\n",
      "#Number of clusters found: 11, against number of pre-computed clusters: 10#\n",
      "\n",
      "Results occurences:  [(2, 0), (3, 1), (3, 2), (2, 3), (9, 4), (7, 6), (1, 13), (3, 0), (4, 7), (4, 10)]\n",
      "Accuracy over each cluster:  [50.0, 100.0, 100.0, 100.0, 50.0, 77.77777777777777, 0, 75.0, 40.0, 66.66666666666667]\n",
      "65.94444444444444\n",
      "#Number of clusters found: 14, against number of pre-computed clusters: 10#\n",
      "\n",
      "Results occurences:  [(3, 0), (3, 0), (3, 0), (2, 1), (15, 2), (9, 3), (2, 0), (4, 0), (6, 4), (4, 4)]\n",
      "Accuracy over each cluster:  [75.0, 100.0, 100.0, 100.0, 83.33333333333333, 100.0, 66.66666666666667, 100.0, 60.0, 66.66666666666667]\n",
      "85.16666666666666\n",
      "#Number of clusters found: 7, against number of pre-computed clusters: 10#\n",
      "\n",
      "Results occurences:  [(4, 0), (3, 0), (3, 0), (2, 1), (15, 2), (9, 3), (2, 0), (4, 0), (5, 4), (4, 4)]\n",
      "Accuracy over each cluster:  [100.0, 100.0, 100.0, 100.0, 83.33333333333333, 100.0, 66.66666666666667, 100.0, 50.0, 66.66666666666667]\n",
      "86.66666666666666\n",
      "#Number of clusters found: 7, against number of pre-computed clusters: 10#\n",
      "\n",
      "Results occurences:  [(4, 0), (3, 0), (3, 0), (2, 1), (15, 2), (9, 3), (2, 0), (4, 0), (5, 4), (4, 4)]\n",
      "Accuracy over each cluster:  [100.0, 100.0, 100.0, 100.0, 83.33333333333333, 100.0, 66.66666666666667, 100.0, 50.0, 66.66666666666667]\n",
      "86.66666666666666\n",
      "#Number of clusters found: 7, against number of pre-computed clusters: 10#\n",
      "\n",
      "Results occurences:  [(4, 0), (3, 0), (3, 0), (2, 1), (12, 2), (8, 4), (2, 0), (4, 0), (5, 2), (5, 2)]\n",
      "Accuracy over each cluster:  [100.0, 100.0, 100.0, 100.0, 66.66666666666667, 88.88888888888889, 66.66666666666667, 100.0, 50.0, 83.33333333333333]\n",
      "85.55555555555556\n",
      "#Number of clusters found: 8, against number of pre-computed clusters: 10#\n",
      "\n",
      "Results occurences:  [(3, 2), (2, 0), (2, 0), (2, 0), (16, 0), (6, 0), (2, 0), (4, 0), (8, 0), (6, 0)]\n",
      "Accuracy over each cluster:  [75.0, 66.66666666666667, 66.66666666666667, 100.0, 88.88888888888889, 66.66666666666667, 66.66666666666667, 100.0, 80.0, 100.0]\n",
      "81.05555555555557\n",
      "#Number of clusters found: 3, against number of pre-computed clusters: 10#\n",
      "\n",
      "Results occurences:  [(4, 0), (3, 0), (3, 0), (2, 1), (12, 2), (8, 3), (2, 0), (4, 0), (5, 4), (6, 4)]\n",
      "Accuracy over each cluster:  [100.0, 100.0, 100.0, 100.0, 66.66666666666667, 88.88888888888889, 66.66666666666667, 100.0, 50.0, 100.0]\n",
      "87.22222222222221\n",
      "#Number of clusters found: 8, against number of pre-computed clusters: 10#\n",
      "\n"
     ]
    }
   ],
   "source": [
    "import utils\n",
    "import my_dbscan\n",
    "import model_evaluation as me\n",
    "\n",
    "models_accuracy = []\n",
    "for k, model in enumerate(models):\n",
    "    # try different eps for some model\n",
    "    if k == 1:\n",
    "        eps = 0.19\n",
    "        eps_increment = 0.12\n",
    "    else:\n",
    "        eps = 0.27\n",
    "        eps_increment = 0.1\n",
    "    # get list of document vectors\n",
    "    doc_vecs = [model.docvecs[j] for j in range(len(model.docvecs))]\n",
    "    titles = [doc['title'] for doc in unwrapped_docs]\n",
    "    urls = [doc['url'] for doc in unwrapped_docs]\n",
    "    # apply dbscan clustering to these vectors\n",
    "    urls_cluster_list = my_dbscan.apply_dbscan(doc_vecs = doc_vecs, titles = titles, \n",
    "                                               urls = urls, subset_length = len(titles),\n",
    "                                                 eps = eps, eps_increment = eps_increment, n_iterations = 3, verbose = False)\n",
    "    # get clusters as list of titles\n",
    "    titles_clusters = utils.getDocTitleFromUrl(unwrapped_docs, urls_cluster_list)\n",
    "    #data = utils.plot_clusters(titles_clusters)\n",
    "    # evaluate clustering\n",
    "    expected_clusters = []\n",
    "    for docs in cdocs:\n",
    "        expected_clusters.append([doc['title'] for doc in docs])\n",
    "    accuracy = me.compute_clustering_accuracy(titles_clusters, expected_clusters)\n",
    "    print(accuracy)\n",
    "    models_accuracy.append(accuracy)\n",
    "    # last check: we want to penalize models that simply cluster all docs together (that's not a valid result)\n",
    "    # since the test rules does not prevent this\n",
    "    print(\"#Number of clusters found: {0}, against number of pre-computed clusters: {1}#\\n\".format(\n",
    "        len(urls_cluster_list), len(cdocs))) "
   ]
  },
  {
   "cell_type": "markdown",
   "metadata": {},
   "source": [
    "# Visualize results graphically"
   ]
  },
  {
   "cell_type": "code",
   "execution_count": 92,
   "metadata": {},
   "outputs": [
    {
     "data": {
      "text/html": [
       "<iframe id=\"igraph\" scrolling=\"no\" style=\"border:none;\" seamless=\"seamless\" src=\"https://plot.ly/~D4nt3/76.embed\" height=\"525px\" width=\"100%\"></iframe>"
      ],
      "text/plain": [
       "<plotly.tools.PlotlyDisplay object>"
      ]
     },
     "execution_count": 92,
     "metadata": {},
     "output_type": "execute_result"
    }
   ],
   "source": [
    "import plotly.plotly as py\n",
    "import plotly.tools as tls\n",
    "import plotly.graph_objs as go\n",
    "# using my api-key\n",
    "tls.set_credentials_file(username='D4nt3', api_key='FdMB4O6qCfciGDOnLvdQ')\n",
    "graph_name = 'model_eval_results'\n",
    "\n",
    "model_descr = [model.comment for model in models]\n",
    "# plot test-accuracy results, plus silhoutte scores (times 100, since the value is in between 0-1)\n",
    "trace0 = go.Bar(\n",
    "    x = model_descr,\n",
    "    y = models_accuracy,\n",
    "    name='Clustering Accuracy',\n",
    "    marker=dict(\n",
    "        color='rgb(49,130,189)'\n",
    "    )\n",
    ")\n",
    "trace1 = go.Bar(\n",
    "    x = model_descr,\n",
    "    y = [s*100 for s in s_scores],\n",
    "    name='Silhoutte score',\n",
    "    marker=dict(\n",
    "        color='rgb(204,50,100)',\n",
    "    )\n",
    "    \n",
    ")\n",
    "\n",
    "data = [trace0, trace1]\n",
    "layout = go.Layout(\n",
    "    title = 'Clustering Accuracy Results',\n",
    "    xaxis=dict(\n",
    "        tickfont=dict(\n",
    "            size=10,\n",
    "            color='rgb(107, 107, 107)',\n",
    "            \n",
    "        ),\n",
    "        tickangle = -45\n",
    "    ),\n",
    "    yaxis=dict(\n",
    "        title='Clustering accuracy (%)',\n",
    "        titlefont=dict(\n",
    "            size=16,\n",
    "            color='rgb(107, 107, 107)'\n",
    "        ),\n",
    "        tickfont=dict(\n",
    "            size=14,\n",
    "            color='rgb(107, 107, 107)'\n",
    "        )\n",
    "    ),\n",
    "   \n",
    "    barmode='group',\n",
    "    bargap=0.2,\n",
    "    bargroupgap=0.1\n",
    ")\n",
    "\n",
    "fig = go.Figure(data=data, layout=layout)\n",
    "py.iplot(fig, filename=graph_name)"
   ]
  },
  {
   "cell_type": "markdown",
   "metadata": {},
   "source": [
    "# Silhoutte score\n",
    "Silhouette coefficient combines ideas of both cohesion and separation, \n",
    "but for individual points, as well as clusters and \n",
    "clusterings; the Silhouette Coefficient is calculated using the mean intra-cluster distance (a) and the mean nearest-cluster distance (b) for each sample.\n",
    "The Silhoutte score is merely the average of each silhoutte coefficient, computed over each sample.\n",
    "It's a measure of the goodness of clustering, by assuming the fact that a cluster X is defined good if both every sample inside it is close to each other, and far from any other relatively-near cluster Y.\n",
    "This is not necessarily true for every shape of cluster.\n",
    "\n",
    "    The best value is 1 and the worst value is -1. Values near 0 indicate overlapping clusters."
   ]
  },
  {
   "cell_type": "code",
   "execution_count": 91,
   "metadata": {
    "scrolled": false
   },
   "outputs": [
    {
     "name": "stdout",
     "output_type": "stream",
     "text": [
      "0.24077336\n",
      "0.21106187\n",
      "0.22541517\n",
      "0.23410366\n",
      "0.23638208\n",
      "0.11957765\n",
      "0.0999626\n",
      "0.16403265\n"
     ]
    }
   ],
   "source": [
    "from sklearn.metrics import silhouette_score\n",
    "s_scores = []\n",
    "for model in models:\n",
    "    # get clusters for each model\n",
    "    doc_vecs = [model.docvecs[j] for j in range(len(model.docvecs))]\n",
    "    titles = [doc['title'] for doc in unwrapped_docs]\n",
    "    urls = [doc['url'] for doc in unwrapped_docs]\n",
    "    # apply dbscan clustering to these vectors\n",
    "    urls_cluster_list = my_dbscan.apply_dbscan(doc_vecs = doc_vecs, titles = titles, \n",
    "                                               urls = urls, subset_length = len(titles),\n",
    "                                                 eps = 0.27, eps_increment = 0.1, n_iterations = 3, verbose = False)\n",
    "    \n",
    "    # get cluster labels, mantaining original docs ordering\n",
    "    labels = []\n",
    "    for doc in unwrapped_docs:\n",
    "        noise = True\n",
    "        for i, url_list in enumerate(urls_cluster_list):\n",
    "            if(doc['url'] in url_list):\n",
    "                labels.append(i) # keep cluster id\n",
    "                noise = False\n",
    "        if noise:\n",
    "            labels.append(-1)\n",
    "    # make sure they have the same size\n",
    "    assert len(labels) == len(doc_vecs)\n",
    "    ss = silhouette_score(doc_vecs, labels , metric='cosine')\n",
    "    s_scores.append(ss)\n",
    "    print(ss)"
   ]
  },
  {
   "cell_type": "markdown",
   "metadata": {},
   "source": [
    "# Conclusions: \n",
    "A really low silhoutte score helps us identify models that tend to have very few cluster, hence not really recognizing differences between docs. This is fundamental, since test rules used so far prevent us from recognizing these kinds of models.\n",
    "Since silhoutte score is an average of silhoutte coefficients, smaller changes of values here may mean greater differences."
   ]
  }
 ],
 "metadata": {
  "kernelspec": {
   "display_name": "Python 3",
   "language": "python",
   "name": "python3"
  },
  "language_info": {
   "codemirror_mode": {
    "name": "ipython",
    "version": 3
   },
   "file_extension": ".py",
   "mimetype": "text/x-python",
   "name": "python",
   "nbconvert_exporter": "python",
   "pygments_lexer": "ipython3",
   "version": "3.6.5"
  }
 },
 "nbformat": 4,
 "nbformat_minor": 2
}

{
 "cells": [
  {
   "cell_type": "markdown",
   "metadata": {},
   "source": [
    "# Try different models-compare clustering results over eval. set\n",
    "TODO: try different eps"
   ]
  },
  {
   "cell_type": "code",
   "execution_count": 2,
   "metadata": {},
   "outputs": [
    {
     "name": "stdout",
     "output_type": "stream",
     "text": [
      "#Number of clusters: 10\n",
      "##Cluster length: ['4', '3', '3', '2', '10', '9', '3', '4', '10', '6']\n",
      "### Doc length:  [2210, 468, 2675, 1694, 1947, 1761, 1575, 1812, 1967, 2672, 2588, 2933, 950, 2218, 5673, 3585, 9133, 941, 1467, 9253, 2409, 2247, 3021, 1083, 1003, 1564, 2256, 1198, 2015, 8371, 1183, 3088, 1240, 1200, 1172, 1869, 2315, 3287, 1997, 2162, 2764, 996, 930, 877, 4216, 2068, 1992, 11060, 1157, 1350, 1225, 1978, 5780, 7297]\n"
     ]
    }
   ],
   "source": [
    "# load eval.set (duplicates free)\n",
    "import json\n",
    "filename = 'pre-clustered_docs_harder.json'\n",
    "with open(filename, 'r') as file:\n",
    "    cdocs = json.load(file)\n",
    "print(\"#Number of clusters:\",len(cdocs))\n",
    "print(\"##Cluster length:\",[str(len(cluster)) for cluster in cdocs])\n",
    "print(\"### Doc length: \",[len(doc['title']+doc['abstract']) for cluster in cdocs for doc in cluster \n",
    "                          if not(doc['abstract'] is None)])"
   ]
  },
  {
   "cell_type": "markdown",
   "metadata": {},
   "source": [
    "## Title+abstract models\n",
    "## TODO: lower case text"
   ]
  },
  {
   "cell_type": "code",
   "execution_count": 3,
   "metadata": {},
   "outputs": [
    {
     "name": "stdout",
     "output_type": "stream",
     "text": [
      "Model loaded\n",
      "Doc2Vec(\"dm=0, vec = 100\",dbow,d100,n5,mc2,t4) -VocabSize: 2104\n",
      "Doc2Vec(\"dm=0, vec = 500\",dbow,d500,n5,mc2,t4) -VocabSize: 2104\n",
      "Doc2Vec(\"dm=0, vec = 800\",dbow,d800,n5,mc2,t4) -VocabSize: 2104\n",
      "Doc2Vec(\"dm=0, vec = 800, negative=12\",dbow,d800,n12,mc2,t4) -VocabSize: 2104\n",
      "Doc2Vec(\"dm=1, vec=100, alpha=0.05\",dm/m,d100,n5,w10,mc2,t4) -VocabSize: 2104\n",
      "Doc2Vec(\"dm=1, vec=150, alpha=0.5, hs=1\",dm/m,d150,n5,w5,mc2,s0.001,t4) -VocabSize: 2104\n",
      "Doc2Vec(\"dm=1, vec=500, lower eps, min_pts=3\",dm/m,d500,n5,w10,mc2,t4) -VocabSize: 2104\n",
      "Doc2Vec(\"dm=1, vec=500, alpha=.05\",dm/m,d500,n5,w10,mc2,t4) -VocabSize: 2104\n",
      "Vocabulary created!\n",
      "Training Doc2Vec(\"dm=0, vec = 100\",dbow,d100,n5,mc2,t4)\n",
      "CPU times: user 1.94 s, sys: 40 ms, total: 1.98 s\n",
      "Wall time: 1.15 s\n",
      "Training Doc2Vec(\"dm=0, vec = 500\",dbow,d500,n5,mc2,t4)\n",
      "CPU times: user 3.58 s, sys: 60 ms, total: 3.64 s\n",
      "Wall time: 1.89 s\n",
      "Training Doc2Vec(\"dm=0, vec = 800\",dbow,d800,n5,mc2,t4)\n",
      "CPU times: user 4.41 s, sys: 56 ms, total: 4.47 s\n",
      "Wall time: 2.17 s\n",
      "Training Doc2Vec(\"dm=0, vec = 800, negative=12\",dbow,d800,n12,mc2,t4)\n",
      "CPU times: user 9.5 s, sys: 56 ms, total: 9.56 s\n",
      "Wall time: 4.56 s\n",
      "Training Doc2Vec(\"dm=1, vec=100, alpha=0.05\",dm/m,d100,n5,w10,mc2,t4)\n",
      "CPU times: user 3.12 s, sys: 40 ms, total: 3.16 s\n",
      "Wall time: 1.64 s\n",
      "Training Doc2Vec(\"dm=1, vec=150, alpha=0.5, hs=1\",dm/m,d150,n5,w5,mc2,s0.001,t4)\n",
      "CPU times: user 2.22 s, sys: 44 ms, total: 2.26 s\n",
      "Wall time: 1.28 s\n",
      "Training Doc2Vec(\"dm=1, vec=500, lower eps, min_pts=3\",dm/m,d500,n5,w10,mc2,t4)\n",
      "CPU times: user 6.1 s, sys: 48 ms, total: 6.15 s\n",
      "Wall time: 3.04 s\n",
      "Training Doc2Vec(\"dm=1, vec=500, alpha=.05\",dm/m,d500,n5,w10,mc2,t4)\n",
      "CPU times: user 5.65 s, sys: 60 ms, total: 5.71 s\n",
      "Wall time: 2.82 s\n"
     ]
    }
   ],
   "source": [
    "# train different models\n",
    "from gensim.utils import simple_preprocess as sp\n",
    "from gensim.models.doc2vec import Doc2Vec, TaggedDocument\n",
    "import multiprocessing\n",
    "\n",
    "unwrapped_docs = [doc for cluster in cdocs for doc in cluster]\n",
    "# title + abstract models\n",
    "train_corpus_ta = [ TaggedDocument(sp(doc['title'] + doc['abstract']) ,[i]) for i, doc in enumerate(unwrapped_docs)]\n",
    "epochs = 45\n",
    "vec_size = 100\n",
    "models = [\n",
    "    # dm = 0, simple SG, simpler model, most of the time efficient and accurate\n",
    "    Doc2Vec(dm=0, vector_size=100, negative=5, hs=0, min_count=2, sample=0, \n",
    "            epochs=45, workers=multiprocessing.cpu_count(), comment='dm=0, vec = 100'),\n",
    "    Doc2Vec(dm=0, vector_size=500, negative=5, hs=0, min_count=2, sample=0, \n",
    "            epochs=45, workers=multiprocessing.cpu_count(), comment='dm=0, vec = 500'),\n",
    "    Doc2Vec(dm=0, vector_size=800, negative=5, hs=0, min_count=2, sample=0, \n",
    "            epochs=45, workers=multiprocessing.cpu_count(), comment='dm=0, vec = 800'),\n",
    "    Doc2Vec(dm=0, vector_size=800, negative=12, hs=0, min_count=2, sample=0, \n",
    "            epochs=40, workers=multiprocessing.cpu_count(), comment='dm=0, vec = 800, negative=12'),\n",
    "    # dm = 1, CBOW equivalent \n",
    "    Doc2Vec(dm=1, vector_size= 100, window=10, negative=5, hs=0, min_count=2, sample=0, \n",
    "            epochs = epochs, workers=multiprocessing.cpu_count(), alpha= 0.05, comment='dm=1, vec=100, alpha=0.05'),\n",
    "    Doc2Vec(dm=1, vector_size= 150, min_count=2,epochs = epochs, \n",
    "            workers=multiprocessing.cpu_count(), alpha= 0.5, comment='dm=1, vec=150, alpha=0.5, hs=1'),\n",
    "    Doc2Vec(dm=1, vector_size= 500, window=10, negative=5, hs=0, min_count=2, sample=0, \n",
    "            epochs = epochs, workers=multiprocessing.cpu_count(), alpha= 0.05, comment='dm=1, vec=500, lower eps, min_pts=3'),\n",
    "    Doc2Vec(dm=1, vector_size= 500, window=10, negative=5, hs=0, min_count=2, sample=0, \n",
    "            epochs = epochs, workers=multiprocessing.cpu_count(), alpha= 0.05, comment='dm=1, vec=500, alpha=.05')\n",
    "]\n",
    "# also evaluate result on currently used model\n",
    "loaded_model = Doc2Vec.load('/home/nick/anaconda3/bin/Tirocinio/doc2vec_tryouts/Models_Live_Test/d2v_abstract&title0.model')\n",
    "print(\"Model loaded\")\n",
    "\n",
    "# build our vocabulary of words (all the unique words encountered inside our corpus)\n",
    "for model in models:\n",
    "    model.build_vocab(train_corpus_ta)\n",
    "    print(model, \"-VocabSize:\", len(model.wv.vocab))\n",
    "print(\"Vocabulary created!\")\n",
    "\n",
    "# train the models on the given data!\n",
    "counter = 0\n",
    "for model in models:\n",
    "    print(\"Training %s\" % model)\n",
    "    %time model.train(train_corpus_ta, total_examples=len(train_corpus_ta), epochs=model.epochs)\n",
    "    #model.save(MODEL_NAME+str(counter)+'.model')\n",
    "    counter = counter + 1\n",
    "#print(\"Models Saved\")"
   ]
  },
  {
   "cell_type": "markdown",
   "metadata": {},
   "source": [
    "# Evaluate Clustering"
   ]
  },
  {
   "cell_type": "code",
   "execution_count": 4,
   "metadata": {
    "scrolled": false
   },
   "outputs": [
    {
     "name": "stdout",
     "output_type": "stream",
     "text": [
      "Results occurences(correct guess, cluster index):  [(3, 7), (2, 0), (2, 1), (2, 8), (3, 9), (4, 4), (2, 12), (3, 5), (3, 10), (3, 10)]\n",
      "Accuracy (Precision) over each cluster:  [100.0, 66.66666666666667, 100.0, 100.0, 100.0, 100.0, 50.0, 100.0, 50.0, 50.0]\n",
      "Accuracy (Recall) over each cluster:  [75.0, 66.66666666666667, 66.66666666666667, 100.0, 30.0, 44.44444444444444, 66.66666666666667, 75.0, 30.0, 50.0]\n",
      "Precision score: 81.66666666666667, Recall score: 60.44444444444446\n",
      "#Number of clusters found: 14, against number of pre-computed clusters: 10#\n",
      "\n",
      "Results occurences(correct guess, cluster index):  [(3, 9), (3, 0), (2, 1), (2, 2), (5, 10), (4, 5), (2, 14), (3, 6), (3, 11), (2, 13)]\n",
      "Accuracy (Precision) over each cluster:  [75.0, 75.0, 100.0, 100.0, 100.0, 100.0, 50.0, 100.0, 100.0, 100.0]\n",
      "Accuracy (Recall) over each cluster:  [75.0, 100.0, 66.66666666666667, 100.0, 50.0, 44.44444444444444, 66.66666666666667, 75.0, 30.0, 33.333333333333336]\n",
      "Precision score: 90.0, Recall score: 64.11111111111111\n",
      "#Number of clusters found: 17, against number of pre-computed clusters: 10#\n",
      "\n",
      "Results occurences(correct guess, cluster index):  [(2, 12), (3, 1), (3, 2), (2, 3), (5, 9), (4, 6), (2, 12), (3, 7), (3, 8), (4, 10)]\n",
      "Accuracy (Precision) over each cluster:  [25.0, 75.0, 100.0, 100.0, 100.0, 100.0, 25.0, 100.0, 100.0, 66.66666666666667]\n",
      "Accuracy (Recall) over each cluster:  [50.0, 100.0, 100.0, 100.0, 50.0, 44.44444444444444, 66.66666666666667, 75.0, 30.0, 66.66666666666667]\n",
      "Precision score: 79.16666666666666, Recall score: 68.27777777777777\n",
      "#Number of clusters found: 15, against number of pre-computed clusters: 10#\n",
      "\n",
      "Results occurences(correct guess, cluster index):  [(2, 10), (3, 0), (2, 1), (2, 6), (5, 7), (6, 3), (2, 0), (3, 4), (4, 5), (2, 9)]\n",
      "Accuracy (Precision) over each cluster:  [50.0, 42.857142857142854, 100.0, 100.0, 100.0, 100.0, 28.571428571428573, 100.0, 66.66666666666667, 100.0]\n",
      "Accuracy (Recall) over each cluster:  [50.0, 100.0, 66.66666666666667, 100.0, 50.0, 66.66666666666667, 66.66666666666667, 75.0, 40.0, 33.333333333333336]\n",
      "Precision score: 78.80952380952381, Recall score: 64.83333333333334\n",
      "#Number of clusters found: 15, against number of pre-computed clusters: 10#\n",
      "\n",
      "Results occurences(correct guess, cluster index):  [(4, 6), (3, 6), (2, 0), (2, 1), (3, 9), (5, 4), (2, 12), (4, 5), (3, 11), (4, 11)]\n",
      "Accuracy (Precision) over each cluster:  [44.44444444444444, 33.333333333333336, 100.0, 100.0, 100.0, 100.0, 100.0, 100.0, 42.857142857142854, 57.142857142857146]\n",
      "Accuracy (Recall) over each cluster:  [100.0, 100.0, 66.66666666666667, 100.0, 30.0, 55.55555555555556, 66.66666666666667, 100.0, 30.0, 66.66666666666667]\n",
      "Precision score: 77.77777777777779, Recall score: 71.55555555555556\n",
      "#Number of clusters found: 14, against number of pre-computed clusters: 10#\n",
      "\n",
      "Results occurences(correct guess, cluster index):  [(2, 3), (2, 0), (3, 3), (2, 6), (4, 2), (3, 5), (1, 7), (3, 6), (4, 2), (2, 2)]\n",
      "Accuracy (Precision) over each cluster:  [33.333333333333336, 100.0, 50.0, 16.666666666666668, 33.333333333333336, 60.0, 0, 25.0, 33.333333333333336, 16.666666666666668]\n",
      "Accuracy (Recall) over each cluster:  [50.0, 66.66666666666667, 100.0, 100.0, 40.0, 33.333333333333336, 0, 75.0, 40.0, 33.333333333333336]\n",
      "Precision score: 36.833333333333336, Recall score: 53.833333333333336\n",
      "#Number of clusters found: 8, against number of pre-computed clusters: 10#\n",
      "\n",
      "Results occurences(correct guess, cluster index):  [(4, 3), (2, 0), (3, 3), (2, 6), (7, 4), (5, 1), (1, 7), (4, 2), (5, 7), (4, 5)]\n",
      "Accuracy (Precision) over each cluster:  [50.0, 66.66666666666667, 37.5, 40.0, 100.0, 100.0, 0, 100.0, 55.55555555555556, 50.0]\n",
      "Accuracy (Recall) over each cluster:  [100.0, 66.66666666666667, 100.0, 100.0, 70.0, 55.55555555555556, 0, 100.0, 50.0, 66.66666666666667]\n",
      "Precision score: 59.97222222222223, Recall score: 70.88888888888889\n",
      "#Number of clusters found: 8, against number of pre-computed clusters: 10#\n",
      "\n",
      "Results occurences(correct guess, cluster index):  [(4, 7), (2, 8), (2, 1), (2, 2), (3, 10), (6, 5), (1, 7), (4, 6), (5, 13), (4, 13)]\n",
      "Accuracy (Precision) over each cluster:  [66.66666666666667, 100.0, 100.0, 100.0, 100.0, 100.0, 0, 100.0, 55.55555555555556, 44.44444444444444]\n",
      "Accuracy (Recall) over each cluster:  [100.0, 66.66666666666667, 66.66666666666667, 100.0, 30.0, 66.66666666666667, 0, 100.0, 50.0, 66.66666666666667]\n",
      "Precision score: 76.66666666666667, Recall score: 64.66666666666666\n",
      "#Number of clusters found: 15, against number of pre-computed clusters: 10#\n",
      "\n",
      "Results occurences(correct guess, cluster index):  [(0, 5), (3, 4), (0, 5), (2, 1), (7, 4), (7, 4), (3, 4), (3, 4), (2, 4), (2, 4)]\n",
      "Accuracy (Precision) over each cluster:  [0, 11.11111111111111, 0, 100.0, 25.925925925925927, 25.925925925925927, 11.11111111111111, 11.11111111111111, 7.407407407407407, 7.407407407407407]\n",
      "Accuracy (Recall) over each cluster:  [0, 100.0, 0, 100.0, 70.0, 77.77777777777777, 100.0, 75.0, 20.0, 33.333333333333336]\n",
      "Precision score: 20.000000000000004, Recall score: 57.61111111111112\n",
      "#Number of clusters found: 6, against number of pre-computed clusters: 10#\n",
      "\n"
     ]
    }
   ],
   "source": [
    "import utils\n",
    "import my_dbscan\n",
    "import model_evaluation as me\n",
    "import importlib\n",
    "importlib.reload(me)\n",
    "\n",
    "models_recall = []\n",
    "models_precision = []\n",
    "clusters_found = [] # keep clusters results, they're useful later on\n",
    "min_s = 2 # min_samples\n",
    "for k, model in enumerate(models):\n",
    "    # try different eps for some model\n",
    "    if k == 1:\n",
    "        eps = 0.11\n",
    "        eps_increment = 0.13\n",
    "        min_s = 2\n",
    "    elif k==6:\n",
    "        eps = 0.11\n",
    "        eps_increment = 0.13\n",
    "        min_s = 3\n",
    "    else:\n",
    "        eps = 0.11\n",
    "        eps_increment = 0.13\n",
    "        min_s = 2\n",
    "    # get list of document vectors\n",
    "    doc_vecs = [model.docvecs[j] for j in range(len(model.docvecs))]\n",
    "    titles = [doc['title'] for doc in unwrapped_docs]\n",
    "    urls = [doc['url'] for doc in unwrapped_docs]\n",
    "    # apply dbscan clustering to these vectors\n",
    "    urls_cluster_list = my_dbscan.apply_dbscan(doc_vecs = doc_vecs, titles = titles, \n",
    "                                               urls = urls, subset_length = len(titles),\n",
    "                                                 eps = eps, eps_increment = eps_increment,\n",
    "                                               n_iterations = 3, verbose = False, min_samples = min_s)\n",
    "    # get clusters as list of titles\n",
    "    titles_clusters = utils.getDocTitleFromUrl(unwrapped_docs, urls_cluster_list)\n",
    "    clusters_found.append(titles_clusters)\n",
    "    #data = utils.plot_clusters(titles_clusters)\n",
    "    \n",
    "    # evaluate clustering\n",
    "    expected_clusters = []\n",
    "    for docs in cdocs:\n",
    "        expected_clusters.append([doc['title'] for doc in docs])\n",
    "    precision, recall = me.compute_clustering_accuracy(titles_clusters, expected_clusters)\n",
    "    print('Precision score: %s, Recall score: %s'%(precision, recall))\n",
    "    \n",
    "    models_precision.append(precision)\n",
    "    models_recall.append(recall)\n",
    "    # last check: we want to penalize models that simply cluster all docs together (that's not a valid result)\n",
    "    # that's way we have precision score\n",
    "    print(\"#Number of clusters found: {0}, against number of pre-computed clusters: {1}#\\n\".format(\n",
    "        len(urls_cluster_list), len(cdocs)))\n",
    "\n",
    "## loaded model\n",
    "inferred_vecs = [loaded_model.infer_vector(sp(doc['title']+doc['abstract'])) for doc in unwrapped_docs]\n",
    "urls_cluster_list = my_dbscan.apply_dbscan(doc_vecs = inferred_vecs, titles = titles, \n",
    "                                               urls = urls, subset_length = len(titles),\n",
    "                                                 eps = eps, eps_increment = eps_increment, n_iterations = 3, verbose = False)\n",
    "titles_clusters = utils.getDocTitleFromUrl(unwrapped_docs, urls_cluster_list)\n",
    "clusters_found.append(titles_clusters)\n",
    "# evaluate clustering\n",
    "expected_clusters = []\n",
    "for docs in cdocs:\n",
    "    expected_clusters.append([doc['title'] for doc in docs])\n",
    "precision, recall = me.compute_clustering_accuracy(titles_clusters, expected_clusters)\n",
    "print('Precision score: %s, Recall score: %s'%(precision, recall))\n",
    "models_precision.append(precision)\n",
    "models_recall.append(recall)\n",
    "print(\"#Number of clusters found: {0}, against number of pre-computed clusters: {1}#\\n\".format(\n",
    "    len(urls_cluster_list), len(cdocs)))"
   ]
  },
  {
   "cell_type": "code",
   "execution_count": 11,
   "metadata": {},
   "outputs": [
    {
     "name": "stdout",
     "output_type": "stream",
     "text": [
      "['SpaceX: ecco come saranno le basi umane su Marte', 'Elon Musk contro la NASA per terraformare Marte']\n",
      "['Decolla Facebook Dating, il Tinder di Menlo Park: primi test in Colombia - Repubblica.it', 'Facebook: Tinder nel mirino, novità di Instagram e Whatsapp - Corriere.it', 'Facebook Dating: ecco come funziona l’anti-Tinder di Zuckerberg - Corriere.it', 'Social e bambini: YouTube assume nuovi moderatori e Facebook lancia Messenger Kids - Corriere.it']\n",
      "['Tesla sotto indagine per colpa dei tweet di Elon Musk: crollo in Borsa - Corriere.it', 'Elon Musk denuciato per truffa, Tesla crolla in borsa - Wired', 'Tesla, Elon Musk lascia la presidenza']\n",
      "[\"L'equinozio d'autunno non è il 21 settembre: quest'anno arriva il 23 - Repubblica.it\", \"E' l'equinozio d'autunno - Spazio & Astronomia - ANSA.it\"]\n",
      "[\"iPhone Xs Max tira 3-4 volte più dell'Xs - Hi-tech - ANSA.it\", 'Apple lancia iPhone Xs e la versione Max: sempre più grandi, gli smartphone sono la nuova Tv - Corriere.it']\n",
      "['Fifa 19 contro Pes 2019: qual è il migliore quest’anno? Ecco la sfida giocata da noi - Corriere.it', 'Fifa 19, la prova in anteprima - Corriere.it']\n",
      "['FIFA 19 sui campi della Champions League', 'FIFA 19, annunciata la disponibilità della demo', \"FIFA 19: L'ora dei campioni, trailer di lancio\", \"FIFA 19 si mostra nel trailer L'Ora dei Campioni\"]\n",
      "['A spasso attorno alla Luna, SpaceX annuncia il primo turista spaziale - Corriere.it', 'SpaceX, i viaggi sulla Luna possono attendere', 'SpaceX porterà un uomo in orbita attorno alla Luna']\n",
      "['Samsung, i nuovi Galaxy J6+ e J4+ - Tlc - ANSA.it', 'Samsung Galaxy Note 9: la nuova S Pen', 'Notizie Samsung Galaxy Note 9']\n",
      "['Apple conferma \"per errore\" iPhone XS, XS Max e XR', 'iPhone XS: perché Apple ha nascosto il notch?', 'Problemi per iPhone XS e XS Max: «Non si caricano se il cavo è collegato mentre lo schermo è spento» - Corriere.it', 'iPhone XS appiana le rughe, protestano gli utenti', 'iPhone XS: proteste per la carica troppo lenta']\n",
      "['Samsung lancia il suo primo smartphone con tre fotocamere - La Stampa', 'Samsung, in arrivo uno smartphone con quattro fotocamere (e il primo con schermo pieghevole) - Corriere.it', \"Huawei Mate 20 Lite: un midrange dall'ottima autonomia. La recensione\", 'Huawei P Smart Plus: per lanciarlo alleanza tra i cinesi e Amazon. Con Emis Killa come testimonial - Corriere.it', 'Huawei P20 Pro: 3 fotocamere | Arrivano anche P20 e P20 Lite - Corriere.it', 'Huawei Mate 20 lite']\n",
      "['LetsApp, così Samsung fa avvicinare gli studenti al digitale - Corriere.it', 'Huawei: recensioni e novità']\n",
      "['Marte, il sottosuolo può avere ospitato la vita - Spazio & Astronomia - ANSA.it', 'NASA, dalla CO2 al glucosio su Marte', 'Apple iPhone Xs e Xs Max: è troppo caro?', 'YouTube Kids, lo streaming dei bambini in Italia', 'YouTube e i video con bambini «abusati» Google sotto accusa, ritirata la pubblicità - Corriere.it', 'SpaceX manderà Yusaku Maezawa sulla Luna', 'SmartThings: Samsung presenta un Tracker LTE', \"Samsung Bixby 2.0 supporterà anche l'italiano\"]\n",
      "['I miglioramenti di FIFA 19 per Nintendo Switch', 'FIFA 19: novità, uscita e prezzo']\n",
      "['FIFA 19, ecco i requisiti PC', 'Huawei MateBook X Pro']\n"
     ]
    }
   ],
   "source": [
    "for cluster in clusters_found[2]:\n",
    "    print(cluster)\n"
   ]
  },
  {
   "cell_type": "markdown",
   "metadata": {},
   "source": [
    "# Visualize results graphically"
   ]
  },
  {
   "cell_type": "code",
   "execution_count": 8,
   "metadata": {},
   "outputs": [
    {
     "data": {
      "text/html": [
       "<iframe id=\"igraph\" scrolling=\"no\" style=\"border:none;\" seamless=\"seamless\" src=\"https://plot.ly/~D4nt3/76.embed\" height=\"525px\" width=\"100%\"></iframe>"
      ],
      "text/plain": [
       "<plotly.tools.PlotlyDisplay object>"
      ]
     },
     "execution_count": 8,
     "metadata": {},
     "output_type": "execute_result"
    }
   ],
   "source": [
    "import plotly.plotly as py\n",
    "import plotly.tools as tls\n",
    "import plotly.graph_objs as go\n",
    "# using my api-key\n",
    "tls.set_credentials_file(username='D4nt3', api_key='FdMB4O6qCfciGDOnLvdQ')\n",
    "graph_name = 'model_eval_results'\n",
    "\n",
    "model_descr = [model.comment for model in models]\n",
    "# plot test-accuracy results, plus silhoutte scores (times 100, since all the values are in between 0-1)\n",
    "trace0 = go.Bar(\n",
    "    x = model_descr + ['loaded model'],\n",
    "    y = models_precision,\n",
    "    name='Precision',\n",
    "    marker=dict(\n",
    "        color='rgb(49,130,189)'\n",
    "    )\n",
    ")\n",
    "trace1 = go.Bar(\n",
    "    x = model_descr + ['loaded model'],\n",
    "    y = [s*100 for s in s_scores] + [0],\n",
    "    name='Silhoutte score',\n",
    "    marker=dict(\n",
    "        color='rgb(204,50,100)',\n",
    "    )\n",
    "    \n",
    ")\n",
    "\n",
    "trace2 = go.Bar(\n",
    "    x = model_descr + ['loaded model'],\n",
    "    y = models_recall,\n",
    "    name='Recall',\n",
    "    marker=dict(\n",
    "        color='rgb(155, 244, 66)',\n",
    "    )\n",
    "    \n",
    ")\n",
    "# precision, recall, silhoutte\n",
    "data = [trace0, trace2,  trace1]\n",
    "layout = go.Layout(\n",
    "    title = 'Clustering Accuracy Results',\n",
    "    xaxis=dict(\n",
    "        tickfont=dict(\n",
    "            size=10,\n",
    "            color='rgb(107, 107, 107)',\n",
    "            \n",
    "        ),\n",
    "        tickangle = -45\n",
    "    ),\n",
    "    yaxis=dict(\n",
    "        title='Clustering accuracy (%)',\n",
    "        titlefont=dict(\n",
    "            size=16,\n",
    "            color='rgb(107, 107, 107)'\n",
    "        ),\n",
    "        tickfont=dict(\n",
    "            size=14,\n",
    "            color='rgb(107, 107, 107)'\n",
    "        )\n",
    "    ),\n",
    "   \n",
    "    barmode='group',\n",
    "    bargap=0.2,\n",
    "    bargroupgap=0.1\n",
    ")\n",
    "\n",
    "fig = go.Figure(data=data, layout=layout)\n",
    "py.iplot(fig, filename=graph_name)"
   ]
  },
  {
   "cell_type": "markdown",
   "metadata": {},
   "source": [
    "# Silhoutte score\n",
    "Silhouette coefficient combines ideas of both cohesion and separation, \n",
    "but for individual points, as well as clusters and \n",
    "clusterings; the Silhouette Coefficient is calculated using the mean intra-cluster distance (a) and the mean nearest-cluster distance (b) for each sample.\n",
    "The Silhoutte score is merely the average of each silhoutte coefficient, computed over each sample.\n",
    "It's a measure of the goodness of clustering, by assuming the fact that a cluster X is defined good if both every sample inside it is close to each other, and far from any other relatively-near cluster Y.\n",
    "This is not necessarily true for every shape of cluster.\n",
    "\n",
    "    The best value is 1 and the worst value is -1. Values near 0 indicate overlapping clusters."
   ]
  },
  {
   "cell_type": "code",
   "execution_count": 7,
   "metadata": {
    "scrolled": false
   },
   "outputs": [
    {
     "name": "stdout",
     "output_type": "stream",
     "text": [
      "0.12614417\n",
      "0.19104731\n",
      "0.1858033\n",
      "0.15527193\n",
      "0.1609296\n",
      "-0.023030862\n",
      "0.17550677\n",
      "0.19581276\n"
     ]
    }
   ],
   "source": [
    "from sklearn.metrics import silhouette_score\n",
    "s_scores = []\n",
    "for model in models:\n",
    "    # get clusters for each model\n",
    "    doc_vecs = [model.docvecs[j] for j in range(len(model.docvecs))]\n",
    "    titles = [doc['title'] for doc in unwrapped_docs]\n",
    "    urls = [doc['url'] for doc in unwrapped_docs]\n",
    "    # apply dbscan clustering to these vectors\n",
    "    urls_cluster_list = my_dbscan.apply_dbscan(doc_vecs = doc_vecs, titles = titles, \n",
    "                                               urls = urls, subset_length = len(titles),\n",
    "                                                 eps = 0.11, eps_increment = 0.13, n_iterations = 3, verbose = False)\n",
    "    \n",
    "    # get cluster labels, mantaining original docs ordering\n",
    "    labels = []\n",
    "    for doc in unwrapped_docs:\n",
    "        noise = True\n",
    "        for i, url_list in enumerate(urls_cluster_list):\n",
    "            if(doc['url'] in url_list):\n",
    "                labels.append(i) # keep cluster id\n",
    "                noise = False\n",
    "        if noise:\n",
    "            labels.append(-1)\n",
    "    # make sure they have the same size\n",
    "    assert len(labels) == len(doc_vecs)\n",
    "    ss = silhouette_score(doc_vecs, labels , metric='cosine')\n",
    "    s_scores.append(ss)\n",
    "    print(ss)"
   ]
  },
  {
   "cell_type": "markdown",
   "metadata": {},
   "source": [
    "# Conclusions: \n",
    "A really low silhoutte score helps us identify models that tend to have very few cluster, hence not really recognizing differences between docs. This is fundamental, since test rules used so far prevent us from recognizing these kinds of models.\n",
    "Since silhoutte score is an average of silhoutte coefficients, smaller changes of values here may mean greater differences."
   ]
  }
 ],
 "metadata": {
  "kernelspec": {
   "display_name": "Python 3",
   "language": "python",
   "name": "python3"
  },
  "language_info": {
   "codemirror_mode": {
    "name": "ipython",
    "version": 3
   },
   "file_extension": ".py",
   "mimetype": "text/x-python",
   "name": "python",
   "nbconvert_exporter": "python",
   "pygments_lexer": "ipython3",
   "version": "3.6.5"
  }
 },
 "nbformat": 4,
 "nbformat_minor": 2
}

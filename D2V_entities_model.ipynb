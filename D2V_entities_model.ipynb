{
 "cells": [
  {
   "cell_type": "markdown",
   "metadata": {},
   "source": [
    "## Version 2: Model trained on text entities"
   ]
  },
  {
   "cell_type": "code",
   "execution_count": 1,
   "metadata": {},
   "outputs": [],
   "source": [
    "# PCA imports\n",
    "import pandas as pd \n",
    "import numpy as np\n",
    "import matplotlib.pyplot as plt\n",
    "from sklearn.decomposition import PCA\n",
    "from sklearn.preprocessing import StandardScaler\n",
    "%matplotlib inline\n"
   ]
  },
  {
   "cell_type": "code",
   "execution_count": 9,
   "metadata": {},
   "outputs": [],
   "source": [
    "# Doc2Vec imports\n",
    "from gensim.models.doc2vec import Doc2Vec, TaggedDocument\n",
    "import gensim\n",
    "\n",
    "import json # to open our data file\n",
    "DATA_FILENAME = \"trend_analisys.json\"\n",
    "# open json file\n",
    "with open(DATA_FILENAME, \"r\") as json_file:\n",
    "    json_data = json.load(json_file)\n",
    "# we're expecting a list now, since our json file is a json array\n",
    "assert type(json_data) is list"
   ]
  },
  {
   "cell_type": "markdown",
   "metadata": {},
   "source": [
    "## Sanitize data from duplicates"
   ]
  },
  {
   "cell_type": "code",
   "execution_count": 31,
   "metadata": {},
   "outputs": [
    {
     "name": "stdout",
     "output_type": "stream",
     "text": [
      "293\n"
     ]
    }
   ],
   "source": [
    "#unique_json = { obj['title'] : obj for obj in json_data }.values()\n",
    "unique_json = json_data\n",
    "print(len(unique_json))\n",
    "#print(json_data)"
   ]
  },
  {
   "cell_type": "markdown",
   "metadata": {},
   "source": [
    "## K-fold Cross Validation Training"
   ]
  },
  {
   "cell_type": "code",
   "execution_count": 44,
   "metadata": {},
   "outputs": [
    {
     "name": "stdout",
     "output_type": "stream",
     "text": [
      "Model 0 training time: \n",
      "0.34117200000000025\n",
      "Model 0 Saved\n",
      "Model 1 training time: \n",
      "0.2954110000000014\n",
      "Model 1 Saved\n",
      "Model 2 training time: \n",
      "0.3112249999999932\n",
      "Model 2 Saved\n",
      "Model 3 training time: \n",
      "0.3323079999999976\n",
      "Model 3 Saved\n",
      "Model 4 training time: \n",
      "0.3532119999999992\n",
      "Model 4 Saved\n"
     ]
    }
   ],
   "source": [
    "# Since we don't have many data at our disposal, we'll use a k-fold \n",
    "# training/testing method, with a fold value of 5\n",
    "# (we might have to try at least a few values of K and see how the models behave)\n",
    "from sklearn.model_selection import KFold\n",
    "import os\n",
    "import time\n",
    "\n",
    "KFOLD_VALUE = 5\n",
    "# args: number of folds, shuffle/don't shuffle data, seed for random permutation\n",
    "kfold = KFold(KFOLD_VALUE, True, 1)\n",
    "ENTITIES_FIELD_NAME = \"flattened_entities\"\n",
    "model_number = 0\n",
    "vec_size = 50\n",
    "MODEL_BASENAME = \"Models\"+os.sep+\"d2v_TA_entities_model\"\n",
    "unique_json = np.array(unique_json)\n",
    "#print(unique_json[:1])\n",
    "\n",
    "models = []\n",
    "\n",
    "for train, test in kfold.split(unique_json):\n",
    "    # create a TaggedDocument out of the training corpus (sanitizing data)\n",
    "    train_corpus = [gensim.models.doc2vec.TaggedDocument(gensim.utils.simple_preprocess(\n",
    "    d[ENTITIES_FIELD_NAME]), [i]) for i, d in enumerate(unique_json[train])]\n",
    "    # pre-process test_corpus\n",
    "    test_corpus = [gensim.utils.simple_preprocess(d[ENTITIES_FIELD_NAME]) for d in unique_json[test]]\n",
    "    \n",
    "    print(train_corpus[:1])\n",
    "    ## create model ##\n",
    "    # changes I tried in this model: vector_size, epochs, default learning rate, epochs\n",
    "    # and no loop while training model\n",
    "    model = gensim.models.doc2vec.Doc2Vec(vector_size=vec_size,\n",
    "                                          min_count=2,\n",
    "                                          epochs=40,\n",
    "                                          dm = 0) # distributed bag of words (PV-DBOW) is employed\n",
    "    model.build_vocab(train_corpus)\n",
    "    #print(\"Length of train corpus: \", len(train_corpus))\n",
    "    ## Train model ##\n",
    "    print(\"Model %s training time: \" %(model_number))\n",
    "    \n",
    "    time_start = time.clock()\n",
    "    #for epoch in range(model.epochs):\n",
    "    model.train(train_corpus, total_examples=model.corpus_count, epochs=model.epochs)\n",
    "    time_elapsed = (time.clock() - time_start)\n",
    "    print(str(time_elapsed))\n",
    "    \n",
    "    model.save(MODEL_BASENAME + str(model_number) + '.model')\n",
    "    print(\"Model %s Saved\" %(model_number))\n",
    "    model_number = model_number + 1\n",
    "    \n",
    "    ## Test model in order to choose best one ##\n",
    "    \n",
    "    # add model to list of models\n",
    "    models.append((model, unique_json[train]))\n",
    "    "
   ]
  },
  {
   "cell_type": "code",
   "execution_count": null,
   "metadata": {},
   "outputs": [],
   "source": [
    "## Test given model, over given test set\n",
    "# TODO: put some meaningful checks here (data type, raise errors and such..)\n",
    "def test_model (model, test_set):\n",
    "    # we're expecting flattened_entities here,\n",
    "    # which are contained in the form of a string separated by spaces by default\n",
    "    for document in test_set:\n",
    "        # infer_vector() does not take a string, but rather a list of string tokens\n",
    "        # The str.split() method without an argument splits on whitespace\n",
    "        inferred_vector = model.infer_vector(document.split())\n",
    "        "
   ]
  },
  {
   "cell_type": "markdown",
   "metadata": {},
   "source": [
    "## Data Visualization"
   ]
  },
  {
   "cell_type": "code",
   "execution_count": 59,
   "metadata": {},
   "outputs": [
    {
     "data": {
      "application/vnd.plotly.v1+json": {
       "data": [
        {
         "marker": {
          "color": "rgba(0, 0, 110, .8)",
          "size": 7
         },
         "mode": "markers",
         "text": "Lg G7 ThinQ, super schermo e audio al top: lo smartphone che ha ben poco da invidiare - Repubblica.it",
         "type": "scatter",
         "uid": "6737d0e8-c566-11e8-bbca-98541b5bf12b",
         "x": [
          -4.229727573943129
         ],
         "y": [
          -0.9811764192649272
         ]
        },
        {
         "marker": {
          "color": "rgba(0, 0, 110, .8)",
          "size": 7
         },
         "mode": "markers",
         "text": "Con iOS 12 iPhone e iPad si possono programmare - La Stampa",
         "type": "scatter",
         "uid": "6737d0e9-c566-11e8-bbca-98541b5bf12b",
         "x": [
          -0.7066483069173105
         ],
         "y": [
          -0.07556207433483673
         ]
        },
        {
         "marker": {
          "color": "rgba(0, 0, 110, .8)",
          "size": 7
         },
         "mode": "markers",
         "text": "Microsoft e Lobe: l’intelligenza artificiale fai da te - La Stampa",
         "type": "scatter",
         "uid": "6737d0ea-c566-11e8-bbca-98541b5bf12b",
         "x": [
          0.26211301555183836
         ],
         "y": [
          0.035470386847520984
         ]
        },
        {
         "marker": {
          "color": "rgba(0, 0, 110, .8)",
          "size": 7
         },
         "mode": "markers",
         "text": "Tempesta su Titano: le immagini di Cassini - Repubblica.it",
         "type": "scatter",
         "uid": "6737d0eb-c566-11e8-bbca-98541b5bf12b",
         "x": [
          -2.672983324749059
         ],
         "y": [
          -1.5434671078681286
         ]
        },
        {
         "marker": {
          "color": "rgba(0, 0, 110, .8)",
          "size": 7
         },
         "mode": "markers",
         "text": "Passione Instagram, macchina fotografica o cellulare per cogliere le bellezze della Sardegna - Repubblica.it",
         "type": "scatter",
         "uid": "6737d0ec-c566-11e8-bbca-98541b5bf12b",
         "x": [
          -0.9196365049511612
         ],
         "y": [
          2.1073031334924752
         ]
        },
        {
         "marker": {
          "color": "rgba(0, 0, 110, .8)",
          "size": 7
         },
         "mode": "markers",
         "text": "Cinque cose da fare per gestire bene la sicurezza degli account social aziendali - Il Sole 24 ORE",
         "type": "scatter",
         "uid": "6737d0ed-c566-11e8-bbca-98541b5bf12b",
         "x": [
          2.4252023283313897
         ],
         "y": [
          -0.3599420446431625
         ]
        },
        {
         "marker": {
          "color": "rgba(0, 0, 110, .8)",
          "size": 7
         },
         "mode": "markers",
         "text": "P101 investe 1,5 milioni in Wonderflow - Il Sole 24 ORE",
         "type": "scatter",
         "uid": "6737d0ee-c566-11e8-bbca-98541b5bf12b",
         "x": [
          -1.0893575717516417
         ],
         "y": [
          1.1950763302598593
         ]
        },
        {
         "marker": {
          "color": "rgba(0, 0, 110, .8)",
          "size": 7
         },
         "mode": "markers",
         "text": "Documenti segreti dell’Onu liberamente consultabili sul web a causa di un errore di configurazione - La Stampa",
         "type": "scatter",
         "uid": "6737d0ef-c566-11e8-bbca-98541b5bf12b",
         "x": [
          -1.687878202093041
         ],
         "y": [
          -0.5326803155390146
         ]
        },
        {
         "marker": {
          "color": "rgba(0, 0, 110, .8)",
          "size": 7
         },
         "mode": "markers",
         "text": "Gli archeologi potrebbero aver individuato la nave del capitano Cook - Repubblica.it",
         "type": "scatter",
         "uid": "6737d0f0-c566-11e8-bbca-98541b5bf12b",
         "x": [
          1.1067637459929942
         ],
         "y": [
          0.12438203465903805
         ]
        },
        {
         "marker": {
          "color": "rgba(0, 0, 110, .8)",
          "size": 7
         },
         "mode": "markers",
         "text": "Scoperto un imponente complesso con terme romane a sud del Cairo - Repubblica.it",
         "type": "scatter",
         "uid": "6737d0f1-c566-11e8-bbca-98541b5bf12b",
         "x": [
          5.3210194349395925
         ],
         "y": [
          0.31441782936406837
         ]
        },
        {
         "marker": {
          "color": "rgba(0, 0, 110, .8)",
          "size": 7
         },
         "mode": "markers",
         "text": "Perché i fondatori di Instagram hanno lasciato la società - La Stampa",
         "type": "scatter",
         "uid": "6737d0f2-c566-11e8-bbca-98541b5bf12b",
         "x": [
          0.9742745238968695
         ],
         "y": [
          0.476786934127205
         ]
        },
        {
         "marker": {
          "color": "rgba(0, 0, 110, .8)",
          "size": 7
         },
         "mode": "markers",
         "text": "Né sesso, né violenza: Apple prepara il suo servizio streaming dedicato alle famiglie - Repubblica.it",
         "type": "scatter",
         "uid": "6737d0f3-c566-11e8-bbca-98541b5bf12b",
         "x": [
          2.695398599947352
         ],
         "y": [
          -0.06410803093742841
         ]
        },
        {
         "marker": {
          "color": "rgba(0, 0, 110, .8)",
          "size": 7
         },
         "mode": "markers",
         "text": "Alibaba punta sul settore dei chip - La Stampa",
         "type": "scatter",
         "uid": "6737d0f4-c566-11e8-bbca-98541b5bf12b",
         "x": [
          3.3323012792168574
         ],
         "y": [
          0.2002674248319198
         ]
        },
        {
         "marker": {
          "color": "rgba(0, 0, 110, .8)",
          "size": 7
         },
         "mode": "markers",
         "text": "Londra, ritrovata la lettera \"eretica\" di Galileo Galilei. \"E' l'originale\" - Repubblica.it",
         "type": "scatter",
         "uid": "6737d0f5-c566-11e8-bbca-98541b5bf12b",
         "x": [
          -5.688558648142373
         ],
         "y": [
          -0.26847165285161395
         ]
        },
        {
         "marker": {
          "color": "rgba(0, 0, 110, .8)",
          "size": 7
         },
         "mode": "markers",
         "text": "Tesla Model 3, l’elettrica compatta guadagna 5 stelle ai crash test americani - La Stampa",
         "type": "scatter",
         "uid": "6737d0f6-c566-11e8-bbca-98541b5bf12b",
         "x": [
          1.7514973123947863
         ],
         "y": [
          -0.758077762644682
         ]
        },
        {
         "marker": {
          "color": "rgba(0, 0, 110, .8)",
          "size": 7
         },
         "mode": "markers",
         "text": "Apple prevede che iPhone XR sarà il modello di maggior successo - La Stampa",
         "type": "scatter",
         "uid": "6737d0f7-c566-11e8-bbca-98541b5bf12b",
         "x": [
          4.257807677055834
         ],
         "y": [
          -0.7323279276520483
         ]
        },
        {
         "marker": {
          "color": "rgba(0, 0, 110, .8)",
          "size": 7
         },
         "mode": "markers",
         "text": "Finalmente Instagram testa una funzione per condividere i post degli altri - Repubblica.it",
         "type": "scatter",
         "uid": "6737d0f8-c566-11e8-bbca-98541b5bf12b",
         "x": [
          7.782868157108147
         ],
         "y": [
          0.6454493478052041
         ]
        },
        {
         "marker": {
          "color": "rgba(0, 0, 110, .8)",
          "size": 7
         },
         "mode": "markers",
         "text": "Spotify rende la vita più semplice agli artisti indipendenti - La Stampa",
         "type": "scatter",
         "uid": "6737d0f9-c566-11e8-bbca-98541b5bf12b",
         "x": [
          6.561081771122683
         ],
         "y": [
          0.29559305353069426
         ]
        },
        {
         "marker": {
          "color": "rgba(0, 0, 110, .8)",
          "size": 7
         },
         "mode": "markers",
         "text": "Marchesan, un'italiana tra gli scienziati emergenti nel mondo: \"La sfida più grande? Le differenze di genere\" - Repubblica.it",
         "type": "scatter",
         "uid": "6737d0fa-c566-11e8-bbca-98541b5bf12b",
         "x": [
          5.269026243428867
         ],
         "y": [
          0.5895471713886571
         ]
        },
        {
         "marker": {
          "color": "rgba(0, 0, 110, .8)",
          "size": 7
         },
         "mode": "markers",
         "text": "La realtà virtuale è già morta? No, a giudicare dai nuovi titoli del gaming - Il Sole 24 ORE",
         "type": "scatter",
         "uid": "6737d0fb-c566-11e8-bbca-98541b5bf12b",
         "x": [
          -6.3879254578367535
         ],
         "y": [
          -2.277803573718472
         ]
        },
        {
         "marker": {
          "color": "rgba(0, 0, 110, .8)",
          "size": 7
         },
         "mode": "markers",
         "text": "La navigazione in incognito è meno sicura di quanto si creda - Repubblica.it",
         "type": "scatter",
         "uid": "6737d0fc-c566-11e8-bbca-98541b5bf12b",
         "x": [
          -3.537900728495041
         ],
         "y": [
          1.3886746343327638
         ]
        },
        {
         "marker": {
          "color": "rgba(0, 0, 110, .8)",
          "size": 7
         },
         "mode": "markers",
         "text": "Facebook, ex moderatrice denuncia: “Filtriamo contenuti scioccanti, siamo traumatizzati\" - Repubblica.it",
         "type": "scatter",
         "uid": "6737d0fd-c566-11e8-bbca-98541b5bf12b",
         "x": [
          -3.431507974556773
         ],
         "y": [
          -0.6103671254218992
         ]
        },
        {
         "marker": {
          "color": "rgba(0, 0, 110, .8)",
          "size": 7
         },
         "mode": "markers",
         "text": "Startup: torna Heroes meet in Maratea, ecco chi ci sarà - Il Sole 24 ORE",
         "type": "scatter",
         "uid": "6737d0fe-c566-11e8-bbca-98541b5bf12b",
         "x": [
          -3.0613579095739976
         ],
         "y": [
          -0.17074439384104573
         ]
        },
        {
         "marker": {
          "color": "rgba(0, 0, 110, .8)",
          "size": 7
         },
         "mode": "markers",
         "text": "L'effetto dell'ecstasy sui polpi: così la serotonina li rende più socievoli - Repubblica.it",
         "type": "scatter",
         "uid": "6737d0ff-c566-11e8-bbca-98541b5bf12b",
         "x": [
          -2.7897590228275555
         ],
         "y": [
          -0.22922100239881826
         ]
        },
        {
         "marker": {
          "color": "rgba(0, 0, 110, .8)",
          "size": 7
         },
         "mode": "markers",
         "text": "Da Amazon un'invasione di gadget, in arrivo anche un forno a microonde - Repubblica.it",
         "type": "scatter",
         "uid": "6737d100-c566-11e8-bbca-98541b5bf12b",
         "x": [
          -5.603198996887681
         ],
         "y": [
          -0.3873476523399831
         ]
        },
        {
         "marker": {
          "color": "rgba(0, 0, 110, .8)",
          "size": 7
         },
         "mode": "markers",
         "text": "Caravaggio morì a causa di uno stafilococco aureo - Repubblica.it",
         "type": "scatter",
         "uid": "6737d101-c566-11e8-bbca-98541b5bf12b",
         "x": [
          0.2743614573299167
         ],
         "y": [
          0.1562017853288902
         ]
        },
        {
         "marker": {
          "color": "rgba(0, 0, 110, .8)",
          "size": 7
         },
         "mode": "markers",
         "text": "Dall’Italia una blockchain per garantire la legalità dei cantieri: tracciati i movimenti terra - Il Sole 24 ORE",
         "type": "scatter",
         "uid": "6737d102-c566-11e8-bbca-98541b5bf12b",
         "x": [
          5.0960222435490214
         ],
         "y": [
          0.652831031491361
         ]
        },
        {
         "marker": {
          "color": "rgba(0, 0, 110, .8)",
          "size": 7
         },
         "mode": "markers",
         "text": "Ufo, Alieni, Extraterrestri, Marte, Pianeta rosso, Nasa, Tetricus, Barsoom, Edgar Rice Burroughs",
         "type": "scatter",
         "uid": "6737d103-c566-11e8-bbca-98541b5bf12b",
         "x": [
          0.25754720373912343
         ],
         "y": [
          0.3595657725147432
         ]
        },
        {
         "marker": {
          "color": "rgba(0, 0, 110, .8)",
          "size": 7
         },
         "mode": "markers",
         "text": "Per convincersi ad andare in palestra basta pensare alla propria famiglia - Repubblica.it",
         "type": "scatter",
         "uid": "6737d104-c566-11e8-bbca-98541b5bf12b",
         "x": [
          1.0981238184449231
         ],
         "y": [
          -1.0611476170474796
         ]
        },
        {
         "marker": {
          "color": "rgba(0, 0, 110, .8)",
          "size": 7
         },
         "mode": "markers",
         "text": "Nuovi dispositivi in arrivo da Amazon, c'è anche un forno a microonde - Repubblica.it",
         "type": "scatter",
         "uid": "6737d105-c566-11e8-bbca-98541b5bf12b",
         "x": [
          -6.302861261543209
         ],
         "y": [
          -1.8304094677832545
         ]
        },
        {
         "marker": {
          "color": "rgba(0, 0, 110, .8)",
          "size": 7
         },
         "mode": "markers",
         "text": "Apple completa l’acquisizione di Shazam - La Stampa",
         "type": "scatter",
         "uid": "6737d106-c566-11e8-bbca-98541b5bf12b",
         "x": [
          7.21025434975871
         ],
         "y": [
          -0.33775099779269757
         ]
        },
        {
         "marker": {
          "color": "rgba(0, 0, 110, .8)",
          "size": 7
         },
         "mode": "markers",
         "text": "European biotech week, una settimana di eventi guardando al futuro - Repubblica.it",
         "type": "scatter",
         "uid": "6737d107-c566-11e8-bbca-98541b5bf12b",
         "x": [
          -5.3335418714925105
         ],
         "y": [
          2.4611503187568315
         ]
        },
        {
         "marker": {
          "color": "rgba(0, 0, 110, .8)",
          "size": 7
         },
         "mode": "markers",
         "text": "Un sasso lanciato nel vuoto: \"Così 47 anni fa scoprimmo le grotte di Frasassi\" - Repubblica.it",
         "type": "scatter",
         "uid": "6737d108-c566-11e8-bbca-98541b5bf12b",
         "x": [
          9.686380735830818
         ],
         "y": [
          0.6077507027100612
         ]
        },
        {
         "marker": {
          "color": "rgba(0, 0, 110, .8)",
          "size": 7
         },
         "mode": "markers",
         "text": "Negli Stati uniti arrivano le prime assicurazioni sulla vita calcolate con i dati degli smartwatch - La Stampa",
         "type": "scatter",
         "uid": "6737d109-c566-11e8-bbca-98541b5bf12b",
         "x": [
          0.04285090628970889
         ],
         "y": [
          0.41682305403080255
         ]
        },
        {
         "marker": {
          "color": "rgba(0, 0, 110, .8)",
          "size": 7
         },
         "mode": "markers",
         "text": "La Juventus avrà la sua criptovaluta: un token digitale per i propri tifosi a inizio 2019 - Il Sole 24 ORE",
         "type": "scatter",
         "uid": "6737d10a-c566-11e8-bbca-98541b5bf12b",
         "x": [
          6.87065196568934
         ],
         "y": [
          -0.3827256049669571
         ]
        },
        {
         "marker": {
          "color": "rgba(0, 0, 110, .8)",
          "size": 7
         },
         "mode": "markers",
         "text": "Mirror lo specchio intelligente per il fitness - La Stampa",
         "type": "scatter",
         "uid": "6737d10b-c566-11e8-bbca-98541b5bf12b",
         "x": [
          5.29612975545843
         ],
         "y": [
          0.8926398549076445
         ]
        },
        {
         "marker": {
          "color": "rgba(0, 0, 110, .8)",
          "size": 7
         },
         "mode": "markers",
         "text": "Nostalgia canaglia: anche Sony lancia la mini-console - Il Sole 24 ORE",
         "type": "scatter",
         "uid": "6737d10c-c566-11e8-bbca-98541b5bf12b",
         "x": [
          0.7556921660002792
         ],
         "y": [
          0.7418897867133537
         ]
        },
        {
         "marker": {
          "color": "rgba(0, 0, 110, .8)",
          "size": 7
         },
         "mode": "markers",
         "text": "Facebook, i cofondatori di Instagram lasciano la società - Repubblica.it",
         "type": "scatter",
         "uid": "6737d10d-c566-11e8-bbca-98541b5bf12b",
         "x": [
          3.8686184606184755
         ],
         "y": [
          0.969053821906836
         ]
        },
        {
         "marker": {
          "color": "rgba(0, 0, 110, .8)",
          "size": 7
         },
         "mode": "markers",
         "text": "Ufo, Alieni, Extraterrestri, Marte, Nasa, Tetricus, Sharp City",
         "type": "scatter",
         "uid": "6737d10e-c566-11e8-bbca-98541b5bf12b",
         "x": [
          16.140843661901265
         ],
         "y": [
          -0.3700762025586124
         ]
        },
        {
         "marker": {
          "color": "rgba(0, 0, 110, .8)",
          "size": 7
         },
         "mode": "markers",
         "text": "Ufo, Alieni, extraterrestri, Marte, Nasa, Barsoom, Tetricus, Cisu, Alessandria, Tetricus",
         "type": "scatter",
         "uid": "6737d10f-c566-11e8-bbca-98541b5bf12b",
         "x": [
          6.280059676573521
         ],
         "y": [
          0.1196049673266998
         ]
        },
        {
         "marker": {
          "color": "rgba(0, 0, 110, .8)",
          "size": 7
         },
         "mode": "markers",
         "text": "Arrivano le pagelle di NewGuard. “Non servono gli algoritmi per bloccare le fake news” - Repubblica.it",
         "type": "scatter",
         "uid": "6737d110-c566-11e8-bbca-98541b5bf12b",
         "x": [
          -3.4954082030791365
         ],
         "y": [
          1.0392512399214897
         ]
        },
        {
         "marker": {
          "color": "rgba(0, 0, 110, .8)",
          "size": 7
         },
         "mode": "markers",
         "text": "7ecno, le notizie hi tech dal 17 al 23 settembre 7ecno, le notizie hi tech dal 17 al 23 settembre - La Stampa",
         "type": "scatter",
         "uid": "6737d111-c566-11e8-bbca-98541b5bf12b",
         "x": [
          8.811013056243384
         ],
         "y": [
          -0.43027503722563937
         ]
        },
        {
         "marker": {
          "color": "rgba(0, 0, 110, .8)",
          "size": 7
         },
         "mode": "markers",
         "text": "Facebook, terremoto in Instagram: lasciano i due co-fondatori della app dopo scontro con Zuckerberg - Il Sole 24 ORE",
         "type": "scatter",
         "uid": "6737d112-c566-11e8-bbca-98541b5bf12b",
         "x": [
          -1.0456046854539942
         ],
         "y": [
          2.326621473589156
         ]
        },
        {
         "marker": {
          "color": "rgba(0, 0, 110, .8)",
          "size": 7
         },
         "mode": "markers",
         "text": "Samsung lancia il suo primo smartphone con tre fotocamere - La Stampa",
         "type": "scatter",
         "uid": "6737d113-c566-11e8-bbca-98541b5bf12b",
         "x": [
          -2.3158206686292155
         ],
         "y": [
          -1.202576131850434
         ]
        },
        {
         "marker": {
          "color": "rgba(0, 0, 110, .8)",
          "size": 7
         },
         "mode": "markers",
         "text": "Crash test: 5 stelle per Audi A6 e Volkswagen Touareg, rimandata la Suzuki Jimny - La Stampa",
         "type": "scatter",
         "uid": "6737d114-c566-11e8-bbca-98541b5bf12b",
         "x": [
          9.006385225865763
         ],
         "y": [
          0.23427355260599309
         ]
        },
        {
         "marker": {
          "color": "rgba(0, 0, 110, .8)",
          "size": 7
         },
         "mode": "markers",
         "text": "Videogiochi: Red Dead Redemption 2 anteprima di un successo annunciato - La Stampa",
         "type": "scatter",
         "uid": "6737d115-c566-11e8-bbca-98541b5bf12b",
         "x": [
          -6.587012847126373
         ],
         "y": [
          -1.713428751384513
         ]
        },
        {
         "marker": {
          "color": "rgba(0, 0, 110, .8)",
          "size": 7
         },
         "mode": "markers",
         "text": "Boato e scia luminosa, una super meteora nei cieli di Sardegna e centro Italia - Repubblica.it",
         "type": "scatter",
         "uid": "6737d116-c566-11e8-bbca-98541b5bf12b",
         "x": [
          -9.033120030498644
         ],
         "y": [
          0.9704930706295088
         ]
        },
        {
         "marker": {
          "color": "rgba(0, 0, 110, .8)",
          "size": 7
         },
         "mode": "markers",
         "text": "Ufo, Alieni, Extraterrestri, Osservatorio solare nazionale di Sunspot, Blackhawk, Sacramento Peak, Roswell, Albuquerque, dischi volanti, James McAteer",
         "type": "scatter",
         "uid": "6737d117-c566-11e8-bbca-98541b5bf12b",
         "x": [
          -4.643446445693652
         ],
         "y": [
          1.990092952601851
         ]
        },
        {
         "marker": {
          "color": "rgba(0, 0, 110, .8)",
          "size": 7
         },
         "mode": "markers",
         "text": "Cinque regole per mettere in sicurezza gli smartphone in azienda - Il Sole 24 ORE",
         "type": "scatter",
         "uid": "6737d118-c566-11e8-bbca-98541b5bf12b",
         "x": [
          -1.721850701379658
         ],
         "y": [
          -1.6790702772681858
         ]
        },
        {
         "marker": {
          "color": "rgba(0, 0, 110, .8)",
          "size": 7
         },
         "mode": "markers",
         "text": "Le firme di Repubblica in podcast su Audible. Nasce \"dentro la notizia\" - Repubblica.it",
         "type": "scatter",
         "uid": "6737d119-c566-11e8-bbca-98541b5bf12b",
         "x": [
          0.8423165363039188
         ],
         "y": [
          0.7634068635339795
         ]
        },
        {
         "marker": {
          "color": "rgba(0, 0, 110, .8)",
          "size": 7
         },
         "mode": "markers",
         "text": "Zuckerberg prende il controllo di Instagram per salvare Facebook - Il Sole 24 ORE",
         "type": "scatter",
         "uid": "6737d11a-c566-11e8-bbca-98541b5bf12b",
         "x": [
          -0.6279911657231658
         ],
         "y": [
          2.238462148558564
         ]
        },
        {
         "marker": {
          "color": "rgba(0, 0, 110, .8)",
          "size": 7
         },
         "mode": "markers",
         "text": "Samsung, i prossimi auricolari wireless potrebbero chiamarsi Buds - Repubblica.it",
         "type": "scatter",
         "uid": "6737d11b-c566-11e8-bbca-98541b5bf12b",
         "x": [
          1.1705236519626199
         ],
         "y": [
          0.6758043130752123
         ]
        },
        {
         "marker": {
          "color": "rgba(0, 0, 110, .8)",
          "size": 7
         },
         "mode": "markers",
         "text": "Ufo, Alieni, extraterrestri, Marte, Nasa, Tetricus, Pianeta rosso",
         "type": "scatter",
         "uid": "6737d11c-c566-11e8-bbca-98541b5bf12b",
         "x": [
          17.164278858359967
         ],
         "y": [
          -0.4878247791548206
         ]
        },
        {
         "marker": {
          "color": "rgba(0, 0, 110, .8)",
          "size": 7
         },
         "mode": "markers",
         "text": "Twitter: un bug potrebbe avere esposto i messaggi privati - Repubblica.it",
         "type": "scatter",
         "uid": "6737d11d-c566-11e8-bbca-98541b5bf12b",
         "x": [
          4.8717085113612395
         ],
         "y": [
          0.37275942086610975
         ]
        },
        {
         "marker": {
          "color": "rgba(0, 0, 110, .8)",
          "size": 7
         },
         "mode": "markers",
         "text": "Ecco come riusciamo a vedere anche quando sbattiamo gli occhi - Repubblica.it",
         "type": "scatter",
         "uid": "6737d11e-c566-11e8-bbca-98541b5bf12b",
         "x": [
          3.606022354378985
         ],
         "y": [
          0.33143860556191324
         ]
        },
        {
         "marker": {
          "color": "rgba(0, 0, 110, .8)",
          "size": 7
         },
         "mode": "markers",
         "text": "Cybersecurity: cinque regole per un Wi-Fi aziendale sicuro - Il Sole 24 ORE",
         "type": "scatter",
         "uid": "6737d11f-c566-11e8-bbca-98541b5bf12b",
         "x": [
          -0.29359202321449174
         ],
         "y": [
          -0.8501612467392654
         ]
        },
        {
         "marker": {
          "color": "rgba(0, 0, 110, .8)",
          "size": 7
         },
         "mode": "markers",
         "text": "La generosità? E' contagiosa: condividiamo perché lo fanno gli altri - Repubblica.it",
         "type": "scatter",
         "uid": "6737d120-c566-11e8-bbca-98541b5bf12b",
         "x": [
          -4.750726444912211
         ],
         "y": [
          -0.21972701632128602
         ]
        },
        {
         "marker": {
          "color": "rgba(0, 0, 110, .8)",
          "size": 7
         },
         "mode": "markers",
         "text": "Ufo, Alieni, extraterrestri, Cun, mappe mentali, Orson Welles, Corio, Canavese, Ami, Tornado",
         "type": "scatter",
         "uid": "6737d121-c566-11e8-bbca-98541b5bf12b",
         "x": [
          1.8384390475172698
         ],
         "y": [
          0.6000589191381012
         ]
        },
        {
         "marker": {
          "color": "rgba(0, 0, 110, .8)",
          "size": 7
         },
         "mode": "markers",
         "text": "IC406 Innovation Camp, apre a Bari il nuovo incubatore di startup di Auriga - Il Sole 24 ORE",
         "type": "scatter",
         "uid": "6737d122-c566-11e8-bbca-98541b5bf12b",
         "x": [
          6.7623860465904695
         ],
         "y": [
          -0.3356558651536263
         ]
        },
        {
         "marker": {
          "color": "rgba(0, 0, 110, .8)",
          "size": 7
         },
         "mode": "markers",
         "text": "Instagram sfida Amazon sullo shopping: dalle storie si potranno acquistare prodotti - Repubblica.it",
         "type": "scatter",
         "uid": "6737d123-c566-11e8-bbca-98541b5bf12b",
         "x": [
          0.9321198008528506
         ],
         "y": [
          1.2128076391761882
         ]
        },
        {
         "marker": {
          "color": "rgba(0, 0, 110, .8)",
          "size": 7
         },
         "mode": "markers",
         "text": "La piattaforma Rousseau è stata bucata ancora. Sempre da rogue0 - Il Sole 24 ORE",
         "type": "scatter",
         "uid": "6737d124-c566-11e8-bbca-98541b5bf12b",
         "x": [
          5.492428469099595
         ],
         "y": [
          0.49283759415177775
         ]
        },
        {
         "marker": {
          "color": "rgba(0, 0, 110, .8)",
          "size": 7
         },
         "mode": "markers",
         "text": "Ufo, Alieni, Extraterrestri, Ovni, Mistero bUFO, Giochi Pechino, Dario Fo, Mistero Buffo, Il bivio, Enrico Ruggeri, Mediaset, Corriere.it, Giovanni Angeli",
         "type": "scatter",
         "uid": "6737d125-c566-11e8-bbca-98541b5bf12b",
         "x": [
          0.22293815296202454
         ],
         "y": [
          0.07047241537193429
         ]
        },
        {
         "marker": {
          "color": "rgba(0, 0, 110, .8)",
          "size": 7
         },
         "mode": "markers",
         "text": "Le console più vendute di tutti i tempi Le console più vendute di tutti i tempi - La Stampa",
         "type": "scatter",
         "uid": "6737d126-c566-11e8-bbca-98541b5bf12b",
         "x": [
          12.126521417706774
         ],
         "y": [
          -0.3296685769343995
         ]
        },
        {
         "marker": {
          "color": "rgba(0, 0, 110, .8)",
          "size": 7
         },
         "mode": "markers",
         "text": "Il cyber atleta Tyler “Ninja” Blevins conquista la copertina di Espn Magazine - Il Sole 24 ORE",
         "type": "scatter",
         "uid": "6737d127-c566-11e8-bbca-98541b5bf12b",
         "x": [
          3.458366072071869
         ],
         "y": [
          -0.2979503904236326
         ]
        },
        {
         "marker": {
          "color": "rgba(0, 0, 110, .8)",
          "size": 7
         },
         "mode": "markers",
         "text": "Apple assegna un punteggio agli utenti di iTunes - La Stampa",
         "type": "scatter",
         "uid": "6737d128-c566-11e8-bbca-98541b5bf12b",
         "x": [
          0.18912853364160884
         ],
         "y": [
          -0.9554481413777268
         ]
        },
        {
         "marker": {
          "color": "rgba(0, 0, 110, .8)",
          "size": 7
         },
         "mode": "markers",
         "text": "Dating, il servizio di Facebook per trovare l’anima gemella - La Stampa",
         "type": "scatter",
         "uid": "6737d129-c566-11e8-bbca-98541b5bf12b",
         "x": [
          4.0526261390466685
         ],
         "y": [
          0.6626457881172644
         ]
        },
        {
         "marker": {
          "color": "rgba(0, 0, 110, .8)",
          "size": 7
         },
         "mode": "markers",
         "text": "In migliaia per \"La Germania si parla\". A Berlino la sfida per una società meno divisa - Repubblica.it",
         "type": "scatter",
         "uid": "6737d12a-c566-11e8-bbca-98541b5bf12b",
         "x": [
          -0.10190974528752723
         ],
         "y": [
          0.6707970625382104
         ]
        },
        {
         "marker": {
          "color": "rgba(0, 0, 110, .8)",
          "size": 7
         },
         "mode": "markers",
         "text": "Spotify, gli artisti potranno caricare la propria musica da soli - Repubblica.it",
         "type": "scatter",
         "uid": "6737d12b-c566-11e8-bbca-98541b5bf12b",
         "x": [
          2.4389388329702686
         ],
         "y": [
          -0.03513506934199908
         ]
        },
        {
         "marker": {
          "color": "rgba(0, 0, 110, .8)",
          "size": 7
         },
         "mode": "markers",
         "text": "Red Dead Redemption 2. La nostra prova del nuovo gioco di Rockstar Games - Repubblica.it",
         "type": "scatter",
         "uid": "6737d12c-c566-11e8-bbca-98541b5bf12b",
         "x": [
          -3.0836627342917184
         ],
         "y": [
          -0.34677042533964597
         ]
        },
        {
         "marker": {
          "color": "rgba(0, 0, 110, .8)",
          "size": 7
         },
         "mode": "markers",
         "text": "Portogallo, riaffiora una nave di 400 anni fa. \"E' la scoperta del decennio\" - Repubblica.it",
         "type": "scatter",
         "uid": "6737d12d-c566-11e8-bbca-98541b5bf12b",
         "x": [
          2.0714236330777176
         ],
         "y": [
          0.11314058519011523
         ]
        },
        {
         "marker": {
          "color": "rgba(0, 0, 110, .8)",
          "size": 7
         },
         "mode": "markers",
         "text": "La Notte dei ricercatori: una settimana di scienza con 400 eventi - Repubblica.it",
         "type": "scatter",
         "uid": "6737d12e-c566-11e8-bbca-98541b5bf12b",
         "x": [
          -11.34368765799648
         ],
         "y": [
          6.040009657994864
         ]
        },
        {
         "marker": {
          "color": "rgba(0, 0, 110, .8)",
          "size": 7
         },
         "mode": "markers",
         "text": "Decolla Facebook Dating, il Tinder di Menlo Park: primi test in Colombia - Repubblica.it",
         "type": "scatter",
         "uid": "6737d12f-c566-11e8-bbca-98541b5bf12b",
         "x": [
          14.605939916460029
         ],
         "y": [
          0.36101324595512285
         ]
        },
        {
         "marker": {
          "color": "rgba(0, 0, 110, .8)",
          "size": 7
         },
         "mode": "markers",
         "text": "E' morto il Nobel Kao, padre delle fibre ottiche - Repubblica.it",
         "type": "scatter",
         "uid": "6737d130-c566-11e8-bbca-98541b5bf12b",
         "x": [
          -4.021022020283653
         ],
         "y": [
          -0.26036707758878735
         ]
        },
        {
         "marker": {
          "color": "rgba(0, 0, 110, .8)",
          "size": 7
         },
         "mode": "markers",
         "text": "Ufo, Alieni, Extraterrestri, Alexander Oparin, cellule prebiotiche, Cufom, Cun, Extremamente, Luis Elizondo, Tom DeLonge",
         "type": "scatter",
         "uid": "6737d131-c566-11e8-bbca-98541b5bf12b",
         "x": [
          -6.145382323830063
         ],
         "y": [
          -0.2532368727335647
         ]
        },
        {
         "marker": {
          "color": "rgba(0, 0, 110, .8)",
          "size": 7
         },
         "mode": "markers",
         "text": "Ecco Google Dataset Search, il motore di ricerca per scienziati e giornalisti - Il Sole 24 ORE",
         "type": "scatter",
         "uid": "6737d132-c566-11e8-bbca-98541b5bf12b",
         "x": [
          -1.0112075160715124
         ],
         "y": [
          0.32109473102663894
         ]
        },
        {
         "marker": {
          "color": "rgba(0, 0, 110, .8)",
          "size": 7
         },
         "mode": "markers",
         "text": "Il pianeta di Star Trek. \"A 16 anni luce da noi una super Terra come Vulcano\" - Repubblica.it",
         "type": "scatter",
         "uid": "6737d133-c566-11e8-bbca-98541b5bf12b",
         "x": [
          -9.061114841148248
         ],
         "y": [
          -0.8773030694577558
         ]
        },
        {
         "marker": {
          "color": "rgba(0, 0, 110, .8)",
          "size": 7
         },
         "mode": "markers",
         "text": "Come al cinema: il Far West di Red Dead Redemption 2 - Repubblica.it",
         "type": "scatter",
         "uid": "6737d134-c566-11e8-bbca-98541b5bf12b",
         "x": [
          1.5466643366823114
         ],
         "y": [
          0.29708475033235365
         ]
        },
        {
         "marker": {
          "color": "rgba(0, 0, 110, .8)",
          "size": 7
         },
         "mode": "markers",
         "text": "Hayabusa2, la sonda che sembra un videogioco ha \"catturato\" il suo asteroide - Repubblica.it",
         "type": "scatter",
         "uid": "6737d135-c566-11e8-bbca-98541b5bf12b",
         "x": [
          -8.631507996698254
         ],
         "y": [
          -0.9981406898330802
         ]
        },
        {
         "marker": {
          "color": "rgba(0, 0, 110, .8)",
          "size": 7
         },
         "mode": "markers",
         "text": "Arriva Portal, l'assistente smart di Facebook - Repubblica.it",
         "type": "scatter",
         "uid": "6737d136-c566-11e8-bbca-98541b5bf12b",
         "x": [
          6.696829362529246
         ],
         "y": [
          -0.6494036870220419
         ]
        },
        {
         "marker": {
          "color": "rgba(0, 0, 110, .8)",
          "size": 7
         },
         "mode": "markers",
         "text": "Trovato il metodo per sterminare le zanzare. Ma è una buona idea? - Repubblica.it",
         "type": "scatter",
         "uid": "6737d137-c566-11e8-bbca-98541b5bf12b",
         "x": [
          -10.6905764469913
         ],
         "y": [
          0.7438507368807804
         ]
        },
        {
         "marker": {
          "color": "rgba(0, 0, 110, .8)",
          "size": 7
         },
         "mode": "markers",
         "text": "L'equinozio d'autunno non è il 21 settembre: quest'anno arriva il 23 - Repubblica.it",
         "type": "scatter",
         "uid": "6737d138-c566-11e8-bbca-98541b5bf12b",
         "x": [
          -4.3391632009899315
         ],
         "y": [
          0.128726663235638
         ]
        },
        {
         "marker": {
          "color": "rgba(0, 0, 110, .8)",
          "size": 7
         },
         "mode": "markers",
         "text": "Ufo, Alieni, extraterrestri, Ansa, Cheope, Giza, piramidi egizie, Journal of Applied Physics, Itmo University, San Pietroburgo , Laser Zentrum, Tullio Scopigno, Università La Sapienza, piramidi bosniache",
         "type": "scatter",
         "uid": "6737d139-c566-11e8-bbca-98541b5bf12b",
         "x": [
          -6.16766658911984
         ],
         "y": [
          0.2780737451638785
         ]
        },
        {
         "marker": {
          "color": "rgba(0, 0, 110, .8)",
          "size": 7
         },
         "mode": "markers",
         "text": "Huawei Mate 20 Lite: un midrange dall'ottima autonomia. La recensione",
         "type": "scatter",
         "uid": "6737d13a-c566-11e8-bbca-98541b5bf12b",
         "x": [
          -0.23972112136185308
         ],
         "y": [
          -1.0190516747530307
         ]
        },
        {
         "marker": {
          "color": "rgba(0, 0, 110, .8)",
          "size": 7
         },
         "mode": "markers",
         "text": "Amazon, 8 nuovi dispositivi con Alexa nel 2018 - Hi-tech - ANSA.it",
         "type": "scatter",
         "uid": "6737d13b-c566-11e8-bbca-98541b5bf12b",
         "x": [
          4.851294257826342
         ],
         "y": [
          0.20913150442020878
         ]
        },
        {
         "marker": {
          "color": "rgba(0, 0, 110, .8)",
          "size": 7
         },
         "mode": "markers",
         "text": "Vota i migliori produttori nell'European Hardware Community Awards 2018",
         "type": "scatter",
         "uid": "6737d13c-c566-11e8-bbca-98541b5bf12b",
         "x": [
          6.9518334052587685
         ],
         "y": [
          -0.840602226310607
         ]
        },
        {
         "marker": {
          "color": "rgba(0, 0, 110, .8)",
          "size": 7
         },
         "mode": "markers",
         "text": "Il primo esofago costruito in laboratorio - Biotech - ANSA.it",
         "type": "scatter",
         "uid": "6737d13d-c566-11e8-bbca-98541b5bf12b",
         "x": [
          0.5055915763893595
         ],
         "y": [
          0.24143641656295378
         ]
        },
        {
         "marker": {
          "color": "rgba(0, 0, 110, .8)",
          "size": 7
         },
         "mode": "markers",
         "text": "Futuri robot con pelle che sente il vento - Hi-tech - ANSA.it",
         "type": "scatter",
         "uid": "6737d13e-c566-11e8-bbca-98541b5bf12b",
         "x": [
          -6.237226578635616
         ],
         "y": [
          -0.4482987239549944
         ]
        },
        {
         "marker": {
          "color": "rgba(0, 0, 110, .8)",
          "size": 7
         },
         "mode": "markers",
         "text": "Apple completa l'acquisizione di Shazam - Software e App - ANSA.it",
         "type": "scatter",
         "uid": "6737d13f-c566-11e8-bbca-98541b5bf12b",
         "x": [
          8.252657403677757
         ],
         "y": [
          0.7722500777592396
         ]
        },
        {
         "marker": {
          "color": "rgba(0, 0, 110, .8)",
          "size": 7
         },
         "mode": "markers",
         "text": "Malaria, una reazione a catena genetica annienta le zanzare - Biotech - ANSA.it",
         "type": "scatter",
         "uid": "6737d140-c566-11e8-bbca-98541b5bf12b",
         "x": [
          -8.467612650850565
         ],
         "y": [
          0.39647017133900986
         ]
        },
        {
         "marker": {
          "color": "rgba(0, 0, 110, .8)",
          "size": 7
         },
         "mode": "markers",
         "text": "Aperta indagine penale su Tesla dopo tweet di Musk - Hi-tech - ANSA.it",
         "type": "scatter",
         "uid": "6737d141-c566-11e8-bbca-98541b5bf12b",
         "x": [
          8.313680665514573
         ],
         "y": [
          0.09531652416261034
         ]
        },
        {
         "marker": {
          "color": "rgba(0, 0, 110, .8)",
          "size": 7
         },
         "mode": "markers",
         "text": "Kingston, disponibili gli SSD HyperX Fury RGB: un tocco di colore alle ''solite'' unità 2,5''",
         "type": "scatter",
         "uid": "6737d142-c566-11e8-bbca-98541b5bf12b",
         "x": [
          11.923000844475766
         ],
         "y": [
          -0.47267515393966936
         ]
        },
        {
         "marker": {
          "color": "rgba(0, 0, 110, .8)",
          "size": 7
         },
         "mode": "markers",
         "text": "Microsoft,40mln per AI a scopi umanitari - Hi-tech - ANSA.it",
         "type": "scatter",
         "uid": "6737d143-c566-11e8-bbca-98541b5bf12b",
         "x": [
          6.011512065423862
         ],
         "y": [
          -0.04376930342946054
         ]
        },
        {
         "marker": {
          "color": "rgba(0, 0, 110, .8)",
          "size": 7
         },
         "mode": "markers",
         "text": "Apple, no a violenza e sesso in show tv - Internet e Social - ANSA.it",
         "type": "scatter",
         "uid": "6737d144-c566-11e8-bbca-98541b5bf12b",
         "x": [
          1.2909562849807148
         ],
         "y": [
          -0.4358926528948298
         ]
        },
        {
         "marker": {
          "color": "rgba(0, 0, 110, .8)",
          "size": 7
         },
         "mode": "markers",
         "text": "Marte, il sottosuolo può avere ospitato la vita - Spazio & Astronomia - ANSA.it",
         "type": "scatter",
         "uid": "6737d145-c566-11e8-bbca-98541b5bf12b",
         "x": [
          -7.935836205950078
         ],
         "y": [
          -2.0125052175500477
         ]
        },
        {
         "marker": {
          "color": "rgba(0, 0, 110, .8)",
          "size": 7
         },
         "mode": "markers",
         "text": "Primi scatti dall'asteroide Ryugu - Spazio & Astronomia - ANSA.it",
         "type": "scatter",
         "uid": "6737d146-c566-11e8-bbca-98541b5bf12b",
         "x": [
          -6.711889439049713
         ],
         "y": [
          -0.4068311647580634
         ]
        },
        {
         "marker": {
          "color": "rgba(0, 0, 110, .8)",
          "size": 7
         },
         "mode": "markers",
         "text": "In arrivo una rivoluzione nella diagnostica medica: una tecnologia sensibile alla singola molecola",
         "type": "scatter",
         "uid": "6737d147-c566-11e8-bbca-98541b5bf12b",
         "x": [
          -13.578615076749948
         ],
         "y": [
          -4.633403383968813
         ]
        },
        {
         "marker": {
          "color": "rgba(0, 0, 110, .8)",
          "size": 7
         },
         "mode": "markers",
         "text": "Sweeper, il robot che raccoglie ortaggi e frutta - News - ANSA.it",
         "type": "scatter",
         "uid": "6737d148-c566-11e8-bbca-98541b5bf12b",
         "x": [
          -3.1669344483959976
         ],
         "y": [
          -1.9630328375309936
         ]
        },
        {
         "marker": {
          "color": "rgba(0, 0, 110, .8)",
          "size": 7
         },
         "mode": "markers",
         "text": "V-Rally 4, disponibile da oggi la versione PC",
         "type": "scatter",
         "uid": "6737d149-c566-11e8-bbca-98541b5bf12b",
         "x": [
          -9.269060332653618
         ],
         "y": [
          -0.21358852768823341
         ]
        },
        {
         "marker": {
          "color": "rgba(0, 0, 110, .8)",
          "size": 7
         },
         "mode": "markers",
         "text": "Nature, due italiani fra gli 11 ricercatori emergenti - Ricerca & Istituzioni - ANSA.it",
         "type": "scatter",
         "uid": "6737d14a-c566-11e8-bbca-98541b5bf12b",
         "x": [
          -1.240245490425749
         ],
         "y": [
          -0.2705980817991288
         ]
        },
        {
         "marker": {
          "color": "rgba(0, 0, 110, .8)",
          "size": 7
         },
         "mode": "markers",
         "text": "Mai più batterie che prendono fuoco",
         "type": "scatter",
         "uid": "6737d14b-c566-11e8-bbca-98541b5bf12b",
         "x": [
          -3.8039705016401104
         ],
         "y": [
          -0.16598388469999792
         ]
        },
        {
         "marker": {
          "color": "rgba(0, 0, 110, .8)",
          "size": 7
         },
         "mode": "markers",
         "text": "La più grande luna di Saturno sotto una tempesta di polvere - Spazio & Astronomia - ANSA.it",
         "type": "scatter",
         "uid": "6737d14c-c566-11e8-bbca-98541b5bf12b",
         "x": [
          -9.778090077387821
         ],
         "y": [
          -2.9068293822726465
         ]
        },
        {
         "marker": {
          "color": "rgba(0, 0, 110, .8)",
          "size": 7
         },
         "mode": "markers",
         "text": "L’impronta fossile dell'animale più antico - News - ANSA.it",
         "type": "scatter",
         "uid": "6737d14d-c566-11e8-bbca-98541b5bf12b",
         "x": [
          -10.209021349078755
         ],
         "y": [
          -1.977008107624954
         ]
        },
        {
         "marker": {
          "color": "rgba(0, 0, 110, .8)",
          "size": 7
         },
         "mode": "markers",
         "text": "Microsoft Office 2019 è ora disponibile per Windows e macOS",
         "type": "scatter",
         "uid": "6737d14e-c566-11e8-bbca-98541b5bf12b",
         "x": [
          8.931025755001848
         ],
         "y": [
          0.5858159508862262
         ]
        },
        {
         "marker": {
          "color": "rgba(0, 0, 110, .8)",
          "size": 7
         },
         "mode": "markers",
         "text": "Facebook e Google nel mirino di Trump - Internet e Social - ANSA.it",
         "type": "scatter",
         "uid": "6737d14f-c566-11e8-bbca-98541b5bf12b",
         "x": [
          0.37596265596905953
         ],
         "y": [
          1.3873749436892007
         ]
        },
        {
         "marker": {
          "color": "rgba(0, 0, 110, .8)",
          "size": 7
         },
         "mode": "markers",
         "text": "Hit Refresh,il Ceo Microsoft si racconta - Internet e Social - ANSA.it",
         "type": "scatter",
         "uid": "6737d150-c566-11e8-bbca-98541b5bf12b",
         "x": [
          -7.3311407481346516
         ],
         "y": [
          1.8735829343152972
         ]
        },
        {
         "marker": {
          "color": "rgba(0, 0, 110, .8)",
          "size": 7
         },
         "mode": "markers",
         "text": "Robot protagonisti tra scienza e spettacolo a Festival Pisa - Tecnologie - ANSA.it",
         "type": "scatter",
         "uid": "6737d151-c566-11e8-bbca-98541b5bf12b",
         "x": [
          -8.04150798077398
         ],
         "y": [
          0.915257655678285
         ]
        },
        {
         "marker": {
          "color": "rgba(0, 0, 110, .8)",
          "size": 7
         },
         "mode": "markers",
         "text": "iPhone, 400 persone in coda a Singapore - Hi-tech - ANSA.it",
         "type": "scatter",
         "uid": "6737d152-c566-11e8-bbca-98541b5bf12b",
         "x": [
          -4.1348761629403095
         ],
         "y": [
          -0.4666396000369221
         ]
        },
        {
         "marker": {
          "color": "rgba(0, 0, 110, .8)",
          "size": 7
         },
         "mode": "markers",
         "text": "Tifosi svizzeri bloccano una partita di calcio per protesta contro gli eSport",
         "type": "scatter",
         "uid": "6737d153-c566-11e8-bbca-98541b5bf12b",
         "x": [
          12.241336849437987
         ],
         "y": [
          -0.8164905941878688
         ]
        },
        {
         "marker": {
          "color": "rgba(0, 0, 110, .8)",
          "size": 7
         },
         "mode": "markers",
         "text": "Conto corrente N26: il miglior modo per pagare è dallo smartphone",
         "type": "scatter",
         "uid": "6737d154-c566-11e8-bbca-98541b5bf12b",
         "x": [
          -0.7988031578930093
         ],
         "y": [
          -0.6328889727217293
         ]
        },
        {
         "marker": {
          "color": "rgba(0, 0, 110, .8)",
          "size": 7
         },
         "mode": "markers",
         "text": "Amazon vuole aprire 3mila alimentari - Hi-tech - ANSA.it",
         "type": "scatter",
         "uid": "6737d155-c566-11e8-bbca-98541b5bf12b",
         "x": [
          -2.1059496907054616
         ],
         "y": [
          0.6423922066811018
         ]
        },
        {
         "marker": {
          "color": "rgba(0, 0, 110, .8)",
          "size": 7
         },
         "mode": "markers",
         "text": "OnePlus: addio alla Dash Charge per via di una disputa legale sul nome",
         "type": "scatter",
         "uid": "6737d156-c566-11e8-bbca-98541b5bf12b",
         "x": [
          14.890919522494558
         ],
         "y": [
          0.7691981738591968
         ]
        },
        {
         "marker": {
          "color": "rgba(0, 0, 110, .8)",
          "size": 7
         },
         "mode": "markers",
         "text": "Skiller Mech SGK3 è una tastiera meccanica che dà controllo totale ai giocatori",
         "type": "scatter",
         "uid": "6737d157-c566-11e8-bbca-98541b5bf12b",
         "x": [
          -0.2644101749346397
         ],
         "y": [
          0.24181120388982996
         ]
        },
        {
         "marker": {
          "color": "rgba(0, 0, 110, .8)",
          "size": 7
         },
         "mode": "markers",
         "text": "I co-fondatori di Instagram lasciano la società - Internet e Social - ANSA.it",
         "type": "scatter",
         "uid": "6737d158-c566-11e8-bbca-98541b5bf12b",
         "x": [
          10.884262831770297
         ],
         "y": [
          0.4682344045074655
         ]
        },
        {
         "marker": {
          "color": "rgba(0, 0, 110, .8)",
          "size": 7
         },
         "mode": "markers",
         "text": "L-Mount: Leica, Panasonic e Sigma all'attacco del settore mirrorless full frame e APS-C",
         "type": "scatter",
         "uid": "6737d159-c566-11e8-bbca-98541b5bf12b",
         "x": [
          1.416780670914181
         ],
         "y": [
          -1.4055569399382657
         ]
        },
        {
         "marker": {
          "color": "rgba(0, 0, 110, .8)",
          "size": 7
         },
         "mode": "markers",
         "text": "Trovata la lettera che costo' a Galileo l'accusa di eresia - Spazio & Astronomia - ANSA.it",
         "type": "scatter",
         "uid": "6737d15a-c566-11e8-bbca-98541b5bf12b",
         "x": [
          -5.318816227741168
         ],
         "y": [
          -0.3389082090364927
         ]
        },
        {
         "marker": {
          "color": "rgba(0, 0, 110, .8)",
          "size": 7
         },
         "mode": "markers",
         "text": "RFID: dalle etichette dei supermercati a sensori per l'ambiente",
         "type": "scatter",
         "uid": "6737d15b-c566-11e8-bbca-98541b5bf12b",
         "x": [
          -9.310156387844849
         ],
         "y": [
          0.0367038102595233
         ]
        },
        {
         "marker": {
          "color": "rgba(0, 0, 110, .8)",
          "size": 7
         },
         "mode": "markers",
         "text": "Irix 150mm F2.8 per full frame con attacchi Canon EF, Nikon F e Pentax K a bassissima distorsione",
         "type": "scatter",
         "uid": "6737d15c-c566-11e8-bbca-98541b5bf12b",
         "x": [
          -6.224064188536372
         ],
         "y": [
          -0.1250687906373009
         ]
        },
        {
         "marker": {
          "color": "rgba(0, 0, 110, .8)",
          "size": 7
         },
         "mode": "markers",
         "text": "TIM, minuti illimitati e 50GB a 9,99 Euro, ma solo per pochi giorni: ecco come fare per averla",
         "type": "scatter",
         "uid": "6737d15d-c566-11e8-bbca-98541b5bf12b",
         "x": [
          7.840919452528484
         ],
         "y": [
          -0.07410820496775561
         ]
        },
        {
         "marker": {
          "color": "rgba(0, 0, 110, .8)",
          "size": 7
         },
         "mode": "markers",
         "text": "Facebook: la Ue attacca, migliori la trasparenza o multe in arrivo - Internet e Social - ANSA.it",
         "type": "scatter",
         "uid": "6737d15e-c566-11e8-bbca-98541b5bf12b",
         "x": [
          5.6117349475563625
         ],
         "y": [
          0.3945507759198337
         ]
        },
        {
         "marker": {
          "color": "rgba(0, 0, 110, .8)",
          "size": 7
         },
         "mode": "markers",
         "text": "Arriva in Italia Google Pay, sfida a Apple - Tlc - ANSA.it",
         "type": "scatter",
         "uid": "6737d15f-c566-11e8-bbca-98541b5bf12b",
         "x": [
          -2.063754532685658
         ],
         "y": [
          1.0891190390843737
         ]
        },
        {
         "marker": {
          "color": "rgba(0, 0, 110, .8)",
          "size": 7
         },
         "mode": "markers",
         "text": "Twitter, si potrà tornare a cronologia tweet - Internet e Social - ANSA.it",
         "type": "scatter",
         "uid": "6737d160-c566-11e8-bbca-98541b5bf12b",
         "x": [
          9.74383945203492
         ],
         "y": [
          -0.5593298752595975
         ]
        },
        {
         "marker": {
          "color": "rgba(0, 0, 110, .8)",
          "size": 7
         },
         "mode": "markers",
         "text": "Surface Hub 2 al debutto dal 2019, con una seconda versione nel 2020",
         "type": "scatter",
         "uid": "6737d161-c566-11e8-bbca-98541b5bf12b",
         "x": [
          15.041501500780754
         ],
         "y": [
          0.32073414152037577
         ]
        },
        {
         "marker": {
          "color": "rgba(0, 0, 110, .8)",
          "size": 7
         },
         "mode": "markers",
         "text": "Spamming estorsivo, Polizia Postale lancia l'allarme - Internet e Social - ANSA.it",
         "type": "scatter",
         "uid": "6737d162-c566-11e8-bbca-98541b5bf12b",
         "x": [
          1.8819477857717242
         ],
         "y": [
          0.25934067315422205
         ]
        },
        {
         "marker": {
          "color": "rgba(0, 0, 110, .8)",
          "size": 7
         },
         "mode": "markers",
         "text": "Ricoh al lavoro sull'imminente GR III, compatta che sostituirà la GR II",
         "type": "scatter",
         "uid": "6737d163-c566-11e8-bbca-98541b5bf12b",
         "x": [
          -6.462818370915406
         ],
         "y": [
          0.20688127812689264
         ]
        },
        {
         "marker": {
          "color": "rgba(0, 0, 110, .8)",
          "size": 7
         },
         "mode": "markers",
         "text": "Amazon, lente Ue su dati sensibili - Internet e Social - ANSA.it",
         "type": "scatter",
         "uid": "6737d164-c566-11e8-bbca-98541b5bf12b",
         "x": [
          9.366929193934306
         ],
         "y": [
          -0.2145382546393883
         ]
        },
        {
         "marker": {
          "color": "rgba(0, 0, 110, .8)",
          "size": 7
         },
         "mode": "markers",
         "text": "La Terra come Venere, potrebbe avere un futuro bollente - Terra & Poli - ANSA.it",
         "type": "scatter",
         "uid": "6737d165-c566-11e8-bbca-98541b5bf12b",
         "x": [
          4.02600908434117
         ],
         "y": [
          -0.7209965510963986
         ]
        },
        {
         "marker": {
          "color": "rgba(0, 0, 110, .8)",
          "size": 7
         },
         "mode": "markers",
         "text": "È il momento giusto per comprare un telefono rugged, secondo Blackview",
         "type": "scatter",
         "uid": "6737d166-c566-11e8-bbca-98541b5bf12b",
         "x": [
          3.187359689467746
         ],
         "y": [
          -0.7041343998382993
         ]
        },
        {
         "marker": {
          "color": "rgba(0, 0, 110, .8)",
          "size": 7
         },
         "mode": "markers",
         "text": "California, legge proteggerà da hacker oggetti connessi - Tlc - ANSA.it",
         "type": "scatter",
         "uid": "6737d167-c566-11e8-bbca-98541b5bf12b",
         "x": [
          -0.04335273704740436
         ],
         "y": [
          -0.25156970424760344
         ]
        },
        {
         "marker": {
          "color": "rgba(0, 0, 110, .8)",
          "size": 7
         },
         "mode": "markers",
         "text": "Come spezzare uno spaghetto in due? Lo spiega il MIT",
         "type": "scatter",
         "uid": "6737d168-c566-11e8-bbca-98541b5bf12b",
         "x": [
          -1.9984779503773347
         ],
         "y": [
          0.550808827577555
         ]
        },
        {
         "marker": {
          "color": "rgba(0, 0, 110, .8)",
          "size": 7
         },
         "mode": "markers",
         "text": "I fondatori di Instagram lasciano Facebook: ecco cosa faranno in futuro",
         "type": "scatter",
         "uid": "6737d169-c566-11e8-bbca-98541b5bf12b",
         "x": [
          7.376023880880691
         ],
         "y": [
          -0.5631785313207038
         ]
        },
        {
         "marker": {
          "color": "rgba(0, 0, 110, .8)",
          "size": 7
         },
         "mode": "markers",
         "text": "Amazon, a Roma porta il pecorino a casa - Internet e Social - ANSA.it",
         "type": "scatter",
         "uid": "6737d16a-c566-11e8-bbca-98541b5bf12b",
         "x": [
          -3.59008121883667
         ],
         "y": [
          -0.5005064834591175
         ]
        },
        {
         "marker": {
          "color": "rgba(0, 0, 110, .8)",
          "size": 7
         },
         "mode": "markers",
         "text": "Tutti fanno la mirrorless full frame? Fujifilm alza il medio (formato) con GFX 50R",
         "type": "scatter",
         "uid": "6737d16b-c566-11e8-bbca-98541b5bf12b",
         "x": [
          -6.566517623164139
         ],
         "y": [
          -2.1270992306405585
         ]
        },
        {
         "marker": {
          "color": "rgba(0, 0, 110, .8)",
          "size": 7
         },
         "mode": "markers",
         "text": "Fb:ex moderatrice fa causa,traumatizzata - Internet e Social - ANSA.it",
         "type": "scatter",
         "uid": "6737d16c-c566-11e8-bbca-98541b5bf12b",
         "x": [
          -0.30454479146851937
         ],
         "y": [
          1.4950063301348064
         ]
        },
        {
         "marker": {
          "color": "rgba(0, 0, 110, .8)",
          "size": 7
         },
         "mode": "markers",
         "text": "Da una miniera del Sulcis la spia della materia oscura - Fisica & Matematica - ANSA.it",
         "type": "scatter",
         "uid": "6737d16d-c566-11e8-bbca-98541b5bf12b",
         "x": [
          -10.038361571019976
         ],
         "y": [
          2.1980447837014143
         ]
        },
        {
         "marker": {
          "color": "rgba(0, 0, 110, .8)",
          "size": 7
         },
         "mode": "markers",
         "text": "Apple ridà oltre 14 miliardi di euro di aiuti fiscali all'Irlanda - Tlc - ANSA.it",
         "type": "scatter",
         "uid": "6737d16e-c566-11e8-bbca-98541b5bf12b",
         "x": [
          0.8588300234041499
         ],
         "y": [
          0.5324944965262095
         ]
        },
        {
         "marker": {
          "color": "rgba(0, 0, 110, .8)",
          "size": 7
         },
         "mode": "markers",
         "text": "Samsung, i nuovi Galaxy J6+ e J4+ - Tlc - ANSA.it",
         "type": "scatter",
         "uid": "6737d16f-c566-11e8-bbca-98541b5bf12b",
         "x": [
          -1.8791953696307937
         ],
         "y": [
          -0.6396507239820184
         ]
        },
        {
         "marker": {
          "color": "rgba(0, 0, 110, .8)",
          "size": 7
         },
         "mode": "markers",
         "text": "Google Home Mini lo speaker più venduto - Hi-tech - ANSA.it",
         "type": "scatter",
         "uid": "6737d170-c566-11e8-bbca-98541b5bf12b",
         "x": [
          4.937649407072854
         ],
         "y": [
          -1.5350252542846199
         ]
        },
        {
         "marker": {
          "color": "rgba(0, 0, 110, .8)",
          "size": 7
         },
         "mode": "markers",
         "text": "E' Reggio Emilia la città più social d'Italia - Internet e Social - ANSA.it",
         "type": "scatter",
         "uid": "6737d171-c566-11e8-bbca-98541b5bf12b",
         "x": [
          -11.05091839240679
         ],
         "y": [
          5.802734551788407
         ]
        },
        {
         "marker": {
          "color": "rgba(0, 0, 110, .8)",
          "size": 7
         },
         "mode": "markers",
         "text": "Cellule della pelle sono state trasformate in neuroni - Biotech - ANSA.it",
         "type": "scatter",
         "uid": "6737d172-c566-11e8-bbca-98541b5bf12b",
         "x": [
          -3.6591103350538727
         ],
         "y": [
          0.5683446818652533
         ]
        },
        {
         "marker": {
          "color": "rgba(0, 0, 110, .8)",
          "size": 7
         },
         "mode": "markers",
         "text": "Notti più luminose con la Luna del raccolto - Spazio & Astronomia - ANSA.it",
         "type": "scatter",
         "uid": "6737d173-c566-11e8-bbca-98541b5bf12b",
         "x": [
          -6.2399054448219236
         ],
         "y": [
          1.0550455706963573
         ]
        },
        {
         "marker": {
          "color": "rgba(0, 0, 110, .8)",
          "size": 7
         },
         "mode": "markers",
         "text": "Questi 7 prodotti dodocool sono in sconto su Amazon per i prossimi giorni: ecco i coupon",
         "type": "scatter",
         "uid": "6737d174-c566-11e8-bbca-98541b5bf12b",
         "x": [
          8.43227921369079
         ],
         "y": [
          0.5422473878657483
         ]
        },
        {
         "marker": {
          "color": "rgba(0, 0, 110, .8)",
          "size": 7
         },
         "mode": "markers",
         "text": "E' l'equinozio d'autunno - Spazio & Astronomia - ANSA.it",
         "type": "scatter",
         "uid": "6737d175-c566-11e8-bbca-98541b5bf12b",
         "x": [
          -7.732673881375799
         ],
         "y": [
          0.6303926149228304
         ]
        },
        {
         "marker": {
          "color": "rgba(0, 0, 110, .8)",
          "size": 7
         },
         "mode": "markers",
         "text": "AirPower si surriscalda, slitta il lancio - Hi-tech - ANSA.it",
         "type": "scatter",
         "uid": "6737d176-c566-11e8-bbca-98541b5bf12b",
         "x": [
          0.8247911292715187
         ],
         "y": [
          -0.22717960853590966
         ]
        },
        {
         "marker": {
          "color": "rgba(0, 0, 110, .8)",
          "size": 7
         },
         "mode": "markers",
         "text": "Usa, causa contro Facebook per inserzioni discriminatorie - Internet e Social - ANSA.it",
         "type": "scatter",
         "uid": "6737d177-c566-11e8-bbca-98541b5bf12b",
         "x": [
          4.449753710742503
         ],
         "y": [
          0.8080108870411375
         ]
        },
        {
         "marker": {
          "color": "rgba(0, 0, 110, .8)",
          "size": 7
         },
         "mode": "markers",
         "text": "SpaceX: ecco come saranno le basi umane su Marte",
         "type": "scatter",
         "uid": "6737d178-c566-11e8-bbca-98541b5bf12b",
         "x": [
          7.398948619923025
         ],
         "y": [
          -0.31434627533769827
         ]
        },
        {
         "marker": {
          "color": "rgba(0, 0, 110, .8)",
          "size": 7
         },
         "mode": "markers",
         "text": "Serre marziane, all'Enea crescono le super-piante del futuro - Biotech - ANSA.it",
         "type": "scatter",
         "uid": "6737d179-c566-11e8-bbca-98541b5bf12b",
         "x": [
          -11.13363956374602
         ],
         "y": [
          0.317263265322565
         ]
        },
        {
         "marker": {
          "color": "rgba(0, 0, 110, .8)",
          "size": 7
         },
         "mode": "markers",
         "text": "Mirrorless, full frame, 47Mpixel e 24Mpixel: in arrivo le Panasonic Lumix S1R e S1 con attacco L-Mount",
         "type": "scatter",
         "uid": "6737d17a-c566-11e8-bbca-98541b5bf12b",
         "x": [
          0.22552522952787996
         ],
         "y": [
          -1.1872685702331325
         ]
        },
        {
         "marker": {
          "color": "rgba(0, 0, 110, .8)",
          "size": 7
         },
         "mode": "markers",
         "text": "Annunciata la soluzione di un problema inseguito da 160 anni - Fisica & Matematica - ANSA.it",
         "type": "scatter",
         "uid": "6737d17b-c566-11e8-bbca-98541b5bf12b",
         "x": [
          -0.45981041035441456
         ],
         "y": [
          -0.41256934547213014
         ]
        },
        {
         "marker": {
          "color": "rgba(0, 0, 110, .8)",
          "size": 7
         },
         "mode": "markers",
         "text": "Vota i migliori produttori nell'European Hardware Community Awards 2018",
         "type": "scatter",
         "uid": "6737d17c-c566-11e8-bbca-98541b5bf12b",
         "x": [
          -1.249770164518513
         ],
         "y": [
          -1.0738755653563208
         ]
        },
        {
         "marker": {
          "color": "rgba(0, 0, 110, .8)",
          "size": 7
         },
         "mode": "markers",
         "text": "Futuri robot con pelle che sente il vento - Hi-tech - ANSA.it",
         "type": "scatter",
         "uid": "6737d17d-c566-11e8-bbca-98541b5bf12b",
         "x": [
          -5.546307534018998
         ],
         "y": [
          -0.035057959171377086
         ]
        },
        {
         "marker": {
          "color": "rgba(0, 0, 110, .8)",
          "size": 7
         },
         "mode": "markers",
         "text": "Influenza, scoperto il tallone d'Achille del virus - Biotech - ANSA.it",
         "type": "scatter",
         "uid": "6737d17e-c566-11e8-bbca-98541b5bf12b",
         "x": [
          1.9002194508534895
         ],
         "y": [
          -0.001976566292664696
         ]
        },
        {
         "marker": {
          "color": "rgba(0, 0, 110, .8)",
          "size": 7
         },
         "mode": "markers",
         "text": "Il primo display elettronico su pelle per monitorare la nostra salute",
         "type": "scatter",
         "uid": "6737d17f-c566-11e8-bbca-98541b5bf12b",
         "x": [
          -5.20447051838395
         ],
         "y": [
          -0.2019205800132029
         ]
        },
        {
         "marker": {
          "color": "rgba(0, 0, 110, .8)",
          "size": 7
         },
         "mode": "markers",
         "text": "Apple, no a violenza e sesso in show tv - Internet e Social - ANSA.it",
         "type": "scatter",
         "uid": "6737d180-c566-11e8-bbca-98541b5bf12b",
         "x": [
          0.9037164788012181
         ],
         "y": [
          -0.4586511209692039
         ]
        },
        {
         "marker": {
          "color": "rgba(0, 0, 110, .8)",
          "size": 7
         },
         "mode": "markers",
         "text": "Huawei Mate 20 Lite: un midrange dall'ottima autonomia. La recensione",
         "type": "scatter",
         "uid": "6737d181-c566-11e8-bbca-98541b5bf12b",
         "x": [
          -0.21418500006233515
         ],
         "y": [
          0.31781229510473025
         ]
        },
        {
         "marker": {
          "color": "rgba(0, 0, 110, .8)",
          "size": 7
         },
         "mode": "markers",
         "text": "iPhone Xs Max tira 3-4 volte più dell'Xs - Hi-tech - ANSA.it",
         "type": "scatter",
         "uid": "6737d182-c566-11e8-bbca-98541b5bf12b",
         "x": [
          7.004640977147845
         ],
         "y": [
          0.320636175298759
         ]
        },
        {
         "marker": {
          "color": "rgba(0, 0, 110, .8)",
          "size": 7
         },
         "mode": "markers",
         "text": "Marte, il sottosuolo può avere ospitato la vita - Spazio & Astronomia - ANSA.it",
         "type": "scatter",
         "uid": "6737d183-c566-11e8-bbca-98541b5bf12b",
         "x": [
          -7.657309880099913
         ],
         "y": [
          -1.6686539310864277
         ]
        },
        {
         "marker": {
          "color": "rgba(0, 0, 110, .8)",
          "size": 7
         },
         "mode": "markers",
         "text": "Un nuovo collega per gli esperti di riconoscimento facciale: l'intelligenza artificiale",
         "type": "scatter",
         "uid": "6737d184-c566-11e8-bbca-98541b5bf12b",
         "x": [
          4.008004486188313
         ],
         "y": [
          0.8290391321013887
         ]
        },
        {
         "marker": {
          "color": "rgba(0, 0, 110, .8)",
          "size": 7
         },
         "mode": "markers",
         "text": "Sweeper, il robot che raccoglie ortaggi e frutta - News - ANSA.it",
         "type": "scatter",
         "uid": "6737d185-c566-11e8-bbca-98541b5bf12b",
         "x": [
          -3.7302873147096878
         ],
         "y": [
          -1.9880041805999993
         ]
        },
        {
         "marker": {
          "color": "rgba(0, 0, 110, .8)",
          "size": 7
         },
         "mode": "markers",
         "text": "Amazon, 8 nuovi dispositivi con Alexa nel 2018 - Hi-tech - ANSA.it",
         "type": "scatter",
         "uid": "6737d186-c566-11e8-bbca-98541b5bf12b",
         "x": [
          10.934815623185727
         ],
         "y": [
          -0.9034082671871545
         ]
        },
        {
         "marker": {
          "color": "rgba(0, 0, 110, .8)",
          "size": 7
         },
         "mode": "markers",
         "text": "OnePlus: addio alla Dash Charge per via di una disputa legale sul nome",
         "type": "scatter",
         "uid": "6737d187-c566-11e8-bbca-98541b5bf12b",
         "x": [
          15.113864446067355
         ],
         "y": [
          0.6668072329677001
         ]
        },
        {
         "marker": {
          "color": "rgba(0, 0, 110, .8)",
          "size": 7
         },
         "mode": "markers",
         "text": "Hit Refresh,il Ceo Microsoft si racconta - Internet e Social - ANSA.it",
         "type": "scatter",
         "uid": "6737d188-c566-11e8-bbca-98541b5bf12b",
         "x": [
          -7.408941046811987
         ],
         "y": [
          2.162839995978426
         ]
        },
        {
         "marker": {
          "color": "rgba(0, 0, 110, .8)",
          "size": 7
         },
         "mode": "markers",
         "text": "Snapchat, shopping online su Amazon - Software e App - ANSA.it",
         "type": "scatter",
         "uid": "6737d189-c566-11e8-bbca-98541b5bf12b",
         "x": [
          6.507306712718764
         ],
         "y": [
          0.124217189743142
         ]
        },
        {
         "marker": {
          "color": "rgba(0, 0, 110, .8)",
          "size": 7
         },
         "mode": "markers",
         "text": "Aperta indagine penale su Tesla dopo tweet di Musk - Hi-tech - ANSA.it",
         "type": "scatter",
         "uid": "6737d18a-c566-11e8-bbca-98541b5bf12b",
         "x": [
          7.641056399519711
         ],
         "y": [
          0.6618139199623453
         ]
        },
        {
         "marker": {
          "color": "rgba(0, 0, 110, .8)",
          "size": 7
         },
         "mode": "markers",
         "text": "In arrivo una rivoluzione nella diagnostica medica: una tecnologia sensibile alla singola molecola",
         "type": "scatter",
         "uid": "6737d18b-c566-11e8-bbca-98541b5bf12b",
         "x": [
          -13.79827947020132
         ],
         "y": [
          -4.699859885475128
         ]
        },
        {
         "marker": {
          "color": "rgba(0, 0, 110, .8)",
          "size": 7
         },
         "mode": "markers",
         "text": "Mercato mondiale Pc, nel 2019 la ripresa - Hi-tech - ANSA.it",
         "type": "scatter",
         "uid": "6737d18c-c566-11e8-bbca-98541b5bf12b",
         "x": [
          -5.917084158303356
         ],
         "y": [
          -0.47528021705574003
         ]
        },
        {
         "marker": {
          "color": "rgba(0, 0, 110, .8)",
          "size": 7
         },
         "mode": "markers",
         "text": "La più grande luna di Saturno sotto una tempesta di polvere - Spazio & Astronomia - ANSA.it",
         "type": "scatter",
         "uid": "6737d18d-c566-11e8-bbca-98541b5bf12b",
         "x": [
          -9.775109305934466
         ],
         "y": [
          -2.6018964157715794
         ]
        },
        {
         "marker": {
          "color": "rgba(0, 0, 110, .8)",
          "size": 7
         },
         "mode": "markers",
         "text": "Surface Hub 2 al debutto dal 2019, con una seconda versione nel 2020",
         "type": "scatter",
         "uid": "6737d18e-c566-11e8-bbca-98541b5bf12b",
         "x": [
          -2.6757996233345285
         ],
         "y": [
          1.5738415837419026
         ]
        },
        {
         "marker": {
          "color": "rgba(0, 0, 110, .8)",
          "size": 7
         },
         "mode": "markers",
         "text": "È il momento giusto per comprare un telefono rugged, secondo Blackview",
         "type": "scatter",
         "uid": "6737d18f-c566-11e8-bbca-98541b5bf12b",
         "x": [
          3.0246215951363844
         ],
         "y": [
          -0.8138674502024384
         ]
        },
        {
         "marker": {
          "color": "rgba(0, 0, 110, .8)",
          "size": 7
         },
         "mode": "markers",
         "text": "Twitter, si potrà tornare a cronologia tweet - Internet e Social - ANSA.it",
         "type": "scatter",
         "uid": "6737d190-c566-11e8-bbca-98541b5bf12b",
         "x": [
          10.06085115044918
         ],
         "y": [
          -0.6965587048581887
         ]
        },
        {
         "marker": {
          "color": "rgba(0, 0, 110, .8)",
          "size": 7
         },
         "mode": "markers",
         "text": "Irix 150mm F2.8 per full frame con attacchi Canon EF, Nikon F e Pentax K a bassissima distorsione",
         "type": "scatter",
         "uid": "6737d191-c566-11e8-bbca-98541b5bf12b",
         "x": [
          -6.53498062082071
         ],
         "y": [
          0.7322381713902234
         ]
        },
        {
         "marker": {
          "color": "rgba(0, 0, 110, .8)",
          "size": 7
         },
         "mode": "markers",
         "text": "Facebook: ex moderatrice fa causa, traumatizzata da immagini - Hi-tech - ANSA.it",
         "type": "scatter",
         "uid": "6737d192-c566-11e8-bbca-98541b5bf12b",
         "x": [
          -0.2114751205040916
         ],
         "y": [
          1.1122140683266402
         ]
        },
        {
         "marker": {
          "color": "rgba(0, 0, 110, .8)",
          "size": 7
         },
         "mode": "markers",
         "text": "SoFi, un soft robot per studiare la vita nell’oceano",
         "type": "scatter",
         "uid": "6737d193-c566-11e8-bbca-98541b5bf12b",
         "x": [
          -4.4423385839302885
         ],
         "y": [
          -0.8522383097223375
         ]
        },
        {
         "marker": {
          "color": "rgba(0, 0, 110, .8)",
          "size": 7
         },
         "mode": "markers",
         "text": "Instagram sfida Amazon sullo shopping - Internet e Social - ANSA.it",
         "type": "scatter",
         "uid": "6737d194-c566-11e8-bbca-98541b5bf12b",
         "x": [
          3.8961106498453364
         ],
         "y": [
          0.7608622895186582
         ]
        },
        {
         "marker": {
          "color": "rgba(0, 0, 110, .8)",
          "size": 7
         },
         "mode": "markers",
         "text": "Apple conta le telefonate contro le frodi - Hi-tech - ANSA.it",
         "type": "scatter",
         "uid": "6737d195-c566-11e8-bbca-98541b5bf12b",
         "x": [
          6.0205536302688
         ],
         "y": [
          -0.6081793770755474
         ]
        },
        {
         "marker": {
          "color": "rgba(0, 0, 110, .8)",
          "size": 7
         },
         "mode": "markers",
         "text": "RFID: dalle etichette dei supermercati a sensori per l'ambiente",
         "type": "scatter",
         "uid": "6737d196-c566-11e8-bbca-98541b5bf12b",
         "x": [
          -9.115780038381688
         ],
         "y": [
          0.2891018864896734
         ]
        },
        {
         "marker": {
          "color": "rgba(0, 0, 110, .8)",
          "size": 7
         },
         "mode": "markers",
         "text": "Wsj, Facebook ha trattato con le banche per i dati degli utenti - Internet e Social - ANSA.it",
         "type": "scatter",
         "uid": "6737d197-c566-11e8-bbca-98541b5bf12b",
         "x": [
          -0.38248948765317436
         ],
         "y": [
          1.1617604276294102
         ]
        },
        {
         "marker": {
          "color": "rgba(0, 0, 110, .8)",
          "size": 7
         },
         "mode": "markers",
         "text": "Tutti fanno la mirrorless full frame? Fujifilm alza il medio (formato) con GFX 50R",
         "type": "scatter",
         "uid": "6737d198-c566-11e8-bbca-98541b5bf12b",
         "x": [
          -7.105118000104758
         ],
         "y": [
          -1.9475611623930875
         ]
        },
        {
         "marker": {
          "color": "rgba(0, 0, 110, .8)",
          "size": 7
         },
         "mode": "markers",
         "text": "Nell'iPhone Day, Xiaomi lancia Mi 8 Pro - Hi-tech - ANSA.it",
         "type": "scatter",
         "uid": "6737d199-c566-11e8-bbca-98541b5bf12b",
         "x": [
          3.011280683387887
         ],
         "y": [
          -0.8362241722565137
         ]
        },
        {
         "marker": {
          "color": "rgba(0, 0, 110, .8)",
          "size": 7
         },
         "mode": "markers",
         "text": "Usa, causa contro Facebook per inserzioni discriminatorie - Internet e Social - ANSA.it",
         "type": "scatter",
         "uid": "6737d19a-c566-11e8-bbca-98541b5bf12b",
         "x": [
          4.734477551409671
         ],
         "y": [
          -0.09781141853080691
         ]
        },
        {
         "marker": {
          "color": "rgba(0, 0, 110, .8)",
          "size": 7
         },
         "mode": "markers",
         "text": "Fb, 'war room' in vista voto Usa e Ue - Internet e Social - ANSA.it",
         "type": "scatter",
         "uid": "6737d19b-c566-11e8-bbca-98541b5bf12b",
         "x": [
          5.691736761645112
         ],
         "y": [
          0.5334783437320185
         ]
        },
        {
         "marker": {
          "color": "rgba(0, 0, 110, .8)",
          "size": 7
         },
         "mode": "markers",
         "text": "Annunciata la soluzione di un problema inseguito da 160 anni - Fisica & Matematica - ANSA.it",
         "type": "scatter",
         "uid": "6737d19c-c566-11e8-bbca-98541b5bf12b",
         "x": [
          -0.5106695169588849
         ],
         "y": [
          -0.6767224800737145
         ]
        },
        {
         "marker": {
          "color": "rgba(0, 0, 110, .8)",
          "size": 7
         },
         "mode": "markers",
         "text": "Notti più luminose con la Luna del raccolto - Spazio & Astronomia - ANSA.it",
         "type": "scatter",
         "uid": "6737d19d-c566-11e8-bbca-98541b5bf12b",
         "x": [
          -6.791446663264146
         ],
         "y": [
          1.0013368823347957
         ]
        },
        {
         "marker": {
          "color": "rgba(0, 0, 110, .8)",
          "size": 7
         },
         "mode": "markers",
         "text": "Le auto a guida autonoma migliorano il flusso del traffico",
         "type": "scatter",
         "uid": "6737d19e-c566-11e8-bbca-98541b5bf12b",
         "x": [
          -3.3486735936599548
         ],
         "y": [
          1.5568735839103687
         ]
        },
        {
         "marker": {
          "color": "rgba(0, 0, 110, .8)",
          "size": 7
         },
         "mode": "markers",
         "text": "Apple ridà oltre 14 miliardi di euro di aiuti fiscali all'Irlanda - Tlc - ANSA.it",
         "type": "scatter",
         "uid": "6737d19f-c566-11e8-bbca-98541b5bf12b",
         "x": [
          0.6548435119570613
         ],
         "y": [
          0.20075679086082207
         ]
        },
        {
         "marker": {
          "color": "rgba(0, 0, 110, .8)",
          "size": 7
         },
         "mode": "markers",
         "text": "Apple completa l'acquisizione di Shazam - Software e App - ANSA.it",
         "type": "scatter",
         "uid": "6737d1a0-c566-11e8-bbca-98541b5bf12b",
         "x": [
          7.8732562617402735
         ],
         "y": [
          0.5515992196744617
         ]
        },
        {
         "marker": {
          "color": "rgba(0, 0, 110, .8)",
          "size": 7
         },
         "mode": "markers",
         "text": "Ripristinare la sensazione di movimento nei pazienti con protesi",
         "type": "scatter",
         "uid": "6737d1a1-c566-11e8-bbca-98541b5bf12b",
         "x": [
          -5.909723604656568
         ],
         "y": [
          0.018150735338316223
         ]
        },
        {
         "marker": {
          "color": "rgba(0, 0, 110, .8)",
          "size": 7
         },
         "mode": "markers",
         "text": "Malaria, una reazione a catena genetica annienta le zanzare - Biotech - ANSA.it",
         "type": "scatter",
         "uid": "6737d1a2-c566-11e8-bbca-98541b5bf12b",
         "x": [
          -8.831502777349352
         ],
         "y": [
          -0.19335689531512798
         ]
        },
        {
         "marker": {
          "color": "rgba(0, 0, 110, .8)",
          "size": 7
         },
         "mode": "markers",
         "text": "E' Reggio Emilia la città più social d'Italia - Internet e Social - ANSA.it",
         "type": "scatter",
         "uid": "6737d1a3-c566-11e8-bbca-98541b5bf12b",
         "x": [
          -11.486399481595136
         ],
         "y": [
          6.004609770596425
         ]
        },
        {
         "marker": {
          "color": "rgba(0, 0, 110, .8)",
          "size": 7
         },
         "mode": "markers",
         "text": "Il gene che al mattino risveglia i fiori - Biotech - ANSA.it",
         "type": "scatter",
         "uid": "6737d1a4-c566-11e8-bbca-98541b5bf12b",
         "x": [
          -2.388929095613488
         ],
         "y": [
          1.0296779529582845
         ]
        },
        {
         "marker": {
          "color": "rgba(0, 0, 110, .8)",
          "size": 7
         },
         "mode": "markers",
         "text": "Un robot per l’autismo: le terapie incontrano l'intelligenza artificiale",
         "type": "scatter",
         "uid": "6737d1a5-c566-11e8-bbca-98541b5bf12b",
         "x": [
          -9.828462658793345
         ],
         "y": [
          1.5800498228829936
         ]
        },
        {
         "marker": {
          "color": "rgba(0, 0, 110, .8)",
          "size": 7
         },
         "mode": "markers",
         "text": "V-Rally 4, disponibile da oggi la versione PC",
         "type": "scatter",
         "uid": "6737d1a6-c566-11e8-bbca-98541b5bf12b",
         "x": [
          -10.083945487213825
         ],
         "y": [
          -0.567885828808078
         ]
        },
        {
         "marker": {
          "color": "rgba(0, 0, 110, .8)",
          "size": 7
         },
         "mode": "markers",
         "text": "L’impronta fossile dell'animale più antico - News - ANSA.it",
         "type": "scatter",
         "uid": "6737d1a7-c566-11e8-bbca-98541b5bf12b",
         "x": [
          -10.830427191096513
         ],
         "y": [
          -2.43355252071436
         ]
        },
        {
         "marker": {
          "color": "rgba(0, 0, 110, .8)",
          "size": 7
         },
         "mode": "markers",
         "text": "Come addomesticare un ragno per capire i segreti dei suoi salti",
         "type": "scatter",
         "uid": "6737d1a8-c566-11e8-bbca-98541b5bf12b",
         "x": [
          -4.5035825607691296
         ],
         "y": [
          0.30542817181851367
         ]
        },
        {
         "marker": {
          "color": "rgba(0, 0, 110, .8)",
          "size": 7
         },
         "mode": "markers",
         "text": "Meglio di un ologramma: quando una particella intrappolata dà vita a un’immagine 3D",
         "type": "scatter",
         "uid": "6737d1a9-c566-11e8-bbca-98541b5bf12b",
         "x": [
          -4.747324589243465
         ],
         "y": [
          -1.1365159138933847
         ]
        },
        {
         "marker": {
          "color": "rgba(0, 0, 110, .8)",
          "size": 7
         },
         "mode": "markers",
         "text": "Conto corrente N26: il miglior modo per pagare è dallo smartphone",
         "type": "scatter",
         "uid": "6737d1aa-c566-11e8-bbca-98541b5bf12b",
         "x": [
          -1.1609068081749896
         ],
         "y": [
          -1.1176115316015909
         ]
        },
        {
         "marker": {
          "color": "rgba(0, 0, 110, .8)",
          "size": 7
         },
         "mode": "markers",
         "text": "Immagini mozzafiato delle nubi blu che brillano ai poli - Spazio & Astronomia - ANSA.it",
         "type": "scatter",
         "uid": "6737d1ab-c566-11e8-bbca-98541b5bf12b",
         "x": [
          -5.0912615491182
         ],
         "y": [
          0.5853085566242175
         ]
        },
        {
         "marker": {
          "color": "rgba(0, 0, 110, .8)",
          "size": 7
         },
         "mode": "markers",
         "text": "Primi scatti dall'asteroide Ryugu - Spazio & Astronomia - ANSA.it",
         "type": "scatter",
         "uid": "6737d1ac-c566-11e8-bbca-98541b5bf12b",
         "x": [
          -7.539364456852231
         ],
         "y": [
          -1.616622498029353
         ]
        },
        {
         "marker": {
          "color": "rgba(0, 0, 110, .8)",
          "size": 7
         },
         "mode": "markers",
         "text": "Microsoft Office 2019 è ora disponibile per Windows e macOS",
         "type": "scatter",
         "uid": "6737d1ad-c566-11e8-bbca-98541b5bf12b",
         "x": [
          8.627884552772382
         ],
         "y": [
          0.5829827087187289
         ]
        },
        {
         "marker": {
          "color": "rgba(0, 0, 110, .8)",
          "size": 7
         },
         "mode": "markers",
         "text": "Microsoft,40mln per AI a scopi umanitari - Hi-tech - ANSA.it",
         "type": "scatter",
         "uid": "6737d1ae-c566-11e8-bbca-98541b5bf12b",
         "x": [
          5.144144936049739
         ],
         "y": [
          -0.6156628031763696
         ]
        },
        {
         "marker": {
          "color": "rgba(0, 0, 110, .8)",
          "size": 7
         },
         "mode": "markers",
         "text": "Skiller Mech SGK3 è una tastiera meccanica che dà controllo totale ai giocatori",
         "type": "scatter",
         "uid": "6737d1af-c566-11e8-bbca-98541b5bf12b",
         "x": [
          -0.5343895845672753
         ],
         "y": [
          -0.05995635273628234
         ]
        },
        {
         "marker": {
          "color": "rgba(0, 0, 110, .8)",
          "size": 7
         },
         "mode": "markers",
         "text": "Un sensore applicato su un dente potrà tracciare i nostri pasti",
         "type": "scatter",
         "uid": "6737d1b0-c566-11e8-bbca-98541b5bf12b",
         "x": [
          -7.1122139565109315
         ],
         "y": [
          -0.9460653621713081
         ]
        },
        {
         "marker": {
          "color": "rgba(0, 0, 110, .8)",
          "size": 7
         },
         "mode": "markers",
         "text": "Amazon vuole aprire 3mila alimentari - Hi-tech - ANSA.it",
         "type": "scatter",
         "uid": "6737d1b1-c566-11e8-bbca-98541b5bf12b",
         "x": [
          -2.5733550427487413
         ],
         "y": [
          0.2417480440635949
         ]
        },
        {
         "marker": {
          "color": "rgba(0, 0, 110, .8)",
          "size": 7
         },
         "mode": "markers",
         "text": "Un nuovo metodo per identificare la chiralità di una molecola",
         "type": "scatter",
         "uid": "6737d1b2-c566-11e8-bbca-98541b5bf12b",
         "x": [
          -6.221494932103973
         ],
         "y": [
          0.6946070478585799
         ]
        },
        {
         "marker": {
          "color": "rgba(0, 0, 110, .8)",
          "size": 7
         },
         "mode": "markers",
         "text": "Kaspersky,gli Usa ci hanno preso di mira - Internet e Social - ANSA.it",
         "type": "scatter",
         "uid": "6737d1b3-c566-11e8-bbca-98541b5bf12b",
         "x": [
          6.493911063712039
         ],
         "y": [
          1.0448438714102004
         ]
        },
        {
         "marker": {
          "color": "rgba(0, 0, 110, .8)",
          "size": 7
         },
         "mode": "markers",
         "text": "L-Mount: Leica, Panasonic e Sigma all'attacco del settore mirrorless full frame e APS-C",
         "type": "scatter",
         "uid": "6737d1b4-c566-11e8-bbca-98541b5bf12b",
         "x": [
          0.9867689526388052
         ],
         "y": [
          -1.6376963652441012
         ]
        },
        {
         "marker": {
          "color": "rgba(0, 0, 110, .8)",
          "size": 7
         },
         "mode": "markers",
         "text": "Spamming estorsivo, Polizia Postale lancia l'allarme - Internet e Social - ANSA.it",
         "type": "scatter",
         "uid": "6737d1b5-c566-11e8-bbca-98541b5bf12b",
         "x": [
          2.17916386428713
         ],
         "y": [
          -0.4618035779699356
         ]
        },
        {
         "marker": {
          "color": "rgba(0, 0, 110, .8)",
          "size": 7
         },
         "mode": "markers",
         "text": "iPhone, 400 persone in coda a Singapore - Hi-tech - ANSA.it",
         "type": "scatter",
         "uid": "6737d1b6-c566-11e8-bbca-98541b5bf12b",
         "x": [
          -4.682002381215637
         ],
         "y": [
          0.6415703059794398
         ]
        },
        {
         "marker": {
          "color": "rgba(0, 0, 110, .8)",
          "size": 7
         },
         "mode": "markers",
         "text": "Facebook: la Ue attacca, migliori la trasparenza o multe in arrivo - Internet e Social - ANSA.it",
         "type": "scatter",
         "uid": "6737d1b7-c566-11e8-bbca-98541b5bf12b",
         "x": [
          5.649586997662633
         ],
         "y": [
          0.38134957884394965
         ]
        },
        {
         "marker": {
          "color": "rgba(0, 0, 110, .8)",
          "size": 7
         },
         "mode": "markers",
         "text": "Facebook e Google nel mirino di Trump - Internet e Social - ANSA.it",
         "type": "scatter",
         "uid": "6737d1b8-c566-11e8-bbca-98541b5bf12b",
         "x": [
          -0.1398089737383964
         ],
         "y": [
          0.6099355019132722
         ]
        },
        {
         "marker": {
          "color": "rgba(0, 0, 110, .8)",
          "size": 7
         },
         "mode": "markers",
         "text": "Terremoti: dall’ENEA un nuovo metodo per individuare i beni culturali a rischio",
         "type": "scatter",
         "uid": "6737d1b9-c566-11e8-bbca-98541b5bf12b",
         "x": [
          -7.233573264568496
         ],
         "y": [
          -0.254797377944715
         ]
        },
        {
         "marker": {
          "color": "rgba(0, 0, 110, .8)",
          "size": 7
         },
         "mode": "markers",
         "text": "Robot protagonisti tra scienza e spettacolo a Festival Pisa - Tecnologie - ANSA.it",
         "type": "scatter",
         "uid": "6737d1ba-c566-11e8-bbca-98541b5bf12b",
         "x": [
          -8.595123194690098
         ],
         "y": [
          0.5461128668415033
         ]
        },
        {
         "marker": {
          "color": "rgba(0, 0, 110, .8)",
          "size": 7
         },
         "mode": "markers",
         "text": "Amazon, a Roma porta il pecorino a casa - Internet e Social - ANSA.it",
         "type": "scatter",
         "uid": "6737d1bb-c566-11e8-bbca-98541b5bf12b",
         "x": [
          -3.012946018892696
         ],
         "y": [
          -0.576145148898306
         ]
        },
        {
         "marker": {
          "color": "rgba(0, 0, 110, .8)",
          "size": 7
         },
         "mode": "markers",
         "text": "Tifosi svizzeri bloccano una partita di calcio per protesta contro gli eSport",
         "type": "scatter",
         "uid": "6737d1bc-c566-11e8-bbca-98541b5bf12b",
         "x": [
          11.686178102509999
         ],
         "y": [
          -0.8580436904207969
         ]
        },
        {
         "marker": {
          "color": "rgba(0, 0, 110, .8)",
          "size": 7
         },
         "mode": "markers",
         "text": "Nella Via Lattea un autoscontro stellare - News - ANSA.it",
         "type": "scatter",
         "uid": "6737d1bd-c566-11e8-bbca-98541b5bf12b",
         "x": [
          0.5608911519673494
         ],
         "y": [
          0.07892755642132447
         ]
        },
        {
         "marker": {
          "color": "rgba(0, 0, 110, .8)",
          "size": 7
         },
         "mode": "markers",
         "text": "California, legge proteggerà da hacker oggetti connessi - Tlc - ANSA.it",
         "type": "scatter",
         "uid": "6737d1be-c566-11e8-bbca-98541b5bf12b",
         "x": [
          -0.010354994097391948
         ],
         "y": [
          -0.4262269132893289
         ]
        },
        {
         "marker": {
          "color": "rgba(0, 0, 110, .8)",
          "size": 7
         },
         "mode": "markers",
         "text": "Samsung, i nuovi Galaxy J6+ e J4+ - Tlc - ANSA.it",
         "type": "scatter",
         "uid": "6737d1bf-c566-11e8-bbca-98541b5bf12b",
         "x": [
          -1.8759923952177204
         ],
         "y": [
          -0.9368455656123209
         ]
        },
        {
         "marker": {
          "color": "rgba(0, 0, 110, .8)",
          "size": 7
         },
         "mode": "markers",
         "text": "Tingersi i capelli con il grafene",
         "type": "scatter",
         "uid": "6737d1c0-c566-11e8-bbca-98541b5bf12b",
         "x": [
          -5.088403201704313
         ],
         "y": [
          0.870980873238118
         ]
        },
        {
         "marker": {
          "color": "rgba(0, 0, 110, .8)",
          "size": 7
         },
         "mode": "markers",
         "text": "Da una miniera del Sulcis la spia della materia oscura - Fisica & Matematica - ANSA.it",
         "type": "scatter",
         "uid": "6737d1c1-c566-11e8-bbca-98541b5bf12b",
         "x": [
          -10.44475678349998
         ],
         "y": [
          1.981940850797549
         ]
        },
        {
         "marker": {
          "color": "rgba(0, 0, 110, .8)",
          "size": 7
         },
         "mode": "markers",
         "text": "I co-fondatori di Instagram lasciano la società - Internet e Social - ANSA.it",
         "type": "scatter",
         "uid": "6737d1c2-c566-11e8-bbca-98541b5bf12b",
         "x": [
          9.853587543547333
         ],
         "y": [
          0.04890547210954085
         ]
        },
        {
         "marker": {
          "color": "rgba(0, 0, 110, .8)",
          "size": 7
         },
         "mode": "markers",
         "text": "Anche per Playstation Classic c'è operazione nostalgia - Hi-tech - ANSA.it",
         "type": "scatter",
         "uid": "6737d1c3-c566-11e8-bbca-98541b5bf12b",
         "x": [
          2.8589104487162094
         ],
         "y": [
          -0.32222886272560797
         ]
        },
        {
         "marker": {
          "color": "rgba(0, 0, 110, .8)",
          "size": 7
         },
         "mode": "markers",
         "text": "Ricoh al lavoro sull'imminente GR III, compatta che sostituirà la GR II",
         "type": "scatter",
         "uid": "6737d1c4-c566-11e8-bbca-98541b5bf12b",
         "x": [
          -6.038938167074944
         ],
         "y": [
          -0.4674474736962397
         ]
        },
        {
         "marker": {
          "color": "rgba(0, 0, 110, .8)",
          "size": 7
         },
         "mode": "markers",
         "text": "I fondatori di Instagram lasciano Facebook: ecco cosa faranno in futuro",
         "type": "scatter",
         "uid": "6737d1c5-c566-11e8-bbca-98541b5bf12b",
         "x": [
          6.805865446886265
         ],
         "y": [
          -0.5752994200400303
         ]
        },
        {
         "marker": {
          "color": "rgba(0, 0, 110, .8)",
          "size": 7
         },
         "mode": "markers",
         "text": "AirPower si surriscalda, slitta il lancio - Hi-tech - ANSA.it",
         "type": "scatter",
         "uid": "6737d1c6-c566-11e8-bbca-98541b5bf12b",
         "x": [
          0.7946800511904377
         ],
         "y": [
          -0.4203831003826365
         ]
        },
        {
         "marker": {
          "color": "rgba(0, 0, 110, .8)",
          "size": 7
         },
         "mode": "markers",
         "text": "TIM, minuti illimitati e 50GB a 9,99 Euro, ma solo per pochi giorni: ecco come fare per averla",
         "type": "scatter",
         "uid": "6737d1c7-c566-11e8-bbca-98541b5bf12b",
         "x": [
          7.768389219991929
         ],
         "y": [
          0.5305077127099478
         ]
        },
        {
         "marker": {
          "color": "rgba(0, 0, 110, .8)",
          "size": 7
         },
         "mode": "markers",
         "text": "Accordo Dis-Samsung per promuovere cultura sicurezza - Tlc - ANSA.it",
         "type": "scatter",
         "uid": "6737d1c8-c566-11e8-bbca-98541b5bf12b",
         "x": [
          1.6448876696197055
         ],
         "y": [
          -0.5714162238575485
         ]
        },
        {
         "marker": {
          "color": "rgba(0, 0, 110, .8)",
          "size": 7
         },
         "mode": "markers",
         "text": "Amazon, lente Ue su dati sensibili - Internet e Social - ANSA.it",
         "type": "scatter",
         "uid": "6737d1c9-c566-11e8-bbca-98541b5bf12b",
         "x": [
          9.639481702203692
         ],
         "y": [
          -0.012398889255171984
         ]
        },
        {
         "marker": {
          "color": "rgba(0, 0, 110, .8)",
          "size": 7
         },
         "mode": "markers",
         "text": "Ecco il carattere che allunga i documenti, sogno di ogni studente - Hi-tech - ANSA.it",
         "type": "scatter",
         "uid": "6737d1ca-c566-11e8-bbca-98541b5bf12b",
         "x": [
          5.957304929218157
         ],
         "y": [
          -0.3869022080686457
         ]
        },
        {
         "marker": {
          "color": "rgba(0, 0, 110, .8)",
          "size": 7
         },
         "mode": "markers",
         "text": "Google Home Mini lo speaker più venduto - Hi-tech - ANSA.it",
         "type": "scatter",
         "uid": "6737d1cb-c566-11e8-bbca-98541b5bf12b",
         "x": [
          4.523382190636151
         ],
         "y": [
          -0.8342428820869258
         ]
        },
        {
         "marker": {
          "color": "rgba(0, 0, 110, .8)",
          "size": 7
         },
         "mode": "markers",
         "text": "iPhone, a Milano tutti in fila per i nuovi modelli - Tlc - ANSA.it",
         "type": "scatter",
         "uid": "6737d1cc-c566-11e8-bbca-98541b5bf12b",
         "x": [
          4.669379646057513
         ],
         "y": [
          1.014808709835778
         ]
        },
        {
         "marker": {
          "color": "rgba(0, 0, 110, .8)",
          "size": 7
         },
         "mode": "markers",
         "text": "Fb:ex moderatrice fa causa,traumatizzata - Internet e Social - ANSA.it",
         "type": "scatter",
         "uid": "6737d1cd-c566-11e8-bbca-98541b5bf12b",
         "x": [
          -0.4886347863613074
         ],
         "y": [
          1.4842963591253404
         ]
        },
        {
         "marker": {
          "color": "rgba(0, 0, 110, .8)",
          "size": 7
         },
         "mode": "markers",
         "text": "Serre marziane, all'Enea crescono le super-piante del futuro - Biotech - ANSA.it",
         "type": "scatter",
         "uid": "6737d1ce-c566-11e8-bbca-98541b5bf12b",
         "x": [
          -11.484095057314548
         ],
         "y": [
          0.40088841461248387
         ]
        },
        {
         "marker": {
          "color": "rgba(0, 0, 110, .8)",
          "size": 7
         },
         "mode": "markers",
         "text": "SpaceX: ecco come saranno le basi umane su Marte",
         "type": "scatter",
         "uid": "6737d1cf-c566-11e8-bbca-98541b5bf12b",
         "x": [
          7.078185435335369
         ],
         "y": [
          -1.2729932061698706
         ]
        },
        {
         "marker": {
          "color": "rgba(0, 0, 110, .8)",
          "size": 7
         },
         "mode": "markers",
         "text": "SpaceX: ecco come saranno le basi umane su Marte",
         "type": "scatter",
         "uid": "6737d1d0-c566-11e8-bbca-98541b5bf12b",
         "x": [
          7.448999976674169
         ],
         "y": [
          -1.199878274228977
         ]
        },
        {
         "marker": {
          "color": "rgba(0, 0, 110, .8)",
          "size": 7
         },
         "mode": "markers",
         "text": "Mirrorless, full frame, 47Mpixel e 24Mpixel: in arrivo le Panasonic Lumix S1R e S1 con attacco L-Mount",
         "type": "scatter",
         "uid": "6737d1d1-c566-11e8-bbca-98541b5bf12b",
         "x": [
          -0.41782934270968314
         ],
         "y": [
          -1.2641507360320916
         ]
        }
       ],
       "layout": {
        "hovermode": "closest",
        "showlegend": false,
        "title": "PCA Representantion of DocVectors",
        "xaxis": {
         "gridwidth": 2,
         "ticklen": 5,
         "title": "first component"
        },
        "yaxis": {
         "gridwidth": 2,
         "ticklen": 5,
         "title": "second component"
        }
       }
      }
     },
     "metadata": {},
     "output_type": "display_data"
    },
    {
     "data": {
      "application/vnd.plotly.v1+json": {
       "data": [
        {
         "marker": {
          "color": "rgba(0, 0, 110, .8)",
          "size": 7
         },
         "mode": "markers",
         "text": "Con iOS 12 iPhone e iPad si possono programmare - La Stampa",
         "type": "scatter",
         "uid": "68a0d0d8-c566-11e8-bbca-98541b5bf12b",
         "x": [
          -2.39368825134913
         ],
         "y": [
          0.3300818262446473
         ]
        },
        {
         "marker": {
          "color": "rgba(0, 0, 110, .8)",
          "size": 7
         },
         "mode": "markers",
         "text": "Microsoft e Lobe: l’intelligenza artificiale fai da te - La Stampa",
         "type": "scatter",
         "uid": "68a0d0d9-c566-11e8-bbca-98541b5bf12b",
         "x": [
          0.9026495578654762
         ],
         "y": [
          -1.1397362999778986
         ]
        },
        {
         "marker": {
          "color": "rgba(0, 0, 110, .8)",
          "size": 7
         },
         "mode": "markers",
         "text": "Tempesta su Titano: le immagini di Cassini - Repubblica.it",
         "type": "scatter",
         "uid": "68a0d0da-c566-11e8-bbca-98541b5bf12b",
         "x": [
          -2.681923042200517
         ],
         "y": [
          0.19489706070217677
         ]
        },
        {
         "marker": {
          "color": "rgba(0, 0, 110, .8)",
          "size": 7
         },
         "mode": "markers",
         "text": "I capelli hanno fiuto, molecole odorose li aiutano a crescere - Repubblica.it",
         "type": "scatter",
         "uid": "68a0d0db-c566-11e8-bbca-98541b5bf12b",
         "x": [
          -0.8370746059119151
         ],
         "y": [
          -0.19755789042350325
         ]
        },
        {
         "marker": {
          "color": "rgba(0, 0, 110, .8)",
          "size": 7
         },
         "mode": "markers",
         "text": "Cinque cose da fare per gestire bene la sicurezza degli account social aziendali - Il Sole 24 ORE",
         "type": "scatter",
         "uid": "68a0d0dc-c566-11e8-bbca-98541b5bf12b",
         "x": [
          1.786049327966515
         ],
         "y": [
          -0.6869348824068777
         ]
        },
        {
         "marker": {
          "color": "rgba(0, 0, 110, .8)",
          "size": 7
         },
         "mode": "markers",
         "text": "P101 investe 1,5 milioni in Wonderflow - Il Sole 24 ORE",
         "type": "scatter",
         "uid": "68a0d0dd-c566-11e8-bbca-98541b5bf12b",
         "x": [
          0.5696474275934742
         ],
         "y": [
          0.2869318388590113
         ]
        },
        {
         "marker": {
          "color": "rgba(0, 0, 110, .8)",
          "size": 7
         },
         "mode": "markers",
         "text": "Gli archeologi potrebbero aver individuato la nave del capitano Cook - Repubblica.it",
         "type": "scatter",
         "uid": "68a0d0de-c566-11e8-bbca-98541b5bf12b",
         "x": [
          1.7030919924899626
         ],
         "y": [
          0.4523887775625125
         ]
        },
        {
         "marker": {
          "color": "rgba(0, 0, 110, .8)",
          "size": 7
         },
         "mode": "markers",
         "text": "Scoperto un imponente complesso con terme romane a sud del Cairo - Repubblica.it",
         "type": "scatter",
         "uid": "68a0d0df-c566-11e8-bbca-98541b5bf12b",
         "x": [
          7.371898880546659
         ],
         "y": [
          0.6587104265652238
         ]
        },
        {
         "marker": {
          "color": "rgba(0, 0, 110, .8)",
          "size": 7
         },
         "mode": "markers",
         "text": "HyperloopTT: così nel futuro viaggeremo a 1000 km/h HyperloopTT: così nel futuro viaggeremo a 1000 km/h - La Stampa",
         "type": "scatter",
         "uid": "68a0d0e0-c566-11e8-bbca-98541b5bf12b",
         "x": [
          8.739146049100839
         ],
         "y": [
          -0.2569047439946159
         ]
        },
        {
         "marker": {
          "color": "rgba(0, 0, 110, .8)",
          "size": 7
         },
         "mode": "markers",
         "text": "Ecco cosa scatena il sonno incontrollabile nei pazienti narcolettici - Repubblica.it",
         "type": "scatter",
         "uid": "68a0d0e1-c566-11e8-bbca-98541b5bf12b",
         "x": [
          5.861066703673758
         ],
         "y": [
          -0.5476585343665366
         ]
        },
        {
         "marker": {
          "color": "rgba(0, 0, 110, .8)",
          "size": 7
         },
         "mode": "markers",
         "text": "Perché i fondatori di Instagram hanno lasciato la società - La Stampa",
         "type": "scatter",
         "uid": "68a0d0e2-c566-11e8-bbca-98541b5bf12b",
         "x": [
          0.4020031479998197
         ],
         "y": [
          -1.0436561835358829
         ]
        },
        {
         "marker": {
          "color": "rgba(0, 0, 110, .8)",
          "size": 7
         },
         "mode": "markers",
         "text": "Alibaba punta sul settore dei chip - La Stampa",
         "type": "scatter",
         "uid": "68a0d0e3-c566-11e8-bbca-98541b5bf12b",
         "x": [
          3.455458302602344
         ],
         "y": [
          -0.4809463272033017
         ]
        },
        {
         "marker": {
          "color": "rgba(0, 0, 110, .8)",
          "size": 7
         },
         "mode": "markers",
         "text": "Londra, ritrovata la lettera \"eretica\" di Galileo Galilei. \"E' l'originale\" - Repubblica.it",
         "type": "scatter",
         "uid": "68a0d0e4-c566-11e8-bbca-98541b5bf12b",
         "x": [
          -5.789822591903086
         ],
         "y": [
          0.7534993046971469
         ]
        },
        {
         "marker": {
          "color": "rgba(0, 0, 110, .8)",
          "size": 7
         },
         "mode": "markers",
         "text": "Le cicatrici stampate in 3D per lenire la malattia - Il Sole 24 ORE",
         "type": "scatter",
         "uid": "68a0d0e5-c566-11e8-bbca-98541b5bf12b",
         "x": [
          -5.22994587679239
         ],
         "y": [
          0.9924489559047026
         ]
        },
        {
         "marker": {
          "color": "rgba(0, 0, 110, .8)",
          "size": 7
         },
         "mode": "markers",
         "text": "Mojave, così Apple rinnova MacOS e il desktop diventa intelligente - Repubblica.it",
         "type": "scatter",
         "uid": "68a0d0e6-c566-11e8-bbca-98541b5bf12b",
         "x": [
          -3.4688747493764795
         ],
         "y": [
          0.825988295087604
         ]
        },
        {
         "marker": {
          "color": "rgba(0, 0, 110, .8)",
          "size": 7
         },
         "mode": "markers",
         "text": "Apple prevede che iPhone XR sarà il modello di maggior successo - La Stampa",
         "type": "scatter",
         "uid": "68a0d0e7-c566-11e8-bbca-98541b5bf12b",
         "x": [
          4.791986589827772
         ],
         "y": [
          -0.0944071203076547
         ]
        },
        {
         "marker": {
          "color": "rgba(0, 0, 110, .8)",
          "size": 7
         },
         "mode": "markers",
         "text": "Finalmente Instagram testa una funzione per condividere i post degli altri - Repubblica.it",
         "type": "scatter",
         "uid": "68a0d0e8-c566-11e8-bbca-98541b5bf12b",
         "x": [
          6.020847351431428
         ],
         "y": [
          0.7126127232450251
         ]
        },
        {
         "marker": {
          "color": "rgba(0, 0, 110, .8)",
          "size": 7
         },
         "mode": "markers",
         "text": "Spotify rende la vita più semplice agli artisti indipendenti - La Stampa",
         "type": "scatter",
         "uid": "68a0d0e9-c566-11e8-bbca-98541b5bf12b",
         "x": [
          6.221550751969746
         ],
         "y": [
          1.1351321466481785
         ]
        },
        {
         "marker": {
          "color": "rgba(0, 0, 110, .8)",
          "size": 7
         },
         "mode": "markers",
         "text": "Marchesan, un'italiana tra gli scienziati emergenti nel mondo: \"La sfida più grande? Le differenze di genere\" - Repubblica.it",
         "type": "scatter",
         "uid": "68a0d0ea-c566-11e8-bbca-98541b5bf12b",
         "x": [
          3.6879897340573717
         ],
         "y": [
          0.5437190661574846
         ]
        },
        {
         "marker": {
          "color": "rgba(0, 0, 110, .8)",
          "size": 7
         },
         "mode": "markers",
         "text": "La realtà virtuale è già morta? No, a giudicare dai nuovi titoli del gaming - Il Sole 24 ORE",
         "type": "scatter",
         "uid": "68a0d0eb-c566-11e8-bbca-98541b5bf12b",
         "x": [
          4.9095012573826455
         ],
         "y": [
          -0.540082742664994
         ]
        },
        {
         "marker": {
          "color": "rgba(0, 0, 110, .8)",
          "size": 7
         },
         "mode": "markers",
         "text": "La navigazione in incognito è meno sicura di quanto si creda - Repubblica.it",
         "type": "scatter",
         "uid": "68a0d0ec-c566-11e8-bbca-98541b5bf12b",
         "x": [
          -4.14014422636247
         ],
         "y": [
          1.4977632683602253
         ]
        },
        {
         "marker": {
          "color": "rgba(0, 0, 110, .8)",
          "size": 7
         },
         "mode": "markers",
         "text": "Facebook, ex moderatrice denuncia: “Filtriamo contenuti scioccanti, siamo traumatizzati\" - Repubblica.it",
         "type": "scatter",
         "uid": "68a0d0ed-c566-11e8-bbca-98541b5bf12b",
         "x": [
          -3.5863402073601507
         ],
         "y": [
          0.20030672148892117
         ]
        },
        {
         "marker": {
          "color": "rgba(0, 0, 110, .8)",
          "size": 7
         },
         "mode": "markers",
         "text": "L’Italia rimane il Paese più bersagliato dal “cyberpizzo” - Il Sole 24 ORE",
         "type": "scatter",
         "uid": "68a0d0ee-c566-11e8-bbca-98541b5bf12b",
         "x": [
          7.272649274232946
         ],
         "y": [
          0.030502340002944852
         ]
        },
        {
         "marker": {
          "color": "rgba(0, 0, 110, .8)",
          "size": 7
         },
         "mode": "markers",
         "text": "Startup: torna Heroes meet in Maratea, ecco chi ci sarà - Il Sole 24 ORE",
         "type": "scatter",
         "uid": "68a0d0ef-c566-11e8-bbca-98541b5bf12b",
         "x": [
          -3.269672115628197
         ],
         "y": [
          0.08835893503967983
         ]
        },
        {
         "marker": {
          "color": "rgba(0, 0, 110, .8)",
          "size": 7
         },
         "mode": "markers",
         "text": "Da Amazon un'invasione di gadget, in arrivo anche un forno a microonde - Repubblica.it",
         "type": "scatter",
         "uid": "68a0d0f0-c566-11e8-bbca-98541b5bf12b",
         "x": [
          -6.004641588578946
         ],
         "y": [
          0.4257396700046258
         ]
        },
        {
         "marker": {
          "color": "rgba(0, 0, 110, .8)",
          "size": 7
         },
         "mode": "markers",
         "text": "Dall’Italia una blockchain per garantire la legalità dei cantieri: tracciati i movimenti terra - Il Sole 24 ORE",
         "type": "scatter",
         "uid": "68a0d0f1-c566-11e8-bbca-98541b5bf12b",
         "x": [
          5.454316393420303
         ],
         "y": [
          -0.1229240460041162
         ]
        },
        {
         "marker": {
          "color": "rgba(0, 0, 110, .8)",
          "size": 7
         },
         "mode": "markers",
         "text": "Apple completa l’acquisizione di Shazam - La Stampa",
         "type": "scatter",
         "uid": "68a0d0f2-c566-11e8-bbca-98541b5bf12b",
         "x": [
          7.386938723103999
         ],
         "y": [
          0.015611837508211233
         ]
        },
        {
         "marker": {
          "color": "rgba(0, 0, 110, .8)",
          "size": 7
         },
         "mode": "markers",
         "text": "European biotech week, una settimana di eventi guardando al futuro - Repubblica.it",
         "type": "scatter",
         "uid": "68a0d0f3-c566-11e8-bbca-98541b5bf12b",
         "x": [
          -5.211984897513053
         ],
         "y": [
          0.016522747217976155
         ]
        },
        {
         "marker": {
          "color": "rgba(0, 0, 110, .8)",
          "size": 7
         },
         "mode": "markers",
         "text": "Quando i soldi fanno la felicità. Basta non esagerare - Repubblica.it",
         "type": "scatter",
         "uid": "68a0d0f4-c566-11e8-bbca-98541b5bf12b",
         "x": [
          -0.13441757416274266
         ],
         "y": [
          -0.3057717647641332
         ]
        },
        {
         "marker": {
          "color": "rgba(0, 0, 110, .8)",
          "size": 7
         },
         "mode": "markers",
         "text": "Negli Stati uniti arrivano le prime assicurazioni sulla vita calcolate con i dati degli smartwatch - La Stampa",
         "type": "scatter",
         "uid": "68a0d0f5-c566-11e8-bbca-98541b5bf12b",
         "x": [
          0.9360767413490029
         ],
         "y": [
          -0.03355805183287299
         ]
        },
        {
         "marker": {
          "color": "rgba(0, 0, 110, .8)",
          "size": 7
         },
         "mode": "markers",
         "text": "La Juventus avrà la sua criptovaluta: un token digitale per i propri tifosi a inizio 2019 - Il Sole 24 ORE",
         "type": "scatter",
         "uid": "68a0d0f6-c566-11e8-bbca-98541b5bf12b",
         "x": [
          1.8319541652563893
         ],
         "y": [
          -0.2631395511236346
         ]
        },
        {
         "marker": {
          "color": "rgba(0, 0, 110, .8)",
          "size": 7
         },
         "mode": "markers",
         "text": "Nostalgia canaglia: anche Sony lancia la mini-console - Il Sole 24 ORE",
         "type": "scatter",
         "uid": "68a0d0f7-c566-11e8-bbca-98541b5bf12b",
         "x": [
          2.1134952418221826
         ],
         "y": [
          0.10721056412793574
         ]
        },
        {
         "marker": {
          "color": "rgba(0, 0, 110, .8)",
          "size": 7
         },
         "mode": "markers",
         "text": "Ufo, Alieni, Extraterrestri, Marte, Nasa, Tetricus, Sharp City",
         "type": "scatter",
         "uid": "68a0d0f8-c566-11e8-bbca-98541b5bf12b",
         "x": [
          16.51205376472059
         ],
         "y": [
          -0.21873798517512683
         ]
        },
        {
         "marker": {
          "color": "rgba(0, 0, 110, .8)",
          "size": 7
         },
         "mode": "markers",
         "text": "Ufo, Alieni, extraterrestri, Marte, Nasa, Barsoom, Tetricus, Cisu, Alessandria, Tetricus",
         "type": "scatter",
         "uid": "68a0d0f9-c566-11e8-bbca-98541b5bf12b",
         "x": [
          7.58552424888246
         ],
         "y": [
          -0.13004454551257136
         ]
        },
        {
         "marker": {
          "color": "rgba(0, 0, 110, .8)",
          "size": 7
         },
         "mode": "markers",
         "text": "Arrivano le pagelle di NewGuard. “Non servono gli algoritmi per bloccare le fake news” - Repubblica.it",
         "type": "scatter",
         "uid": "68a0d0fa-c566-11e8-bbca-98541b5bf12b",
         "x": [
          -3.474400648250621
         ],
         "y": [
          0.495336744781788
         ]
        },
        {
         "marker": {
          "color": "rgba(0, 0, 110, .8)",
          "size": 7
         },
         "mode": "markers",
         "text": "Facebook, terremoto in Instagram: lasciano i due co-fondatori della app dopo scontro con Zuckerberg - Il Sole 24 ORE",
         "type": "scatter",
         "uid": "68a0d0fb-c566-11e8-bbca-98541b5bf12b",
         "x": [
          -0.636336338693303
         ],
         "y": [
          -0.6129836109695865
         ]
        },
        {
         "marker": {
          "color": "rgba(0, 0, 110, .8)",
          "size": 7
         },
         "mode": "markers",
         "text": "Samsung lancia il suo primo smartphone con tre fotocamere - La Stampa",
         "type": "scatter",
         "uid": "68a0d0fc-c566-11e8-bbca-98541b5bf12b",
         "x": [
          -3.576659178716111
         ],
         "y": [
          -0.9402123052876252
         ]
        },
        {
         "marker": {
          "color": "rgba(0, 0, 110, .8)",
          "size": 7
         },
         "mode": "markers",
         "text": "Ufo, Alieni, Extraterrestri, Uap, Ovni, Harold \"Hal\" Puthoff, Society for Scientific E.comxploration, Dossier Cometa, Rapporto Sturrock, Advanced Aerospace Threat Identification Program, New York Times, Paolo Guizzardi, Cun",
         "type": "scatter",
         "uid": "68a0d0fd-c566-11e8-bbca-98541b5bf12b",
         "x": [
          -2.611401561229573
         ],
         "y": [
          -0.5264152226713413
         ]
        },
        {
         "marker": {
          "color": "rgba(0, 0, 110, .8)",
          "size": 7
         },
         "mode": "markers",
         "text": "Crash test: 5 stelle per Audi A6 e Volkswagen Touareg, rimandata la Suzuki Jimny - La Stampa",
         "type": "scatter",
         "uid": "68a0d0fe-c566-11e8-bbca-98541b5bf12b",
         "x": [
          9.795824024700135
         ],
         "y": [
          0.4679195208786735
         ]
        },
        {
         "marker": {
          "color": "rgba(0, 0, 110, .8)",
          "size": 7
         },
         "mode": "markers",
         "text": "Videogiochi: Red Dead Redemption 2 anteprima di un successo annunciato - La Stampa",
         "type": "scatter",
         "uid": "68a0d0ff-c566-11e8-bbca-98541b5bf12b",
         "x": [
          -4.8890190200163515
         ],
         "y": [
          -0.5252276337521115
         ]
        },
        {
         "marker": {
          "color": "rgba(0, 0, 110, .8)",
          "size": 7
         },
         "mode": "markers",
         "text": "Boato e scia luminosa, una super meteora nei cieli di Sardegna e centro Italia - Repubblica.it",
         "type": "scatter",
         "uid": "68a0d100-c566-11e8-bbca-98541b5bf12b",
         "x": [
          -11.307653454256053
         ],
         "y": [
          2.971024909608727
         ]
        },
        {
         "marker": {
          "color": "rgba(0, 0, 110, .8)",
          "size": 7
         },
         "mode": "markers",
         "text": "Cinque regole per mettere in sicurezza gli smartphone in azienda - Il Sole 24 ORE",
         "type": "scatter",
         "uid": "68a0d101-c566-11e8-bbca-98541b5bf12b",
         "x": [
          -2.576953038524774
         ],
         "y": [
          1.7561925321287568
         ]
        },
        {
         "marker": {
          "color": "rgba(0, 0, 110, .8)",
          "size": 7
         },
         "mode": "markers",
         "text": "Le firme di Repubblica in podcast su Audible. Nasce \"dentro la notizia\" - Repubblica.it",
         "type": "scatter",
         "uid": "68a0d102-c566-11e8-bbca-98541b5bf12b",
         "x": [
          1.1924677735805103
         ],
         "y": [
          -0.05140908446116496
         ]
        },
        {
         "marker": {
          "color": "rgba(0, 0, 110, .8)",
          "size": 7
         },
         "mode": "markers",
         "text": "Criptovalute, Ripple raddoppia in una settimana: è la seconda dietro a bitcoin - Il Sole 24 ORE",
         "type": "scatter",
         "uid": "68a0d103-c566-11e8-bbca-98541b5bf12b",
         "x": [
          1.7733836737562907
         ],
         "y": [
          -0.9314842410775209
         ]
        },
        {
         "marker": {
          "color": "rgba(0, 0, 110, .8)",
          "size": 7
         },
         "mode": "markers",
         "text": "Amazon vuole aprire 3mila supermercati senza casse e cassieri - La Stampa",
         "type": "scatter",
         "uid": "68a0d104-c566-11e8-bbca-98541b5bf12b",
         "x": [
          0.8563577507957824
         ],
         "y": [
          -0.820293352253088
         ]
        },
        {
         "marker": {
          "color": "rgba(0, 0, 110, .8)",
          "size": 7
         },
         "mode": "markers",
         "text": "Zuckerberg prende il controllo di Instagram per salvare Facebook - Il Sole 24 ORE",
         "type": "scatter",
         "uid": "68a0d105-c566-11e8-bbca-98541b5bf12b",
         "x": [
          0.0034647764702562985
         ],
         "y": [
          0.30345459069394554
         ]
        },
        {
         "marker": {
          "color": "rgba(0, 0, 110, .8)",
          "size": 7
         },
         "mode": "markers",
         "text": "Samsung, i prossimi auricolari wireless potrebbero chiamarsi Buds - Repubblica.it",
         "type": "scatter",
         "uid": "68a0d106-c566-11e8-bbca-98541b5bf12b",
         "x": [
          0.7711205481756296
         ],
         "y": [
          0.7781409189104619
         ]
        },
        {
         "marker": {
          "color": "rgba(0, 0, 110, .8)",
          "size": 7
         },
         "mode": "markers",
         "text": "Arriva l’assistente vocale di Salesforce. Anche l’impresa si guida con voce - Il Sole 24 ORE",
         "type": "scatter",
         "uid": "68a0d107-c566-11e8-bbca-98541b5bf12b",
         "x": [
          1.0107623185513708
         ],
         "y": [
          1.077455427734089
         ]
        },
        {
         "marker": {
          "color": "rgba(0, 0, 110, .8)",
          "size": 7
         },
         "mode": "markers",
         "text": "Twitter: un bug potrebbe avere esposto i messaggi privati - Repubblica.it",
         "type": "scatter",
         "uid": "68a0d108-c566-11e8-bbca-98541b5bf12b",
         "x": [
          6.0667279437512915
         ],
         "y": [
          0.3490423090402372
         ]
        },
        {
         "marker": {
          "color": "rgba(0, 0, 110, .8)",
          "size": 7
         },
         "mode": "markers",
         "text": "Ecco come riusciamo a vedere anche quando sbattiamo gli occhi - Repubblica.it",
         "type": "scatter",
         "uid": "68a0d109-c566-11e8-bbca-98541b5bf12b",
         "x": [
          3.9605987086821446
         ],
         "y": [
          0.7019235887666774
         ]
        },
        {
         "marker": {
          "color": "rgba(0, 0, 110, .8)",
          "size": 7
         },
         "mode": "markers",
         "text": "Cybersecurity: cinque regole per un Wi-Fi aziendale sicuro - Il Sole 24 ORE",
         "type": "scatter",
         "uid": "68a0d10a-c566-11e8-bbca-98541b5bf12b",
         "x": [
          0.5272582666234423
         ],
         "y": [
          0.2105535749549892
         ]
        },
        {
         "marker": {
          "color": "rgba(0, 0, 110, .8)",
          "size": 7
         },
         "mode": "markers",
         "text": "La generosità? E' contagiosa: condividiamo perché lo fanno gli altri - Repubblica.it",
         "type": "scatter",
         "uid": "68a0d10b-c566-11e8-bbca-98541b5bf12b",
         "x": [
          -3.975374214036919
         ],
         "y": [
          0.5922491433066149
         ]
        },
        {
         "marker": {
          "color": "rgba(0, 0, 110, .8)",
          "size": 7
         },
         "mode": "markers",
         "text": "Ufo, Alieni, extraterrestri, Cun, mappe mentali, Orson Welles, Corio, Canavese, Ami, Tornado",
         "type": "scatter",
         "uid": "68a0d10c-c566-11e8-bbca-98541b5bf12b",
         "x": [
          2.0800327422339127
         ],
         "y": [
          -0.12683273835363598
         ]
        },
        {
         "marker": {
          "color": "rgba(0, 0, 110, .8)",
          "size": 7
         },
         "mode": "markers",
         "text": "IC406 Innovation Camp, apre a Bari il nuovo incubatore di startup di Auriga - Il Sole 24 ORE",
         "type": "scatter",
         "uid": "68a0d10d-c566-11e8-bbca-98541b5bf12b",
         "x": [
          6.834282807003223
         ],
         "y": [
          -1.1420810384343512
         ]
        },
        {
         "marker": {
          "color": "rgba(0, 0, 110, .8)",
          "size": 7
         },
         "mode": "markers",
         "text": "La piattaforma Rousseau è stata bucata ancora. Sempre da rogue0 - Il Sole 24 ORE",
         "type": "scatter",
         "uid": "68a0d10e-c566-11e8-bbca-98541b5bf12b",
         "x": [
          5.21398676574253
         ],
         "y": [
          0.6165975273562727
         ]
        },
        {
         "marker": {
          "color": "rgba(0, 0, 110, .8)",
          "size": 7
         },
         "mode": "markers",
         "text": "Ufo, Alieni, Extraterrestri, Ovni, Mistero bUFO, Giochi Pechino, Dario Fo, Mistero Buffo, Il bivio, Enrico Ruggeri, Mediaset, Corriere.it, Giovanni Angeli",
         "type": "scatter",
         "uid": "68a0d10f-c566-11e8-bbca-98541b5bf12b",
         "x": [
          2.729141418303577
         ],
         "y": [
          -0.2161369258362771
         ]
        },
        {
         "marker": {
          "color": "rgba(0, 0, 110, .8)",
          "size": 7
         },
         "mode": "markers",
         "text": "Il cyber atleta Tyler “Ninja” Blevins conquista la copertina di Espn Magazine - Il Sole 24 ORE",
         "type": "scatter",
         "uid": "68a0d110-c566-11e8-bbca-98541b5bf12b",
         "x": [
          5.928127165994723
         ],
         "y": [
          0.4329430896549294
         ]
        },
        {
         "marker": {
          "color": "rgba(0, 0, 110, .8)",
          "size": 7
         },
         "mode": "markers",
         "text": "Apple assegna un punteggio agli utenti di iTunes - La Stampa",
         "type": "scatter",
         "uid": "68a0d111-c566-11e8-bbca-98541b5bf12b",
         "x": [
          1.3670996188032736
         ],
         "y": [
          -0.11823950811960558
         ]
        },
        {
         "marker": {
          "color": "rgba(0, 0, 110, .8)",
          "size": 7
         },
         "mode": "markers",
         "text": "Dating, il servizio di Facebook per trovare l’anima gemella - La Stampa",
         "type": "scatter",
         "uid": "68a0d112-c566-11e8-bbca-98541b5bf12b",
         "x": [
          4.334329292780828
         ],
         "y": [
          -1.2494553325909181
         ]
        },
        {
         "marker": {
          "color": "rgba(0, 0, 110, .8)",
          "size": 7
         },
         "mode": "markers",
         "text": "In migliaia per \"La Germania si parla\". A Berlino la sfida per una società meno divisa - Repubblica.it",
         "type": "scatter",
         "uid": "68a0d113-c566-11e8-bbca-98541b5bf12b",
         "x": [
          0.6026239436477813
         ],
         "y": [
          1.1114404926043049
         ]
        },
        {
         "marker": {
          "color": "rgba(0, 0, 110, .8)",
          "size": 7
         },
         "mode": "markers",
         "text": "Spotify, gli artisti potranno caricare la propria musica da soli - Repubblica.it",
         "type": "scatter",
         "uid": "68a0d114-c566-11e8-bbca-98541b5bf12b",
         "x": [
          1.2984634149587488
         ],
         "y": [
          0.18448523478485696
         ]
        },
        {
         "marker": {
          "color": "rgba(0, 0, 110, .8)",
          "size": 7
         },
         "mode": "markers",
         "text": "Portogallo, riaffiora una nave di 400 anni fa. \"E' la scoperta del decennio\" - Repubblica.it",
         "type": "scatter",
         "uid": "68a0d115-c566-11e8-bbca-98541b5bf12b",
         "x": [
          -0.10968282922432587
         ],
         "y": [
          1.1107553408090283
         ]
        },
        {
         "marker": {
          "color": "rgba(0, 0, 110, .8)",
          "size": 7
         },
         "mode": "markers",
         "text": "La Notte dei ricercatori: una settimana di scienza con 400 eventi - Repubblica.it",
         "type": "scatter",
         "uid": "68a0d116-c566-11e8-bbca-98541b5bf12b",
         "x": [
          -11.01309813049876
         ],
         "y": [
          7.281914278220502
         ]
        },
        {
         "marker": {
          "color": "rgba(0, 0, 110, .8)",
          "size": 7
         },
         "mode": "markers",
         "text": "Decolla Facebook Dating, il Tinder di Menlo Park: primi test in Colombia - Repubblica.it",
         "type": "scatter",
         "uid": "68a0d117-c566-11e8-bbca-98541b5bf12b",
         "x": [
          15.109302519126768
         ],
         "y": [
          -0.17217460718236355
         ]
        },
        {
         "marker": {
          "color": "rgba(0, 0, 110, .8)",
          "size": 7
         },
         "mode": "markers",
         "text": "E' morto il Nobel Kao, padre delle fibre ottiche - Repubblica.it",
         "type": "scatter",
         "uid": "68a0d118-c566-11e8-bbca-98541b5bf12b",
         "x": [
          -3.204678315371015
         ],
         "y": [
          -1.4558088343387603
         ]
        },
        {
         "marker": {
          "color": "rgba(0, 0, 110, .8)",
          "size": 7
         },
         "mode": "markers",
         "text": "Ufo, Alieni, Extraterrestri, Alexander Oparin, cellule prebiotiche, Cufom, Cun, Extremamente, Luis Elizondo, Tom DeLonge",
         "type": "scatter",
         "uid": "68a0d119-c566-11e8-bbca-98541b5bf12b",
         "x": [
          -5.294758764466869
         ],
         "y": [
          -0.4564448230079174
         ]
        },
        {
         "marker": {
          "color": "rgba(0, 0, 110, .8)",
          "size": 7
         },
         "mode": "markers",
         "text": "Apple punta sulle aziende: accordo con Salesforce per iPhone e iPad - Il Sole 24 ORE",
         "type": "scatter",
         "uid": "68a0d11a-c566-11e8-bbca-98541b5bf12b",
         "x": [
          -3.2744476981802513
         ],
         "y": [
          2.931442435297002
         ]
        },
        {
         "marker": {
          "color": "rgba(0, 0, 110, .8)",
          "size": 7
         },
         "mode": "markers",
         "text": "Ecco Google Dataset Search, il motore di ricerca per scienziati e giornalisti - Il Sole 24 ORE",
         "type": "scatter",
         "uid": "68a0d11b-c566-11e8-bbca-98541b5bf12b",
         "x": [
          -1.0338091803125076
         ],
         "y": [
          -1.1752164366566238
         ]
        },
        {
         "marker": {
          "color": "rgba(0, 0, 110, .8)",
          "size": 7
         },
         "mode": "markers",
         "text": "Il pianeta di Star Trek. \"A 16 anni luce da noi una super Terra come Vulcano\" - Repubblica.it",
         "type": "scatter",
         "uid": "68a0d11c-c566-11e8-bbca-98541b5bf12b",
         "x": [
          -7.657852299958314
         ],
         "y": [
          1.0649735843792536
         ]
        },
        {
         "marker": {
          "color": "rgba(0, 0, 110, .8)",
          "size": 7
         },
         "mode": "markers",
         "text": "La ricerca: \"Abbiamo il perdono incorporato o non avremmo relazioni\" - Repubblica.it",
         "type": "scatter",
         "uid": "68a0d11d-c566-11e8-bbca-98541b5bf12b",
         "x": [
          -4.514983492588905
         ],
         "y": [
          0.7048883739184935
         ]
        },
        {
         "marker": {
          "color": "rgba(0, 0, 110, .8)",
          "size": 7
         },
         "mode": "markers",
         "text": "Fake news con finti articoli di Repubblica: non credeteci e denunciate - Repubblica.it",
         "type": "scatter",
         "uid": "68a0d11e-c566-11e8-bbca-98541b5bf12b",
         "x": [
          5.461014530618665
         ],
         "y": [
          0.5758410942385137
         ]
        },
        {
         "marker": {
          "color": "rgba(0, 0, 110, .8)",
          "size": 7
         },
         "mode": "markers",
         "text": "Arriva Portal, l'assistente smart di Facebook - Repubblica.it",
         "type": "scatter",
         "uid": "68a0d11f-c566-11e8-bbca-98541b5bf12b",
         "x": [
          7.263256370907668
         ],
         "y": [
          -0.06502862137691254
         ]
        },
        {
         "marker": {
          "color": "rgba(0, 0, 110, .8)",
          "size": 7
         },
         "mode": "markers",
         "text": "Vacchiano, su Nature l'italiano che studia il clima: \"Il mio è un premio alle foreste\" - Repubblica.it",
         "type": "scatter",
         "uid": "68a0d120-c566-11e8-bbca-98541b5bf12b",
         "x": [
          5.515259086085161
         ],
         "y": [
          -0.012782240781469702
         ]
        },
        {
         "marker": {
          "color": "rgba(0, 0, 110, .8)",
          "size": 7
         },
         "mode": "markers",
         "text": "Come al cinema: il Far West di Red Dead Redemption 2 - Repubblica.it",
         "type": "scatter",
         "uid": "68a0d121-c566-11e8-bbca-98541b5bf12b",
         "x": [
          4.039303078487298
         ],
         "y": [
          -1.0998119516725993
         ]
        },
        {
         "marker": {
          "color": "rgba(0, 0, 110, .8)",
          "size": 7
         },
         "mode": "markers",
         "text": "Arriva Portal, l'assistente smart di Facebook - Repubblica.it",
         "type": "scatter",
         "uid": "68a0d122-c566-11e8-bbca-98541b5bf12b",
         "x": [
          7.383503992768559
         ],
         "y": [
          0.8227509362958694
         ]
        },
        {
         "marker": {
          "color": "rgba(0, 0, 110, .8)",
          "size": 7
         },
         "mode": "markers",
         "text": "L'equinozio d'autunno non è il 21 settembre: quest'anno arriva il 23 - Repubblica.it",
         "type": "scatter",
         "uid": "68a0d123-c566-11e8-bbca-98541b5bf12b",
         "x": [
          -5.260964516675432
         ],
         "y": [
          0.7653790800601955
         ]
        },
        {
         "marker": {
          "color": "rgba(0, 0, 110, .8)",
          "size": 7
         },
         "mode": "markers",
         "text": "Ufo, Alieni, extraterrestri, Ansa, Cheope, Giza, piramidi egizie, Journal of Applied Physics, Itmo University, San Pietroburgo , Laser Zentrum, Tullio Scopigno, Università La Sapienza, piramidi bosniache",
         "type": "scatter",
         "uid": "68a0d124-c566-11e8-bbca-98541b5bf12b",
         "x": [
          -6.001636022019615
         ],
         "y": [
          0.7268298940449933
         ]
        },
        {
         "marker": {
          "color": "rgba(0, 0, 110, .8)",
          "size": 7
         },
         "mode": "markers",
         "text": "Huawei Mate 20 Lite: un midrange dall'ottima autonomia. La recensione",
         "type": "scatter",
         "uid": "68a0d125-c566-11e8-bbca-98541b5bf12b",
         "x": [
          -0.17946531732560736
         ],
         "y": [
          -0.9373169663849588
         ]
        },
        {
         "marker": {
          "color": "rgba(0, 0, 110, .8)",
          "size": 7
         },
         "mode": "markers",
         "text": "iPhone Xs Max tira 3-4 volte più dell'Xs - Hi-tech - ANSA.it",
         "type": "scatter",
         "uid": "68a0d126-c566-11e8-bbca-98541b5bf12b",
         "x": [
          8.133276155042175
         ],
         "y": [
          0.7051460682371429
         ]
        },
        {
         "marker": {
          "color": "rgba(0, 0, 110, .8)",
          "size": 7
         },
         "mode": "markers",
         "text": "Amazon, 8 nuovi dispositivi con Alexa nel 2018 - Hi-tech - ANSA.it",
         "type": "scatter",
         "uid": "68a0d127-c566-11e8-bbca-98541b5bf12b",
         "x": [
          4.638104977231729
         ],
         "y": [
          0.2907952486676791
         ]
        },
        {
         "marker": {
          "color": "rgba(0, 0, 110, .8)",
          "size": 7
         },
         "mode": "markers",
         "text": "Vota i migliori produttori nell'European Hardware Community Awards 2018",
         "type": "scatter",
         "uid": "68a0d128-c566-11e8-bbca-98541b5bf12b",
         "x": [
          7.010531361698297
         ],
         "y": [
          -1.177275605530624
         ]
        },
        {
         "marker": {
          "color": "rgba(0, 0, 110, .8)",
          "size": 7
         },
         "mode": "markers",
         "text": "Influenza, scoperto il tallone d'Achille del virus - Biotech - ANSA.it",
         "type": "scatter",
         "uid": "68a0d129-c566-11e8-bbca-98541b5bf12b",
         "x": [
          -7.8681201166011565
         ],
         "y": [
          -0.9891686416252682
         ]
        },
        {
         "marker": {
          "color": "rgba(0, 0, 110, .8)",
          "size": 7
         },
         "mode": "markers",
         "text": "Il primo esofago costruito in laboratorio - Biotech - ANSA.it",
         "type": "scatter",
         "uid": "68a0d12a-c566-11e8-bbca-98541b5bf12b",
         "x": [
          -8.841815527815701
         ],
         "y": [
          -1.6436073105842377
         ]
        },
        {
         "marker": {
          "color": "rgba(0, 0, 110, .8)",
          "size": 7
         },
         "mode": "markers",
         "text": "Futuri robot con pelle che sente il vento - Hi-tech - ANSA.it",
         "type": "scatter",
         "uid": "68a0d12b-c566-11e8-bbca-98541b5bf12b",
         "x": [
          -6.037420640035965
         ],
         "y": [
          -1.8297466443436496
         ]
        },
        {
         "marker": {
          "color": "rgba(0, 0, 110, .8)",
          "size": 7
         },
         "mode": "markers",
         "text": "È possibile che un robot possa utilizzare la teoria della mente?",
         "type": "scatter",
         "uid": "68a0d12c-c566-11e8-bbca-98541b5bf12b",
         "x": [
          -10.31744943733798
         ],
         "y": [
          -1.759766640017299
         ]
        },
        {
         "marker": {
          "color": "rgba(0, 0, 110, .8)",
          "size": 7
         },
         "mode": "markers",
         "text": "Apple completa l'acquisizione di Shazam - Software e App - ANSA.it",
         "type": "scatter",
         "uid": "68a0d12d-c566-11e8-bbca-98541b5bf12b",
         "x": [
          7.7907544749935305
         ],
         "y": [
          -1.196261181027103
         ]
        },
        {
         "marker": {
          "color": "rgba(0, 0, 110, .8)",
          "size": 7
         },
         "mode": "markers",
         "text": "Kingston, disponibili gli SSD HyperX Fury RGB: un tocco di colore alle ''solite'' unità 2,5''",
         "type": "scatter",
         "uid": "68a0d12e-c566-11e8-bbca-98541b5bf12b",
         "x": [
          9.55729425094252
         ],
         "y": [
          -0.2112447750744878
         ]
        },
        {
         "marker": {
          "color": "rgba(0, 0, 110, .8)",
          "size": 7
         },
         "mode": "markers",
         "text": "Mercato mondiale Pc, nel 2019 la ripresa - Hi-tech - ANSA.it",
         "type": "scatter",
         "uid": "68a0d12f-c566-11e8-bbca-98541b5bf12b",
         "x": [
          -4.198289771929652
         ],
         "y": [
          1.7545516391808273
         ]
        },
        {
         "marker": {
          "color": "rgba(0, 0, 110, .8)",
          "size": 7
         },
         "mode": "markers",
         "text": "Microsoft,40mln per AI a scopi umanitari - Hi-tech - ANSA.it",
         "type": "scatter",
         "uid": "68a0d130-c566-11e8-bbca-98541b5bf12b",
         "x": [
          7.319383920448929
         ],
         "y": [
          0.549181608572095
         ]
        },
        {
         "marker": {
          "color": "rgba(0, 0, 110, .8)",
          "size": 7
         },
         "mode": "markers",
         "text": "Marte, il sottosuolo può avere ospitato la vita - Spazio & Astronomia - ANSA.it",
         "type": "scatter",
         "uid": "68a0d131-c566-11e8-bbca-98541b5bf12b",
         "x": [
          -8.353276460831054
         ],
         "y": [
          2.4589776991630017
         ]
        },
        {
         "marker": {
          "color": "rgba(0, 0, 110, .8)",
          "size": 7
         },
         "mode": "markers",
         "text": "Primi scatti dall'asteroide Ryugu - Spazio & Astronomia - ANSA.it",
         "type": "scatter",
         "uid": "68a0d132-c566-11e8-bbca-98541b5bf12b",
         "x": [
          -8.009151512394721
         ],
         "y": [
          -0.2626719592688758
         ]
        },
        {
         "marker": {
          "color": "rgba(0, 0, 110, .8)",
          "size": 7
         },
         "mode": "markers",
         "text": "In arrivo una rivoluzione nella diagnostica medica: una tecnologia sensibile alla singola molecola",
         "type": "scatter",
         "uid": "68a0d133-c566-11e8-bbca-98541b5bf12b",
         "x": [
          -14.909640472326538
         ],
         "y": [
          -5.140870686434037
         ]
        },
        {
         "marker": {
          "color": "rgba(0, 0, 110, .8)",
          "size": 7
         },
         "mode": "markers",
         "text": "Sweeper, il robot che raccoglie ortaggi e frutta - News - ANSA.it",
         "type": "scatter",
         "uid": "68a0d134-c566-11e8-bbca-98541b5bf12b",
         "x": [
          -2.401198258448102
         ],
         "y": [
          -0.9586758262152704
         ]
        },
        {
         "marker": {
          "color": "rgba(0, 0, 110, .8)",
          "size": 7
         },
         "mode": "markers",
         "text": "Immagini mozzafiato delle nubi blu che brillano ai poli - Spazio & Astronomia - ANSA.it",
         "type": "scatter",
         "uid": "68a0d135-c566-11e8-bbca-98541b5bf12b",
         "x": [
          -11.751978847645272
         ],
         "y": [
          -0.17057263333461248
         ]
        },
        {
         "marker": {
          "color": "rgba(0, 0, 110, .8)",
          "size": 7
         },
         "mode": "markers",
         "text": "V-Rally 4, disponibile da oggi la versione PC",
         "type": "scatter",
         "uid": "68a0d136-c566-11e8-bbca-98541b5bf12b",
         "x": [
          -8.142672840462064
         ],
         "y": [
          3.7406972164354046
         ]
        },
        {
         "marker": {
          "color": "rgba(0, 0, 110, .8)",
          "size": 7
         },
         "mode": "markers",
         "text": "Il gene che al mattino risveglia i fiori - Biotech - ANSA.it",
         "type": "scatter",
         "uid": "68a0d137-c566-11e8-bbca-98541b5bf12b",
         "x": [
          -2.67431526826346
         ],
         "y": [
          -0.8427288882032481
         ]
        },
        {
         "marker": {
          "color": "rgba(0, 0, 110, .8)",
          "size": 7
         },
         "mode": "markers",
         "text": "Mattarella nei laboratori dell'Enea - Ricerca & Istituzioni - ANSA.it",
         "type": "scatter",
         "uid": "68a0d138-c566-11e8-bbca-98541b5bf12b",
         "x": [
          4.513137679239691
         ],
         "y": [
          0.5456648203782101
         ]
        },
        {
         "marker": {
          "color": "rgba(0, 0, 110, .8)",
          "size": 7
         },
         "mode": "markers",
         "text": "Nature, due italiani fra gli 11 ricercatori emergenti - Ricerca & Istituzioni - ANSA.it",
         "type": "scatter",
         "uid": "68a0d139-c566-11e8-bbca-98541b5bf12b",
         "x": [
          -6.1062350278620405
         ],
         "y": [
          -0.1927341918613301
         ]
        },
        {
         "marker": {
          "color": "rgba(0, 0, 110, .8)",
          "size": 7
         },
         "mode": "markers",
         "text": "Wef, con robot più lavoro, ma competenze da creare - Hi-tech - ANSA.it",
         "type": "scatter",
         "uid": "68a0d13a-c566-11e8-bbca-98541b5bf12b",
         "x": [
          -6.0164674306307
         ],
         "y": [
          0.2751506318942202
         ]
        },
        {
         "marker": {
          "color": "rgba(0, 0, 110, .8)",
          "size": 7
         },
         "mode": "markers",
         "text": "La più grande luna di Saturno sotto una tempesta di polvere - Spazio & Astronomia - ANSA.it",
         "type": "scatter",
         "uid": "68a0d13b-c566-11e8-bbca-98541b5bf12b",
         "x": [
          -9.962462062062803
         ],
         "y": [
          2.31926873247365
         ]
        },
        {
         "marker": {
          "color": "rgba(0, 0, 110, .8)",
          "size": 7
         },
         "mode": "markers",
         "text": "L’impronta fossile dell'animale più antico - News - ANSA.it",
         "type": "scatter",
         "uid": "68a0d13c-c566-11e8-bbca-98541b5bf12b",
         "x": [
          -2.1681269454279146
         ],
         "y": [
          0.6898639134257127
         ]
        },
        {
         "marker": {
          "color": "rgba(0, 0, 110, .8)",
          "size": 7
         },
         "mode": "markers",
         "text": "Microsoft Office 2019 è ora disponibile per Windows e macOS",
         "type": "scatter",
         "uid": "68a0d13d-c566-11e8-bbca-98541b5bf12b",
         "x": [
          8.857086404154572
         ],
         "y": [
          0.4731560763681048
         ]
        },
        {
         "marker": {
          "color": "rgba(0, 0, 110, .8)",
          "size": 7
         },
         "mode": "markers",
         "text": "Snapchat, shopping online su Amazon - Software e App - ANSA.it",
         "type": "scatter",
         "uid": "68a0d13e-c566-11e8-bbca-98541b5bf12b",
         "x": [
          7.108320540974821
         ],
         "y": [
          0.0811226192882605
         ]
        },
        {
         "marker": {
          "color": "rgba(0, 0, 110, .8)",
          "size": 7
         },
         "mode": "markers",
         "text": "Facebook e Google nel mirino di Trump - Internet e Social - ANSA.it",
         "type": "scatter",
         "uid": "68a0d13f-c566-11e8-bbca-98541b5bf12b",
         "x": [
          0.6924141340882238
         ],
         "y": [
          0.7009204761425623
         ]
        },
        {
         "marker": {
          "color": "rgba(0, 0, 110, .8)",
          "size": 7
         },
         "mode": "markers",
         "text": "Hit Refresh,il Ceo Microsoft si racconta - Internet e Social - ANSA.it",
         "type": "scatter",
         "uid": "68a0d140-c566-11e8-bbca-98541b5bf12b",
         "x": [
          -0.9878743788430681
         ],
         "y": [
          -0.07940188805871444
         ]
        },
        {
         "marker": {
          "color": "rgba(0, 0, 110, .8)",
          "size": 7
         },
         "mode": "markers",
         "text": "Robot protagonisti tra scienza e spettacolo a Festival Pisa - Tecnologie - ANSA.it",
         "type": "scatter",
         "uid": "68a0d141-c566-11e8-bbca-98541b5bf12b",
         "x": [
          -8.297879041308091
         ],
         "y": [
          0.26994261203024705
         ]
        },
        {
         "marker": {
          "color": "rgba(0, 0, 110, .8)",
          "size": 7
         },
         "mode": "markers",
         "text": "Kaspersky,gli Usa ci hanno preso di mira - Internet e Social - ANSA.it",
         "type": "scatter",
         "uid": "68a0d142-c566-11e8-bbca-98541b5bf12b",
         "x": [
          3.867107055254198
         ],
         "y": [
          0.7053200072615929
         ]
        },
        {
         "marker": {
          "color": "rgba(0, 0, 110, .8)",
          "size": 7
         },
         "mode": "markers",
         "text": "Tifosi svizzeri bloccano una partita di calcio per protesta contro gli eSport",
         "type": "scatter",
         "uid": "68a0d143-c566-11e8-bbca-98541b5bf12b",
         "x": [
          12.13305604965942
         ],
         "y": [
          0.1116298247367586
         ]
        },
        {
         "marker": {
          "color": "rgba(0, 0, 110, .8)",
          "size": 7
         },
         "mode": "markers",
         "text": "Conto corrente N26: il miglior modo per pagare è dallo smartphone",
         "type": "scatter",
         "uid": "68a0d144-c566-11e8-bbca-98541b5bf12b",
         "x": [
          -0.11322570597055126
         ],
         "y": [
          -0.3602430579937252
         ]
        },
        {
         "marker": {
          "color": "rgba(0, 0, 110, .8)",
          "size": 7
         },
         "mode": "markers",
         "text": "Amazon vuole aprire 3mila alimentari - Hi-tech - ANSA.it",
         "type": "scatter",
         "uid": "68a0d145-c566-11e8-bbca-98541b5bf12b",
         "x": [
          -1.3290828602807492
         ],
         "y": [
          -1.3299581077107234
         ]
        },
        {
         "marker": {
          "color": "rgba(0, 0, 110, .8)",
          "size": 7
         },
         "mode": "markers",
         "text": "OnePlus: addio alla Dash Charge per via di una disputa legale sul nome",
         "type": "scatter",
         "uid": "68a0d146-c566-11e8-bbca-98541b5bf12b",
         "x": [
          14.920121771158202
         ],
         "y": [
          -0.20549686786157828
         ]
        },
        {
         "marker": {
          "color": "rgba(0, 0, 110, .8)",
          "size": 7
         },
         "mode": "markers",
         "text": "Skiller Mech SGK3 è una tastiera meccanica che dà controllo totale ai giocatori",
         "type": "scatter",
         "uid": "68a0d147-c566-11e8-bbca-98541b5bf12b",
         "x": [
          9.090679852708444
         ],
         "y": [
          -1.4036090509730574
         ]
        },
        {
         "marker": {
          "color": "rgba(0, 0, 110, .8)",
          "size": 7
         },
         "mode": "markers",
         "text": "Trovata la lettera che costo' a Galileo l'accusa di eresia - Spazio & Astronomia - ANSA.it",
         "type": "scatter",
         "uid": "68a0d148-c566-11e8-bbca-98541b5bf12b",
         "x": [
          -5.918558693100069
         ],
         "y": [
          -1.0329630488053518
         ]
        },
        {
         "marker": {
          "color": "rgba(0, 0, 110, .8)",
          "size": 7
         },
         "mode": "markers",
         "text": "RFID: dalle etichette dei supermercati a sensori per l'ambiente",
         "type": "scatter",
         "uid": "68a0d149-c566-11e8-bbca-98541b5bf12b",
         "x": [
          -8.759366824192785
         ],
         "y": [
          -2.167372339388384
         ]
        },
        {
         "marker": {
          "color": "rgba(0, 0, 110, .8)",
          "size": 7
         },
         "mode": "markers",
         "text": "Irix 150mm F2.8 per full frame con attacchi Canon EF, Nikon F e Pentax K a bassissima distorsione",
         "type": "scatter",
         "uid": "68a0d14a-c566-11e8-bbca-98541b5bf12b",
         "x": [
          -6.181158436519365
         ],
         "y": [
          -1.3935300849304058
         ]
        },
        {
         "marker": {
          "color": "rgba(0, 0, 110, .8)",
          "size": 7
         },
         "mode": "markers",
         "text": "TIM, minuti illimitati e 50GB a 9,99 Euro, ma solo per pochi giorni: ecco come fare per averla",
         "type": "scatter",
         "uid": "68a0d14b-c566-11e8-bbca-98541b5bf12b",
         "x": [
          13.757383093424657
         ],
         "y": [
          -0.8133297299983481
         ]
        },
        {
         "marker": {
          "color": "rgba(0, 0, 110, .8)",
          "size": 7
         },
         "mode": "markers",
         "text": "Facebook: la Ue attacca, migliori la trasparenza o multe in arrivo - Internet e Social - ANSA.it",
         "type": "scatter",
         "uid": "68a0d14c-c566-11e8-bbca-98541b5bf12b",
         "x": [
          6.417866013359823
         ],
         "y": [
          0.7185077909938645
         ]
        },
        {
         "marker": {
          "color": "rgba(0, 0, 110, .8)",
          "size": 7
         },
         "mode": "markers",
         "text": "Arriva in Italia Google Pay, sfida a Apple - Tlc - ANSA.it",
         "type": "scatter",
         "uid": "68a0d14d-c566-11e8-bbca-98541b5bf12b",
         "x": [
          -0.8157360651675778
         ],
         "y": [
          0.2758258062342288
         ]
        },
        {
         "marker": {
          "color": "rgba(0, 0, 110, .8)",
          "size": 7
         },
         "mode": "markers",
         "text": "Instagram sfida Amazon sullo shopping - Internet e Social - ANSA.it",
         "type": "scatter",
         "uid": "68a0d14e-c566-11e8-bbca-98541b5bf12b",
         "x": [
          2.1707347371564136
         ],
         "y": [
          0.2912504451679376
         ]
        },
        {
         "marker": {
          "color": "rgba(0, 0, 110, .8)",
          "size": 7
         },
         "mode": "markers",
         "text": "Apple conta le telefonate contro le frodi - Hi-tech - ANSA.it",
         "type": "scatter",
         "uid": "68a0d14f-c566-11e8-bbca-98541b5bf12b",
         "x": [
          7.647730013842667
         ],
         "y": [
          0.5493345374549526
         ]
        },
        {
         "marker": {
          "color": "rgba(0, 0, 110, .8)",
          "size": 7
         },
         "mode": "markers",
         "text": "Twitter, si potrà tornare a cronologia tweet - Internet e Social - ANSA.it",
         "type": "scatter",
         "uid": "68a0d150-c566-11e8-bbca-98541b5bf12b",
         "x": [
          10.059024697152083
         ],
         "y": [
          -0.4581483202536782
         ]
        },
        {
         "marker": {
          "color": "rgba(0, 0, 110, .8)",
          "size": 7
         },
         "mode": "markers",
         "text": "Surface Hub 2 al debutto dal 2019, con una seconda versione nel 2020",
         "type": "scatter",
         "uid": "68a0d151-c566-11e8-bbca-98541b5bf12b",
         "x": [
          15.156248628828495
         ],
         "y": [
          -0.578174027384275
         ]
        },
        {
         "marker": {
          "color": "rgba(0, 0, 110, .8)",
          "size": 7
         },
         "mode": "markers",
         "text": "Ricoh al lavoro sull'imminente GR III, compatta che sostituirà la GR II",
         "type": "scatter",
         "uid": "68a0d152-c566-11e8-bbca-98541b5bf12b",
         "x": [
          -5.851238631861536
         ],
         "y": [
          -1.990697782312436
         ]
        },
        {
         "marker": {
          "color": "rgba(0, 0, 110, .8)",
          "size": 7
         },
         "mode": "markers",
         "text": "Amazon, lente Ue su dati sensibili - Internet e Social - ANSA.it",
         "type": "scatter",
         "uid": "68a0d153-c566-11e8-bbca-98541b5bf12b",
         "x": [
          10.352674727944772
         ],
         "y": [
          0.005265980835825477
         ]
        },
        {
         "marker": {
          "color": "rgba(0, 0, 110, .8)",
          "size": 7
         },
         "mode": "markers",
         "text": "La Terra come Venere, potrebbe avere un futuro bollente - Terra & Poli - ANSA.it",
         "type": "scatter",
         "uid": "68a0d154-c566-11e8-bbca-98541b5bf12b",
         "x": [
          -0.7499990919925146
         ],
         "y": [
          1.2412175285986597
         ]
        },
        {
         "marker": {
          "color": "rgba(0, 0, 110, .8)",
          "size": 7
         },
         "mode": "markers",
         "text": "Bolide sul cielo della Sardegna, il terzo dell'estate - Spazio & Astronomia - ANSA.it",
         "type": "scatter",
         "uid": "68a0d155-c566-11e8-bbca-98541b5bf12b",
         "x": [
          -11.019962933601937
         ],
         "y": [
          2.2734007370412024
         ]
        },
        {
         "marker": {
          "color": "rgba(0, 0, 110, .8)",
          "size": 7
         },
         "mode": "markers",
         "text": "È il momento giusto per comprare un telefono rugged, secondo Blackview",
         "type": "scatter",
         "uid": "68a0d156-c566-11e8-bbca-98541b5bf12b",
         "x": [
          3.086055879393227
         ],
         "y": [
          0.9447954582750346
         ]
        },
        {
         "marker": {
          "color": "rgba(0, 0, 110, .8)",
          "size": 7
         },
         "mode": "markers",
         "text": "California, legge proteggerà da hacker oggetti connessi - Tlc - ANSA.it",
         "type": "scatter",
         "uid": "68a0d157-c566-11e8-bbca-98541b5bf12b",
         "x": [
          -0.023750419616483755
         ],
         "y": [
          0.18538007897039413
         ]
        },
        {
         "marker": {
          "color": "rgba(0, 0, 110, .8)",
          "size": 7
         },
         "mode": "markers",
         "text": "Nella Via Lattea un autoscontro stellare - News - ANSA.it",
         "type": "scatter",
         "uid": "68a0d158-c566-11e8-bbca-98541b5bf12b",
         "x": [
          -4.249165689510846
         ],
         "y": [
          -0.8314549508879122
         ]
        },
        {
         "marker": {
          "color": "rgba(0, 0, 110, .8)",
          "size": 7
         },
         "mode": "markers",
         "text": "Amazon, a Roma porta il pecorino a casa - Internet e Social - ANSA.it",
         "type": "scatter",
         "uid": "68a0d159-c566-11e8-bbca-98541b5bf12b",
         "x": [
          -3.00483281629391
         ],
         "y": [
          0.6769694543894446
         ]
        },
        {
         "marker": {
          "color": "rgba(0, 0, 110, .8)",
          "size": 7
         },
         "mode": "markers",
         "text": "Nell'iPhone Day, Xiaomi lancia Mi 8 Pro - Hi-tech - ANSA.it",
         "type": "scatter",
         "uid": "68a0d15a-c566-11e8-bbca-98541b5bf12b",
         "x": [
          -1.210066575022128
         ],
         "y": [
          0.48592807663717213
         ]
        },
        {
         "marker": {
          "color": "rgba(0, 0, 110, .8)",
          "size": 7
         },
         "mode": "markers",
         "text": "Tutti fanno la mirrorless full frame? Fujifilm alza il medio (formato) con GFX 50R",
         "type": "scatter",
         "uid": "68a0d15b-c566-11e8-bbca-98541b5bf12b",
         "x": [
          -6.9693786984934345
         ],
         "y": [
          0.9160397647078669
         ]
        },
        {
         "marker": {
          "color": "rgba(0, 0, 110, .8)",
          "size": 7
         },
         "mode": "markers",
         "text": "Fb:ex moderatrice fa causa,traumatizzata - Internet e Social - ANSA.it",
         "type": "scatter",
         "uid": "68a0d15c-c566-11e8-bbca-98541b5bf12b",
         "x": [
          -0.24460497199065062
         ],
         "y": [
          -0.40180864923646853
         ]
        },
        {
         "marker": {
          "color": "rgba(0, 0, 110, .8)",
          "size": 7
         },
         "mode": "markers",
         "text": "Da una miniera del Sulcis la spia della materia oscura - Fisica & Matematica - ANSA.it",
         "type": "scatter",
         "uid": "68a0d15d-c566-11e8-bbca-98541b5bf12b",
         "x": [
          -11.102579486124787
         ],
         "y": [
          0.2269843840567824
         ]
        },
        {
         "marker": {
          "color": "rgba(0, 0, 110, .8)",
          "size": 7
         },
         "mode": "markers",
         "text": "Apple ridà oltre 14 miliardi di euro di aiuti fiscali all'Irlanda - Tlc - ANSA.it",
         "type": "scatter",
         "uid": "68a0d15e-c566-11e8-bbca-98541b5bf12b",
         "x": [
          1.076730777923838
         ],
         "y": [
          1.1770534358132194
         ]
        },
        {
         "marker": {
          "color": "rgba(0, 0, 110, .8)",
          "size": 7
         },
         "mode": "markers",
         "text": "Samsung, i nuovi Galaxy J6+ e J4+ - Tlc - ANSA.it",
         "type": "scatter",
         "uid": "68a0d15f-c566-11e8-bbca-98541b5bf12b",
         "x": [
          -2.661613964524018
         ],
         "y": [
          -0.9338675788162337
         ]
        },
        {
         "marker": {
          "color": "rgba(0, 0, 110, .8)",
          "size": 7
         },
         "mode": "markers",
         "text": "Anche per Playstation Classic c'è operazione nostalgia - Hi-tech - ANSA.it",
         "type": "scatter",
         "uid": "68a0d160-c566-11e8-bbca-98541b5bf12b",
         "x": [
          2.8166314788299602
         ],
         "y": [
          -0.4080270064427082
         ]
        },
        {
         "marker": {
          "color": "rgba(0, 0, 110, .8)",
          "size": 7
         },
         "mode": "markers",
         "text": "Google Home Mini lo speaker più venduto - Hi-tech - ANSA.it",
         "type": "scatter",
         "uid": "68a0d161-c566-11e8-bbca-98541b5bf12b",
         "x": [
          5.9955605848957525
         ],
         "y": [
          -0.10962912298686367
         ]
        },
        {
         "marker": {
          "color": "rgba(0, 0, 110, .8)",
          "size": 7
         },
         "mode": "markers",
         "text": "Cellule della pelle sono state trasformate in neuroni - Biotech - ANSA.it",
         "type": "scatter",
         "uid": "68a0d162-c566-11e8-bbca-98541b5bf12b",
         "x": [
          -5.852011474818836
         ],
         "y": [
          -0.4440652137609176
         ]
        },
        {
         "marker": {
          "color": "rgba(0, 0, 110, .8)",
          "size": 7
         },
         "mode": "markers",
         "text": "Facebook: ex moderatrice fa causa, traumatizzata da immagini - Hi-tech - ANSA.it",
         "type": "scatter",
         "uid": "68a0d163-c566-11e8-bbca-98541b5bf12b",
         "x": [
          0.015396172306322722
         ],
         "y": [
          -0.6682915904473745
         ]
        },
        {
         "marker": {
          "color": "rgba(0, 0, 110, .8)",
          "size": 7
         },
         "mode": "markers",
         "text": "Accordo Dis-Samsung per promuovere cultura sicurezza - Tlc - ANSA.it",
         "type": "scatter",
         "uid": "68a0d164-c566-11e8-bbca-98541b5bf12b",
         "x": [
          1.0482842388872535
         ],
         "y": [
          -0.8773055280056423
         ]
        },
        {
         "marker": {
          "color": "rgba(0, 0, 110, .8)",
          "size": 7
         },
         "mode": "markers",
         "text": "AirPower si surriscalda, slitta il lancio - Hi-tech - ANSA.it",
         "type": "scatter",
         "uid": "68a0d165-c566-11e8-bbca-98541b5bf12b",
         "x": [
          1.40768109563877
         ],
         "y": [
          -0.9799283390287516
         ]
        },
        {
         "marker": {
          "color": "rgba(0, 0, 110, .8)",
          "size": 7
         },
         "mode": "markers",
         "text": "Usa, causa contro Facebook per inserzioni discriminatorie - Internet e Social - ANSA.it",
         "type": "scatter",
         "uid": "68a0d166-c566-11e8-bbca-98541b5bf12b",
         "x": [
          12.423830803395585
         ],
         "y": [
          -0.4463235523995264
         ]
        },
        {
         "marker": {
          "color": "rgba(0, 0, 110, .8)",
          "size": 7
         },
         "mode": "markers",
         "text": "SpaceX: ecco come saranno le basi umane su Marte",
         "type": "scatter",
         "uid": "68a0d167-c566-11e8-bbca-98541b5bf12b",
         "x": [
          7.446872301701139
         ],
         "y": [
          0.21564019966575235
         ]
        },
        {
         "marker": {
          "color": "rgba(0, 0, 110, .8)",
          "size": 7
         },
         "mode": "markers",
         "text": "Fb, 'war room' in vista voto Usa e Ue - Internet e Social - ANSA.it",
         "type": "scatter",
         "uid": "68a0d168-c566-11e8-bbca-98541b5bf12b",
         "x": [
          6.428659604041672
         ],
         "y": [
          -0.3474092754548799
         ]
        },
        {
         "marker": {
          "color": "rgba(0, 0, 110, .8)",
          "size": 7
         },
         "mode": "markers",
         "text": "Wsj, Facebook ha trattato con le banche per i dati degli utenti - Internet e Social - ANSA.it",
         "type": "scatter",
         "uid": "68a0d169-c566-11e8-bbca-98541b5bf12b",
         "x": [
          -3.0749809412800255
         ],
         "y": [
          -0.558247033356704
         ]
        },
        {
         "marker": {
          "color": "rgba(0, 0, 110, .8)",
          "size": 7
         },
         "mode": "markers",
         "text": "Notte Europea dei Ricercatori, 12 città in festa per la scienza - Ricerca & Istituzioni - ANSA.it",
         "type": "scatter",
         "uid": "68a0d16a-c566-11e8-bbca-98541b5bf12b",
         "x": [
          -9.45539305474
         ],
         "y": [
          -1.14598374194185
         ]
        },
        {
         "marker": {
          "color": "rgba(0, 0, 110, .8)",
          "size": 7
         },
         "mode": "markers",
         "text": "iPhone, a Milano tutti in fila per i nuovi modelli - Tlc - ANSA.it",
         "type": "scatter",
         "uid": "68a0d16b-c566-11e8-bbca-98541b5bf12b",
         "x": [
          4.441312800583848
         ],
         "y": [
          0.6882487216702448
         ]
        },
        {
         "marker": {
          "color": "rgba(0, 0, 110, .8)",
          "size": 7
         },
         "mode": "markers",
         "text": "Serre marziane, all'Enea crescono le super-piante del futuro - Biotech - ANSA.it",
         "type": "scatter",
         "uid": "68a0d16c-c566-11e8-bbca-98541b5bf12b",
         "x": [
          -5.933168921228111
         ],
         "y": [
          1.603077131016714
         ]
        },
        {
         "marker": {
          "color": "rgba(0, 0, 110, .8)",
          "size": 7
         },
         "mode": "markers",
         "text": "SpaceX: ecco come saranno le basi umane su Marte",
         "type": "scatter",
         "uid": "68a0d16d-c566-11e8-bbca-98541b5bf12b",
         "x": [
          7.593886663853034
         ],
         "y": [
          -0.00933895870677007
         ]
        },
        {
         "marker": {
          "color": "rgba(0, 0, 110, .8)",
          "size": 7
         },
         "mode": "markers",
         "text": "Mirrorless, full frame, 47Mpixel e 24Mpixel: in arrivo le Panasonic Lumix S1R e S1 con attacco L-Mount",
         "type": "scatter",
         "uid": "68a0d16e-c566-11e8-bbca-98541b5bf12b",
         "x": [
          2.24233746488826
         ],
         "y": [
          0.997311629957182
         ]
        },
        {
         "marker": {
          "color": "rgba(0, 0, 110, .8)",
          "size": 7
         },
         "mode": "markers",
         "text": "Ecco il carattere che allunga i documenti, sogno di ogni studente - Hi-tech - ANSA.it",
         "type": "scatter",
         "uid": "68a0d16f-c566-11e8-bbca-98541b5bf12b",
         "x": [
          4.412141648041248
         ],
         "y": [
          0.3432134627904147
         ]
        },
        {
         "marker": {
          "color": "rgba(0, 0, 110, .8)",
          "size": 7
         },
         "mode": "markers",
         "text": "Annunciata la soluzione di un problema inseguito da 160 anni - Fisica & Matematica - ANSA.it",
         "type": "scatter",
         "uid": "68a0d170-c566-11e8-bbca-98541b5bf12b",
         "x": [
          8.468593175112032
         ],
         "y": [
          -0.15539605391923902
         ]
        },
        {
         "marker": {
          "color": "rgba(0, 0, 110, .8)",
          "size": 7
         },
         "mode": "markers",
         "text": "Futuri robot con pelle che sente il vento - Hi-tech - ANSA.it",
         "type": "scatter",
         "uid": "68a0d171-c566-11e8-bbca-98541b5bf12b",
         "x": [
          -5.147178558855892
         ],
         "y": [
          -1.979892267140523
         ]
        },
        {
         "marker": {
          "color": "rgba(0, 0, 110, .8)",
          "size": 7
         },
         "mode": "markers",
         "text": "Influenza, scoperto il tallone d'Achille del virus - Biotech - ANSA.it",
         "type": "scatter",
         "uid": "68a0d172-c566-11e8-bbca-98541b5bf12b",
         "x": [
          -8.033749063347672
         ],
         "y": [
          -0.3941210418750139
         ]
        },
        {
         "marker": {
          "color": "rgba(0, 0, 110, .8)",
          "size": 7
         },
         "mode": "markers",
         "text": "Apple, no a violenza e sesso in show tv - Internet e Social - ANSA.it",
         "type": "scatter",
         "uid": "68a0d173-c566-11e8-bbca-98541b5bf12b",
         "x": [
          8.241625941584598
         ],
         "y": [
          0.8382361945156324
         ]
        },
        {
         "marker": {
          "color": "rgba(0, 0, 110, .8)",
          "size": 7
         },
         "mode": "markers",
         "text": "Huawei Mate 20 Lite: un midrange dall'ottima autonomia. La recensione",
         "type": "scatter",
         "uid": "68a0d174-c566-11e8-bbca-98541b5bf12b",
         "x": [
          0.0791180948398881
         ],
         "y": [
          -1.260469980606705
         ]
        },
        {
         "marker": {
          "color": "rgba(0, 0, 110, .8)",
          "size": 7
         },
         "mode": "markers",
         "text": "Marte, il sottosuolo può avere ospitato la vita - Spazio & Astronomia - ANSA.it",
         "type": "scatter",
         "uid": "68a0d175-c566-11e8-bbca-98541b5bf12b",
         "x": [
          -8.636521326521706
         ],
         "y": [
          2.55986748284484
         ]
        },
        {
         "marker": {
          "color": "rgba(0, 0, 110, .8)",
          "size": 7
         },
         "mode": "markers",
         "text": "Un nuovo collega per gli esperti di riconoscimento facciale: l'intelligenza artificiale",
         "type": "scatter",
         "uid": "68a0d176-c566-11e8-bbca-98541b5bf12b",
         "x": [
          0.7601757530859783
         ],
         "y": [
          -0.48942051524864666
         ]
        },
        {
         "marker": {
          "color": "rgba(0, 0, 110, .8)",
          "size": 7
         },
         "mode": "markers",
         "text": "Sweeper, il robot che raccoglie ortaggi e frutta - News - ANSA.it",
         "type": "scatter",
         "uid": "68a0d177-c566-11e8-bbca-98541b5bf12b",
         "x": [
          -2.521993764039453
         ],
         "y": [
          0.0865465253971169
         ]
        },
        {
         "marker": {
          "color": "rgba(0, 0, 110, .8)",
          "size": 7
         },
         "mode": "markers",
         "text": "Amazon, 8 nuovi dispositivi con Alexa nel 2018 - Hi-tech - ANSA.it",
         "type": "scatter",
         "uid": "68a0d178-c566-11e8-bbca-98541b5bf12b",
         "x": [
          10.565984445687002
         ],
         "y": [
          -0.16281215857197845
         ]
        },
        {
         "marker": {
          "color": "rgba(0, 0, 110, .8)",
          "size": 7
         },
         "mode": "markers",
         "text": "OnePlus: addio alla Dash Charge per via di una disputa legale sul nome",
         "type": "scatter",
         "uid": "68a0d179-c566-11e8-bbca-98541b5bf12b",
         "x": [
          14.982199208292123
         ],
         "y": [
          -0.05603986426812385
         ]
        },
        {
         "marker": {
          "color": "rgba(0, 0, 110, .8)",
          "size": 7
         },
         "mode": "markers",
         "text": "Trovata la lettera che costo' a Galileo l'accusa di eresia - Spazio & Astronomia - ANSA.it",
         "type": "scatter",
         "uid": "68a0d17a-c566-11e8-bbca-98541b5bf12b",
         "x": [
          -5.797639093855142
         ],
         "y": [
          -0.7782426347619302
         ]
        },
        {
         "marker": {
          "color": "rgba(0, 0, 110, .8)",
          "size": 7
         },
         "mode": "markers",
         "text": "Aperta indagine penale su Tesla dopo tweet di Musk - Hi-tech - ANSA.it",
         "type": "scatter",
         "uid": "68a0d17b-c566-11e8-bbca-98541b5bf12b",
         "x": [
          13.356914438453247
         ],
         "y": [
          -0.7525542250225354
         ]
        },
        {
         "marker": {
          "color": "rgba(0, 0, 110, .8)",
          "size": 7
         },
         "mode": "markers",
         "text": "In arrivo una rivoluzione nella diagnostica medica: una tecnologia sensibile alla singola molecola",
         "type": "scatter",
         "uid": "68a0d17c-c566-11e8-bbca-98541b5bf12b",
         "x": [
          -14.870705993112038
         ],
         "y": [
          -5.886487936511774
         ]
        },
        {
         "marker": {
          "color": "rgba(0, 0, 110, .8)",
          "size": 7
         },
         "mode": "markers",
         "text": "Mai più batterie che prendono fuoco",
         "type": "scatter",
         "uid": "68a0d17d-c566-11e8-bbca-98541b5bf12b",
         "x": [
          -4.279670885708312
         ],
         "y": [
          0.08686580547963316
         ]
        },
        {
         "marker": {
          "color": "rgba(0, 0, 110, .8)",
          "size": 7
         },
         "mode": "markers",
         "text": "Mercato mondiale Pc, nel 2019 la ripresa - Hi-tech - ANSA.it",
         "type": "scatter",
         "uid": "68a0d17e-c566-11e8-bbca-98541b5bf12b",
         "x": [
          -4.297782496423499
         ],
         "y": [
          2.5106418038889005
         ]
        },
        {
         "marker": {
          "color": "rgba(0, 0, 110, .8)",
          "size": 7
         },
         "mode": "markers",
         "text": "La più grande luna di Saturno sotto una tempesta di polvere - Spazio & Astronomia - ANSA.it",
         "type": "scatter",
         "uid": "68a0d17f-c566-11e8-bbca-98541b5bf12b",
         "x": [
          -10.081689264105805
         ],
         "y": [
          2.7197387110088167
         ]
        },
        {
         "marker": {
          "color": "rgba(0, 0, 110, .8)",
          "size": 7
         },
         "mode": "markers",
         "text": "Wef, con robot più lavoro, ma competenze da creare - Hi-tech - ANSA.it",
         "type": "scatter",
         "uid": "68a0d180-c566-11e8-bbca-98541b5bf12b",
         "x": [
          -6.511972708902877
         ],
         "y": [
          -0.16385078598610164
         ]
        },
        {
         "marker": {
          "color": "rgba(0, 0, 110, .8)",
          "size": 7
         },
         "mode": "markers",
         "text": "Surface Hub 2 al debutto dal 2019, con una seconda versione nel 2020",
         "type": "scatter",
         "uid": "68a0d181-c566-11e8-bbca-98541b5bf12b",
         "x": [
          -1.7646363236199432
         ],
         "y": [
          -0.5969462233319974
         ]
        },
        {
         "marker": {
          "color": "rgba(0, 0, 110, .8)",
          "size": 7
         },
         "mode": "markers",
         "text": "È il momento giusto per comprare un telefono rugged, secondo Blackview",
         "type": "scatter",
         "uid": "68a0d182-c566-11e8-bbca-98541b5bf12b",
         "x": [
          2.5775954455771566
         ],
         "y": [
          -0.33544912207163735
         ]
        },
        {
         "marker": {
          "color": "rgba(0, 0, 110, .8)",
          "size": 7
         },
         "mode": "markers",
         "text": "Twitter, si potrà tornare a cronologia tweet - Internet e Social - ANSA.it",
         "type": "scatter",
         "uid": "68a0d183-c566-11e8-bbca-98541b5bf12b",
         "x": [
          9.60366591373202
         ],
         "y": [
          -0.033139678811738744
         ]
        },
        {
         "marker": {
          "color": "rgba(0, 0, 110, .8)",
          "size": 7
         },
         "mode": "markers",
         "text": "Irix 150mm F2.8 per full frame con attacchi Canon EF, Nikon F e Pentax K a bassissima distorsione",
         "type": "scatter",
         "uid": "68a0d184-c566-11e8-bbca-98541b5bf12b",
         "x": [
          -6.706302222878059
         ],
         "y": [
          -1.616434471230175
         ]
        },
        {
         "marker": {
          "color": "rgba(0, 0, 110, .8)",
          "size": 7
         },
         "mode": "markers",
         "text": "Arriva in Italia Google Pay, sfida a Apple - Tlc - ANSA.it",
         "type": "scatter",
         "uid": "68a0d185-c566-11e8-bbca-98541b5bf12b",
         "x": [
          -1.6010734568701674
         ],
         "y": [
          0.404020695637829
         ]
        },
        {
         "marker": {
          "color": "rgba(0, 0, 110, .8)",
          "size": 7
         },
         "mode": "markers",
         "text": "SoFi, un soft robot per studiare la vita nell’oceano",
         "type": "scatter",
         "uid": "68a0d186-c566-11e8-bbca-98541b5bf12b",
         "x": [
          -4.336101307489009
         ],
         "y": [
          1.0097296039925723
         ]
        },
        {
         "marker": {
          "color": "rgba(0, 0, 110, .8)",
          "size": 7
         },
         "mode": "markers",
         "text": "Instagram sfida Amazon sullo shopping - Internet e Social - ANSA.it",
         "type": "scatter",
         "uid": "68a0d187-c566-11e8-bbca-98541b5bf12b",
         "x": [
          1.843610776400393
         ],
         "y": [
          0.0977719280324885
         ]
        },
        {
         "marker": {
          "color": "rgba(0, 0, 110, .8)",
          "size": 7
         },
         "mode": "markers",
         "text": "Apple conta le telefonate contro le frodi - Hi-tech - ANSA.it",
         "type": "scatter",
         "uid": "68a0d188-c566-11e8-bbca-98541b5bf12b",
         "x": [
          7.3920123791335195
         ],
         "y": [
          0.6711336391184499
         ]
        },
        {
         "marker": {
          "color": "rgba(0, 0, 110, .8)",
          "size": 7
         },
         "mode": "markers",
         "text": "RFID: dalle etichette dei supermercati a sensori per l'ambiente",
         "type": "scatter",
         "uid": "68a0d189-c566-11e8-bbca-98541b5bf12b",
         "x": [
          -8.695489342004935
         ],
         "y": [
          -2.061735915091584
         ]
        },
        {
         "marker": {
          "color": "rgba(0, 0, 110, .8)",
          "size": 7
         },
         "mode": "markers",
         "text": "Wsj, Facebook ha trattato con le banche per i dati degli utenti - Internet e Social - ANSA.it",
         "type": "scatter",
         "uid": "68a0d18a-c566-11e8-bbca-98541b5bf12b",
         "x": [
          -3.197435418718526
         ],
         "y": [
          -0.23183601197664294
         ]
        },
        {
         "marker": {
          "color": "rgba(0, 0, 110, .8)",
          "size": 7
         },
         "mode": "markers",
         "text": "Tutti fanno la mirrorless full frame? Fujifilm alza il medio (formato) con GFX 50R",
         "type": "scatter",
         "uid": "68a0d18b-c566-11e8-bbca-98541b5bf12b",
         "x": [
          -7.167412415332828
         ],
         "y": [
          1.130698896144928
         ]
        },
        {
         "marker": {
          "color": "rgba(0, 0, 110, .8)",
          "size": 7
         },
         "mode": "markers",
         "text": "Nell'iPhone Day, Xiaomi lancia Mi 8 Pro - Hi-tech - ANSA.it",
         "type": "scatter",
         "uid": "68a0d18c-c566-11e8-bbca-98541b5bf12b",
         "x": [
          -1.499637730671859
         ],
         "y": [
          1.1068610020843932
         ]
        },
        {
         "marker": {
          "color": "rgba(0, 0, 110, .8)",
          "size": 7
         },
         "mode": "markers",
         "text": "Le auto a guida autonoma migliorano il flusso del traffico",
         "type": "scatter",
         "uid": "68a0d18d-c566-11e8-bbca-98541b5bf12b",
         "x": [
          -1.8443047352397866
         ],
         "y": [
          1.4045093930851973
         ]
        },
        {
         "marker": {
          "color": "rgba(0, 0, 110, .8)",
          "size": 7
         },
         "mode": "markers",
         "text": "Apple ridà oltre 14 miliardi di euro di aiuti fiscali all'Irlanda - Tlc - ANSA.it",
         "type": "scatter",
         "uid": "68a0d18e-c566-11e8-bbca-98541b5bf12b",
         "x": [
          0.7968980058652563
         ],
         "y": [
          0.31476742115818523
         ]
        },
        {
         "marker": {
          "color": "rgba(0, 0, 110, .8)",
          "size": 7
         },
         "mode": "markers",
         "text": "Kingston, disponibili gli SSD HyperX Fury RGB: un tocco di colore alle ''solite'' unità 2,5''",
         "type": "scatter",
         "uid": "68a0d18f-c566-11e8-bbca-98541b5bf12b",
         "x": [
          8.90860683814693
         ],
         "y": [
          -0.32368858718857474
         ]
        },
        {
         "marker": {
          "color": "rgba(0, 0, 110, .8)",
          "size": 7
         },
         "mode": "markers",
         "text": "Il primo esofago costruito in laboratorio - Biotech - ANSA.it",
         "type": "scatter",
         "uid": "68a0d190-c566-11e8-bbca-98541b5bf12b",
         "x": [
          -9.310761446515762
         ],
         "y": [
          -2.220527180354953
         ]
        },
        {
         "marker": {
          "color": "rgba(0, 0, 110, .8)",
          "size": 7
         },
         "mode": "markers",
         "text": "Soffici e magnetici: sono i nuovi robot ideati dal MIT",
         "type": "scatter",
         "uid": "68a0d191-c566-11e8-bbca-98541b5bf12b",
         "x": [
          -9.662132330407267
         ],
         "y": [
          -1.2997383411344756
         ]
        },
        {
         "marker": {
          "color": "rgba(0, 0, 110, .8)",
          "size": 7
         },
         "mode": "markers",
         "text": "Apple completa l'acquisizione di Shazam - Software e App - ANSA.it",
         "type": "scatter",
         "uid": "68a0d192-c566-11e8-bbca-98541b5bf12b",
         "x": [
          7.513533595609189
         ],
         "y": [
          -1.3549486860075903
         ]
        },
        {
         "marker": {
          "color": "rgba(0, 0, 110, .8)",
          "size": 7
         },
         "mode": "markers",
         "text": "Ripristinare la sensazione di movimento nei pazienti con protesi",
         "type": "scatter",
         "uid": "68a0d193-c566-11e8-bbca-98541b5bf12b",
         "x": [
          -5.966850770095299
         ],
         "y": [
          -0.8692050337779672
         ]
        },
        {
         "marker": {
          "color": "rgba(0, 0, 110, .8)",
          "size": 7
         },
         "mode": "markers",
         "text": "La Terra come Venere, potrebbe avere un futuro bollente - Terra & Poli - ANSA.it",
         "type": "scatter",
         "uid": "68a0d194-c566-11e8-bbca-98541b5bf12b",
         "x": [
          -0.16826638324041643
         ],
         "y": [
          0.668250830835452
         ]
        },
        {
         "marker": {
          "color": "rgba(0, 0, 110, .8)",
          "size": 7
         },
         "mode": "markers",
         "text": "E' Reggio Emilia la città più social d'Italia - Internet e Social - ANSA.it",
         "type": "scatter",
         "uid": "68a0d195-c566-11e8-bbca-98541b5bf12b",
         "x": [
          -4.885815199093251
         ],
         "y": [
          -0.5221702240664021
         ]
        },
        {
         "marker": {
          "color": "rgba(0, 0, 110, .8)",
          "size": 7
         },
         "mode": "markers",
         "text": "Nature, due italiani fra gli 11 ricercatori emergenti - Ricerca & Istituzioni - ANSA.it",
         "type": "scatter",
         "uid": "68a0d196-c566-11e8-bbca-98541b5bf12b",
         "x": [
          -6.551534281661657
         ],
         "y": [
          -0.06328247071172972
         ]
        },
        {
         "marker": {
          "color": "rgba(0, 0, 110, .8)",
          "size": 7
         },
         "mode": "markers",
         "text": "Il gene che al mattino risveglia i fiori - Biotech - ANSA.it",
         "type": "scatter",
         "uid": "68a0d197-c566-11e8-bbca-98541b5bf12b",
         "x": [
          -3.014128344950689
         ],
         "y": [
          0.8339039836019968
         ]
        },
        {
         "marker": {
          "color": "rgba(0, 0, 110, .8)",
          "size": 7
         },
         "mode": "markers",
         "text": "V-Rally 4, disponibile da oggi la versione PC",
         "type": "scatter",
         "uid": "68a0d198-c566-11e8-bbca-98541b5bf12b",
         "x": [
          -10.88628965688887
         ],
         "y": [
          0.7089286496002435
         ]
        },
        {
         "marker": {
          "color": "rgba(0, 0, 110, .8)",
          "size": 7
         },
         "mode": "markers",
         "text": "Come addomesticare un ragno per capire i segreti dei suoi salti",
         "type": "scatter",
         "uid": "68a0d199-c566-11e8-bbca-98541b5bf12b",
         "x": [
          -5.395442481710432
         ],
         "y": [
          0.5806284792964813
         ]
        },
        {
         "marker": {
          "color": "rgba(0, 0, 110, .8)",
          "size": 7
         },
         "mode": "markers",
         "text": "È possibile che un robot possa utilizzare la teoria della mente?",
         "type": "scatter",
         "uid": "68a0d19a-c566-11e8-bbca-98541b5bf12b",
         "x": [
          -10.687942260831269
         ],
         "y": [
          -2.772300998237769
         ]
        },
        {
         "marker": {
          "color": "rgba(0, 0, 110, .8)",
          "size": 7
         },
         "mode": "markers",
         "text": "Mattarella nei laboratori dell'Enea - Ricerca & Istituzioni - ANSA.it",
         "type": "scatter",
         "uid": "68a0d19b-c566-11e8-bbca-98541b5bf12b",
         "x": [
          3.7465205215536517
         ],
         "y": [
          -0.14256203125910247
         ]
        },
        {
         "marker": {
          "color": "rgba(0, 0, 110, .8)",
          "size": 7
         },
         "mode": "markers",
         "text": "Conto corrente N26: il miglior modo per pagare è dallo smartphone",
         "type": "scatter",
         "uid": "68a0d19c-c566-11e8-bbca-98541b5bf12b",
         "x": [
          -0.683405316087215
         ],
         "y": [
          -0.2949472924578304
         ]
        },
        {
         "marker": {
          "color": "rgba(0, 0, 110, .8)",
          "size": 7
         },
         "mode": "markers",
         "text": "Immagini mozzafiato delle nubi blu che brillano ai poli - Spazio & Astronomia - ANSA.it",
         "type": "scatter",
         "uid": "68a0d19d-c566-11e8-bbca-98541b5bf12b",
         "x": [
          -11.828554108220368
         ],
         "y": [
          -0.21126107237114713
         ]
        },
        {
         "marker": {
          "color": "rgba(0, 0, 110, .8)",
          "size": 7
         },
         "mode": "markers",
         "text": "Microsoft Office 2019 è ora disponibile per Windows e macOS",
         "type": "scatter",
         "uid": "68a0d19e-c566-11e8-bbca-98541b5bf12b",
         "x": [
          8.700997810724955
         ],
         "y": [
          -0.2555149303435638
         ]
        },
        {
         "marker": {
          "color": "rgba(0, 0, 110, .8)",
          "size": 7
         },
         "mode": "markers",
         "text": "Un sensore applicato su un dente potrà tracciare i nostri pasti",
         "type": "scatter",
         "uid": "68a0d19f-c566-11e8-bbca-98541b5bf12b",
         "x": [
          -7.108373340673451
         ],
         "y": [
          -2.4042302123151074
         ]
        },
        {
         "marker": {
          "color": "rgba(0, 0, 110, .8)",
          "size": 7
         },
         "mode": "markers",
         "text": "Amazon vuole aprire 3mila alimentari - Hi-tech - ANSA.it",
         "type": "scatter",
         "uid": "68a0d1a0-c566-11e8-bbca-98541b5bf12b",
         "x": [
          -1.4173395880045567
         ],
         "y": [
          -0.36750197003066093
         ]
        },
        {
         "marker": {
          "color": "rgba(0, 0, 110, .8)",
          "size": 7
         },
         "mode": "markers",
         "text": "Kaspersky,gli Usa ci hanno preso di mira - Internet e Social - ANSA.it",
         "type": "scatter",
         "uid": "68a0d1a1-c566-11e8-bbca-98541b5bf12b",
         "x": [
          3.260535006763977
         ],
         "y": [
          1.1504727529478063
         ]
        },
        {
         "marker": {
          "color": "rgba(0, 0, 110, .8)",
          "size": 7
         },
         "mode": "markers",
         "text": "L-Mount: Leica, Panasonic e Sigma all'attacco del settore mirrorless full frame e APS-C",
         "type": "scatter",
         "uid": "68a0d1a2-c566-11e8-bbca-98541b5bf12b",
         "x": [
          -0.41499987303883673
         ],
         "y": [
          0.6609315207743358
         ]
        },
        {
         "marker": {
          "color": "rgba(0, 0, 110, .8)",
          "size": 7
         },
         "mode": "markers",
         "text": "Spamming estorsivo, Polizia Postale lancia l'allarme - Internet e Social - ANSA.it",
         "type": "scatter",
         "uid": "68a0d1a3-c566-11e8-bbca-98541b5bf12b",
         "x": [
          5.156319858558509
         ],
         "y": [
          -0.39812583514707744
         ]
        },
        {
         "marker": {
          "color": "rgba(0, 0, 110, .8)",
          "size": 7
         },
         "mode": "markers",
         "text": "iPhone, 400 persone in coda a Singapore - Hi-tech - ANSA.it",
         "type": "scatter",
         "uid": "68a0d1a4-c566-11e8-bbca-98541b5bf12b",
         "x": [
          0.8522485875820134
         ],
         "y": [
          0.17798287359772197
         ]
        },
        {
         "marker": {
          "color": "rgba(0, 0, 110, .8)",
          "size": 7
         },
         "mode": "markers",
         "text": "Facebook: la Ue attacca, migliori la trasparenza o multe in arrivo - Internet e Social - ANSA.it",
         "type": "scatter",
         "uid": "68a0d1a5-c566-11e8-bbca-98541b5bf12b",
         "x": [
          6.110383723540692
         ],
         "y": [
          0.6705502716692731
         ]
        },
        {
         "marker": {
          "color": "rgba(0, 0, 110, .8)",
          "size": 7
         },
         "mode": "markers",
         "text": "Soft robot: la rivoluzione morbida",
         "type": "scatter",
         "uid": "68a0d1a6-c566-11e8-bbca-98541b5bf12b",
         "x": [
          -3.1722156452121424
         ],
         "y": [
          -0.062484542238891605
         ]
        },
        {
         "marker": {
          "color": "rgba(0, 0, 110, .8)",
          "size": 7
         },
         "mode": "markers",
         "text": "Facebook e Google nel mirino di Trump - Internet e Social - ANSA.it",
         "type": "scatter",
         "uid": "68a0d1a7-c566-11e8-bbca-98541b5bf12b",
         "x": [
          0.18182082975207692
         ],
         "y": [
          0.5304757365661883
         ]
        },
        {
         "marker": {
          "color": "rgba(0, 0, 110, .8)",
          "size": 7
         },
         "mode": "markers",
         "text": "Terremoti: dall’ENEA un nuovo metodo per individuare i beni culturali a rischio",
         "type": "scatter",
         "uid": "68a0d1a8-c566-11e8-bbca-98541b5bf12b",
         "x": [
          -6.337155210953224
         ],
         "y": [
          -0.5167362561004764
         ]
        },
        {
         "marker": {
          "color": "rgba(0, 0, 110, .8)",
          "size": 7
         },
         "mode": "markers",
         "text": "Robot protagonisti tra scienza e spettacolo a Festival Pisa - Tecnologie - ANSA.it",
         "type": "scatter",
         "uid": "68a0d1a9-c566-11e8-bbca-98541b5bf12b",
         "x": [
          -8.662259424132165
         ],
         "y": [
          -0.13708886845690235
         ]
        },
        {
         "marker": {
          "color": "rgba(0, 0, 110, .8)",
          "size": 7
         },
         "mode": "markers",
         "text": "Amazon, a Roma porta il pecorino a casa - Internet e Social - ANSA.it",
         "type": "scatter",
         "uid": "68a0d1aa-c566-11e8-bbca-98541b5bf12b",
         "x": [
          -2.9595117240958366
         ],
         "y": [
          -0.04733935367779223
         ]
        },
        {
         "marker": {
          "color": "rgba(0, 0, 110, .8)",
          "size": 7
         },
         "mode": "markers",
         "text": "Tifosi svizzeri bloccano una partita di calcio per protesta contro gli eSport",
         "type": "scatter",
         "uid": "68a0d1ab-c566-11e8-bbca-98541b5bf12b",
         "x": [
          11.875434404015493
         ],
         "y": [
          0.18480868341398635
         ]
        },
        {
         "marker": {
          "color": "rgba(0, 0, 110, .8)",
          "size": 7
         },
         "mode": "markers",
         "text": "Nella Via Lattea un autoscontro stellare - News - ANSA.it",
         "type": "scatter",
         "uid": "68a0d1ac-c566-11e8-bbca-98541b5bf12b",
         "x": [
          -4.713401895635556
         ],
         "y": [
          -0.45765065847836983
         ]
        },
        {
         "marker": {
          "color": "rgba(0, 0, 110, .8)",
          "size": 7
         },
         "mode": "markers",
         "text": "California, legge proteggerà da hacker oggetti connessi - Tlc - ANSA.it",
         "type": "scatter",
         "uid": "68a0d1ad-c566-11e8-bbca-98541b5bf12b",
         "x": [
          -0.33642775591944707
         ],
         "y": [
          -0.2703183391707192
         ]
        },
        {
         "marker": {
          "color": "rgba(0, 0, 110, .8)",
          "size": 7
         },
         "mode": "markers",
         "text": "Samsung, i nuovi Galaxy J6+ e J4+ - Tlc - ANSA.it",
         "type": "scatter",
         "uid": "68a0d1ae-c566-11e8-bbca-98541b5bf12b",
         "x": [
          -2.8444916842893546
         ],
         "y": [
          0.20330377049908804
         ]
        },
        {
         "marker": {
          "color": "rgba(0, 0, 110, .8)",
          "size": 7
         },
         "mode": "markers",
         "text": "Cellule della pelle sono state trasformate in neuroni - Biotech - ANSA.it",
         "type": "scatter",
         "uid": "68a0d1af-c566-11e8-bbca-98541b5bf12b",
         "x": [
          -6.111496987199017
         ],
         "y": [
          -0.2879224776960327
         ]
        },
        {
         "marker": {
          "color": "rgba(0, 0, 110, .8)",
          "size": 7
         },
         "mode": "markers",
         "text": "Tingersi i capelli con il grafene",
         "type": "scatter",
         "uid": "68a0d1b0-c566-11e8-bbca-98541b5bf12b",
         "x": [
          -4.375362728676437
         ],
         "y": [
          -1.614601814996929
         ]
        },
        {
         "marker": {
          "color": "rgba(0, 0, 110, .8)",
          "size": 7
         },
         "mode": "markers",
         "text": "Da una miniera del Sulcis la spia della materia oscura - Fisica & Matematica - ANSA.it",
         "type": "scatter",
         "uid": "68a0d1b1-c566-11e8-bbca-98541b5bf12b",
         "x": [
          -11.238688329735286
         ],
         "y": [
          0.7511388147250894
         ]
        },
        {
         "marker": {
          "color": "rgba(0, 0, 110, .8)",
          "size": 7
         },
         "mode": "markers",
         "text": "I co-fondatori di Instagram lasciano la società - Internet e Social - ANSA.it",
         "type": "scatter",
         "uid": "68a0d1b2-c566-11e8-bbca-98541b5bf12b",
         "x": [
          9.406235181809064
         ],
         "y": [
          -0.046363563733945505
         ]
        },
        {
         "marker": {
          "color": "rgba(0, 0, 110, .8)",
          "size": 7
         },
         "mode": "markers",
         "text": "Ricoh al lavoro sull'imminente GR III, compatta che sostituirà la GR II",
         "type": "scatter",
         "uid": "68a0d1b3-c566-11e8-bbca-98541b5bf12b",
         "x": [
          -6.1723934049400455
         ],
         "y": [
          -2.3861253292272306
         ]
        },
        {
         "marker": {
          "color": "rgba(0, 0, 110, .8)",
          "size": 7
         },
         "mode": "markers",
         "text": "I fondatori di Instagram lasciano Facebook: ecco cosa faranno in futuro",
         "type": "scatter",
         "uid": "68a0d1b4-c566-11e8-bbca-98541b5bf12b",
         "x": [
          9.206015869829342
         ],
         "y": [
          -0.05462089296602869
         ]
        },
        {
         "marker": {
          "color": "rgba(0, 0, 110, .8)",
          "size": 7
         },
         "mode": "markers",
         "text": "Come spezzare uno spaghetto in due? Lo spiega il MIT",
         "type": "scatter",
         "uid": "68a0d1b5-c566-11e8-bbca-98541b5bf12b",
         "x": [
          -2.923824901117365
         ],
         "y": [
          0.2517950787752207
         ]
        },
        {
         "marker": {
          "color": "rgba(0, 0, 110, .8)",
          "size": 7
         },
         "mode": "markers",
         "text": "AirPower si surriscalda, slitta il lancio - Hi-tech - ANSA.it",
         "type": "scatter",
         "uid": "68a0d1b6-c566-11e8-bbca-98541b5bf12b",
         "x": [
          0.9866368724562109
         ],
         "y": [
          -0.8267113009929127
         ]
        },
        {
         "marker": {
          "color": "rgba(0, 0, 110, .8)",
          "size": 7
         },
         "mode": "markers",
         "text": "Amazon, lente Ue su dati sensibili - Internet e Social - ANSA.it",
         "type": "scatter",
         "uid": "68a0d1b7-c566-11e8-bbca-98541b5bf12b",
         "x": [
          10.61595299663572
         ],
         "y": [
          -0.42428600219427937
         ]
        },
        {
         "marker": {
          "color": "rgba(0, 0, 110, .8)",
          "size": 7
         },
         "mode": "markers",
         "text": "Google Home Mini lo speaker più venduto - Hi-tech - ANSA.it",
         "type": "scatter",
         "uid": "68a0d1b8-c566-11e8-bbca-98541b5bf12b",
         "x": [
          5.568739110729632
         ],
         "y": [
          -0.6364560154715679
         ]
        },
        {
         "marker": {
          "color": "rgba(0, 0, 110, .8)",
          "size": 7
         },
         "mode": "markers",
         "text": "E' l'equinozio d'autunno - Spazio & Astronomia - ANSA.it",
         "type": "scatter",
         "uid": "68a0d1b9-c566-11e8-bbca-98541b5bf12b",
         "x": [
          -8.60959477472147
         ],
         "y": [
          0.4559355196055557
         ]
        },
        {
         "marker": {
          "color": "rgba(0, 0, 110, .8)",
          "size": 7
         },
         "mode": "markers",
         "text": "iPhone, a Milano tutti in fila per i nuovi modelli - Tlc - ANSA.it",
         "type": "scatter",
         "uid": "68a0d1ba-c566-11e8-bbca-98541b5bf12b",
         "x": [
          4.601399532738508
         ],
         "y": [
          0.2837707292956712
         ]
        },
        {
         "marker": {
          "color": "rgba(0, 0, 110, .8)",
          "size": 7
         },
         "mode": "markers",
         "text": "Fb:ex moderatrice fa causa,traumatizzata - Internet e Social - ANSA.it",
         "type": "scatter",
         "uid": "68a0d1bb-c566-11e8-bbca-98541b5bf12b",
         "x": [
          -0.1024535173000074
         ],
         "y": [
          0.679711347273737
         ]
        },
        {
         "marker": {
          "color": "rgba(0, 0, 110, .8)",
          "size": 7
         },
         "mode": "markers",
         "text": "Bolide sul cielo della Sardegna, il terzo dell'estate - Spazio & Astronomia - ANSA.it",
         "type": "scatter",
         "uid": "68a0d1bc-c566-11e8-bbca-98541b5bf12b",
         "x": [
          -10.829190406936695
         ],
         "y": [
          2.6576388681520027
         ]
        },
        {
         "marker": {
          "color": "rgba(0, 0, 110, .8)",
          "size": 7
         },
         "mode": "markers",
         "text": "SpaceX: ecco come saranno le basi umane su Marte",
         "type": "scatter",
         "uid": "68a0d1bd-c566-11e8-bbca-98541b5bf12b",
         "x": [
          7.567908829145098
         ],
         "y": [
          0.31710915473399603
         ]
        },
        {
         "marker": {
          "color": "rgba(0, 0, 110, .8)",
          "size": 7
         },
         "mode": "markers",
         "text": "Notte Europea dei Ricercatori, 12 città in festa per la scienza - Ricerca & Istituzioni - ANSA.it",
         "type": "scatter",
         "uid": "68a0d1be-c566-11e8-bbca-98541b5bf12b",
         "x": [
          -9.931429460127845
         ],
         "y": [
          -1.0037499041739437
         ]
        },
        {
         "marker": {
          "color": "rgba(0, 0, 110, .8)",
          "size": 7
         },
         "mode": "markers",
         "text": "SpaceX: ecco come saranno le basi umane su Marte",
         "type": "scatter",
         "uid": "68a0d1bf-c566-11e8-bbca-98541b5bf12b",
         "x": [
          7.502745530175253
         ],
         "y": [
          -0.23389149083778862
         ]
        },
        {
         "marker": {
          "color": "rgba(0, 0, 110, .8)",
          "size": 7
         },
         "mode": "markers",
         "text": "Questi 7 prodotti dodocool sono in sconto su Amazon per i prossimi giorni: ecco i coupon",
         "type": "scatter",
         "uid": "68a0d1c0-c566-11e8-bbca-98541b5bf12b",
         "x": [
          8.137342132567765
         ],
         "y": [
          0.10626657788849676
         ]
        },
        {
         "marker": {
          "color": "rgba(0, 0, 110, .8)",
          "size": 7
         },
         "mode": "markers",
         "text": "Come usare i kirigami per far muovere un soft robot",
         "type": "scatter",
         "uid": "68a0d1c1-c566-11e8-bbca-98541b5bf12b",
         "x": [
          -7.630687639476435
         ],
         "y": [
          0.9047388453428861
         ]
        }
       ],
       "layout": {
        "hovermode": "closest",
        "showlegend": false,
        "title": "PCA Representantion of DocVectors",
        "xaxis": {
         "gridwidth": 2,
         "ticklen": 5,
         "title": "first component"
        },
        "yaxis": {
         "gridwidth": 2,
         "ticklen": 5,
         "title": "second component"
        }
       }
      }
     },
     "metadata": {},
     "output_type": "display_data"
    },
    {
     "data": {
      "application/vnd.plotly.v1+json": {
       "data": [
        {
         "marker": {
          "color": "rgba(0, 0, 110, .8)",
          "size": 7
         },
         "mode": "markers",
         "text": "Lg G7 ThinQ, super schermo e audio al top: lo smartphone che ha ben poco da invidiare - Repubblica.it",
         "type": "scatter",
         "uid": "69ee5af0-c566-11e8-bbca-98541b5bf12b",
         "x": [
          -5.56390175169075
         ],
         "y": [
          0.06862787237160066
         ]
        },
        {
         "marker": {
          "color": "rgba(0, 0, 110, .8)",
          "size": 7
         },
         "mode": "markers",
         "text": "Con iOS 12 iPhone e iPad si possono programmare - La Stampa",
         "type": "scatter",
         "uid": "69ee5af1-c566-11e8-bbca-98541b5bf12b",
         "x": [
          -2.433435751528409
         ],
         "y": [
          -2.1911841700617476
         ]
        },
        {
         "marker": {
          "color": "rgba(0, 0, 110, .8)",
          "size": 7
         },
         "mode": "markers",
         "text": "Microsoft e Lobe: l’intelligenza artificiale fai da te - La Stampa",
         "type": "scatter",
         "uid": "69ee5af2-c566-11e8-bbca-98541b5bf12b",
         "x": [
          0.7478186734705191
         ],
         "y": [
          0.8968236082125216
         ]
        },
        {
         "marker": {
          "color": "rgba(0, 0, 110, .8)",
          "size": 7
         },
         "mode": "markers",
         "text": "Tempesta su Titano: le immagini di Cassini - Repubblica.it",
         "type": "scatter",
         "uid": "69ee5af3-c566-11e8-bbca-98541b5bf12b",
         "x": [
          -3.079810413180324
         ],
         "y": [
          -0.2866187547485549
         ]
        },
        {
         "marker": {
          "color": "rgba(0, 0, 110, .8)",
          "size": 7
         },
         "mode": "markers",
         "text": "I capelli hanno fiuto, molecole odorose li aiutano a crescere - Repubblica.it",
         "type": "scatter",
         "uid": "69ee5af4-c566-11e8-bbca-98541b5bf12b",
         "x": [
          -1.078833330335483
         ],
         "y": [
          0.2871179161106684
         ]
        },
        {
         "marker": {
          "color": "rgba(0, 0, 110, .8)",
          "size": 7
         },
         "mode": "markers",
         "text": "Passione Instagram, macchina fotografica o cellulare per cogliere le bellezze della Sardegna - Repubblica.it",
         "type": "scatter",
         "uid": "69ee5af5-c566-11e8-bbca-98541b5bf12b",
         "x": [
          -1.7133866513199645
         ],
         "y": [
          -2.254862940686498
         ]
        },
        {
         "marker": {
          "color": "rgba(0, 0, 110, .8)",
          "size": 7
         },
         "mode": "markers",
         "text": "Cinque cose da fare per gestire bene la sicurezza degli account social aziendali - Il Sole 24 ORE",
         "type": "scatter",
         "uid": "69ee5af6-c566-11e8-bbca-98541b5bf12b",
         "x": [
          2.627690284801471
         ],
         "y": [
          0.6566255327916382
         ]
        },
        {
         "marker": {
          "color": "rgba(0, 0, 110, .8)",
          "size": 7
         },
         "mode": "markers",
         "text": "P101 investe 1,5 milioni in Wonderflow - Il Sole 24 ORE",
         "type": "scatter",
         "uid": "69ee5af7-c566-11e8-bbca-98541b5bf12b",
         "x": [
          0.04551477602628905
         ],
         "y": [
          -1.1930022219186356
         ]
        },
        {
         "marker": {
          "color": "rgba(0, 0, 110, .8)",
          "size": 7
         },
         "mode": "markers",
         "text": "Documenti segreti dell’Onu liberamente consultabili sul web a causa di un errore di configurazione - La Stampa",
         "type": "scatter",
         "uid": "69ee5af8-c566-11e8-bbca-98541b5bf12b",
         "x": [
          -0.7025509056278808
         ],
         "y": [
          -1.901962626588587
         ]
        },
        {
         "marker": {
          "color": "rgba(0, 0, 110, .8)",
          "size": 7
         },
         "mode": "markers",
         "text": "Gli archeologi potrebbero aver individuato la nave del capitano Cook - Repubblica.it",
         "type": "scatter",
         "uid": "69ee5af9-c566-11e8-bbca-98541b5bf12b",
         "x": [
          1.0897172006343814
         ],
         "y": [
          0.076536573184716
         ]
        },
        {
         "marker": {
          "color": "rgba(0, 0, 110, .8)",
          "size": 7
         },
         "mode": "markers",
         "text": "Scoperto un imponente complesso con terme romane a sud del Cairo - Repubblica.it",
         "type": "scatter",
         "uid": "69ee5afa-c566-11e8-bbca-98541b5bf12b",
         "x": [
          5.250092019362028
         ],
         "y": [
          -1.2915945315219592
         ]
        },
        {
         "marker": {
          "color": "rgba(0, 0, 110, .8)",
          "size": 7
         },
         "mode": "markers",
         "text": "HyperloopTT: così nel futuro viaggeremo a 1000 km/h HyperloopTT: così nel futuro viaggeremo a 1000 km/h - La Stampa",
         "type": "scatter",
         "uid": "69ee5afb-c566-11e8-bbca-98541b5bf12b",
         "x": [
          8.924590251415673
         ],
         "y": [
          0.6216651962443352
         ]
        },
        {
         "marker": {
          "color": "rgba(0, 0, 110, .8)",
          "size": 7
         },
         "mode": "markers",
         "text": "Ecco cosa scatena il sonno incontrollabile nei pazienti narcolettici - Repubblica.it",
         "type": "scatter",
         "uid": "69ee5afc-c566-11e8-bbca-98541b5bf12b",
         "x": [
          3.4125396106951142
         ],
         "y": [
          0.3263737141643732
         ]
        },
        {
         "marker": {
          "color": "rgba(0, 0, 110, .8)",
          "size": 7
         },
         "mode": "markers",
         "text": "Perché i fondatori di Instagram hanno lasciato la società - La Stampa",
         "type": "scatter",
         "uid": "69ee5afd-c566-11e8-bbca-98541b5bf12b",
         "x": [
          0.2862940197542329
         ],
         "y": [
          -0.4598410916283908
         ]
        },
        {
         "marker": {
          "color": "rgba(0, 0, 110, .8)",
          "size": 7
         },
         "mode": "markers",
         "text": "Né sesso, né violenza: Apple prepara il suo servizio streaming dedicato alle famiglie - Repubblica.it",
         "type": "scatter",
         "uid": "69ee5afe-c566-11e8-bbca-98541b5bf12b",
         "x": [
          1.8408494412635164
         ],
         "y": [
          -0.5530983242904055
         ]
        },
        {
         "marker": {
          "color": "rgba(0, 0, 110, .8)",
          "size": 7
         },
         "mode": "markers",
         "text": "Alibaba punta sul settore dei chip - La Stampa",
         "type": "scatter",
         "uid": "69ee5aff-c566-11e8-bbca-98541b5bf12b",
         "x": [
          2.6556956653304633
         ],
         "y": [
          0.07237670617811165
         ]
        },
        {
         "marker": {
          "color": "rgba(0, 0, 110, .8)",
          "size": 7
         },
         "mode": "markers",
         "text": "Le cicatrici stampate in 3D per lenire la malattia - Il Sole 24 ORE",
         "type": "scatter",
         "uid": "69ee5b00-c566-11e8-bbca-98541b5bf12b",
         "x": [
          -4.338401168067008
         ],
         "y": [
          1.302199182452785
         ]
        },
        {
         "marker": {
          "color": "rgba(0, 0, 110, .8)",
          "size": 7
         },
         "mode": "markers",
         "text": "Mojave, così Apple rinnova MacOS e il desktop diventa intelligente - Repubblica.it",
         "type": "scatter",
         "uid": "69ee5b01-c566-11e8-bbca-98541b5bf12b",
         "x": [
          -1.378000933015363
         ],
         "y": [
          -1.8167084750555047
         ]
        },
        {
         "marker": {
          "color": "rgba(0, 0, 110, .8)",
          "size": 7
         },
         "mode": "markers",
         "text": "Tesla Model 3, l’elettrica compatta guadagna 5 stelle ai crash test americani - La Stampa",
         "type": "scatter",
         "uid": "69ee5b02-c566-11e8-bbca-98541b5bf12b",
         "x": [
          2.232945191831072
         ],
         "y": [
          0.07073365343223204
         ]
        },
        {
         "marker": {
          "color": "rgba(0, 0, 110, .8)",
          "size": 7
         },
         "mode": "markers",
         "text": "Apple prevede che iPhone XR sarà il modello di maggior successo - La Stampa",
         "type": "scatter",
         "uid": "69ee5b03-c566-11e8-bbca-98541b5bf12b",
         "x": [
          5.151580379661087
         ],
         "y": [
          -1.4210641692715689
         ]
        },
        {
         "marker": {
          "color": "rgba(0, 0, 110, .8)",
          "size": 7
         },
         "mode": "markers",
         "text": "Spotify rende la vita più semplice agli artisti indipendenti - La Stampa",
         "type": "scatter",
         "uid": "69ee5b04-c566-11e8-bbca-98541b5bf12b",
         "x": [
          10.608851376071497
         ],
         "y": [
          0.9763531383282841
         ]
        },
        {
         "marker": {
          "color": "rgba(0, 0, 110, .8)",
          "size": 7
         },
         "mode": "markers",
         "text": "Marchesan, un'italiana tra gli scienziati emergenti nel mondo: \"La sfida più grande? Le differenze di genere\" - Repubblica.it",
         "type": "scatter",
         "uid": "69ee5b05-c566-11e8-bbca-98541b5bf12b",
         "x": [
          3.1836876519379933
         ],
         "y": [
          -0.16177370473998443
         ]
        },
        {
         "marker": {
          "color": "rgba(0, 0, 110, .8)",
          "size": 7
         },
         "mode": "markers",
         "text": "La navigazione in incognito è meno sicura di quanto si creda - Repubblica.it",
         "type": "scatter",
         "uid": "69ee5b06-c566-11e8-bbca-98541b5bf12b",
         "x": [
          -3.2669338323335158
         ],
         "y": [
          -1.7009762185370627
         ]
        },
        {
         "marker": {
          "color": "rgba(0, 0, 110, .8)",
          "size": 7
         },
         "mode": "markers",
         "text": "Facebook, ex moderatrice denuncia: “Filtriamo contenuti scioccanti, siamo traumatizzati\" - Repubblica.it",
         "type": "scatter",
         "uid": "69ee5b07-c566-11e8-bbca-98541b5bf12b",
         "x": [
          -3.6433668111708926
         ],
         "y": [
          -0.993992024713524
         ]
        },
        {
         "marker": {
          "color": "rgba(0, 0, 110, .8)",
          "size": 7
         },
         "mode": "markers",
         "text": "L’Italia rimane il Paese più bersagliato dal “cyberpizzo” - Il Sole 24 ORE",
         "type": "scatter",
         "uid": "69ee5b08-c566-11e8-bbca-98541b5bf12b",
         "x": [
          7.611422544691072
         ],
         "y": [
          -0.5636214948692102
         ]
        },
        {
         "marker": {
          "color": "rgba(0, 0, 110, .8)",
          "size": 7
         },
         "mode": "markers",
         "text": "L'effetto dell'ecstasy sui polpi: così la serotonina li rende più socievoli - Repubblica.it",
         "type": "scatter",
         "uid": "69ee5b09-c566-11e8-bbca-98541b5bf12b",
         "x": [
          -1.3279761074451013
         ],
         "y": [
          1.5759194357611963
         ]
        },
        {
         "marker": {
          "color": "rgba(0, 0, 110, .8)",
          "size": 7
         },
         "mode": "markers",
         "text": "Da Amazon un'invasione di gadget, in arrivo anche un forno a microonde - Repubblica.it",
         "type": "scatter",
         "uid": "69ee5b0a-c566-11e8-bbca-98541b5bf12b",
         "x": [
          -5.747255517713138
         ],
         "y": [
          0.960678557076947
         ]
        },
        {
         "marker": {
          "color": "rgba(0, 0, 110, .8)",
          "size": 7
         },
         "mode": "markers",
         "text": "Caravaggio morì a causa di uno stafilococco aureo - Repubblica.it",
         "type": "scatter",
         "uid": "69ee5b0b-c566-11e8-bbca-98541b5bf12b",
         "x": [
          1.4008695393900006
         ],
         "y": [
          -0.22667974148632208
         ]
        },
        {
         "marker": {
          "color": "rgba(0, 0, 110, .8)",
          "size": 7
         },
         "mode": "markers",
         "text": "Dall’Italia una blockchain per garantire la legalità dei cantieri: tracciati i movimenti terra - Il Sole 24 ORE",
         "type": "scatter",
         "uid": "69ee5b0c-c566-11e8-bbca-98541b5bf12b",
         "x": [
          5.584232097725475
         ],
         "y": [
          0.26369108197894364
         ]
        },
        {
         "marker": {
          "color": "rgba(0, 0, 110, .8)",
          "size": 7
         },
         "mode": "markers",
         "text": "Ufo, Alieni, Extraterrestri, Marte, Pianeta rosso, Nasa, Tetricus, Barsoom, Edgar Rice Burroughs",
         "type": "scatter",
         "uid": "69ee5b0d-c566-11e8-bbca-98541b5bf12b",
         "x": [
          0.11728438607259134
         ],
         "y": [
          1.0754279821625703
         ]
        },
        {
         "marker": {
          "color": "rgba(0, 0, 110, .8)",
          "size": 7
         },
         "mode": "markers",
         "text": "Per convincersi ad andare in palestra basta pensare alla propria famiglia - Repubblica.it",
         "type": "scatter",
         "uid": "69ee5b0e-c566-11e8-bbca-98541b5bf12b",
         "x": [
          0.4823839086950542
         ],
         "y": [
          -0.06285873068283676
         ]
        },
        {
         "marker": {
          "color": "rgba(0, 0, 110, .8)",
          "size": 7
         },
         "mode": "markers",
         "text": "Nuovi dispositivi in arrivo da Amazon, c'è anche un forno a microonde - Repubblica.it",
         "type": "scatter",
         "uid": "69ee5b0f-c566-11e8-bbca-98541b5bf12b",
         "x": [
          4.106490727864676
         ],
         "y": [
          0.01919622786561173
         ]
        },
        {
         "marker": {
          "color": "rgba(0, 0, 110, .8)",
          "size": 7
         },
         "mode": "markers",
         "text": "Apple completa l’acquisizione di Shazam - La Stampa",
         "type": "scatter",
         "uid": "69ee5b10-c566-11e8-bbca-98541b5bf12b",
         "x": [
          6.26349259647702
         ],
         "y": [
          0.15312737721101324
         ]
        },
        {
         "marker": {
          "color": "rgba(0, 0, 110, .8)",
          "size": 7
         },
         "mode": "markers",
         "text": "European biotech week, una settimana di eventi guardando al futuro - Repubblica.it",
         "type": "scatter",
         "uid": "69ee5b11-c566-11e8-bbca-98541b5bf12b",
         "x": [
          -4.697126160153764
         ],
         "y": [
          -0.7856687519255083
         ]
        },
        {
         "marker": {
          "color": "rgba(0, 0, 110, .8)",
          "size": 7
         },
         "mode": "markers",
         "text": "Un sasso lanciato nel vuoto: \"Così 47 anni fa scoprimmo le grotte di Frasassi\" - Repubblica.it",
         "type": "scatter",
         "uid": "69ee5b12-c566-11e8-bbca-98541b5bf12b",
         "x": [
          10.249317814699893
         ],
         "y": [
          0.5759238349669038
         ]
        },
        {
         "marker": {
          "color": "rgba(0, 0, 110, .8)",
          "size": 7
         },
         "mode": "markers",
         "text": "Quando i soldi fanno la felicità. Basta non esagerare - Repubblica.it",
         "type": "scatter",
         "uid": "69ee5b13-c566-11e8-bbca-98541b5bf12b",
         "x": [
          -2.3805496980113805
         ],
         "y": [
          0.4957293857498457
         ]
        },
        {
         "marker": {
          "color": "rgba(0, 0, 110, .8)",
          "size": 7
         },
         "mode": "markers",
         "text": "La Juventus avrà la sua criptovaluta: un token digitale per i propri tifosi a inizio 2019 - Il Sole 24 ORE",
         "type": "scatter",
         "uid": "69ee5b14-c566-11e8-bbca-98541b5bf12b",
         "x": [
          1.6600017208789168
         ],
         "y": [
          0.8175015001955523
         ]
        },
        {
         "marker": {
          "color": "rgba(0, 0, 110, .8)",
          "size": 7
         },
         "mode": "markers",
         "text": "Mirror lo specchio intelligente per il fitness - La Stampa",
         "type": "scatter",
         "uid": "69ee5b15-c566-11e8-bbca-98541b5bf12b",
         "x": [
          5.1457007310703915
         ],
         "y": [
          -0.533986834916933
         ]
        },
        {
         "marker": {
          "color": "rgba(0, 0, 110, .8)",
          "size": 7
         },
         "mode": "markers",
         "text": "Nostalgia canaglia: anche Sony lancia la mini-console - Il Sole 24 ORE",
         "type": "scatter",
         "uid": "69ee5b16-c566-11e8-bbca-98541b5bf12b",
         "x": [
          0.12805163476645479
         ],
         "y": [
          0.09014005093794301
         ]
        },
        {
         "marker": {
          "color": "rgba(0, 0, 110, .8)",
          "size": 7
         },
         "mode": "markers",
         "text": "Facebook, i cofondatori di Instagram lasciano la società - Repubblica.it",
         "type": "scatter",
         "uid": "69ee5b17-c566-11e8-bbca-98541b5bf12b",
         "x": [
          3.61549917035225
         ],
         "y": [
          0.2461002734493298
         ]
        },
        {
         "marker": {
          "color": "rgba(0, 0, 110, .8)",
          "size": 7
         },
         "mode": "markers",
         "text": "Ufo, Alieni, Extraterrestri, Marte, Nasa, Tetricus, Sharp City",
         "type": "scatter",
         "uid": "69ee5b18-c566-11e8-bbca-98541b5bf12b",
         "x": [
          16.002715544672764
         ],
         "y": [
          0.10955350881780244
         ]
        },
        {
         "marker": {
          "color": "rgba(0, 0, 110, .8)",
          "size": 7
         },
         "mode": "markers",
         "text": "Ufo, Alieni, extraterrestri, Marte, Nasa, Barsoom, Tetricus, Cisu, Alessandria, Tetricus",
         "type": "scatter",
         "uid": "69ee5b19-c566-11e8-bbca-98541b5bf12b",
         "x": [
          6.576540458211961
         ],
         "y": [
          -0.1355750748549931
         ]
        },
        {
         "marker": {
          "color": "rgba(0, 0, 110, .8)",
          "size": 7
         },
         "mode": "markers",
         "text": "7ecno, le notizie hi tech dal 17 al 23 settembre 7ecno, le notizie hi tech dal 17 al 23 settembre - La Stampa",
         "type": "scatter",
         "uid": "69ee5b1a-c566-11e8-bbca-98541b5bf12b",
         "x": [
          8.272426927583943
         ],
         "y": [
          -0.3883024891475731
         ]
        },
        {
         "marker": {
          "color": "rgba(0, 0, 110, .8)",
          "size": 7
         },
         "mode": "markers",
         "text": "Facebook, terremoto in Instagram: lasciano i due co-fondatori della app dopo scontro con Zuckerberg - Il Sole 24 ORE",
         "type": "scatter",
         "uid": "69ee5b1b-c566-11e8-bbca-98541b5bf12b",
         "x": [
          -1.2614369563824275
         ],
         "y": [
          -0.4591300636945149
         ]
        },
        {
         "marker": {
          "color": "rgba(0, 0, 110, .8)",
          "size": 7
         },
         "mode": "markers",
         "text": "Samsung lancia il suo primo smartphone con tre fotocamere - La Stampa",
         "type": "scatter",
         "uid": "69ee5b1c-c566-11e8-bbca-98541b5bf12b",
         "x": [
          -1.477518011749558
         ],
         "y": [
          0.15323757958187298
         ]
        },
        {
         "marker": {
          "color": "rgba(0, 0, 110, .8)",
          "size": 7
         },
         "mode": "markers",
         "text": "Ufo, Alieni, Extraterrestri, Uap, Ovni, Harold \"Hal\" Puthoff, Society for Scientific E.comxploration, Dossier Cometa, Rapporto Sturrock, Advanced Aerospace Threat Identification Program, New York Times, Paolo Guizzardi, Cun",
         "type": "scatter",
         "uid": "69ee5b1d-c566-11e8-bbca-98541b5bf12b",
         "x": [
          -1.8001009381793518
         ],
         "y": [
          -1.1217705842334214
         ]
        },
        {
         "marker": {
          "color": "rgba(0, 0, 110, .8)",
          "size": 7
         },
         "mode": "markers",
         "text": "Crash test: 5 stelle per Audi A6 e Volkswagen Touareg, rimandata la Suzuki Jimny - La Stampa",
         "type": "scatter",
         "uid": "69ee5b1e-c566-11e8-bbca-98541b5bf12b",
         "x": [
          6.4926099460757385
         ],
         "y": [
          0.5561497004539607
         ]
        },
        {
         "marker": {
          "color": "rgba(0, 0, 110, .8)",
          "size": 7
         },
         "mode": "markers",
         "text": "Ufo, Alieni, Extraterrestri, Osservatorio solare nazionale di Sunspot, Blackhawk, Sacramento Peak, Roswell, Albuquerque, dischi volanti, James McAteer",
         "type": "scatter",
         "uid": "69ee5b1f-c566-11e8-bbca-98541b5bf12b",
         "x": [
          -4.231071068090365
         ],
         "y": [
          0.6391580529997326
         ]
        },
        {
         "marker": {
          "color": "rgba(0, 0, 110, .8)",
          "size": 7
         },
         "mode": "markers",
         "text": "Le firme di Repubblica in podcast su Audible. Nasce \"dentro la notizia\" - Repubblica.it",
         "type": "scatter",
         "uid": "69ee5b20-c566-11e8-bbca-98541b5bf12b",
         "x": [
          1.0658591404679003
         ],
         "y": [
          -0.8575589987492563
         ]
        },
        {
         "marker": {
          "color": "rgba(0, 0, 110, .8)",
          "size": 7
         },
         "mode": "markers",
         "text": "Criptovalute, Ripple raddoppia in una settimana: è la seconda dietro a bitcoin - Il Sole 24 ORE",
         "type": "scatter",
         "uid": "69ee5b21-c566-11e8-bbca-98541b5bf12b",
         "x": [
          1.4747835253766746
         ],
         "y": [
          0.1068858001119462
         ]
        },
        {
         "marker": {
          "color": "rgba(0, 0, 110, .8)",
          "size": 7
         },
         "mode": "markers",
         "text": "Amazon vuole aprire 3mila supermercati senza casse e cassieri - La Stampa",
         "type": "scatter",
         "uid": "69ee5b22-c566-11e8-bbca-98541b5bf12b",
         "x": [
          0.6280076608812103
         ],
         "y": [
          0.4341662833020029
         ]
        },
        {
         "marker": {
          "color": "rgba(0, 0, 110, .8)",
          "size": 7
         },
         "mode": "markers",
         "text": "Arriva l’assistente vocale di Salesforce. Anche l’impresa si guida con voce - Il Sole 24 ORE",
         "type": "scatter",
         "uid": "69ee5b23-c566-11e8-bbca-98541b5bf12b",
         "x": [
          0.37005309356637217
         ],
         "y": [
          -0.3006406736880349
         ]
        },
        {
         "marker": {
          "color": "rgba(0, 0, 110, .8)",
          "size": 7
         },
         "mode": "markers",
         "text": "Ufo, Alieni, extraterrestri, Marte, Nasa, Tetricus, Pianeta rosso",
         "type": "scatter",
         "uid": "69ee5b24-c566-11e8-bbca-98541b5bf12b",
         "x": [
          12.011352570707366
         ],
         "y": [
          0.23988227683337113
         ]
        },
        {
         "marker": {
          "color": "rgba(0, 0, 110, .8)",
          "size": 7
         },
         "mode": "markers",
         "text": "Twitter: un bug potrebbe avere esposto i messaggi privati - Repubblica.it",
         "type": "scatter",
         "uid": "69ee5b25-c566-11e8-bbca-98541b5bf12b",
         "x": [
          4.733748315018915
         ],
         "y": [
          0.5284123965114972
         ]
        },
        {
         "marker": {
          "color": "rgba(0, 0, 110, .8)",
          "size": 7
         },
         "mode": "markers",
         "text": "Ecco come riusciamo a vedere anche quando sbattiamo gli occhi - Repubblica.it",
         "type": "scatter",
         "uid": "69ee5b26-c566-11e8-bbca-98541b5bf12b",
         "x": [
          4.069840244402816
         ],
         "y": [
          -0.5343341280052177
         ]
        },
        {
         "marker": {
          "color": "rgba(0, 0, 110, .8)",
          "size": 7
         },
         "mode": "markers",
         "text": "Ufo, Alieni, extraterrestri, Cun, mappe mentali, Orson Welles, Corio, Canavese, Ami, Tornado",
         "type": "scatter",
         "uid": "69ee5b27-c566-11e8-bbca-98541b5bf12b",
         "x": [
          3.746309427612053
         ],
         "y": [
          -0.3969994487335475
         ]
        },
        {
         "marker": {
          "color": "rgba(0, 0, 110, .8)",
          "size": 7
         },
         "mode": "markers",
         "text": "Instagram sfida Amazon sullo shopping: dalle storie si potranno acquistare prodotti - Repubblica.it",
         "type": "scatter",
         "uid": "69ee5b28-c566-11e8-bbca-98541b5bf12b",
         "x": [
          1.3944153288894565
         ],
         "y": [
          -0.061176891541780014
         ]
        },
        {
         "marker": {
          "color": "rgba(0, 0, 110, .8)",
          "size": 7
         },
         "mode": "markers",
         "text": "La piattaforma Rousseau è stata bucata ancora. Sempre da rogue0 - Il Sole 24 ORE",
         "type": "scatter",
         "uid": "69ee5b29-c566-11e8-bbca-98541b5bf12b",
         "x": [
          4.937845687665585
         ],
         "y": [
          0.7084548595893652
         ]
        },
        {
         "marker": {
          "color": "rgba(0, 0, 110, .8)",
          "size": 7
         },
         "mode": "markers",
         "text": "Ufo, Alieni, Extraterrestri, Ovni, Mistero bUFO, Giochi Pechino, Dario Fo, Mistero Buffo, Il bivio, Enrico Ruggeri, Mediaset, Corriere.it, Giovanni Angeli",
         "type": "scatter",
         "uid": "69ee5b2a-c566-11e8-bbca-98541b5bf12b",
         "x": [
          1.4286947328693316
         ],
         "y": [
          -0.4317130286767691
         ]
        },
        {
         "marker": {
          "color": "rgba(0, 0, 110, .8)",
          "size": 7
         },
         "mode": "markers",
         "text": "Le console più vendute di tutti i tempi Le console più vendute di tutti i tempi - La Stampa",
         "type": "scatter",
         "uid": "69ee5b2b-c566-11e8-bbca-98541b5bf12b",
         "x": [
          12.204435385179195
         ],
         "y": [
          0.1957637208410094
         ]
        },
        {
         "marker": {
          "color": "rgba(0, 0, 110, .8)",
          "size": 7
         },
         "mode": "markers",
         "text": "Il cyber atleta Tyler “Ninja” Blevins conquista la copertina di Espn Magazine - Il Sole 24 ORE",
         "type": "scatter",
         "uid": "69ee5b2c-c566-11e8-bbca-98541b5bf12b",
         "x": [
          3.400250282048939
         ],
         "y": [
          1.393510904754811
         ]
        },
        {
         "marker": {
          "color": "rgba(0, 0, 110, .8)",
          "size": 7
         },
         "mode": "markers",
         "text": "Apple assegna un punteggio agli utenti di iTunes - La Stampa",
         "type": "scatter",
         "uid": "69ee5b2d-c566-11e8-bbca-98541b5bf12b",
         "x": [
          1.8339936991358683
         ],
         "y": [
          -1.1281092093060823
         ]
        },
        {
         "marker": {
          "color": "rgba(0, 0, 110, .8)",
          "size": 7
         },
         "mode": "markers",
         "text": "Dating, il servizio di Facebook per trovare l’anima gemella - La Stampa",
         "type": "scatter",
         "uid": "69ee5b2e-c566-11e8-bbca-98541b5bf12b",
         "x": [
          4.125908252510967
         ],
         "y": [
          0.40947877971012975
         ]
        },
        {
         "marker": {
          "color": "rgba(0, 0, 110, .8)",
          "size": 7
         },
         "mode": "markers",
         "text": "In migliaia per \"La Germania si parla\". A Berlino la sfida per una società meno divisa - Repubblica.it",
         "type": "scatter",
         "uid": "69ee5b2f-c566-11e8-bbca-98541b5bf12b",
         "x": [
          3.270253333621987
         ],
         "y": [
          -0.045242501244761126
         ]
        },
        {
         "marker": {
          "color": "rgba(0, 0, 110, .8)",
          "size": 7
         },
         "mode": "markers",
         "text": "Red Dead Redemption 2. La nostra prova del nuovo gioco di Rockstar Games - Repubblica.it",
         "type": "scatter",
         "uid": "69ee5b30-c566-11e8-bbca-98541b5bf12b",
         "x": [
          3.050930358087731
         ],
         "y": [
          -0.8007761238443176
         ]
        },
        {
         "marker": {
          "color": "rgba(0, 0, 110, .8)",
          "size": 7
         },
         "mode": "markers",
         "text": "Portogallo, riaffiora una nave di 400 anni fa. \"E' la scoperta del decennio\" - Repubblica.it",
         "type": "scatter",
         "uid": "69ee5b31-c566-11e8-bbca-98541b5bf12b",
         "x": [
          -0.7164392924346858
         ],
         "y": [
          -0.9103548015879069
         ]
        },
        {
         "marker": {
          "color": "rgba(0, 0, 110, .8)",
          "size": 7
         },
         "mode": "markers",
         "text": "La Notte dei ricercatori: una settimana di scienza con 400 eventi - Repubblica.it",
         "type": "scatter",
         "uid": "69ee5b32-c566-11e8-bbca-98541b5bf12b",
         "x": [
          -10.656295879899501
         ],
         "y": [
          4.183297080991733
         ]
        },
        {
         "marker": {
          "color": "rgba(0, 0, 110, .8)",
          "size": 7
         },
         "mode": "markers",
         "text": "E' morto il Nobel Kao, padre delle fibre ottiche - Repubblica.it",
         "type": "scatter",
         "uid": "69ee5b33-c566-11e8-bbca-98541b5bf12b",
         "x": [
          -2.7310985183218404
         ],
         "y": [
          -1.2403255990498498
         ]
        },
        {
         "marker": {
          "color": "rgba(0, 0, 110, .8)",
          "size": 7
         },
         "mode": "markers",
         "text": "Apple punta sulle aziende: accordo con Salesforce per iPhone e iPad - Il Sole 24 ORE",
         "type": "scatter",
         "uid": "69ee5b34-c566-11e8-bbca-98541b5bf12b",
         "x": [
          -4.036785947180846
         ],
         "y": [
          -2.1703331660106175
         ]
        },
        {
         "marker": {
          "color": "rgba(0, 0, 110, .8)",
          "size": 7
         },
         "mode": "markers",
         "text": "Ecco Google Dataset Search, il motore di ricerca per scienziati e giornalisti - Il Sole 24 ORE",
         "type": "scatter",
         "uid": "69ee5b35-c566-11e8-bbca-98541b5bf12b",
         "x": [
          -0.3010977835998061
         ],
         "y": [
          0.22432255398283726
         ]
        },
        {
         "marker": {
          "color": "rgba(0, 0, 110, .8)",
          "size": 7
         },
         "mode": "markers",
         "text": "Il pianeta di Star Trek. \"A 16 anni luce da noi una super Terra come Vulcano\" - Repubblica.it",
         "type": "scatter",
         "uid": "69ee5b36-c566-11e8-bbca-98541b5bf12b",
         "x": [
          -8.61433783960744
         ],
         "y": [
          1.6165147856307576
         ]
        },
        {
         "marker": {
          "color": "rgba(0, 0, 110, .8)",
          "size": 7
         },
         "mode": "markers",
         "text": "La ricerca: \"Abbiamo il perdono incorporato o non avremmo relazioni\" - Repubblica.it",
         "type": "scatter",
         "uid": "69ee5b37-c566-11e8-bbca-98541b5bf12b",
         "x": [
          -4.199975255787966
         ],
         "y": [
          0.5445040814538261
         ]
        },
        {
         "marker": {
          "color": "rgba(0, 0, 110, .8)",
          "size": 7
         },
         "mode": "markers",
         "text": "Fake news con finti articoli di Repubblica: non credeteci e denunciate - Repubblica.it",
         "type": "scatter",
         "uid": "69ee5b38-c566-11e8-bbca-98541b5bf12b",
         "x": [
          4.705595420841324
         ],
         "y": [
          -0.3410478848099616
         ]
        },
        {
         "marker": {
          "color": "rgba(0, 0, 110, .8)",
          "size": 7
         },
         "mode": "markers",
         "text": "Arriva Portal, l'assistente smart di Facebook - Repubblica.it",
         "type": "scatter",
         "uid": "69ee5b39-c566-11e8-bbca-98541b5bf12b",
         "x": [
          6.227087487187839
         ],
         "y": [
          0.07061094955276581
         ]
        },
        {
         "marker": {
          "color": "rgba(0, 0, 110, .8)",
          "size": 7
         },
         "mode": "markers",
         "text": "Vacchiano, su Nature l'italiano che studia il clima: \"Il mio è un premio alle foreste\" - Repubblica.it",
         "type": "scatter",
         "uid": "69ee5b3a-c566-11e8-bbca-98541b5bf12b",
         "x": [
          6.5180163955064465
         ],
         "y": [
          0.2396765284441649
         ]
        },
        {
         "marker": {
          "color": "rgba(0, 0, 110, .8)",
          "size": 7
         },
         "mode": "markers",
         "text": "Come al cinema: il Far West di Red Dead Redemption 2 - Repubblica.it",
         "type": "scatter",
         "uid": "69ee5b3b-c566-11e8-bbca-98541b5bf12b",
         "x": [
          0.6624795395871013
         ],
         "y": [
          -0.10484154081892327
         ]
        },
        {
         "marker": {
          "color": "rgba(0, 0, 110, .8)",
          "size": 7
         },
         "mode": "markers",
         "text": "Hayabusa2, la sonda che sembra un videogioco ha \"catturato\" il suo asteroide - Repubblica.it",
         "type": "scatter",
         "uid": "69ee5b3c-c566-11e8-bbca-98541b5bf12b",
         "x": [
          -9.531245278525137
         ],
         "y": [
          0.5135216194488498
         ]
        },
        {
         "marker": {
          "color": "rgba(0, 0, 110, .8)",
          "size": 7
         },
         "mode": "markers",
         "text": "Trovato il metodo per sterminare le zanzare. Ma è una buona idea? - Repubblica.it",
         "type": "scatter",
         "uid": "69ee5b3d-c566-11e8-bbca-98541b5bf12b",
         "x": [
          -9.630758302400421
         ],
         "y": [
          4.522540404748296
         ]
        },
        {
         "marker": {
          "color": "rgba(0, 0, 110, .8)",
          "size": 7
         },
         "mode": "markers",
         "text": "L'equinozio d'autunno non è il 21 settembre: quest'anno arriva il 23 - Repubblica.it",
         "type": "scatter",
         "uid": "69ee5b3e-c566-11e8-bbca-98541b5bf12b",
         "x": [
          -4.9160780996872795
         ],
         "y": [
          0.7572918404141044
         ]
        },
        {
         "marker": {
          "color": "rgba(0, 0, 110, .8)",
          "size": 7
         },
         "mode": "markers",
         "text": "iPhone Xs Max tira 3-4 volte più dell'Xs - Hi-tech - ANSA.it",
         "type": "scatter",
         "uid": "69ee5b3f-c566-11e8-bbca-98541b5bf12b",
         "x": [
          7.95176533907473
         ],
         "y": [
          -0.005385589897209944
         ]
        },
        {
         "marker": {
          "color": "rgba(0, 0, 110, .8)",
          "size": 7
         },
         "mode": "markers",
         "text": "Amazon, 8 nuovi dispositivi con Alexa nel 2018 - Hi-tech - ANSA.it",
         "type": "scatter",
         "uid": "69ee5b40-c566-11e8-bbca-98541b5bf12b",
         "x": [
          4.50493438173669
         ],
         "y": [
          -0.2711324822547778
         ]
        },
        {
         "marker": {
          "color": "rgba(0, 0, 110, .8)",
          "size": 7
         },
         "mode": "markers",
         "text": "Influenza, scoperto il tallone d'Achille del virus - Biotech - ANSA.it",
         "type": "scatter",
         "uid": "69ee5b41-c566-11e8-bbca-98541b5bf12b",
         "x": [
          -7.271857317052279
         ],
         "y": [
          1.2388094648300454
         ]
        },
        {
         "marker": {
          "color": "rgba(0, 0, 110, .8)",
          "size": 7
         },
         "mode": "markers",
         "text": "Il primo esofago costruito in laboratorio - Biotech - ANSA.it",
         "type": "scatter",
         "uid": "69ee5b42-c566-11e8-bbca-98541b5bf12b",
         "x": [
          -7.963892375169763
         ],
         "y": [
          0.6023185923267353
         ]
        },
        {
         "marker": {
          "color": "rgba(0, 0, 110, .8)",
          "size": 7
         },
         "mode": "markers",
         "text": "Futuri robot con pelle che sente il vento - Hi-tech - ANSA.it",
         "type": "scatter",
         "uid": "69ee5b43-c566-11e8-bbca-98541b5bf12b",
         "x": [
          -6.798317563389932
         ],
         "y": [
          0.4376478500085774
         ]
        },
        {
         "marker": {
          "color": "rgba(0, 0, 110, .8)",
          "size": 7
         },
         "mode": "markers",
         "text": "È possibile che un robot possa utilizzare la teoria della mente?",
         "type": "scatter",
         "uid": "69ee5b44-c566-11e8-bbca-98541b5bf12b",
         "x": [
          -9.20990260055019
         ],
         "y": [
          -3.5210234306158745
         ]
        },
        {
         "marker": {
          "color": "rgba(0, 0, 110, .8)",
          "size": 7
         },
         "mode": "markers",
         "text": "Malaria, una reazione a catena genetica annienta le zanzare - Biotech - ANSA.it",
         "type": "scatter",
         "uid": "69ee5b45-c566-11e8-bbca-98541b5bf12b",
         "x": [
          -7.816953689408805
         ],
         "y": [
          4.342361373587031
         ]
        },
        {
         "marker": {
          "color": "rgba(0, 0, 110, .8)",
          "size": 7
         },
         "mode": "markers",
         "text": "Aperta indagine penale su Tesla dopo tweet di Musk - Hi-tech - ANSA.it",
         "type": "scatter",
         "uid": "69ee5b46-c566-11e8-bbca-98541b5bf12b",
         "x": [
          8.724951656271505
         ],
         "y": [
          0.49337126266543957
         ]
        },
        {
         "marker": {
          "color": "rgba(0, 0, 110, .8)",
          "size": 7
         },
         "mode": "markers",
         "text": "Kingston, disponibili gli SSD HyperX Fury RGB: un tocco di colore alle ''solite'' unità 2,5''",
         "type": "scatter",
         "uid": "69ee5b47-c566-11e8-bbca-98541b5bf12b",
         "x": [
          9.328419104504494
         ],
         "y": [
          0.041908869725317086
         ]
        },
        {
         "marker": {
          "color": "rgba(0, 0, 110, .8)",
          "size": 7
         },
         "mode": "markers",
         "text": "Mercato mondiale Pc, nel 2019 la ripresa - Hi-tech - ANSA.it",
         "type": "scatter",
         "uid": "69ee5b48-c566-11e8-bbca-98541b5bf12b",
         "x": [
          -4.969701185759788
         ],
         "y": [
          1.2694468373786991
         ]
        },
        {
         "marker": {
          "color": "rgba(0, 0, 110, .8)",
          "size": 7
         },
         "mode": "markers",
         "text": "Microsoft,40mln per AI a scopi umanitari - Hi-tech - ANSA.it",
         "type": "scatter",
         "uid": "69ee5b49-c566-11e8-bbca-98541b5bf12b",
         "x": [
          5.849813726214653
         ],
         "y": [
          0.07341029903059987
         ]
        },
        {
         "marker": {
          "color": "rgba(0, 0, 110, .8)",
          "size": 7
         },
         "mode": "markers",
         "text": "Apple, no a violenza e sesso in show tv - Internet e Social - ANSA.it",
         "type": "scatter",
         "uid": "69ee5b4a-c566-11e8-bbca-98541b5bf12b",
         "x": [
          1.6605667533640724
         ],
         "y": [
          -0.9440640521116814
         ]
        },
        {
         "marker": {
          "color": "rgba(0, 0, 110, .8)",
          "size": 7
         },
         "mode": "markers",
         "text": "Marte, il sottosuolo può avere ospitato la vita - Spazio & Astronomia - ANSA.it",
         "type": "scatter",
         "uid": "69ee5b4b-c566-11e8-bbca-98541b5bf12b",
         "x": [
          -8.75448191801646
         ],
         "y": [
          -2.6194058624863334
         ]
        },
        {
         "marker": {
          "color": "rgba(0, 0, 110, .8)",
          "size": 7
         },
         "mode": "markers",
         "text": "In arrivo una rivoluzione nella diagnostica medica: una tecnologia sensibile alla singola molecola",
         "type": "scatter",
         "uid": "69ee5b4c-c566-11e8-bbca-98541b5bf12b",
         "x": [
          -7.649502431269786
         ],
         "y": [
          -0.9561811473371237
         ]
        },
        {
         "marker": {
          "color": "rgba(0, 0, 110, .8)",
          "size": 7
         },
         "mode": "markers",
         "text": "Immagini mozzafiato delle nubi blu che brillano ai poli - Spazio & Astronomia - ANSA.it",
         "type": "scatter",
         "uid": "69ee5b4d-c566-11e8-bbca-98541b5bf12b",
         "x": [
          -3.704965427922607
         ],
         "y": [
          0.9261256758632959
         ]
        },
        {
         "marker": {
          "color": "rgba(0, 0, 110, .8)",
          "size": 7
         },
         "mode": "markers",
         "text": "Il gene che al mattino risveglia i fiori - Biotech - ANSA.it",
         "type": "scatter",
         "uid": "69ee5b4e-c566-11e8-bbca-98541b5bf12b",
         "x": [
          -3.2949018067084874
         ],
         "y": [
          1.288990619050169
         ]
        },
        {
         "marker": {
          "color": "rgba(0, 0, 110, .8)",
          "size": 7
         },
         "mode": "markers",
         "text": "Mattarella nei laboratori dell'Enea - Ricerca & Istituzioni - ANSA.it",
         "type": "scatter",
         "uid": "69ee5b4f-c566-11e8-bbca-98541b5bf12b",
         "x": [
          4.813429494827811
         ],
         "y": [
          -0.26281026766059995
         ]
        },
        {
         "marker": {
          "color": "rgba(0, 0, 110, .8)",
          "size": 7
         },
         "mode": "markers",
         "text": "Nature, due italiani fra gli 11 ricercatori emergenti - Ricerca & Istituzioni - ANSA.it",
         "type": "scatter",
         "uid": "69ee5b50-c566-11e8-bbca-98541b5bf12b",
         "x": [
          -4.966641610815714
         ],
         "y": [
          -1.3116012302887878
         ]
        },
        {
         "marker": {
          "color": "rgba(0, 0, 110, .8)",
          "size": 7
         },
         "mode": "markers",
         "text": "Mai più batterie che prendono fuoco",
         "type": "scatter",
         "uid": "69ee5b51-c566-11e8-bbca-98541b5bf12b",
         "x": [
          -11.43724488372998
         ],
         "y": [
          -2.5931602428831804
         ]
        },
        {
         "marker": {
          "color": "rgba(0, 0, 110, .8)",
          "size": 7
         },
         "mode": "markers",
         "text": "Wef, con robot più lavoro, ma competenze da creare - Hi-tech - ANSA.it",
         "type": "scatter",
         "uid": "69ee5b52-c566-11e8-bbca-98541b5bf12b",
         "x": [
          -5.5177944299995465
         ],
         "y": [
          -0.7631484569841415
         ]
        },
        {
         "marker": {
          "color": "rgba(0, 0, 110, .8)",
          "size": 7
         },
         "mode": "markers",
         "text": "La più grande luna di Saturno sotto una tempesta di polvere - Spazio & Astronomia - ANSA.it",
         "type": "scatter",
         "uid": "69ee5b53-c566-11e8-bbca-98541b5bf12b",
         "x": [
          -8.87339332945981
         ],
         "y": [
          -0.7504235899615181
         ]
        },
        {
         "marker": {
          "color": "rgba(0, 0, 110, .8)",
          "size": 7
         },
         "mode": "markers",
         "text": "L’impronta fossile dell'animale più antico - News - ANSA.it",
         "type": "scatter",
         "uid": "69ee5b54-c566-11e8-bbca-98541b5bf12b",
         "x": [
          -11.069939675747277
         ],
         "y": [
          -3.346172736761208
         ]
        },
        {
         "marker": {
          "color": "rgba(0, 0, 110, .8)",
          "size": 7
         },
         "mode": "markers",
         "text": "Microsoft Office 2019 è ora disponibile per Windows e macOS",
         "type": "scatter",
         "uid": "69ee5b55-c566-11e8-bbca-98541b5bf12b",
         "x": [
          11.376026636058166
         ],
         "y": [
          0.3137472640435315
         ]
        },
        {
         "marker": {
          "color": "rgba(0, 0, 110, .8)",
          "size": 7
         },
         "mode": "markers",
         "text": "Snapchat, shopping online su Amazon - Software e App - ANSA.it",
         "type": "scatter",
         "uid": "69ee5b56-c566-11e8-bbca-98541b5bf12b",
         "x": [
          7.073727635210009
         ],
         "y": [
          0.2490812425228277
         ]
        },
        {
         "marker": {
          "color": "rgba(0, 0, 110, .8)",
          "size": 7
         },
         "mode": "markers",
         "text": "Facebook e Google nel mirino di Trump - Internet e Social - ANSA.it",
         "type": "scatter",
         "uid": "69ee5b57-c566-11e8-bbca-98541b5bf12b",
         "x": [
          3.0830885315866556
         ],
         "y": [
          0.047137033213925726
         ]
        },
        {
         "marker": {
          "color": "rgba(0, 0, 110, .8)",
          "size": 7
         },
         "mode": "markers",
         "text": "Hit Refresh,il Ceo Microsoft si racconta - Internet e Social - ANSA.it",
         "type": "scatter",
         "uid": "69ee5b58-c566-11e8-bbca-98541b5bf12b",
         "x": [
          -7.271586203860881
         ],
         "y": [
          -2.560167134898899
         ]
        },
        {
         "marker": {
          "color": "rgba(0, 0, 110, .8)",
          "size": 7
         },
         "mode": "markers",
         "text": "iPhone, 400 persone in coda a Singapore - Hi-tech - ANSA.it",
         "type": "scatter",
         "uid": "69ee5b59-c566-11e8-bbca-98541b5bf12b",
         "x": [
          -4.350088669881405
         ],
         "y": [
          0.5485028665256312
         ]
        },
        {
         "marker": {
          "color": "rgba(0, 0, 110, .8)",
          "size": 7
         },
         "mode": "markers",
         "text": "Kaspersky,gli Usa ci hanno preso di mira - Internet e Social - ANSA.it",
         "type": "scatter",
         "uid": "69ee5b5a-c566-11e8-bbca-98541b5bf12b",
         "x": [
          2.8709286012062365
         ],
         "y": [
          -0.9206704991115537
         ]
        },
        {
         "marker": {
          "color": "rgba(0, 0, 110, .8)",
          "size": 7
         },
         "mode": "markers",
         "text": "Tifosi svizzeri bloccano una partita di calcio per protesta contro gli eSport",
         "type": "scatter",
         "uid": "69ee5b5b-c566-11e8-bbca-98541b5bf12b",
         "x": [
          12.244744708091055
         ],
         "y": [
          -0.5941243912898059
         ]
        },
        {
         "marker": {
          "color": "rgba(0, 0, 110, .8)",
          "size": 7
         },
         "mode": "markers",
         "text": "Amazon vuole aprire 3mila alimentari - Hi-tech - ANSA.it",
         "type": "scatter",
         "uid": "69ee5b5c-c566-11e8-bbca-98541b5bf12b",
         "x": [
          -1.2943989545037013
         ],
         "y": [
          -0.46993375300599016
         ]
        },
        {
         "marker": {
          "color": "rgba(0, 0, 110, .8)",
          "size": 7
         },
         "mode": "markers",
         "text": "OnePlus: addio alla Dash Charge per via di una disputa legale sul nome",
         "type": "scatter",
         "uid": "69ee5b5d-c566-11e8-bbca-98541b5bf12b",
         "x": [
          14.685616484173934
         ],
         "y": [
          0.5893167484566656
         ]
        },
        {
         "marker": {
          "color": "rgba(0, 0, 110, .8)",
          "size": 7
         },
         "mode": "markers",
         "text": "I co-fondatori di Instagram lasciano la società - Internet e Social - ANSA.it",
         "type": "scatter",
         "uid": "69ee5b5e-c566-11e8-bbca-98541b5bf12b",
         "x": [
          10.006645098494042
         ],
         "y": [
          0.5054689383695542
         ]
        },
        {
         "marker": {
          "color": "rgba(0, 0, 110, .8)",
          "size": 7
         },
         "mode": "markers",
         "text": "L-Mount: Leica, Panasonic e Sigma all'attacco del settore mirrorless full frame e APS-C",
         "type": "scatter",
         "uid": "69ee5b5f-c566-11e8-bbca-98541b5bf12b",
         "x": [
          1.9557441343204525
         ],
         "y": [
          0.5313667226857162
         ]
        },
        {
         "marker": {
          "color": "rgba(0, 0, 110, .8)",
          "size": 7
         },
         "mode": "markers",
         "text": "RFID: dalle etichette dei supermercati a sensori per l'ambiente",
         "type": "scatter",
         "uid": "69ee5b60-c566-11e8-bbca-98541b5bf12b",
         "x": [
          -4.666873410730445
         ],
         "y": [
          -0.8366446438236325
         ]
        },
        {
         "marker": {
          "color": "rgba(0, 0, 110, .8)",
          "size": 7
         },
         "mode": "markers",
         "text": "TIM, minuti illimitati e 50GB a 9,99 Euro, ma solo per pochi giorni: ecco come fare per averla",
         "type": "scatter",
         "uid": "69ee5b61-c566-11e8-bbca-98541b5bf12b",
         "x": [
          7.791901120477249
         ],
         "y": [
          -0.5428981898385564
         ]
        },
        {
         "marker": {
          "color": "rgba(0, 0, 110, .8)",
          "size": 7
         },
         "mode": "markers",
         "text": "Facebook: la Ue attacca, migliori la trasparenza o multe in arrivo - Internet e Social - ANSA.it",
         "type": "scatter",
         "uid": "69ee5b62-c566-11e8-bbca-98541b5bf12b",
         "x": [
          4.979671784640156
         ],
         "y": [
          -0.07168865466034216
         ]
        },
        {
         "marker": {
          "color": "rgba(0, 0, 110, .8)",
          "size": 7
         },
         "mode": "markers",
         "text": "Instagram sfida Amazon sullo shopping - Internet e Social - ANSA.it",
         "type": "scatter",
         "uid": "69ee5b63-c566-11e8-bbca-98541b5bf12b",
         "x": [
          3.0644426992582168
         ],
         "y": [
          0.3181591037438304
         ]
        },
        {
         "marker": {
          "color": "rgba(0, 0, 110, .8)",
          "size": 7
         },
         "mode": "markers",
         "text": "Apple conta le telefonate contro le frodi - Hi-tech - ANSA.it",
         "type": "scatter",
         "uid": "69ee5b64-c566-11e8-bbca-98541b5bf12b",
         "x": [
          5.65923152410721
         ],
         "y": [
          -0.4436636539995772
         ]
        },
        {
         "marker": {
          "color": "rgba(0, 0, 110, .8)",
          "size": 7
         },
         "mode": "markers",
         "text": "Surface Hub 2 al debutto dal 2019, con una seconda versione nel 2020",
         "type": "scatter",
         "uid": "69ee5b65-c566-11e8-bbca-98541b5bf12b",
         "x": [
          15.164591803215986
         ],
         "y": [
          -0.20546479149318833
         ]
        },
        {
         "marker": {
          "color": "rgba(0, 0, 110, .8)",
          "size": 7
         },
         "mode": "markers",
         "text": "Spamming estorsivo, Polizia Postale lancia l'allarme - Internet e Social - ANSA.it",
         "type": "scatter",
         "uid": "69ee5b66-c566-11e8-bbca-98541b5bf12b",
         "x": [
          1.7409474327085888
         ],
         "y": [
          0.1713784706674485
         ]
        },
        {
         "marker": {
          "color": "rgba(0, 0, 110, .8)",
          "size": 7
         },
         "mode": "markers",
         "text": "Ricoh al lavoro sull'imminente GR III, compatta che sostituirà la GR II",
         "type": "scatter",
         "uid": "69ee5b67-c566-11e8-bbca-98541b5bf12b",
         "x": [
          -6.852974982998195
         ],
         "y": [
          2.2123462438380663
         ]
        },
        {
         "marker": {
          "color": "rgba(0, 0, 110, .8)",
          "size": 7
         },
         "mode": "markers",
         "text": "Amazon, lente Ue su dati sensibili - Internet e Social - ANSA.it",
         "type": "scatter",
         "uid": "69ee5b68-c566-11e8-bbca-98541b5bf12b",
         "x": [
          10.227060902070667
         ],
         "y": [
          0.704072887149819
         ]
        },
        {
         "marker": {
          "color": "rgba(0, 0, 110, .8)",
          "size": 7
         },
         "mode": "markers",
         "text": "La Terra come Venere, potrebbe avere un futuro bollente - Terra & Poli - ANSA.it",
         "type": "scatter",
         "uid": "69ee5b69-c566-11e8-bbca-98541b5bf12b",
         "x": [
          -0.40175824114677244
         ],
         "y": [
          1.4675650540507705
         ]
        },
        {
         "marker": {
          "color": "rgba(0, 0, 110, .8)",
          "size": 7
         },
         "mode": "markers",
         "text": "Bolide sul cielo della Sardegna, il terzo dell'estate - Spazio & Astronomia - ANSA.it",
         "type": "scatter",
         "uid": "69ee5b6a-c566-11e8-bbca-98541b5bf12b",
         "x": [
          -10.513899930950641
         ],
         "y": [
          3.192238895898211
         ]
        },
        {
         "marker": {
          "color": "rgba(0, 0, 110, .8)",
          "size": 7
         },
         "mode": "markers",
         "text": "È il momento giusto per comprare un telefono rugged, secondo Blackview",
         "type": "scatter",
         "uid": "69ee5b6b-c566-11e8-bbca-98541b5bf12b",
         "x": [
          3.3584577671114237
         ],
         "y": [
          1.8912499887374719
         ]
        },
        {
         "marker": {
          "color": "rgba(0, 0, 110, .8)",
          "size": 7
         },
         "mode": "markers",
         "text": "California, legge proteggerà da hacker oggetti connessi - Tlc - ANSA.it",
         "type": "scatter",
         "uid": "69ee5b6c-c566-11e8-bbca-98541b5bf12b",
         "x": [
          1.395635323831905
         ],
         "y": [
          -0.504176717827945
         ]
        },
        {
         "marker": {
          "color": "rgba(0, 0, 110, .8)",
          "size": 7
         },
         "mode": "markers",
         "text": "Come spezzare uno spaghetto in due? Lo spiega il MIT",
         "type": "scatter",
         "uid": "69ee5b6d-c566-11e8-bbca-98541b5bf12b",
         "x": [
          -8.885149581622708
         ],
         "y": [
          -0.7108608404481374
         ]
        },
        {
         "marker": {
          "color": "rgba(0, 0, 110, .8)",
          "size": 7
         },
         "mode": "markers",
         "text": "Nella Via Lattea un autoscontro stellare - News - ANSA.it",
         "type": "scatter",
         "uid": "69ee5b6e-c566-11e8-bbca-98541b5bf12b",
         "x": [
          -4.035931879819985
         ],
         "y": [
          -1.1557463793856817
         ]
        },
        {
         "marker": {
          "color": "rgba(0, 0, 110, .8)",
          "size": 7
         },
         "mode": "markers",
         "text": "I fondatori di Instagram lasciano Facebook: ecco cosa faranno in futuro",
         "type": "scatter",
         "uid": "69ee5b6f-c566-11e8-bbca-98541b5bf12b",
         "x": [
          7.248193155711175
         ],
         "y": [
          -0.5186103011265514
         ]
        },
        {
         "marker": {
          "color": "rgba(0, 0, 110, .8)",
          "size": 7
         },
         "mode": "markers",
         "text": "Amazon, a Roma porta il pecorino a casa - Internet e Social - ANSA.it",
         "type": "scatter",
         "uid": "69ee5b70-c566-11e8-bbca-98541b5bf12b",
         "x": [
          -3.9353361593735245
         ],
         "y": [
          -1.059595037206639
         ]
        },
        {
         "marker": {
          "color": "rgba(0, 0, 110, .8)",
          "size": 7
         },
         "mode": "markers",
         "text": "Nell'iPhone Day, Xiaomi lancia Mi 8 Pro - Hi-tech - ANSA.it",
         "type": "scatter",
         "uid": "69ee5b71-c566-11e8-bbca-98541b5bf12b",
         "x": [
          -1.0920940808251853
         ],
         "y": [
          -0.5342855737091441
         ]
        },
        {
         "marker": {
          "color": "rgba(0, 0, 110, .8)",
          "size": 7
         },
         "mode": "markers",
         "text": "Tutti fanno la mirrorless full frame? Fujifilm alza il medio (formato) con GFX 50R",
         "type": "scatter",
         "uid": "69ee5b72-c566-11e8-bbca-98541b5bf12b",
         "x": [
          -6.531291730222511
         ],
         "y": [
          1.0236588420532504
         ]
        },
        {
         "marker": {
          "color": "rgba(0, 0, 110, .8)",
          "size": 7
         },
         "mode": "markers",
         "text": "Apple ridà oltre 14 miliardi di euro di aiuti fiscali all'Irlanda - Tlc - ANSA.it",
         "type": "scatter",
         "uid": "69ee5b73-c566-11e8-bbca-98541b5bf12b",
         "x": [
          0.5497658238257188
         ],
         "y": [
          -1.0921195750445556
         ]
        },
        {
         "marker": {
          "color": "rgba(0, 0, 110, .8)",
          "size": 7
         },
         "mode": "markers",
         "text": "Samsung, i nuovi Galaxy J6+ e J4+ - Tlc - ANSA.it",
         "type": "scatter",
         "uid": "69ee5b74-c566-11e8-bbca-98541b5bf12b",
         "x": [
          0.9212699208697533
         ],
         "y": [
          -0.9054498743177277
         ]
        },
        {
         "marker": {
          "color": "rgba(0, 0, 110, .8)",
          "size": 7
         },
         "mode": "markers",
         "text": "Anche per Playstation Classic c'è operazione nostalgia - Hi-tech - ANSA.it",
         "type": "scatter",
         "uid": "69ee5b75-c566-11e8-bbca-98541b5bf12b",
         "x": [
          -5.100215464170227
         ],
         "y": [
          0.5523403594741936
         ]
        },
        {
         "marker": {
          "color": "rgba(0, 0, 110, .8)",
          "size": 7
         },
         "mode": "markers",
         "text": "E' Reggio Emilia la città più social d'Italia - Internet e Social - ANSA.it",
         "type": "scatter",
         "uid": "69ee5b76-c566-11e8-bbca-98541b5bf12b",
         "x": [
          -10.353689947561783
         ],
         "y": [
          -0.8654103930240922
         ]
        },
        {
         "marker": {
          "color": "rgba(0, 0, 110, .8)",
          "size": 7
         },
         "mode": "markers",
         "text": "Facebook: ex moderatrice fa causa, traumatizzata da immagini - Hi-tech - ANSA.it",
         "type": "scatter",
         "uid": "69ee5b77-c566-11e8-bbca-98541b5bf12b",
         "x": [
          0.1454730516050594
         ],
         "y": [
          -1.4843596272718513
         ]
        },
        {
         "marker": {
          "color": "rgba(0, 0, 110, .8)",
          "size": 7
         },
         "mode": "markers",
         "text": "Notti più luminose con la Luna del raccolto - Spazio & Astronomia - ANSA.it",
         "type": "scatter",
         "uid": "69ee5b78-c566-11e8-bbca-98541b5bf12b",
         "x": [
          -5.902209259269054
         ],
         "y": [
          0.7103629772625732
         ]
        },
        {
         "marker": {
          "color": "rgba(0, 0, 110, .8)",
          "size": 7
         },
         "mode": "markers",
         "text": "Questi 7 prodotti dodocool sono in sconto su Amazon per i prossimi giorni: ecco i coupon",
         "type": "scatter",
         "uid": "69ee5b79-c566-11e8-bbca-98541b5bf12b",
         "x": [
          8.710924898645855
         ],
         "y": [
          0.4499012014975124
         ]
        },
        {
         "marker": {
          "color": "rgba(0, 0, 110, .8)",
          "size": 7
         },
         "mode": "markers",
         "text": "Accordo Dis-Samsung per promuovere cultura sicurezza - Tlc - ANSA.it",
         "type": "scatter",
         "uid": "69ee5b7a-c566-11e8-bbca-98541b5bf12b",
         "x": [
          1.7118599862505335
         ],
         "y": [
          -1.0122955560515259
         ]
        },
        {
         "marker": {
          "color": "rgba(0, 0, 110, .8)",
          "size": 7
         },
         "mode": "markers",
         "text": "E' l'equinozio d'autunno - Spazio & Astronomia - ANSA.it",
         "type": "scatter",
         "uid": "69ee5b7b-c566-11e8-bbca-98541b5bf12b",
         "x": [
          -12.806991930028756
         ],
         "y": [
          2.461479886131865
         ]
        },
        {
         "marker": {
          "color": "rgba(0, 0, 110, .8)",
          "size": 7
         },
         "mode": "markers",
         "text": "SpaceX: ecco come saranno le basi umane su Marte",
         "type": "scatter",
         "uid": "69ee5b7c-c566-11e8-bbca-98541b5bf12b",
         "x": [
          7.674355304164341
         ],
         "y": [
          0.2666371448431494
         ]
        },
        {
         "marker": {
          "color": "rgba(0, 0, 110, .8)",
          "size": 7
         },
         "mode": "markers",
         "text": "Fb, 'war room' in vista voto Usa e Ue - Internet e Social - ANSA.it",
         "type": "scatter",
         "uid": "69ee5b7d-c566-11e8-bbca-98541b5bf12b",
         "x": [
          0.4163704841357068
         ],
         "y": [
          -0.8891125268262244
         ]
        },
        {
         "marker": {
          "color": "rgba(0, 0, 110, .8)",
          "size": 7
         },
         "mode": "markers",
         "text": "Wsj, Facebook ha trattato con le banche per i dati degli utenti - Internet e Social - ANSA.it",
         "type": "scatter",
         "uid": "69ee5b7e-c566-11e8-bbca-98541b5bf12b",
         "x": [
          -1.3681438008190285
         ],
         "y": [
          -1.8356077893476261
         ]
        },
        {
         "marker": {
          "color": "rgba(0, 0, 110, .8)",
          "size": 7
         },
         "mode": "markers",
         "text": "Notte Europea dei Ricercatori, 12 città in festa per la scienza - Ricerca & Istituzioni - ANSA.it",
         "type": "scatter",
         "uid": "69ee5b7f-c566-11e8-bbca-98541b5bf12b",
         "x": [
          -9.315954438788726
         ],
         "y": [
          0.11063315482460281
         ]
        },
        {
         "marker": {
          "color": "rgba(0, 0, 110, .8)",
          "size": 7
         },
         "mode": "markers",
         "text": "iPhone, a Milano tutti in fila per i nuovi modelli - Tlc - ANSA.it",
         "type": "scatter",
         "uid": "69ee5b80-c566-11e8-bbca-98541b5bf12b",
         "x": [
          7.433940326993697
         ],
         "y": [
          -0.3211200888065955
         ]
        },
        {
         "marker": {
          "color": "rgba(0, 0, 110, .8)",
          "size": 7
         },
         "mode": "markers",
         "text": "Serre marziane, all'Enea crescono le super-piante del futuro - Biotech - ANSA.it",
         "type": "scatter",
         "uid": "69ee5b81-c566-11e8-bbca-98541b5bf12b",
         "x": [
          -10.915491351162233
         ],
         "y": [
          0.6761823946199985
         ]
        },
        {
         "marker": {
          "color": "rgba(0, 0, 110, .8)",
          "size": 7
         },
         "mode": "markers",
         "text": "SpaceX: ecco come saranno le basi umane su Marte",
         "type": "scatter",
         "uid": "69ee5b82-c566-11e8-bbca-98541b5bf12b",
         "x": [
          7.476269304198803
         ],
         "y": [
          0.4035166662054139
         ]
        },
        {
         "marker": {
          "color": "rgba(0, 0, 110, .8)",
          "size": 7
         },
         "mode": "markers",
         "text": "Ecco il carattere che allunga i documenti, sogno di ogni studente - Hi-tech - ANSA.it",
         "type": "scatter",
         "uid": "69ee5b83-c566-11e8-bbca-98541b5bf12b",
         "x": [
          -0.05246002577773643
         ],
         "y": [
          -0.22760327450794038
         ]
        },
        {
         "marker": {
          "color": "rgba(0, 0, 110, .8)",
          "size": 7
         },
         "mode": "markers",
         "text": "Vota i migliori produttori nell'European Hardware Community Awards 2018",
         "type": "scatter",
         "uid": "69ee5b84-c566-11e8-bbca-98541b5bf12b",
         "x": [
          -1.9661084632727421
         ],
         "y": [
          -1.6037274556649255
         ]
        },
        {
         "marker": {
          "color": "rgba(0, 0, 110, .8)",
          "size": 7
         },
         "mode": "markers",
         "text": "Influenza, scoperto il tallone d'Achille del virus - Biotech - ANSA.it",
         "type": "scatter",
         "uid": "69ee5b85-c566-11e8-bbca-98541b5bf12b",
         "x": [
          -7.3664903577776695
         ],
         "y": [
          0.990419565513455
         ]
        },
        {
         "marker": {
          "color": "rgba(0, 0, 110, .8)",
          "size": 7
         },
         "mode": "markers",
         "text": "Il primo display elettronico su pelle per monitorare la nostra salute",
         "type": "scatter",
         "uid": "69ee5b86-c566-11e8-bbca-98541b5bf12b",
         "x": [
          -4.5917985995519315
         ],
         "y": [
          0.2258102426126776
         ]
        },
        {
         "marker": {
          "color": "rgba(0, 0, 110, .8)",
          "size": 7
         },
         "mode": "markers",
         "text": "iPhone Xs Max tira 3-4 volte più dell'Xs - Hi-tech - ANSA.it",
         "type": "scatter",
         "uid": "69ee5b87-c566-11e8-bbca-98541b5bf12b",
         "x": [
          7.128362395007729
         ],
         "y": [
          -1.2925612531331567
         ]
        },
        {
         "marker": {
          "color": "rgba(0, 0, 110, .8)",
          "size": 7
         },
         "mode": "markers",
         "text": "Marte, il sottosuolo può avere ospitato la vita - Spazio & Astronomia - ANSA.it",
         "type": "scatter",
         "uid": "69ee5b88-c566-11e8-bbca-98541b5bf12b",
         "x": [
          -9.069518353151741
         ],
         "y": [
          -1.7099305880832287
         ]
        },
        {
         "marker": {
          "color": "rgba(0, 0, 110, .8)",
          "size": 7
         },
         "mode": "markers",
         "text": "Un nuovo collega per gli esperti di riconoscimento facciale: l'intelligenza artificiale",
         "type": "scatter",
         "uid": "69ee5b89-c566-11e8-bbca-98541b5bf12b",
         "x": [
          1.1718151478824903
         ],
         "y": [
          -0.08420661288815585
         ]
        },
        {
         "marker": {
          "color": "rgba(0, 0, 110, .8)",
          "size": 7
         },
         "mode": "markers",
         "text": "Sweeper, il robot che raccoglie ortaggi e frutta - News - ANSA.it",
         "type": "scatter",
         "uid": "69ee5b8a-c566-11e8-bbca-98541b5bf12b",
         "x": [
          2.330900069487808
         ],
         "y": [
          0.9596541506025037
         ]
        },
        {
         "marker": {
          "color": "rgba(0, 0, 110, .8)",
          "size": 7
         },
         "mode": "markers",
         "text": "Amazon, 8 nuovi dispositivi con Alexa nel 2018 - Hi-tech - ANSA.it",
         "type": "scatter",
         "uid": "69ee5b8b-c566-11e8-bbca-98541b5bf12b",
         "x": [
          11.149294071654102
         ],
         "y": [
          -0.18289531939276144
         ]
        },
        {
         "marker": {
          "color": "rgba(0, 0, 110, .8)",
          "size": 7
         },
         "mode": "markers",
         "text": "OnePlus: addio alla Dash Charge per via di una disputa legale sul nome",
         "type": "scatter",
         "uid": "69ee5b8c-c566-11e8-bbca-98541b5bf12b",
         "x": [
          14.569276258677727
         ],
         "y": [
          0.32578327599462376
         ]
        },
        {
         "marker": {
          "color": "rgba(0, 0, 110, .8)",
          "size": 7
         },
         "mode": "markers",
         "text": "Hit Refresh,il Ceo Microsoft si racconta - Internet e Social - ANSA.it",
         "type": "scatter",
         "uid": "69ee5b8d-c566-11e8-bbca-98541b5bf12b",
         "x": [
          -7.984328735084063
         ],
         "y": [
          -2.283699160892988
         ]
        },
        {
         "marker": {
          "color": "rgba(0, 0, 110, .8)",
          "size": 7
         },
         "mode": "markers",
         "text": "Snapchat, shopping online su Amazon - Software e App - ANSA.it",
         "type": "scatter",
         "uid": "69ee5b8e-c566-11e8-bbca-98541b5bf12b",
         "x": [
          6.887263617629492
         ],
         "y": [
          0.1252355165555877
         ]
        },
        {
         "marker": {
          "color": "rgba(0, 0, 110, .8)",
          "size": 7
         },
         "mode": "markers",
         "text": "Trovata la lettera che costo' a Galileo l'accusa di eresia - Spazio & Astronomia - ANSA.it",
         "type": "scatter",
         "uid": "69ee5b8f-c566-11e8-bbca-98541b5bf12b",
         "x": [
          -0.30693074838112966
         ],
         "y": [
          0.7529819500797569
         ]
        },
        {
         "marker": {
          "color": "rgba(0, 0, 110, .8)",
          "size": 7
         },
         "mode": "markers",
         "text": "Aperta indagine penale su Tesla dopo tweet di Musk - Hi-tech - ANSA.it",
         "type": "scatter",
         "uid": "69ee5b90-c566-11e8-bbca-98541b5bf12b",
         "x": [
          8.336451185440431
         ],
         "y": [
          1.4600620059187865
         ]
        },
        {
         "marker": {
          "color": "rgba(0, 0, 110, .8)",
          "size": 7
         },
         "mode": "markers",
         "text": "Mai più batterie che prendono fuoco",
         "type": "scatter",
         "uid": "69ee5b91-c566-11e8-bbca-98541b5bf12b",
         "x": [
          -11.215777565794864
         ],
         "y": [
          -2.5725086033253803
         ]
        },
        {
         "marker": {
          "color": "rgba(0, 0, 110, .8)",
          "size": 7
         },
         "mode": "markers",
         "text": "Mercato mondiale Pc, nel 2019 la ripresa - Hi-tech - ANSA.it",
         "type": "scatter",
         "uid": "69ee5b92-c566-11e8-bbca-98541b5bf12b",
         "x": [
          -5.179236463965771
         ],
         "y": [
          1.817148969766645
         ]
        },
        {
         "marker": {
          "color": "rgba(0, 0, 110, .8)",
          "size": 7
         },
         "mode": "markers",
         "text": "Wef, con robot più lavoro, ma competenze da creare - Hi-tech - ANSA.it",
         "type": "scatter",
         "uid": "69ee5b93-c566-11e8-bbca-98541b5bf12b",
         "x": [
          -5.474634481179835
         ],
         "y": [
          -1.2774531820738222
         ]
        },
        {
         "marker": {
          "color": "rgba(0, 0, 110, .8)",
          "size": 7
         },
         "mode": "markers",
         "text": "Surface Hub 2 al debutto dal 2019, con una seconda versione nel 2020",
         "type": "scatter",
         "uid": "69ee5b94-c566-11e8-bbca-98541b5bf12b",
         "x": [
          -3.730727853304318
         ],
         "y": [
          0.3936496214325897
         ]
        },
        {
         "marker": {
          "color": "rgba(0, 0, 110, .8)",
          "size": 7
         },
         "mode": "markers",
         "text": "È il momento giusto per comprare un telefono rugged, secondo Blackview",
         "type": "scatter",
         "uid": "69ee5b95-c566-11e8-bbca-98541b5bf12b",
         "x": [
          3.4802183877038435
         ],
         "y": [
          1.0364715632891779
         ]
        },
        {
         "marker": {
          "color": "rgba(0, 0, 110, .8)",
          "size": 7
         },
         "mode": "markers",
         "text": "Arriva in Italia Google Pay, sfida a Apple - Tlc - ANSA.it",
         "type": "scatter",
         "uid": "69ee5b96-c566-11e8-bbca-98541b5bf12b",
         "x": [
          -2.996808488611571
         ],
         "y": [
          0.5777226671951589
         ]
        },
        {
         "marker": {
          "color": "rgba(0, 0, 110, .8)",
          "size": 7
         },
         "mode": "markers",
         "text": "Facebook: ex moderatrice fa causa, traumatizzata da immagini - Hi-tech - ANSA.it",
         "type": "scatter",
         "uid": "69ee5b97-c566-11e8-bbca-98541b5bf12b",
         "x": [
          -0.08439641586983586
         ],
         "y": [
          -0.8155502280377348
         ]
        },
        {
         "marker": {
          "color": "rgba(0, 0, 110, .8)",
          "size": 7
         },
         "mode": "markers",
         "text": "SoFi, un soft robot per studiare la vita nell’oceano",
         "type": "scatter",
         "uid": "69ee5b98-c566-11e8-bbca-98541b5bf12b",
         "x": [
          -4.9034900993455235
         ],
         "y": [
          1.1254499026489655
         ]
        },
        {
         "marker": {
          "color": "rgba(0, 0, 110, .8)",
          "size": 7
         },
         "mode": "markers",
         "text": "Instagram sfida Amazon sullo shopping - Internet e Social - ANSA.it",
         "type": "scatter",
         "uid": "69ee5b99-c566-11e8-bbca-98541b5bf12b",
         "x": [
          2.3245551729422274
         ],
         "y": [
          1.0320382928598426
         ]
        },
        {
         "marker": {
          "color": "rgba(0, 0, 110, .8)",
          "size": 7
         },
         "mode": "markers",
         "text": "Tutti fanno la mirrorless full frame? Fujifilm alza il medio (formato) con GFX 50R",
         "type": "scatter",
         "uid": "69ee5b9a-c566-11e8-bbca-98541b5bf12b",
         "x": [
          -6.4683511607093696
         ],
         "y": [
          1.709117948832361
         ]
        },
        {
         "marker": {
          "color": "rgba(0, 0, 110, .8)",
          "size": 7
         },
         "mode": "markers",
         "text": "Nell'iPhone Day, Xiaomi lancia Mi 8 Pro - Hi-tech - ANSA.it",
         "type": "scatter",
         "uid": "69ee5b9b-c566-11e8-bbca-98541b5bf12b",
         "x": [
          -0.9719897323697583
         ],
         "y": [
          -0.04606402453020112
         ]
        },
        {
         "marker": {
          "color": "rgba(0, 0, 110, .8)",
          "size": 7
         },
         "mode": "markers",
         "text": "Usa, causa contro Facebook per inserzioni discriminatorie - Internet e Social - ANSA.it",
         "type": "scatter",
         "uid": "69ee5b9c-c566-11e8-bbca-98541b5bf12b",
         "x": [
          12.294399470544969
         ],
         "y": [
          0.7568374982129108
         ]
        },
        {
         "marker": {
          "color": "rgba(0, 0, 110, .8)",
          "size": 7
         },
         "mode": "markers",
         "text": "Fb, 'war room' in vista voto Usa e Ue - Internet e Social - ANSA.it",
         "type": "scatter",
         "uid": "69ee5b9d-c566-11e8-bbca-98541b5bf12b",
         "x": [
          0.09618020947541323
         ],
         "y": [
          -0.5916112102860488
         ]
        },
        {
         "marker": {
          "color": "rgba(0, 0, 110, .8)",
          "size": 7
         },
         "mode": "markers",
         "text": "Annunciata la soluzione di un problema inseguito da 160 anni - Fisica & Matematica - ANSA.it",
         "type": "scatter",
         "uid": "69ee5b9e-c566-11e8-bbca-98541b5bf12b",
         "x": [
          7.894564041593309
         ],
         "y": [
          1.0346926474371143
         ]
        },
        {
         "marker": {
          "color": "rgba(0, 0, 110, .8)",
          "size": 7
         },
         "mode": "markers",
         "text": "Notti più luminose con la Luna del raccolto - Spazio & Astronomia - ANSA.it",
         "type": "scatter",
         "uid": "69ee5b9f-c566-11e8-bbca-98541b5bf12b",
         "x": [
          -6.091943104743433
         ],
         "y": [
          0.5769865791524843
         ]
        },
        {
         "marker": {
          "color": "rgba(0, 0, 110, .8)",
          "size": 7
         },
         "mode": "markers",
         "text": "Le auto a guida autonoma migliorano il flusso del traffico",
         "type": "scatter",
         "uid": "69ee5ba0-c566-11e8-bbca-98541b5bf12b",
         "x": [
          -1.9173061459439837
         ],
         "y": [
          -1.0502820846512033
         ]
        },
        {
         "marker": {
          "color": "rgba(0, 0, 110, .8)",
          "size": 7
         },
         "mode": "markers",
         "text": "Apple ridà oltre 14 miliardi di euro di aiuti fiscali all'Irlanda - Tlc - ANSA.it",
         "type": "scatter",
         "uid": "69ee5ba1-c566-11e8-bbca-98541b5bf12b",
         "x": [
          0.47043164623424166
         ],
         "y": [
          -1.050535520272723
         ]
        },
        {
         "marker": {
          "color": "rgba(0, 0, 110, .8)",
          "size": 7
         },
         "mode": "markers",
         "text": "Kingston, disponibili gli SSD HyperX Fury RGB: un tocco di colore alle ''solite'' unità 2,5''",
         "type": "scatter",
         "uid": "69ee5ba2-c566-11e8-bbca-98541b5bf12b",
         "x": [
          9.305755587669902
         ],
         "y": [
          -0.48202979323136974
         ]
        },
        {
         "marker": {
          "color": "rgba(0, 0, 110, .8)",
          "size": 7
         },
         "mode": "markers",
         "text": "Il primo esofago costruito in laboratorio - Biotech - ANSA.it",
         "type": "scatter",
         "uid": "69ee5ba3-c566-11e8-bbca-98541b5bf12b",
         "x": [
          -8.143657089593548
         ],
         "y": [
          0.0694168951656774
         ]
        },
        {
         "marker": {
          "color": "rgba(0, 0, 110, .8)",
          "size": 7
         },
         "mode": "markers",
         "text": "Soffici e magnetici: sono i nuovi robot ideati dal MIT",
         "type": "scatter",
         "uid": "69ee5ba4-c566-11e8-bbca-98541b5bf12b",
         "x": [
          -8.9520385351449
         ],
         "y": [
          -0.2020346530937947
         ]
        },
        {
         "marker": {
          "color": "rgba(0, 0, 110, .8)",
          "size": 7
         },
         "mode": "markers",
         "text": "Apple completa l'acquisizione di Shazam - Software e App - ANSA.it",
         "type": "scatter",
         "uid": "69ee5ba5-c566-11e8-bbca-98541b5bf12b",
         "x": [
          7.7458808984420795
         ],
         "y": [
          -0.2031113656378086
         ]
        },
        {
         "marker": {
          "color": "rgba(0, 0, 110, .8)",
          "size": 7
         },
         "mode": "markers",
         "text": "Ripristinare la sensazione di movimento nei pazienti con protesi",
         "type": "scatter",
         "uid": "69ee5ba6-c566-11e8-bbca-98541b5bf12b",
         "x": [
          -6.627400535850292
         ],
         "y": [
          0.7073795066570153
         ]
        },
        {
         "marker": {
          "color": "rgba(0, 0, 110, .8)",
          "size": 7
         },
         "mode": "markers",
         "text": "La Terra come Venere, potrebbe avere un futuro bollente - Terra & Poli - ANSA.it",
         "type": "scatter",
         "uid": "69ee5ba7-c566-11e8-bbca-98541b5bf12b",
         "x": [
          -0.7114386433990785
         ],
         "y": [
          1.7613527139792944
         ]
        },
        {
         "marker": {
          "color": "rgba(0, 0, 110, .8)",
          "size": 7
         },
         "mode": "markers",
         "text": "Malaria, una reazione a catena genetica annienta le zanzare - Biotech - ANSA.it",
         "type": "scatter",
         "uid": "69ee5ba8-c566-11e8-bbca-98541b5bf12b",
         "x": [
          -8.080770883391365
         ],
         "y": [
          3.8832721236422745
         ]
        },
        {
         "marker": {
          "color": "rgba(0, 0, 110, .8)",
          "size": 7
         },
         "mode": "markers",
         "text": "E' Reggio Emilia la città più social d'Italia - Internet e Social - ANSA.it",
         "type": "scatter",
         "uid": "69ee5ba9-c566-11e8-bbca-98541b5bf12b",
         "x": [
          -10.791328215748544
         ],
         "y": [
          -1.8112602818225467
         ]
        },
        {
         "marker": {
          "color": "rgba(0, 0, 110, .8)",
          "size": 7
         },
         "mode": "markers",
         "text": "Nature, due italiani fra gli 11 ricercatori emergenti - Ricerca & Istituzioni - ANSA.it",
         "type": "scatter",
         "uid": "69ee5baa-c566-11e8-bbca-98541b5bf12b",
         "x": [
          -5.259235954188125
         ],
         "y": [
          -1.2580620228470198
         ]
        },
        {
         "marker": {
          "color": "rgba(0, 0, 110, .8)",
          "size": 7
         },
         "mode": "markers",
         "text": "Il gene che al mattino risveglia i fiori - Biotech - ANSA.it",
         "type": "scatter",
         "uid": "69ee5bab-c566-11e8-bbca-98541b5bf12b",
         "x": [
          -3.5853258042337117
         ],
         "y": [
          1.7851721091457609
         ]
        },
        {
         "marker": {
          "color": "rgba(0, 0, 110, .8)",
          "size": 7
         },
         "mode": "markers",
         "text": "Un robot per l’autismo: le terapie incontrano l'intelligenza artificiale",
         "type": "scatter",
         "uid": "69ee5bac-c566-11e8-bbca-98541b5bf12b",
         "x": [
          -8.205830251459737
         ],
         "y": [
          -0.10536728879214736
         ]
        },
        {
         "marker": {
          "color": "rgba(0, 0, 110, .8)",
          "size": 7
         },
         "mode": "markers",
         "text": "L’impronta fossile dell'animale più antico - News - ANSA.it",
         "type": "scatter",
         "uid": "69ee5bad-c566-11e8-bbca-98541b5bf12b",
         "x": [
          -11.248720928880473
         ],
         "y": [
          -2.7032997401687515
         ]
        },
        {
         "marker": {
          "color": "rgba(0, 0, 110, .8)",
          "size": 7
         },
         "mode": "markers",
         "text": "Come addomesticare un ragno per capire i segreti dei suoi salti",
         "type": "scatter",
         "uid": "69ee5bae-c566-11e8-bbca-98541b5bf12b",
         "x": [
          -4.789566785346872
         ],
         "y": [
          1.618433587771717
         ]
        },
        {
         "marker": {
          "color": "rgba(0, 0, 110, .8)",
          "size": 7
         },
         "mode": "markers",
         "text": "È possibile che un robot possa utilizzare la teoria della mente?",
         "type": "scatter",
         "uid": "69ee5baf-c566-11e8-bbca-98541b5bf12b",
         "x": [
          -9.471968744010761
         ],
         "y": [
          -2.662928333168363
         ]
        },
        {
         "marker": {
          "color": "rgba(0, 0, 110, .8)",
          "size": 7
         },
         "mode": "markers",
         "text": "Meglio di un ologramma: quando una particella intrappolata dà vita a un’immagine 3D",
         "type": "scatter",
         "uid": "69ee5bb0-c566-11e8-bbca-98541b5bf12b",
         "x": [
          -4.549084587200083
         ],
         "y": [
          -0.5909649013669764
         ]
        },
        {
         "marker": {
          "color": "rgba(0, 0, 110, .8)",
          "size": 7
         },
         "mode": "markers",
         "text": "Mattarella nei laboratori dell'Enea - Ricerca & Istituzioni - ANSA.it",
         "type": "scatter",
         "uid": "69ee5bb1-c566-11e8-bbca-98541b5bf12b",
         "x": [
          4.163741859701425
         ],
         "y": [
          0.6216798637052204
         ]
        },
        {
         "marker": {
          "color": "rgba(0, 0, 110, .8)",
          "size": 7
         },
         "mode": "markers",
         "text": "Conto corrente N26: il miglior modo per pagare è dallo smartphone",
         "type": "scatter",
         "uid": "69ee5bb2-c566-11e8-bbca-98541b5bf12b",
         "x": [
          3.2611580452539695
         ],
         "y": [
          0.24898133342815237
         ]
        },
        {
         "marker": {
          "color": "rgba(0, 0, 110, .8)",
          "size": 7
         },
         "mode": "markers",
         "text": "Primi scatti dall'asteroide Ryugu - Spazio & Astronomia - ANSA.it",
         "type": "scatter",
         "uid": "69ee5bb3-c566-11e8-bbca-98541b5bf12b",
         "x": [
          -4.333512827092187
         ],
         "y": [
          0.9795737003639807
         ]
        },
        {
         "marker": {
          "color": "rgba(0, 0, 110, .8)",
          "size": 7
         },
         "mode": "markers",
         "text": "Microsoft,40mln per AI a scopi umanitari - Hi-tech - ANSA.it",
         "type": "scatter",
         "uid": "69ee5bb4-c566-11e8-bbca-98541b5bf12b",
         "x": [
          5.4783447882084415
         ],
         "y": [
          -0.27676799124690055
         ]
        },
        {
         "marker": {
          "color": "rgba(0, 0, 110, .8)",
          "size": 7
         },
         "mode": "markers",
         "text": "Skiller Mech SGK3 è una tastiera meccanica che dà controllo totale ai giocatori",
         "type": "scatter",
         "uid": "69ee5bb5-c566-11e8-bbca-98541b5bf12b",
         "x": [
          8.218335574779653
         ],
         "y": [
          0.5271262964888693
         ]
        },
        {
         "marker": {
          "color": "rgba(0, 0, 110, .8)",
          "size": 7
         },
         "mode": "markers",
         "text": "Amazon vuole aprire 3mila alimentari - Hi-tech - ANSA.it",
         "type": "scatter",
         "uid": "69ee5bb6-c566-11e8-bbca-98541b5bf12b",
         "x": [
          -1.6833988096667707
         ],
         "y": [
          -0.38828412014130803
         ]
        },
        {
         "marker": {
          "color": "rgba(0, 0, 110, .8)",
          "size": 7
         },
         "mode": "markers",
         "text": "Un nuovo metodo per identificare la chiralità di una molecola",
         "type": "scatter",
         "uid": "69ee5bb7-c566-11e8-bbca-98541b5bf12b",
         "x": [
          -4.316644147929695
         ],
         "y": [
          0.7625590652694846
         ]
        },
        {
         "marker": {
          "color": "rgba(0, 0, 110, .8)",
          "size": 7
         },
         "mode": "markers",
         "text": "Kaspersky,gli Usa ci hanno preso di mira - Internet e Social - ANSA.it",
         "type": "scatter",
         "uid": "69ee5bb8-c566-11e8-bbca-98541b5bf12b",
         "x": [
          2.7035752862826614
         ],
         "y": [
          0.09778863565093117
         ]
        },
        {
         "marker": {
          "color": "rgba(0, 0, 110, .8)",
          "size": 7
         },
         "mode": "markers",
         "text": "L-Mount: Leica, Panasonic e Sigma all'attacco del settore mirrorless full frame e APS-C",
         "type": "scatter",
         "uid": "69ee5bb9-c566-11e8-bbca-98541b5bf12b",
         "x": [
          1.3944418986746692
         ],
         "y": [
          1.8803696300542259
         ]
        },
        {
         "marker": {
          "color": "rgba(0, 0, 110, .8)",
          "size": 7
         },
         "mode": "markers",
         "text": "Spamming estorsivo, Polizia Postale lancia l'allarme - Internet e Social - ANSA.it",
         "type": "scatter",
         "uid": "69ee5bba-c566-11e8-bbca-98541b5bf12b",
         "x": [
          1.477942771762543
         ],
         "y": [
          0.17714600029592956
         ]
        },
        {
         "marker": {
          "color": "rgba(0, 0, 110, .8)",
          "size": 7
         },
         "mode": "markers",
         "text": "iPhone, 400 persone in coda a Singapore - Hi-tech - ANSA.it",
         "type": "scatter",
         "uid": "69ee5bbb-c566-11e8-bbca-98541b5bf12b",
         "x": [
          -4.831063590212777
         ],
         "y": [
          -0.09189741727913006
         ]
        },
        {
         "marker": {
          "color": "rgba(0, 0, 110, .8)",
          "size": 7
         },
         "mode": "markers",
         "text": "Facebook: la Ue attacca, migliori la trasparenza o multe in arrivo - Internet e Social - ANSA.it",
         "type": "scatter",
         "uid": "69ee5bbc-c566-11e8-bbca-98541b5bf12b",
         "x": [
          5.148650617156279
         ],
         "y": [
          0.3277356689159838
         ]
        },
        {
         "marker": {
          "color": "rgba(0, 0, 110, .8)",
          "size": 7
         },
         "mode": "markers",
         "text": "Soft robot: la rivoluzione morbida",
         "type": "scatter",
         "uid": "69ee5bbd-c566-11e8-bbca-98541b5bf12b",
         "x": [
          -2.634963372259876
         ],
         "y": [
          0.11264689364774866
         ]
        },
        {
         "marker": {
          "color": "rgba(0, 0, 110, .8)",
          "size": 7
         },
         "mode": "markers",
         "text": "Terremoti: dall’ENEA un nuovo metodo per individuare i beni culturali a rischio",
         "type": "scatter",
         "uid": "69ee5bbe-c566-11e8-bbca-98541b5bf12b",
         "x": [
          -6.107198953867448
         ],
         "y": [
          0.26461967412403775
         ]
        },
        {
         "marker": {
          "color": "rgba(0, 0, 110, .8)",
          "size": 7
         },
         "mode": "markers",
         "text": "Robot protagonisti tra scienza e spettacolo a Festival Pisa - Tecnologie - ANSA.it",
         "type": "scatter",
         "uid": "69ee5bbf-c566-11e8-bbca-98541b5bf12b",
         "x": [
          -2.2643999249560762
         ],
         "y": [
          1.2116317213408736
         ]
        },
        {
         "marker": {
          "color": "rgba(0, 0, 110, .8)",
          "size": 7
         },
         "mode": "markers",
         "text": "Amazon, a Roma porta il pecorino a casa - Internet e Social - ANSA.it",
         "type": "scatter",
         "uid": "69ee5bc0-c566-11e8-bbca-98541b5bf12b",
         "x": [
          -3.0207006298739736
         ],
         "y": [
          -1.1030423849952833
         ]
        },
        {
         "marker": {
          "color": "rgba(0, 0, 110, .8)",
          "size": 7
         },
         "mode": "markers",
         "text": "Tifosi svizzeri bloccano una partita di calcio per protesta contro gli eSport",
         "type": "scatter",
         "uid": "69ee5bc1-c566-11e8-bbca-98541b5bf12b",
         "x": [
          11.85247628172214
         ],
         "y": [
          0.05224389748058698
         ]
        },
        {
         "marker": {
          "color": "rgba(0, 0, 110, .8)",
          "size": 7
         },
         "mode": "markers",
         "text": "Nella Via Lattea un autoscontro stellare - News - ANSA.it",
         "type": "scatter",
         "uid": "69ee5bc2-c566-11e8-bbca-98541b5bf12b",
         "x": [
          -4.100128731335296
         ],
         "y": [
          -1.2831918052304772
         ]
        },
        {
         "marker": {
          "color": "rgba(0, 0, 110, .8)",
          "size": 7
         },
         "mode": "markers",
         "text": "Cellule della pelle sono state trasformate in neuroni - Biotech - ANSA.it",
         "type": "scatter",
         "uid": "69ee5bc3-c566-11e8-bbca-98541b5bf12b",
         "x": [
          -2.6271774746180685
         ],
         "y": [
          0.5626811476422793
         ]
        },
        {
         "marker": {
          "color": "rgba(0, 0, 110, .8)",
          "size": 7
         },
         "mode": "markers",
         "text": "Tingersi i capelli con il grafene",
         "type": "scatter",
         "uid": "69ee5bc4-c566-11e8-bbca-98541b5bf12b",
         "x": [
          -4.264373880263953
         ],
         "y": [
          -2.1134776794218926
         ]
        },
        {
         "marker": {
          "color": "rgba(0, 0, 110, .8)",
          "size": 7
         },
         "mode": "markers",
         "text": "Da una miniera del Sulcis la spia della materia oscura - Fisica & Matematica - ANSA.it",
         "type": "scatter",
         "uid": "69ee5bc5-c566-11e8-bbca-98541b5bf12b",
         "x": [
          -1.915415137887552
         ],
         "y": [
          0.683038237588657
         ]
        },
        {
         "marker": {
          "color": "rgba(0, 0, 110, .8)",
          "size": 7
         },
         "mode": "markers",
         "text": "I co-fondatori di Instagram lasciano la società - Internet e Social - ANSA.it",
         "type": "scatter",
         "uid": "69ee5bc6-c566-11e8-bbca-98541b5bf12b",
         "x": [
          9.389189539694817
         ],
         "y": [
          -0.15291589244435796
         ]
        },
        {
         "marker": {
          "color": "rgba(0, 0, 110, .8)",
          "size": 7
         },
         "mode": "markers",
         "text": "Anche per Playstation Classic c'è operazione nostalgia - Hi-tech - ANSA.it",
         "type": "scatter",
         "uid": "69ee5bc7-c566-11e8-bbca-98541b5bf12b",
         "x": [
          -4.962487411482797
         ],
         "y": [
          -0.08438703213499561
         ]
        },
        {
         "marker": {
          "color": "rgba(0, 0, 110, .8)",
          "size": 7
         },
         "mode": "markers",
         "text": "Ricoh al lavoro sull'imminente GR III, compatta che sostituirà la GR II",
         "type": "scatter",
         "uid": "69ee5bc8-c566-11e8-bbca-98541b5bf12b",
         "x": [
          -6.819919268610215
         ],
         "y": [
          1.8725998849737493
         ]
        },
        {
         "marker": {
          "color": "rgba(0, 0, 110, .8)",
          "size": 7
         },
         "mode": "markers",
         "text": "I fondatori di Instagram lasciano Facebook: ecco cosa faranno in futuro",
         "type": "scatter",
         "uid": "69ee5bc9-c566-11e8-bbca-98541b5bf12b",
         "x": [
          7.791263384791631
         ],
         "y": [
          0.2859926732893824
         ]
        },
        {
         "marker": {
          "color": "rgba(0, 0, 110, .8)",
          "size": 7
         },
         "mode": "markers",
         "text": "Come spezzare uno spaghetto in due? Lo spiega il MIT",
         "type": "scatter",
         "uid": "69ee5bca-c566-11e8-bbca-98541b5bf12b",
         "x": [
          -9.045831095573677
         ],
         "y": [
          -1.5384990169635189
         ]
        },
        {
         "marker": {
          "color": "rgba(0, 0, 110, .8)",
          "size": 7
         },
         "mode": "markers",
         "text": "AirPower si surriscalda, slitta il lancio - Hi-tech - ANSA.it",
         "type": "scatter",
         "uid": "69ee5bcb-c566-11e8-bbca-98541b5bf12b",
         "x": [
          1.5361714482405207
         ],
         "y": [
          -0.5244551895342577
         ]
        },
        {
         "marker": {
          "color": "rgba(0, 0, 110, .8)",
          "size": 7
         },
         "mode": "markers",
         "text": "TIM, minuti illimitati e 50GB a 9,99 Euro, ma solo per pochi giorni: ecco come fare per averla",
         "type": "scatter",
         "uid": "69ee5bcc-c566-11e8-bbca-98541b5bf12b",
         "x": [
          7.591222344700567
         ],
         "y": [
          -1.083252629539505
         ]
        },
        {
         "marker": {
          "color": "rgba(0, 0, 110, .8)",
          "size": 7
         },
         "mode": "markers",
         "text": "Accordo Dis-Samsung per promuovere cultura sicurezza - Tlc - ANSA.it",
         "type": "scatter",
         "uid": "69ee5bcd-c566-11e8-bbca-98541b5bf12b",
         "x": [
          1.7003336971461935
         ],
         "y": [
          -1.8265106762301802
         ]
        },
        {
         "marker": {
          "color": "rgba(0, 0, 110, .8)",
          "size": 7
         },
         "mode": "markers",
         "text": "Amazon, lente Ue su dati sensibili - Internet e Social - ANSA.it",
         "type": "scatter",
         "uid": "69ee5bce-c566-11e8-bbca-98541b5bf12b",
         "x": [
          10.97663113376469
         ],
         "y": [
          0.9692109153070021
         ]
        },
        {
         "marker": {
          "color": "rgba(0, 0, 110, .8)",
          "size": 7
         },
         "mode": "markers",
         "text": "Ecco il carattere che allunga i documenti, sogno di ogni studente - Hi-tech - ANSA.it",
         "type": "scatter",
         "uid": "69ee5bcf-c566-11e8-bbca-98541b5bf12b",
         "x": [
          0.03853076545305169
         ],
         "y": [
          -1.36130644189234
         ]
        },
        {
         "marker": {
          "color": "rgba(0, 0, 110, .8)",
          "size": 7
         },
         "mode": "markers",
         "text": "Google Home Mini lo speaker più venduto - Hi-tech - ANSA.it",
         "type": "scatter",
         "uid": "69ee5bd0-c566-11e8-bbca-98541b5bf12b",
         "x": [
          4.790918150808538
         ],
         "y": [
          -0.7728446731619146
         ]
        },
        {
         "marker": {
          "color": "rgba(0, 0, 110, .8)",
          "size": 7
         },
         "mode": "markers",
         "text": "E' l'equinozio d'autunno - Spazio & Astronomia - ANSA.it",
         "type": "scatter",
         "uid": "69ee5bd1-c566-11e8-bbca-98541b5bf12b",
         "x": [
          -12.910290442695219
         ],
         "y": [
          1.4650013472305545
         ]
        },
        {
         "marker": {
          "color": "rgba(0, 0, 110, .8)",
          "size": 7
         },
         "mode": "markers",
         "text": "Fb:ex moderatrice fa causa,traumatizzata - Internet e Social - ANSA.it",
         "type": "scatter",
         "uid": "69ee5bd2-c566-11e8-bbca-98541b5bf12b",
         "x": [
          0.29126301990615533
         ],
         "y": [
          -1.0988460832604223
         ]
        },
        {
         "marker": {
          "color": "rgba(0, 0, 110, .8)",
          "size": 7
         },
         "mode": "markers",
         "text": "Serre marziane, all'Enea crescono le super-piante del futuro - Biotech - ANSA.it",
         "type": "scatter",
         "uid": "69ee5bd3-c566-11e8-bbca-98541b5bf12b",
         "x": [
          -10.550876655792228
         ],
         "y": [
          0.4583955635789263
         ]
        },
        {
         "marker": {
          "color": "rgba(0, 0, 110, .8)",
          "size": 7
         },
         "mode": "markers",
         "text": "Bolide sul cielo della Sardegna, il terzo dell'estate - Spazio & Astronomia - ANSA.it",
         "type": "scatter",
         "uid": "69ee5bd4-c566-11e8-bbca-98541b5bf12b",
         "x": [
          -10.88318624270139
         ],
         "y": [
          3.418122213905494
         ]
        },
        {
         "marker": {
          "color": "rgba(0, 0, 110, .8)",
          "size": 7
         },
         "mode": "markers",
         "text": "Notte Europea dei Ricercatori, 12 città in festa per la scienza - Ricerca & Istituzioni - ANSA.it",
         "type": "scatter",
         "uid": "69ee5bd5-c566-11e8-bbca-98541b5bf12b",
         "x": [
          -9.843697204327535
         ],
         "y": [
          1.0596854258573474
         ]
        },
        {
         "marker": {
          "color": "rgba(0, 0, 110, .8)",
          "size": 7
         },
         "mode": "markers",
         "text": "SpaceX: ecco come saranno le basi umane su Marte",
         "type": "scatter",
         "uid": "69ee5bd6-c566-11e8-bbca-98541b5bf12b",
         "x": [
          7.021882009125224
         ],
         "y": [
          0.6590259988388543
         ]
        },
        {
         "marker": {
          "color": "rgba(0, 0, 110, .8)",
          "size": 7
         },
         "mode": "markers",
         "text": "Questi 7 prodotti dodocool sono in sconto su Amazon per i prossimi giorni: ecco i coupon",
         "type": "scatter",
         "uid": "69ee5bd7-c566-11e8-bbca-98541b5bf12b",
         "x": [
          8.488640104963013
         ],
         "y": [
          0.07632818512800056
         ]
        },
        {
         "marker": {
          "color": "rgba(0, 0, 110, .8)",
          "size": 7
         },
         "mode": "markers",
         "text": "Mirrorless, full frame, 47Mpixel e 24Mpixel: in arrivo le Panasonic Lumix S1R e S1 con attacco L-Mount",
         "type": "scatter",
         "uid": "69ee5bd8-c566-11e8-bbca-98541b5bf12b",
         "x": [
          1.5929933131924112
         ],
         "y": [
          0.37947591747804205
         ]
        },
        {
         "marker": {
          "color": "rgba(0, 0, 110, .8)",
          "size": 7
         },
         "mode": "markers",
         "text": "Come usare i kirigami per far muovere un soft robot",
         "type": "scatter",
         "uid": "69ee5bd9-c566-11e8-bbca-98541b5bf12b",
         "x": [
          -7.267317246714194
         ],
         "y": [
          1.4483213624099929
         ]
        }
       ],
       "layout": {
        "hovermode": "closest",
        "showlegend": false,
        "title": "PCA Representantion of DocVectors",
        "xaxis": {
         "gridwidth": 2,
         "ticklen": 5,
         "title": "first component"
        },
        "yaxis": {
         "gridwidth": 2,
         "ticklen": 5,
         "title": "second component"
        }
       }
      }
     },
     "metadata": {},
     "output_type": "display_data"
    },
    {
     "data": {
      "application/vnd.plotly.v1+json": {
       "data": [
        {
         "marker": {
          "color": "rgba(0, 0, 110, .8)",
          "size": 7
         },
         "mode": "markers",
         "text": "Lg G7 ThinQ, super schermo e audio al top: lo smartphone che ha ben poco da invidiare - Repubblica.it",
         "type": "scatter",
         "uid": "6b713db6-c566-11e8-bbca-98541b5bf12b",
         "x": [
          -3.1860316833435416
         ],
         "y": [
          -0.9483586234105755
         ]
        },
        {
         "marker": {
          "color": "rgba(0, 0, 110, .8)",
          "size": 7
         },
         "mode": "markers",
         "text": "Con iOS 12 iPhone e iPad si possono programmare - La Stampa",
         "type": "scatter",
         "uid": "6b713db7-c566-11e8-bbca-98541b5bf12b",
         "x": [
          -2.8837156382211786
         ],
         "y": [
          0.02157644268632417
         ]
        },
        {
         "marker": {
          "color": "rgba(0, 0, 110, .8)",
          "size": 7
         },
         "mode": "markers",
         "text": "Tempesta su Titano: le immagini di Cassini - Repubblica.it",
         "type": "scatter",
         "uid": "6b713db8-c566-11e8-bbca-98541b5bf12b",
         "x": [
          -2.868661051132225
         ],
         "y": [
          -0.7083514220168301
         ]
        },
        {
         "marker": {
          "color": "rgba(0, 0, 110, .8)",
          "size": 7
         },
         "mode": "markers",
         "text": "I capelli hanno fiuto, molecole odorose li aiutano a crescere - Repubblica.it",
         "type": "scatter",
         "uid": "6b713db9-c566-11e8-bbca-98541b5bf12b",
         "x": [
          -0.4646058924106627
         ],
         "y": [
          0.16845508285589805
         ]
        },
        {
         "marker": {
          "color": "rgba(0, 0, 110, .8)",
          "size": 7
         },
         "mode": "markers",
         "text": "Passione Instagram, macchina fotografica o cellulare per cogliere le bellezze della Sardegna - Repubblica.it",
         "type": "scatter",
         "uid": "6b713dba-c566-11e8-bbca-98541b5bf12b",
         "x": [
          -1.5768128430946804
         ],
         "y": [
          0.030159165996227498
         ]
        },
        {
         "marker": {
          "color": "rgba(0, 0, 110, .8)",
          "size": 7
         },
         "mode": "markers",
         "text": "P101 investe 1,5 milioni in Wonderflow - Il Sole 24 ORE",
         "type": "scatter",
         "uid": "6b713dbb-c566-11e8-bbca-98541b5bf12b",
         "x": [
          -0.45777912541985616
         ],
         "y": [
          -0.06406969846569993
         ]
        },
        {
         "marker": {
          "color": "rgba(0, 0, 110, .8)",
          "size": 7
         },
         "mode": "markers",
         "text": "Documenti segreti dell’Onu liberamente consultabili sul web a causa di un errore di configurazione - La Stampa",
         "type": "scatter",
         "uid": "6b713dbc-c566-11e8-bbca-98541b5bf12b",
         "x": [
          -1.9131429830884505
         ],
         "y": [
          -0.7547514015663809
         ]
        },
        {
         "marker": {
          "color": "rgba(0, 0, 110, .8)",
          "size": 7
         },
         "mode": "markers",
         "text": "Gli archeologi potrebbero aver individuato la nave del capitano Cook - Repubblica.it",
         "type": "scatter",
         "uid": "6b713dbd-c566-11e8-bbca-98541b5bf12b",
         "x": [
          2.126082634666231
         ],
         "y": [
          -0.1070708274684498
         ]
        },
        {
         "marker": {
          "color": "rgba(0, 0, 110, .8)",
          "size": 7
         },
         "mode": "markers",
         "text": "HyperloopTT: così nel futuro viaggeremo a 1000 km/h HyperloopTT: così nel futuro viaggeremo a 1000 km/h - La Stampa",
         "type": "scatter",
         "uid": "6b713dbe-c566-11e8-bbca-98541b5bf12b",
         "x": [
          9.452272047896397
         ],
         "y": [
          0.026368971836926224
         ]
        },
        {
         "marker": {
          "color": "rgba(0, 0, 110, .8)",
          "size": 7
         },
         "mode": "markers",
         "text": "Ecco cosa scatena il sonno incontrollabile nei pazienti narcolettici - Repubblica.it",
         "type": "scatter",
         "uid": "6b713dbf-c566-11e8-bbca-98541b5bf12b",
         "x": [
          4.334543551318475
         ],
         "y": [
          -0.8194380748962904
         ]
        },
        {
         "marker": {
          "color": "rgba(0, 0, 110, .8)",
          "size": 7
         },
         "mode": "markers",
         "text": "Né sesso, né violenza: Apple prepara il suo servizio streaming dedicato alle famiglie - Repubblica.it",
         "type": "scatter",
         "uid": "6b713dc0-c566-11e8-bbca-98541b5bf12b",
         "x": [
          2.500908765654426
         ],
         "y": [
          -0.22494114313879063
         ]
        },
        {
         "marker": {
          "color": "rgba(0, 0, 110, .8)",
          "size": 7
         },
         "mode": "markers",
         "text": "Alibaba punta sul settore dei chip - La Stampa",
         "type": "scatter",
         "uid": "6b713dc1-c566-11e8-bbca-98541b5bf12b",
         "x": [
          3.733446878316598
         ],
         "y": [
          0.2861952257586398
         ]
        },
        {
         "marker": {
          "color": "rgba(0, 0, 110, .8)",
          "size": 7
         },
         "mode": "markers",
         "text": "Londra, ritrovata la lettera \"eretica\" di Galileo Galilei. \"E' l'originale\" - Repubblica.it",
         "type": "scatter",
         "uid": "6b713dc2-c566-11e8-bbca-98541b5bf12b",
         "x": [
          -4.654705418620639
         ],
         "y": [
          0.23623017437506252
         ]
        },
        {
         "marker": {
          "color": "rgba(0, 0, 110, .8)",
          "size": 7
         },
         "mode": "markers",
         "text": "Le cicatrici stampate in 3D per lenire la malattia - Il Sole 24 ORE",
         "type": "scatter",
         "uid": "6b713dc3-c566-11e8-bbca-98541b5bf12b",
         "x": [
          -3.700148802710134
         ],
         "y": [
          0.12297202761001555
         ]
        },
        {
         "marker": {
          "color": "rgba(0, 0, 110, .8)",
          "size": 7
         },
         "mode": "markers",
         "text": "Mojave, così Apple rinnova MacOS e il desktop diventa intelligente - Repubblica.it",
         "type": "scatter",
         "uid": "6b713dc4-c566-11e8-bbca-98541b5bf12b",
         "x": [
          -3.414948073062298
         ],
         "y": [
          -1.534900285132987
         ]
        },
        {
         "marker": {
          "color": "rgba(0, 0, 110, .8)",
          "size": 7
         },
         "mode": "markers",
         "text": "Tesla Model 3, l’elettrica compatta guadagna 5 stelle ai crash test americani - La Stampa",
         "type": "scatter",
         "uid": "6b713dc5-c566-11e8-bbca-98541b5bf12b",
         "x": [
          2.222833990155278
         ],
         "y": [
          0.5557042975708337
         ]
        },
        {
         "marker": {
          "color": "rgba(0, 0, 110, .8)",
          "size": 7
         },
         "mode": "markers",
         "text": "Finalmente Instagram testa una funzione per condividere i post degli altri - Repubblica.it",
         "type": "scatter",
         "uid": "6b713dc6-c566-11e8-bbca-98541b5bf12b",
         "x": [
          7.367408640098309
         ],
         "y": [
          0.23796044074964598
         ]
        },
        {
         "marker": {
          "color": "rgba(0, 0, 110, .8)",
          "size": 7
         },
         "mode": "markers",
         "text": "Spotify rende la vita più semplice agli artisti indipendenti - La Stampa",
         "type": "scatter",
         "uid": "6b713dc7-c566-11e8-bbca-98541b5bf12b",
         "x": [
          7.073345344604146
         ],
         "y": [
          0.146312523466332
         ]
        },
        {
         "marker": {
          "color": "rgba(0, 0, 110, .8)",
          "size": 7
         },
         "mode": "markers",
         "text": "La realtà virtuale è già morta? No, a giudicare dai nuovi titoli del gaming - Il Sole 24 ORE",
         "type": "scatter",
         "uid": "6b713dc8-c566-11e8-bbca-98541b5bf12b",
         "x": [
          -6.90409356027684
         ],
         "y": [
          -0.3820736918550477
         ]
        },
        {
         "marker": {
          "color": "rgba(0, 0, 110, .8)",
          "size": 7
         },
         "mode": "markers",
         "text": "La navigazione in incognito è meno sicura di quanto si creda - Repubblica.it",
         "type": "scatter",
         "uid": "6b713dc9-c566-11e8-bbca-98541b5bf12b",
         "x": [
          -3.793994013738766
         ],
         "y": [
          0.2859272509447368
         ]
        },
        {
         "marker": {
          "color": "rgba(0, 0, 110, .8)",
          "size": 7
         },
         "mode": "markers",
         "text": "Facebook, ex moderatrice denuncia: “Filtriamo contenuti scioccanti, siamo traumatizzati\" - Repubblica.it",
         "type": "scatter",
         "uid": "6b713dca-c566-11e8-bbca-98541b5bf12b",
         "x": [
          -3.1433147757520583
         ],
         "y": [
          1.6195092956259458
         ]
        },
        {
         "marker": {
          "color": "rgba(0, 0, 110, .8)",
          "size": 7
         },
         "mode": "markers",
         "text": "L’Italia rimane il Paese più bersagliato dal “cyberpizzo” - Il Sole 24 ORE",
         "type": "scatter",
         "uid": "6b713dcb-c566-11e8-bbca-98541b5bf12b",
         "x": [
          6.501924836914082
         ],
         "y": [
          0.14027352184800526
         ]
        },
        {
         "marker": {
          "color": "rgba(0, 0, 110, .8)",
          "size": 7
         },
         "mode": "markers",
         "text": "Startup: torna Heroes meet in Maratea, ecco chi ci sarà - Il Sole 24 ORE",
         "type": "scatter",
         "uid": "6b713dcc-c566-11e8-bbca-98541b5bf12b",
         "x": [
          -3.849050394904897
         ],
         "y": [
          -1.186256343256448
         ]
        },
        {
         "marker": {
          "color": "rgba(0, 0, 110, .8)",
          "size": 7
         },
         "mode": "markers",
         "text": "L'effetto dell'ecstasy sui polpi: così la serotonina li rende più socievoli - Repubblica.it",
         "type": "scatter",
         "uid": "6b713dcd-c566-11e8-bbca-98541b5bf12b",
         "x": [
          -1.1190806593286509
         ],
         "y": [
          0.287499227264394
         ]
        },
        {
         "marker": {
          "color": "rgba(0, 0, 110, .8)",
          "size": 7
         },
         "mode": "markers",
         "text": "Da Amazon un'invasione di gadget, in arrivo anche un forno a microonde - Repubblica.it",
         "type": "scatter",
         "uid": "6b713dce-c566-11e8-bbca-98541b5bf12b",
         "x": [
          -5.210334328795941
         ],
         "y": [
          -1.2379766360465747
         ]
        },
        {
         "marker": {
          "color": "rgba(0, 0, 110, .8)",
          "size": 7
         },
         "mode": "markers",
         "text": "Caravaggio morì a causa di uno stafilococco aureo - Repubblica.it",
         "type": "scatter",
         "uid": "6b713dcf-c566-11e8-bbca-98541b5bf12b",
         "x": [
          2.9632002358121223
         ],
         "y": [
          -1.0356176393415886
         ]
        },
        {
         "marker": {
          "color": "rgba(0, 0, 110, .8)",
          "size": 7
         },
         "mode": "markers",
         "text": "Ufo, Alieni, Extraterrestri, Marte, Pianeta rosso, Nasa, Tetricus, Barsoom, Edgar Rice Burroughs",
         "type": "scatter",
         "uid": "6b713dd0-c566-11e8-bbca-98541b5bf12b",
         "x": [
          0.5905274977690464
         ],
         "y": [
          0.3755141504491145
         ]
        },
        {
         "marker": {
          "color": "rgba(0, 0, 110, .8)",
          "size": 7
         },
         "mode": "markers",
         "text": "Per convincersi ad andare in palestra basta pensare alla propria famiglia - Repubblica.it",
         "type": "scatter",
         "uid": "6b713dd1-c566-11e8-bbca-98541b5bf12b",
         "x": [
          -0.3649899581252915
         ],
         "y": [
          0.04128210253081541
         ]
        },
        {
         "marker": {
          "color": "rgba(0, 0, 110, .8)",
          "size": 7
         },
         "mode": "markers",
         "text": "Nuovi dispositivi in arrivo da Amazon, c'è anche un forno a microonde - Repubblica.it",
         "type": "scatter",
         "uid": "6b713dd2-c566-11e8-bbca-98541b5bf12b",
         "x": [
          -6.714302855759562
         ],
         "y": [
          -0.63310854420101
         ]
        },
        {
         "marker": {
          "color": "rgba(0, 0, 110, .8)",
          "size": 7
         },
         "mode": "markers",
         "text": "European biotech week, una settimana di eventi guardando al futuro - Repubblica.it",
         "type": "scatter",
         "uid": "6b713dd3-c566-11e8-bbca-98541b5bf12b",
         "x": [
          -4.036351699228417
         ],
         "y": [
          -0.7274044597240538
         ]
        },
        {
         "marker": {
          "color": "rgba(0, 0, 110, .8)",
          "size": 7
         },
         "mode": "markers",
         "text": "Un sasso lanciato nel vuoto: \"Così 47 anni fa scoprimmo le grotte di Frasassi\" - Repubblica.it",
         "type": "scatter",
         "uid": "6b713dd4-c566-11e8-bbca-98541b5bf12b",
         "x": [
          10.542769976632234
         ],
         "y": [
          -0.35281622893744924
         ]
        },
        {
         "marker": {
          "color": "rgba(0, 0, 110, .8)",
          "size": 7
         },
         "mode": "markers",
         "text": "Quando i soldi fanno la felicità. Basta non esagerare - Repubblica.it",
         "type": "scatter",
         "uid": "6b713dd5-c566-11e8-bbca-98541b5bf12b",
         "x": [
          -2.9405538855600364
         ],
         "y": [
          1.3891425231100472
         ]
        },
        {
         "marker": {
          "color": "rgba(0, 0, 110, .8)",
          "size": 7
         },
         "mode": "markers",
         "text": "Negli Stati uniti arrivano le prime assicurazioni sulla vita calcolate con i dati degli smartwatch - La Stampa",
         "type": "scatter",
         "uid": "6b713dd6-c566-11e8-bbca-98541b5bf12b",
         "x": [
          1.029100694898999
         ],
         "y": [
          0.6029279658839543
         ]
        },
        {
         "marker": {
          "color": "rgba(0, 0, 110, .8)",
          "size": 7
         },
         "mode": "markers",
         "text": "La Juventus avrà la sua criptovaluta: un token digitale per i propri tifosi a inizio 2019 - Il Sole 24 ORE",
         "type": "scatter",
         "uid": "6b713dd7-c566-11e8-bbca-98541b5bf12b",
         "x": [
          1.1051105575775768
         ],
         "y": [
          -0.36196521854874875
         ]
        },
        {
         "marker": {
          "color": "rgba(0, 0, 110, .8)",
          "size": 7
         },
         "mode": "markers",
         "text": "Mirror lo specchio intelligente per il fitness - La Stampa",
         "type": "scatter",
         "uid": "6b713dd8-c566-11e8-bbca-98541b5bf12b",
         "x": [
          6.062828658909621
         ],
         "y": [
          0.033716020976420874
         ]
        },
        {
         "marker": {
          "color": "rgba(0, 0, 110, .8)",
          "size": 7
         },
         "mode": "markers",
         "text": "Nostalgia canaglia: anche Sony lancia la mini-console - Il Sole 24 ORE",
         "type": "scatter",
         "uid": "6b713dd9-c566-11e8-bbca-98541b5bf12b",
         "x": [
          1.703954516916427
         ],
         "y": [
          0.1690302202805821
         ]
        },
        {
         "marker": {
          "color": "rgba(0, 0, 110, .8)",
          "size": 7
         },
         "mode": "markers",
         "text": "Facebook, i cofondatori di Instagram lasciano la società - Repubblica.it",
         "type": "scatter",
         "uid": "6b713dda-c566-11e8-bbca-98541b5bf12b",
         "x": [
          5.6750116275114095
         ],
         "y": [
          -0.9070668858484725
         ]
        },
        {
         "marker": {
          "color": "rgba(0, 0, 110, .8)",
          "size": 7
         },
         "mode": "markers",
         "text": "Arrivano le pagelle di NewGuard. “Non servono gli algoritmi per bloccare le fake news” - Repubblica.it",
         "type": "scatter",
         "uid": "6b713ddb-c566-11e8-bbca-98541b5bf12b",
         "x": [
          -3.466870264462515
         ],
         "y": [
          0.8308205118414336
         ]
        },
        {
         "marker": {
          "color": "rgba(0, 0, 110, .8)",
          "size": 7
         },
         "mode": "markers",
         "text": "7ecno, le notizie hi tech dal 17 al 23 settembre 7ecno, le notizie hi tech dal 17 al 23 settembre - La Stampa",
         "type": "scatter",
         "uid": "6b713ddc-c566-11e8-bbca-98541b5bf12b",
         "x": [
          8.706372257409186
         ],
         "y": [
          0.2142810853675756
         ]
        },
        {
         "marker": {
          "color": "rgba(0, 0, 110, .8)",
          "size": 7
         },
         "mode": "markers",
         "text": "Facebook, terremoto in Instagram: lasciano i due co-fondatori della app dopo scontro con Zuckerberg - Il Sole 24 ORE",
         "type": "scatter",
         "uid": "6b713ddd-c566-11e8-bbca-98541b5bf12b",
         "x": [
          -0.7091974488943543
         ],
         "y": [
          -1.3332400394912942
         ]
        },
        {
         "marker": {
          "color": "rgba(0, 0, 110, .8)",
          "size": 7
         },
         "mode": "markers",
         "text": "Samsung lancia il suo primo smartphone con tre fotocamere - La Stampa",
         "type": "scatter",
         "uid": "6b713dde-c566-11e8-bbca-98541b5bf12b",
         "x": [
          -2.2104814552544703
         ],
         "y": [
          0.28823885251621867
         ]
        },
        {
         "marker": {
          "color": "rgba(0, 0, 110, .8)",
          "size": 7
         },
         "mode": "markers",
         "text": "Ufo, Alieni, Extraterrestri, Uap, Ovni, Harold \"Hal\" Puthoff, Society for Scientific E.comxploration, Dossier Cometa, Rapporto Sturrock, Advanced Aerospace Threat Identification Program, New York Times, Paolo Guizzardi, Cun",
         "type": "scatter",
         "uid": "6b713ddf-c566-11e8-bbca-98541b5bf12b",
         "x": [
          -0.2556856942813093
         ],
         "y": [
          0.4199242315443997
         ]
        },
        {
         "marker": {
          "color": "rgba(0, 0, 110, .8)",
          "size": 7
         },
         "mode": "markers",
         "text": "Crash test: 5 stelle per Audi A6 e Volkswagen Touareg, rimandata la Suzuki Jimny - La Stampa",
         "type": "scatter",
         "uid": "6b713de0-c566-11e8-bbca-98541b5bf12b",
         "x": [
          7.564794264530623
         ],
         "y": [
          -0.7969653742155307
         ]
        },
        {
         "marker": {
          "color": "rgba(0, 0, 110, .8)",
          "size": 7
         },
         "mode": "markers",
         "text": "Videogiochi: Red Dead Redemption 2 anteprima di un successo annunciato - La Stampa",
         "type": "scatter",
         "uid": "6b713de1-c566-11e8-bbca-98541b5bf12b",
         "x": [
          -6.306698860450969
         ],
         "y": [
          1.7837545090320142
         ]
        },
        {
         "marker": {
          "color": "rgba(0, 0, 110, .8)",
          "size": 7
         },
         "mode": "markers",
         "text": "Boato e scia luminosa, una super meteora nei cieli di Sardegna e centro Italia - Repubblica.it",
         "type": "scatter",
         "uid": "6b713de2-c566-11e8-bbca-98541b5bf12b",
         "x": [
          -8.7470800586458
         ],
         "y": [
          -2.1773774722941135
         ]
        },
        {
         "marker": {
          "color": "rgba(0, 0, 110, .8)",
          "size": 7
         },
         "mode": "markers",
         "text": "Ufo, Alieni, Extraterrestri, Osservatorio solare nazionale di Sunspot, Blackhawk, Sacramento Peak, Roswell, Albuquerque, dischi volanti, James McAteer",
         "type": "scatter",
         "uid": "6b713de3-c566-11e8-bbca-98541b5bf12b",
         "x": [
          -2.954161434024891
         ],
         "y": [
          -0.4861804261668286
         ]
        },
        {
         "marker": {
          "color": "rgba(0, 0, 110, .8)",
          "size": 7
         },
         "mode": "markers",
         "text": "Cinque regole per mettere in sicurezza gli smartphone in azienda - Il Sole 24 ORE",
         "type": "scatter",
         "uid": "6b713de4-c566-11e8-bbca-98541b5bf12b",
         "x": [
          -1.9151623852095403
         ],
         "y": [
          0.46805626678077905
         ]
        },
        {
         "marker": {
          "color": "rgba(0, 0, 110, .8)",
          "size": 7
         },
         "mode": "markers",
         "text": "Criptovalute, Ripple raddoppia in una settimana: è la seconda dietro a bitcoin - Il Sole 24 ORE",
         "type": "scatter",
         "uid": "6b713de5-c566-11e8-bbca-98541b5bf12b",
         "x": [
          1.5510021441586548
         ],
         "y": [
          -0.31414203873392355
         ]
        },
        {
         "marker": {
          "color": "rgba(0, 0, 110, .8)",
          "size": 7
         },
         "mode": "markers",
         "text": "Amazon vuole aprire 3mila supermercati senza casse e cassieri - La Stampa",
         "type": "scatter",
         "uid": "6b713de6-c566-11e8-bbca-98541b5bf12b",
         "x": [
          0.4152838847532409
         ],
         "y": [
          -0.7285827646488884
         ]
        },
        {
         "marker": {
          "color": "rgba(0, 0, 110, .8)",
          "size": 7
         },
         "mode": "markers",
         "text": "Zuckerberg prende il controllo di Instagram per salvare Facebook - Il Sole 24 ORE",
         "type": "scatter",
         "uid": "6b713de7-c566-11e8-bbca-98541b5bf12b",
         "x": [
          0.7144727819766062
         ],
         "y": [
          -0.11246457616606362
         ]
        },
        {
         "marker": {
          "color": "rgba(0, 0, 110, .8)",
          "size": 7
         },
         "mode": "markers",
         "text": "Samsung, i prossimi auricolari wireless potrebbero chiamarsi Buds - Repubblica.it",
         "type": "scatter",
         "uid": "6b713de8-c566-11e8-bbca-98541b5bf12b",
         "x": [
          2.81377658961557
         ],
         "y": [
          0.2015897394005669
         ]
        },
        {
         "marker": {
          "color": "rgba(0, 0, 110, .8)",
          "size": 7
         },
         "mode": "markers",
         "text": "Arriva l’assistente vocale di Salesforce. Anche l’impresa si guida con voce - Il Sole 24 ORE",
         "type": "scatter",
         "uid": "6b713de9-c566-11e8-bbca-98541b5bf12b",
         "x": [
          0.6048301240412448
         ],
         "y": [
          0.7000462562029921
         ]
        },
        {
         "marker": {
          "color": "rgba(0, 0, 110, .8)",
          "size": 7
         },
         "mode": "markers",
         "text": "Ufo, Alieni, extraterrestri, Marte, Nasa, Tetricus, Pianeta rosso",
         "type": "scatter",
         "uid": "6b713dea-c566-11e8-bbca-98541b5bf12b",
         "x": [
          12.652218877061873
         ],
         "y": [
          -0.4555398708862988
         ]
        },
        {
         "marker": {
          "color": "rgba(0, 0, 110, .8)",
          "size": 7
         },
         "mode": "markers",
         "text": "Twitter: un bug potrebbe avere esposto i messaggi privati - Repubblica.it",
         "type": "scatter",
         "uid": "6b713deb-c566-11e8-bbca-98541b5bf12b",
         "x": [
          4.863388519586762
         ],
         "y": [
          0.6126807819015343
         ]
        },
        {
         "marker": {
          "color": "rgba(0, 0, 110, .8)",
          "size": 7
         },
         "mode": "markers",
         "text": "Cybersecurity: cinque regole per un Wi-Fi aziendale sicuro - Il Sole 24 ORE",
         "type": "scatter",
         "uid": "6b713dec-c566-11e8-bbca-98541b5bf12b",
         "x": [
          0.3111162971541056
         ],
         "y": [
          0.6527162761530201
         ]
        },
        {
         "marker": {
          "color": "rgba(0, 0, 110, .8)",
          "size": 7
         },
         "mode": "markers",
         "text": "La generosità? E' contagiosa: condividiamo perché lo fanno gli altri - Repubblica.it",
         "type": "scatter",
         "uid": "6b713ded-c566-11e8-bbca-98541b5bf12b",
         "x": [
          -3.7574298795771406
         ],
         "y": [
          0.7695305682036235
         ]
        },
        {
         "marker": {
          "color": "rgba(0, 0, 110, .8)",
          "size": 7
         },
         "mode": "markers",
         "text": "Ufo, Alieni, extraterrestri, Cun, mappe mentali, Orson Welles, Corio, Canavese, Ami, Tornado",
         "type": "scatter",
         "uid": "6b713dee-c566-11e8-bbca-98541b5bf12b",
         "x": [
          2.838021622855602
         ],
         "y": [
          -0.06183466808995626
         ]
        },
        {
         "marker": {
          "color": "rgba(0, 0, 110, .8)",
          "size": 7
         },
         "mode": "markers",
         "text": "IC406 Innovation Camp, apre a Bari il nuovo incubatore di startup di Auriga - Il Sole 24 ORE",
         "type": "scatter",
         "uid": "6b713def-c566-11e8-bbca-98541b5bf12b",
         "x": [
          9.132711764369862
         ],
         "y": [
          0.05069570469497418
         ]
        },
        {
         "marker": {
          "color": "rgba(0, 0, 110, .8)",
          "size": 7
         },
         "mode": "markers",
         "text": "Instagram sfida Amazon sullo shopping: dalle storie si potranno acquistare prodotti - Repubblica.it",
         "type": "scatter",
         "uid": "6b713df0-c566-11e8-bbca-98541b5bf12b",
         "x": [
          1.3422780756340325
         ],
         "y": [
          0.1136211817717068
         ]
        },
        {
         "marker": {
          "color": "rgba(0, 0, 110, .8)",
          "size": 7
         },
         "mode": "markers",
         "text": "La piattaforma Rousseau è stata bucata ancora. Sempre da rogue0 - Il Sole 24 ORE",
         "type": "scatter",
         "uid": "6b713df1-c566-11e8-bbca-98541b5bf12b",
         "x": [
          5.906257486539742
         ],
         "y": [
          0.2521532167789737
         ]
        },
        {
         "marker": {
          "color": "rgba(0, 0, 110, .8)",
          "size": 7
         },
         "mode": "markers",
         "text": "Ufo, Alieni, Extraterrestri, Ovni, Mistero bUFO, Giochi Pechino, Dario Fo, Mistero Buffo, Il bivio, Enrico Ruggeri, Mediaset, Corriere.it, Giovanni Angeli",
         "type": "scatter",
         "uid": "6b713df2-c566-11e8-bbca-98541b5bf12b",
         "x": [
          0.4390786398878962
         ],
         "y": [
          -1.1543852749186492
         ]
        },
        {
         "marker": {
          "color": "rgba(0, 0, 110, .8)",
          "size": 7
         },
         "mode": "markers",
         "text": "Le console più vendute di tutti i tempi Le console più vendute di tutti i tempi - La Stampa",
         "type": "scatter",
         "uid": "6b713df3-c566-11e8-bbca-98541b5bf12b",
         "x": [
          12.384282340032042
         ],
         "y": [
          0.12614638582741047
         ]
        },
        {
         "marker": {
          "color": "rgba(0, 0, 110, .8)",
          "size": 7
         },
         "mode": "markers",
         "text": "Dating, il servizio di Facebook per trovare l’anima gemella - La Stampa",
         "type": "scatter",
         "uid": "6b713df4-c566-11e8-bbca-98541b5bf12b",
         "x": [
          9.906516276437738
         ],
         "y": [
          0.565038161414909
         ]
        },
        {
         "marker": {
          "color": "rgba(0, 0, 110, .8)",
          "size": 7
         },
         "mode": "markers",
         "text": "Spotify, gli artisti potranno caricare la propria musica da soli - Repubblica.it",
         "type": "scatter",
         "uid": "6b713df5-c566-11e8-bbca-98541b5bf12b",
         "x": [
          1.4714048299471345
         ],
         "y": [
          -0.9184311887650939
         ]
        },
        {
         "marker": {
          "color": "rgba(0, 0, 110, .8)",
          "size": 7
         },
         "mode": "markers",
         "text": "Red Dead Redemption 2. La nostra prova del nuovo gioco di Rockstar Games - Repubblica.it",
         "type": "scatter",
         "uid": "6b713df6-c566-11e8-bbca-98541b5bf12b",
         "x": [
          1.3783175059697537
         ],
         "y": [
          0.25718583584696564
         ]
        },
        {
         "marker": {
          "color": "rgba(0, 0, 110, .8)",
          "size": 7
         },
         "mode": "markers",
         "text": "Portogallo, riaffiora una nave di 400 anni fa. \"E' la scoperta del decennio\" - Repubblica.it",
         "type": "scatter",
         "uid": "6b713df7-c566-11e8-bbca-98541b5bf12b",
         "x": [
          -0.3328729034768136
         ],
         "y": [
          0.14342377013911115
         ]
        },
        {
         "marker": {
          "color": "rgba(0, 0, 110, .8)",
          "size": 7
         },
         "mode": "markers",
         "text": "Decolla Facebook Dating, il Tinder di Menlo Park: primi test in Colombia - Repubblica.it",
         "type": "scatter",
         "uid": "6b713df8-c566-11e8-bbca-98541b5bf12b",
         "x": [
          14.746362389297953
         ],
         "y": [
          0.4026943576826053
         ]
        },
        {
         "marker": {
          "color": "rgba(0, 0, 110, .8)",
          "size": 7
         },
         "mode": "markers",
         "text": "Ufo, Alieni, Extraterrestri, Alexander Oparin, cellule prebiotiche, Cufom, Cun, Extremamente, Luis Elizondo, Tom DeLonge",
         "type": "scatter",
         "uid": "6b713df9-c566-11e8-bbca-98541b5bf12b",
         "x": [
          -3.314104548916143
         ],
         "y": [
          -0.019970200331946433
         ]
        },
        {
         "marker": {
          "color": "rgba(0, 0, 110, .8)",
          "size": 7
         },
         "mode": "markers",
         "text": "Apple punta sulle aziende: accordo con Salesforce per iPhone e iPad - Il Sole 24 ORE",
         "type": "scatter",
         "uid": "6b713dfa-c566-11e8-bbca-98541b5bf12b",
         "x": [
          -3.5369237431309055
         ],
         "y": [
          -0.17503772220222566
         ]
        },
        {
         "marker": {
          "color": "rgba(0, 0, 110, .8)",
          "size": 7
         },
         "mode": "markers",
         "text": "Ecco Google Dataset Search, il motore di ricerca per scienziati e giornalisti - Il Sole 24 ORE",
         "type": "scatter",
         "uid": "6b713dfb-c566-11e8-bbca-98541b5bf12b",
         "x": [
          -0.47887478188312355
         ],
         "y": [
          0.5044723728489936
         ]
        },
        {
         "marker": {
          "color": "rgba(0, 0, 110, .8)",
          "size": 7
         },
         "mode": "markers",
         "text": "La ricerca: \"Abbiamo il perdono incorporato o non avremmo relazioni\" - Repubblica.it",
         "type": "scatter",
         "uid": "6b713dfc-c566-11e8-bbca-98541b5bf12b",
         "x": [
          -4.3605420927474965
         ],
         "y": [
          1.1468471172095216
         ]
        },
        {
         "marker": {
          "color": "rgba(0, 0, 110, .8)",
          "size": 7
         },
         "mode": "markers",
         "text": "Fake news con finti articoli di Repubblica: non credeteci e denunciate - Repubblica.it",
         "type": "scatter",
         "uid": "6b713dfd-c566-11e8-bbca-98541b5bf12b",
         "x": [
          5.698621994722596
         ],
         "y": [
          -0.4813622886504713
         ]
        },
        {
         "marker": {
          "color": "rgba(0, 0, 110, .8)",
          "size": 7
         },
         "mode": "markers",
         "text": "Arriva Portal, l'assistente smart di Facebook - Repubblica.it",
         "type": "scatter",
         "uid": "6b713dfe-c566-11e8-bbca-98541b5bf12b",
         "x": [
          6.359866023993902
         ],
         "y": [
          0.3243625528037988
         ]
        },
        {
         "marker": {
          "color": "rgba(0, 0, 110, .8)",
          "size": 7
         },
         "mode": "markers",
         "text": "Vacchiano, su Nature l'italiano che studia il clima: \"Il mio è un premio alle foreste\" - Repubblica.it",
         "type": "scatter",
         "uid": "6b713dff-c566-11e8-bbca-98541b5bf12b",
         "x": [
          6.437100261157708
         ],
         "y": [
          -0.37192151134105245
         ]
        },
        {
         "marker": {
          "color": "rgba(0, 0, 110, .8)",
          "size": 7
         },
         "mode": "markers",
         "text": "Hayabusa2, la sonda che sembra un videogioco ha \"catturato\" il suo asteroide - Repubblica.it",
         "type": "scatter",
         "uid": "6b713e00-c566-11e8-bbca-98541b5bf12b",
         "x": [
          -7.662350879867752
         ],
         "y": [
          -4.277725136849612
         ]
        },
        {
         "marker": {
          "color": "rgba(0, 0, 110, .8)",
          "size": 7
         },
         "mode": "markers",
         "text": "Arriva Portal, l'assistente smart di Facebook - Repubblica.it",
         "type": "scatter",
         "uid": "6b713e01-c566-11e8-bbca-98541b5bf12b",
         "x": [
          6.203465228761106
         ],
         "y": [
          -1.0708060685544387
         ]
        },
        {
         "marker": {
          "color": "rgba(0, 0, 110, .8)",
          "size": 7
         },
         "mode": "markers",
         "text": "Trovato il metodo per sterminare le zanzare. Ma è una buona idea? - Repubblica.it",
         "type": "scatter",
         "uid": "6b713e02-c566-11e8-bbca-98541b5bf12b",
         "x": [
          -8.551546850546785
         ],
         "y": [
          -0.6119202993853716
         ]
        },
        {
         "marker": {
          "color": "rgba(0, 0, 110, .8)",
          "size": 7
         },
         "mode": "markers",
         "text": "Ufo, Alieni, extraterrestri, Ansa, Cheope, Giza, piramidi egizie, Journal of Applied Physics, Itmo University, San Pietroburgo , Laser Zentrum, Tullio Scopigno, Università La Sapienza, piramidi bosniache",
         "type": "scatter",
         "uid": "6b713e03-c566-11e8-bbca-98541b5bf12b",
         "x": [
          -5.08333678120859
         ],
         "y": [
          -0.4469676103040889
         ]
        },
        {
         "marker": {
          "color": "rgba(0, 0, 110, .8)",
          "size": 7
         },
         "mode": "markers",
         "text": "Huawei Mate 20 Lite: un midrange dall'ottima autonomia. La recensione",
         "type": "scatter",
         "uid": "6b713e04-c566-11e8-bbca-98541b5bf12b",
         "x": [
          1.0601005041421159
         ],
         "y": [
          0.27298730707930224
         ]
        },
        {
         "marker": {
          "color": "rgba(0, 0, 110, .8)",
          "size": 7
         },
         "mode": "markers",
         "text": "iPhone Xs Max tira 3-4 volte più dell'Xs - Hi-tech - ANSA.it",
         "type": "scatter",
         "uid": "6b713e05-c566-11e8-bbca-98541b5bf12b",
         "x": [
          8.922234116936536
         ],
         "y": [
          0.07187411268858886
         ]
        },
        {
         "marker": {
          "color": "rgba(0, 0, 110, .8)",
          "size": 7
         },
         "mode": "markers",
         "text": "Vota i migliori produttori nell'European Hardware Community Awards 2018",
         "type": "scatter",
         "uid": "6b713e06-c566-11e8-bbca-98541b5bf12b",
         "x": [
          6.783296262545572
         ],
         "y": [
          1.1085591776322046
         ]
        },
        {
         "marker": {
          "color": "rgba(0, 0, 110, .8)",
          "size": 7
         },
         "mode": "markers",
         "text": "Influenza, scoperto il tallone d'Achille del virus - Biotech - ANSA.it",
         "type": "scatter",
         "uid": "6b713e07-c566-11e8-bbca-98541b5bf12b",
         "x": [
          3.2060377426910454
         ],
         "y": [
          0.1863504229964955
         ]
        },
        {
         "marker": {
          "color": "rgba(0, 0, 110, .8)",
          "size": 7
         },
         "mode": "markers",
         "text": "Futuri robot con pelle che sente il vento - Hi-tech - ANSA.it",
         "type": "scatter",
         "uid": "6b713e08-c566-11e8-bbca-98541b5bf12b",
         "x": [
          -6.672731907484146
         ],
         "y": [
          1.48598469288572
         ]
        },
        {
         "marker": {
          "color": "rgba(0, 0, 110, .8)",
          "size": 7
         },
         "mode": "markers",
         "text": "È possibile che un robot possa utilizzare la teoria della mente?",
         "type": "scatter",
         "uid": "6b713e09-c566-11e8-bbca-98541b5bf12b",
         "x": [
          -10.48993534268245
         ],
         "y": [
          4.813988475038553
         ]
        },
        {
         "marker": {
          "color": "rgba(0, 0, 110, .8)",
          "size": 7
         },
         "mode": "markers",
         "text": "Apple completa l'acquisizione di Shazam - Software e App - ANSA.it",
         "type": "scatter",
         "uid": "6b713e0a-c566-11e8-bbca-98541b5bf12b",
         "x": [
          12.085231168483965
         ],
         "y": [
          -0.02291954262789008
         ]
        },
        {
         "marker": {
          "color": "rgba(0, 0, 110, .8)",
          "size": 7
         },
         "mode": "markers",
         "text": "Malaria, una reazione a catena genetica annienta le zanzare - Biotech - ANSA.it",
         "type": "scatter",
         "uid": "6b713e0b-c566-11e8-bbca-98541b5bf12b",
         "x": [
          -6.964701554626616
         ],
         "y": [
          -0.025137680918348997
         ]
        },
        {
         "marker": {
          "color": "rgba(0, 0, 110, .8)",
          "size": 7
         },
         "mode": "markers",
         "text": "Aperta indagine penale su Tesla dopo tweet di Musk - Hi-tech - ANSA.it",
         "type": "scatter",
         "uid": "6b713e0c-c566-11e8-bbca-98541b5bf12b",
         "x": [
          9.447291486852958
         ],
         "y": [
          -0.4778667072172172
         ]
        },
        {
         "marker": {
          "color": "rgba(0, 0, 110, .8)",
          "size": 7
         },
         "mode": "markers",
         "text": "Kingston, disponibili gli SSD HyperX Fury RGB: un tocco di colore alle ''solite'' unità 2,5''",
         "type": "scatter",
         "uid": "6b713e0d-c566-11e8-bbca-98541b5bf12b",
         "x": [
          9.505639566385623
         ],
         "y": [
          0.49694788072505897
         ]
        },
        {
         "marker": {
          "color": "rgba(0, 0, 110, .8)",
          "size": 7
         },
         "mode": "markers",
         "text": "Mercato mondiale Pc, nel 2019 la ripresa - Hi-tech - ANSA.it",
         "type": "scatter",
         "uid": "6b713e0e-c566-11e8-bbca-98541b5bf12b",
         "x": [
          -5.18772152997022
         ],
         "y": [
          0.21982353089734727
         ]
        },
        {
         "marker": {
          "color": "rgba(0, 0, 110, .8)",
          "size": 7
         },
         "mode": "markers",
         "text": "Microsoft,40mln per AI a scopi umanitari - Hi-tech - ANSA.it",
         "type": "scatter",
         "uid": "6b713e0f-c566-11e8-bbca-98541b5bf12b",
         "x": [
          6.24710150119602
         ],
         "y": [
          -0.3738688550816269
         ]
        },
        {
         "marker": {
          "color": "rgba(0, 0, 110, .8)",
          "size": 7
         },
         "mode": "markers",
         "text": "Apple, no a violenza e sesso in show tv - Internet e Social - ANSA.it",
         "type": "scatter",
         "uid": "6b713e10-c566-11e8-bbca-98541b5bf12b",
         "x": [
          1.1820926504240976
         ],
         "y": [
          1.171862636869926
         ]
        },
        {
         "marker": {
          "color": "rgba(0, 0, 110, .8)",
          "size": 7
         },
         "mode": "markers",
         "text": "Primi scatti dall'asteroide Ryugu - Spazio & Astronomia - ANSA.it",
         "type": "scatter",
         "uid": "6b713e11-c566-11e8-bbca-98541b5bf12b",
         "x": [
          -5.939582034881022
         ],
         "y": [
          -3.1467635256933346
         ]
        },
        {
         "marker": {
          "color": "rgba(0, 0, 110, .8)",
          "size": 7
         },
         "mode": "markers",
         "text": "In arrivo una rivoluzione nella diagnostica medica: una tecnologia sensibile alla singola molecola",
         "type": "scatter",
         "uid": "6b713e12-c566-11e8-bbca-98541b5bf12b",
         "x": [
          -13.757857544983551
         ],
         "y": [
          -0.07882986111069128
         ]
        },
        {
         "marker": {
          "color": "rgba(0, 0, 110, .8)",
          "size": 7
         },
         "mode": "markers",
         "text": "Sweeper, il robot che raccoglie ortaggi e frutta - News - ANSA.it",
         "type": "scatter",
         "uid": "6b713e13-c566-11e8-bbca-98541b5bf12b",
         "x": [
          3.229641255569713
         ],
         "y": [
          -0.03567113832798483
         ]
        },
        {
         "marker": {
          "color": "rgba(0, 0, 110, .8)",
          "size": 7
         },
         "mode": "markers",
         "text": "Immagini mozzafiato delle nubi blu che brillano ai poli - Spazio & Astronomia - ANSA.it",
         "type": "scatter",
         "uid": "6b713e14-c566-11e8-bbca-98541b5bf12b",
         "x": [
          -10.300620021753156
         ],
         "y": [
          -3.777029406308899
         ]
        },
        {
         "marker": {
          "color": "rgba(0, 0, 110, .8)",
          "size": 7
         },
         "mode": "markers",
         "text": "V-Rally 4, disponibile da oggi la versione PC",
         "type": "scatter",
         "uid": "6b713e15-c566-11e8-bbca-98541b5bf12b",
         "x": [
          -8.634792593953913
         ],
         "y": [
          -1.061408987467807
         ]
        },
        {
         "marker": {
          "color": "rgba(0, 0, 110, .8)",
          "size": 7
         },
         "mode": "markers",
         "text": "Il gene che al mattino risveglia i fiori - Biotech - ANSA.it",
         "type": "scatter",
         "uid": "6b713e16-c566-11e8-bbca-98541b5bf12b",
         "x": [
          -2.5035544327299695
         ],
         "y": [
          -0.34135900113614975
         ]
        },
        {
         "marker": {
          "color": "rgba(0, 0, 110, .8)",
          "size": 7
         },
         "mode": "markers",
         "text": "Mattarella nei laboratori dell'Enea - Ricerca & Istituzioni - ANSA.it",
         "type": "scatter",
         "uid": "6b713e17-c566-11e8-bbca-98541b5bf12b",
         "x": [
          4.943355759282518
         ],
         "y": [
          0.7833073010964129
         ]
        },
        {
         "marker": {
          "color": "rgba(0, 0, 110, .8)",
          "size": 7
         },
         "mode": "markers",
         "text": "Nature, due italiani fra gli 11 ricercatori emergenti - Ricerca & Istituzioni - ANSA.it",
         "type": "scatter",
         "uid": "6b713e18-c566-11e8-bbca-98541b5bf12b",
         "x": [
          -4.74979637863864
         ],
         "y": [
          -0.3162479448900895
         ]
        },
        {
         "marker": {
          "color": "rgba(0, 0, 110, .8)",
          "size": 7
         },
         "mode": "markers",
         "text": "Mai più batterie che prendono fuoco",
         "type": "scatter",
         "uid": "6b713e19-c566-11e8-bbca-98541b5bf12b",
         "x": [
          -10.889501313584843
         ],
         "y": [
          2.2009094526729642
         ]
        },
        {
         "marker": {
          "color": "rgba(0, 0, 110, .8)",
          "size": 7
         },
         "mode": "markers",
         "text": "Wef, con robot più lavoro, ma competenze da creare - Hi-tech - ANSA.it",
         "type": "scatter",
         "uid": "6b713e1a-c566-11e8-bbca-98541b5bf12b",
         "x": [
          -5.387104672390216
         ],
         "y": [
          0.5465163432445744
         ]
        },
        {
         "marker": {
          "color": "rgba(0, 0, 110, .8)",
          "size": 7
         },
         "mode": "markers",
         "text": "Snapchat, shopping online su Amazon - Software e App - ANSA.it",
         "type": "scatter",
         "uid": "6b713e1b-c566-11e8-bbca-98541b5bf12b",
         "x": [
          7.130257105397033
         ],
         "y": [
          -0.40626306238354315
         ]
        },
        {
         "marker": {
          "color": "rgba(0, 0, 110, .8)",
          "size": 7
         },
         "mode": "markers",
         "text": "Hit Refresh,il Ceo Microsoft si racconta - Internet e Social - ANSA.it",
         "type": "scatter",
         "uid": "6b713e1c-c566-11e8-bbca-98541b5bf12b",
         "x": [
          -6.486359138899118
         ],
         "y": [
          1.2869063347907788
         ]
        },
        {
         "marker": {
          "color": "rgba(0, 0, 110, .8)",
          "size": 7
         },
         "mode": "markers",
         "text": "Robot protagonisti tra scienza e spettacolo a Festival Pisa - Tecnologie - ANSA.it",
         "type": "scatter",
         "uid": "6b713e1d-c566-11e8-bbca-98541b5bf12b",
         "x": [
          -0.019388505564328595
         ],
         "y": [
          -0.6583755596748075
         ]
        },
        {
         "marker": {
          "color": "rgba(0, 0, 110, .8)",
          "size": 7
         },
         "mode": "markers",
         "text": "iPhone, 400 persone in coda a Singapore - Hi-tech - ANSA.it",
         "type": "scatter",
         "uid": "6b713e1e-c566-11e8-bbca-98541b5bf12b",
         "x": [
          1.974988003811313
         ],
         "y": [
          0.035850761217587304
         ]
        },
        {
         "marker": {
          "color": "rgba(0, 0, 110, .8)",
          "size": 7
         },
         "mode": "markers",
         "text": "Kaspersky,gli Usa ci hanno preso di mira - Internet e Social - ANSA.it",
         "type": "scatter",
         "uid": "6b713e1f-c566-11e8-bbca-98541b5bf12b",
         "x": [
          3.0511281304832694
         ],
         "y": [
          -0.02649170416435188
         ]
        },
        {
         "marker": {
          "color": "rgba(0, 0, 110, .8)",
          "size": 7
         },
         "mode": "markers",
         "text": "Tifosi svizzeri bloccano una partita di calcio per protesta contro gli eSport",
         "type": "scatter",
         "uid": "6b713e20-c566-11e8-bbca-98541b5bf12b",
         "x": [
          12.58125810607675
         ],
         "y": [
          -0.27081772054058256
         ]
        },
        {
         "marker": {
          "color": "rgba(0, 0, 110, .8)",
          "size": 7
         },
         "mode": "markers",
         "text": "Conto corrente N26: il miglior modo per pagare è dallo smartphone",
         "type": "scatter",
         "uid": "6b713e21-c566-11e8-bbca-98541b5bf12b",
         "x": [
          2.7840977152273374
         ],
         "y": [
          -0.18958584396242592
         ]
        },
        {
         "marker": {
          "color": "rgba(0, 0, 110, .8)",
          "size": 7
         },
         "mode": "markers",
         "text": "Amazon vuole aprire 3mila alimentari - Hi-tech - ANSA.it",
         "type": "scatter",
         "uid": "6b713e22-c566-11e8-bbca-98541b5bf12b",
         "x": [
          -1.5638931776971403
         ],
         "y": [
          -1.776390569873138
         ]
        },
        {
         "marker": {
          "color": "rgba(0, 0, 110, .8)",
          "size": 7
         },
         "mode": "markers",
         "text": "Skiller Mech SGK3 è una tastiera meccanica che dà controllo totale ai giocatori",
         "type": "scatter",
         "uid": "6b713e23-c566-11e8-bbca-98541b5bf12b",
         "x": [
          -0.22728550805217648
         ],
         "y": [
          -0.04114705648625878
         ]
        },
        {
         "marker": {
          "color": "rgba(0, 0, 110, .8)",
          "size": 7
         },
         "mode": "markers",
         "text": "I co-fondatori di Instagram lasciano la società - Internet e Social - ANSA.it",
         "type": "scatter",
         "uid": "6b713e24-c566-11e8-bbca-98541b5bf12b",
         "x": [
          10.735695735922741
         ],
         "y": [
          -0.16919724474293607
         ]
        },
        {
         "marker": {
          "color": "rgba(0, 0, 110, .8)",
          "size": 7
         },
         "mode": "markers",
         "text": "L-Mount: Leica, Panasonic e Sigma all'attacco del settore mirrorless full frame e APS-C",
         "type": "scatter",
         "uid": "6b713e25-c566-11e8-bbca-98541b5bf12b",
         "x": [
          1.1469938691365313
         ],
         "y": [
          0.2759040365857864
         ]
        },
        {
         "marker": {
          "color": "rgba(0, 0, 110, .8)",
          "size": 7
         },
         "mode": "markers",
         "text": "Trovata la lettera che costo' a Galileo l'accusa di eresia - Spazio & Astronomia - ANSA.it",
         "type": "scatter",
         "uid": "6b713e26-c566-11e8-bbca-98541b5bf12b",
         "x": [
          -5.0469627598456706
         ],
         "y": [
          0.7347075269833367
         ]
        },
        {
         "marker": {
          "color": "rgba(0, 0, 110, .8)",
          "size": 7
         },
         "mode": "markers",
         "text": "RFID: dalle etichette dei supermercati a sensori per l'ambiente",
         "type": "scatter",
         "uid": "6b713e27-c566-11e8-bbca-98541b5bf12b",
         "x": [
          -8.61905351580851
         ],
         "y": [
          2.634383205679963
         ]
        },
        {
         "marker": {
          "color": "rgba(0, 0, 110, .8)",
          "size": 7
         },
         "mode": "markers",
         "text": "Irix 150mm F2.8 per full frame con attacchi Canon EF, Nikon F e Pentax K a bassissima distorsione",
         "type": "scatter",
         "uid": "6b713e28-c566-11e8-bbca-98541b5bf12b",
         "x": [
          -6.938839588816516
         ],
         "y": [
          0.7516373674737674
         ]
        },
        {
         "marker": {
          "color": "rgba(0, 0, 110, .8)",
          "size": 7
         },
         "mode": "markers",
         "text": "Facebook: la Ue attacca, migliori la trasparenza o multe in arrivo - Internet e Social - ANSA.it",
         "type": "scatter",
         "uid": "6b713e29-c566-11e8-bbca-98541b5bf12b",
         "x": [
          13.319405666051093
         ],
         "y": [
          -0.13981760497021994
         ]
        },
        {
         "marker": {
          "color": "rgba(0, 0, 110, .8)",
          "size": 7
         },
         "mode": "markers",
         "text": "Arriva in Italia Google Pay, sfida a Apple - Tlc - ANSA.it",
         "type": "scatter",
         "uid": "6b713e2a-c566-11e8-bbca-98541b5bf12b",
         "x": [
          -1.2768144973186042
         ],
         "y": [
          0.003559215590540104
         ]
        },
        {
         "marker": {
          "color": "rgba(0, 0, 110, .8)",
          "size": 7
         },
         "mode": "markers",
         "text": "Instagram sfida Amazon sullo shopping - Internet e Social - ANSA.it",
         "type": "scatter",
         "uid": "6b713e2b-c566-11e8-bbca-98541b5bf12b",
         "x": [
          2.2828800914834986
         ],
         "y": [
          0.6742981919782144
         ]
        },
        {
         "marker": {
          "color": "rgba(0, 0, 110, .8)",
          "size": 7
         },
         "mode": "markers",
         "text": "Apple conta le telefonate contro le frodi - Hi-tech - ANSA.it",
         "type": "scatter",
         "uid": "6b713e2c-c566-11e8-bbca-98541b5bf12b",
         "x": [
          6.997060194778033
         ],
         "y": [
          0.3899854245606644
         ]
        },
        {
         "marker": {
          "color": "rgba(0, 0, 110, .8)",
          "size": 7
         },
         "mode": "markers",
         "text": "Twitter, si potrà tornare a cronologia tweet - Internet e Social - ANSA.it",
         "type": "scatter",
         "uid": "6b713e2d-c566-11e8-bbca-98541b5bf12b",
         "x": [
          10.748447775652911
         ],
         "y": [
          -0.512058181264525
         ]
        },
        {
         "marker": {
          "color": "rgba(0, 0, 110, .8)",
          "size": 7
         },
         "mode": "markers",
         "text": "Spamming estorsivo, Polizia Postale lancia l'allarme - Internet e Social - ANSA.it",
         "type": "scatter",
         "uid": "6b713e2e-c566-11e8-bbca-98541b5bf12b",
         "x": [
          5.326856080726907
         ],
         "y": [
          -0.3592295892681751
         ]
        },
        {
         "marker": {
          "color": "rgba(0, 0, 110, .8)",
          "size": 7
         },
         "mode": "markers",
         "text": "La Terra come Venere, potrebbe avere un futuro bollente - Terra & Poli - ANSA.it",
         "type": "scatter",
         "uid": "6b713e2f-c566-11e8-bbca-98541b5bf12b",
         "x": [
          0.010482181988423165
         ],
         "y": [
          -0.8242668946068865
         ]
        },
        {
         "marker": {
          "color": "rgba(0, 0, 110, .8)",
          "size": 7
         },
         "mode": "markers",
         "text": "Bolide sul cielo della Sardegna, il terzo dell'estate - Spazio & Astronomia - ANSA.it",
         "type": "scatter",
         "uid": "6b713e30-c566-11e8-bbca-98541b5bf12b",
         "x": [
          -9.751525024211166
         ],
         "y": [
          -4.403872218330249
         ]
        },
        {
         "marker": {
          "color": "rgba(0, 0, 110, .8)",
          "size": 7
         },
         "mode": "markers",
         "text": "California, legge proteggerà da hacker oggetti connessi - Tlc - ANSA.it",
         "type": "scatter",
         "uid": "6b713e31-c566-11e8-bbca-98541b5bf12b",
         "x": [
          0.7811547273635362
         ],
         "y": [
          -0.985287274699815
         ]
        },
        {
         "marker": {
          "color": "rgba(0, 0, 110, .8)",
          "size": 7
         },
         "mode": "markers",
         "text": "Come spezzare uno spaghetto in due? Lo spiega il MIT",
         "type": "scatter",
         "uid": "6b713e32-c566-11e8-bbca-98541b5bf12b",
         "x": [
          -9.367196575576019
         ],
         "y": [
          2.037406912213205
         ]
        },
        {
         "marker": {
          "color": "rgba(0, 0, 110, .8)",
          "size": 7
         },
         "mode": "markers",
         "text": "Nella Via Lattea un autoscontro stellare - News - ANSA.it",
         "type": "scatter",
         "uid": "6b713e33-c566-11e8-bbca-98541b5bf12b",
         "x": [
          5.137157800694706
         ],
         "y": [
          1.062136590071117
         ]
        },
        {
         "marker": {
          "color": "rgba(0, 0, 110, .8)",
          "size": 7
         },
         "mode": "markers",
         "text": "I fondatori di Instagram lasciano Facebook: ecco cosa faranno in futuro",
         "type": "scatter",
         "uid": "6b713e34-c566-11e8-bbca-98541b5bf12b",
         "x": [
          8.23398050691453
         ],
         "y": [
          0.06446623986447612
         ]
        },
        {
         "marker": {
          "color": "rgba(0, 0, 110, .8)",
          "size": 7
         },
         "mode": "markers",
         "text": "Nell'iPhone Day, Xiaomi lancia Mi 8 Pro - Hi-tech - ANSA.it",
         "type": "scatter",
         "uid": "6b713e35-c566-11e8-bbca-98541b5bf12b",
         "x": [
          5.376934893044438
         ],
         "y": [
          0.09111419520340677
         ]
        },
        {
         "marker": {
          "color": "rgba(0, 0, 110, .8)",
          "size": 7
         },
         "mode": "markers",
         "text": "Fb:ex moderatrice fa causa,traumatizzata - Internet e Social - ANSA.it",
         "type": "scatter",
         "uid": "6b713e36-c566-11e8-bbca-98541b5bf12b",
         "x": [
          1.3281352340886714
         ],
         "y": [
          1.1561171578872005
         ]
        },
        {
         "marker": {
          "color": "rgba(0, 0, 110, .8)",
          "size": 7
         },
         "mode": "markers",
         "text": "Da una miniera del Sulcis la spia della materia oscura - Fisica & Matematica - ANSA.it",
         "type": "scatter",
         "uid": "6b713e37-c566-11e8-bbca-98541b5bf12b",
         "x": [
          -1.8460365530884302
         ],
         "y": [
          -0.4271516629128724
         ]
        },
        {
         "marker": {
          "color": "rgba(0, 0, 110, .8)",
          "size": 7
         },
         "mode": "markers",
         "text": "Anche per Playstation Classic c'è operazione nostalgia - Hi-tech - ANSA.it",
         "type": "scatter",
         "uid": "6b713e38-c566-11e8-bbca-98541b5bf12b",
         "x": [
          -4.766190549526798
         ],
         "y": [
          0.18064106800649005
         ]
        },
        {
         "marker": {
          "color": "rgba(0, 0, 110, .8)",
          "size": 7
         },
         "mode": "markers",
         "text": "Google Home Mini lo speaker più venduto - Hi-tech - ANSA.it",
         "type": "scatter",
         "uid": "6b713e39-c566-11e8-bbca-98541b5bf12b",
         "x": [
          5.543991250435478
         ],
         "y": [
          -0.46280342488657394
         ]
        },
        {
         "marker": {
          "color": "rgba(0, 0, 110, .8)",
          "size": 7
         },
         "mode": "markers",
         "text": "E' Reggio Emilia la città più social d'Italia - Internet e Social - ANSA.it",
         "type": "scatter",
         "uid": "6b713e3a-c566-11e8-bbca-98541b5bf12b",
         "x": [
          -9.48718808835237
         ],
         "y": [
          -0.7656037191810213
         ]
        },
        {
         "marker": {
          "color": "rgba(0, 0, 110, .8)",
          "size": 7
         },
         "mode": "markers",
         "text": "Cellule della pelle sono state trasformate in neuroni - Biotech - ANSA.it",
         "type": "scatter",
         "uid": "6b713e3b-c566-11e8-bbca-98541b5bf12b",
         "x": [
          -5.6427001210542835
         ],
         "y": [
          0.011177218025999445
         ]
        },
        {
         "marker": {
          "color": "rgba(0, 0, 110, .8)",
          "size": 7
         },
         "mode": "markers",
         "text": "Facebook: ex moderatrice fa causa, traumatizzata da immagini - Hi-tech - ANSA.it",
         "type": "scatter",
         "uid": "6b713e3c-c566-11e8-bbca-98541b5bf12b",
         "x": [
          1.619039173326411
         ],
         "y": [
          1.5962206011259978
         ]
        },
        {
         "marker": {
          "color": "rgba(0, 0, 110, .8)",
          "size": 7
         },
         "mode": "markers",
         "text": "Notti più luminose con la Luna del raccolto - Spazio & Astronomia - ANSA.it",
         "type": "scatter",
         "uid": "6b713e3d-c566-11e8-bbca-98541b5bf12b",
         "x": [
          -6.519033580454013
         ],
         "y": [
          -0.9096428795421528
         ]
        },
        {
         "marker": {
          "color": "rgba(0, 0, 110, .8)",
          "size": 7
         },
         "mode": "markers",
         "text": "Questi 7 prodotti dodocool sono in sconto su Amazon per i prossimi giorni: ecco i coupon",
         "type": "scatter",
         "uid": "6b713e3e-c566-11e8-bbca-98541b5bf12b",
         "x": [
          9.375047101521954
         ],
         "y": [
          -0.7038760288782003
         ]
        },
        {
         "marker": {
          "color": "rgba(0, 0, 110, .8)",
          "size": 7
         },
         "mode": "markers",
         "text": "Accordo Dis-Samsung per promuovere cultura sicurezza - Tlc - ANSA.it",
         "type": "scatter",
         "uid": "6b713e3f-c566-11e8-bbca-98541b5bf12b",
         "x": [
          2.2708072402264365
         ],
         "y": [
          0.9138114298206786
         ]
        },
        {
         "marker": {
          "color": "rgba(0, 0, 110, .8)",
          "size": 7
         },
         "mode": "markers",
         "text": "E' l'equinozio d'autunno - Spazio & Astronomia - ANSA.it",
         "type": "scatter",
         "uid": "6b713e40-c566-11e8-bbca-98541b5bf12b",
         "x": [
          -15.28341760333638
         ],
         "y": [
          -0.8683827475834822
         ]
        },
        {
         "marker": {
          "color": "rgba(0, 0, 110, .8)",
          "size": 7
         },
         "mode": "markers",
         "text": "AirPower si surriscalda, slitta il lancio - Hi-tech - ANSA.it",
         "type": "scatter",
         "uid": "6b713e41-c566-11e8-bbca-98541b5bf12b",
         "x": [
          1.0921370069412564
         ],
         "y": [
          0.5428677343074609
         ]
        },
        {
         "marker": {
          "color": "rgba(0, 0, 110, .8)",
          "size": 7
         },
         "mode": "markers",
         "text": "Usa, causa contro Facebook per inserzioni discriminatorie - Internet e Social - ANSA.it",
         "type": "scatter",
         "uid": "6b713e42-c566-11e8-bbca-98541b5bf12b",
         "x": [
          5.574989699371735
         ],
         "y": [
          -0.1903112153257274
         ]
        },
        {
         "marker": {
          "color": "rgba(0, 0, 110, .8)",
          "size": 7
         },
         "mode": "markers",
         "text": "SpaceX: ecco come saranno le basi umane su Marte",
         "type": "scatter",
         "uid": "6b713e43-c566-11e8-bbca-98541b5bf12b",
         "x": [
          7.838218012659176
         ],
         "y": [
          -0.07304163329614154
         ]
        },
        {
         "marker": {
          "color": "rgba(0, 0, 110, .8)",
          "size": 7
         },
         "mode": "markers",
         "text": "Fb, 'war room' in vista voto Usa e Ue - Internet e Social - ANSA.it",
         "type": "scatter",
         "uid": "6b713e44-c566-11e8-bbca-98541b5bf12b",
         "x": [
          0.3133133355859016
         ],
         "y": [
          -0.38649902073776987
         ]
        },
        {
         "marker": {
          "color": "rgba(0, 0, 110, .8)",
          "size": 7
         },
         "mode": "markers",
         "text": "Wsj, Facebook ha trattato con le banche per i dati degli utenti - Internet e Social - ANSA.it",
         "type": "scatter",
         "uid": "6b713e45-c566-11e8-bbca-98541b5bf12b",
         "x": [
          -3.877545540861564
         ],
         "y": [
          -0.07598210748683612
         ]
        },
        {
         "marker": {
          "color": "rgba(0, 0, 110, .8)",
          "size": 7
         },
         "mode": "markers",
         "text": "Notte Europea dei Ricercatori, 12 città in festa per la scienza - Ricerca & Istituzioni - ANSA.it",
         "type": "scatter",
         "uid": "6b713e46-c566-11e8-bbca-98541b5bf12b",
         "x": [
          -9.548730835019223
         ],
         "y": [
          0.9573448622932633
         ]
        },
        {
         "marker": {
          "color": "rgba(0, 0, 110, .8)",
          "size": 7
         },
         "mode": "markers",
         "text": "iPhone, a Milano tutti in fila per i nuovi modelli - Tlc - ANSA.it",
         "type": "scatter",
         "uid": "6b713e47-c566-11e8-bbca-98541b5bf12b",
         "x": [
          4.495301296597143
         ],
         "y": [
          -0.8405407442926389
         ]
        },
        {
         "marker": {
          "color": "rgba(0, 0, 110, .8)",
          "size": 7
         },
         "mode": "markers",
         "text": "SpaceX: ecco come saranno le basi umane su Marte",
         "type": "scatter",
         "uid": "6b713e48-c566-11e8-bbca-98541b5bf12b",
         "x": [
          7.729471472974476
         ],
         "y": [
          -0.18988464320855888
         ]
        },
        {
         "marker": {
          "color": "rgba(0, 0, 110, .8)",
          "size": 7
         },
         "mode": "markers",
         "text": "Mirrorless, full frame, 47Mpixel e 24Mpixel: in arrivo le Panasonic Lumix S1R e S1 con attacco L-Mount",
         "type": "scatter",
         "uid": "6b713e49-c566-11e8-bbca-98541b5bf12b",
         "x": [
          0.5080553317145978
         ],
         "y": [
          -0.4751966422497782
         ]
        },
        {
         "marker": {
          "color": "rgba(0, 0, 110, .8)",
          "size": 7
         },
         "mode": "markers",
         "text": "Ecco il carattere che allunga i documenti, sogno di ogni studente - Hi-tech - ANSA.it",
         "type": "scatter",
         "uid": "6b713e4a-c566-11e8-bbca-98541b5bf12b",
         "x": [
          0.8655445297144586
         ],
         "y": [
          -1.9469488173604463
         ]
        },
        {
         "marker": {
          "color": "rgba(0, 0, 110, .8)",
          "size": 7
         },
         "mode": "markers",
         "text": "Annunciata la soluzione di un problema inseguito da 160 anni - Fisica & Matematica - ANSA.it",
         "type": "scatter",
         "uid": "6b713e4b-c566-11e8-bbca-98541b5bf12b",
         "x": [
          0.5803473957134767
         ],
         "y": [
          -0.44533951427120644
         ]
        },
        {
         "marker": {
          "color": "rgba(0, 0, 110, .8)",
          "size": 7
         },
         "mode": "markers",
         "text": "Vota i migliori produttori nell'European Hardware Community Awards 2018",
         "type": "scatter",
         "uid": "6b713e4c-c566-11e8-bbca-98541b5bf12b",
         "x": [
          -0.9005612587401158
         ],
         "y": [
          0.640310535397489
         ]
        },
        {
         "marker": {
          "color": "rgba(0, 0, 110, .8)",
          "size": 7
         },
         "mode": "markers",
         "text": "Futuri robot con pelle che sente il vento - Hi-tech - ANSA.it",
         "type": "scatter",
         "uid": "6b713e4d-c566-11e8-bbca-98541b5bf12b",
         "x": [
          -5.536876061756971
         ],
         "y": [
          2.042051888675383
         ]
        },
        {
         "marker": {
          "color": "rgba(0, 0, 110, .8)",
          "size": 7
         },
         "mode": "markers",
         "text": "Il primo display elettronico su pelle per monitorare la nostra salute",
         "type": "scatter",
         "uid": "6b713e4e-c566-11e8-bbca-98541b5bf12b",
         "x": [
          -4.909821478271628
         ],
         "y": [
          0.927770196685883
         ]
        },
        {
         "marker": {
          "color": "rgba(0, 0, 110, .8)",
          "size": 7
         },
         "mode": "markers",
         "text": "Apple, no a violenza e sesso in show tv - Internet e Social - ANSA.it",
         "type": "scatter",
         "uid": "6b713e4f-c566-11e8-bbca-98541b5bf12b",
         "x": [
          1.3641592314799675
         ],
         "y": [
          0.5124735158195609
         ]
        },
        {
         "marker": {
          "color": "rgba(0, 0, 110, .8)",
          "size": 7
         },
         "mode": "markers",
         "text": "Huawei Mate 20 Lite: un midrange dall'ottima autonomia. La recensione",
         "type": "scatter",
         "uid": "6b713e50-c566-11e8-bbca-98541b5bf12b",
         "x": [
          0.6245119417256715
         ],
         "y": [
          0.8161413211916353
         ]
        },
        {
         "marker": {
          "color": "rgba(0, 0, 110, .8)",
          "size": 7
         },
         "mode": "markers",
         "text": "iPhone Xs Max tira 3-4 volte più dell'Xs - Hi-tech - ANSA.it",
         "type": "scatter",
         "uid": "6b713e51-c566-11e8-bbca-98541b5bf12b",
         "x": [
          8.714980177757777
         ],
         "y": [
          0.21718800297955565
         ]
        },
        {
         "marker": {
          "color": "rgba(0, 0, 110, .8)",
          "size": 7
         },
         "mode": "markers",
         "text": "Marte, il sottosuolo può avere ospitato la vita - Spazio & Astronomia - ANSA.it",
         "type": "scatter",
         "uid": "6b713e52-c566-11e8-bbca-98541b5bf12b",
         "x": [
          -4.935311258721782
         ],
         "y": [
          -1.1084175273371875
         ]
        },
        {
         "marker": {
          "color": "rgba(0, 0, 110, .8)",
          "size": 7
         },
         "mode": "markers",
         "text": "Un nuovo collega per gli esperti di riconoscimento facciale: l'intelligenza artificiale",
         "type": "scatter",
         "uid": "6b713e53-c566-11e8-bbca-98541b5bf12b",
         "x": [
          2.2664800162309326
         ],
         "y": [
          0.7650758601075532
         ]
        },
        {
         "marker": {
          "color": "rgba(0, 0, 110, .8)",
          "size": 7
         },
         "mode": "markers",
         "text": "Hit Refresh,il Ceo Microsoft si racconta - Internet e Social - ANSA.it",
         "type": "scatter",
         "uid": "6b713e54-c566-11e8-bbca-98541b5bf12b",
         "x": [
          -6.711856644692813
         ],
         "y": [
          0.4046075790128238
         ]
        },
        {
         "marker": {
          "color": "rgba(0, 0, 110, .8)",
          "size": 7
         },
         "mode": "markers",
         "text": "Snapchat, shopping online su Amazon - Software e App - ANSA.it",
         "type": "scatter",
         "uid": "6b713e55-c566-11e8-bbca-98541b5bf12b",
         "x": [
          6.692051378030531
         ],
         "y": [
          -0.47654218802690795
         ]
        },
        {
         "marker": {
          "color": "rgba(0, 0, 110, .8)",
          "size": 7
         },
         "mode": "markers",
         "text": "Trovata la lettera che costo' a Galileo l'accusa di eresia - Spazio & Astronomia - ANSA.it",
         "type": "scatter",
         "uid": "6b713e56-c566-11e8-bbca-98541b5bf12b",
         "x": [
          -4.855729001458425
         ],
         "y": [
          0.12854889767522837
         ]
        },
        {
         "marker": {
          "color": "rgba(0, 0, 110, .8)",
          "size": 7
         },
         "mode": "markers",
         "text": "Aperta indagine penale su Tesla dopo tweet di Musk - Hi-tech - ANSA.it",
         "type": "scatter",
         "uid": "6b713e57-c566-11e8-bbca-98541b5bf12b",
         "x": [
          9.090350046615955
         ],
         "y": [
          0.13681600839821417
         ]
        },
        {
         "marker": {
          "color": "rgba(0, 0, 110, .8)",
          "size": 7
         },
         "mode": "markers",
         "text": "In arrivo una rivoluzione nella diagnostica medica: una tecnologia sensibile alla singola molecola",
         "type": "scatter",
         "uid": "6b713e58-c566-11e8-bbca-98541b5bf12b",
         "x": [
          -13.426114035814939
         ],
         "y": [
          -0.9260550350678536
         ]
        },
        {
         "marker": {
          "color": "rgba(0, 0, 110, .8)",
          "size": 7
         },
         "mode": "markers",
         "text": "Mai più batterie che prendono fuoco",
         "type": "scatter",
         "uid": "6b713e59-c566-11e8-bbca-98541b5bf12b",
         "x": [
          -10.93560941134793
         ],
         "y": [
          1.8729429089357281
         ]
        },
        {
         "marker": {
          "color": "rgba(0, 0, 110, .8)",
          "size": 7
         },
         "mode": "markers",
         "text": "La più grande luna di Saturno sotto una tempesta di polvere - Spazio & Astronomia - ANSA.it",
         "type": "scatter",
         "uid": "6b713e5a-c566-11e8-bbca-98541b5bf12b",
         "x": [
          -8.203404206779423
         ],
         "y": [
          -1.3872187328197025
         ]
        },
        {
         "marker": {
          "color": "rgba(0, 0, 110, .8)",
          "size": 7
         },
         "mode": "markers",
         "text": "Wef, con robot più lavoro, ma competenze da creare - Hi-tech - ANSA.it",
         "type": "scatter",
         "uid": "6b713e5b-c566-11e8-bbca-98541b5bf12b",
         "x": [
          -5.717955239904909
         ],
         "y": [
          -0.04590161785927232
         ]
        },
        {
         "marker": {
          "color": "rgba(0, 0, 110, .8)",
          "size": 7
         },
         "mode": "markers",
         "text": "Surface Hub 2 al debutto dal 2019, con una seconda versione nel 2020",
         "type": "scatter",
         "uid": "6b713e5c-c566-11e8-bbca-98541b5bf12b",
         "x": [
          -2.3601611940760083
         ],
         "y": [
          1.1481363198865884
         ]
        },
        {
         "marker": {
          "color": "rgba(0, 0, 110, .8)",
          "size": 7
         },
         "mode": "markers",
         "text": "È il momento giusto per comprare un telefono rugged, secondo Blackview",
         "type": "scatter",
         "uid": "6b713e5d-c566-11e8-bbca-98541b5bf12b",
         "x": [
          6.02092522209437
         ],
         "y": [
          -0.8772543601678596
         ]
        },
        {
         "marker": {
          "color": "rgba(0, 0, 110, .8)",
          "size": 7
         },
         "mode": "markers",
         "text": "Twitter, si potrà tornare a cronologia tweet - Internet e Social - ANSA.it",
         "type": "scatter",
         "uid": "6b713e5e-c566-11e8-bbca-98541b5bf12b",
         "x": [
          10.565937193618373
         ],
         "y": [
          0.4666683046126711
         ]
        },
        {
         "marker": {
          "color": "rgba(0, 0, 110, .8)",
          "size": 7
         },
         "mode": "markers",
         "text": "Irix 150mm F2.8 per full frame con attacchi Canon EF, Nikon F e Pentax K a bassissima distorsione",
         "type": "scatter",
         "uid": "6b713e5f-c566-11e8-bbca-98541b5bf12b",
         "x": [
          -7.112810477239846
         ],
         "y": [
          0.09957880328568161
         ]
        },
        {
         "marker": {
          "color": "rgba(0, 0, 110, .8)",
          "size": 7
         },
         "mode": "markers",
         "text": "Arriva in Italia Google Pay, sfida a Apple - Tlc - ANSA.it",
         "type": "scatter",
         "uid": "6b713e60-c566-11e8-bbca-98541b5bf12b",
         "x": [
          -1.9577254738681613
         ],
         "y": [
          0.2823231295626341
         ]
        },
        {
         "marker": {
          "color": "rgba(0, 0, 110, .8)",
          "size": 7
         },
         "mode": "markers",
         "text": "Facebook: ex moderatrice fa causa, traumatizzata da immagini - Hi-tech - ANSA.it",
         "type": "scatter",
         "uid": "6b713e61-c566-11e8-bbca-98541b5bf12b",
         "x": [
          1.8248954793538528
         ],
         "y": [
          2.1441107681941696
         ]
        },
        {
         "marker": {
          "color": "rgba(0, 0, 110, .8)",
          "size": 7
         },
         "mode": "markers",
         "text": "SoFi, un soft robot per studiare la vita nell’oceano",
         "type": "scatter",
         "uid": "6b713e62-c566-11e8-bbca-98541b5bf12b",
         "x": [
          -3.6014266521000446
         ],
         "y": [
          -0.829827853415135
         ]
        },
        {
         "marker": {
          "color": "rgba(0, 0, 110, .8)",
          "size": 7
         },
         "mode": "markers",
         "text": "Instagram sfida Amazon sullo shopping - Internet e Social - ANSA.it",
         "type": "scatter",
         "uid": "6b713e63-c566-11e8-bbca-98541b5bf12b",
         "x": [
          2.2919354209084153
         ],
         "y": [
          0.49182739471591735
         ]
        },
        {
         "marker": {
          "color": "rgba(0, 0, 110, .8)",
          "size": 7
         },
         "mode": "markers",
         "text": "Apple conta le telefonate contro le frodi - Hi-tech - ANSA.it",
         "type": "scatter",
         "uid": "6b713e64-c566-11e8-bbca-98541b5bf12b",
         "x": [
          6.506318504415954
         ],
         "y": [
          -0.6187382262032304
         ]
        },
        {
         "marker": {
          "color": "rgba(0, 0, 110, .8)",
          "size": 7
         },
         "mode": "markers",
         "text": "RFID: dalle etichette dei supermercati a sensori per l'ambiente",
         "type": "scatter",
         "uid": "6b713e65-c566-11e8-bbca-98541b5bf12b",
         "x": [
          -8.826066102430358
         ],
         "y": [
          3.23066367678065
         ]
        },
        {
         "marker": {
          "color": "rgba(0, 0, 110, .8)",
          "size": 7
         },
         "mode": "markers",
         "text": "Wsj, Facebook ha trattato con le banche per i dati degli utenti - Internet e Social - ANSA.it",
         "type": "scatter",
         "uid": "6b713e66-c566-11e8-bbca-98541b5bf12b",
         "x": [
          -3.837185428322734
         ],
         "y": [
          -0.20609711647631412
         ]
        },
        {
         "marker": {
          "color": "rgba(0, 0, 110, .8)",
          "size": 7
         },
         "mode": "markers",
         "text": "Usa, causa contro Facebook per inserzioni discriminatorie - Internet e Social - ANSA.it",
         "type": "scatter",
         "uid": "6b713e67-c566-11e8-bbca-98541b5bf12b",
         "x": [
          5.714762397958198
         ],
         "y": [
          -1.0641862087613971
         ]
        },
        {
         "marker": {
          "color": "rgba(0, 0, 110, .8)",
          "size": 7
         },
         "mode": "markers",
         "text": "Fb, 'war room' in vista voto Usa e Ue - Internet e Social - ANSA.it",
         "type": "scatter",
         "uid": "6b713e68-c566-11e8-bbca-98541b5bf12b",
         "x": [
          -0.05699980736583832
         ],
         "y": [
          0.2801855783810412
         ]
        },
        {
         "marker": {
          "color": "rgba(0, 0, 110, .8)",
          "size": 7
         },
         "mode": "markers",
         "text": "Annunciata la soluzione di un problema inseguito da 160 anni - Fisica & Matematica - ANSA.it",
         "type": "scatter",
         "uid": "6b713e69-c566-11e8-bbca-98541b5bf12b",
         "x": [
          0.4266589419951776
         ],
         "y": [
          -0.45369161862846974
         ]
        },
        {
         "marker": {
          "color": "rgba(0, 0, 110, .8)",
          "size": 7
         },
         "mode": "markers",
         "text": "Notti più luminose con la Luna del raccolto - Spazio & Astronomia - ANSA.it",
         "type": "scatter",
         "uid": "6b713e6a-c566-11e8-bbca-98541b5bf12b",
         "x": [
          -6.81302733489197
         ],
         "y": [
          -0.36587119232595877
         ]
        },
        {
         "marker": {
          "color": "rgba(0, 0, 110, .8)",
          "size": 7
         },
         "mode": "markers",
         "text": "Le auto a guida autonoma migliorano il flusso del traffico",
         "type": "scatter",
         "uid": "6b713e6b-c566-11e8-bbca-98541b5bf12b",
         "x": [
          -1.6774076609154234
         ],
         "y": [
          0.9811305939982522
         ]
        },
        {
         "marker": {
          "color": "rgba(0, 0, 110, .8)",
          "size": 7
         },
         "mode": "markers",
         "text": "Kingston, disponibili gli SSD HyperX Fury RGB: un tocco di colore alle ''solite'' unità 2,5''",
         "type": "scatter",
         "uid": "6b713e6c-c566-11e8-bbca-98541b5bf12b",
         "x": [
          9.813321116972658
         ],
         "y": [
          0.0716118508696293
         ]
        },
        {
         "marker": {
          "color": "rgba(0, 0, 110, .8)",
          "size": 7
         },
         "mode": "markers",
         "text": "Il primo esofago costruito in laboratorio - Biotech - ANSA.it",
         "type": "scatter",
         "uid": "6b713e6d-c566-11e8-bbca-98541b5bf12b",
         "x": [
          1.2197821883535687
         ],
         "y": [
          -0.20219364115562805
         ]
        },
        {
         "marker": {
          "color": "rgba(0, 0, 110, .8)",
          "size": 7
         },
         "mode": "markers",
         "text": "Soffici e magnetici: sono i nuovi robot ideati dal MIT",
         "type": "scatter",
         "uid": "6b713e6e-c566-11e8-bbca-98541b5bf12b",
         "x": [
          -9.145945089630155
         ],
         "y": [
          -1.0462752161433835
         ]
        },
        {
         "marker": {
          "color": "rgba(0, 0, 110, .8)",
          "size": 7
         },
         "mode": "markers",
         "text": "La Terra come Venere, potrebbe avere un futuro bollente - Terra & Poli - ANSA.it",
         "type": "scatter",
         "uid": "6b713e6f-c566-11e8-bbca-98541b5bf12b",
         "x": [
          -0.29660249026796476
         ],
         "y": [
          0.6204341894052429
         ]
        },
        {
         "marker": {
          "color": "rgba(0, 0, 110, .8)",
          "size": 7
         },
         "mode": "markers",
         "text": "Malaria, una reazione a catena genetica annienta le zanzare - Biotech - ANSA.it",
         "type": "scatter",
         "uid": "6b713e70-c566-11e8-bbca-98541b5bf12b",
         "x": [
          -7.216719177665372
         ],
         "y": [
          0.6038699686630652
         ]
        },
        {
         "marker": {
          "color": "rgba(0, 0, 110, .8)",
          "size": 7
         },
         "mode": "markers",
         "text": "E' Reggio Emilia la città più social d'Italia - Internet e Social - ANSA.it",
         "type": "scatter",
         "uid": "6b713e71-c566-11e8-bbca-98541b5bf12b",
         "x": [
          -9.589482290705565
         ],
         "y": [
          -0.9575994456550279
         ]
        },
        {
         "marker": {
          "color": "rgba(0, 0, 110, .8)",
          "size": 7
         },
         "mode": "markers",
         "text": "Nature, due italiani fra gli 11 ricercatori emergenti - Ricerca & Istituzioni - ANSA.it",
         "type": "scatter",
         "uid": "6b713e72-c566-11e8-bbca-98541b5bf12b",
         "x": [
          -4.81021328198583
         ],
         "y": [
          -0.48143727333165826
         ]
        },
        {
         "marker": {
          "color": "rgba(0, 0, 110, .8)",
          "size": 7
         },
         "mode": "markers",
         "text": "Il gene che al mattino risveglia i fiori - Biotech - ANSA.it",
         "type": "scatter",
         "uid": "6b713e73-c566-11e8-bbca-98541b5bf12b",
         "x": [
          -2.5847555770722948
         ],
         "y": [
          -0.1603751177969261
         ]
        },
        {
         "marker": {
          "color": "rgba(0, 0, 110, .8)",
          "size": 7
         },
         "mode": "markers",
         "text": "Un robot per l’autismo: le terapie incontrano l'intelligenza artificiale",
         "type": "scatter",
         "uid": "6b713e74-c566-11e8-bbca-98541b5bf12b",
         "x": [
          -7.985910218002746
         ],
         "y": [
          3.7848542369519813
         ]
        },
        {
         "marker": {
          "color": "rgba(0, 0, 110, .8)",
          "size": 7
         },
         "mode": "markers",
         "text": "V-Rally 4, disponibile da oggi la versione PC",
         "type": "scatter",
         "uid": "6b713e75-c566-11e8-bbca-98541b5bf12b",
         "x": [
          -8.772382989560246
         ],
         "y": [
          -3.569127913135573
         ]
        },
        {
         "marker": {
          "color": "rgba(0, 0, 110, .8)",
          "size": 7
         },
         "mode": "markers",
         "text": "L’impronta fossile dell'animale più antico - News - ANSA.it",
         "type": "scatter",
         "uid": "6b713e76-c566-11e8-bbca-98541b5bf12b",
         "x": [
          -2.01440554419599
         ],
         "y": [
          0.04909532438981297
         ]
        },
        {
         "marker": {
          "color": "rgba(0, 0, 110, .8)",
          "size": 7
         },
         "mode": "markers",
         "text": "Come addomesticare un ragno per capire i segreti dei suoi salti",
         "type": "scatter",
         "uid": "6b713e77-c566-11e8-bbca-98541b5bf12b",
         "x": [
          -3.557655171836628
         ],
         "y": [
          -1.1070621287155165
         ]
        },
        {
         "marker": {
          "color": "rgba(0, 0, 110, .8)",
          "size": 7
         },
         "mode": "markers",
         "text": "È possibile che un robot possa utilizzare la teoria della mente?",
         "type": "scatter",
         "uid": "6b713e78-c566-11e8-bbca-98541b5bf12b",
         "x": [
          -10.524775148094188
         ],
         "y": [
          5.22962225439918
         ]
        },
        {
         "marker": {
          "color": "rgba(0, 0, 110, .8)",
          "size": 7
         },
         "mode": "markers",
         "text": "Meglio di un ologramma: quando una particella intrappolata dà vita a un’immagine 3D",
         "type": "scatter",
         "uid": "6b713e79-c566-11e8-bbca-98541b5bf12b",
         "x": [
          -4.1195832561616585
         ],
         "y": [
          0.7812726333836323
         ]
        },
        {
         "marker": {
          "color": "rgba(0, 0, 110, .8)",
          "size": 7
         },
         "mode": "markers",
         "text": "Mattarella nei laboratori dell'Enea - Ricerca & Istituzioni - ANSA.it",
         "type": "scatter",
         "uid": "6b713e7a-c566-11e8-bbca-98541b5bf12b",
         "x": [
          4.573867955154506
         ],
         "y": [
          -0.08545692784099294
         ]
        },
        {
         "marker": {
          "color": "rgba(0, 0, 110, .8)",
          "size": 7
         },
         "mode": "markers",
         "text": "Immagini mozzafiato delle nubi blu che brillano ai poli - Spazio & Astronomia - ANSA.it",
         "type": "scatter",
         "uid": "6b713e7b-c566-11e8-bbca-98541b5bf12b",
         "x": [
          -10.699624455344736
         ],
         "y": [
          -4.094548388615846
         ]
        },
        {
         "marker": {
          "color": "rgba(0, 0, 110, .8)",
          "size": 7
         },
         "mode": "markers",
         "text": "Primi scatti dall'asteroide Ryugu - Spazio & Astronomia - ANSA.it",
         "type": "scatter",
         "uid": "6b713e7c-c566-11e8-bbca-98541b5bf12b",
         "x": [
          -6.262913734492559
         ],
         "y": [
          -3.002509379854717
         ]
        },
        {
         "marker": {
          "color": "rgba(0, 0, 110, .8)",
          "size": 7
         },
         "mode": "markers",
         "text": "Microsoft Office 2019 è ora disponibile per Windows e macOS",
         "type": "scatter",
         "uid": "6b713e7d-c566-11e8-bbca-98541b5bf12b",
         "x": [
          11.453456353441485
         ],
         "y": [
          -0.7807963917774053
         ]
        },
        {
         "marker": {
          "color": "rgba(0, 0, 110, .8)",
          "size": 7
         },
         "mode": "markers",
         "text": "Microsoft,40mln per AI a scopi umanitari - Hi-tech - ANSA.it",
         "type": "scatter",
         "uid": "6b713e7e-c566-11e8-bbca-98541b5bf12b",
         "x": [
          5.60819404394526
         ],
         "y": [
          0.23447274251481676
         ]
        },
        {
         "marker": {
          "color": "rgba(0, 0, 110, .8)",
          "size": 7
         },
         "mode": "markers",
         "text": "Skiller Mech SGK3 è una tastiera meccanica che dà controllo totale ai giocatori",
         "type": "scatter",
         "uid": "6b713e7f-c566-11e8-bbca-98541b5bf12b",
         "x": [
          -0.6742608781096747
         ],
         "y": [
          0.3891535595888325
         ]
        },
        {
         "marker": {
          "color": "rgba(0, 0, 110, .8)",
          "size": 7
         },
         "mode": "markers",
         "text": "Un sensore applicato su un dente potrà tracciare i nostri pasti",
         "type": "scatter",
         "uid": "6b713e80-c566-11e8-bbca-98541b5bf12b",
         "x": [
          -7.918603501931567
         ],
         "y": [
          1.3295180586981679
         ]
        },
        {
         "marker": {
          "color": "rgba(0, 0, 110, .8)",
          "size": 7
         },
         "mode": "markers",
         "text": "Amazon vuole aprire 3mila alimentari - Hi-tech - ANSA.it",
         "type": "scatter",
         "uid": "6b713e81-c566-11e8-bbca-98541b5bf12b",
         "x": [
          -1.3073951657723508
         ],
         "y": [
          -1.996356957085167
         ]
        },
        {
         "marker": {
          "color": "rgba(0, 0, 110, .8)",
          "size": 7
         },
         "mode": "markers",
         "text": "Un nuovo metodo per identificare la chiralità di una molecola",
         "type": "scatter",
         "uid": "6b713e82-c566-11e8-bbca-98541b5bf12b",
         "x": [
          -4.1852550317674
         ],
         "y": [
          0.7032395665635789
         ]
        },
        {
         "marker": {
          "color": "rgba(0, 0, 110, .8)",
          "size": 7
         },
         "mode": "markers",
         "text": "Kaspersky,gli Usa ci hanno preso di mira - Internet e Social - ANSA.it",
         "type": "scatter",
         "uid": "6b713e83-c566-11e8-bbca-98541b5bf12b",
         "x": [
          2.927247867012096
         ],
         "y": [
          -0.39526007340671027
         ]
        },
        {
         "marker": {
          "color": "rgba(0, 0, 110, .8)",
          "size": 7
         },
         "mode": "markers",
         "text": "L-Mount: Leica, Panasonic e Sigma all'attacco del settore mirrorless full frame e APS-C",
         "type": "scatter",
         "uid": "6b713e84-c566-11e8-bbca-98541b5bf12b",
         "x": [
          1.257189946624163
         ],
         "y": [
          -0.06340009154091529
         ]
        },
        {
         "marker": {
          "color": "rgba(0, 0, 110, .8)",
          "size": 7
         },
         "mode": "markers",
         "text": "Soft robot: la rivoluzione morbida",
         "type": "scatter",
         "uid": "6b713e85-c566-11e8-bbca-98541b5bf12b",
         "x": [
          -2.473129254963067
         ],
         "y": [
          0.5598138103673367
         ]
        },
        {
         "marker": {
          "color": "rgba(0, 0, 110, .8)",
          "size": 7
         },
         "mode": "markers",
         "text": "Facebook e Google nel mirino di Trump - Internet e Social - ANSA.it",
         "type": "scatter",
         "uid": "6b713e86-c566-11e8-bbca-98541b5bf12b",
         "x": [
          3.7639904541704365
         ],
         "y": [
          0.4880283404972331
         ]
        },
        {
         "marker": {
          "color": "rgba(0, 0, 110, .8)",
          "size": 7
         },
         "mode": "markers",
         "text": "Amazon, a Roma porta il pecorino a casa - Internet e Social - ANSA.it",
         "type": "scatter",
         "uid": "6b713e87-c566-11e8-bbca-98541b5bf12b",
         "x": [
          0.5907390635168644
         ],
         "y": [
          0.2304436650543486
         ]
        },
        {
         "marker": {
          "color": "rgba(0, 0, 110, .8)",
          "size": 7
         },
         "mode": "markers",
         "text": "Tifosi svizzeri bloccano una partita di calcio per protesta contro gli eSport",
         "type": "scatter",
         "uid": "6b713e88-c566-11e8-bbca-98541b5bf12b",
         "x": [
          12.01959576776051
         ],
         "y": [
          0.9471607351926892
         ]
        },
        {
         "marker": {
          "color": "rgba(0, 0, 110, .8)",
          "size": 7
         },
         "mode": "markers",
         "text": "California, legge proteggerà da hacker oggetti connessi - Tlc - ANSA.it",
         "type": "scatter",
         "uid": "6b713e89-c566-11e8-bbca-98541b5bf12b",
         "x": [
          0.5104110454058496
         ],
         "y": [
          0.20037616532449362
         ]
        },
        {
         "marker": {
          "color": "rgba(0, 0, 110, .8)",
          "size": 7
         },
         "mode": "markers",
         "text": "Samsung, i nuovi Galaxy J6+ e J4+ - Tlc - ANSA.it",
         "type": "scatter",
         "uid": "6b713e8a-c566-11e8-bbca-98541b5bf12b",
         "x": [
          0.5768110865383153
         ],
         "y": [
          0.7758004819439451
         ]
        },
        {
         "marker": {
          "color": "rgba(0, 0, 110, .8)",
          "size": 7
         },
         "mode": "markers",
         "text": "Cellule della pelle sono state trasformate in neuroni - Biotech - ANSA.it",
         "type": "scatter",
         "uid": "6b713e8b-c566-11e8-bbca-98541b5bf12b",
         "x": [
          -6.280563290039417
         ],
         "y": [
          1.2461682885128245
         ]
        },
        {
         "marker": {
          "color": "rgba(0, 0, 110, .8)",
          "size": 7
         },
         "mode": "markers",
         "text": "Tingersi i capelli con il grafene",
         "type": "scatter",
         "uid": "6b713e8c-c566-11e8-bbca-98541b5bf12b",
         "x": [
          -5.097537732132155
         ],
         "y": [
          1.082743826030641
         ]
        },
        {
         "marker": {
          "color": "rgba(0, 0, 110, .8)",
          "size": 7
         },
         "mode": "markers",
         "text": "I co-fondatori di Instagram lasciano la società - Internet e Social - ANSA.it",
         "type": "scatter",
         "uid": "6b713e8d-c566-11e8-bbca-98541b5bf12b",
         "x": [
          10.5210249380928
         ],
         "y": [
          -0.32865225441620277
         ]
        },
        {
         "marker": {
          "color": "rgba(0, 0, 110, .8)",
          "size": 7
         },
         "mode": "markers",
         "text": "Anche per Playstation Classic c'è operazione nostalgia - Hi-tech - ANSA.it",
         "type": "scatter",
         "uid": "6b713e8e-c566-11e8-bbca-98541b5bf12b",
         "x": [
          -4.8915423631570745
         ],
         "y": [
          1.0359190915385512
         ]
        },
        {
         "marker": {
          "color": "rgba(0, 0, 110, .8)",
          "size": 7
         },
         "mode": "markers",
         "text": "I fondatori di Instagram lasciano Facebook: ecco cosa faranno in futuro",
         "type": "scatter",
         "uid": "6b713e8f-c566-11e8-bbca-98541b5bf12b",
         "x": [
          7.751678215699747
         ],
         "y": [
          0.10265186999309282
         ]
        },
        {
         "marker": {
          "color": "rgba(0, 0, 110, .8)",
          "size": 7
         },
         "mode": "markers",
         "text": "Come spezzare uno spaghetto in due? Lo spiega il MIT",
         "type": "scatter",
         "uid": "6b713e90-c566-11e8-bbca-98541b5bf12b",
         "x": [
          -9.846075399181876
         ],
         "y": [
          1.051221982575073
         ]
        },
        {
         "marker": {
          "color": "rgba(0, 0, 110, .8)",
          "size": 7
         },
         "mode": "markers",
         "text": "AirPower si surriscalda, slitta il lancio - Hi-tech - ANSA.it",
         "type": "scatter",
         "uid": "6b713e91-c566-11e8-bbca-98541b5bf12b",
         "x": [
          1.0763488694239605
         ],
         "y": [
          0.8594513073078408
         ]
        },
        {
         "marker": {
          "color": "rgba(0, 0, 110, .8)",
          "size": 7
         },
         "mode": "markers",
         "text": "TIM, minuti illimitati e 50GB a 9,99 Euro, ma solo per pochi giorni: ecco come fare per averla",
         "type": "scatter",
         "uid": "6b713e92-c566-11e8-bbca-98541b5bf12b",
         "x": [
          16.825713538535215
         ],
         "y": [
          -0.022100720888162586
         ]
        },
        {
         "marker": {
          "color": "rgba(0, 0, 110, .8)",
          "size": 7
         },
         "mode": "markers",
         "text": "Accordo Dis-Samsung per promuovere cultura sicurezza - Tlc - ANSA.it",
         "type": "scatter",
         "uid": "6b713e93-c566-11e8-bbca-98541b5bf12b",
         "x": [
          2.219557572195732
         ],
         "y": [
          1.4512780428416219
         ]
        },
        {
         "marker": {
          "color": "rgba(0, 0, 110, .8)",
          "size": 7
         },
         "mode": "markers",
         "text": "Ecco il carattere che allunga i documenti, sogno di ogni studente - Hi-tech - ANSA.it",
         "type": "scatter",
         "uid": "6b713e94-c566-11e8-bbca-98541b5bf12b",
         "x": [
          0.35279495672229017
         ],
         "y": [
          -1.7486398357341344
         ]
        },
        {
         "marker": {
          "color": "rgba(0, 0, 110, .8)",
          "size": 7
         },
         "mode": "markers",
         "text": "Google Home Mini lo speaker più venduto - Hi-tech - ANSA.it",
         "type": "scatter",
         "uid": "6b713e95-c566-11e8-bbca-98541b5bf12b",
         "x": [
          5.126483938420399
         ],
         "y": [
          0.37497288472357915
         ]
        },
        {
         "marker": {
          "color": "rgba(0, 0, 110, .8)",
          "size": 7
         },
         "mode": "markers",
         "text": "E' l'equinozio d'autunno - Spazio & Astronomia - ANSA.it",
         "type": "scatter",
         "uid": "6b713e96-c566-11e8-bbca-98541b5bf12b",
         "x": [
          -15.162158957439933
         ],
         "y": [
          0.19166147984402174
         ]
        },
        {
         "marker": {
          "color": "rgba(0, 0, 110, .8)",
          "size": 7
         },
         "mode": "markers",
         "text": "iPhone, a Milano tutti in fila per i nuovi modelli - Tlc - ANSA.it",
         "type": "scatter",
         "uid": "6b713e97-c566-11e8-bbca-98541b5bf12b",
         "x": [
          4.744031589881062
         ],
         "y": [
          0.503985958642525
         ]
        },
        {
         "marker": {
          "color": "rgba(0, 0, 110, .8)",
          "size": 7
         },
         "mode": "markers",
         "text": "Fb:ex moderatrice fa causa,traumatizzata - Internet e Social - ANSA.it",
         "type": "scatter",
         "uid": "6b713e98-c566-11e8-bbca-98541b5bf12b",
         "x": [
          1.4345248798749124
         ],
         "y": [
          1.2644454877163258
         ]
        },
        {
         "marker": {
          "color": "rgba(0, 0, 110, .8)",
          "size": 7
         },
         "mode": "markers",
         "text": "Serre marziane, all'Enea crescono le super-piante del futuro - Biotech - ANSA.it",
         "type": "scatter",
         "uid": "6b713e99-c566-11e8-bbca-98541b5bf12b",
         "x": [
          -6.024049635046341
         ],
         "y": [
          0.8968716118086462
         ]
        },
        {
         "marker": {
          "color": "rgba(0, 0, 110, .8)",
          "size": 7
         },
         "mode": "markers",
         "text": "Bolide sul cielo della Sardegna, il terzo dell'estate - Spazio & Astronomia - ANSA.it",
         "type": "scatter",
         "uid": "6b713e9a-c566-11e8-bbca-98541b5bf12b",
         "x": [
          -9.95795826438652
         ],
         "y": [
          -5.097760097151035
         ]
        },
        {
         "marker": {
          "color": "rgba(0, 0, 110, .8)",
          "size": 7
         },
         "mode": "markers",
         "text": "SpaceX: ecco come saranno le basi umane su Marte",
         "type": "scatter",
         "uid": "6b713e9b-c566-11e8-bbca-98541b5bf12b",
         "x": [
          7.484228203758866
         ],
         "y": [
          -0.5905982339327929
         ]
        },
        {
         "marker": {
          "color": "rgba(0, 0, 110, .8)",
          "size": 7
         },
         "mode": "markers",
         "text": "Notte Europea dei Ricercatori, 12 città in festa per la scienza - Ricerca & Istituzioni - ANSA.it",
         "type": "scatter",
         "uid": "6b713e9c-c566-11e8-bbca-98541b5bf12b",
         "x": [
          -9.547334568106821
         ],
         "y": [
          1.1779709831024867
         ]
        },
        {
         "marker": {
          "color": "rgba(0, 0, 110, .8)",
          "size": 7
         },
         "mode": "markers",
         "text": "SpaceX: ecco come saranno le basi umane su Marte",
         "type": "scatter",
         "uid": "6b713e9d-c566-11e8-bbca-98541b5bf12b",
         "x": [
          7.839816295045773
         ],
         "y": [
          -0.01590304011314363
         ]
        },
        {
         "marker": {
          "color": "rgba(0, 0, 110, .8)",
          "size": 7
         },
         "mode": "markers",
         "text": "Questi 7 prodotti dodocool sono in sconto su Amazon per i prossimi giorni: ecco i coupon",
         "type": "scatter",
         "uid": "6b713e9e-c566-11e8-bbca-98541b5bf12b",
         "x": [
          9.77480963391096
         ],
         "y": [
          -0.5704865973104032
         ]
        },
        {
         "marker": {
          "color": "rgba(0, 0, 110, .8)",
          "size": 7
         },
         "mode": "markers",
         "text": "Mirrorless, full frame, 47Mpixel e 24Mpixel: in arrivo le Panasonic Lumix S1R e S1 con attacco L-Mount",
         "type": "scatter",
         "uid": "6b713e9f-c566-11e8-bbca-98541b5bf12b",
         "x": [
          0.6154223277576254
         ],
         "y": [
          -0.5723469495218151
         ]
        },
        {
         "marker": {
          "color": "rgba(0, 0, 110, .8)",
          "size": 7
         },
         "mode": "markers",
         "text": "Come usare i kirigami per far muovere un soft robot",
         "type": "scatter",
         "uid": "6b713ea0-c566-11e8-bbca-98541b5bf12b",
         "x": [
          -7.0681377240177135
         ],
         "y": [
          0.21947252699304687
         ]
        }
       ],
       "layout": {
        "hovermode": "closest",
        "showlegend": false,
        "title": "PCA Representantion of DocVectors",
        "xaxis": {
         "gridwidth": 2,
         "ticklen": 5,
         "title": "first component"
        },
        "yaxis": {
         "gridwidth": 2,
         "ticklen": 5,
         "title": "second component"
        }
       }
      }
     },
     "metadata": {},
     "output_type": "display_data"
    },
    {
     "data": {
      "application/vnd.plotly.v1+json": {
       "data": [
        {
         "marker": {
          "color": "rgba(0, 0, 110, .8)",
          "size": 7
         },
         "mode": "markers",
         "text": "Lg G7 ThinQ, super schermo e audio al top: lo smartphone che ha ben poco da invidiare - Repubblica.it",
         "type": "scatter",
         "uid": "6ce49d46-c566-11e8-bbca-98541b5bf12b",
         "x": [
          -3.890068345020703
         ],
         "y": [
          -1.9860421974074935
         ]
        },
        {
         "marker": {
          "color": "rgba(0, 0, 110, .8)",
          "size": 7
         },
         "mode": "markers",
         "text": "Microsoft e Lobe: l’intelligenza artificiale fai da te - La Stampa",
         "type": "scatter",
         "uid": "6ce49d47-c566-11e8-bbca-98541b5bf12b",
         "x": [
          2.288346397186102
         ],
         "y": [
          0.22257483298850944
         ]
        },
        {
         "marker": {
          "color": "rgba(0, 0, 110, .8)",
          "size": 7
         },
         "mode": "markers",
         "text": "I capelli hanno fiuto, molecole odorose li aiutano a crescere - Repubblica.it",
         "type": "scatter",
         "uid": "6ce49d48-c566-11e8-bbca-98541b5bf12b",
         "x": [
          0.42753074149800435
         ],
         "y": [
          0.991316399199256
         ]
        },
        {
         "marker": {
          "color": "rgba(0, 0, 110, .8)",
          "size": 7
         },
         "mode": "markers",
         "text": "Passione Instagram, macchina fotografica o cellulare per cogliere le bellezze della Sardegna - Repubblica.it",
         "type": "scatter",
         "uid": "6ce49d49-c566-11e8-bbca-98541b5bf12b",
         "x": [
          -1.4904624478200277
         ],
         "y": [
          -1.5329006353900552
         ]
        },
        {
         "marker": {
          "color": "rgba(0, 0, 110, .8)",
          "size": 7
         },
         "mode": "markers",
         "text": "Cinque cose da fare per gestire bene la sicurezza degli account social aziendali - Il Sole 24 ORE",
         "type": "scatter",
         "uid": "6ce49d4a-c566-11e8-bbca-98541b5bf12b",
         "x": [
          2.168415302853056
         ],
         "y": [
          0.810958318813411
         ]
        },
        {
         "marker": {
          "color": "rgba(0, 0, 110, .8)",
          "size": 7
         },
         "mode": "markers",
         "text": "Documenti segreti dell’Onu liberamente consultabili sul web a causa di un errore di configurazione - La Stampa",
         "type": "scatter",
         "uid": "6ce49d4b-c566-11e8-bbca-98541b5bf12b",
         "x": [
          1.012547361236899
         ],
         "y": [
          0.3838492696334188
         ]
        },
        {
         "marker": {
          "color": "rgba(0, 0, 110, .8)",
          "size": 7
         },
         "mode": "markers",
         "text": "Scoperto un imponente complesso con terme romane a sud del Cairo - Repubblica.it",
         "type": "scatter",
         "uid": "6ce49d4c-c566-11e8-bbca-98541b5bf12b",
         "x": [
          5.2825361780199485
         ],
         "y": [
          0.40008512472412155
         ]
        },
        {
         "marker": {
          "color": "rgba(0, 0, 110, .8)",
          "size": 7
         },
         "mode": "markers",
         "text": "HyperloopTT: così nel futuro viaggeremo a 1000 km/h HyperloopTT: così nel futuro viaggeremo a 1000 km/h - La Stampa",
         "type": "scatter",
         "uid": "6ce49d4d-c566-11e8-bbca-98541b5bf12b",
         "x": [
          8.342331179887728
         ],
         "y": [
          0.07425903621007558
         ]
        },
        {
         "marker": {
          "color": "rgba(0, 0, 110, .8)",
          "size": 7
         },
         "mode": "markers",
         "text": "Ecco cosa scatena il sonno incontrollabile nei pazienti narcolettici - Repubblica.it",
         "type": "scatter",
         "uid": "6ce49d4e-c566-11e8-bbca-98541b5bf12b",
         "x": [
          5.12071359635065
         ],
         "y": [
          -0.266961748598904
         ]
        },
        {
         "marker": {
          "color": "rgba(0, 0, 110, .8)",
          "size": 7
         },
         "mode": "markers",
         "text": "Perché i fondatori di Instagram hanno lasciato la società - La Stampa",
         "type": "scatter",
         "uid": "6ce49d4f-c566-11e8-bbca-98541b5bf12b",
         "x": [
          0.5656199447235651
         ],
         "y": [
          -1.781694422555395
         ]
        },
        {
         "marker": {
          "color": "rgba(0, 0, 110, .8)",
          "size": 7
         },
         "mode": "markers",
         "text": "Né sesso, né violenza: Apple prepara il suo servizio streaming dedicato alle famiglie - Repubblica.it",
         "type": "scatter",
         "uid": "6ce49d50-c566-11e8-bbca-98541b5bf12b",
         "x": [
          3.4381717386462847
         ],
         "y": [
          -0.812404506633399
         ]
        },
        {
         "marker": {
          "color": "rgba(0, 0, 110, .8)",
          "size": 7
         },
         "mode": "markers",
         "text": "Londra, ritrovata la lettera \"eretica\" di Galileo Galilei. \"E' l'originale\" - Repubblica.it",
         "type": "scatter",
         "uid": "6ce49d51-c566-11e8-bbca-98541b5bf12b",
         "x": [
          -4.577738188807411
         ],
         "y": [
          1.1502420954109636
         ]
        },
        {
         "marker": {
          "color": "rgba(0, 0, 110, .8)",
          "size": 7
         },
         "mode": "markers",
         "text": "Le cicatrici stampate in 3D per lenire la malattia - Il Sole 24 ORE",
         "type": "scatter",
         "uid": "6ce49d52-c566-11e8-bbca-98541b5bf12b",
         "x": [
          -3.5375876086285243
         ],
         "y": [
          0.7279433290612309
         ]
        },
        {
         "marker": {
          "color": "rgba(0, 0, 110, .8)",
          "size": 7
         },
         "mode": "markers",
         "text": "Mojave, così Apple rinnova MacOS e il desktop diventa intelligente - Repubblica.it",
         "type": "scatter",
         "uid": "6ce49d53-c566-11e8-bbca-98541b5bf12b",
         "x": [
          -0.028203294454042776
         ],
         "y": [
          -1.3595895433171086
         ]
        },
        {
         "marker": {
          "color": "rgba(0, 0, 110, .8)",
          "size": 7
         },
         "mode": "markers",
         "text": "Tesla Model 3, l’elettrica compatta guadagna 5 stelle ai crash test americani - La Stampa",
         "type": "scatter",
         "uid": "6ce49d54-c566-11e8-bbca-98541b5bf12b",
         "x": [
          2.4832976225742374
         ],
         "y": [
          0.8751758521711769
         ]
        },
        {
         "marker": {
          "color": "rgba(0, 0, 110, .8)",
          "size": 7
         },
         "mode": "markers",
         "text": "Apple prevede che iPhone XR sarà il modello di maggior successo - La Stampa",
         "type": "scatter",
         "uid": "6ce49d55-c566-11e8-bbca-98541b5bf12b",
         "x": [
          5.310800872766553
         ],
         "y": [
          -1.326051139287836
         ]
        },
        {
         "marker": {
          "color": "rgba(0, 0, 110, .8)",
          "size": 7
         },
         "mode": "markers",
         "text": "Finalmente Instagram testa una funzione per condividere i post degli altri - Repubblica.it",
         "type": "scatter",
         "uid": "6ce49d56-c566-11e8-bbca-98541b5bf12b",
         "x": [
          5.833465004592253
         ],
         "y": [
          -0.248364394090403
         ]
        },
        {
         "marker": {
          "color": "rgba(0, 0, 110, .8)",
          "size": 7
         },
         "mode": "markers",
         "text": "Marchesan, un'italiana tra gli scienziati emergenti nel mondo: \"La sfida più grande? Le differenze di genere\" - Repubblica.it",
         "type": "scatter",
         "uid": "6ce49d57-c566-11e8-bbca-98541b5bf12b",
         "x": [
          4.120122800926046
         ],
         "y": [
          1.1672342015681465
         ]
        },
        {
         "marker": {
          "color": "rgba(0, 0, 110, .8)",
          "size": 7
         },
         "mode": "markers",
         "text": "La realtà virtuale è già morta? No, a giudicare dai nuovi titoli del gaming - Il Sole 24 ORE",
         "type": "scatter",
         "uid": "6ce49d58-c566-11e8-bbca-98541b5bf12b",
         "x": [
          -6.359896358746459
         ],
         "y": [
          -0.2461226411033374
         ]
        },
        {
         "marker": {
          "color": "rgba(0, 0, 110, .8)",
          "size": 7
         },
         "mode": "markers",
         "text": "L’Italia rimane il Paese più bersagliato dal “cyberpizzo” - Il Sole 24 ORE",
         "type": "scatter",
         "uid": "6ce49d59-c566-11e8-bbca-98541b5bf12b",
         "x": [
          7.081703095571655
         ],
         "y": [
          0.7690620332060967
         ]
        },
        {
         "marker": {
          "color": "rgba(0, 0, 110, .8)",
          "size": 7
         },
         "mode": "markers",
         "text": "Startup: torna Heroes meet in Maratea, ecco chi ci sarà - Il Sole 24 ORE",
         "type": "scatter",
         "uid": "6ce49d5a-c566-11e8-bbca-98541b5bf12b",
         "x": [
          -3.7960847802596533
         ],
         "y": [
          -2.685699713214524
         ]
        },
        {
         "marker": {
          "color": "rgba(0, 0, 110, .8)",
          "size": 7
         },
         "mode": "markers",
         "text": "L'effetto dell'ecstasy sui polpi: così la serotonina li rende più socievoli - Repubblica.it",
         "type": "scatter",
         "uid": "6ce49d5b-c566-11e8-bbca-98541b5bf12b",
         "x": [
          -1.0415961362131472
         ],
         "y": [
          1.459681155621126
         ]
        },
        {
         "marker": {
          "color": "rgba(0, 0, 110, .8)",
          "size": 7
         },
         "mode": "markers",
         "text": "Caravaggio morì a causa di uno stafilococco aureo - Repubblica.it",
         "type": "scatter",
         "uid": "6ce49d5c-c566-11e8-bbca-98541b5bf12b",
         "x": [
          2.4291430445764703
         ],
         "y": [
          0.18333724151821318
         ]
        },
        {
         "marker": {
          "color": "rgba(0, 0, 110, .8)",
          "size": 7
         },
         "mode": "markers",
         "text": "Dall’Italia una blockchain per garantire la legalità dei cantieri: tracciati i movimenti terra - Il Sole 24 ORE",
         "type": "scatter",
         "uid": "6ce49d5d-c566-11e8-bbca-98541b5bf12b",
         "x": [
          6.931994059851912
         ],
         "y": [
          0.5935732907625031
         ]
        },
        {
         "marker": {
          "color": "rgba(0, 0, 110, .8)",
          "size": 7
         },
         "mode": "markers",
         "text": "Ufo, Alieni, Extraterrestri, Marte, Pianeta rosso, Nasa, Tetricus, Barsoom, Edgar Rice Burroughs",
         "type": "scatter",
         "uid": "6ce49d5e-c566-11e8-bbca-98541b5bf12b",
         "x": [
          1.6050899636498277
         ],
         "y": [
          0.6976809848363683
         ]
        },
        {
         "marker": {
          "color": "rgba(0, 0, 110, .8)",
          "size": 7
         },
         "mode": "markers",
         "text": "Per convincersi ad andare in palestra basta pensare alla propria famiglia - Repubblica.it",
         "type": "scatter",
         "uid": "6ce49d5f-c566-11e8-bbca-98541b5bf12b",
         "x": [
          -0.18348121514520802
         ],
         "y": [
          1.2767685189687545
         ]
        },
        {
         "marker": {
          "color": "rgba(0, 0, 110, .8)",
          "size": 7
         },
         "mode": "markers",
         "text": "Nuovi dispositivi in arrivo da Amazon, c'è anche un forno a microonde - Repubblica.it",
         "type": "scatter",
         "uid": "6ce49d60-c566-11e8-bbca-98541b5bf12b",
         "x": [
          -6.098492650337563
         ],
         "y": [
          -1.6920104681909645
         ]
        },
        {
         "marker": {
          "color": "rgba(0, 0, 110, .8)",
          "size": 7
         },
         "mode": "markers",
         "text": "Apple completa l’acquisizione di Shazam - La Stampa",
         "type": "scatter",
         "uid": "6ce49d61-c566-11e8-bbca-98541b5bf12b",
         "x": [
          7.210463622677331
         ],
         "y": [
          -0.22419662599150772
         ]
        },
        {
         "marker": {
          "color": "rgba(0, 0, 110, .8)",
          "size": 7
         },
         "mode": "markers",
         "text": "Un sasso lanciato nel vuoto: \"Così 47 anni fa scoprimmo le grotte di Frasassi\" - Repubblica.it",
         "type": "scatter",
         "uid": "6ce49d62-c566-11e8-bbca-98541b5bf12b",
         "x": [
          9.820983190223814
         ],
         "y": [
          0.6721440800494095
         ]
        },
        {
         "marker": {
          "color": "rgba(0, 0, 110, .8)",
          "size": 7
         },
         "mode": "markers",
         "text": "Quando i soldi fanno la felicità. Basta non esagerare - Repubblica.it",
         "type": "scatter",
         "uid": "6ce49d63-c566-11e8-bbca-98541b5bf12b",
         "x": [
          -0.9485374498782533
         ],
         "y": [
          -0.8664791830720031
         ]
        },
        {
         "marker": {
          "color": "rgba(0, 0, 110, .8)",
          "size": 7
         },
         "mode": "markers",
         "text": "Negli Stati uniti arrivano le prime assicurazioni sulla vita calcolate con i dati degli smartwatch - La Stampa",
         "type": "scatter",
         "uid": "6ce49d64-c566-11e8-bbca-98541b5bf12b",
         "x": [
          2.423587161774141
         ],
         "y": [
          0.31169696233399197
         ]
        },
        {
         "marker": {
          "color": "rgba(0, 0, 110, .8)",
          "size": 7
         },
         "mode": "markers",
         "text": "Mirror lo specchio intelligente per il fitness - La Stampa",
         "type": "scatter",
         "uid": "6ce49d65-c566-11e8-bbca-98541b5bf12b",
         "x": [
          5.938895194928466
         ],
         "y": [
          -0.1926119887612145
         ]
        },
        {
         "marker": {
          "color": "rgba(0, 0, 110, .8)",
          "size": 7
         },
         "mode": "markers",
         "text": "Facebook, i cofondatori di Instagram lasciano la società - Repubblica.it",
         "type": "scatter",
         "uid": "6ce49d66-c566-11e8-bbca-98541b5bf12b",
         "x": [
          4.046283738841245
         ],
         "y": [
          -1.3144943753300078
         ]
        },
        {
         "marker": {
          "color": "rgba(0, 0, 110, .8)",
          "size": 7
         },
         "mode": "markers",
         "text": "Ufo, Alieni, Extraterrestri, Marte, Nasa, Tetricus, Sharp City",
         "type": "scatter",
         "uid": "6ce49d67-c566-11e8-bbca-98541b5bf12b",
         "x": [
          15.505890167945648
         ],
         "y": [
          0.41402107850353964
         ]
        },
        {
         "marker": {
          "color": "rgba(0, 0, 110, .8)",
          "size": 7
         },
         "mode": "markers",
         "text": "Ufo, Alieni, extraterrestri, Marte, Nasa, Barsoom, Tetricus, Cisu, Alessandria, Tetricus",
         "type": "scatter",
         "uid": "6ce49d68-c566-11e8-bbca-98541b5bf12b",
         "x": [
          6.747179072995755
         ],
         "y": [
          1.7427630033148465
         ]
        },
        {
         "marker": {
          "color": "rgba(0, 0, 110, .8)",
          "size": 7
         },
         "mode": "markers",
         "text": "Arrivano le pagelle di NewGuard. “Non servono gli algoritmi per bloccare le fake news” - Repubblica.it",
         "type": "scatter",
         "uid": "6ce49d69-c566-11e8-bbca-98541b5bf12b",
         "x": [
          -2.4030886555264934
         ],
         "y": [
          -1.6270679991863117
         ]
        },
        {
         "marker": {
          "color": "rgba(0, 0, 110, .8)",
          "size": 7
         },
         "mode": "markers",
         "text": "7ecno, le notizie hi tech dal 17 al 23 settembre 7ecno, le notizie hi tech dal 17 al 23 settembre - La Stampa",
         "type": "scatter",
         "uid": "6ce49d6a-c566-11e8-bbca-98541b5bf12b",
         "x": [
          8.800945795616167
         ],
         "y": [
          0.3945350243012667
         ]
        },
        {
         "marker": {
          "color": "rgba(0, 0, 110, .8)",
          "size": 7
         },
         "mode": "markers",
         "text": "Ufo, Alieni, Extraterrestri, Uap, Ovni, Harold \"Hal\" Puthoff, Society for Scientific E.comxploration, Dossier Cometa, Rapporto Sturrock, Advanced Aerospace Threat Identification Program, New York Times, Paolo Guizzardi, Cun",
         "type": "scatter",
         "uid": "6ce49d6b-c566-11e8-bbca-98541b5bf12b",
         "x": [
          -1.437897737859784
         ],
         "y": [
          -1.3334823022603526
         ]
        },
        {
         "marker": {
          "color": "rgba(0, 0, 110, .8)",
          "size": 7
         },
         "mode": "markers",
         "text": "Videogiochi: Red Dead Redemption 2 anteprima di un successo annunciato - La Stampa",
         "type": "scatter",
         "uid": "6ce49d6c-c566-11e8-bbca-98541b5bf12b",
         "x": [
          -4.9858012754485594
         ],
         "y": [
          0.44040970233486376
         ]
        },
        {
         "marker": {
          "color": "rgba(0, 0, 110, .8)",
          "size": 7
         },
         "mode": "markers",
         "text": "Boato e scia luminosa, una super meteora nei cieli di Sardegna e centro Italia - Repubblica.it",
         "type": "scatter",
         "uid": "6ce49d6d-c566-11e8-bbca-98541b5bf12b",
         "x": [
          -9.859722098774682
         ],
         "y": [
          0.01994212729635736
         ]
        },
        {
         "marker": {
          "color": "rgba(0, 0, 110, .8)",
          "size": 7
         },
         "mode": "markers",
         "text": "Ufo, Alieni, Extraterrestri, Osservatorio solare nazionale di Sunspot, Blackhawk, Sacramento Peak, Roswell, Albuquerque, dischi volanti, James McAteer",
         "type": "scatter",
         "uid": "6ce49d6e-c566-11e8-bbca-98541b5bf12b",
         "x": [
          -3.5193561618710962
         ],
         "y": [
          1.145684095841912
         ]
        },
        {
         "marker": {
          "color": "rgba(0, 0, 110, .8)",
          "size": 7
         },
         "mode": "markers",
         "text": "Cinque regole per mettere in sicurezza gli smartphone in azienda - Il Sole 24 ORE",
         "type": "scatter",
         "uid": "6ce49d6f-c566-11e8-bbca-98541b5bf12b",
         "x": [
          -1.632622376165177
         ],
         "y": [
          -0.1762857849362171
         ]
        },
        {
         "marker": {
          "color": "rgba(0, 0, 110, .8)",
          "size": 7
         },
         "mode": "markers",
         "text": "Le firme di Repubblica in podcast su Audible. Nasce \"dentro la notizia\" - Repubblica.it",
         "type": "scatter",
         "uid": "6ce49d70-c566-11e8-bbca-98541b5bf12b",
         "x": [
          2.356424986887083
         ],
         "y": [
          -0.032345658884886365
         ]
        },
        {
         "marker": {
          "color": "rgba(0, 0, 110, .8)",
          "size": 7
         },
         "mode": "markers",
         "text": "Criptovalute, Ripple raddoppia in una settimana: è la seconda dietro a bitcoin - Il Sole 24 ORE",
         "type": "scatter",
         "uid": "6ce49d71-c566-11e8-bbca-98541b5bf12b",
         "x": [
          7.368824463797345
         ],
         "y": [
          -0.574183523925111
         ]
        },
        {
         "marker": {
          "color": "rgba(0, 0, 110, .8)",
          "size": 7
         },
         "mode": "markers",
         "text": "Amazon vuole aprire 3mila supermercati senza casse e cassieri - La Stampa",
         "type": "scatter",
         "uid": "6ce49d72-c566-11e8-bbca-98541b5bf12b",
         "x": [
          4.2198640446423825
         ],
         "y": [
          -0.20209964604384137
         ]
        },
        {
         "marker": {
          "color": "rgba(0, 0, 110, .8)",
          "size": 7
         },
         "mode": "markers",
         "text": "Zuckerberg prende il controllo di Instagram per salvare Facebook - Il Sole 24 ORE",
         "type": "scatter",
         "uid": "6ce49d73-c566-11e8-bbca-98541b5bf12b",
         "x": [
          -0.07942508424565842
         ],
         "y": [
          -2.0575749350846158
         ]
        },
        {
         "marker": {
          "color": "rgba(0, 0, 110, .8)",
          "size": 7
         },
         "mode": "markers",
         "text": "Samsung, i prossimi auricolari wireless potrebbero chiamarsi Buds - Repubblica.it",
         "type": "scatter",
         "uid": "6ce49d74-c566-11e8-bbca-98541b5bf12b",
         "x": [
          1.718838436628611
         ],
         "y": [
          0.0190144729858929
         ]
        },
        {
         "marker": {
          "color": "rgba(0, 0, 110, .8)",
          "size": 7
         },
         "mode": "markers",
         "text": "Arriva l’assistente vocale di Salesforce. Anche l’impresa si guida con voce - Il Sole 24 ORE",
         "type": "scatter",
         "uid": "6ce49d75-c566-11e8-bbca-98541b5bf12b",
         "x": [
          0.6606339965803801
         ],
         "y": [
          0.1471996620943072
         ]
        },
        {
         "marker": {
          "color": "rgba(0, 0, 110, .8)",
          "size": 7
         },
         "mode": "markers",
         "text": "Ufo, Alieni, extraterrestri, Marte, Nasa, Tetricus, Pianeta rosso",
         "type": "scatter",
         "uid": "6ce49d76-c566-11e8-bbca-98541b5bf12b",
         "x": [
          12.36658084601946
         ],
         "y": [
          1.1337142941990928
         ]
        },
        {
         "marker": {
          "color": "rgba(0, 0, 110, .8)",
          "size": 7
         },
         "mode": "markers",
         "text": "Ecco come riusciamo a vedere anche quando sbattiamo gli occhi - Repubblica.it",
         "type": "scatter",
         "uid": "6ce49d77-c566-11e8-bbca-98541b5bf12b",
         "x": [
          4.246342069805667
         ],
         "y": [
          0.6248105885317605
         ]
        },
        {
         "marker": {
          "color": "rgba(0, 0, 110, .8)",
          "size": 7
         },
         "mode": "markers",
         "text": "Cybersecurity: cinque regole per un Wi-Fi aziendale sicuro - Il Sole 24 ORE",
         "type": "scatter",
         "uid": "6ce49d78-c566-11e8-bbca-98541b5bf12b",
         "x": [
          -0.3395412071767622
         ],
         "y": [
          -0.8737814982515676
         ]
        },
        {
         "marker": {
          "color": "rgba(0, 0, 110, .8)",
          "size": 7
         },
         "mode": "markers",
         "text": "La generosità? E' contagiosa: condividiamo perché lo fanno gli altri - Repubblica.it",
         "type": "scatter",
         "uid": "6ce49d79-c566-11e8-bbca-98541b5bf12b",
         "x": [
          -1.6183088934457788
         ],
         "y": [
          -0.10236321203598643
         ]
        },
        {
         "marker": {
          "color": "rgba(0, 0, 110, .8)",
          "size": 7
         },
         "mode": "markers",
         "text": "IC406 Innovation Camp, apre a Bari il nuovo incubatore di startup di Auriga - Il Sole 24 ORE",
         "type": "scatter",
         "uid": "6ce49d7a-c566-11e8-bbca-98541b5bf12b",
         "x": [
          5.768931549002464
         ],
         "y": [
          -0.08121934509747898
         ]
        },
        {
         "marker": {
          "color": "rgba(0, 0, 110, .8)",
          "size": 7
         },
         "mode": "markers",
         "text": "Instagram sfida Amazon sullo shopping: dalle storie si potranno acquistare prodotti - Repubblica.it",
         "type": "scatter",
         "uid": "6ce49d7b-c566-11e8-bbca-98541b5bf12b",
         "x": [
          1.3353633790802897
         ],
         "y": [
          0.7354935539475134
         ]
        },
        {
         "marker": {
          "color": "rgba(0, 0, 110, .8)",
          "size": 7
         },
         "mode": "markers",
         "text": "Le console più vendute di tutti i tempi Le console più vendute di tutti i tempi - La Stampa",
         "type": "scatter",
         "uid": "6ce49d7c-c566-11e8-bbca-98541b5bf12b",
         "x": [
          12.002417670063105
         ],
         "y": [
          -0.1827724427726762
         ]
        },
        {
         "marker": {
          "color": "rgba(0, 0, 110, .8)",
          "size": 7
         },
         "mode": "markers",
         "text": "Il cyber atleta Tyler “Ninja” Blevins conquista la copertina di Espn Magazine - Il Sole 24 ORE",
         "type": "scatter",
         "uid": "6ce49d7d-c566-11e8-bbca-98541b5bf12b",
         "x": [
          5.85645625869736
         ],
         "y": [
          0.5933255904964091
         ]
        },
        {
         "marker": {
          "color": "rgba(0, 0, 110, .8)",
          "size": 7
         },
         "mode": "markers",
         "text": "Apple assegna un punteggio agli utenti di iTunes - La Stampa",
         "type": "scatter",
         "uid": "6ce49d7e-c566-11e8-bbca-98541b5bf12b",
         "x": [
          1.3845063494000314
         ],
         "y": [
          -0.8909331340423109
         ]
        },
        {
         "marker": {
          "color": "rgba(0, 0, 110, .8)",
          "size": 7
         },
         "mode": "markers",
         "text": "In migliaia per \"La Germania si parla\". A Berlino la sfida per una società meno divisa - Repubblica.it",
         "type": "scatter",
         "uid": "6ce49d7f-c566-11e8-bbca-98541b5bf12b",
         "x": [
          0.2055013161901011
         ],
         "y": [
          -0.24900251544841692
         ]
        },
        {
         "marker": {
          "color": "rgba(0, 0, 110, .8)",
          "size": 7
         },
         "mode": "markers",
         "text": "Spotify, gli artisti potranno caricare la propria musica da soli - Repubblica.it",
         "type": "scatter",
         "uid": "6ce49d80-c566-11e8-bbca-98541b5bf12b",
         "x": [
          3.8843768980489255
         ],
         "y": [
          0.00700824351509528
         ]
        },
        {
         "marker": {
          "color": "rgba(0, 0, 110, .8)",
          "size": 7
         },
         "mode": "markers",
         "text": "Red Dead Redemption 2. La nostra prova del nuovo gioco di Rockstar Games - Repubblica.it",
         "type": "scatter",
         "uid": "6ce49d81-c566-11e8-bbca-98541b5bf12b",
         "x": [
          -1.8703405125855295
         ],
         "y": [
          -0.657274932971267
         ]
        },
        {
         "marker": {
          "color": "rgba(0, 0, 110, .8)",
          "size": 7
         },
         "mode": "markers",
         "text": "La Notte dei ricercatori: una settimana di scienza con 400 eventi - Repubblica.it",
         "type": "scatter",
         "uid": "6ce49d82-c566-11e8-bbca-98541b5bf12b",
         "x": [
          -10.226977463970988
         ],
         "y": [
          5.683267679066735
         ]
        },
        {
         "marker": {
          "color": "rgba(0, 0, 110, .8)",
          "size": 7
         },
         "mode": "markers",
         "text": "Decolla Facebook Dating, il Tinder di Menlo Park: primi test in Colombia - Repubblica.it",
         "type": "scatter",
         "uid": "6ce49d83-c566-11e8-bbca-98541b5bf12b",
         "x": [
          14.106988861942472
         ],
         "y": [
          0.3792499646794873
         ]
        },
        {
         "marker": {
          "color": "rgba(0, 0, 110, .8)",
          "size": 7
         },
         "mode": "markers",
         "text": "E' morto il Nobel Kao, padre delle fibre ottiche - Repubblica.it",
         "type": "scatter",
         "uid": "6ce49d84-c566-11e8-bbca-98541b5bf12b",
         "x": [
          -2.775444545934514
         ],
         "y": [
          -0.3358084467692021
         ]
        },
        {
         "marker": {
          "color": "rgba(0, 0, 110, .8)",
          "size": 7
         },
         "mode": "markers",
         "text": "Ufo, Alieni, Extraterrestri, Alexander Oparin, cellule prebiotiche, Cufom, Cun, Extremamente, Luis Elizondo, Tom DeLonge",
         "type": "scatter",
         "uid": "6ce49d85-c566-11e8-bbca-98541b5bf12b",
         "x": [
          -3.813191062130639
         ],
         "y": [
          2.5979437563849515
         ]
        },
        {
         "marker": {
          "color": "rgba(0, 0, 110, .8)",
          "size": 7
         },
         "mode": "markers",
         "text": "Apple punta sulle aziende: accordo con Salesforce per iPhone e iPad - Il Sole 24 ORE",
         "type": "scatter",
         "uid": "6ce49d86-c566-11e8-bbca-98541b5bf12b",
         "x": [
          -2.88985615905805
         ],
         "y": [
          -2.3547893174980152
         ]
        },
        {
         "marker": {
          "color": "rgba(0, 0, 110, .8)",
          "size": 7
         },
         "mode": "markers",
         "text": "Il pianeta di Star Trek. \"A 16 anni luce da noi una super Terra come Vulcano\" - Repubblica.it",
         "type": "scatter",
         "uid": "6ce49d87-c566-11e8-bbca-98541b5bf12b",
         "x": [
          -8.19873591067389
         ],
         "y": [
          0.7420855631393168
         ]
        },
        {
         "marker": {
          "color": "rgba(0, 0, 110, .8)",
          "size": 7
         },
         "mode": "markers",
         "text": "La ricerca: \"Abbiamo il perdono incorporato o non avremmo relazioni\" - Repubblica.it",
         "type": "scatter",
         "uid": "6ce49d88-c566-11e8-bbca-98541b5bf12b",
         "x": [
          -3.2653714559209392
         ],
         "y": [
          0.04402591802609635
         ]
        },
        {
         "marker": {
          "color": "rgba(0, 0, 110, .8)",
          "size": 7
         },
         "mode": "markers",
         "text": "Fake news con finti articoli di Repubblica: non credeteci e denunciate - Repubblica.it",
         "type": "scatter",
         "uid": "6ce49d89-c566-11e8-bbca-98541b5bf12b",
         "x": [
          6.70920490647813
         ],
         "y": [
          0.38642554635332965
         ]
        },
        {
         "marker": {
          "color": "rgba(0, 0, 110, .8)",
          "size": 7
         },
         "mode": "markers",
         "text": "Arriva Portal, l'assistente smart di Facebook - Repubblica.it",
         "type": "scatter",
         "uid": "6ce49d8a-c566-11e8-bbca-98541b5bf12b",
         "x": [
          6.0250413000271115
         ],
         "y": [
          0.8355684581549431
         ]
        },
        {
         "marker": {
          "color": "rgba(0, 0, 110, .8)",
          "size": 7
         },
         "mode": "markers",
         "text": "Vacchiano, su Nature l'italiano che studia il clima: \"Il mio è un premio alle foreste\" - Repubblica.it",
         "type": "scatter",
         "uid": "6ce49d8b-c566-11e8-bbca-98541b5bf12b",
         "x": [
          6.754933908647167
         ],
         "y": [
          -0.12188572043385604
         ]
        },
        {
         "marker": {
          "color": "rgba(0, 0, 110, .8)",
          "size": 7
         },
         "mode": "markers",
         "text": "Come al cinema: il Far West di Red Dead Redemption 2 - Repubblica.it",
         "type": "scatter",
         "uid": "6ce49d8c-c566-11e8-bbca-98541b5bf12b",
         "x": [
          3.1199394144550916
         ],
         "y": [
          0.18671044621749494
         ]
        },
        {
         "marker": {
          "color": "rgba(0, 0, 110, .8)",
          "size": 7
         },
         "mode": "markers",
         "text": "Hayabusa2, la sonda che sembra un videogioco ha \"catturato\" il suo asteroide - Repubblica.it",
         "type": "scatter",
         "uid": "6ce49d8d-c566-11e8-bbca-98541b5bf12b",
         "x": [
          -8.535755314602495
         ],
         "y": [
          -0.2758970778693096
         ]
        },
        {
         "marker": {
          "color": "rgba(0, 0, 110, .8)",
          "size": 7
         },
         "mode": "markers",
         "text": "Arriva Portal, l'assistente smart di Facebook - Repubblica.it",
         "type": "scatter",
         "uid": "6ce49d8e-c566-11e8-bbca-98541b5bf12b",
         "x": [
          6.119308830824384
         ],
         "y": [
          0.7560464081468804
         ]
        },
        {
         "marker": {
          "color": "rgba(0, 0, 110, .8)",
          "size": 7
         },
         "mode": "markers",
         "text": "Trovato il metodo per sterminare le zanzare. Ma è una buona idea? - Repubblica.it",
         "type": "scatter",
         "uid": "6ce49d8f-c566-11e8-bbca-98541b5bf12b",
         "x": [
          -6.91675121737001
         ],
         "y": [
          1.9481185014816296
         ]
        },
        {
         "marker": {
          "color": "rgba(0, 0, 110, .8)",
          "size": 7
         },
         "mode": "markers",
         "text": "L'equinozio d'autunno non è il 21 settembre: quest'anno arriva il 23 - Repubblica.it",
         "type": "scatter",
         "uid": "6ce49d90-c566-11e8-bbca-98541b5bf12b",
         "x": [
          -3.8450629672830487
         ],
         "y": [
          -0.007825852004751693
         ]
        },
        {
         "marker": {
          "color": "rgba(0, 0, 110, .8)",
          "size": 7
         },
         "mode": "markers",
         "text": "Ufo, Alieni, extraterrestri, Ansa, Cheope, Giza, piramidi egizie, Journal of Applied Physics, Itmo University, San Pietroburgo , Laser Zentrum, Tullio Scopigno, Università La Sapienza, piramidi bosniache",
         "type": "scatter",
         "uid": "6ce49d91-c566-11e8-bbca-98541b5bf12b",
         "x": [
          -3.5991944820182686
         ],
         "y": [
          -0.09494686170792276
         ]
        },
        {
         "marker": {
          "color": "rgba(0, 0, 110, .8)",
          "size": 7
         },
         "mode": "markers",
         "text": "Huawei Mate 20 Lite: un midrange dall'ottima autonomia. La recensione",
         "type": "scatter",
         "uid": "6ce49d92-c566-11e8-bbca-98541b5bf12b",
         "x": [
          0.21895731443919764
         ],
         "y": [
          -0.10321035997936977
         ]
        },
        {
         "marker": {
          "color": "rgba(0, 0, 110, .8)",
          "size": 7
         },
         "mode": "markers",
         "text": "iPhone Xs Max tira 3-4 volte più dell'Xs - Hi-tech - ANSA.it",
         "type": "scatter",
         "uid": "6ce49d93-c566-11e8-bbca-98541b5bf12b",
         "x": [
          8.253934892547898
         ],
         "y": [
          0.005590227079676769
         ]
        },
        {
         "marker": {
          "color": "rgba(0, 0, 110, .8)",
          "size": 7
         },
         "mode": "markers",
         "text": "Amazon, 8 nuovi dispositivi con Alexa nel 2018 - Hi-tech - ANSA.it",
         "type": "scatter",
         "uid": "6ce49d94-c566-11e8-bbca-98541b5bf12b",
         "x": [
          5.0092709781512585
         ],
         "y": [
          -1.3924188334338952
         ]
        },
        {
         "marker": {
          "color": "rgba(0, 0, 110, .8)",
          "size": 7
         },
         "mode": "markers",
         "text": "Vota i migliori produttori nell'European Hardware Community Awards 2018",
         "type": "scatter",
         "uid": "6ce49d95-c566-11e8-bbca-98541b5bf12b",
         "x": [
          6.44075831994285
         ],
         "y": [
          -0.011288083601487251
         ]
        },
        {
         "marker": {
          "color": "rgba(0, 0, 110, .8)",
          "size": 7
         },
         "mode": "markers",
         "text": "Influenza, scoperto il tallone d'Achille del virus - Biotech - ANSA.it",
         "type": "scatter",
         "uid": "6ce49d96-c566-11e8-bbca-98541b5bf12b",
         "x": [
          -5.1781212155251986
         ],
         "y": [
          -0.679166218089248
         ]
        },
        {
         "marker": {
          "color": "rgba(0, 0, 110, .8)",
          "size": 7
         },
         "mode": "markers",
         "text": "Il primo esofago costruito in laboratorio - Biotech - ANSA.it",
         "type": "scatter",
         "uid": "6ce49d97-c566-11e8-bbca-98541b5bf12b",
         "x": [
          -6.209906895433949
         ],
         "y": [
          -0.669127026688232
         ]
        },
        {
         "marker": {
          "color": "rgba(0, 0, 110, .8)",
          "size": 7
         },
         "mode": "markers",
         "text": "È possibile che un robot possa utilizzare la teoria della mente?",
         "type": "scatter",
         "uid": "6ce49d98-c566-11e8-bbca-98541b5bf12b",
         "x": [
          -9.342365806763008
         ],
         "y": [
          2.313052540640369
         ]
        },
        {
         "marker": {
          "color": "rgba(0, 0, 110, .8)",
          "size": 7
         },
         "mode": "markers",
         "text": "Apple completa l'acquisizione di Shazam - Software e App - ANSA.it",
         "type": "scatter",
         "uid": "6ce49d99-c566-11e8-bbca-98541b5bf12b",
         "x": [
          8.017399538834967
         ],
         "y": [
          -0.32036197743025546
         ]
        },
        {
         "marker": {
          "color": "rgba(0, 0, 110, .8)",
          "size": 7
         },
         "mode": "markers",
         "text": "Malaria, una reazione a catena genetica annienta le zanzare - Biotech - ANSA.it",
         "type": "scatter",
         "uid": "6ce49d9a-c566-11e8-bbca-98541b5bf12b",
         "x": [
          -5.3321884405420965
         ],
         "y": [
          0.3667595903568669
         ]
        },
        {
         "marker": {
          "color": "rgba(0, 0, 110, .8)",
          "size": 7
         },
         "mode": "markers",
         "text": "Aperta indagine penale su Tesla dopo tweet di Musk - Hi-tech - ANSA.it",
         "type": "scatter",
         "uid": "6ce49d9b-c566-11e8-bbca-98541b5bf12b",
         "x": [
          8.218230927127491
         ],
         "y": [
          0.1314397242103695
         ]
        },
        {
         "marker": {
          "color": "rgba(0, 0, 110, .8)",
          "size": 7
         },
         "mode": "markers",
         "text": "Mercato mondiale Pc, nel 2019 la ripresa - Hi-tech - ANSA.it",
         "type": "scatter",
         "uid": "6ce49d9c-c566-11e8-bbca-98541b5bf12b",
         "x": [
          -4.85686806676211
         ],
         "y": [
          -1.2441725106543005
         ]
        },
        {
         "marker": {
          "color": "rgba(0, 0, 110, .8)",
          "size": 7
         },
         "mode": "markers",
         "text": "Apple, no a violenza e sesso in show tv - Internet e Social - ANSA.it",
         "type": "scatter",
         "uid": "6ce49d9d-c566-11e8-bbca-98541b5bf12b",
         "x": [
          2.117212752150608
         ],
         "y": [
          -0.7221189856804651
         ]
        },
        {
         "marker": {
          "color": "rgba(0, 0, 110, .8)",
          "size": 7
         },
         "mode": "markers",
         "text": "Marte, il sottosuolo può avere ospitato la vita - Spazio & Astronomia - ANSA.it",
         "type": "scatter",
         "uid": "6ce49d9e-c566-11e8-bbca-98541b5bf12b",
         "x": [
          -4.7560249692853604
         ],
         "y": [
          1.944439356957545
         ]
        },
        {
         "marker": {
          "color": "rgba(0, 0, 110, .8)",
          "size": 7
         },
         "mode": "markers",
         "text": "Primi scatti dall'asteroide Ryugu - Spazio & Astronomia - ANSA.it",
         "type": "scatter",
         "uid": "6ce49d9f-c566-11e8-bbca-98541b5bf12b",
         "x": [
          -5.383240943748952
         ],
         "y": [
          -1.410075106696174
         ]
        },
        {
         "marker": {
          "color": "rgba(0, 0, 110, .8)",
          "size": 7
         },
         "mode": "markers",
         "text": "Sweeper, il robot che raccoglie ortaggi e frutta - News - ANSA.it",
         "type": "scatter",
         "uid": "6ce49da0-c566-11e8-bbca-98541b5bf12b",
         "x": [
          -2.3732701806335417
         ],
         "y": [
          -0.8205114407416049
         ]
        },
        {
         "marker": {
          "color": "rgba(0, 0, 110, .8)",
          "size": 7
         },
         "mode": "markers",
         "text": "Immagini mozzafiato delle nubi blu che brillano ai poli - Spazio & Astronomia - ANSA.it",
         "type": "scatter",
         "uid": "6ce49da1-c566-11e8-bbca-98541b5bf12b",
         "x": [
          -8.559002800026205
         ],
         "y": [
          -0.13533897254511523
         ]
        },
        {
         "marker": {
          "color": "rgba(0, 0, 110, .8)",
          "size": 7
         },
         "mode": "markers",
         "text": "V-Rally 4, disponibile da oggi la versione PC",
         "type": "scatter",
         "uid": "6ce49da2-c566-11e8-bbca-98541b5bf12b",
         "x": [
          -8.306228753993524
         ],
         "y": [
          -1.9275565228987366
         ]
        },
        {
         "marker": {
          "color": "rgba(0, 0, 110, .8)",
          "size": 7
         },
         "mode": "markers",
         "text": "Il gene che al mattino risveglia i fiori - Biotech - ANSA.it",
         "type": "scatter",
         "uid": "6ce49da3-c566-11e8-bbca-98541b5bf12b",
         "x": [
          -1.1730405507548958
         ],
         "y": [
          0.6468961977565699
         ]
        },
        {
         "marker": {
          "color": "rgba(0, 0, 110, .8)",
          "size": 7
         },
         "mode": "markers",
         "text": "Mattarella nei laboratori dell'Enea - Ricerca & Istituzioni - ANSA.it",
         "type": "scatter",
         "uid": "6ce49da4-c566-11e8-bbca-98541b5bf12b",
         "x": [
          4.998341637211902
         ],
         "y": [
          0.9237558026554893
         ]
        },
        {
         "marker": {
          "color": "rgba(0, 0, 110, .8)",
          "size": 7
         },
         "mode": "markers",
         "text": "Mai più batterie che prendono fuoco",
         "type": "scatter",
         "uid": "6ce49da5-c566-11e8-bbca-98541b5bf12b",
         "x": [
          -9.909859261994194
         ],
         "y": [
          3.037457719330719
         ]
        },
        {
         "marker": {
          "color": "rgba(0, 0, 110, .8)",
          "size": 7
         },
         "mode": "markers",
         "text": "Wef, con robot più lavoro, ma competenze da creare - Hi-tech - ANSA.it",
         "type": "scatter",
         "uid": "6ce49da6-c566-11e8-bbca-98541b5bf12b",
         "x": [
          -5.377869653039687
         ],
         "y": [
          0.1754886297997835
         ]
        },
        {
         "marker": {
          "color": "rgba(0, 0, 110, .8)",
          "size": 7
         },
         "mode": "markers",
         "text": "La più grande luna di Saturno sotto una tempesta di polvere - Spazio & Astronomia - ANSA.it",
         "type": "scatter",
         "uid": "6ce49da7-c566-11e8-bbca-98541b5bf12b",
         "x": [
          -9.755344660555533
         ],
         "y": [
          1.5709875002005602
         ]
        },
        {
         "marker": {
          "color": "rgba(0, 0, 110, .8)",
          "size": 7
         },
         "mode": "markers",
         "text": "L’impronta fossile dell'animale più antico - News - ANSA.it",
         "type": "scatter",
         "uid": "6ce49da8-c566-11e8-bbca-98541b5bf12b",
         "x": [
          -9.746409770335868
         ],
         "y": [
          2.6918078881924608
         ]
        },
        {
         "marker": {
          "color": "rgba(0, 0, 110, .8)",
          "size": 7
         },
         "mode": "markers",
         "text": "Microsoft Office 2019 è ora disponibile per Windows e macOS",
         "type": "scatter",
         "uid": "6ce49da9-c566-11e8-bbca-98541b5bf12b",
         "x": [
          9.335439802822714
         ],
         "y": [
          0.8832870715922327
         ]
        },
        {
         "marker": {
          "color": "rgba(0, 0, 110, .8)",
          "size": 7
         },
         "mode": "markers",
         "text": "Snapchat, shopping online su Amazon - Software e App - ANSA.it",
         "type": "scatter",
         "uid": "6ce49daa-c566-11e8-bbca-98541b5bf12b",
         "x": [
          7.191989472793235
         ],
         "y": [
          -1.282838492896443
         ]
        },
        {
         "marker": {
          "color": "rgba(0, 0, 110, .8)",
          "size": 7
         },
         "mode": "markers",
         "text": "Facebook e Google nel mirino di Trump - Internet e Social - ANSA.it",
         "type": "scatter",
         "uid": "6ce49dab-c566-11e8-bbca-98541b5bf12b",
         "x": [
          0.9558312223856769
         ],
         "y": [
          -0.0009273646491345176
         ]
        },
        {
         "marker": {
          "color": "rgba(0, 0, 110, .8)",
          "size": 7
         },
         "mode": "markers",
         "text": "Robot protagonisti tra scienza e spettacolo a Festival Pisa - Tecnologie - ANSA.it",
         "type": "scatter",
         "uid": "6ce49dac-c566-11e8-bbca-98541b5bf12b",
         "x": [
          -7.267339450606957
         ],
         "y": [
          -0.8686813881018235
         ]
        },
        {
         "marker": {
          "color": "rgba(0, 0, 110, .8)",
          "size": 7
         },
         "mode": "markers",
         "text": "iPhone, 400 persone in coda a Singapore - Hi-tech - ANSA.it",
         "type": "scatter",
         "uid": "6ce49dad-c566-11e8-bbca-98541b5bf12b",
         "x": [
          -3.5307772243661146
         ],
         "y": [
          -2.3840715541999136
         ]
        },
        {
         "marker": {
          "color": "rgba(0, 0, 110, .8)",
          "size": 7
         },
         "mode": "markers",
         "text": "Kaspersky,gli Usa ci hanno preso di mira - Internet e Social - ANSA.it",
         "type": "scatter",
         "uid": "6ce49dae-c566-11e8-bbca-98541b5bf12b",
         "x": [
          6.67093269977435
         ],
         "y": [
          0.5115902424647567
         ]
        },
        {
         "marker": {
          "color": "rgba(0, 0, 110, .8)",
          "size": 7
         },
         "mode": "markers",
         "text": "Conto corrente N26: il miglior modo per pagare è dallo smartphone",
         "type": "scatter",
         "uid": "6ce49daf-c566-11e8-bbca-98541b5bf12b",
         "x": [
          0.23888591561834874
         ],
         "y": [
          0.15108289456950966
         ]
        },
        {
         "marker": {
          "color": "rgba(0, 0, 110, .8)",
          "size": 7
         },
         "mode": "markers",
         "text": "OnePlus: addio alla Dash Charge per via di una disputa legale sul nome",
         "type": "scatter",
         "uid": "6ce49db0-c566-11e8-bbca-98541b5bf12b",
         "x": [
          14.900779207815317
         ],
         "y": [
          0.38768250446497454
         ]
        },
        {
         "marker": {
          "color": "rgba(0, 0, 110, .8)",
          "size": 7
         },
         "mode": "markers",
         "text": "Skiller Mech SGK3 è una tastiera meccanica che dà controllo totale ai giocatori",
         "type": "scatter",
         "uid": "6ce49db1-c566-11e8-bbca-98541b5bf12b",
         "x": [
          1.3058318209293964
         ],
         "y": [
          -0.7620453966096005
         ]
        },
        {
         "marker": {
          "color": "rgba(0, 0, 110, .8)",
          "size": 7
         },
         "mode": "markers",
         "text": "I co-fondatori di Instagram lasciano la società - Internet e Social - ANSA.it",
         "type": "scatter",
         "uid": "6ce49db2-c566-11e8-bbca-98541b5bf12b",
         "x": [
          9.670343259133487
         ],
         "y": [
          -0.0797294827263609
         ]
        },
        {
         "marker": {
          "color": "rgba(0, 0, 110, .8)",
          "size": 7
         },
         "mode": "markers",
         "text": "L-Mount: Leica, Panasonic e Sigma all'attacco del settore mirrorless full frame e APS-C",
         "type": "scatter",
         "uid": "6ce49db3-c566-11e8-bbca-98541b5bf12b",
         "x": [
          1.542286502633857
         ],
         "y": [
          -0.6776334044790209
         ]
        },
        {
         "marker": {
          "color": "rgba(0, 0, 110, .8)",
          "size": 7
         },
         "mode": "markers",
         "text": "Trovata la lettera che costo' a Galileo l'accusa di eresia - Spazio & Astronomia - ANSA.it",
         "type": "scatter",
         "uid": "6ce49db4-c566-11e8-bbca-98541b5bf12b",
         "x": [
          -4.418145211347039
         ],
         "y": [
          0.8699173162443454
         ]
        },
        {
         "marker": {
          "color": "rgba(0, 0, 110, .8)",
          "size": 7
         },
         "mode": "markers",
         "text": "Irix 150mm F2.8 per full frame con attacchi Canon EF, Nikon F e Pentax K a bassissima distorsione",
         "type": "scatter",
         "uid": "6ce49db5-c566-11e8-bbca-98541b5bf12b",
         "x": [
          -5.17180853978699
         ],
         "y": [
          -1.1925343659235317
         ]
        },
        {
         "marker": {
          "color": "rgba(0, 0, 110, .8)",
          "size": 7
         },
         "mode": "markers",
         "text": "TIM, minuti illimitati e 50GB a 9,99 Euro, ma solo per pochi giorni: ecco come fare per averla",
         "type": "scatter",
         "uid": "6ce49db6-c566-11e8-bbca-98541b5bf12b",
         "x": [
          7.697420992722105
         ],
         "y": [
          0.5678817567366302
         ]
        },
        {
         "marker": {
          "color": "rgba(0, 0, 110, .8)",
          "size": 7
         },
         "mode": "markers",
         "text": "Arriva in Italia Google Pay, sfida a Apple - Tlc - ANSA.it",
         "type": "scatter",
         "uid": "6ce49db7-c566-11e8-bbca-98541b5bf12b",
         "x": [
          -0.8150143790336198
         ],
         "y": [
          0.18342274059775823
         ]
        },
        {
         "marker": {
          "color": "rgba(0, 0, 110, .8)",
          "size": 7
         },
         "mode": "markers",
         "text": "Instagram sfida Amazon sullo shopping - Internet e Social - ANSA.it",
         "type": "scatter",
         "uid": "6ce49db8-c566-11e8-bbca-98541b5bf12b",
         "x": [
          4.074252665199394
         ],
         "y": [
          -1.2336911318815627
         ]
        },
        {
         "marker": {
          "color": "rgba(0, 0, 110, .8)",
          "size": 7
         },
         "mode": "markers",
         "text": "Apple conta le telefonate contro le frodi - Hi-tech - ANSA.it",
         "type": "scatter",
         "uid": "6ce49db9-c566-11e8-bbca-98541b5bf12b",
         "x": [
          6.992575587525593
         ],
         "y": [
          1.1013055375406418
         ]
        },
        {
         "marker": {
          "color": "rgba(0, 0, 110, .8)",
          "size": 7
         },
         "mode": "markers",
         "text": "Twitter, si potrà tornare a cronologia tweet - Internet e Social - ANSA.it",
         "type": "scatter",
         "uid": "6ce49dba-c566-11e8-bbca-98541b5bf12b",
         "x": [
          9.841950784441268
         ],
         "y": [
          0.8720972325875019
         ]
        },
        {
         "marker": {
          "color": "rgba(0, 0, 110, .8)",
          "size": 7
         },
         "mode": "markers",
         "text": "Surface Hub 2 al debutto dal 2019, con una seconda versione nel 2020",
         "type": "scatter",
         "uid": "6ce49dbb-c566-11e8-bbca-98541b5bf12b",
         "x": [
          14.72331031215662
         ],
         "y": [
          0.19743311118649443
         ]
        },
        {
         "marker": {
          "color": "rgba(0, 0, 110, .8)",
          "size": 7
         },
         "mode": "markers",
         "text": "Spamming estorsivo, Polizia Postale lancia l'allarme - Internet e Social - ANSA.it",
         "type": "scatter",
         "uid": "6ce49dbc-c566-11e8-bbca-98541b5bf12b",
         "x": [
          2.8937837051411517
         ],
         "y": [
          0.4273209311275128
         ]
        },
        {
         "marker": {
          "color": "rgba(0, 0, 110, .8)",
          "size": 7
         },
         "mode": "markers",
         "text": "Ricoh al lavoro sull'imminente GR III, compatta che sostituirà la GR II",
         "type": "scatter",
         "uid": "6ce49dbd-c566-11e8-bbca-98541b5bf12b",
         "x": [
          -4.240404345421955
         ],
         "y": [
          -2.7831031059086406
         ]
        },
        {
         "marker": {
          "color": "rgba(0, 0, 110, .8)",
          "size": 7
         },
         "mode": "markers",
         "text": "Amazon, lente Ue su dati sensibili - Internet e Social - ANSA.it",
         "type": "scatter",
         "uid": "6ce49dbe-c566-11e8-bbca-98541b5bf12b",
         "x": [
          10.009120343865275
         ],
         "y": [
          0.1335727950119795
         ]
        },
        {
         "marker": {
          "color": "rgba(0, 0, 110, .8)",
          "size": 7
         },
         "mode": "markers",
         "text": "Bolide sul cielo della Sardegna, il terzo dell'estate - Spazio & Astronomia - ANSA.it",
         "type": "scatter",
         "uid": "6ce49dbf-c566-11e8-bbca-98541b5bf12b",
         "x": [
          -8.590008074393912
         ],
         "y": [
          0.5411818136196094
         ]
        },
        {
         "marker": {
          "color": "rgba(0, 0, 110, .8)",
          "size": 7
         },
         "mode": "markers",
         "text": "È il momento giusto per comprare un telefono rugged, secondo Blackview",
         "type": "scatter",
         "uid": "6ce49dc0-c566-11e8-bbca-98541b5bf12b",
         "x": [
          4.297720229995004
         ],
         "y": [
          0.4148044827390041
         ]
        },
        {
         "marker": {
          "color": "rgba(0, 0, 110, .8)",
          "size": 7
         },
         "mode": "markers",
         "text": "Come spezzare uno spaghetto in due? Lo spiega il MIT",
         "type": "scatter",
         "uid": "6ce49dc1-c566-11e8-bbca-98541b5bf12b",
         "x": [
          -9.07918416064608
         ],
         "y": [
          2.7182243875324916
         ]
        },
        {
         "marker": {
          "color": "rgba(0, 0, 110, .8)",
          "size": 7
         },
         "mode": "markers",
         "text": "Nella Via Lattea un autoscontro stellare - News - ANSA.it",
         "type": "scatter",
         "uid": "6ce49dc2-c566-11e8-bbca-98541b5bf12b",
         "x": [
          -2.879620575081274
         ],
         "y": [
          -0.14799778595531077
         ]
        },
        {
         "marker": {
          "color": "rgba(0, 0, 110, .8)",
          "size": 7
         },
         "mode": "markers",
         "text": "I fondatori di Instagram lasciano Facebook: ecco cosa faranno in futuro",
         "type": "scatter",
         "uid": "6ce49dc3-c566-11e8-bbca-98541b5bf12b",
         "x": [
          9.46140713521169
         ],
         "y": [
          0.37177273847948683
         ]
        },
        {
         "marker": {
          "color": "rgba(0, 0, 110, .8)",
          "size": 7
         },
         "mode": "markers",
         "text": "Amazon, a Roma porta il pecorino a casa - Internet e Social - ANSA.it",
         "type": "scatter",
         "uid": "6ce49dc4-c566-11e8-bbca-98541b5bf12b",
         "x": [
          -0.08492983097887552
         ],
         "y": [
          -1.4423691533631453
         ]
        },
        {
         "marker": {
          "color": "rgba(0, 0, 110, .8)",
          "size": 7
         },
         "mode": "markers",
         "text": "Nell'iPhone Day, Xiaomi lancia Mi 8 Pro - Hi-tech - ANSA.it",
         "type": "scatter",
         "uid": "6ce49dc5-c566-11e8-bbca-98541b5bf12b",
         "x": [
          -0.43256737470085904
         ],
         "y": [
          -2.0841666362056745
         ]
        },
        {
         "marker": {
          "color": "rgba(0, 0, 110, .8)",
          "size": 7
         },
         "mode": "markers",
         "text": "Tutti fanno la mirrorless full frame? Fujifilm alza il medio (formato) con GFX 50R",
         "type": "scatter",
         "uid": "6ce49dc6-c566-11e8-bbca-98541b5bf12b",
         "x": [
          -5.44981812502388
         ],
         "y": [
          -3.6440147069319577
         ]
        },
        {
         "marker": {
          "color": "rgba(0, 0, 110, .8)",
          "size": 7
         },
         "mode": "markers",
         "text": "Fb:ex moderatrice fa causa,traumatizzata - Internet e Social - ANSA.it",
         "type": "scatter",
         "uid": "6ce49dc7-c566-11e8-bbca-98541b5bf12b",
         "x": [
          0.33756449643294767
         ],
         "y": [
          0.020057430220071934
         ]
        },
        {
         "marker": {
          "color": "rgba(0, 0, 110, .8)",
          "size": 7
         },
         "mode": "markers",
         "text": "Da una miniera del Sulcis la spia della materia oscura - Fisica & Matematica - ANSA.it",
         "type": "scatter",
         "uid": "6ce49dc8-c566-11e8-bbca-98541b5bf12b",
         "x": [
          -9.420718203087294
         ],
         "y": [
          -0.11696652065654045
         ]
        },
        {
         "marker": {
          "color": "rgba(0, 0, 110, .8)",
          "size": 7
         },
         "mode": "markers",
         "text": "Apple ridà oltre 14 miliardi di euro di aiuti fiscali all'Irlanda - Tlc - ANSA.it",
         "type": "scatter",
         "uid": "6ce49dc9-c566-11e8-bbca-98541b5bf12b",
         "x": [
          1.2236972640776855
         ],
         "y": [
          -1.14025014736233
         ]
        },
        {
         "marker": {
          "color": "rgba(0, 0, 110, .8)",
          "size": 7
         },
         "mode": "markers",
         "text": "Samsung, i nuovi Galaxy J6+ e J4+ - Tlc - ANSA.it",
         "type": "scatter",
         "uid": "6ce49dca-c566-11e8-bbca-98541b5bf12b",
         "x": [
          -2.0389096446125055
         ],
         "y": [
          -2.368337774131921
         ]
        },
        {
         "marker": {
          "color": "rgba(0, 0, 110, .8)",
          "size": 7
         },
         "mode": "markers",
         "text": "Anche per Playstation Classic c'è operazione nostalgia - Hi-tech - ANSA.it",
         "type": "scatter",
         "uid": "6ce49dcb-c566-11e8-bbca-98541b5bf12b",
         "x": [
          -5.035762042002479
         ],
         "y": [
          0.567957446918363
         ]
        },
        {
         "marker": {
          "color": "rgba(0, 0, 110, .8)",
          "size": 7
         },
         "mode": "markers",
         "text": "Google Home Mini lo speaker più venduto - Hi-tech - ANSA.it",
         "type": "scatter",
         "uid": "6ce49dcc-c566-11e8-bbca-98541b5bf12b",
         "x": [
          6.928477550612461
         ],
         "y": [
          -0.34705285486094245
         ]
        },
        {
         "marker": {
          "color": "rgba(0, 0, 110, .8)",
          "size": 7
         },
         "mode": "markers",
         "text": "E' Reggio Emilia la città più social d'Italia - Internet e Social - ANSA.it",
         "type": "scatter",
         "uid": "6ce49dcd-c566-11e8-bbca-98541b5bf12b",
         "x": [
          -5.244512397841647
         ],
         "y": [
          -0.9113821965123591
         ]
        },
        {
         "marker": {
          "color": "rgba(0, 0, 110, .8)",
          "size": 7
         },
         "mode": "markers",
         "text": "Cellule della pelle sono state trasformate in neuroni - Biotech - ANSA.it",
         "type": "scatter",
         "uid": "6ce49dce-c566-11e8-bbca-98541b5bf12b",
         "x": [
          -3.9657126647573437
         ],
         "y": [
          2.4518244791946917
         ]
        },
        {
         "marker": {
          "color": "rgba(0, 0, 110, .8)",
          "size": 7
         },
         "mode": "markers",
         "text": "Facebook: ex moderatrice fa causa, traumatizzata da immagini - Hi-tech - ANSA.it",
         "type": "scatter",
         "uid": "6ce49dcf-c566-11e8-bbca-98541b5bf12b",
         "x": [
          0.5458836285749604
         ],
         "y": [
          -0.4402395207914789
         ]
        },
        {
         "marker": {
          "color": "rgba(0, 0, 110, .8)",
          "size": 7
         },
         "mode": "markers",
         "text": "Notti più luminose con la Luna del raccolto - Spazio & Astronomia - ANSA.it",
         "type": "scatter",
         "uid": "6ce49dd0-c566-11e8-bbca-98541b5bf12b",
         "x": [
          -5.609037303166799
         ],
         "y": [
          -0.5133733874708591
         ]
        },
        {
         "marker": {
          "color": "rgba(0, 0, 110, .8)",
          "size": 7
         },
         "mode": "markers",
         "text": "Questi 7 prodotti dodocool sono in sconto su Amazon per i prossimi giorni: ecco i coupon",
         "type": "scatter",
         "uid": "6ce49dd1-c566-11e8-bbca-98541b5bf12b",
         "x": [
          9.362173499526616
         ],
         "y": [
          0.2112060953625673
         ]
        },
        {
         "marker": {
          "color": "rgba(0, 0, 110, .8)",
          "size": 7
         },
         "mode": "markers",
         "text": "Accordo Dis-Samsung per promuovere cultura sicurezza - Tlc - ANSA.it",
         "type": "scatter",
         "uid": "6ce49dd2-c566-11e8-bbca-98541b5bf12b",
         "x": [
          2.815816650861315
         ],
         "y": [
          0.302529486743103
         ]
        },
        {
         "marker": {
          "color": "rgba(0, 0, 110, .8)",
          "size": 7
         },
         "mode": "markers",
         "text": "E' l'equinozio d'autunno - Spazio & Astronomia - ANSA.it",
         "type": "scatter",
         "uid": "6ce49dd3-c566-11e8-bbca-98541b5bf12b",
         "x": [
          -12.26239685313803
         ],
         "y": [
          -0.3125242080607688
         ]
        },
        {
         "marker": {
          "color": "rgba(0, 0, 110, .8)",
          "size": 7
         },
         "mode": "markers",
         "text": "AirPower si surriscalda, slitta il lancio - Hi-tech - ANSA.it",
         "type": "scatter",
         "uid": "6ce49dd4-c566-11e8-bbca-98541b5bf12b",
         "x": [
          2.98190902173268
         ],
         "y": [
          -0.16868988419780598
         ]
        },
        {
         "marker": {
          "color": "rgba(0, 0, 110, .8)",
          "size": 7
         },
         "mode": "markers",
         "text": "Usa, causa contro Facebook per inserzioni discriminatorie - Internet e Social - ANSA.it",
         "type": "scatter",
         "uid": "6ce49dd5-c566-11e8-bbca-98541b5bf12b",
         "x": [
          5.223531425571017
         ],
         "y": [
          0.005259798805749483
         ]
        },
        {
         "marker": {
          "color": "rgba(0, 0, 110, .8)",
          "size": 7
         },
         "mode": "markers",
         "text": "Fb, 'war room' in vista voto Usa e Ue - Internet e Social - ANSA.it",
         "type": "scatter",
         "uid": "6ce49dd6-c566-11e8-bbca-98541b5bf12b",
         "x": [
          1.0773418353045474
         ],
         "y": [
          0.21008164320046785
         ]
        },
        {
         "marker": {
          "color": "rgba(0, 0, 110, .8)",
          "size": 7
         },
         "mode": "markers",
         "text": "Wsj, Facebook ha trattato con le banche per i dati degli utenti - Internet e Social - ANSA.it",
         "type": "scatter",
         "uid": "6ce49dd7-c566-11e8-bbca-98541b5bf12b",
         "x": [
          -3.271968016905202
         ],
         "y": [
          -0.5350874047343303
         ]
        },
        {
         "marker": {
          "color": "rgba(0, 0, 110, .8)",
          "size": 7
         },
         "mode": "markers",
         "text": "Notte Europea dei Ricercatori, 12 città in festa per la scienza - Ricerca & Istituzioni - ANSA.it",
         "type": "scatter",
         "uid": "6ce49dd8-c566-11e8-bbca-98541b5bf12b",
         "x": [
          -7.9061721504205975
         ],
         "y": [
          1.265421179975649
         ]
        },
        {
         "marker": {
          "color": "rgba(0, 0, 110, .8)",
          "size": 7
         },
         "mode": "markers",
         "text": "iPhone, a Milano tutti in fila per i nuovi modelli - Tlc - ANSA.it",
         "type": "scatter",
         "uid": "6ce49dd9-c566-11e8-bbca-98541b5bf12b",
         "x": [
          4.447287085364985
         ],
         "y": [
          0.09683806267673141
         ]
        },
        {
         "marker": {
          "color": "rgba(0, 0, 110, .8)",
          "size": 7
         },
         "mode": "markers",
         "text": "Serre marziane, all'Enea crescono le super-piante del futuro - Biotech - ANSA.it",
         "type": "scatter",
         "uid": "6ce49dda-c566-11e8-bbca-98541b5bf12b",
         "x": [
          -9.81499744646812
         ],
         "y": [
          0.20972538129824903
         ]
        },
        {
         "marker": {
          "color": "rgba(0, 0, 110, .8)",
          "size": 7
         },
         "mode": "markers",
         "text": "SpaceX: ecco come saranno le basi umane su Marte",
         "type": "scatter",
         "uid": "6ce49ddb-c566-11e8-bbca-98541b5bf12b",
         "x": [
          6.749876539703337
         ],
         "y": [
          1.0160654909927282
         ]
        },
        {
         "marker": {
          "color": "rgba(0, 0, 110, .8)",
          "size": 7
         },
         "mode": "markers",
         "text": "Mirrorless, full frame, 47Mpixel e 24Mpixel: in arrivo le Panasonic Lumix S1R e S1 con attacco L-Mount",
         "type": "scatter",
         "uid": "6ce49ddc-c566-11e8-bbca-98541b5bf12b",
         "x": [
          0.6514431954741965
         ],
         "y": [
          -0.024476696700745985
         ]
        },
        {
         "marker": {
          "color": "rgba(0, 0, 110, .8)",
          "size": 7
         },
         "mode": "markers",
         "text": "Ecco il carattere che allunga i documenti, sogno di ogni studente - Hi-tech - ANSA.it",
         "type": "scatter",
         "uid": "6ce49ddd-c566-11e8-bbca-98541b5bf12b",
         "x": [
          1.2763869176047635
         ],
         "y": [
          1.0392712284370738
         ]
        },
        {
         "marker": {
          "color": "rgba(0, 0, 110, .8)",
          "size": 7
         },
         "mode": "markers",
         "text": "Annunciata la soluzione di un problema inseguito da 160 anni - Fisica & Matematica - ANSA.it",
         "type": "scatter",
         "uid": "6ce49dde-c566-11e8-bbca-98541b5bf12b",
         "x": [
          0.28499267990472654
         ],
         "y": [
          -0.3079821447820032
         ]
        },
        {
         "marker": {
          "color": "rgba(0, 0, 110, .8)",
          "size": 7
         },
         "mode": "markers",
         "text": "Vota i migliori produttori nell'European Hardware Community Awards 2018",
         "type": "scatter",
         "uid": "6ce49ddf-c566-11e8-bbca-98541b5bf12b",
         "x": [
          -0.6163446702782764
         ],
         "y": [
          0.2834513035553957
         ]
        },
        {
         "marker": {
          "color": "rgba(0, 0, 110, .8)",
          "size": 7
         },
         "mode": "markers",
         "text": "Futuri robot con pelle che sente il vento - Hi-tech - ANSA.it",
         "type": "scatter",
         "uid": "6ce49de0-c566-11e8-bbca-98541b5bf12b",
         "x": [
          -3.6721726056686004
         ],
         "y": [
          0.8275785530256042
         ]
        },
        {
         "marker": {
          "color": "rgba(0, 0, 110, .8)",
          "size": 7
         },
         "mode": "markers",
         "text": "Influenza, scoperto il tallone d'Achille del virus - Biotech - ANSA.it",
         "type": "scatter",
         "uid": "6ce49de1-c566-11e8-bbca-98541b5bf12b",
         "x": [
          -5.671695573036891
         ],
         "y": [
          -0.10552197802085453
         ]
        },
        {
         "marker": {
          "color": "rgba(0, 0, 110, .8)",
          "size": 7
         },
         "mode": "markers",
         "text": "Il primo display elettronico su pelle per monitorare la nostra salute",
         "type": "scatter",
         "uid": "6ce49de2-c566-11e8-bbca-98541b5bf12b",
         "x": [
          -5.153818792377286
         ],
         "y": [
          -0.2433208803195713
         ]
        },
        {
         "marker": {
          "color": "rgba(0, 0, 110, .8)",
          "size": 7
         },
         "mode": "markers",
         "text": "Apple, no a violenza e sesso in show tv - Internet e Social - ANSA.it",
         "type": "scatter",
         "uid": "6ce49de3-c566-11e8-bbca-98541b5bf12b",
         "x": [
          2.0332583833199824
         ],
         "y": [
          -0.23470780261478247
         ]
        },
        {
         "marker": {
          "color": "rgba(0, 0, 110, .8)",
          "size": 7
         },
         "mode": "markers",
         "text": "Huawei Mate 20 Lite: un midrange dall'ottima autonomia. La recensione",
         "type": "scatter",
         "uid": "6ce49de4-c566-11e8-bbca-98541b5bf12b",
         "x": [
          0.010609993430219964
         ],
         "y": [
          -0.11445523166432073
         ]
        },
        {
         "marker": {
          "color": "rgba(0, 0, 110, .8)",
          "size": 7
         },
         "mode": "markers",
         "text": "iPhone Xs Max tira 3-4 volte più dell'Xs - Hi-tech - ANSA.it",
         "type": "scatter",
         "uid": "6ce49de5-c566-11e8-bbca-98541b5bf12b",
         "x": [
          8.204973837335894
         ],
         "y": [
          0.629589487964524
         ]
        },
        {
         "marker": {
          "color": "rgba(0, 0, 110, .8)",
          "size": 7
         },
         "mode": "markers",
         "text": "Sweeper, il robot che raccoglie ortaggi e frutta - News - ANSA.it",
         "type": "scatter",
         "uid": "6ce49de6-c566-11e8-bbca-98541b5bf12b",
         "x": [
          -2.711250643927927
         ],
         "y": [
          -0.5335737395727681
         ]
        },
        {
         "marker": {
          "color": "rgba(0, 0, 110, .8)",
          "size": 7
         },
         "mode": "markers",
         "text": "Amazon, 8 nuovi dispositivi con Alexa nel 2018 - Hi-tech - ANSA.it",
         "type": "scatter",
         "uid": "6ce49de7-c566-11e8-bbca-98541b5bf12b",
         "x": [
          10.27159872666048
         ],
         "y": [
          -0.6803686560672499
         ]
        },
        {
         "marker": {
          "color": "rgba(0, 0, 110, .8)",
          "size": 7
         },
         "mode": "markers",
         "text": "OnePlus: addio alla Dash Charge per via di una disputa legale sul nome",
         "type": "scatter",
         "uid": "6ce49de8-c566-11e8-bbca-98541b5bf12b",
         "x": [
          14.571576236091252
         ],
         "y": [
          1.1307265389212373
         ]
        },
        {
         "marker": {
          "color": "rgba(0, 0, 110, .8)",
          "size": 7
         },
         "mode": "markers",
         "text": "Hit Refresh,il Ceo Microsoft si racconta - Internet e Social - ANSA.it",
         "type": "scatter",
         "uid": "6ce49de9-c566-11e8-bbca-98541b5bf12b",
         "x": [
          -0.7627728376553584
         ],
         "y": [
          -1.860850464323962
         ]
        },
        {
         "marker": {
          "color": "rgba(0, 0, 110, .8)",
          "size": 7
         },
         "mode": "markers",
         "text": "Snapchat, shopping online su Amazon - Software e App - ANSA.it",
         "type": "scatter",
         "uid": "6ce49dea-c566-11e8-bbca-98541b5bf12b",
         "x": [
          6.908536419911297
         ],
         "y": [
          0.2083793761516341
         ]
        },
        {
         "marker": {
          "color": "rgba(0, 0, 110, .8)",
          "size": 7
         },
         "mode": "markers",
         "text": "Trovata la lettera che costo' a Galileo l'accusa di eresia - Spazio & Astronomia - ANSA.it",
         "type": "scatter",
         "uid": "6ce49deb-c566-11e8-bbca-98541b5bf12b",
         "x": [
          -4.748281763750481
         ],
         "y": [
          1.3275765342283838
         ]
        },
        {
         "marker": {
          "color": "rgba(0, 0, 110, .8)",
          "size": 7
         },
         "mode": "markers",
         "text": "In arrivo una rivoluzione nella diagnostica medica: una tecnologia sensibile alla singola molecola",
         "type": "scatter",
         "uid": "6ce49dec-c566-11e8-bbca-98541b5bf12b",
         "x": [
          -6.665095970489405
         ],
         "y": [
          -0.3542061386611762
         ]
        },
        {
         "marker": {
          "color": "rgba(0, 0, 110, .8)",
          "size": 7
         },
         "mode": "markers",
         "text": "Mai più batterie che prendono fuoco",
         "type": "scatter",
         "uid": "6ce49ded-c566-11e8-bbca-98541b5bf12b",
         "x": [
          -9.99844558700278
         ],
         "y": [
          3.220769557326871
         ]
        },
        {
         "marker": {
          "color": "rgba(0, 0, 110, .8)",
          "size": 7
         },
         "mode": "markers",
         "text": "Mercato mondiale Pc, nel 2019 la ripresa - Hi-tech - ANSA.it",
         "type": "scatter",
         "uid": "6ce49dee-c566-11e8-bbca-98541b5bf12b",
         "x": [
          -5.367145427489192
         ],
         "y": [
          -1.08098650064952
         ]
        },
        {
         "marker": {
          "color": "rgba(0, 0, 110, .8)",
          "size": 7
         },
         "mode": "markers",
         "text": "La più grande luna di Saturno sotto una tempesta di polvere - Spazio & Astronomia - ANSA.it",
         "type": "scatter",
         "uid": "6ce49def-c566-11e8-bbca-98541b5bf12b",
         "x": [
          -10.08052647470566
         ],
         "y": [
          1.77836904047626
         ]
        },
        {
         "marker": {
          "color": "rgba(0, 0, 110, .8)",
          "size": 7
         },
         "mode": "markers",
         "text": "Wef, con robot più lavoro, ma competenze da creare - Hi-tech - ANSA.it",
         "type": "scatter",
         "uid": "6ce49df0-c566-11e8-bbca-98541b5bf12b",
         "x": [
          -5.553901451463892
         ],
         "y": [
          0.024625796617616498
         ]
        },
        {
         "marker": {
          "color": "rgba(0, 0, 110, .8)",
          "size": 7
         },
         "mode": "markers",
         "text": "Twitter, si potrà tornare a cronologia tweet - Internet e Social - ANSA.it",
         "type": "scatter",
         "uid": "6ce49df1-c566-11e8-bbca-98541b5bf12b",
         "x": [
          9.930484157377713
         ],
         "y": [
          0.9461548658328216
         ]
        },
        {
         "marker": {
          "color": "rgba(0, 0, 110, .8)",
          "size": 7
         },
         "mode": "markers",
         "text": "Irix 150mm F2.8 per full frame con attacchi Canon EF, Nikon F e Pentax K a bassissima distorsione",
         "type": "scatter",
         "uid": "6ce49df2-c566-11e8-bbca-98541b5bf12b",
         "x": [
          -5.51266100449202
         ],
         "y": [
          -1.6570492577174074
         ]
        },
        {
         "marker": {
          "color": "rgba(0, 0, 110, .8)",
          "size": 7
         },
         "mode": "markers",
         "text": "Arriva in Italia Google Pay, sfida a Apple - Tlc - ANSA.it",
         "type": "scatter",
         "uid": "6ce49df3-c566-11e8-bbca-98541b5bf12b",
         "x": [
          -1.2817731958401057
         ],
         "y": [
          0.25020859304353765
         ]
        },
        {
         "marker": {
          "color": "rgba(0, 0, 110, .8)",
          "size": 7
         },
         "mode": "markers",
         "text": "Facebook: ex moderatrice fa causa, traumatizzata da immagini - Hi-tech - ANSA.it",
         "type": "scatter",
         "uid": "6ce49df4-c566-11e8-bbca-98541b5bf12b",
         "x": [
          0.29196622883325457
         ],
         "y": [
          0.267847043911183
         ]
        },
        {
         "marker": {
          "color": "rgba(0, 0, 110, .8)",
          "size": 7
         },
         "mode": "markers",
         "text": "Apple conta le telefonate contro le frodi - Hi-tech - ANSA.it",
         "type": "scatter",
         "uid": "6ce49df5-c566-11e8-bbca-98541b5bf12b",
         "x": [
          7.130647501374164
         ],
         "y": [
          0.496158047734369
         ]
        },
        {
         "marker": {
          "color": "rgba(0, 0, 110, .8)",
          "size": 7
         },
         "mode": "markers",
         "text": "RFID: dalle etichette dei supermercati a sensori per l'ambiente",
         "type": "scatter",
         "uid": "6ce49df6-c566-11e8-bbca-98541b5bf12b",
         "x": [
          -5.010100862812163
         ],
         "y": [
          -2.0999388902600336
         ]
        },
        {
         "marker": {
          "color": "rgba(0, 0, 110, .8)",
          "size": 7
         },
         "mode": "markers",
         "text": "Wsj, Facebook ha trattato con le banche per i dati degli utenti - Internet e Social - ANSA.it",
         "type": "scatter",
         "uid": "6ce49df7-c566-11e8-bbca-98541b5bf12b",
         "x": [
          -3.0544970428570424
         ],
         "y": [
          -1.0712164876648194
         ]
        },
        {
         "marker": {
          "color": "rgba(0, 0, 110, .8)",
          "size": 7
         },
         "mode": "markers",
         "text": "Tutti fanno la mirrorless full frame? Fujifilm alza il medio (formato) con GFX 50R",
         "type": "scatter",
         "uid": "6ce49df8-c566-11e8-bbca-98541b5bf12b",
         "x": [
          -5.5644210873101665
         ],
         "y": [
          -3.7816964347895
         ]
        },
        {
         "marker": {
          "color": "rgba(0, 0, 110, .8)",
          "size": 7
         },
         "mode": "markers",
         "text": "Nell'iPhone Day, Xiaomi lancia Mi 8 Pro - Hi-tech - ANSA.it",
         "type": "scatter",
         "uid": "6ce49df9-c566-11e8-bbca-98541b5bf12b",
         "x": [
          -0.5684582055424459
         ],
         "y": [
          -1.4687139087218897
         ]
        },
        {
         "marker": {
          "color": "rgba(0, 0, 110, .8)",
          "size": 7
         },
         "mode": "markers",
         "text": "Usa, causa contro Facebook per inserzioni discriminatorie - Internet e Social - ANSA.it",
         "type": "scatter",
         "uid": "6ce49dfa-c566-11e8-bbca-98541b5bf12b",
         "x": [
          4.935323194829995
         ],
         "y": [
          -0.2920133891676042
         ]
        },
        {
         "marker": {
          "color": "rgba(0, 0, 110, .8)",
          "size": 7
         },
         "mode": "markers",
         "text": "Fb, 'war room' in vista voto Usa e Ue - Internet e Social - ANSA.it",
         "type": "scatter",
         "uid": "6ce49dfb-c566-11e8-bbca-98541b5bf12b",
         "x": [
          0.9032988612881646
         ],
         "y": [
          -0.7569108424044142
         ]
        },
        {
         "marker": {
          "color": "rgba(0, 0, 110, .8)",
          "size": 7
         },
         "mode": "markers",
         "text": "Annunciata la soluzione di un problema inseguito da 160 anni - Fisica & Matematica - ANSA.it",
         "type": "scatter",
         "uid": "6ce49dfc-c566-11e8-bbca-98541b5bf12b",
         "x": [
          0.33318903411693734
         ],
         "y": [
          0.12625131002808998
         ]
        },
        {
         "marker": {
          "color": "rgba(0, 0, 110, .8)",
          "size": 7
         },
         "mode": "markers",
         "text": "Notti più luminose con la Luna del raccolto - Spazio & Astronomia - ANSA.it",
         "type": "scatter",
         "uid": "6ce49dfd-c566-11e8-bbca-98541b5bf12b",
         "x": [
          -6.109462822055901
         ],
         "y": [
          -1.1835947499615902
         ]
        },
        {
         "marker": {
          "color": "rgba(0, 0, 110, .8)",
          "size": 7
         },
         "mode": "markers",
         "text": "Apple ridà oltre 14 miliardi di euro di aiuti fiscali all'Irlanda - Tlc - ANSA.it",
         "type": "scatter",
         "uid": "6ce49dfe-c566-11e8-bbca-98541b5bf12b",
         "x": [
          0.9627777241368978
         ],
         "y": [
          -0.9969416485684673
         ]
        },
        {
         "marker": {
          "color": "rgba(0, 0, 110, .8)",
          "size": 7
         },
         "mode": "markers",
         "text": "Kingston, disponibili gli SSD HyperX Fury RGB: un tocco di colore alle ''solite'' unità 2,5''",
         "type": "scatter",
         "uid": "6ce49dff-c566-11e8-bbca-98541b5bf12b",
         "x": [
          12.022037912748765
         ],
         "y": [
          0.509025480350892
         ]
        },
        {
         "marker": {
          "color": "rgba(0, 0, 110, .8)",
          "size": 7
         },
         "mode": "markers",
         "text": "Il primo esofago costruito in laboratorio - Biotech - ANSA.it",
         "type": "scatter",
         "uid": "6ce49e00-c566-11e8-bbca-98541b5bf12b",
         "x": [
          -6.477287431963233
         ],
         "y": [
          0.14778063958461185
         ]
        },
        {
         "marker": {
          "color": "rgba(0, 0, 110, .8)",
          "size": 7
         },
         "mode": "markers",
         "text": "Soffici e magnetici: sono i nuovi robot ideati dal MIT",
         "type": "scatter",
         "uid": "6ce49e01-c566-11e8-bbca-98541b5bf12b",
         "x": [
          -8.619427944115822
         ],
         "y": [
          -0.012292773290571527
         ]
        },
        {
         "marker": {
          "color": "rgba(0, 0, 110, .8)",
          "size": 7
         },
         "mode": "markers",
         "text": "Apple completa l'acquisizione di Shazam - Software e App - ANSA.it",
         "type": "scatter",
         "uid": "6ce49e02-c566-11e8-bbca-98541b5bf12b",
         "x": [
          8.275194364559628
         ],
         "y": [
          0.021531133051930846
         ]
        },
        {
         "marker": {
          "color": "rgba(0, 0, 110, .8)",
          "size": 7
         },
         "mode": "markers",
         "text": "Ripristinare la sensazione di movimento nei pazienti con protesi",
         "type": "scatter",
         "uid": "6ce49e03-c566-11e8-bbca-98541b5bf12b",
         "x": [
          -5.718274930185789
         ],
         "y": [
          -0.36473072675378393
         ]
        },
        {
         "marker": {
          "color": "rgba(0, 0, 110, .8)",
          "size": 7
         },
         "mode": "markers",
         "text": "La Terra come Venere, potrebbe avere un futuro bollente - Terra & Poli - ANSA.it",
         "type": "scatter",
         "uid": "6ce49e04-c566-11e8-bbca-98541b5bf12b",
         "x": [
          2.8418238785178804
         ],
         "y": [
          0.9402336455580194
         ]
        },
        {
         "marker": {
          "color": "rgba(0, 0, 110, .8)",
          "size": 7
         },
         "mode": "markers",
         "text": "Malaria, una reazione a catena genetica annienta le zanzare - Biotech - ANSA.it",
         "type": "scatter",
         "uid": "6ce49e05-c566-11e8-bbca-98541b5bf12b",
         "x": [
          -5.2889578870419625
         ],
         "y": [
          0.4845930765160117
         ]
        },
        {
         "marker": {
          "color": "rgba(0, 0, 110, .8)",
          "size": 7
         },
         "mode": "markers",
         "text": "Nature, due italiani fra gli 11 ricercatori emergenti - Ricerca & Istituzioni - ANSA.it",
         "type": "scatter",
         "uid": "6ce49e06-c566-11e8-bbca-98541b5bf12b",
         "x": [
          -1.9596667696121286
         ],
         "y": [
          -1.085256739225675
         ]
        },
        {
         "marker": {
          "color": "rgba(0, 0, 110, .8)",
          "size": 7
         },
         "mode": "markers",
         "text": "Un robot per l’autismo: le terapie incontrano l'intelligenza artificiale",
         "type": "scatter",
         "uid": "6ce49e07-c566-11e8-bbca-98541b5bf12b",
         "x": [
          -6.786306952296194
         ],
         "y": [
          2.2253733002946396
         ]
        },
        {
         "marker": {
          "color": "rgba(0, 0, 110, .8)",
          "size": 7
         },
         "mode": "markers",
         "text": "V-Rally 4, disponibile da oggi la versione PC",
         "type": "scatter",
         "uid": "6ce49e08-c566-11e8-bbca-98541b5bf12b",
         "x": [
          -7.859415035351062
         ],
         "y": [
          -3.779367819823177
         ]
        },
        {
         "marker": {
          "color": "rgba(0, 0, 110, .8)",
          "size": 7
         },
         "mode": "markers",
         "text": "L’impronta fossile dell'animale più antico - News - ANSA.it",
         "type": "scatter",
         "uid": "6ce49e09-c566-11e8-bbca-98541b5bf12b",
         "x": [
          -10.017726051727553
         ],
         "y": [
          2.760934737623691
         ]
        },
        {
         "marker": {
          "color": "rgba(0, 0, 110, .8)",
          "size": 7
         },
         "mode": "markers",
         "text": "È possibile che un robot possa utilizzare la teoria della mente?",
         "type": "scatter",
         "uid": "6ce49e0a-c566-11e8-bbca-98541b5bf12b",
         "x": [
          -9.208959138958514
         ],
         "y": [
          3.083970380823015
         ]
        },
        {
         "marker": {
          "color": "rgba(0, 0, 110, .8)",
          "size": 7
         },
         "mode": "markers",
         "text": "Meglio di un ologramma: quando una particella intrappolata dà vita a un’immagine 3D",
         "type": "scatter",
         "uid": "6ce49e0b-c566-11e8-bbca-98541b5bf12b",
         "x": [
          -4.430698746067656
         ],
         "y": [
          0.30454176653489057
         ]
        },
        {
         "marker": {
          "color": "rgba(0, 0, 110, .8)",
          "size": 7
         },
         "mode": "markers",
         "text": "Mattarella nei laboratori dell'Enea - Ricerca & Istituzioni - ANSA.it",
         "type": "scatter",
         "uid": "6ce49e0c-c566-11e8-bbca-98541b5bf12b",
         "x": [
          4.418076690479252
         ],
         "y": [
          0.7983788570067578
         ]
        },
        {
         "marker": {
          "color": "rgba(0, 0, 110, .8)",
          "size": 7
         },
         "mode": "markers",
         "text": "Conto corrente N26: il miglior modo per pagare è dallo smartphone",
         "type": "scatter",
         "uid": "6ce49e0d-c566-11e8-bbca-98541b5bf12b",
         "x": [
          -0.009406092262218725
         ],
         "y": [
          -0.7907748351850682
         ]
        },
        {
         "marker": {
          "color": "rgba(0, 0, 110, .8)",
          "size": 7
         },
         "mode": "markers",
         "text": "Immagini mozzafiato delle nubi blu che brillano ai poli - Spazio & Astronomia - ANSA.it",
         "type": "scatter",
         "uid": "6ce49e0e-c566-11e8-bbca-98541b5bf12b",
         "x": [
          -8.983874261419405
         ],
         "y": [
          -0.3664438785010738
         ]
        },
        {
         "marker": {
          "color": "rgba(0, 0, 110, .8)",
          "size": 7
         },
         "mode": "markers",
         "text": "Primi scatti dall'asteroide Ryugu - Spazio & Astronomia - ANSA.it",
         "type": "scatter",
         "uid": "6ce49e0f-c566-11e8-bbca-98541b5bf12b",
         "x": [
          -5.4074939953527945
         ],
         "y": [
          -2.0057483365685096
         ]
        },
        {
         "marker": {
          "color": "rgba(0, 0, 110, .8)",
          "size": 7
         },
         "mode": "markers",
         "text": "Microsoft Office 2019 è ora disponibile per Windows e macOS",
         "type": "scatter",
         "uid": "6ce49e10-c566-11e8-bbca-98541b5bf12b",
         "x": [
          8.599583577017853
         ],
         "y": [
          0.6961211143850162
         ]
        },
        {
         "marker": {
          "color": "rgba(0, 0, 110, .8)",
          "size": 7
         },
         "mode": "markers",
         "text": "Microsoft,40mln per AI a scopi umanitari - Hi-tech - ANSA.it",
         "type": "scatter",
         "uid": "6ce49e11-c566-11e8-bbca-98541b5bf12b",
         "x": [
          7.024624579282294
         ],
         "y": [
          -0.014558314224192894
         ]
        },
        {
         "marker": {
          "color": "rgba(0, 0, 110, .8)",
          "size": 7
         },
         "mode": "markers",
         "text": "Skiller Mech SGK3 è una tastiera meccanica che dà controllo totale ai giocatori",
         "type": "scatter",
         "uid": "6ce49e12-c566-11e8-bbca-98541b5bf12b",
         "x": [
          0.9478394500808504
         ],
         "y": [
          -0.6345507811782446
         ]
        },
        {
         "marker": {
          "color": "rgba(0, 0, 110, .8)",
          "size": 7
         },
         "mode": "markers",
         "text": "Un sensore applicato su un dente potrà tracciare i nostri pasti",
         "type": "scatter",
         "uid": "6ce49e13-c566-11e8-bbca-98541b5bf12b",
         "x": [
          -7.1341788281320575
         ],
         "y": [
          0.2883821023403108
         ]
        },
        {
         "marker": {
          "color": "rgba(0, 0, 110, .8)",
          "size": 7
         },
         "mode": "markers",
         "text": "Un nuovo metodo per identificare la chiralità di una molecola",
         "type": "scatter",
         "uid": "6ce49e14-c566-11e8-bbca-98541b5bf12b",
         "x": [
          -4.785742610815745
         ],
         "y": [
          1.8050136957860194
         ]
        },
        {
         "marker": {
          "color": "rgba(0, 0, 110, .8)",
          "size": 7
         },
         "mode": "markers",
         "text": "Spamming estorsivo, Polizia Postale lancia l'allarme - Internet e Social - ANSA.it",
         "type": "scatter",
         "uid": "6ce49e15-c566-11e8-bbca-98541b5bf12b",
         "x": [
          2.621221157448438
         ],
         "y": [
          0.2580828926471912
         ]
        },
        {
         "marker": {
          "color": "rgba(0, 0, 110, .8)",
          "size": 7
         },
         "mode": "markers",
         "text": "iPhone, 400 persone in coda a Singapore - Hi-tech - ANSA.it",
         "type": "scatter",
         "uid": "6ce49e16-c566-11e8-bbca-98541b5bf12b",
         "x": [
          -3.7905184886219736
         ],
         "y": [
          -2.296429596298845
         ]
        },
        {
         "marker": {
          "color": "rgba(0, 0, 110, .8)",
          "size": 7
         },
         "mode": "markers",
         "text": "Facebook: la Ue attacca, migliori la trasparenza o multe in arrivo - Internet e Social - ANSA.it",
         "type": "scatter",
         "uid": "6ce49e17-c566-11e8-bbca-98541b5bf12b",
         "x": [
          9.568429666308896
         ],
         "y": [
          -0.5607998697762175
         ]
        },
        {
         "marker": {
          "color": "rgba(0, 0, 110, .8)",
          "size": 7
         },
         "mode": "markers",
         "text": "Soft robot: la rivoluzione morbida",
         "type": "scatter",
         "uid": "6ce49e18-c566-11e8-bbca-98541b5bf12b",
         "x": [
          -2.7945769805521343
         ],
         "y": [
          0.10121596290490097
         ]
        },
        {
         "marker": {
          "color": "rgba(0, 0, 110, .8)",
          "size": 7
         },
         "mode": "markers",
         "text": "Facebook e Google nel mirino di Trump - Internet e Social - ANSA.it",
         "type": "scatter",
         "uid": "6ce49e19-c566-11e8-bbca-98541b5bf12b",
         "x": [
          0.8183712679883441
         ],
         "y": [
          0.26471046881839405
         ]
        },
        {
         "marker": {
          "color": "rgba(0, 0, 110, .8)",
          "size": 7
         },
         "mode": "markers",
         "text": "Terremoti: dall’ENEA un nuovo metodo per individuare i beni culturali a rischio",
         "type": "scatter",
         "uid": "6ce49e1a-c566-11e8-bbca-98541b5bf12b",
         "x": [
          -5.113518479020399
         ],
         "y": [
          -0.056828505517672045
         ]
        },
        {
         "marker": {
          "color": "rgba(0, 0, 110, .8)",
          "size": 7
         },
         "mode": "markers",
         "text": "Robot protagonisti tra scienza e spettacolo a Festival Pisa - Tecnologie - ANSA.it",
         "type": "scatter",
         "uid": "6ce49e1b-c566-11e8-bbca-98541b5bf12b",
         "x": [
          -7.609724517170141
         ],
         "y": [
          -1.3549327838147458
         ]
        },
        {
         "marker": {
          "color": "rgba(0, 0, 110, .8)",
          "size": 7
         },
         "mode": "markers",
         "text": "Nella Via Lattea un autoscontro stellare - News - ANSA.it",
         "type": "scatter",
         "uid": "6ce49e1c-c566-11e8-bbca-98541b5bf12b",
         "x": [
          -3.101455577030617
         ],
         "y": [
          -0.16860784657167763
         ]
        },
        {
         "marker": {
          "color": "rgba(0, 0, 110, .8)",
          "size": 7
         },
         "mode": "markers",
         "text": "California, legge proteggerà da hacker oggetti connessi - Tlc - ANSA.it",
         "type": "scatter",
         "uid": "6ce49e1d-c566-11e8-bbca-98541b5bf12b",
         "x": [
          5.360996963366274
         ],
         "y": [
          0.36344965858078904
         ]
        },
        {
         "marker": {
          "color": "rgba(0, 0, 110, .8)",
          "size": 7
         },
         "mode": "markers",
         "text": "Samsung, i nuovi Galaxy J6+ e J4+ - Tlc - ANSA.it",
         "type": "scatter",
         "uid": "6ce49e1e-c566-11e8-bbca-98541b5bf12b",
         "x": [
          -1.9568433475201885
         ],
         "y": [
          -1.5781927803311802
         ]
        },
        {
         "marker": {
          "color": "rgba(0, 0, 110, .8)",
          "size": 7
         },
         "mode": "markers",
         "text": "Cellule della pelle sono state trasformate in neuroni - Biotech - ANSA.it",
         "type": "scatter",
         "uid": "6ce49e1f-c566-11e8-bbca-98541b5bf12b",
         "x": [
          -4.42302381522951
         ],
         "y": [
          2.5799356244006506
         ]
        },
        {
         "marker": {
          "color": "rgba(0, 0, 110, .8)",
          "size": 7
         },
         "mode": "markers",
         "text": "Da una miniera del Sulcis la spia della materia oscura - Fisica & Matematica - ANSA.it",
         "type": "scatter",
         "uid": "6ce49e20-c566-11e8-bbca-98541b5bf12b",
         "x": [
          -9.318142271466483
         ],
         "y": [
          0.28756169371046947
         ]
        },
        {
         "marker": {
          "color": "rgba(0, 0, 110, .8)",
          "size": 7
         },
         "mode": "markers",
         "text": "Anche per Playstation Classic c'è operazione nostalgia - Hi-tech - ANSA.it",
         "type": "scatter",
         "uid": "6ce49e21-c566-11e8-bbca-98541b5bf12b",
         "x": [
          -5.229236247408149
         ],
         "y": [
          -0.4648680532689834
         ]
        },
        {
         "marker": {
          "color": "rgba(0, 0, 110, .8)",
          "size": 7
         },
         "mode": "markers",
         "text": "Ricoh al lavoro sull'imminente GR III, compatta che sostituirà la GR II",
         "type": "scatter",
         "uid": "6ce49e22-c566-11e8-bbca-98541b5bf12b",
         "x": [
          -4.544595891922966
         ],
         "y": [
          -2.413856726671092
         ]
        },
        {
         "marker": {
          "color": "rgba(0, 0, 110, .8)",
          "size": 7
         },
         "mode": "markers",
         "text": "Come spezzare uno spaghetto in due? Lo spiega il MIT",
         "type": "scatter",
         "uid": "6ce49e23-c566-11e8-bbca-98541b5bf12b",
         "x": [
          -8.80839794408558
         ],
         "y": [
          1.9393332912066454
         ]
        },
        {
         "marker": {
          "color": "rgba(0, 0, 110, .8)",
          "size": 7
         },
         "mode": "markers",
         "text": "TIM, minuti illimitati e 50GB a 9,99 Euro, ma solo per pochi giorni: ecco come fare per averla",
         "type": "scatter",
         "uid": "6ce49e24-c566-11e8-bbca-98541b5bf12b",
         "x": [
          7.689079508303031
         ],
         "y": [
          0.5473492375151141
         ]
        },
        {
         "marker": {
          "color": "rgba(0, 0, 110, .8)",
          "size": 7
         },
         "mode": "markers",
         "text": "Accordo Dis-Samsung per promuovere cultura sicurezza - Tlc - ANSA.it",
         "type": "scatter",
         "uid": "6ce49e25-c566-11e8-bbca-98541b5bf12b",
         "x": [
          2.466208915275878
         ],
         "y": [
          -0.9696442800219008
         ]
        },
        {
         "marker": {
          "color": "rgba(0, 0, 110, .8)",
          "size": 7
         },
         "mode": "markers",
         "text": "Amazon, lente Ue su dati sensibili - Internet e Social - ANSA.it",
         "type": "scatter",
         "uid": "6ce49e26-c566-11e8-bbca-98541b5bf12b",
         "x": [
          10.101630477997805
         ],
         "y": [
          0.25717151799579857
         ]
        },
        {
         "marker": {
          "color": "rgba(0, 0, 110, .8)",
          "size": 7
         },
         "mode": "markers",
         "text": "Ecco il carattere che allunga i documenti, sogno di ogni studente - Hi-tech - ANSA.it",
         "type": "scatter",
         "uid": "6ce49e27-c566-11e8-bbca-98541b5bf12b",
         "x": [
          1.0057405064845948
         ],
         "y": [
          1.053195666353929
         ]
        },
        {
         "marker": {
          "color": "rgba(0, 0, 110, .8)",
          "size": 7
         },
         "mode": "markers",
         "text": "E' l'equinozio d'autunno - Spazio & Astronomia - ANSA.it",
         "type": "scatter",
         "uid": "6ce49e28-c566-11e8-bbca-98541b5bf12b",
         "x": [
          -12.498157562599419
         ],
         "y": [
          0.2646833201449525
         ]
        },
        {
         "marker": {
          "color": "rgba(0, 0, 110, .8)",
          "size": 7
         },
         "mode": "markers",
         "text": "iPhone, a Milano tutti in fila per i nuovi modelli - Tlc - ANSA.it",
         "type": "scatter",
         "uid": "6ce49e29-c566-11e8-bbca-98541b5bf12b",
         "x": [
          4.5958356787025805
         ],
         "y": [
          -0.22634458186705808
         ]
        },
        {
         "marker": {
          "color": "rgba(0, 0, 110, .8)",
          "size": 7
         },
         "mode": "markers",
         "text": "Serre marziane, all'Enea crescono le super-piante del futuro - Biotech - ANSA.it",
         "type": "scatter",
         "uid": "6ce49e2a-c566-11e8-bbca-98541b5bf12b",
         "x": [
          -10.253818074858888
         ],
         "y": [
          -0.7554586928103025
         ]
        },
        {
         "marker": {
          "color": "rgba(0, 0, 110, .8)",
          "size": 7
         },
         "mode": "markers",
         "text": "Bolide sul cielo della Sardegna, il terzo dell'estate - Spazio & Astronomia - ANSA.it",
         "type": "scatter",
         "uid": "6ce49e2b-c566-11e8-bbca-98541b5bf12b",
         "x": [
          -8.838849816794502
         ],
         "y": [
          0.025070452284351046
         ]
        },
        {
         "marker": {
          "color": "rgba(0, 0, 110, .8)",
          "size": 7
         },
         "mode": "markers",
         "text": "SpaceX: ecco come saranno le basi umane su Marte",
         "type": "scatter",
         "uid": "6ce49e2c-c566-11e8-bbca-98541b5bf12b",
         "x": [
          6.1187462241150525
         ],
         "y": [
          1.2254547240996314
         ]
        },
        {
         "marker": {
          "color": "rgba(0, 0, 110, .8)",
          "size": 7
         },
         "mode": "markers",
         "text": "Notte Europea dei Ricercatori, 12 città in festa per la scienza - Ricerca & Istituzioni - ANSA.it",
         "type": "scatter",
         "uid": "6ce49e2d-c566-11e8-bbca-98541b5bf12b",
         "x": [
          -8.435710674253489
         ],
         "y": [
          1.739104286492502
         ]
        },
        {
         "marker": {
          "color": "rgba(0, 0, 110, .8)",
          "size": 7
         },
         "mode": "markers",
         "text": "Questi 7 prodotti dodocool sono in sconto su Amazon per i prossimi giorni: ecco i coupon",
         "type": "scatter",
         "uid": "6ce49e2e-c566-11e8-bbca-98541b5bf12b",
         "x": [
          9.232391785281783
         ],
         "y": [
          0.3090654323353525
         ]
        },
        {
         "marker": {
          "color": "rgba(0, 0, 110, .8)",
          "size": 7
         },
         "mode": "markers",
         "text": "Mirrorless, full frame, 47Mpixel e 24Mpixel: in arrivo le Panasonic Lumix S1R e S1 con attacco L-Mount",
         "type": "scatter",
         "uid": "6ce49e2f-c566-11e8-bbca-98541b5bf12b",
         "x": [
          0.5706296578800597
         ],
         "y": [
          -0.7405774801315071
         ]
        },
        {
         "marker": {
          "color": "rgba(0, 0, 110, .8)",
          "size": 7
         },
         "mode": "markers",
         "text": "Come usare i kirigami per far muovere un soft robot",
         "type": "scatter",
         "uid": "6ce49e30-c566-11e8-bbca-98541b5bf12b",
         "x": [
          -6.836637285846573
         ],
         "y": [
          1.048621869927455
         ]
        }
       ],
       "layout": {
        "hovermode": "closest",
        "showlegend": false,
        "title": "PCA Representantion of DocVectors",
        "xaxis": {
         "gridwidth": 2,
         "ticklen": 5,
         "title": "first component"
        },
        "yaxis": {
         "gridwidth": 2,
         "ticklen": 5,
         "title": "second component"
        }
       }
      }
     },
     "metadata": {},
     "output_type": "display_data"
    }
   ],
   "source": [
    "import plotly.plotly as py\n",
    "import plotly.figure_factory as ff\n",
    "import plotly.tools as tls\n",
    "import plotly.graph_objs as go\n",
    "\n",
    "tls.set_credentials_file(username='D4nt3', api_key='FdMB4O6qCfciGDOnLvdQ')\n",
    "\n",
    "COMPONENT_ONE = \"principal component 1\"\n",
    "COMPONENT_TWO = \"principal component 2\"\n",
    "counter = 0\n",
    "\n",
    "# visualize all the document vectors the model has learned from training\n",
    "# TODO: don't iter over models array, but rather load each model from local\n",
    "for model, training_set in models:\n",
    "    # get all vectors of documents we created from model training\n",
    "    docs_vecs = []\n",
    "    # docvecs (list of Doc2VecKeyedVectors) \n",
    "    # – Vector representations of the documents in the corpus. Each vector has size == vector_size\n",
    "    for doc in iter(range(0, len(model.docvecs))):\n",
    "        docs_vecs.append(model.docvecs[doc])\n",
    "    #print(docs_vecs)\n",
    "\n",
    "    # loading dataset into Pandas DataFrame\n",
    "    df = pd.DataFrame.from_records(docs_vecs)\n",
    "    \n",
    "    ## PCA dimensionality-reduction ##\n",
    "    # PCA is effected by scale so you need to scale the features in your data before applying PCA. \n",
    "    features = [i for i in range(vec_size)]\n",
    "\n",
    "    x = df.loc[:, features].values # get features values\n",
    "    #print(x)\n",
    "\n",
    "    # standardize data\n",
    "    x = StandardScaler().fit_transform(x) # scale data (especially in case different measures are used)\n",
    "    \n",
    "    # build PCA model in 2D\n",
    "    pca = PCA(n_components=2) # The new components are just the two main dimensions of variation.\n",
    "    principalComponents = pca.fit_transform(x)\n",
    "    principalDf = pd.DataFrame(data = principalComponents\n",
    "                 , columns = [COMPONENT_ONE, COMPONENT_TWO])\n",
    "    \n",
    "    # we'll draw a scatter graph with labels\n",
    "    traces = []\n",
    "    # let's get the labels\n",
    "    titles = [dictionary['title'] for dictionary in training_set]\n",
    "    #print(print(titles))\n",
    "    finalDf = principalDf\n",
    "    # double check to be sure we got labels just right\n",
    "    #i = 50\n",
    "    #print(\"TITLE: {0}\\n <<{1}>>\".format(titles[i], train_corpus[i][:1]))\n",
    "\n",
    "    # each trace will represent a point (squeezed vector from higher dimensions),\n",
    "    # and each point will have the title of the news assigned\n",
    "    for i in range(len(finalDf)):\n",
    "        trace0 = go.Scatter(\n",
    "            x = finalDf.loc[i:i, \"principal component 1\"],\n",
    "            y = finalDf.loc[i:i, \"principal component 2\"],\n",
    "            mode = 'markers',\n",
    "            #name = 'blue markers',\n",
    "            marker = dict(\n",
    "                size = 7,\n",
    "                color = 'rgba(0, 0, 110, .8)',\n",
    "            ),\n",
    "            text = str(titles[i])\n",
    "        )\n",
    "        traces.append(trace0)\n",
    "\n",
    "    data = traces \n",
    "    layout = dict(title = 'PCA Representantion of DocVectors',\n",
    "            hovermode= 'closest',\n",
    "            xaxis= dict(\n",
    "                title= 'first component',\n",
    "                ticklen= 5,\n",
    "                gridwidth= 2,\n",
    "            ),\n",
    "            yaxis=dict(\n",
    "                title= 'second component',\n",
    "                ticklen= 5,\n",
    "                gridwidth= 2,\n",
    "            ),\n",
    "            showlegend = False\n",
    "        )\n",
    "    # Plot and embed in ipython notebook!\n",
    "    fig = dict(data = data, layout = layout)\n",
    "    # need offline plotly to display graphs inside a loop\n",
    "    py.iplot(fig, filename='TA_model_entities-scatter'+str(counter))\n",
    "    counter = counter + 1"
   ]
  },
  {
   "cell_type": "code",
   "execution_count": 53,
   "metadata": {},
   "outputs": [
    {
     "data": {
      "text/html": [
       "<iframe id=\"igraph\" scrolling=\"no\" style=\"border:none;\" seamless=\"seamless\" src=\"https://plot.ly/~D4nt3/8.embed\" height=\"525px\" width=\"100%\"></iframe>"
      ],
      "text/plain": [
       "<plotly.tools.PlotlyDisplay object>"
      ]
     },
     "execution_count": 53,
     "metadata": {},
     "output_type": "execute_result"
    }
   ],
   "source": [
    "docs_vecs = []\n",
    "model, traning_set = models[0]\n",
    "# docvecs (list of Doc2VecKeyedVectors) \n",
    "# – Vector representations of the documents in the corpus. Each vector has size == vector_size\n",
    "for doc in iter(range(0, len(model.docvecs))):\n",
    "    docs_vecs.append(model.docvecs[doc])\n",
    "#print(docs_vecs)\n",
    "# loading dataset into Pandas DataFrame\n",
    "df = pd.DataFrame.from_records(docs_vecs)    \n",
    "    ## PCA dimensionality-reduction ##\n",
    "    # PCA is effected by scale so you need to scale the features in your data before applying PCA. \n",
    "features = [i for i in range(vec_size)]\n",
    "x = df.loc[:, features].values # get features values\n",
    "#print(x)\n",
    "# standardize data\n",
    "x = StandardScaler().fit_transform(x) # scale data (especially in case different measures are used)\n",
    "    \n",
    "# build PCA model in 2D\n",
    "pca = PCA(n_components=2) # The new components are just the two main dimensions of variation.\n",
    "principalComponents = pca.fit_transform(x)\n",
    "principalDf = pd.DataFrame(data = principalComponents, \n",
    "                           columns = [COMPONENT_ONE, COMPONENT_TWO])\n",
    "    \n",
    "    # we'll draw a scatter graph with labels\n",
    "traces = []\n",
    "# let's get the labels\n",
    "titles = [dictionary['title'] for dictionary in training_set]\n",
    "#print(print(titles))\n",
    "finalDf = principalDf\n",
    "# double check to be sure we got labels just right\n",
    "#i = 50\n",
    "#print(\"TITLE: {0}\\n <<{1}>>\".format(titles[i], train_corpus[i][:1]))\n",
    "\n",
    "    # each trace will represent a point (squeezed vector from higher dimensions),\n",
    "    # and each point will have the title of the news assigned\n",
    "for i in range(len(finalDf)):\n",
    "    trace0 = go.Scatter(\n",
    "        x = finalDf.loc[i:i, \"principal component 1\"],\n",
    "        y = finalDf.loc[i:i, \"principal component 2\"],\n",
    "        mode = 'markers',\n",
    "            #name = 'blue markers',\n",
    "        marker = dict(\n",
    "            size = 7,\n",
    "            color = 'rgba(0, 0, 110, .8)',\n",
    "        ),\n",
    "        text = str(titles[i])\n",
    "    )\n",
    "    traces.append(trace0)\n",
    "\n",
    "data = traces \n",
    "layout = dict(title = 'PCA Representantion of DocVectors',\n",
    "            hovermode= 'closest',\n",
    "            xaxis= dict(\n",
    "                title= 'first component',\n",
    "                ticklen= 5,\n",
    "                gridwidth= 2,\n",
    "            ),\n",
    "            yaxis=dict(\n",
    "                title= 'second component',\n",
    "                ticklen= 5,\n",
    "                gridwidth= 2,\n",
    "            ),\n",
    "            showlegend = False\n",
    "        )\n",
    "# Plot and embed in ipython notebook!\n",
    "    \n",
    "fig = dict(data = data, layout = layout)\n",
    "py.iplot(fig, filename='TA_model_entities-scatter')"
   ]
  },
  {
   "cell_type": "code",
   "execution_count": null,
   "metadata": {},
   "outputs": [],
   "source": []
  }
 ],
 "metadata": {
  "kernelspec": {
   "display_name": "Python 3",
   "language": "python",
   "name": "python3"
  },
  "language_info": {
   "codemirror_mode": {
    "name": "ipython",
    "version": 3
   },
   "file_extension": ".py",
   "mimetype": "text/x-python",
   "name": "python",
   "nbconvert_exporter": "python",
   "pygments_lexer": "ipython3",
   "version": "3.6.5"
  }
 },
 "nbformat": 4,
 "nbformat_minor": 2
}

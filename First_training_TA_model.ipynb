{
 "cells": [
  {
   "cell_type": "code",
   "execution_count": 3,
   "metadata": {},
   "outputs": [],
   "source": [
    "# PCA imports\n",
    "import pandas as pd \n",
    "import numpy as np\n",
    "import matplotlib.pyplot as plt\n",
    "from sklearn.decomposition import PCA\n",
    "from sklearn.preprocessing import StandardScaler\n",
    "%matplotlib inline"
   ]
  },
  {
   "cell_type": "code",
   "execution_count": 13,
   "metadata": {},
   "outputs": [],
   "source": [
    "# Doc2Vec imports\n",
    "from gensim.models.doc2vec import Doc2Vec, TaggedDocument\n",
    "import gensim\n",
    "\n",
    "import json # to open our data file\n",
    "DATA_FILENAME = \"trend_analisys.json\"\n",
    "# open json file\n",
    "with open(DATA_FILENAME, \"r\") as json_file:\n",
    "    json_data = json.load(json_file)\n",
    "# we're expecting a list now, since our json file is a json array\n",
    "assert type(json_data) is list"
   ]
  },
  {
   "cell_type": "code",
   "execution_count": 14,
   "metadata": {},
   "outputs": [
    {
     "name": "stdout",
     "output_type": "stream",
     "text": [
      "Number of duplicates:  85\n",
      "New length:  208\n"
     ]
    }
   ],
   "source": [
    "counter = 0\n",
    "for i, dictionary in enumerate(json_data):\n",
    "    try:\n",
    "        index = json_data.index(dictionary, i+1, len(json_data))\n",
    "        #print(\"Found a duplicate with index {0} from index {1}\".format(index, i))\n",
    "        del(json_data[index])\n",
    "        counter = counter + 1\n",
    "    except ValueError:\n",
    "        None\n",
    "print(\"Number of duplicates: \", counter)\n",
    "print(\"New length: \", len(json_data))"
   ]
  },
  {
   "cell_type": "markdown",
   "metadata": {},
   "source": [
    "## Version 1 - Training Model with Abstract field (whole text)"
   ]
  },
  {
   "cell_type": "code",
   "execution_count": 16,
   "metadata": {},
   "outputs": [
    {
     "name": "stdout",
     "output_type": "stream",
     "text": [
      "Total examples: 208, number of train examples: 187, number of test examples: 21\n"
     ]
    }
   ],
   "source": [
    "# we have our json data now, let's go ahead and divide into training and test set\n",
    "n_examples =  len(json_data)\n",
    "# how much of the data we're going to be using for training and for testing\n",
    "# default values: 80% train, 20% test\n",
    "TRAIN_DATA_LENGTH = 9 * n_examples // 10\n",
    "TEST_DATA_LENGTH = n_examples - TRAIN_DATA_LENGTH\n",
    "ABSTRACT_FIELD_NAME = 'abstract'\n",
    "TITLE_FIELD_NAME = 'title'\n",
    "\n",
    "print(\"Total examples: {0}, number of train examples: {1}, number of test examples: {2}\".format(n_examples,TRAIN_DATA_LENGTH, TEST_DATA_LENGTH))\n",
    "\n",
    "# TODO: Randomize selection of examples, don't just take the first ones\n",
    "# build training corpus: take the needed abstract, preprocess them (tokenize, delete spaces..)\n",
    "# and create the TaggedDocument needed for training\n",
    "# also added title to it \n",
    "train_corpus = [gensim.models.doc2vec.TaggedDocument(gensim.utils.simple_preprocess(\n",
    "    d[TITLE_FIELD_NAME]+d[ABSTRACT_FIELD_NAME]), [i]) for i, d in enumerate(json_data) if i<TRAIN_DATA_LENGTH]\n",
    "assert len(train_corpus)==TRAIN_DATA_LENGTH\n",
    "#print(train_corpus[:1])"
   ]
  },
  {
   "cell_type": "code",
   "execution_count": null,
   "metadata": {},
   "outputs": [],
   "source": []
  },
  {
   "cell_type": "code",
   "execution_count": 17,
   "metadata": {},
   "outputs": [
    {
     "name": "stdout",
     "output_type": "stream",
     "text": [
      "iteration 0\n",
      "iteration 50\n",
      "iteration 100\n",
      "iteration 150\n",
      "iteration 200\n",
      "iteration 250\n",
      "Model Saved\n"
     ]
    }
   ],
   "source": [
    "# create the doc2vec model\n",
    "# TODO: tune this parameters (personally, I think we could use a bigger vec_size, like 50)\n",
    "max_epochs = 300\n",
    "vec_size = 50\n",
    "alpha = 0.030\n",
    "MODEL_NAME = \"d2v_trend_analisys_model.model\"\n",
    "\n",
    "model = Doc2Vec(vector_size=vec_size,\n",
    "                alpha=alpha,\n",
    "                min_alpha=0.00030,\n",
    "                min_count=2, # words that appear less than twice in the corpus are ignored\n",
    "                dm=0) #dm=0 means \"distributed bag of words\"\n",
    "                \n",
    "\n",
    "# build our vocabulary of words (all the unique words encountered inside our corpus, needed for training)\n",
    "model.build_vocab(train_corpus)\n",
    "\n",
    "# train the model on the given data!\n",
    "for epoch in range(max_epochs):\n",
    "    if(epoch%50==0):\n",
    "        print('iteration {0}'.format(epoch))\n",
    "    model.train(train_corpus,\n",
    "                total_examples = model.corpus_count,\n",
    "                epochs = model.epochs)\n",
    "    # decrease the learning rate\n",
    "    model.alpha -= 0.0002\n",
    "    # fix the learning rate, no decay\n",
    "    model.min_alpha = model.alpha\n",
    "\n",
    "model.save(MODEL_NAME)\n",
    "print(\"Model Saved\")\n"
   ]
  },
  {
   "cell_type": "markdown",
   "metadata": {},
   "source": [
    "## Visualizing Data\n",
    "credits: https://towardsdatascience.com/pca-using-python-scikit-learn-e653f8989e60"
   ]
  },
  {
   "cell_type": "code",
   "execution_count": 18,
   "metadata": {},
   "outputs": [
    {
     "data": {
      "text/html": [
       "<div>\n",
       "<style scoped>\n",
       "    .dataframe tbody tr th:only-of-type {\n",
       "        vertical-align: middle;\n",
       "    }\n",
       "\n",
       "    .dataframe tbody tr th {\n",
       "        vertical-align: top;\n",
       "    }\n",
       "\n",
       "    .dataframe thead th {\n",
       "        text-align: right;\n",
       "    }\n",
       "</style>\n",
       "<table border=\"1\" class=\"dataframe\">\n",
       "  <thead>\n",
       "    <tr style=\"text-align: right;\">\n",
       "      <th></th>\n",
       "      <th>0</th>\n",
       "      <th>1</th>\n",
       "      <th>2</th>\n",
       "      <th>3</th>\n",
       "      <th>4</th>\n",
       "      <th>5</th>\n",
       "      <th>6</th>\n",
       "      <th>7</th>\n",
       "      <th>8</th>\n",
       "      <th>9</th>\n",
       "      <th>...</th>\n",
       "      <th>40</th>\n",
       "      <th>41</th>\n",
       "      <th>42</th>\n",
       "      <th>43</th>\n",
       "      <th>44</th>\n",
       "      <th>45</th>\n",
       "      <th>46</th>\n",
       "      <th>47</th>\n",
       "      <th>48</th>\n",
       "      <th>49</th>\n",
       "    </tr>\n",
       "  </thead>\n",
       "  <tbody>\n",
       "    <tr>\n",
       "      <th>0</th>\n",
       "      <td>-1.130100</td>\n",
       "      <td>1.088827</td>\n",
       "      <td>-1.175811</td>\n",
       "      <td>-0.604783</td>\n",
       "      <td>1.164582</td>\n",
       "      <td>0.014767</td>\n",
       "      <td>-1.498168</td>\n",
       "      <td>0.808126</td>\n",
       "      <td>-0.725114</td>\n",
       "      <td>-0.662831</td>\n",
       "      <td>...</td>\n",
       "      <td>-0.394348</td>\n",
       "      <td>-1.478852</td>\n",
       "      <td>0.208399</td>\n",
       "      <td>1.449024</td>\n",
       "      <td>1.244939</td>\n",
       "      <td>-0.917776</td>\n",
       "      <td>1.191854</td>\n",
       "      <td>0.376647</td>\n",
       "      <td>0.733011</td>\n",
       "      <td>-1.312708</td>\n",
       "    </tr>\n",
       "    <tr>\n",
       "      <th>1</th>\n",
       "      <td>1.593817</td>\n",
       "      <td>0.784268</td>\n",
       "      <td>0.429627</td>\n",
       "      <td>-0.333700</td>\n",
       "      <td>-0.975692</td>\n",
       "      <td>0.487201</td>\n",
       "      <td>2.052026</td>\n",
       "      <td>-1.439028</td>\n",
       "      <td>-0.603833</td>\n",
       "      <td>0.293833</td>\n",
       "      <td>...</td>\n",
       "      <td>0.272034</td>\n",
       "      <td>0.001953</td>\n",
       "      <td>-0.583226</td>\n",
       "      <td>0.218472</td>\n",
       "      <td>-1.450039</td>\n",
       "      <td>1.762092</td>\n",
       "      <td>-0.768877</td>\n",
       "      <td>-1.684386</td>\n",
       "      <td>0.101218</td>\n",
       "      <td>1.179679</td>\n",
       "    </tr>\n",
       "    <tr>\n",
       "      <th>2</th>\n",
       "      <td>-0.248949</td>\n",
       "      <td>-0.631797</td>\n",
       "      <td>0.071972</td>\n",
       "      <td>-0.501872</td>\n",
       "      <td>1.744893</td>\n",
       "      <td>-0.440962</td>\n",
       "      <td>-1.310652</td>\n",
       "      <td>0.448313</td>\n",
       "      <td>1.235527</td>\n",
       "      <td>-0.025985</td>\n",
       "      <td>...</td>\n",
       "      <td>0.978755</td>\n",
       "      <td>0.462273</td>\n",
       "      <td>0.824366</td>\n",
       "      <td>1.245008</td>\n",
       "      <td>0.893009</td>\n",
       "      <td>-1.132681</td>\n",
       "      <td>1.004626</td>\n",
       "      <td>0.964038</td>\n",
       "      <td>2.108855</td>\n",
       "      <td>-1.507197</td>\n",
       "    </tr>\n",
       "    <tr>\n",
       "      <th>3</th>\n",
       "      <td>-0.239057</td>\n",
       "      <td>0.568143</td>\n",
       "      <td>0.313614</td>\n",
       "      <td>-0.824286</td>\n",
       "      <td>1.336720</td>\n",
       "      <td>-1.268161</td>\n",
       "      <td>-1.027435</td>\n",
       "      <td>0.286370</td>\n",
       "      <td>1.709996</td>\n",
       "      <td>-0.692361</td>\n",
       "      <td>...</td>\n",
       "      <td>1.850019</td>\n",
       "      <td>0.059609</td>\n",
       "      <td>1.487701</td>\n",
       "      <td>1.205363</td>\n",
       "      <td>0.248337</td>\n",
       "      <td>-2.215822</td>\n",
       "      <td>1.309614</td>\n",
       "      <td>-0.370106</td>\n",
       "      <td>-0.042572</td>\n",
       "      <td>-1.937371</td>\n",
       "    </tr>\n",
       "    <tr>\n",
       "      <th>4</th>\n",
       "      <td>-0.473632</td>\n",
       "      <td>0.900128</td>\n",
       "      <td>-1.542783</td>\n",
       "      <td>-0.144349</td>\n",
       "      <td>0.234974</td>\n",
       "      <td>0.322073</td>\n",
       "      <td>-2.504854</td>\n",
       "      <td>0.248368</td>\n",
       "      <td>-0.679543</td>\n",
       "      <td>0.813681</td>\n",
       "      <td>...</td>\n",
       "      <td>0.158426</td>\n",
       "      <td>-0.722328</td>\n",
       "      <td>1.752874</td>\n",
       "      <td>0.891664</td>\n",
       "      <td>1.498590</td>\n",
       "      <td>-1.328187</td>\n",
       "      <td>2.793855</td>\n",
       "      <td>2.418134</td>\n",
       "      <td>-0.627961</td>\n",
       "      <td>-0.002924</td>\n",
       "    </tr>\n",
       "  </tbody>\n",
       "</table>\n",
       "<p>5 rows × 50 columns</p>\n",
       "</div>"
      ],
      "text/plain": [
       "         0         1         2         3         4         5         6   \\\n",
       "0 -1.130100  1.088827 -1.175811 -0.604783  1.164582  0.014767 -1.498168   \n",
       "1  1.593817  0.784268  0.429627 -0.333700 -0.975692  0.487201  2.052026   \n",
       "2 -0.248949 -0.631797  0.071972 -0.501872  1.744893 -0.440962 -1.310652   \n",
       "3 -0.239057  0.568143  0.313614 -0.824286  1.336720 -1.268161 -1.027435   \n",
       "4 -0.473632  0.900128 -1.542783 -0.144349  0.234974  0.322073 -2.504854   \n",
       "\n",
       "         7         8         9     ...           40        41        42  \\\n",
       "0  0.808126 -0.725114 -0.662831    ...    -0.394348 -1.478852  0.208399   \n",
       "1 -1.439028 -0.603833  0.293833    ...     0.272034  0.001953 -0.583226   \n",
       "2  0.448313  1.235527 -0.025985    ...     0.978755  0.462273  0.824366   \n",
       "3  0.286370  1.709996 -0.692361    ...     1.850019  0.059609  1.487701   \n",
       "4  0.248368 -0.679543  0.813681    ...     0.158426 -0.722328  1.752874   \n",
       "\n",
       "         43        44        45        46        47        48        49  \n",
       "0  1.449024  1.244939 -0.917776  1.191854  0.376647  0.733011 -1.312708  \n",
       "1  0.218472 -1.450039  1.762092 -0.768877 -1.684386  0.101218  1.179679  \n",
       "2  1.245008  0.893009 -1.132681  1.004626  0.964038  2.108855 -1.507197  \n",
       "3  1.205363  0.248337 -2.215822  1.309614 -0.370106 -0.042572 -1.937371  \n",
       "4  0.891664  1.498590 -1.328187  2.793855  2.418134 -0.627961 -0.002924  \n",
       "\n",
       "[5 rows x 50 columns]"
      ]
     },
     "execution_count": 18,
     "metadata": {},
     "output_type": "execute_result"
    }
   ],
   "source": [
    "# let's try to visualize all document_vectors\n",
    "# get all vectors of documents we created from model training\n",
    "docs_vecs = []\n",
    "# docvecs (list of Doc2VecKeyedVectors) \n",
    "# – Vector representations of the documents in the corpus. Each vector has size == vector_size\n",
    "for doc in iter(range(0, len(model.docvecs))):\n",
    "    docs_vecs.append(model.docvecs[doc])\n",
    "\n",
    "# loading dataset into Pandas DataFrame\n",
    "df = pd.DataFrame.from_records(docs_vecs)\n",
    "df.head()\n",
    "\n",
    "#df[['target']]"
   ]
  },
  {
   "cell_type": "code",
   "execution_count": 19,
   "metadata": {},
   "outputs": [
    {
     "name": "stdout",
     "output_type": "stream",
     "text": [
      "[[-1.13010037  1.08882689 -1.17581081 ...  0.37664741  0.73301053\n",
      "  -1.31270754]\n",
      " [ 1.59381688  0.78426844  0.42962727 ... -1.68438566  0.10121767\n",
      "   1.17967927]\n",
      " [-0.24894914 -0.63179725  0.07197214 ...  0.96403784  2.10885525\n",
      "  -1.50719702]\n",
      " ...\n",
      " [-0.39506948  0.36851686 -0.21784234 ...  1.48735857  0.93142867\n",
      "  -2.27104282]\n",
      " [-0.39637938  0.0549425  -0.17248514 ...  0.96386713  0.08582444\n",
      "  -0.59322399]\n",
      " [-1.37998188  0.10291687 -0.79367644 ...  1.17132401  0.1934813\n",
      "  -0.8788467 ]]\n"
     ]
    }
   ],
   "source": [
    "# PCA is effected by scale so you need to scale the features in your data before applying PCA. \n",
    "features = [i for i in range(vec_size)]\n",
    "\n",
    "x = df.loc[:, features].values # get features values\n",
    "print(x)\n",
    "# we don't have target here y = df.loc[:,['target']].values # get target values (guess kind of flower/Iris)\n",
    "\n",
    "# standardize data\n",
    "x = StandardScaler().fit_transform(x) # scale data (especially in case different measures are used)\n",
    "# pd.DataFrame(data = x, columns = features).head() # show first data\n"
   ]
  },
  {
   "cell_type": "markdown",
   "metadata": {},
   "source": [
    "## 2D Projection with PCA"
   ]
  },
  {
   "cell_type": "code",
   "execution_count": 20,
   "metadata": {},
   "outputs": [
    {
     "data": {
      "text/html": [
       "<div>\n",
       "<style scoped>\n",
       "    .dataframe tbody tr th:only-of-type {\n",
       "        vertical-align: middle;\n",
       "    }\n",
       "\n",
       "    .dataframe tbody tr th {\n",
       "        vertical-align: top;\n",
       "    }\n",
       "\n",
       "    .dataframe thead th {\n",
       "        text-align: right;\n",
       "    }\n",
       "</style>\n",
       "<table border=\"1\" class=\"dataframe\">\n",
       "  <thead>\n",
       "    <tr style=\"text-align: right;\">\n",
       "      <th></th>\n",
       "      <th>principal component 1</th>\n",
       "      <th>principal component 2</th>\n",
       "    </tr>\n",
       "  </thead>\n",
       "  <tbody>\n",
       "    <tr>\n",
       "      <th>0</th>\n",
       "      <td>0.737887</td>\n",
       "      <td>0.267901</td>\n",
       "    </tr>\n",
       "    <tr>\n",
       "      <th>1</th>\n",
       "      <td>14.815240</td>\n",
       "      <td>0.720706</td>\n",
       "    </tr>\n",
       "    <tr>\n",
       "      <th>2</th>\n",
       "      <td>0.119323</td>\n",
       "      <td>-0.665617</td>\n",
       "    </tr>\n",
       "    <tr>\n",
       "      <th>3</th>\n",
       "      <td>-0.452691</td>\n",
       "      <td>0.478114</td>\n",
       "    </tr>\n",
       "    <tr>\n",
       "      <th>4</th>\n",
       "      <td>-0.818771</td>\n",
       "      <td>0.611431</td>\n",
       "    </tr>\n",
       "  </tbody>\n",
       "</table>\n",
       "</div>"
      ],
      "text/plain": [
       "   principal component 1  principal component 2\n",
       "0               0.737887               0.267901\n",
       "1              14.815240               0.720706\n",
       "2               0.119323              -0.665617\n",
       "3              -0.452691               0.478114\n",
       "4              -0.818771               0.611431"
      ]
     },
     "execution_count": 20,
     "metadata": {},
     "output_type": "execute_result"
    }
   ],
   "source": [
    "# build PCA model in 2D\n",
    "pca = PCA(n_components=2) # The new components are just the two main dimensions of variation.\n",
    "\n",
    "principalComponents = pca.fit_transform(x)\n",
    "\n",
    "principalDf = pd.DataFrame(data = principalComponents\n",
    "             , columns = ['principal component 1', 'principal component 2'])\n",
    "principalDf.head()\n",
    "# these components drawn don't hold a lot of information 'per-se', they're just the result \n",
    "# of dimension-reduction"
   ]
  },
  {
   "cell_type": "code",
   "execution_count": 21,
   "metadata": {},
   "outputs": [
    {
     "name": "stdout",
     "output_type": "stream",
     "text": [
      "Number of points shown  187\n"
     ]
    },
    {
     "data": {
      "image/png": "[encoded data removed]",
      "text/plain": [
       "<Figure size 576x576 with 1 Axes>"
      ]
     },
     "metadata": {},
     "output_type": "display_data"
    }
   ],
   "source": [
    "# we can now visualize the data by plotting them\n",
    "\n",
    "# finalDf is the final DataFrame before plotting the data (nothing great, just taking result of PCA and attaching target to it)\n",
    "#finalDf = pd.concat([principalDf, df[['target']]], axis = 1)\n",
    "\n",
    "finalDf = principalDf # we don't have targets to show\n",
    "\n",
    "fig = plt.figure(figsize = (8,8))\n",
    "ax = fig.add_subplot(1,1,1) \n",
    "ax.set_xlabel('Principal Component 1', fontsize = 15)\n",
    "ax.set_ylabel('Principal Component 2', fontsize = 15)\n",
    "ax.set_title('2 Component PCA', fontsize = 20)\n",
    "\n",
    "ax.scatter(finalDf.loc[:, 'principal component 1']\n",
    "          , finalDf.loc[:,'principal component 2']\n",
    "          , c = 'r'\n",
    "          , s = 50)\n",
    "\n",
    "#targets = ['Iris-setosa', 'Iris-versicolor', 'Iris-virginica']\n",
    "#colors = ['r', 'g', 'b']\n",
    "#for target, color in zip(targets, colors):\n",
    "#    indicesToKeep = finalDf['target'] == target\n",
    "#    ax.scatter(finalDf.loc[indicesToKeep, 'principal component 1']\n",
    "#               , finalDf.loc[indicesToKeep, 'principal component 2']\n",
    "#               , c = color\n",
    "#               , s = 50)\n",
    "#ax.legend(targets)\n",
    "ax.grid()\n",
    "print(\"Number of points shown \", len(finalDf))\n",
    "\n"
   ]
  },
  {
   "cell_type": "markdown",
   "metadata": {},
   "source": [
    "## Visualizing Data interactively with Plotly"
   ]
  },
  {
   "cell_type": "code",
   "execution_count": 22,
   "metadata": {},
   "outputs": [],
   "source": [
    "import plotly.plotly as py\n",
    "import plotly.figure_factory as ff\n",
    "import plotly.tools as tls\n",
    "import plotly.graph_objs as go\n",
    "\n",
    "tls.set_credentials_file(username='D4nt3', api_key='FdMB4O6qCfciGDOnLvdQ')"
   ]
  },
  {
   "cell_type": "code",
   "execution_count": 23,
   "metadata": {},
   "outputs": [
    {
     "data": {
      "text/html": [
       "<iframe id=\"igraph\" scrolling=\"no\" style=\"border:none;\" seamless=\"seamless\" src=\"https://plot.ly/~D4nt3/6.embed\" height=\"525px\" width=\"100%\"></iframe>"
      ],
      "text/plain": [
       "<plotly.tools.PlotlyDisplay object>"
      ]
     },
     "execution_count": 23,
     "metadata": {},
     "output_type": "execute_result"
    }
   ],
   "source": [
    "# we'll draw a scatter graph with labels\n",
    "traces = []\n",
    "# let's get the labels\n",
    "titles = [dictionary[TITLE_FIELD_NAME] for i, dictionary in enumerate(json_data) if i<TRAIN_DATA_LENGTH]\n",
    "# double check to be sure we got labels just right\n",
    "#i = 50\n",
    "#print(\"TITLE: {0}\\n <<{1}>>\".format(titles[i], train_corpus[i][:1]))\n",
    "\n",
    "# each trace will represent a point (squeezed vector from higher dimensions),\n",
    "# and each point will have the title of the news assigned\n",
    "for i in range(len(finalDf)):\n",
    "    trace0 = go.Scatter(\n",
    "        x = finalDf.loc[i:i, \"principal component 1\"],\n",
    "        y = finalDf.loc[i:i, \"principal component 2\"],\n",
    "        mode = 'markers',\n",
    "        #name = 'blue markers',\n",
    "        marker = dict(\n",
    "            size = 7,\n",
    "            color = 'rgba(0, 0, 110, .8)',\n",
    "        ),\n",
    "        text = str(titles[i])\n",
    "    )\n",
    "    traces.append(trace0)\n",
    "\n",
    "data = traces \n",
    "layout = dict(title = 'PCA Representantion of DocVectors',\n",
    "        hovermode= 'closest',\n",
    "        xaxis= dict(\n",
    "            title= 'first component',\n",
    "            ticklen= 5,\n",
    "            gridwidth= 2,\n",
    "        ),\n",
    "        yaxis=dict(\n",
    "            title= 'second component',\n",
    "            ticklen= 5,\n",
    "            gridwidth= 2,\n",
    "        ),\n",
    "        showlegend = False\n",
    "    )\n",
    "# Plot and embed in ipython notebook!\n",
    "fig = dict(data = data, layout = layout)\n",
    "py.iplot(fig, filename='TA_model-scatter')"
   ]
  },
  {
   "cell_type": "markdown",
   "metadata": {},
   "source": [
    "## Some (basic) testing"
   ]
  },
  {
   "cell_type": "code",
   "execution_count": 24,
   "metadata": {},
   "outputs": [
    {
     "name": "stdout",
     "output_type": "stream",
     "text": [
      "['il', 'primo', 'esofago', 'costruito', 'in', 'laboratorio', 'biotech', 'ansa', 'itun', 'altro', 'organo', 'in', 'miniatura', 'organoide', 'stato', 'costruito', 'in', 'laboratorio', 'questa', 'volta', 'si', 'tratta', 'dell', 'esofago', 'il', 'primo', 'ricavato', 'interamente', 'da', 'cellule', 'staminali', 'pluripotenti', 'descritto', 'sulla', 'rivista', 'cell', 'stem', 'cell', 'dal', 'centro', 'per', 'cellule', 'staminali', 'organoidi', 'dell', 'ospedale', 'pediatrico', 'di', 'cincinnati', 'aiuterà', 'studiare', 'malattie', 'dovute', 'difetti', 'congeniti', 'altre', 'più', 'diffuse', 'come', 'reflusso', 'gastro', 'esofageo', 'tumori', 'oltre', 'gettare', 'le', 'basi', 'per', 'interventi', 'di', 'medicina', 'rigenerativa', 'le', 'cellule', 'staminali', 'pluripotenti', 'sono', 'cellule', 'immatura', 'in', 'grado', 'di', 'dare', 'origine', 'molti', 'tessuti', 'organi', 'lo', 'stesso', 'gruppo', 'di', 'ricercatori', 'le', 'aveva', 'già', 'utilizzate', 'per', 'coltivare', 'in', 'laboratorio', 'altri', 'organi', 'in', 'miniatura', 'come', 'intestino', 'stomaco', 'colon', 'fegato', 'problemi', 'di', 'trachea', 'ed', 'esofago', 'sono', 'piuttosto', 'diffusi', 'questo', 'organoide', 'potrebbe', 'essere', 'molto', 'utile', 'osserva', 'jim', 'wells', 'uno', 'degli', 'autori', 'della', 'ricerca', 'oltre', 'essere', 'un', 'nuovo', 'modello', 'per', 'lo', 'studio', 'di', 'difetti', 'congeniti', 'il', 'mini', 'esofago', 'potrà', 'aiutare', 'studiare', 'diverse', 'malattie', 'produrre', 'tessuti', 'geneticamente', 'adatti', 'al', 'paziente', 'ricercatorisi', 'sono', 'concentrati', 'sul', 'gene', 'sox', 'che', 'produce', 'proteine', 'note', 'per', 'innescare', 'dei', 'disturbi', 'nell', 'esofago', 'osservando', 'lo', 'sviluppo', 'dell', 'organoide', 'hanno', 'potuto', 'osservare', 'che', 'lo', 'stesso', 'gene', 'controlla', 'sia', 'la', 'formazione', 'sia', 'lasopravvivenza', 'del', 'tessuto', 'dell', 'esofago', 'il', 'mini', 'organo', 'cresciuto', 'fra', 'millesimi', 'di', 'millimetro', 'in', 'circa', 'mesi', 'ed', 'risultato', 'molto', 'simile', 'nella', 'sua', 'composizione', 'al', 'tessuto', 'esofageo', 'prelevato', 'con', 'biopsie', 'da', 'alcuni', 'pazienti']\n",
      "Test Document (102): «il primo esofago costruito in laboratorio biotech ansa itun altro organo in miniatura organoide stato costruito in laboratorio questa volta si tratta dell esofago il primo ricavato interamente da cellule staminali pluripotenti descritto sulla rivista cell stem cell dal centro per cellule staminali organoidi dell ospedale pediatrico di cincinnati aiuterà studiare malattie dovute difetti congeniti altre più diffuse come reflusso gastro esofageo tumori oltre gettare le basi per interventi di medicina rigenerativa le cellule staminali pluripotenti sono cellule immatura in grado di dare origine molti tessuti organi lo stesso gruppo di ricercatori le aveva già utilizzate per coltivare in laboratorio altri organi in miniatura come intestino stomaco colon fegato problemi di trachea ed esofago sono piuttosto diffusi questo organoide potrebbe essere molto utile osserva jim wells uno degli autori della ricerca oltre essere un nuovo modello per lo studio di difetti congeniti il mini esofago potrà aiutare studiare diverse malattie produrre tessuti geneticamente adatti al paziente ricercatorisi sono concentrati sul gene sox che produce proteine note per innescare dei disturbi nell esofago osservando lo sviluppo dell organoide hanno potuto osservare che lo stesso gene controlla sia la formazione sia lasopravvivenza del tessuto dell esofago il mini organo cresciuto fra millesimi di millimetro in circa mesi ed risultato molto simile nella sua composizione al tessuto esofageo prelevato con biopsie da alcuni pazienti»\n",
      "\n",
      "\n",
      "Similar Doc-->(doctag:1,score:0.7667815685272217):<<Con iOS 12 iPhone e iPad si possono programmare - La Stampa>>\n",
      "\n",
      "Similar Doc-->(doctag:5,score:0.7393209338188171):<<Passione Instagram, macchina fotografica o cellulare per cogliere le bellezze della Sardegna - Repubblica.it>>\n",
      "\n",
      "Similar Doc-->(doctag:56,score:0.7280815243721008):<<Cinque regole per mettere in sicurezza gli smartphone in azienda - Il Sole 24 ORE>>\n"
     ]
    },
    {
     "name": "stderr",
     "output_type": "stream",
     "text": [
      "/home/nick/anaconda3/lib/python3.6/site-packages/gensim/matutils.py:737: FutureWarning:\n",
      "\n",
      "Conversion of the second argument of issubdtype from `int` to `np.signedinteger` is deprecated. In future, it will be treated as `np.int64 == np.dtype(int).type`.\n",
      "\n"
     ]
    }
   ],
   "source": [
    "# let's check if the model is at least decent,\n",
    "# which means: is it able to at least recognize news/documents\n",
    "# it has seen in training?\n",
    "import random\n",
    "# Pick a random document from the train corpus and infer a vector from the model\n",
    "doc_id = random.randint(0, len(train_corpus) - 1)\n",
    "print(train_corpus[doc_id].words)\n",
    "inferred_vector = model.infer_vector(train_corpus[doc_id].words)\n",
    "similar_docs = model.docvecs.most_similar([inferred_vector], topn=3)\n",
    "\n",
    "# show the 3 most similar document titles\n",
    "print('Test Document ({}): «{}»\\n'.format(doc_id, ' '.join(train_corpus[doc_id].words)))\n",
    "for doc_tag, similarity in similar_docs:\n",
    "    print(\"\\nSimilar Doc-->(doctag:{0},score:{1}):<<{2}>>\".format(doc_tag, similarity, titles[doc_tag]))"
   ]
  },
  {
   "cell_type": "code",
   "execution_count": null,
   "metadata": {},
   "outputs": [],
   "source": []
  },
  {
   "cell_type": "code",
   "execution_count": null,
   "metadata": {},
   "outputs": [],
   "source": []
  }
 ],
 "metadata": {
  "kernelspec": {
   "display_name": "Python 3",
   "language": "python",
   "name": "python3"
  },
  "language_info": {
   "codemirror_mode": {
    "name": "ipython",
    "version": 3
   },
   "file_extension": ".py",
   "mimetype": "text/x-python",
   "name": "python",
   "nbconvert_exporter": "python",
   "pygments_lexer": "ipython3",
   "version": "3.6.5"
  }
 },
 "nbformat": 4,
 "nbformat_minor": 2
}

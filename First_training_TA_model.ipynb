{
 "cells": [
  {
   "cell_type": "code",
   "execution_count": 33,
   "metadata": {},
   "outputs": [],
   "source": [
    "# PCA imports\n",
    "import pandas as pd \n",
    "import numpy as np\n",
    "import matplotlib.pyplot as plt\n",
    "from sklearn.decomposition import PCA\n",
    "from sklearn.preprocessing import StandardScaler\n",
    "%matplotlib inline"
   ]
  },
  {
   "cell_type": "code",
   "execution_count": 7,
   "metadata": {},
   "outputs": [
    {
     "data": {
      "text/plain": [
       "True"
      ]
     },
     "execution_count": 7,
     "metadata": {},
     "output_type": "execute_result"
    }
   ],
   "source": [
    "# Doc2Vec imports\n",
    "from gensim.models.doc2vec import Doc2Vec, TaggedDocument\n",
    "import gensim\n",
    "\n",
    "import json # to open our data file\n",
    "DATA_FILENAME = \"trend_analisys.json\"\n",
    "# open json file\n",
    "with open(DATA_FILENAME, \"r\") as json_file:\n",
    "    json_data = json.load(json_file)\n",
    "# we're expecting a list now, since our json file is a json array\n",
    "assert type(json_data) is list"
   ]
  },
  {
   "cell_type": "markdown",
   "metadata": {},
   "source": [
    "## Version 1 - Training Model with Abstract field (whole text)"
   ]
  },
  {
   "cell_type": "code",
   "execution_count": 26,
   "metadata": {},
   "outputs": [
    {
     "name": "stdout",
     "output_type": "stream",
     "text": [
      "Total examples: 293, number of train examples: 234, number of test examples: 59\n",
      "[TaggedDocument(words=['il', 'mercato', 'degli', 'smartphone', 'si', 'fa', 'ogni', 'giorno', 'più', 'ricco', 'le', 'possibilità', 'di', 'scelta', 'tra', 'prodotti', 'di', 'buon', 'ottima', 'qualità', 'prezzi', 'diversi', 'sono', 'in', 'costante', 'crescita', 'certamente', 'tra', 'gli', 'smartphone', 'che', 'vi', 'consigliamo', 'prendere', 'in', 'considerazione', 'tra', 'quelli', 'usciti', 'di', 'recente', 'il', 'thinq', 'di', 'lg', 'sottile', 'elegante', 'il', 'modello', 'che', 'abbiamo', 'provato', 'aveva', 'un', 'elegantissimo', 'colore', 'blu', 'comodo', 'di', 'dimensioni', 'giuste', 'il', 'thinq', 'ha', 'tutte', 'le', 'caratteristiche', 'necessarie', 'per', 'accontentare', 'anche', 'il', 'pubblico', 'più', 'esigente', 'mobile', 'platform', 'qualcomm', 'snapdragon', 'gb', 'di', 'ram', 'gb', 'di', 'memoria', 'interna', 'espandibile', 'ovvia', 'dotazione', 'di', 'accelerometro', 'giroscopio', 'magnetometro', 'sensore', 'di', 'luminosità', 'prossimità', 'barometro', 'lettore', 'di', 'impronte', 'digitale', 'capacità', 'di', 'riconoscimento', 'facciale', 'il', 'display', 'da', 'pollici', 'decisamente', 'luminoso', 'con', 'pixel', 'non', 'mancano', 'lte', 'wifi', 'ac', 'bluetooth', 'nfc', 'gps', 'radio', 'fm', 'jack', 'audio', 'una', 'porta', 'usb', 'type', 'la', 'ricarica', 'wireless', 'ha', 'un', 'comodo', 'tasto', 'sulla', 'sinistra', 'per', 'richiamare', 'immediatamente', 'google', 'assistant', 'detto', 'questo', 'com', 'davvero', 'il', 'thinq', 'una', 'buonissima', 'macchina', 'con', 'un', 'eccellente', 'rapporto', 'prezzo', 'qualità', 'che', 'non', 'cede', 'nemmeno', 'un', 'istante', 'anche', 'quando', 'sotto', 'pressione', 'viene', 'usato', 'in', 'maniera', 'intensiva', 'sostenuto', 'da', 'una', 'buonissima', 'qualità', 'audio', 'usa', 'anche', 'la', 'tecnologia', 'boom', 'box', 'che', 'amplifica', 'la', 'potenza', 'sonora', 'dello', 'speaker', 'che', 'si', 'trova', 'sul', 'bordo', 'inferiore', 'facendo', 'vibrare', 'tutta', 'la', 'scocca', 'basta', 'quindi', 'appoggiare', 'lo', 'smartphone', 'su', 'una', 'superficie', 'piana', 'per', 'ottenere', 'un', 'discreto', 'aumento', 'della', 'potenza', 'sonora', 'il', 'display', 'uno', 'dei', 'punti', 'di', 'forza', 'del', 'device', 'un', 'wlcd', 'ips', 'da', 'sei', 'pollici', 'con', 'una', 'risoluzione', 'qhd', 'ha', 'come', 'dicevamo', 'una', 'notevolissima', 'luminosità', 'superiore', 'alla', 'media', 'soprattutto', 'se', 'usato', 'in', 'condizioni', 'di', 'forte', 'illuminazione', 'assomiglia', 'tutti', 'gli', 'altri', 'smartphone', 'in', 'circolazione', 'ma', 'questo', 'ormai', 'talmente', 'ovvio', 'da', 'non', 'essere', 'un', 'difetto', 'pesa', 'poco', 'più', 'di', 'un', 'etto', 'mezzo', 'questo', 'gioca', 'suo', 'favore', 'soprattutto', 'se', 'si', 'usa', 'molto', 'il', 'device', 'resistente', 'ad', 'acqua', 'polvere', 'non', 'scivola', 'con', 'facilità', 'dalle', 'mani', 'ed', 'entra', 'bene', 'in', 'tasca', 'arriviamo', 'dunque', 'alla', 'fotocamera', 'anzi', 'alle', 'fotocamere', 'perché', 'lg', 'thinq', 'ne', 'ha', 'due', 'posteriori', 'da', 'mp', 'una', 'standard', 'stabilizzata', 'otticamente', 'una', 'grandangolare', 'sul', 'frontale', 'ha', 'una', 'singola', 'fotocamera', 'da', 'mp', 'le', 'foto', 'sono', 'di', 'buona', 'qualità', 'sia', 'in', 'condizioni', 'normali', 'che', 'di', 'scarsa', 'illuminazione', 'con', 'un', 'buon', 'dettaglio', 'un', 'altrettanto', 'buon', 'contrasto', 'non', 'manca', 'ovviamente', 'intelligenza', 'artificiale', 'che', 'permette', 'alla', 'macchina', 'di', 'riconoscere', 'le', 'scene', 'ma', 'anche', 'una', 'modalità', 'notturna', 'che', 'combina', 'quattro', 'pixel', 'per', 'catturare', 'meglio', 'la', 'luce', 'ma', 'il', 'punto', 'di', 'forza', 'del', 'thinq', 'sono', 'video', 'con', 'una', 'modalità', 'manuale', 'una', 'cinematica', 'abbiamo', 'utilizzato', 'in', 'molte', 'situazioni', 'diverse', 'risultati', 'sono', 'stati', 'tutti', 'molto', 'buoni', 'soprattutto', 'quando', 'come', 'al', 'concerto', 'romano', 'di', 'roger', 'waters', 'le', 'condizioni', 'di', 'illuminazione', 'erano', 'particolari', 'per', 'chi', 'ama', 'realizzare', 'filmati', 'più', 'che', 'fotografie', 'un', 'device', 'assolutamente', 'da', 'consigliare', 'la', 'batteria', 'da', 'mah', 'non', 'proprio', 'il', 'massimo', 'per', 'reggere', 'tutto', 'equipaggiamento', 'dello', 'smartphone', 'ma', 'come', 'tutti', 'sanno', 'dipende', 'molto', 'dall', 'uso', 'che', 'si', 'fa', 'del', 'device', 'diciamo', 'che', 'con', 'un', 'forte', 'uso', 'della', 'macchina', 'si', 'rischia', 'di', 'arrivare', 'sera', 'scarichi', 'nel', 'confronto', 'con', 'due', 'principali', 'concorrenti', 'il', 'samsung', 'galaxy', 'plus', 'il', 'huawei', 'pro', 'si', 'comporta', 'molto', 'bene', 'ed', 'una', 'valida', 'alternativa', 'anche', 'se', 'sul', 'fronte', 'della', 'fotocamera', 'il', 'leggermente', 'superiore', 'sul', 'fronte', 'della', 'batteria', 'il', 'samsung', 'migliore', 'ma', 'tutto', 'sommato', 'nei', 'sono', 'pochi', 'in', 'una', 'macchina', 'ben', 'realizzata', 'certamente', 'molto', 'funzionale'], tags=[0])]\n"
     ]
    }
   ],
   "source": [
    "# we have our json data now, let's go ahead and divide into training and test set\n",
    "n_examples =  len(json_data)\n",
    "# how much of the data we're going to be using for training and for testing\n",
    "# default values: 80% train, 20% test\n",
    "TRAIN_DATA_LENGTH = 8 * n_examples // 10\n",
    "TEST_DATA_LENGTH = n_examples - TRAIN_DATA_LENGTH\n",
    "ABSTRACT_FIELD_NAME = 'abstract'\n",
    "\n",
    "print(\"Total examples: {0}, number of train examples: {1}, number of test examples: {2}\".format(n_examples,TRAIN_DATA_LENGTH, TEST_DATA_LENGTH))\n",
    "\n",
    "# TODO: Randomize selection of examples, don't just take the first ones\n",
    "# build training corpus: take the needed abstract, preprocess them (tokenize, delete spaces..)\n",
    "# and create the TaggedDocument needed for training\n",
    "train_corpus = [gensim.models.doc2vec.TaggedDocument(gensim.utils.simple_preprocess(dictionary[ABSTRACT_FIELD_NAME]), [i]) for i, dictionary in enumerate(json_data) if i<TRAIN_DATA_LENGTH]\n",
    "assert len(train_corpus)==TRAIN_DATA_LENGTH\n",
    "print(train_corpus[:1])"
   ]
  },
  {
   "cell_type": "code",
   "execution_count": 27,
   "metadata": {},
   "outputs": [
    {
     "name": "stdout",
     "output_type": "stream",
     "text": [
      "iteration 0\n",
      "iteration 50\n",
      "iteration 100\n",
      "iteration 150\n",
      "iteration 200\n",
      "iteration 250\n",
      "Model Saved\n"
     ]
    }
   ],
   "source": [
    "# create the doc2vec model\n",
    "# TODO: tune this parameters (personally, I think we could use a bigger vec_size, like 50)\n",
    "max_epochs = 300\n",
    "vec_size = 35\n",
    "alpha = 0.030\n",
    "MODEL_NAME = \"d2v_trend_analisys_model.model\"\n",
    "\n",
    "model = Doc2Vec(vector_size=vec_size,\n",
    "                alpha=alpha,\n",
    "                min_alpha=0.00030,\n",
    "                min_count=2,\n",
    "                dm=0) #dm=0 means \"distributed bag of words\"\n",
    "# build our vocabulary of words (all the uniques words encountered inside our corpus, needed for training)\n",
    "model.build_vocab(train_corpus)\n",
    "\n",
    "# train the model on the given data!\n",
    "for epoch in range(max_epochs):\n",
    "    if(epoch%50==0):\n",
    "        print('iteration {0}'.format(epoch))\n",
    "    model.train(train_corpus,\n",
    "                total_examples = model.corpus_count,\n",
    "                epochs = model.epochs)\n",
    "    # decrease the learning rate\n",
    "    model.alpha -= 0.0002\n",
    "    # fix the learning rate, no decay\n",
    "    model.min_alpha = model.alpha\n",
    "\n",
    "model.save(MODEL_NAME)\n",
    "print(\"Model Saved\")\n"
   ]
  },
  {
   "cell_type": "code",
   "execution_count": null,
   "metadata": {},
   "outputs": [],
   "source": []
  },
  {
   "cell_type": "code",
   "execution_count": null,
   "metadata": {},
   "outputs": [],
   "source": []
  },
  {
   "cell_type": "code",
   "execution_count": null,
   "metadata": {},
   "outputs": [],
   "source": []
  },
  {
   "cell_type": "code",
   "execution_count": null,
   "metadata": {},
   "outputs": [],
   "source": []
  },
  {
   "cell_type": "markdown",
   "metadata": {},
   "source": [
    "## Visualizing Data\n",
    "credits: https://towardsdatascience.com/pca-using-python-scikit-learn-e653f8989e60"
   ]
  },
  {
   "cell_type": "code",
   "execution_count": 52,
   "metadata": {},
   "outputs": [
    {
     "data": {
      "text/html": [
       "<div>\n",
       "<style scoped>\n",
       "    .dataframe tbody tr th:only-of-type {\n",
       "        vertical-align: middle;\n",
       "    }\n",
       "\n",
       "    .dataframe tbody tr th {\n",
       "        vertical-align: top;\n",
       "    }\n",
       "\n",
       "    .dataframe thead th {\n",
       "        text-align: right;\n",
       "    }\n",
       "</style>\n",
       "<table border=\"1\" class=\"dataframe\">\n",
       "  <thead>\n",
       "    <tr style=\"text-align: right;\">\n",
       "      <th></th>\n",
       "      <th>0</th>\n",
       "      <th>1</th>\n",
       "      <th>2</th>\n",
       "      <th>3</th>\n",
       "      <th>4</th>\n",
       "      <th>5</th>\n",
       "      <th>6</th>\n",
       "      <th>7</th>\n",
       "      <th>8</th>\n",
       "      <th>9</th>\n",
       "      <th>...</th>\n",
       "      <th>25</th>\n",
       "      <th>26</th>\n",
       "      <th>27</th>\n",
       "      <th>28</th>\n",
       "      <th>29</th>\n",
       "      <th>30</th>\n",
       "      <th>31</th>\n",
       "      <th>32</th>\n",
       "      <th>33</th>\n",
       "      <th>34</th>\n",
       "    </tr>\n",
       "  </thead>\n",
       "  <tbody>\n",
       "    <tr>\n",
       "      <th>0</th>\n",
       "      <td>1.738057</td>\n",
       "      <td>1.237864</td>\n",
       "      <td>0.301948</td>\n",
       "      <td>-1.293744</td>\n",
       "      <td>-0.599387</td>\n",
       "      <td>0.719682</td>\n",
       "      <td>-0.568549</td>\n",
       "      <td>1.105812</td>\n",
       "      <td>-0.302638</td>\n",
       "      <td>-0.283296</td>\n",
       "      <td>...</td>\n",
       "      <td>1.285988</td>\n",
       "      <td>1.782907</td>\n",
       "      <td>0.063279</td>\n",
       "      <td>-2.252592</td>\n",
       "      <td>-0.839468</td>\n",
       "      <td>0.491278</td>\n",
       "      <td>-0.007657</td>\n",
       "      <td>0.243966</td>\n",
       "      <td>-1.258249</td>\n",
       "      <td>-0.416401</td>\n",
       "    </tr>\n",
       "    <tr>\n",
       "      <th>1</th>\n",
       "      <td>1.172775</td>\n",
       "      <td>2.375626</td>\n",
       "      <td>-1.442120</td>\n",
       "      <td>0.348713</td>\n",
       "      <td>-0.645004</td>\n",
       "      <td>0.974981</td>\n",
       "      <td>0.133362</td>\n",
       "      <td>1.872847</td>\n",
       "      <td>-0.105110</td>\n",
       "      <td>-0.375149</td>\n",
       "      <td>...</td>\n",
       "      <td>0.593910</td>\n",
       "      <td>1.274131</td>\n",
       "      <td>-0.446255</td>\n",
       "      <td>-2.138829</td>\n",
       "      <td>-1.348131</td>\n",
       "      <td>0.151395</td>\n",
       "      <td>-0.973954</td>\n",
       "      <td>0.582125</td>\n",
       "      <td>-0.754017</td>\n",
       "      <td>-1.123455</td>\n",
       "    </tr>\n",
       "    <tr>\n",
       "      <th>2</th>\n",
       "      <td>0.673592</td>\n",
       "      <td>3.044855</td>\n",
       "      <td>0.192217</td>\n",
       "      <td>-0.000376</td>\n",
       "      <td>0.943136</td>\n",
       "      <td>1.569064</td>\n",
       "      <td>-1.462513</td>\n",
       "      <td>-0.316993</td>\n",
       "      <td>-0.170799</td>\n",
       "      <td>0.153335</td>\n",
       "      <td>...</td>\n",
       "      <td>0.271130</td>\n",
       "      <td>0.975689</td>\n",
       "      <td>-1.711763</td>\n",
       "      <td>-1.799467</td>\n",
       "      <td>-0.758022</td>\n",
       "      <td>-0.308142</td>\n",
       "      <td>0.510374</td>\n",
       "      <td>1.405627</td>\n",
       "      <td>2.724066</td>\n",
       "      <td>-0.544156</td>\n",
       "    </tr>\n",
       "    <tr>\n",
       "      <th>3</th>\n",
       "      <td>-0.836886</td>\n",
       "      <td>1.540594</td>\n",
       "      <td>0.290086</td>\n",
       "      <td>0.072702</td>\n",
       "      <td>0.640376</td>\n",
       "      <td>2.223171</td>\n",
       "      <td>-0.878561</td>\n",
       "      <td>1.999087</td>\n",
       "      <td>-0.999841</td>\n",
       "      <td>-1.716294</td>\n",
       "      <td>...</td>\n",
       "      <td>-0.253623</td>\n",
       "      <td>0.849749</td>\n",
       "      <td>-1.556276</td>\n",
       "      <td>-2.511659</td>\n",
       "      <td>-1.247803</td>\n",
       "      <td>2.044686</td>\n",
       "      <td>0.216030</td>\n",
       "      <td>0.289868</td>\n",
       "      <td>-0.419250</td>\n",
       "      <td>-1.183094</td>\n",
       "    </tr>\n",
       "    <tr>\n",
       "      <th>4</th>\n",
       "      <td>1.088578</td>\n",
       "      <td>0.936672</td>\n",
       "      <td>-1.612486</td>\n",
       "      <td>0.804471</td>\n",
       "      <td>0.106763</td>\n",
       "      <td>1.767157</td>\n",
       "      <td>-0.556144</td>\n",
       "      <td>0.955371</td>\n",
       "      <td>-0.429166</td>\n",
       "      <td>0.350417</td>\n",
       "      <td>...</td>\n",
       "      <td>1.745968</td>\n",
       "      <td>-0.518202</td>\n",
       "      <td>-0.819553</td>\n",
       "      <td>-2.300020</td>\n",
       "      <td>0.497395</td>\n",
       "      <td>1.363582</td>\n",
       "      <td>-0.660230</td>\n",
       "      <td>-0.390434</td>\n",
       "      <td>-1.022668</td>\n",
       "      <td>-2.978423</td>\n",
       "    </tr>\n",
       "  </tbody>\n",
       "</table>\n",
       "<p>5 rows × 35 columns</p>\n",
       "</div>"
      ],
      "text/plain": [
       "         0         1         2         3         4         5         6   \\\n",
       "0  1.738057  1.237864  0.301948 -1.293744 -0.599387  0.719682 -0.568549   \n",
       "1  1.172775  2.375626 -1.442120  0.348713 -0.645004  0.974981  0.133362   \n",
       "2  0.673592  3.044855  0.192217 -0.000376  0.943136  1.569064 -1.462513   \n",
       "3 -0.836886  1.540594  0.290086  0.072702  0.640376  2.223171 -0.878561   \n",
       "4  1.088578  0.936672 -1.612486  0.804471  0.106763  1.767157 -0.556144   \n",
       "\n",
       "         7         8         9     ...           25        26        27  \\\n",
       "0  1.105812 -0.302638 -0.283296    ...     1.285988  1.782907  0.063279   \n",
       "1  1.872847 -0.105110 -0.375149    ...     0.593910  1.274131 -0.446255   \n",
       "2 -0.316993 -0.170799  0.153335    ...     0.271130  0.975689 -1.711763   \n",
       "3  1.999087 -0.999841 -1.716294    ...    -0.253623  0.849749 -1.556276   \n",
       "4  0.955371 -0.429166  0.350417    ...     1.745968 -0.518202 -0.819553   \n",
       "\n",
       "         28        29        30        31        32        33        34  \n",
       "0 -2.252592 -0.839468  0.491278 -0.007657  0.243966 -1.258249 -0.416401  \n",
       "1 -2.138829 -1.348131  0.151395 -0.973954  0.582125 -0.754017 -1.123455  \n",
       "2 -1.799467 -0.758022 -0.308142  0.510374  1.405627  2.724066 -0.544156  \n",
       "3 -2.511659 -1.247803  2.044686  0.216030  0.289868 -0.419250 -1.183094  \n",
       "4 -2.300020  0.497395  1.363582 -0.660230 -0.390434 -1.022668 -2.978423  \n",
       "\n",
       "[5 rows x 35 columns]"
      ]
     },
     "execution_count": 52,
     "metadata": {},
     "output_type": "execute_result"
    }
   ],
   "source": [
    "# let's try to visualize all document_vectors\n",
    "# get all vectors of documents we created from model training\n",
    "docs_vecs = []\n",
    "# docvecs (list of Doc2VecKeyedVectors) \n",
    "# – Vector representations of the documents in the corpus. Each vector has size == vector_size\n",
    "for doc in iter(range(0, len(model.docvecs))):\n",
    "    docs_vecs.append(model.docvecs[doc])\n",
    "\n",
    "# loading dataset into Pandas DataFrame\n",
    "df = pd.DataFrame.from_records(docs_vecs)\n",
    "df.head()\n",
    "\n",
    "#df[['target']]"
   ]
  },
  {
   "cell_type": "code",
   "execution_count": 53,
   "metadata": {},
   "outputs": [
    {
     "name": "stdout",
     "output_type": "stream",
     "text": [
      "[[ 1.73805726  1.23786354  0.30194843 ...  0.24396613 -1.25824869\n",
      "  -0.41640148]\n",
      " [ 1.17277455  2.37562585 -1.44211972 ...  0.58212477 -0.75401741\n",
      "  -1.12345505]\n",
      " [ 0.67359227  3.04485464  0.19221658 ...  1.40562654  2.72406578\n",
      "  -0.54415619]\n",
      " ...\n",
      " [-0.9147833   0.61588484 -0.2883366  ...  1.88144612 -0.85320681\n",
      "  -0.92332178]\n",
      " [ 1.19602501  1.36778343 -1.08928478 ...  2.49282932  0.01241884\n",
      "  -1.62045622]\n",
      " [ 1.38615596 -0.03241171 -0.71504813 ...  1.75821424 -0.17518643\n",
      "  -1.92259359]]\n"
     ]
    }
   ],
   "source": [
    "# PCA is effected by scale so you need to scale the features in your data before applying PCA. \n",
    "features = [i for i in range(vec_size)]\n",
    "\n",
    "x = df.loc[:, features].values # get features values\n",
    "print(x)\n",
    "# we don't have target here y = df.loc[:,['target']].values # get target values (guess kind of flower/Iris)\n",
    "\n",
    "# standardize data\n",
    "x = StandardScaler().fit_transform(x) # scale data (especially in case different measures are used)\n",
    "# pd.DataFrame(data = x, columns = features).head() # show first data\n"
   ]
  },
  {
   "cell_type": "markdown",
   "metadata": {},
   "source": [
    "## 2D Projection with PCA"
   ]
  },
  {
   "cell_type": "code",
   "execution_count": 54,
   "metadata": {},
   "outputs": [
    {
     "data": {
      "text/html": [
       "<div>\n",
       "<style scoped>\n",
       "    .dataframe tbody tr th:only-of-type {\n",
       "        vertical-align: middle;\n",
       "    }\n",
       "\n",
       "    .dataframe tbody tr th {\n",
       "        vertical-align: top;\n",
       "    }\n",
       "\n",
       "    .dataframe thead th {\n",
       "        text-align: right;\n",
       "    }\n",
       "</style>\n",
       "<table border=\"1\" class=\"dataframe\">\n",
       "  <thead>\n",
       "    <tr style=\"text-align: right;\">\n",
       "      <th></th>\n",
       "      <th>principal component 1</th>\n",
       "      <th>principal component 2</th>\n",
       "    </tr>\n",
       "  </thead>\n",
       "  <tbody>\n",
       "    <tr>\n",
       "      <th>0</th>\n",
       "      <td>-0.003483</td>\n",
       "      <td>0.379235</td>\n",
       "    </tr>\n",
       "    <tr>\n",
       "      <th>1</th>\n",
       "      <td>-0.361583</td>\n",
       "      <td>-0.953119</td>\n",
       "    </tr>\n",
       "    <tr>\n",
       "      <th>2</th>\n",
       "      <td>-0.754044</td>\n",
       "      <td>0.531147</td>\n",
       "    </tr>\n",
       "    <tr>\n",
       "      <th>3</th>\n",
       "      <td>-1.012485</td>\n",
       "      <td>-1.048171</td>\n",
       "    </tr>\n",
       "    <tr>\n",
       "      <th>4</th>\n",
       "      <td>-0.484371</td>\n",
       "      <td>0.145484</td>\n",
       "    </tr>\n",
       "  </tbody>\n",
       "</table>\n",
       "</div>"
      ],
      "text/plain": [
       "   principal component 1  principal component 2\n",
       "0              -0.003483               0.379235\n",
       "1              -0.361583              -0.953119\n",
       "2              -0.754044               0.531147\n",
       "3              -1.012485              -1.048171\n",
       "4              -0.484371               0.145484"
      ]
     },
     "execution_count": 54,
     "metadata": {},
     "output_type": "execute_result"
    }
   ],
   "source": [
    "# build PCA model in 2D\n",
    "pca = PCA(n_components=2) # The new components are just the two main dimensions of variation.\n",
    "\n",
    "principalComponents = pca.fit_transform(x)\n",
    "\n",
    "principalDf = pd.DataFrame(data = principalComponents\n",
    "             , columns = ['principal component 1', 'principal component 2'])\n",
    "principalDf.head()\n",
    "# these components drawn don't hold a lot of information 'per-se', they're just the result \n",
    "# of dimension-reduction"
   ]
  },
  {
   "cell_type": "code",
   "execution_count": 58,
   "metadata": {},
   "outputs": [
    {
     "name": "stdout",
     "output_type": "stream",
     "text": [
      "Number of points shown  234\n"
     ]
    },
    {
     "data": {
      "image/png": "[encoded data removed]",
      "text/plain": [
       "<Figure size 576x576 with 1 Axes>"
      ]
     },
     "metadata": {},
     "output_type": "display_data"
    }
   ],
   "source": [
    "# we can now visualize the data by plotting them\n",
    "\n",
    "# finalDf is the final DataFrame before plotting the data (nothing great, just taking result of PCA and attaching target to it)\n",
    "#finalDf = pd.concat([principalDf, df[['target']]], axis = 1)\n",
    "\n",
    "finalDf = principalDf # we don't have targets to show\n",
    "\n",
    "fig = plt.figure(figsize = (8,8))\n",
    "ax = fig.add_subplot(1,1,1) \n",
    "ax.set_xlabel('Principal Component 1', fontsize = 15)\n",
    "ax.set_ylabel('Principal Component 2', fontsize = 15)\n",
    "ax.set_title('2 Component PCA', fontsize = 20)\n",
    "\n",
    "ax.scatter(finalDf.loc[:, 'principal component 1']\n",
    "          , finalDf.loc[:,'principal component 2']\n",
    "          , c = 'r'\n",
    "          , s = 50)\n",
    "\n",
    "#targets = ['Iris-setosa', 'Iris-versicolor', 'Iris-virginica']\n",
    "#colors = ['r', 'g', 'b']\n",
    "#for target, color in zip(targets, colors):\n",
    "#    indicesToKeep = finalDf['target'] == target\n",
    "#    ax.scatter(finalDf.loc[indicesToKeep, 'principal component 1']\n",
    "#               , finalDf.loc[indicesToKeep, 'principal component 2']\n",
    "#               , c = color\n",
    "#               , s = 50)\n",
    "#ax.legend(targets)\n",
    "ax.grid()\n",
    "print(\"Number of points shown \", len(finalDf))\n",
    "\n"
   ]
  },
  {
   "cell_type": "code",
   "execution_count": null,
   "metadata": {},
   "outputs": [],
   "source": []
  }
 ],
 "metadata": {
  "kernelspec": {
   "display_name": "Python 3",
   "language": "python",
   "name": "python3"
  },
  "language_info": {
   "codemirror_mode": {
    "name": "ipython",
    "version": 3
   },
   "file_extension": ".py",
   "mimetype": "text/x-python",
   "name": "python",
   "nbconvert_exporter": "python",
   "pygments_lexer": "ipython3",
   "version": "3.6.5"
  }
 },
 "nbformat": 4,
 "nbformat_minor": 2
}

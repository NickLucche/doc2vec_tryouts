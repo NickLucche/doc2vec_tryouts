{
 "cells": [
  {
   "cell_type": "code",
   "execution_count": 4,
   "metadata": {},
   "outputs": [],
   "source": [
    "# PCA imports\n",
    "import pandas as pd \n",
    "import numpy as np\n",
    "import matplotlib.pyplot as plt\n",
    "from sklearn.decomposition import PCA\n",
    "from sklearn.preprocessing import StandardScaler\n",
    "%matplotlib inline"
   ]
  },
  {
   "cell_type": "code",
   "execution_count": 5,
   "metadata": {},
   "outputs": [],
   "source": [
    "# Doc2Vec imports\n",
    "from gensim.models.doc2vec import Doc2Vec, TaggedDocument\n",
    "import gensim\n",
    "\n",
    "import json # to open our data file\n",
    "DATA_FILENAME = \"trend_analisys.json\"\n",
    "# open json file\n",
    "with open(DATA_FILENAME, \"r\") as json_file:\n",
    "    json_data = json.load(json_file)\n",
    "# we're expecting a list now, since our json file is a json array\n",
    "assert type(json_data) is list"
   ]
  },
  {
   "cell_type": "markdown",
   "metadata": {},
   "source": [
    "## Version 1 - Training Model with Abstract field (whole text)"
   ]
  },
  {
   "cell_type": "code",
   "execution_count": 6,
   "metadata": {},
   "outputs": [
    {
     "name": "stdout",
     "output_type": "stream",
     "text": [
      "Total examples: 293, number of train examples: 234, number of test examples: 59\n",
      "[TaggedDocument(words=['lg', 'thinq', 'super', 'schermo', 'audio', 'al', 'top', 'lo', 'smartphone', 'che', 'ha', 'ben', 'poco', 'da', 'invidiare', 'repubblica', 'itil', 'mercato', 'degli', 'smartphone', 'si', 'fa', 'ogni', 'giorno', 'più', 'ricco', 'le', 'possibilità', 'di', 'scelta', 'tra', 'prodotti', 'di', 'buon', 'ottima', 'qualità', 'prezzi', 'diversi', 'sono', 'in', 'costante', 'crescita', 'certamente', 'tra', 'gli', 'smartphone', 'che', 'vi', 'consigliamo', 'prendere', 'in', 'considerazione', 'tra', 'quelli', 'usciti', 'di', 'recente', 'il', 'thinq', 'di', 'lg', 'sottile', 'elegante', 'il', 'modello', 'che', 'abbiamo', 'provato', 'aveva', 'un', 'elegantissimo', 'colore', 'blu', 'comodo', 'di', 'dimensioni', 'giuste', 'il', 'thinq', 'ha', 'tutte', 'le', 'caratteristiche', 'necessarie', 'per', 'accontentare', 'anche', 'il', 'pubblico', 'più', 'esigente', 'mobile', 'platform', 'qualcomm', 'snapdragon', 'gb', 'di', 'ram', 'gb', 'di', 'memoria', 'interna', 'espandibile', 'ovvia', 'dotazione', 'di', 'accelerometro', 'giroscopio', 'magnetometro', 'sensore', 'di', 'luminosità', 'prossimità', 'barometro', 'lettore', 'di', 'impronte', 'digitale', 'capacità', 'di', 'riconoscimento', 'facciale', 'il', 'display', 'da', 'pollici', 'decisamente', 'luminoso', 'con', 'pixel', 'non', 'mancano', 'lte', 'wifi', 'ac', 'bluetooth', 'nfc', 'gps', 'radio', 'fm', 'jack', 'audio', 'una', 'porta', 'usb', 'type', 'la', 'ricarica', 'wireless', 'ha', 'un', 'comodo', 'tasto', 'sulla', 'sinistra', 'per', 'richiamare', 'immediatamente', 'google', 'assistant', 'detto', 'questo', 'com', 'davvero', 'il', 'thinq', 'una', 'buonissima', 'macchina', 'con', 'un', 'eccellente', 'rapporto', 'prezzo', 'qualità', 'che', 'non', 'cede', 'nemmeno', 'un', 'istante', 'anche', 'quando', 'sotto', 'pressione', 'viene', 'usato', 'in', 'maniera', 'intensiva', 'sostenuto', 'da', 'una', 'buonissima', 'qualità', 'audio', 'usa', 'anche', 'la', 'tecnologia', 'boom', 'box', 'che', 'amplifica', 'la', 'potenza', 'sonora', 'dello', 'speaker', 'che', 'si', 'trova', 'sul', 'bordo', 'inferiore', 'facendo', 'vibrare', 'tutta', 'la', 'scocca', 'basta', 'quindi', 'appoggiare', 'lo', 'smartphone', 'su', 'una', 'superficie', 'piana', 'per', 'ottenere', 'un', 'discreto', 'aumento', 'della', 'potenza', 'sonora', 'il', 'display', 'uno', 'dei', 'punti', 'di', 'forza', 'del', 'device', 'un', 'wlcd', 'ips', 'da', 'sei', 'pollici', 'con', 'una', 'risoluzione', 'qhd', 'ha', 'come', 'dicevamo', 'una', 'notevolissima', 'luminosità', 'superiore', 'alla', 'media', 'soprattutto', 'se', 'usato', 'in', 'condizioni', 'di', 'forte', 'illuminazione', 'assomiglia', 'tutti', 'gli', 'altri', 'smartphone', 'in', 'circolazione', 'ma', 'questo', 'ormai', 'talmente', 'ovvio', 'da', 'non', 'essere', 'un', 'difetto', 'pesa', 'poco', 'più', 'di', 'un', 'etto', 'mezzo', 'questo', 'gioca', 'suo', 'favore', 'soprattutto', 'se', 'si', 'usa', 'molto', 'il', 'device', 'resistente', 'ad', 'acqua', 'polvere', 'non', 'scivola', 'con', 'facilità', 'dalle', 'mani', 'ed', 'entra', 'bene', 'in', 'tasca', 'arriviamo', 'dunque', 'alla', 'fotocamera', 'anzi', 'alle', 'fotocamere', 'perché', 'lg', 'thinq', 'ne', 'ha', 'due', 'posteriori', 'da', 'mp', 'una', 'standard', 'stabilizzata', 'otticamente', 'una', 'grandangolare', 'sul', 'frontale', 'ha', 'una', 'singola', 'fotocamera', 'da', 'mp', 'le', 'foto', 'sono', 'di', 'buona', 'qualità', 'sia', 'in', 'condizioni', 'normali', 'che', 'di', 'scarsa', 'illuminazione', 'con', 'un', 'buon', 'dettaglio', 'un', 'altrettanto', 'buon', 'contrasto', 'non', 'manca', 'ovviamente', 'intelligenza', 'artificiale', 'che', 'permette', 'alla', 'macchina', 'di', 'riconoscere', 'le', 'scene', 'ma', 'anche', 'una', 'modalità', 'notturna', 'che', 'combina', 'quattro', 'pixel', 'per', 'catturare', 'meglio', 'la', 'luce', 'ma', 'il', 'punto', 'di', 'forza', 'del', 'thinq', 'sono', 'video', 'con', 'una', 'modalità', 'manuale', 'una', 'cinematica', 'abbiamo', 'utilizzato', 'in', 'molte', 'situazioni', 'diverse', 'risultati', 'sono', 'stati', 'tutti', 'molto', 'buoni', 'soprattutto', 'quando', 'come', 'al', 'concerto', 'romano', 'di', 'roger', 'waters', 'le', 'condizioni', 'di', 'illuminazione', 'erano', 'particolari', 'per', 'chi', 'ama', 'realizzare', 'filmati', 'più', 'che', 'fotografie', 'un', 'device', 'assolutamente', 'da', 'consigliare', 'la', 'batteria', 'da', 'mah', 'non', 'proprio', 'il', 'massimo', 'per', 'reggere', 'tutto', 'equipaggiamento', 'dello', 'smartphone', 'ma', 'come', 'tutti', 'sanno', 'dipende', 'molto', 'dall', 'uso', 'che', 'si', 'fa', 'del', 'device', 'diciamo', 'che', 'con', 'un', 'forte', 'uso', 'della', 'macchina', 'si', 'rischia', 'di', 'arrivare', 'sera', 'scarichi', 'nel', 'confronto', 'con', 'due', 'principali', 'concorrenti', 'il', 'samsung', 'galaxy', 'plus', 'il', 'huawei', 'pro', 'si', 'comporta', 'molto', 'bene', 'ed', 'una', 'valida', 'alternativa', 'anche', 'se', 'sul', 'fronte', 'della', 'fotocamera', 'il', 'leggermente', 'superiore', 'sul', 'fronte', 'della', 'batteria', 'il', 'samsung', 'migliore', 'ma', 'tutto', 'sommato', 'nei', 'sono', 'pochi', 'in', 'una', 'macchina', 'ben', 'realizzata', 'certamente', 'molto', 'funzionale'], tags=[0])]\n"
     ]
    }
   ],
   "source": [
    "# we have our json data now, let's go ahead and divide into training and test set\n",
    "n_examples =  len(json_data)\n",
    "# how much of the data we're going to be using for training and for testing\n",
    "# default values: 80% train, 20% test\n",
    "TRAIN_DATA_LENGTH = 8 * n_examples // 10\n",
    "TEST_DATA_LENGTH = n_examples - TRAIN_DATA_LENGTH\n",
    "ABSTRACT_FIELD_NAME = 'abstract'\n",
    "TITLE_FIELD_NAME = 'title'\n",
    "\n",
    "print(\"Total examples: {0}, number of train examples: {1}, number of test examples: {2}\".format(n_examples,TRAIN_DATA_LENGTH, TEST_DATA_LENGTH))\n",
    "\n",
    "# TODO: Randomize selection of examples, don't just take the first ones\n",
    "# build training corpus: take the needed abstract, preprocess them (tokenize, delete spaces..)\n",
    "# and create the TaggedDocument needed for training\n",
    "# also added title to it \n",
    "train_corpus = [gensim.models.doc2vec.TaggedDocument(gensim.utils.simple_preprocess(\n",
    "    d[TITLE_FIELD_NAME]+d[ABSTRACT_FIELD_NAME]), [i]) for i, d in enumerate(json_data) if i<TRAIN_DATA_LENGTH]\n",
    "assert len(train_corpus)==TRAIN_DATA_LENGTH\n",
    "print(train_corpus[:1])"
   ]
  },
  {
   "cell_type": "code",
   "execution_count": null,
   "metadata": {},
   "outputs": [],
   "source": []
  },
  {
   "cell_type": "code",
   "execution_count": 7,
   "metadata": {},
   "outputs": [
    {
     "name": "stdout",
     "output_type": "stream",
     "text": [
      "iteration 0\n",
      "iteration 50\n",
      "iteration 100\n",
      "iteration 150\n",
      "iteration 200\n",
      "iteration 250\n",
      "Model Saved\n"
     ]
    }
   ],
   "source": [
    "# create the doc2vec model\n",
    "# TODO: tune this parameters (personally, I think we could use a bigger vec_size, like 50)\n",
    "max_epochs = 300\n",
    "vec_size = 35\n",
    "alpha = 0.030\n",
    "MODEL_NAME = \"d2v_trend_analisys_model.model\"\n",
    "\n",
    "model = Doc2Vec(vector_size=vec_size,\n",
    "                alpha=alpha,\n",
    "                min_alpha=0.00030,\n",
    "                min_count=2, # words that appear less than twice in the corpus are ignored\n",
    "                dm=0) #dm=0 means \"distributed bag of words\"\n",
    "# build our vocabulary of words (all the unique words encountered inside our corpus, needed for training)\n",
    "model.build_vocab(train_corpus)\n",
    "\n",
    "# train the model on the given data!\n",
    "for epoch in range(max_epochs):\n",
    "    if(epoch%50==0):\n",
    "        print('iteration {0}'.format(epoch))\n",
    "    model.train(train_corpus,\n",
    "                total_examples = model.corpus_count,\n",
    "                epochs = model.epochs)\n",
    "    # decrease the learning rate\n",
    "    model.alpha -= 0.0002\n",
    "    # fix the learning rate, no decay\n",
    "    model.min_alpha = model.alpha\n",
    "\n",
    "model.save(MODEL_NAME)\n",
    "print(\"Model Saved\")\n"
   ]
  },
  {
   "cell_type": "markdown",
   "metadata": {},
   "source": [
    "## Visualizing Data\n",
    "credits: https://towardsdatascience.com/pca-using-python-scikit-learn-e653f8989e60"
   ]
  },
  {
   "cell_type": "code",
   "execution_count": 8,
   "metadata": {},
   "outputs": [
    {
     "data": {
      "text/html": [
       "<div>\n",
       "<style scoped>\n",
       "    .dataframe tbody tr th:only-of-type {\n",
       "        vertical-align: middle;\n",
       "    }\n",
       "\n",
       "    .dataframe tbody tr th {\n",
       "        vertical-align: top;\n",
       "    }\n",
       "\n",
       "    .dataframe thead th {\n",
       "        text-align: right;\n",
       "    }\n",
       "</style>\n",
       "<table border=\"1\" class=\"dataframe\">\n",
       "  <thead>\n",
       "    <tr style=\"text-align: right;\">\n",
       "      <th></th>\n",
       "      <th>0</th>\n",
       "      <th>1</th>\n",
       "      <th>2</th>\n",
       "      <th>3</th>\n",
       "      <th>4</th>\n",
       "      <th>5</th>\n",
       "      <th>6</th>\n",
       "      <th>7</th>\n",
       "      <th>8</th>\n",
       "      <th>9</th>\n",
       "      <th>...</th>\n",
       "      <th>25</th>\n",
       "      <th>26</th>\n",
       "      <th>27</th>\n",
       "      <th>28</th>\n",
       "      <th>29</th>\n",
       "      <th>30</th>\n",
       "      <th>31</th>\n",
       "      <th>32</th>\n",
       "      <th>33</th>\n",
       "      <th>34</th>\n",
       "    </tr>\n",
       "  </thead>\n",
       "  <tbody>\n",
       "    <tr>\n",
       "      <th>0</th>\n",
       "      <td>-1.036411</td>\n",
       "      <td>-0.471695</td>\n",
       "      <td>0.985462</td>\n",
       "      <td>0.121885</td>\n",
       "      <td>-1.509385</td>\n",
       "      <td>-1.780442</td>\n",
       "      <td>0.253056</td>\n",
       "      <td>1.288514</td>\n",
       "      <td>0.008162</td>\n",
       "      <td>-2.751281</td>\n",
       "      <td>...</td>\n",
       "      <td>-0.922029</td>\n",
       "      <td>1.036483</td>\n",
       "      <td>-0.762062</td>\n",
       "      <td>-0.171672</td>\n",
       "      <td>1.354036</td>\n",
       "      <td>-1.691201</td>\n",
       "      <td>1.535649</td>\n",
       "      <td>-1.938937</td>\n",
       "      <td>0.728387</td>\n",
       "      <td>0.308307</td>\n",
       "    </tr>\n",
       "    <tr>\n",
       "      <th>1</th>\n",
       "      <td>-1.002666</td>\n",
       "      <td>0.631258</td>\n",
       "      <td>1.242575</td>\n",
       "      <td>-0.020710</td>\n",
       "      <td>-1.908938</td>\n",
       "      <td>0.073286</td>\n",
       "      <td>0.261581</td>\n",
       "      <td>2.220504</td>\n",
       "      <td>0.082967</td>\n",
       "      <td>-0.982622</td>\n",
       "      <td>...</td>\n",
       "      <td>-0.488178</td>\n",
       "      <td>-0.240992</td>\n",
       "      <td>-0.045239</td>\n",
       "      <td>0.862342</td>\n",
       "      <td>0.778172</td>\n",
       "      <td>-1.066683</td>\n",
       "      <td>1.737790</td>\n",
       "      <td>-1.315673</td>\n",
       "      <td>0.645655</td>\n",
       "      <td>0.236962</td>\n",
       "    </tr>\n",
       "    <tr>\n",
       "      <th>2</th>\n",
       "      <td>-0.798958</td>\n",
       "      <td>-0.867661</td>\n",
       "      <td>-0.813422</td>\n",
       "      <td>-0.254613</td>\n",
       "      <td>-0.376419</td>\n",
       "      <td>-1.358565</td>\n",
       "      <td>-0.166472</td>\n",
       "      <td>3.186065</td>\n",
       "      <td>-0.818461</td>\n",
       "      <td>-2.227815</td>\n",
       "      <td>...</td>\n",
       "      <td>-2.075448</td>\n",
       "      <td>-0.109493</td>\n",
       "      <td>1.078200</td>\n",
       "      <td>-0.236366</td>\n",
       "      <td>0.813869</td>\n",
       "      <td>-1.328317</td>\n",
       "      <td>0.526827</td>\n",
       "      <td>-1.776519</td>\n",
       "      <td>0.830128</td>\n",
       "      <td>1.600801</td>\n",
       "    </tr>\n",
       "    <tr>\n",
       "      <th>3</th>\n",
       "      <td>-1.703217</td>\n",
       "      <td>-0.398729</td>\n",
       "      <td>0.617921</td>\n",
       "      <td>-0.296285</td>\n",
       "      <td>-0.628757</td>\n",
       "      <td>-0.844446</td>\n",
       "      <td>0.705122</td>\n",
       "      <td>1.967232</td>\n",
       "      <td>-1.418087</td>\n",
       "      <td>-1.924091</td>\n",
       "      <td>...</td>\n",
       "      <td>-0.161509</td>\n",
       "      <td>-0.876871</td>\n",
       "      <td>-1.238790</td>\n",
       "      <td>0.189565</td>\n",
       "      <td>1.414227</td>\n",
       "      <td>-1.455331</td>\n",
       "      <td>0.824922</td>\n",
       "      <td>-0.058508</td>\n",
       "      <td>0.316247</td>\n",
       "      <td>2.252658</td>\n",
       "    </tr>\n",
       "    <tr>\n",
       "      <th>4</th>\n",
       "      <td>-1.911989</td>\n",
       "      <td>-0.235359</td>\n",
       "      <td>0.850458</td>\n",
       "      <td>-0.001770</td>\n",
       "      <td>-0.884877</td>\n",
       "      <td>0.237106</td>\n",
       "      <td>0.535283</td>\n",
       "      <td>1.375460</td>\n",
       "      <td>-1.692155</td>\n",
       "      <td>-2.690405</td>\n",
       "      <td>...</td>\n",
       "      <td>-0.630424</td>\n",
       "      <td>0.598467</td>\n",
       "      <td>-1.977885</td>\n",
       "      <td>-1.217501</td>\n",
       "      <td>1.126007</td>\n",
       "      <td>-2.228561</td>\n",
       "      <td>0.192301</td>\n",
       "      <td>-0.852016</td>\n",
       "      <td>0.496185</td>\n",
       "      <td>1.194476</td>\n",
       "    </tr>\n",
       "  </tbody>\n",
       "</table>\n",
       "<p>5 rows × 35 columns</p>\n",
       "</div>"
      ],
      "text/plain": [
       "         0         1         2         3         4         5         6   \\\n",
       "0 -1.036411 -0.471695  0.985462  0.121885 -1.509385 -1.780442  0.253056   \n",
       "1 -1.002666  0.631258  1.242575 -0.020710 -1.908938  0.073286  0.261581   \n",
       "2 -0.798958 -0.867661 -0.813422 -0.254613 -0.376419 -1.358565 -0.166472   \n",
       "3 -1.703217 -0.398729  0.617921 -0.296285 -0.628757 -0.844446  0.705122   \n",
       "4 -1.911989 -0.235359  0.850458 -0.001770 -0.884877  0.237106  0.535283   \n",
       "\n",
       "         7         8         9     ...           25        26        27  \\\n",
       "0  1.288514  0.008162 -2.751281    ...    -0.922029  1.036483 -0.762062   \n",
       "1  2.220504  0.082967 -0.982622    ...    -0.488178 -0.240992 -0.045239   \n",
       "2  3.186065 -0.818461 -2.227815    ...    -2.075448 -0.109493  1.078200   \n",
       "3  1.967232 -1.418087 -1.924091    ...    -0.161509 -0.876871 -1.238790   \n",
       "4  1.375460 -1.692155 -2.690405    ...    -0.630424  0.598467 -1.977885   \n",
       "\n",
       "         28        29        30        31        32        33        34  \n",
       "0 -0.171672  1.354036 -1.691201  1.535649 -1.938937  0.728387  0.308307  \n",
       "1  0.862342  0.778172 -1.066683  1.737790 -1.315673  0.645655  0.236962  \n",
       "2 -0.236366  0.813869 -1.328317  0.526827 -1.776519  0.830128  1.600801  \n",
       "3  0.189565  1.414227 -1.455331  0.824922 -0.058508  0.316247  2.252658  \n",
       "4 -1.217501  1.126007 -2.228561  0.192301 -0.852016  0.496185  1.194476  \n",
       "\n",
       "[5 rows x 35 columns]"
      ]
     },
     "execution_count": 8,
     "metadata": {},
     "output_type": "execute_result"
    }
   ],
   "source": [
    "# let's try to visualize all document_vectors\n",
    "# get all vectors of documents we created from model training\n",
    "docs_vecs = []\n",
    "# docvecs (list of Doc2VecKeyedVectors) \n",
    "# – Vector representations of the documents in the corpus. Each vector has size == vector_size\n",
    "for doc in iter(range(0, len(model.docvecs))):\n",
    "    docs_vecs.append(model.docvecs[doc])\n",
    "\n",
    "# loading dataset into Pandas DataFrame\n",
    "df = pd.DataFrame.from_records(docs_vecs)\n",
    "df.head()\n",
    "\n",
    "#df[['target']]"
   ]
  },
  {
   "cell_type": "code",
   "execution_count": 9,
   "metadata": {},
   "outputs": [
    {
     "name": "stdout",
     "output_type": "stream",
     "text": [
      "[[-1.03641129 -0.47169518  0.98546171 ... -1.93893731  0.72838736\n",
      "   0.3083069 ]\n",
      " [-1.00266635  0.63125813  1.24257505 ... -1.31567311  0.64565468\n",
      "   0.23696166]\n",
      " [-0.79895782 -0.86766064 -0.81342185 ... -1.7765187   0.83012837\n",
      "   1.60080111]\n",
      " ...\n",
      " [-4.22736788  1.49368644  0.71316183 ... -0.64865386  1.54141283\n",
      "  -0.19890718]\n",
      " [-2.20488477  0.05373141  1.15015066 ... -1.35615087  0.83928412\n",
      "   1.01590919]\n",
      " [-2.61106467 -0.15241262  0.93975186 ... -1.68420935  1.50258148\n",
      "   1.18974316]]\n"
     ]
    }
   ],
   "source": [
    "# PCA is effected by scale so you need to scale the features in your data before applying PCA. \n",
    "features = [i for i in range(vec_size)]\n",
    "\n",
    "x = df.loc[:, features].values # get features values\n",
    "print(x)\n",
    "# we don't have target here y = df.loc[:,['target']].values # get target values (guess kind of flower/Iris)\n",
    "\n",
    "# standardize data\n",
    "x = StandardScaler().fit_transform(x) # scale data (especially in case different measures are used)\n",
    "# pd.DataFrame(data = x, columns = features).head() # show first data\n"
   ]
  },
  {
   "cell_type": "markdown",
   "metadata": {},
   "source": [
    "## 2D Projection with PCA"
   ]
  },
  {
   "cell_type": "code",
   "execution_count": 10,
   "metadata": {},
   "outputs": [
    {
     "data": {
      "text/html": [
       "<div>\n",
       "<style scoped>\n",
       "    .dataframe tbody tr th:only-of-type {\n",
       "        vertical-align: middle;\n",
       "    }\n",
       "\n",
       "    .dataframe tbody tr th {\n",
       "        vertical-align: top;\n",
       "    }\n",
       "\n",
       "    .dataframe thead th {\n",
       "        text-align: right;\n",
       "    }\n",
       "</style>\n",
       "<table border=\"1\" class=\"dataframe\">\n",
       "  <thead>\n",
       "    <tr style=\"text-align: right;\">\n",
       "      <th></th>\n",
       "      <th>principal component 1</th>\n",
       "      <th>principal component 2</th>\n",
       "    </tr>\n",
       "  </thead>\n",
       "  <tbody>\n",
       "    <tr>\n",
       "      <th>0</th>\n",
       "      <td>0.813956</td>\n",
       "      <td>0.280144</td>\n",
       "    </tr>\n",
       "    <tr>\n",
       "      <th>1</th>\n",
       "      <td>0.881879</td>\n",
       "      <td>0.442636</td>\n",
       "    </tr>\n",
       "    <tr>\n",
       "      <th>2</th>\n",
       "      <td>0.469896</td>\n",
       "      <td>1.762570</td>\n",
       "    </tr>\n",
       "    <tr>\n",
       "      <th>3</th>\n",
       "      <td>1.049223</td>\n",
       "      <td>0.340751</td>\n",
       "    </tr>\n",
       "    <tr>\n",
       "      <th>4</th>\n",
       "      <td>0.784798</td>\n",
       "      <td>-0.570425</td>\n",
       "    </tr>\n",
       "  </tbody>\n",
       "</table>\n",
       "</div>"
      ],
      "text/plain": [
       "   principal component 1  principal component 2\n",
       "0               0.813956               0.280144\n",
       "1               0.881879               0.442636\n",
       "2               0.469896               1.762570\n",
       "3               1.049223               0.340751\n",
       "4               0.784798              -0.570425"
      ]
     },
     "execution_count": 10,
     "metadata": {},
     "output_type": "execute_result"
    }
   ],
   "source": [
    "# build PCA model in 2D\n",
    "pca = PCA(n_components=2) # The new components are just the two main dimensions of variation.\n",
    "\n",
    "principalComponents = pca.fit_transform(x)\n",
    "\n",
    "principalDf = pd.DataFrame(data = principalComponents\n",
    "             , columns = ['principal component 1', 'principal component 2'])\n",
    "principalDf.head()\n",
    "# these components drawn don't hold a lot of information 'per-se', they're just the result \n",
    "# of dimension-reduction"
   ]
  },
  {
   "cell_type": "code",
   "execution_count": 11,
   "metadata": {},
   "outputs": [
    {
     "name": "stdout",
     "output_type": "stream",
     "text": [
      "Number of points shown  234\n"
     ]
    },
    {
     "data": {
      "image/png": "[encoded data removed]",
      "text/plain": [
       "<Figure size 576x576 with 1 Axes>"
      ]
     },
     "metadata": {},
     "output_type": "display_data"
    }
   ],
   "source": [
    "# we can now visualize the data by plotting them\n",
    "\n",
    "# finalDf is the final DataFrame before plotting the data (nothing great, just taking result of PCA and attaching target to it)\n",
    "#finalDf = pd.concat([principalDf, df[['target']]], axis = 1)\n",
    "\n",
    "finalDf = principalDf # we don't have targets to show\n",
    "\n",
    "fig = plt.figure(figsize = (8,8))\n",
    "ax = fig.add_subplot(1,1,1) \n",
    "ax.set_xlabel('Principal Component 1', fontsize = 15)\n",
    "ax.set_ylabel('Principal Component 2', fontsize = 15)\n",
    "ax.set_title('2 Component PCA', fontsize = 20)\n",
    "\n",
    "ax.scatter(finalDf.loc[:, 'principal component 1']\n",
    "          , finalDf.loc[:,'principal component 2']\n",
    "          , c = 'r'\n",
    "          , s = 50)\n",
    "\n",
    "#targets = ['Iris-setosa', 'Iris-versicolor', 'Iris-virginica']\n",
    "#colors = ['r', 'g', 'b']\n",
    "#for target, color in zip(targets, colors):\n",
    "#    indicesToKeep = finalDf['target'] == target\n",
    "#    ax.scatter(finalDf.loc[indicesToKeep, 'principal component 1']\n",
    "#               , finalDf.loc[indicesToKeep, 'principal component 2']\n",
    "#               , c = color\n",
    "#               , s = 50)\n",
    "#ax.legend(targets)\n",
    "ax.grid()\n",
    "print(\"Number of points shown \", len(finalDf))\n",
    "\n"
   ]
  },
  {
   "cell_type": "markdown",
   "metadata": {},
   "source": [
    "## Visualizing Data interactively with Plotly"
   ]
  },
  {
   "cell_type": "code",
   "execution_count": 12,
   "metadata": {},
   "outputs": [],
   "source": [
    "import plotly.plotly as py\n",
    "import plotly.figure_factory as ff\n",
    "import plotly.tools as tls\n",
    "import plotly.graph_objs as go\n",
    "\n",
    "tls.set_credentials_file(username='D4nt3', api_key='FdMB4O6qCfciGDOnLvdQ')"
   ]
  },
  {
   "cell_type": "code",
   "execution_count": 13,
   "metadata": {},
   "outputs": [
    {
     "data": {
      "text/html": [
       "<iframe id=\"igraph\" scrolling=\"no\" style=\"border:none;\" seamless=\"seamless\" src=\"https://plot.ly/~D4nt3/6.embed\" height=\"525px\" width=\"100%\"></iframe>"
      ],
      "text/plain": [
       "<plotly.tools.PlotlyDisplay object>"
      ]
     },
     "execution_count": 13,
     "metadata": {},
     "output_type": "execute_result"
    }
   ],
   "source": [
    "# we'll draw a scatter graph with labels\n",
    "traces = []\n",
    "# let's get the labels\n",
    "titles = [dictionary[TITLE_FIELD_NAME] for i, dictionary in enumerate(json_data) if i<TRAIN_DATA_LENGTH]\n",
    "# double check to be sure we got labels just right\n",
    "#i = 50\n",
    "#print(\"TITLE: {0}\\n <<{1}>>\".format(titles[i], train_corpus[i][:1]))\n",
    "\n",
    "# each trace will represent a point (squeezed vector from higher dimensions),\n",
    "# and each point will have the title of the news assigned\n",
    "for i in range(len(finalDf)):\n",
    "    trace0 = go.Scatter(\n",
    "        x = finalDf.loc[i:i, \"principal component 1\"],\n",
    "        y = finalDf.loc[i:i, \"principal component 2\"],\n",
    "        mode = 'markers',\n",
    "        #name = 'blue markers',\n",
    "        marker = dict(\n",
    "            size = 7,\n",
    "            color = 'rgba(0, 0, 110, .8)',\n",
    "        ),\n",
    "        text = str(titles[i])\n",
    "    )\n",
    "    traces.append(trace0)\n",
    "\n",
    "data = traces \n",
    "layout = dict(title = 'PCA Representantion of DocVectors',\n",
    "        hovermode= 'closest',\n",
    "        xaxis= dict(\n",
    "            title= 'first component',\n",
    "            ticklen= 5,\n",
    "            gridwidth= 2,\n",
    "        ),\n",
    "        yaxis=dict(\n",
    "            title= 'second component',\n",
    "            ticklen= 5,\n",
    "            gridwidth= 2,\n",
    "        ),\n",
    "        showlegend = False\n",
    "    )\n",
    "# Plot and embed in ipython notebook!\n",
    "fig = dict(data = data, layout = layout)\n",
    "py.iplot(fig, filename='TA_model-scatter')"
   ]
  },
  {
   "cell_type": "markdown",
   "metadata": {},
   "source": [
    "## Some (basic) testing"
   ]
  },
  {
   "cell_type": "code",
   "execution_count": 30,
   "metadata": {},
   "outputs": [
    {
     "name": "stdout",
     "output_type": "stream",
     "text": [
      "Test Document (62): «arriva assistente vocale di salesforce anche impresa si guida con voce il sole oresan francisco la voce sarà davvero la nuova interfaccia per governare processi della propria azienda in silicon valley sembrano tutti convinti come anticipato su nova anche salesforce avrà il proprio assistente vocale si chiama einstein voice vuole rendere possibile interrogare la piattaforma di crm con il linguaggio naturale einstein si aggiunge una nuova generazione di assistenti vocali per il business rispetto ai noti siri cortana alexa google assistant esistono infatti anche assistenti professionali da usare esclusivamente quasi sul posto di lavoro paradossalmente ma neanche tanto se ci si pensa nomi sono quasi gli stessi cisco spark assistant cortana eva nuance dragon ibm watson assistant ma cosa servono il senso degli assistenti specializzati visto da vicino alla presentazione ufficiale al dreamforce di san francisco einstein non sembra molto lontano dagli assistenti che conosciamo sui nostri smartphone dentro computer durante il dreamforce evento che raduna più di mila tra partner clienti provenienti da tutto il mondo sono state presentate numerose demo la sensazione che abitudine all utilizzo di questa proprop per mostrare confini dell uso della voce ma la direzione sembra chiare interfaccia vocale sembra una strada di non ritorno soprattutto negli stati uniti dove oggi un adulto su cinque utilizza assistenti vocali in casa propria secondo una recente ricerca di capgemini si prevede che entro il il dei consumatori preferirà usare un assistente vocale piuttosto che app siti web per svolgere una vasta gamma di attività dalla ricerca di informazioni allo shopping per le aziende rappresenta non solo un nuovo modo per interagire con la tecnologia ma comporta anche modalità completamente inedite per relazionarsi con propri clienti ridisegnare modelli di business cosa farà einstein voice manager del crm numero uno al mondo sono convinti che einstein voice assistant consentirà di semplificare attività amministrative ripetitive come immissione dei dati dettando gli aggiornamenti direttamente nell app salesforce mobile così facendo einstein voice assistant trasformerà automaticamente dati vocali non strutturati in azioni aggiornando record salesforce informando membri del team creando nuove attività più nello specifico einstein consentirà di ricevere briefing quotidiani personalizzati per dirla meglio gli utenti di salesforce potranno iniziare ogni giornata lavorativa con una lettura personalizzata delle principali metriche priorità di salesforce tramite il loro assistente vocale preferito brief giornalieri potranno essere configurati dagli amministratori per concentrarsi su ciò che più interessa ciascun utente business dal programma del giorno all aggiornamento delle opportunità più importanti fino una panoramica della pipeline del proprio team esplorare le dashboard di salesforce comandi vocali consentiranno agli utenti di individuare rapidamente facilmente le informazioni critiche di cui hanno bisogno invece di aprire filtrare manualmente le dashboard gli utenti potranno aprire la dashboard di einstein analytics ed entrare nei dettagli grazie semplicemente all uso della propria voce cosa farò einstein voice bot in pratica sarà possibile automatizzare le funzioni interazioni vocali con pochi click senza dovere ricorrere alla programmazione funzionerà sia su google assistant che su alexa di amazon idea quella di potere programmare un assistente vocale per esempio per consentire agli utenti di un servizio di affitto dell auto di aggiornare la prenotazione con la voce»\n",
      "\n",
      "\n",
      "Similar Doc-->(doctag:53,score:0.7674999237060547):<<Videogiochi: Red Dead Redemption 2 anteprima di un successo annunciato - La Stampa>>\n",
      "\n",
      "Similar Doc-->(doctag:48,score:-0.6104850769042969):<<7ecno, le notizie hi tech dal 17 al 23 settembre 7ecno, le notizie hi tech dal 17 al 23 settembre - La Stampa>>\n",
      "\n",
      "Similar Doc-->(doctag:159,score:-0.6687295436859131):<<I fondatori di Instagram lasciano Facebook: ecco cosa faranno in futuro>>\n"
     ]
    },
    {
     "name": "stderr",
     "output_type": "stream",
     "text": [
      "/home/nick/anaconda3/lib/python3.6/site-packages/gensim/matutils.py:737: FutureWarning:\n",
      "\n",
      "Conversion of the second argument of issubdtype from `int` to `np.signedinteger` is deprecated. In future, it will be treated as `np.int64 == np.dtype(int).type`.\n",
      "\n"
     ]
    }
   ],
   "source": [
    "# let's check if the model is at least decent,\n",
    "# which means: is it able to at least recognize news/documents\n",
    "# it has seen in training?\n",
    "\n",
    "# Pick a random document from the train corpus and infer a vector from the model\n",
    "doc_id = random.randint(0, len(train_corpus) - 1)\n",
    "##########################################\n",
    "## BUG: TOKENIZE DATA FIRST!!\n",
    "############################################\n",
    "inferred_vector = model.infer_vector(train_corpus[doc_id].words)\n",
    "similar_docs = model.docvecs.most_similar([inferred_vector], topn=3)\n",
    "\n",
    "# show the 3 most similar document titles\n",
    "print('Test Document ({}): «{}»\\n'.format(doc_id, ' '.join(train_corpus[doc_id].words)))\n",
    "for doc_tag, similarity in similar_docs:\n",
    "    print(\"\\nSimilar Doc-->(doctag:{0},score:{1}):<<{2}>>\".format(doc_tag, similarity, titles[doc_tag]))"
   ]
  },
  {
   "cell_type": "code",
   "execution_count": null,
   "metadata": {},
   "outputs": [],
   "source": []
  },
  {
   "cell_type": "code",
   "execution_count": null,
   "metadata": {},
   "outputs": [],
   "source": []
  }
 ],
 "metadata": {
  "kernelspec": {
   "display_name": "Python 3",
   "language": "python",
   "name": "python3"
  },
  "language_info": {
   "codemirror_mode": {
    "name": "ipython",
    "version": 3
   },
   "file_extension": ".py",
   "mimetype": "text/x-python",
   "name": "python",
   "nbconvert_exporter": "python",
   "pygments_lexer": "ipython3",
   "version": "3.6.5"
  }
 },
 "nbformat": 4,
 "nbformat_minor": 2
}

{
 "cells": [
  {
   "cell_type": "code",
   "execution_count": 1,
   "metadata": {},
   "outputs": [],
   "source": [
    "# PCA imports\n",
    "import pandas as pd \n",
    "import numpy as np\n",
    "import matplotlib.pyplot as plt\n",
    "from sklearn.decomposition import PCA\n",
    "from sklearn.preprocessing import StandardScaler\n",
    "%matplotlib inline"
   ]
  },
  {
   "cell_type": "code",
   "execution_count": 2,
   "metadata": {},
   "outputs": [],
   "source": [
    "# Doc2Vec imports\n",
    "from gensim.models.doc2vec import Doc2Vec, TaggedDocument\n",
    "import gensim\n",
    "\n",
    "import json # to open our data file\n",
    "DATA_FILENAME = \"trend_analisys.json\"\n",
    "# open json file\n",
    "with open(DATA_FILENAME, \"r\") as json_file:\n",
    "    json_data = json.load(json_file)\n",
    "# we're expecting a list now, since our json file is a json array\n",
    "assert type(json_data) is list"
   ]
  },
  {
   "cell_type": "markdown",
   "metadata": {},
   "source": [
    "## Version 1 - Training Model with Abstract field (whole text)"
   ]
  },
  {
   "cell_type": "code",
   "execution_count": 10,
   "metadata": {},
   "outputs": [
    {
     "name": "stdout",
     "output_type": "stream",
     "text": [
      "Total examples: 293, number of train examples: 234, number of test examples: 59\n",
      "[TaggedDocument(words=['lg', 'thinq', 'super', 'schermo', 'audio', 'al', 'top', 'lo', 'smartphone', 'che', 'ha', 'ben', 'poco', 'da', 'invidiare', 'repubblica', 'itil', 'mercato', 'degli', 'smartphone', 'si', 'fa', 'ogni', 'giorno', 'più', 'ricco', 'le', 'possibilità', 'di', 'scelta', 'tra', 'prodotti', 'di', 'buon', 'ottima', 'qualità', 'prezzi', 'diversi', 'sono', 'in', 'costante', 'crescita', 'certamente', 'tra', 'gli', 'smartphone', 'che', 'vi', 'consigliamo', 'prendere', 'in', 'considerazione', 'tra', 'quelli', 'usciti', 'di', 'recente', 'il', 'thinq', 'di', 'lg', 'sottile', 'elegante', 'il', 'modello', 'che', 'abbiamo', 'provato', 'aveva', 'un', 'elegantissimo', 'colore', 'blu', 'comodo', 'di', 'dimensioni', 'giuste', 'il', 'thinq', 'ha', 'tutte', 'le', 'caratteristiche', 'necessarie', 'per', 'accontentare', 'anche', 'il', 'pubblico', 'più', 'esigente', 'mobile', 'platform', 'qualcomm', 'snapdragon', 'gb', 'di', 'ram', 'gb', 'di', 'memoria', 'interna', 'espandibile', 'ovvia', 'dotazione', 'di', 'accelerometro', 'giroscopio', 'magnetometro', 'sensore', 'di', 'luminosità', 'prossimità', 'barometro', 'lettore', 'di', 'impronte', 'digitale', 'capacità', 'di', 'riconoscimento', 'facciale', 'il', 'display', 'da', 'pollici', 'decisamente', 'luminoso', 'con', 'pixel', 'non', 'mancano', 'lte', 'wifi', 'ac', 'bluetooth', 'nfc', 'gps', 'radio', 'fm', 'jack', 'audio', 'una', 'porta', 'usb', 'type', 'la', 'ricarica', 'wireless', 'ha', 'un', 'comodo', 'tasto', 'sulla', 'sinistra', 'per', 'richiamare', 'immediatamente', 'google', 'assistant', 'detto', 'questo', 'com', 'davvero', 'il', 'thinq', 'una', 'buonissima', 'macchina', 'con', 'un', 'eccellente', 'rapporto', 'prezzo', 'qualità', 'che', 'non', 'cede', 'nemmeno', 'un', 'istante', 'anche', 'quando', 'sotto', 'pressione', 'viene', 'usato', 'in', 'maniera', 'intensiva', 'sostenuto', 'da', 'una', 'buonissima', 'qualità', 'audio', 'usa', 'anche', 'la', 'tecnologia', 'boom', 'box', 'che', 'amplifica', 'la', 'potenza', 'sonora', 'dello', 'speaker', 'che', 'si', 'trova', 'sul', 'bordo', 'inferiore', 'facendo', 'vibrare', 'tutta', 'la', 'scocca', 'basta', 'quindi', 'appoggiare', 'lo', 'smartphone', 'su', 'una', 'superficie', 'piana', 'per', 'ottenere', 'un', 'discreto', 'aumento', 'della', 'potenza', 'sonora', 'il', 'display', 'uno', 'dei', 'punti', 'di', 'forza', 'del', 'device', 'un', 'wlcd', 'ips', 'da', 'sei', 'pollici', 'con', 'una', 'risoluzione', 'qhd', 'ha', 'come', 'dicevamo', 'una', 'notevolissima', 'luminosità', 'superiore', 'alla', 'media', 'soprattutto', 'se', 'usato', 'in', 'condizioni', 'di', 'forte', 'illuminazione', 'assomiglia', 'tutti', 'gli', 'altri', 'smartphone', 'in', 'circolazione', 'ma', 'questo', 'ormai', 'talmente', 'ovvio', 'da', 'non', 'essere', 'un', 'difetto', 'pesa', 'poco', 'più', 'di', 'un', 'etto', 'mezzo', 'questo', 'gioca', 'suo', 'favore', 'soprattutto', 'se', 'si', 'usa', 'molto', 'il', 'device', 'resistente', 'ad', 'acqua', 'polvere', 'non', 'scivola', 'con', 'facilità', 'dalle', 'mani', 'ed', 'entra', 'bene', 'in', 'tasca', 'arriviamo', 'dunque', 'alla', 'fotocamera', 'anzi', 'alle', 'fotocamere', 'perché', 'lg', 'thinq', 'ne', 'ha', 'due', 'posteriori', 'da', 'mp', 'una', 'standard', 'stabilizzata', 'otticamente', 'una', 'grandangolare', 'sul', 'frontale', 'ha', 'una', 'singola', 'fotocamera', 'da', 'mp', 'le', 'foto', 'sono', 'di', 'buona', 'qualità', 'sia', 'in', 'condizioni', 'normali', 'che', 'di', 'scarsa', 'illuminazione', 'con', 'un', 'buon', 'dettaglio', 'un', 'altrettanto', 'buon', 'contrasto', 'non', 'manca', 'ovviamente', 'intelligenza', 'artificiale', 'che', 'permette', 'alla', 'macchina', 'di', 'riconoscere', 'le', 'scene', 'ma', 'anche', 'una', 'modalità', 'notturna', 'che', 'combina', 'quattro', 'pixel', 'per', 'catturare', 'meglio', 'la', 'luce', 'ma', 'il', 'punto', 'di', 'forza', 'del', 'thinq', 'sono', 'video', 'con', 'una', 'modalità', 'manuale', 'una', 'cinematica', 'abbiamo', 'utilizzato', 'in', 'molte', 'situazioni', 'diverse', 'risultati', 'sono', 'stati', 'tutti', 'molto', 'buoni', 'soprattutto', 'quando', 'come', 'al', 'concerto', 'romano', 'di', 'roger', 'waters', 'le', 'condizioni', 'di', 'illuminazione', 'erano', 'particolari', 'per', 'chi', 'ama', 'realizzare', 'filmati', 'più', 'che', 'fotografie', 'un', 'device', 'assolutamente', 'da', 'consigliare', 'la', 'batteria', 'da', 'mah', 'non', 'proprio', 'il', 'massimo', 'per', 'reggere', 'tutto', 'equipaggiamento', 'dello', 'smartphone', 'ma', 'come', 'tutti', 'sanno', 'dipende', 'molto', 'dall', 'uso', 'che', 'si', 'fa', 'del', 'device', 'diciamo', 'che', 'con', 'un', 'forte', 'uso', 'della', 'macchina', 'si', 'rischia', 'di', 'arrivare', 'sera', 'scarichi', 'nel', 'confronto', 'con', 'due', 'principali', 'concorrenti', 'il', 'samsung', 'galaxy', 'plus', 'il', 'huawei', 'pro', 'si', 'comporta', 'molto', 'bene', 'ed', 'una', 'valida', 'alternativa', 'anche', 'se', 'sul', 'fronte', 'della', 'fotocamera', 'il', 'leggermente', 'superiore', 'sul', 'fronte', 'della', 'batteria', 'il', 'samsung', 'migliore', 'ma', 'tutto', 'sommato', 'nei', 'sono', 'pochi', 'in', 'una', 'macchina', 'ben', 'realizzata', 'certamente', 'molto', 'funzionale'], tags=[0])]\n"
     ]
    }
   ],
   "source": [
    "# we have our json data now, let's go ahead and divide into training and test set\n",
    "n_examples =  len(json_data)\n",
    "# how much of the data we're going to be using for training and for testing\n",
    "# default values: 80% train, 20% test\n",
    "TRAIN_DATA_LENGTH = 8 * n_examples // 10\n",
    "TEST_DATA_LENGTH = n_examples - TRAIN_DATA_LENGTH\n",
    "ABSTRACT_FIELD_NAME = 'abstract'\n",
    "TITLE_FIELD_NAME = 'title'\n",
    "\n",
    "print(\"Total examples: {0}, number of train examples: {1}, number of test examples: {2}\".format(n_examples,TRAIN_DATA_LENGTH, TEST_DATA_LENGTH))\n",
    "\n",
    "# TODO: Randomize selection of examples, don't just take the first ones\n",
    "# build training corpus: take the needed abstract, preprocess them (tokenize, delete spaces..)\n",
    "# and create the TaggedDocument needed for training\n",
    "# also added title to it \n",
    "train_corpus = [gensim.models.doc2vec.TaggedDocument(gensim.utils.simple_preprocess(\n",
    "    d[TITLE_FIELD_NAME]+d[ABSTRACT_FIELD_NAME]), [i]) for i, d in enumerate(json_data) if i<TRAIN_DATA_LENGTH]\n",
    "assert len(train_corpus)==TRAIN_DATA_LENGTH\n",
    "print(train_corpus[:1])"
   ]
  },
  {
   "cell_type": "code",
   "execution_count": 13,
   "metadata": {},
   "outputs": [
    {
     "name": "stdout",
     "output_type": "stream",
     "text": [
      "iteration 0\n",
      "iteration 50\n",
      "iteration 100\n",
      "iteration 150\n",
      "iteration 200\n",
      "iteration 250\n",
      "Model Saved\n"
     ]
    }
   ],
   "source": [
    "# create the doc2vec model\n",
    "# TODO: tune this parameters (personally, I think we could use a bigger vec_size, like 50)\n",
    "max_epochs = 300\n",
    "vec_size = 35\n",
    "alpha = 0.030\n",
    "MODEL_NAME = \"d2v_trend_analisys_model.model\"\n",
    "\n",
    "model = Doc2Vec(vector_size=vec_size,\n",
    "                alpha=alpha,\n",
    "                min_alpha=0.00030,\n",
    "                min_count=2, # words that appear less than twice in the corpus are ignored\n",
    "                dm=0) #dm=0 means \"distributed bag of words\"\n",
    "# build our vocabulary of words (all the unique words encountered inside our corpus, needed for training)\n",
    "model.build_vocab(train_corpus)\n",
    "\n",
    "# train the model on the given data!\n",
    "for epoch in range(max_epochs):\n",
    "    if(epoch%50==0):\n",
    "        print('iteration {0}'.format(epoch))\n",
    "    model.train(train_corpus,\n",
    "                total_examples = model.corpus_count,\n",
    "                epochs = model.epochs)\n",
    "    # decrease the learning rate\n",
    "    model.alpha -= 0.0002\n",
    "    # fix the learning rate, no decay\n",
    "    model.min_alpha = model.alpha\n",
    "\n",
    "model.save(MODEL_NAME)\n",
    "print(\"Model Saved\")\n"
   ]
  },
  {
   "cell_type": "markdown",
   "metadata": {},
   "source": [
    "## Visualizing Data\n",
    "credits: https://towardsdatascience.com/pca-using-python-scikit-learn-e653f8989e60"
   ]
  },
  {
   "cell_type": "code",
   "execution_count": 5,
   "metadata": {},
   "outputs": [
    {
     "data": {
      "text/html": [
       "<div>\n",
       "<style scoped>\n",
       "    .dataframe tbody tr th:only-of-type {\n",
       "        vertical-align: middle;\n",
       "    }\n",
       "\n",
       "    .dataframe tbody tr th {\n",
       "        vertical-align: top;\n",
       "    }\n",
       "\n",
       "    .dataframe thead th {\n",
       "        text-align: right;\n",
       "    }\n",
       "</style>\n",
       "<table border=\"1\" class=\"dataframe\">\n",
       "  <thead>\n",
       "    <tr style=\"text-align: right;\">\n",
       "      <th></th>\n",
       "      <th>0</th>\n",
       "      <th>1</th>\n",
       "      <th>2</th>\n",
       "      <th>3</th>\n",
       "      <th>4</th>\n",
       "      <th>5</th>\n",
       "      <th>6</th>\n",
       "      <th>7</th>\n",
       "      <th>8</th>\n",
       "      <th>9</th>\n",
       "      <th>...</th>\n",
       "      <th>25</th>\n",
       "      <th>26</th>\n",
       "      <th>27</th>\n",
       "      <th>28</th>\n",
       "      <th>29</th>\n",
       "      <th>30</th>\n",
       "      <th>31</th>\n",
       "      <th>32</th>\n",
       "      <th>33</th>\n",
       "      <th>34</th>\n",
       "    </tr>\n",
       "  </thead>\n",
       "  <tbody>\n",
       "    <tr>\n",
       "      <th>0</th>\n",
       "      <td>-0.861556</td>\n",
       "      <td>-1.628193</td>\n",
       "      <td>-0.056132</td>\n",
       "      <td>-1.024588</td>\n",
       "      <td>0.357962</td>\n",
       "      <td>0.718729</td>\n",
       "      <td>-0.036832</td>\n",
       "      <td>0.764408</td>\n",
       "      <td>-2.542827</td>\n",
       "      <td>-2.128357</td>\n",
       "      <td>...</td>\n",
       "      <td>-1.337761</td>\n",
       "      <td>-1.532483</td>\n",
       "      <td>0.374647</td>\n",
       "      <td>1.131371</td>\n",
       "      <td>1.267274</td>\n",
       "      <td>-1.681765</td>\n",
       "      <td>-1.873233</td>\n",
       "      <td>0.031577</td>\n",
       "      <td>-0.277665</td>\n",
       "      <td>-0.125210</td>\n",
       "    </tr>\n",
       "    <tr>\n",
       "      <th>1</th>\n",
       "      <td>-0.583904</td>\n",
       "      <td>-0.439146</td>\n",
       "      <td>-0.301246</td>\n",
       "      <td>-0.633449</td>\n",
       "      <td>0.647116</td>\n",
       "      <td>1.412715</td>\n",
       "      <td>1.036074</td>\n",
       "      <td>-0.844514</td>\n",
       "      <td>-1.606935</td>\n",
       "      <td>-1.340394</td>\n",
       "      <td>...</td>\n",
       "      <td>-1.469818</td>\n",
       "      <td>-1.042243</td>\n",
       "      <td>1.945224</td>\n",
       "      <td>0.391863</td>\n",
       "      <td>-0.075883</td>\n",
       "      <td>-0.815570</td>\n",
       "      <td>-0.759639</td>\n",
       "      <td>-0.227372</td>\n",
       "      <td>0.071464</td>\n",
       "      <td>-0.024855</td>\n",
       "    </tr>\n",
       "    <tr>\n",
       "      <th>2</th>\n",
       "      <td>1.769870</td>\n",
       "      <td>-1.287785</td>\n",
       "      <td>-0.482600</td>\n",
       "      <td>-1.556265</td>\n",
       "      <td>-1.030011</td>\n",
       "      <td>1.025782</td>\n",
       "      <td>0.281656</td>\n",
       "      <td>-1.616180</td>\n",
       "      <td>-2.154497</td>\n",
       "      <td>0.486484</td>\n",
       "      <td>...</td>\n",
       "      <td>-2.248797</td>\n",
       "      <td>-2.106473</td>\n",
       "      <td>0.695436</td>\n",
       "      <td>0.061207</td>\n",
       "      <td>1.897047</td>\n",
       "      <td>-0.500083</td>\n",
       "      <td>-0.974251</td>\n",
       "      <td>-0.697718</td>\n",
       "      <td>-0.858792</td>\n",
       "      <td>-0.976765</td>\n",
       "    </tr>\n",
       "    <tr>\n",
       "      <th>3</th>\n",
       "      <td>0.570723</td>\n",
       "      <td>0.160952</td>\n",
       "      <td>-0.870127</td>\n",
       "      <td>-0.913012</td>\n",
       "      <td>-0.357125</td>\n",
       "      <td>1.322831</td>\n",
       "      <td>-1.809529</td>\n",
       "      <td>-0.726074</td>\n",
       "      <td>-0.780526</td>\n",
       "      <td>0.616964</td>\n",
       "      <td>...</td>\n",
       "      <td>-1.106160</td>\n",
       "      <td>-0.531367</td>\n",
       "      <td>-0.029089</td>\n",
       "      <td>0.721904</td>\n",
       "      <td>0.790464</td>\n",
       "      <td>0.174012</td>\n",
       "      <td>-2.073733</td>\n",
       "      <td>-1.115030</td>\n",
       "      <td>-1.207851</td>\n",
       "      <td>-1.773892</td>\n",
       "    </tr>\n",
       "    <tr>\n",
       "      <th>4</th>\n",
       "      <td>-0.248390</td>\n",
       "      <td>-1.307435</td>\n",
       "      <td>1.311688</td>\n",
       "      <td>-1.249254</td>\n",
       "      <td>0.662555</td>\n",
       "      <td>-0.357363</td>\n",
       "      <td>-2.445879</td>\n",
       "      <td>-0.172243</td>\n",
       "      <td>-0.105099</td>\n",
       "      <td>-1.151561</td>\n",
       "      <td>...</td>\n",
       "      <td>-1.641914</td>\n",
       "      <td>-2.465361</td>\n",
       "      <td>2.025520</td>\n",
       "      <td>2.263433</td>\n",
       "      <td>1.333183</td>\n",
       "      <td>-0.944614</td>\n",
       "      <td>-0.995038</td>\n",
       "      <td>-0.025225</td>\n",
       "      <td>0.056484</td>\n",
       "      <td>-0.461567</td>\n",
       "    </tr>\n",
       "  </tbody>\n",
       "</table>\n",
       "<p>5 rows × 35 columns</p>\n",
       "</div>"
      ],
      "text/plain": [
       "         0         1         2         3         4         5         6   \\\n",
       "0 -0.861556 -1.628193 -0.056132 -1.024588  0.357962  0.718729 -0.036832   \n",
       "1 -0.583904 -0.439146 -0.301246 -0.633449  0.647116  1.412715  1.036074   \n",
       "2  1.769870 -1.287785 -0.482600 -1.556265 -1.030011  1.025782  0.281656   \n",
       "3  0.570723  0.160952 -0.870127 -0.913012 -0.357125  1.322831 -1.809529   \n",
       "4 -0.248390 -1.307435  1.311688 -1.249254  0.662555 -0.357363 -2.445879   \n",
       "\n",
       "         7         8         9     ...           25        26        27  \\\n",
       "0  0.764408 -2.542827 -2.128357    ...    -1.337761 -1.532483  0.374647   \n",
       "1 -0.844514 -1.606935 -1.340394    ...    -1.469818 -1.042243  1.945224   \n",
       "2 -1.616180 -2.154497  0.486484    ...    -2.248797 -2.106473  0.695436   \n",
       "3 -0.726074 -0.780526  0.616964    ...    -1.106160 -0.531367 -0.029089   \n",
       "4 -0.172243 -0.105099 -1.151561    ...    -1.641914 -2.465361  2.025520   \n",
       "\n",
       "         28        29        30        31        32        33        34  \n",
       "0  1.131371  1.267274 -1.681765 -1.873233  0.031577 -0.277665 -0.125210  \n",
       "1  0.391863 -0.075883 -0.815570 -0.759639 -0.227372  0.071464 -0.024855  \n",
       "2  0.061207  1.897047 -0.500083 -0.974251 -0.697718 -0.858792 -0.976765  \n",
       "3  0.721904  0.790464  0.174012 -2.073733 -1.115030 -1.207851 -1.773892  \n",
       "4  2.263433  1.333183 -0.944614 -0.995038 -0.025225  0.056484 -0.461567  \n",
       "\n",
       "[5 rows x 35 columns]"
      ]
     },
     "execution_count": 5,
     "metadata": {},
     "output_type": "execute_result"
    }
   ],
   "source": [
    "# let's try to visualize all document_vectors\n",
    "# get all vectors of documents we created from model training\n",
    "docs_vecs = []\n",
    "# docvecs (list of Doc2VecKeyedVectors) \n",
    "# – Vector representations of the documents in the corpus. Each vector has size == vector_size\n",
    "for doc in iter(range(0, len(model.docvecs))):\n",
    "    docs_vecs.append(model.docvecs[doc])\n",
    "\n",
    "# loading dataset into Pandas DataFrame\n",
    "df = pd.DataFrame.from_records(docs_vecs)\n",
    "df.head()\n",
    "\n",
    "#df[['target']]"
   ]
  },
  {
   "cell_type": "code",
   "execution_count": 6,
   "metadata": {},
   "outputs": [
    {
     "name": "stdout",
     "output_type": "stream",
     "text": [
      "[[-0.86155611 -1.62819326 -0.05613249 ...  0.03157735 -0.27766466\n",
      "  -0.12520985]\n",
      " [-0.58390427 -0.43914604 -0.30124617 ... -0.22737227  0.07146389\n",
      "  -0.02485512]\n",
      " [ 1.76987004 -1.28778481 -0.48259965 ... -0.69771802 -0.85879189\n",
      "  -0.97676504]\n",
      " ...\n",
      " [-0.10994838 -1.557356    1.55069745 ...  2.56737471 -0.23239875\n",
      "  -1.02964425]\n",
      " [-0.35538289 -1.40610564 -0.32621139 ... -1.23214805 -0.04188415\n",
      "   0.60780388]\n",
      " [ 1.96953273 -0.83482248  0.57988471 ... -0.77286512 -0.79329085\n",
      "  -0.80432665]]\n"
     ]
    }
   ],
   "source": [
    "# PCA is effected by scale so you need to scale the features in your data before applying PCA. \n",
    "features = [i for i in range(vec_size)]\n",
    "\n",
    "x = df.loc[:, features].values # get features values\n",
    "print(x)\n",
    "# we don't have target here y = df.loc[:,['target']].values # get target values (guess kind of flower/Iris)\n",
    "\n",
    "# standardize data\n",
    "x = StandardScaler().fit_transform(x) # scale data (especially in case different measures are used)\n",
    "# pd.DataFrame(data = x, columns = features).head() # show first data\n"
   ]
  },
  {
   "cell_type": "markdown",
   "metadata": {},
   "source": [
    "## 2D Projection with PCA"
   ]
  },
  {
   "cell_type": "code",
   "execution_count": 14,
   "metadata": {},
   "outputs": [
    {
     "data": {
      "text/html": [
       "<div>\n",
       "<style scoped>\n",
       "    .dataframe tbody tr th:only-of-type {\n",
       "        vertical-align: middle;\n",
       "    }\n",
       "\n",
       "    .dataframe tbody tr th {\n",
       "        vertical-align: top;\n",
       "    }\n",
       "\n",
       "    .dataframe thead th {\n",
       "        text-align: right;\n",
       "    }\n",
       "</style>\n",
       "<table border=\"1\" class=\"dataframe\">\n",
       "  <thead>\n",
       "    <tr style=\"text-align: right;\">\n",
       "      <th></th>\n",
       "      <th>principal component 1</th>\n",
       "      <th>principal component 2</th>\n",
       "    </tr>\n",
       "  </thead>\n",
       "  <tbody>\n",
       "    <tr>\n",
       "      <th>0</th>\n",
       "      <td>0.771126</td>\n",
       "      <td>0.550577</td>\n",
       "    </tr>\n",
       "    <tr>\n",
       "      <th>1</th>\n",
       "      <td>0.457829</td>\n",
       "      <td>0.999596</td>\n",
       "    </tr>\n",
       "    <tr>\n",
       "      <th>2</th>\n",
       "      <td>0.200955</td>\n",
       "      <td>0.126312</td>\n",
       "    </tr>\n",
       "    <tr>\n",
       "      <th>3</th>\n",
       "      <td>0.772039</td>\n",
       "      <td>-0.291192</td>\n",
       "    </tr>\n",
       "    <tr>\n",
       "      <th>4</th>\n",
       "      <td>-0.253358</td>\n",
       "      <td>-0.227763</td>\n",
       "    </tr>\n",
       "  </tbody>\n",
       "</table>\n",
       "</div>"
      ],
      "text/plain": [
       "   principal component 1  principal component 2\n",
       "0               0.771126               0.550577\n",
       "1               0.457829               0.999596\n",
       "2               0.200955               0.126312\n",
       "3               0.772039              -0.291192\n",
       "4              -0.253358              -0.227763"
      ]
     },
     "execution_count": 14,
     "metadata": {},
     "output_type": "execute_result"
    }
   ],
   "source": [
    "# build PCA model in 2D\n",
    "pca = PCA(n_components=2) # The new components are just the two main dimensions of variation.\n",
    "\n",
    "principalComponents = pca.fit_transform(x)\n",
    "\n",
    "principalDf = pd.DataFrame(data = principalComponents\n",
    "             , columns = ['principal component 1', 'principal component 2'])\n",
    "principalDf.head()\n",
    "# these components drawn don't hold a lot of information 'per-se', they're just the result \n",
    "# of dimension-reduction"
   ]
  },
  {
   "cell_type": "code",
   "execution_count": 15,
   "metadata": {},
   "outputs": [
    {
     "name": "stdout",
     "output_type": "stream",
     "text": [
      "Number of points shown  234\n"
     ]
    },
    {
     "data": {
      "image/png": "[encoded data removed]",
      "text/plain": [
       "<Figure size 576x576 with 1 Axes>"
      ]
     },
     "metadata": {},
     "output_type": "display_data"
    }
   ],
   "source": [
    "# we can now visualize the data by plotting them\n",
    "\n",
    "# finalDf is the final DataFrame before plotting the data (nothing great, just taking result of PCA and attaching target to it)\n",
    "#finalDf = pd.concat([principalDf, df[['target']]], axis = 1)\n",
    "\n",
    "finalDf = principalDf # we don't have targets to show\n",
    "\n",
    "fig = plt.figure(figsize = (8,8))\n",
    "ax = fig.add_subplot(1,1,1) \n",
    "ax.set_xlabel('Principal Component 1', fontsize = 15)\n",
    "ax.set_ylabel('Principal Component 2', fontsize = 15)\n",
    "ax.set_title('2 Component PCA', fontsize = 20)\n",
    "\n",
    "ax.scatter(finalDf.loc[:, 'principal component 1']\n",
    "          , finalDf.loc[:,'principal component 2']\n",
    "          , c = 'r'\n",
    "          , s = 50)\n",
    "\n",
    "#targets = ['Iris-setosa', 'Iris-versicolor', 'Iris-virginica']\n",
    "#colors = ['r', 'g', 'b']\n",
    "#for target, color in zip(targets, colors):\n",
    "#    indicesToKeep = finalDf['target'] == target\n",
    "#    ax.scatter(finalDf.loc[indicesToKeep, 'principal component 1']\n",
    "#               , finalDf.loc[indicesToKeep, 'principal component 2']\n",
    "#               , c = color\n",
    "#               , s = 50)\n",
    "#ax.legend(targets)\n",
    "ax.grid()\n",
    "print(\"Number of points shown \", len(finalDf))\n",
    "\n"
   ]
  },
  {
   "cell_type": "markdown",
   "metadata": {},
   "source": [
    "## Visualizing Data interactively with Plotly"
   ]
  },
  {
   "cell_type": "code",
   "execution_count": 9,
   "metadata": {},
   "outputs": [],
   "source": [
    "import plotly.plotly as py\n",
    "import plotly.figure_factory as ff\n",
    "import plotly.tools as tls\n",
    "import plotly.graph_objs as go\n",
    "\n",
    "tls.set_credentials_file(username='D4nt3', api_key='FdMB4O6qCfciGDOnLvdQ')"
   ]
  },
  {
   "cell_type": "code",
   "execution_count": 22,
   "metadata": {},
   "outputs": [
    {
     "name": "stdout",
     "output_type": "stream",
     "text": [
      "TITLE: Samsung lancia il suo primo smartphone con tre fotocamere - La Stampa\n",
      " <<(['samsung', 'lancia', 'il', 'suo', 'primo', 'smartphone', 'con', 'tre', 'fotocamere', 'la', 'stampail', 'mese', 'prossimo', 'samsung', 'lancerà', 'sul', 'mercato', 'il', 'galaxy', 'primo', 'smartphone', 'della', 'casa', 'coreana', 'essere', 'dotato', 'di', 'tre', 'fotocamere', 'posteriori', 'immagine', 'prodotta', 'dal', 'lavoro', 'simultaneo', 'dei', 'sensori', 'consentirà', 'di', 'ricreare', 'effetto', 'bokeh', 'nel', 'quale', 'possibile', 'mettere', 'fuoco', 'un', 'oggetto', 'sfocando', 'sensibilmente', 'ciò', 'che', 'gli', 'sta', 'dietro', 'davanti', 'non', 'un', 'cinquanta', 'millimetri', 'obbiettivo', 'molto', 'apprezzato', 'in', 'fotografia', 'proprio', 'perché', 'consente', 'di', 'sfocare', 'selettivamente', 'un', 'livello', 'dell', 'immagine', 'ma', 'ci', 'prova', 'il', 'galaxy', 'sarà', 'dotato', 'di', 'una', 'lente', 'da', 'megapixel', 'grandangolare', 'una', 'da', 'megapixel', 'ultima', 'dedicata', 'alla', 'creazione', 'dell', 'effetto', 'profondità', 'soluzione', 'di', 'alto', 'livello', 'per', 'un', 'telefono', 'destinato', 'alla', 'fascia', 'media', 'del', 'mercato', 'costerà', 'euro', 'il', 'prodotto', 'completato', 'da', 'una', 'fotocamera', 'frontale', 'da', 'megapixel', 'con', 'flash', 'led', 'regolabile', 'samsung', 'impegnata', 'offrire', 'innovazioni', 'significative', 'tutti', 'gli', 'utenti', 'della', 'famiglia', 'galaxy', 'da', 'chi', 'siano', 'dove', 'si', 'trovino', 'nel', 'mondo', 'ha', 'dichiarato', 'il', 'presidente', 'amministratore', 'delegato', 'della', 'divisione', 'it', 'amp', 'mobile', 'communications', 'di', 'samsung', 'electronics', 'dj', 'koh', 'ecco', 'perché', 'siamo', 'entusiasti', 'di', 'aggiungere', 'diverse', 'funzionalità', 'innovative', 'per', 'la', 'serie', 'nel', 'nuovo', 'galaxy', 'uno', 'smartphone', 'pratico', 'ma', 'potente', 'che', 'stato', 'creato', 'per', 'vivere', 'le', 'esperienze', 'di', 'ogni', 'giorno', 'in', 'maniera', 'comoda', 'allo', 'stesso', 'tempo', 'straordinaria', 'leggi', 'anche', 'altro', 'che', 'tripla', 'fotocamera', 'in', 'arrivo', 'uno', 'smartphone', 'con', 'nove', 'sensori', 'longhitano', 'lanciare', 'gli', 'smartphone', 'tre', 'lenti', 'era', 'stata', 'per', 'prima', 'huawei', 'con', 'il', 'suo', 'pro', 'ad', 'aprile', 'di', 'quest', 'anno', 'trascinando', 'il', 'mercato', 'sulle', 'più', 'spericolate', 'sperimentazioni', 'multicamera', 'anche', 'se', 'uno', 'degli', 'esperimenti', 'più', 'interessanti', 'di', 'cui', 'oggi', 'si', 'conosce', 'solo', 'un', 'prototipo', 'potrebbe', 'essere', 'quello', 'prodotto', 'dalla', 'startup', 'americana', 'light', 'che', 'potrebbe', 'essere', 'lanciato', 'entro', 'anno', 'che', 'conterà', 'ben', 'nove', 'fotocamere'],)>>\n"
     ]
    },
    {
     "data": {
      "text/html": [
       "<iframe id=\"igraph\" scrolling=\"no\" style=\"border:none;\" seamless=\"seamless\" src=\"https://plot.ly/~D4nt3/6.embed\" height=\"525px\" width=\"100%\"></iframe>"
      ],
      "text/plain": [
       "<plotly.tools.PlotlyDisplay object>"
      ]
     },
     "execution_count": 22,
     "metadata": {},
     "output_type": "execute_result"
    }
   ],
   "source": [
    "# we'll draw a scatter graph with labels\n",
    "traces = []\n",
    "# let's get the labels\n",
    "titles = [dictionary[TITLE_FIELD_NAME] for i, dictionary in enumerate(json_data) if i<TRAIN_DATA_LENGTH]\n",
    "# double check to be sure we got labels just right\n",
    "#i = 50\n",
    "#print(\"TITLE: {0}\\n <<{1}>>\".format(titles[i], train_corpus[i][:1]))\n",
    "\n",
    "\n",
    "for i in range(len(finalDf)):\n",
    "    trace0 = go.Scatter(\n",
    "        x = finalDf.loc[i:i, \"principal component 1\"],\n",
    "        y = finalDf.loc[i:i, \"principal component 2\"],\n",
    "        mode = 'markers',\n",
    "        #name = 'blue markers',\n",
    "        marker = dict(\n",
    "            size = 7,\n",
    "            color = 'rgba(0, 0, 110, .8)',\n",
    "        ),\n",
    "        text = str(titles[i])\n",
    "    )\n",
    "    traces.append(trace0)\n",
    "\n",
    "data = traces \n",
    "layout = dict(title = 'PCA Representantion of DocVectors',\n",
    "        hovermode= 'closest',\n",
    "        xaxis= dict(\n",
    "            title= 'first component',\n",
    "            ticklen= 5,\n",
    "            gridwidth= 2,\n",
    "        ),\n",
    "        yaxis=dict(\n",
    "            title= 'second component',\n",
    "            ticklen= 5,\n",
    "            gridwidth= 2,\n",
    "        ),\n",
    "        showlegend = False\n",
    "    )\n",
    "# Plot and embed in ipython notebook!\n",
    "fig = dict(data = data, layout = layout)\n",
    "py.iplot(fig, filename='TA_model-scatter')"
   ]
  },
  {
   "cell_type": "code",
   "execution_count": null,
   "metadata": {},
   "outputs": [],
   "source": []
  }
 ],
 "metadata": {
  "kernelspec": {
   "display_name": "Python 3",
   "language": "python",
   "name": "python3"
  },
  "language_info": {
   "codemirror_mode": {
    "name": "ipython",
    "version": 3
   },
   "file_extension": ".py",
   "mimetype": "text/x-python",
   "name": "python",
   "nbconvert_exporter": "python",
   "pygments_lexer": "ipython3",
   "version": "3.6.5"
  }
 },
 "nbformat": 4,
 "nbformat_minor": 2
}

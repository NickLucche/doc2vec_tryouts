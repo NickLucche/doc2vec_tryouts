{
 "cells": [
  {
   "cell_type": "code",
   "execution_count": 3,
   "metadata": {},
   "outputs": [],
   "source": [
    "# gensim’s word2vec expects a sequence of sentences as its input. Each sentence is a list of words\n",
    "from gensim.models.word2vec import Word2Vec\n",
    "import logging\n",
    "\n",
    "logging.basicConfig(format='%(asctime)s : %(levelname)s : %(message)s', level=logging.INFO)\n",
    "\n"
   ]
  },
  {
   "cell_type": "code",
   "execution_count": 8,
   "metadata": {},
   "outputs": [
    {
     "name": "stdout",
     "output_type": "stream",
     "text": [
      "Word2Vec(vocab=3, size=100, alpha=0.025)\n",
      "{'first': <gensim.models.keyedvectors.Vocab object at 0x7f752494ce10>, 'sentence': <gensim.models.keyedvectors.Vocab object at 0x7f752494ce48>, 'second': <gensim.models.keyedvectors.Vocab object at 0x7f752494ce80>}\n"
     ]
    }
   ],
   "source": [
    "sentences = [[\"first\", \"sentence\"], \n",
    "             [\"second\", \"sentence\"]] # list of lists\n",
    "# train word2vec model on the two sentences\n",
    "# create obj first\n",
    "word2vec_model = Word2Vec(sentences, min_count=1)\n",
    "# Keeping the input as a Python built-in list is convenient,\n",
    "# but can use up a lot of RAM when the input is large.\n",
    "# Gensim only requires that the input must provide sentences sequentially,\n",
    "# when iterated over\n",
    "# solution: provide one sentence, process it,\n",
    "# forget it, load another sentence…\n",
    "print(word2vec_model)\n",
    "print(word2vec_model.wv.vocab)"
   ]
  },
  {
   "cell_type": "code",
   "execution_count": null,
   "metadata": {},
   "outputs": [],
   "source": [
    "# Set file names for train and test data\n",
    "test_data_dir = '{0}'.format(os.sep).join([gensim.__path__[0], 'test', 'test_data']) + os.sep\n",
    "lee_train_file = test_data_dir + 'lee_background.cor'"
   ]
  },
  {
   "cell_type": "code",
   "execution_count": 7,
   "metadata": {},
   "outputs": [
    {
     "ename": "SyntaxError",
     "evalue": "invalid syntax (<ipython-input-7-f240a822280c>, line 4)",
     "output_type": "error",
     "traceback": [
      "\u001b[0;36m  File \u001b[0;32m\"<ipython-input-7-f240a822280c>\"\u001b[0;36m, line \u001b[0;32m4\u001b[0m\n\u001b[0;31m    array = np.array([r for i in range(50) r = random.random()])\u001b[0m\n\u001b[0m                                           ^\u001b[0m\n\u001b[0;31mSyntaxError\u001b[0m\u001b[0;31m:\u001b[0m invalid syntax\n"
     ]
    }
   ],
   "source": [
    "import numpy as np\n",
    "import random \n",
    "array = np.array([r for i in range(50) r = random.random()])\n",
    "\n",
    "print(array)"
   ]
  },
  {
   "cell_type": "code",
   "execution_count": null,
   "metadata": {},
   "outputs": [],
   "source": []
  }
 ],
 "metadata": {
  "kernelspec": {
   "display_name": "Python 3",
   "language": "python",
   "name": "python3"
  },
  "language_info": {
   "codemirror_mode": {
    "name": "ipython",
    "version": 3
   },
   "file_extension": ".py",
   "mimetype": "text/x-python",
   "name": "python",
   "nbconvert_exporter": "python",
   "pygments_lexer": "ipython3",
   "version": "3.6.5"
  }
 },
 "nbformat": 4,
 "nbformat_minor": 2
}

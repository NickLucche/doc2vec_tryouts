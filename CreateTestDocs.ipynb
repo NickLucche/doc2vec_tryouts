{
 "cells": [
  {
   "cell_type": "markdown",
   "metadata": {},
   "source": [
    "# Create 3 test-corpus\n",
    "They will represent 3 different 'kinds of trend analysis': \n",
    "    first one will be a set of similar documents (by similar I mean documents sharing a main topic)\n",
    "    second one will be a set containing 2/3 clearly defined groups of documents \n",
    "    (to check whether or not a model picks up the differences and clusters them correctly)\n",
    "    third one will be a set of random documents."
   ]
  },
  {
   "cell_type": "code",
   "execution_count": 1,
   "metadata": {},
   "outputs": [
    {
     "name": "stdout",
     "output_type": "stream",
     "text": [
      "Number of documents:  96\n",
      "Number of documents:  604\n",
      "Number of documents:  897\n",
      "Number of documents:  2274\n"
     ]
    }
   ],
   "source": [
    "# load the json files we have at our disposal\n",
    "import json\n",
    "import random \n",
    "\n",
    "filenames = ['blockchain.json', 'industria_4.0.json', 'trend_analisys.json', 'dump_solr.json']\n",
    "\n",
    "docs = []\n",
    "for i, filename in enumerate(filenames):\n",
    "    with open(filename, 'r') as outfile:\n",
    "        json_data = json.load(outfile)\n",
    "        \n",
    "    if i==2:\n",
    "        # trend_analisys has a different format\n",
    "        docs = docs + json_data\n",
    "    else: \n",
    "        ## let's now retrieve the meaningful part of the json document\n",
    "        # response{}--->docs[] \n",
    "        docs = docs + json_data['response']['docs']\n",
    "   \n",
    "    print(\"Number of documents: \",len(docs))\n",
    "        "
   ]
  },
  {
   "cell_type": "markdown",
   "metadata": {},
   "source": [
    "## Clean Dataset\n",
    "Remove duplicates and such"
   ]
  },
  {
   "cell_type": "code",
   "execution_count": 2,
   "metadata": {
    "scrolled": true
   },
   "outputs": [
    {
     "name": "stdout",
     "output_type": "stream",
     "text": [
      "New length after removing docs:  2082\n",
      "Number of duplicates:  86 \n",
      "New lenght: 1946\n"
     ]
    }
   ],
   "source": [
    "## many documents have a failed abstract, let's remove them\n",
    "to_check = ' Questo sito web utilizza cookie tecnici e, previo Suo consenso, cookie di profilazione,'\n",
    "docs = [doc for i, doc in enumerate(docs) if not(to_check.strip() in doc['abstract'][0].strip())]\n",
    "\n",
    "print(\"New length after removing docs: \", len(docs))\n",
    "# remove duplicates\n",
    "\n",
    "index_to_remove = []\n",
    "duplicates = 0\n",
    "for i, doc in enumerate(docs):\n",
    "    try:\n",
    "        index = docs.index(doc, i+1, len(docs)-1)\n",
    "        index_to_remove.append(index)\n",
    "        duplicates = duplicates + 1\n",
    "    except:\n",
    "        None\n",
    "docs = [doc for i, doc in enumerate(docs) if not(i in index_to_remove) ]\n",
    "\n",
    "docs = [doc for doc in docs\n",
    "            if not(\"Industry 4.0 (o industria 4.0): cos'è, notizie, normative, casi studio - I4T\" in doc['title'])]\n",
    "\n",
    "print(\"Number of duplicates: \", duplicates, \"\\nNew lenght:\", len(docs))\n",
    "\n",
    "## Adjust data format: title, abstract and url came in as list, but they're more useful as strings\n",
    "for i, dictionary in enumerate(docs):\n",
    "    for field in ['title', 'abstract', 'url']:\n",
    "        if isinstance(dictionary[field], list):\n",
    "            # re-format data to hold string instead of single-list item\n",
    "            docs[i][field] = dictionary[field][0]"
   ]
  },
  {
   "cell_type": "markdown",
   "metadata": {},
   "source": [
    "## Document sets of type 1"
   ]
  },
  {
   "cell_type": "code",
   "execution_count": 36,
   "metadata": {
    "scrolled": false
   },
   "outputs": [
    {
     "name": "stdout",
     "output_type": "stream",
     "text": [
      "['Arriva il primo \"Smartphone\" Blockchain - Blockchain 4innovation', 'Abbanoa punta sulla blockchain per certificare la lettura dei contatori - Blockchain 4innovation', 'Sarà la blockchain a \"salvare\" le privatizzazioni? - Blockchain 4innovation', 'Blockchain & Bitcoin: una guida per capire e per orientarsi dedicata ai lettori di MilanoFinanza - Blockchain 4innovation', 'PA 4.0 e blockchain - Blockchain 4innovation', 'SpidChain, identità digitale 4.0 per PA e aziende - Blockchain 4innovation']\n",
      "59\n",
      "['Facebook, ex moderatrice denuncia: “Filtriamo contenuti scioccanti, siamo traumatizzati\" - Repubblica.it', 'Facebook: ex moderatrice fa causa, traumatizzata da immagini - Hi-tech - ANSA.it', 'Facebook Cambridge Analytica, coinvolti 214 mila italiani - Corriere.it', 'Social e bambini: YouTube assume nuovi moderatori e Facebook lancia Messenger Kids - Corriere.it', 'Facebook Dating: ecco come funziona l’anti-Tinder di Zuckerberg - Corriere.it', 'Facebook contro le armi stampate in 3D']\n",
      "['Innovazione 4.0, competence center e digital innovation hub', 'Industry 4.0, che succede ai Competence center: ci sarà un bando', 'Apre al Politecnico di Torino un nuovo centro di compentenza sull’Industria 4.0', 'Cosa si intende per Factory Cybersecurity, elemento vitale per un’Industria 4.0 - Industry4Business', 'Come misurare (subito) la maturità digitale 4.0 della tua impresa - Industry4Business', \"Oracle e Bosch Rexroth: Dati, Cloud ed ecosistema punti focali dell'Industria 4.0 - Industry4Business\", 'Lutech compra Cdm: più forte la proposta al mercato Industry 4.0 - CorCom', 'Industria 4.0, Italia e Germania insieme per la leadership europea - CorCom', 'Industria tecnologica driver di crescita: in Italia vale 48 miliardi. Sprint da Industria 4.0 - CorCom', 'Industria 4.0 mette il turbo al mercato dei robot - CorCom'] 94\n"
     ]
    }
   ],
   "source": [
    "path = 'TestDocs/similar_documents_' # add json afterwards\n",
    "\n",
    "def save(name, file):\n",
    "    with open(path + name + '.json', 'w') as out:\n",
    "        json.dump(file, out)\n",
    "\n",
    "blockchain_docs = docs[:60]\n",
    "print([doc['title'] for doc in blockchain_docs[:60:10]]) # start through not past end, by step\n",
    "\n",
    "save('blockchain', blockchain_docs)\n",
    "\n",
    "facebook_docs = [doc for doc in docs if 'facebook'in doc['title'].lower()]\n",
    "print(len(facebook_docs))\n",
    "print([doc['title'] for doc in facebook_docs[: :10]]) # start through not past end, by step\n",
    "save('facebook', facebook_docs)\n",
    "\n",
    "industry_docs = [doc for doc in docs[100:300] if '4.0' in doc['title']]\n",
    "print([doc['title'] for doc in industry_docs[: :10]], len(industry_docs)) # start through not past end, by step\n",
    "save('industry4.0', industry_docs)\n"
   ]
  },
  {
   "cell_type": "markdown",
   "metadata": {},
   "source": [
    "## Document sets of type 2 (2 clearly different arguments)\n"
   ]
  },
  {
   "cell_type": "code",
   "execution_count": 50,
   "metadata": {},
   "outputs": [
    {
     "name": "stdout",
     "output_type": "stream",
     "text": [
      "['Facebook, ex moderatrice denuncia: “Filtriamo contenuti scioccanti, siamo traumatizzati\" - Repubblica.it', 'Facebook: ex moderatrice fa causa, traumatizzata da immagini - Hi-tech - ANSA.it', 'Facebook Cambridge Analytica, coinvolti 214 mila italiani - Corriere.it', 'Social e bambini: YouTube assume nuovi moderatori e Facebook lancia Messenger Kids - Corriere.it', 'Facebook Dating: ecco come funziona l’anti-Tinder di Zuckerberg - Corriere.it', 'IoT e Smart Manufacturing trovano spazio alla BI-MU', 'Ufo, Alieni, extraterrestri, Marte, Nasa, Tetricus, Pianeta rosso', 'La più grande luna di Saturno sotto una tempesta di polvere - Spazio & Astronomia - ANSA.it', 'Sapevi che queste tecnologie di tutti i giorni esistono grazie alla Nasa? - Wired'] 86\n"
     ]
    }
   ],
   "source": [
    "path = 'TestDocs/2_different_' # add json afterwards\n",
    "\n",
    "def save(name, file):\n",
    "    with open(path + name + '.json', 'w') as out:\n",
    "        json.dump(file, out)\n",
    "\n",
    "# facebook + space-related\n",
    "diff_docs = []\n",
    "diff_docs += facebook_docs[:50]\n",
    "diff_docs += [doc for doc in docs for word in ['marte', 'nasa', 'astronomia', 'pianeta', 'giove', 'spazio']\n",
    "              if word in doc['title'].lower() and \n",
    "              not('facebook' in doc['abstract'].lower())]\n",
    "print([doc['title'] for doc in diff_docs[: :10]], len(diff_docs))\n",
    "\n",
    "# shuffle it first\n",
    "random.shuffle(diff_docs)\n",
    "save('fb-spazio', diff_docs)\n",
    "\n"
   ]
  },
  {
   "cell_type": "code",
   "execution_count": 51,
   "metadata": {},
   "outputs": [
    {
     "name": "stdout",
     "output_type": "stream",
     "text": [
      "['Microsoft avanti tutta sull’Iot: investimenti per 5 miliardi di dollari - CorCom', 'Microsoft, ecco Surface 6 Pro e Surface Laptop 2', 'Microsoft porta Windows 10 nei robot', 'Microsoft: novità, aggiornamenti, innovazioni'] 32\n"
     ]
    }
   ],
   "source": [
    "# blockchain + microsoft\n",
    "blockchain = [doc for doc in docs if 'blockchain' in doc['title']]\n",
    "\n",
    "microsoft = [doc for doc in docs if 'microsoft' in doc['title'].lower() and \n",
    "             not('blockchain' in doc['abstract'].lower())]\n",
    "print([doc['title'] for doc in microsoft[: :10]], len(microsoft))\n",
    "save('blockchain-microsoft', random.shuffle(microsoft+blockchain))"
   ]
  },
  {
   "cell_type": "code",
   "execution_count": 54,
   "metadata": {},
   "outputs": [
    {
     "name": "stdout",
     "output_type": "stream",
     "text": [
      "['Fake news con finti articoli di Repubblica: non credeteci e denunciate - Repubblica.it', 'Hyperloop TT, presentata la prima capsula del treno a levitazione magnetica - Corriere.it', \"PC desktop, meno di 100 milioni all'anno\", 'Canon: novità, recensioni e prezzi', 'Tutto quello che devi sapere sui taser in Italia - Wired', '«Ricordati che devi morire», un’app ce lo dice 5 volte al giorno - Corriere.it', \"LG c'è uno smartwatch al fianco del V40\"] 70\n"
     ]
    }
   ],
   "source": [
    "## Document sets of type 3 (mixed arguments)\n",
    "path = 'TestDocs/mixed_docs_' # add json afterwards\n",
    "\n",
    "def save(name, file):\n",
    "    with open(path + name + '.json', 'w') as out:\n",
    "        json.dump(file, out)\n",
    "# leave-out blockchain and industria  4.0 this time\n",
    "ddocs = [doc for doc in docs if not('blockchain' in doc['title'].lower() or '4.0' in doc['title'])]\n",
    "random.shuffle(ddocs)\n",
    "mix1 = ddocs[:70]\n",
    "print([doc['title'] for doc in mix1[: :10]], len(mix1))\n",
    "save('mix1', mix1)\n",
    "\n",
    "random.shuffle(ddocs)\n",
    "mix2 = ddocs[:70]\n",
    "save('mix2', mix2)\n",
    "\n",
    "random.shuffle(ddocs)\n",
    "mix3 = ddocs[:70]\n",
    "save('mix3', mix3)"
   ]
  },
  {
   "cell_type": "markdown",
   "metadata": {},
   "source": [
    "# Triple of doc test\n",
    "e.g. (facebook, facebook, space) can the model recognize the similarities and differences?"
   ]
  },
  {
   "cell_type": "code",
   "execution_count": 71,
   "metadata": {},
   "outputs": [
    {
     "name": "stdout",
     "output_type": "stream",
     "text": [
      "[('Facebook, ex moderatrice denuncia: “Filtriamo contenuti scioccanti, siamo traumatizzati\" - Repubblica.it', 'Facebook, i cofondatori di Instagram lasciano la società - Repubblica.it', 'IoT e Smart Manufacturing trovano spazio alla BI-MU'), ('Facebook, i cofondatori di Instagram lasciano la società - Repubblica.it', 'Facebook, terremoto in Instagram: lasciano i due co-fondatori della app dopo scontro con Zuckerberg - Il Sole 24 ORE', 'Ufo, Alieni, Extraterrestri, Marte, Pianeta rosso, Nasa, Tetricus, Barsoom, Edgar Rice Burroughs')]\n",
      "({'fonte_dati': 'trend_analisys', 'id': '1-http://www.repubblica.it/tecnologia/social-network/2018/09/25/news/facebook_un_ex_moderatrice_denuncia_il_social_network_filtriamo_contenuti_scioccanti_siamo_psicologicamente_traumatizzat-207322420/?rss', 'ta_id': 1, 'title': 'Facebook, ex moderatrice denuncia: “Filtriamo contenuti scioccanti, siamo traumatizzati\" - Repubblica.it', 'abstract': 'UNA BUONA parte di contenuti spazzatura pubblicati su Facebook non arriva sui display dei nostri smartphone e sui monitor dei laptop. Anzitutto perché algoritmi e filtri automatizzati del social network effettuano un lavoro preventivo portentoso (ma non privo di errori e passi falsi) per fare fuori tutto ciò che contrasta con i famosi standard della comunità: contenuti che incitano all\\'odio, contenuti violenti e immagini forti, immagini di nudo e di atti sessuali, post che esprimono crudeltà e insensibilità. E ancora: contenuti che incitano al suicidio e all\\'autolesionismo, post pedopornografici, bullismo, molestie e così via. •   Certo non un bel menu quotidiano: basti pensare che nei primi tre mesi del 2018 sono stati eliminati dal social blu ben 21 milioni di contenuti di nudo o pornografici, tre milioni e mezzo di contenuti violenti o pericolosi, due milioni e mezzo di post etichettati come \"hate speech\".   •L\\'ESERCITO DI CONTROLLORI •  Se è vero che una percentuale oscillante fra l\\'86 e il 96% dei primi due tipi di contenuti vengono individuati e rimossi dagli algoritmi, quelli relativi alla violenza rimangono abbondantemente in circolazione. In ogni caso, per qualsiasi analisi di secondo livello - specialmente in tutte le situazioni dubbie provenienti in particolare dalle segnalazioni degli utenti - entra in campo l\\'oscuro esercito dei moderatori in carne e ossa. •   Al momento si tratta di un plotone che oscillerebbe fra le 7.500 e le 10mila persone. Entro l\\'anno diventeranno 20mila operatori. Sono sparsi per il mondo - senza dubbio negli Usa e a Dublino ma diverse inchieste passate ne hanno testimoniato la presenza un po\\' ovunque, dalla Germania fino al Sudest asiatico - e si occupano appunto di valutare, in pochi secondi, ciò che può rimanere sulle nostre bacheche e ciò che va invece rimosso.  Una catena di montaggio (anzi, di smontaggio) digitale che mette a dura prova le persone coinvolte. Tanto da procurare loro dei traumi psicologici e disturbi da stress post-traumatico particolarmente profondi, legati a video e foto raccapriccianti con cui vengono a contatto ogni giorno in quella specie di corsa contro il tempo. Con reazioni paragonabili a quelle dei militari che sono stati in guerra.   •LA DENUNCIA •  Adesso il passaggio che promette un terremoto. Una ex dipendente del gruppo ha infatti appena fatto causa al colosso di Menlo Park proprio per questa ragione. Selena Scola, questo il suo nome, sostiene infatti che Facebook non fornisca una sufficiente e adeguata assistenza psicologica a chi trascorre ore \"valutando\" contenuti violenti, mutilazioni, omicidi, suicidi, stupri, abusi di ogni genere. La causa parla proprio di un \"bombardamento di migliaia di video, immagini e trasmissioni in streaming di violenze pedopornografiche, decapitazioni, bestialità di ogni genere\". Un punto che potrebbe cambiare, e in profondità, il modo in cui la piattaforma \"pattuglia\" i 2,2 miliardi di bacheche attive ogni mese e i post che gli utenti diffondono su di esse. •    \"Facebook sta ignorando il suo dovere di fornire un posto di lavoro sicuro - ha spiegato Korey Nelson, il legale dell\\'ex dipendente, che vorrebbe trasformare la causa individuale in una class action in grado di coinvolgere molti ex dipendenti - al contrario, sta costruendo un sistema di porte girevoli di contractor che vengono irreparabilmente traumatizzati da ciò sono costretti a fare sul lavoro\". A dire il vero, il social aveva spiegato in passato in che modo si occupasse di queste persone: tutte, per esempio, avrebbero accesso a sostegno mentale sul posto di lavoro fornito da professionisti specializzati sia per consulti di gruppo che individuali e riceverebbero i benefit massimi in termini di assistenza sanitaria. Evidentemente questo trattamento non basta oppure non viene sufficientemente promosso fra il personale. •    \"Stiamo esaminando la causa. Riconosciamo che spesso questo lavoro può essere difficile - ha spiegato Bertie Thomson, direttrice delle comunicazioni corporale, alla Reuters - per questo il supporto ai nostri moderatori di contenuti è una cosa che prendiamo incredibilmente sul serio. Lo facciamo assicurandoci che ogni persona che controlla i contenuti che circolano su Facebook possa godere di supporto psicologico orientato al proprio benessere\". •    •IL SISTEMA DEI CONTRACTOR •  L\\'esercito di chi filtra gli orrori che gli utenti pubblicano sul social con gli obiettivi più diversi è composto sia da dipendenti a tempo pieno che da \"contractor\", cioè da lavoratori esterni assoldati quando è necessario e, a quanto pare, sostituiti con una certa frequenza. Stando a quanto aveva scoperto il Guardian alcuni mesi fa, si tratterebbe spesso di operatori non particolarmente qualificati, con una scarsa conoscenza delle lingue in cui sono scritti o filmati i contenuti che si ritrovano a controllare e che spesso ignorano le offerte di assistenza psicologica, che d\\'altronde non è obbligatoria. Lo scorso anno il Wall Street Journal aveva non a caso definito il lavoro dei moderatori sui social come il \"peggiore in ambito tecnologico\". •    Scola, che ha depositato la sua causa alla Corte superiore della California della contea di San Mateo, ha lavorato direttamente negli uffici di Menlo Park e Mountain View, per nove mesi a partire dal giugno del 2017 e fino ai primi mesi di quest\\'anno. Come molti altri, non era sotto contratto con la società di Mark Zuckerberg ma con la Pro Unlimited, un\\'azienda della Florida che fornisce appunto professionalità di vario tipo dove occorrano. \"Da fuori è difficile capire - ha spiegato un moderatore a Motherboard - non siamo solo esposti ai video, dobbiamo esaminarli nel dettaglio, spesso ripetutamente, per individuare specifici aspetti che violino le policy\".', 'url': 'http://www.repubblica.it/tecnologia/social-network/2018/09/25/news/facebook_un_ex_moderatrice_denuncia_il_social_network_filtriamo_contenuti_scioccanti_siamo_psicologicamente_traumatizzat-207322420/?rss', 'website': 'repubblica.it', 'timestamp': 1537878779000, 'flattened_entities': \"abuso_sessuale algoritmo autolesionismo azione_collettiva bombardamento bullismo california categoria_pokémon catena_di_montaggio computer_portatile contea_di_san_mateo decapitazione dublino facebook florida genere_scienze_sociali germania_nazista giornale gruppo_sociale individuo lavoro mark_zuckerberg menlo_park mente mountain_view_contea_di_santa_clara omicidio pornografia principio_di_legalità psicologia rapporto_sessuale rete_sociale reuters scheda_madre schermo selena_film smartphone stati_uniti_d'america streaming sud-est_asiatico suicidio terremoto the_wall_street_journal trauma_psicologico violenza violenza_sessuale violino zoofilia\", 'result_entities': ['Facebook', 'Schermo', 'Smartphone', 'Computer portatile', 'Algoritmo', 'Rete sociale', 'Violenza', 'Rapporto sessuale', 'Suicidio', 'Autolesionismo', 'Bullismo', 'Violenza sessuale', 'Giornale', 'Pornografia', \"Stati Uniti d'America\", 'Dublino', 'Germania nazista', 'Sud-est asiatico', 'Catena di montaggio', 'Trauma psicologico', 'Categoria (Pokémon)', 'Terremoto', 'Menlo Park', 'Selena (film)', 'Psicologia', 'Omicidio', 'Abuso sessuale', 'Genere (scienze sociali)', 'Bombardamento', 'Streaming', 'Decapitazione', 'Zoofilia', 'Principio di legalità', 'Azione collettiva', 'Mente', 'Gruppo sociale', 'Individuo', 'Reuters', 'Lavoro', 'The Wall Street Journal', 'California', 'Contea di San Mateo', 'Mountain View (contea di Santa Clara)', 'Mark Zuckerberg', 'Florida', 'Scheda madre', 'Violino'], 'mentioned_companies': []}, {'fonte_dati': 'trend_analisys', 'id': '1-http://www.repubblica.it/tecnologia/social-network/2018/09/25/news/facebook_i_confondatori_di_instagram_lasciano_la_societa_-207288146/?rss', 'ta_id': 1, 'title': 'Facebook, i cofondatori di Instagram lasciano la società - Repubblica.it', 'abstract': 'Kevin Systrom e Mike Krieger, i co-fondatori di Instagram, lasciano la società che avevano fondato nel 2010 e che nel 2012 era stata acquisita da Facebook per 1 miliardo di dollari: si sono dimessi e prevedono di uscirne nelle prossime settimane. •   Systrom, amministratore delegato di Instagram, e Krieger, il chief technical officer dell\\'app, non avrebbero dato spiegazioni - scrive il New York Times, che ha anticipato la notizia del loro addio - ma per ora si prenderanno una pausa prima di lanciare sul mercato un progetto nuovo. L\\'agenzia Bloomberg parla di uno scontro con il fondatore di Facebook Mark Zuckerberg. •   \"Mike e io siamo grati per gli ultimi otto anni passati in Instagram e gli ultimi sei con il team di Facebook - ha scritto Systrom sul blog, confermando la notizia della loro uscita dalla società - Ora siamo pronti per il nostro prossimo capitolo. Costruire nuove cose richiede fare un passo indietro, capire che cosa ci ispira e incrociarlo con quello di cui il mondo ha bisogno: ed è quello che prevediamo di fare\". •   Mark Zuckerberg, in una dichiarazione, li ha ringraziati e ha augurato loro \"il meglio\", aggiungendo che non vede l\\'ora di scoprire cosa realizzeranno in futuro.  L\\'addio dei fondatori di Instagram arriva nel momento più difficile della storia di Facebook, sotto accusa da quando si è scoperta troppo vulnerabile: sul piano della tutela dei dati degli utenti, della trasparenza, della lotta alle fake news, ai profili falsi e alle interferenze esterne.  La crisi, questa estate, è diventata evidente nei numeri: a luglio la compagnia è crollata in Borsa e la crescita di utenti si è arrestata. Se il gruppo ha tenuto, però, è stato proprio grazie alle app che ha acquisito negli anni come Whatsapp e Instagram: il social di condivisione foto, che ha trasformato tutti in fotografi amatoriali e contava 30 milioni di iscritti al momento dell\\'acquisizione da parte di Facebook, ha superato in sei il miliardo di utenti. •   Non si tratta delle prime dimissioni eccellente: nei mesi scorsi avevano lasciato i fondatori di Whatsapp e il pomo della discordia in quel caso sarebbe stato l\\'uso dei dati degli utenti.', 'url': 'http://www.repubblica.it/tecnologia/social-network/2018/09/25/news/facebook_i_confondatori_di_instagram_lasciano_la_societa_-207288146/?rss', 'website': 'repubblica.it', 'timestamp': 1537869980000, 'flattened_entities': 'amministratore_delegato applicazione_mobile blog bloomberg_azienda chief_technical_officer dollaro_statunitense facebook fotografia instagram kevin_systrom mark_zuckerberg miliardo pomo_della_discordia sotto_accusa_serie_televisiva the_new_york_times whatsapp', 'result_entities': ['Kevin Systrom', 'Instagram', 'Facebook', 'Miliardo', 'Dollaro statunitense', 'Amministratore delegato', 'Chief technical officer', 'Applicazione mobile', 'The New York Times', 'Bloomberg (azienda)', 'Mark Zuckerberg', 'Blog', 'Sotto accusa (serie televisiva)', 'WhatsApp', 'Fotografia', 'Pomo della discordia'], 'mentioned_companies': []}, {'fonte_dati': 'trend_analisys', 'id': 'https://www.internet4things.it/industry-4-0/iot-e-smart-manufacturing-trovano-spazio-alla-bi-mu/', 'ta_id': [152109], 'title': 'IoT e Smart Manufacturing trovano spazio alla BI-MU', 'abstract': 'Internet of Things, Big Data, cyber security, cloud computing, realtà aumentata, additive manufacturing: sono queste le tecnologie cosiddette di frontiera che troveranno nuovo e più ampio spazio in occasione della trentunesima edizione della BI-MU, la Biennale della Macchina Utensile che si svolgerà dal 9 al 13 ottobre prossimi presso gli spazi di Fieramilano Rho.\\nLa manifestazione quest’anno non solo ha ampliato gli spazi espositivi, che dovrebbero ospitare un numero maggiore di aziende rispetto all’edizione del 2016, ma soprattutto si apre quest’anno alle nuove istanze del digital manufacturing e delle tecnologie che ne abilitano la realizzazione. Parimenti, ci sarà spazio anche per la consulenza e per la presenza di nuovi player del settore manifatturiero.\\nCosì, nell’area FabbricaFutura troverà spazio l’IoT, mentre la consulenza avrà casa nell’area denominata Box Consulting. •  Robot industriali e collaboratori si troveranno nell’area Robot Planet, mente del tutto nuova è la presenza di giovani innovatori e nuove imprese, ospitati nell’area BI-MU Startupper, con l’obiettivo di creare una occasione di confronto tra modelli di business in fondo consolidati e nuove visioni.\\nTra le aziende presenti, Cisco, che con Exprivia e Italtel presenterà nuove soluzioni integrate per l’Industria 4.0.', 'url': 'https://www.internet4things.it/industry-4-0/iot-e-smart-manufacturing-trovano-spazio-alla-bi-mu/', 'website': ['internet4things.it'], 'publication_date': ['2018-09-06T10:44:40Z'], 'flattened_entities': 'azienda big_data cisco_systems cloud_computing exprivia fieramilano industria_4.0 internet_delle_cose italtel macchina_utensile modello_di_business realtà_aumentata rho robot_industriale sicurezza_informatica tecnologia', 'result_entities': ['Internet delle cose', 'Big data', 'Sicurezza informatica', 'Cloud computing', 'Realtà aumentata', 'Tecnologia', 'Macchina utensile', 'Fieramilano', 'Rho', 'Robot industriale', 'Modello di business', 'Azienda', 'Cisco Systems', 'Exprivia', 'Italtel', 'Industria 4.0'], '_version_': 1613753117244915712, 'timestamp': '2018-10-08T10:35:00.937Z'})\n"
     ]
    }
   ],
   "source": [
    "\n",
    "space = [doc for doc in docs for word in ['marte', 'nasa', 'astronomia', 'pianeta', 'giove', 'spazio']\n",
    "              if word in doc['title'].lower() and \n",
    "              not('facebook' in doc['abstract'].lower())]\n",
    "\n",
    "doc_triple = [(facebook_docs[i],facebook_docs[i+1], space[i]) for i in range(min(len(facebook_docs), len(space)))]\n",
    "print([(a['title'],b['title'], c['title']) for (a, b, c) in doc_triple[:2] ])\n",
    "\n",
    "apple = [doc for doc in docs for word in ['apple', 'iPhone', 'iPod', 'iPad', 'tim cook', 'steve jobs']\n",
    "              if word in doc['title'].lower() ]\n",
    "len(apple)\n",
    "football = [doc for doc in docs for word in ['calcio', 'champions league', 'juventus']\n",
    "              if word in doc['title'].lower() ]\n",
    "len(football)\n",
    "doc_triple2 = [(apple[i],apple[i+1], football[i]) for i in range(min(len(football), len(apple)))]\n",
    "\n",
    "doc_triple3 = [(space[i],space[i+1], football[i]) for i in range(min(len(football), len(space)))]\n",
    "\n",
    "doc_triple4 = [(apple[i],apple[i+1], space[i]) for i in range(min(len(apple), len(space)))]\n",
    "\n",
    "\n",
    "doc_triple += doc_triple2 + doc_triple3 + doc_triple4\n",
    "len(doc_triple)\n",
    "print(doc_triple[0])\n",
    "\n",
    "random.shuffle(doc_triple)\n",
    "path = 'TestDocs/3-docs-test/test.json'\n",
    "# save it after shuffling the docs \n",
    "with open(path, 'w') as out:\n",
    "    json.dump(doc_triple, out)"
   ]
  },
  {
   "cell_type": "markdown",
   "metadata": {},
   "source": [
    "# Create pre-clustered docs"
   ]
  },
  {
   "cell_type": "code",
   "execution_count": 13,
   "metadata": {},
   "outputs": [
    {
     "name": "stdout",
     "output_type": "stream",
     "text": [
      "54\n"
     ]
    }
   ],
   "source": [
    "clusters = []\n",
    "clusters.append([doc for doc in docs if 'marte' in doc['title'].lower()][4:])\n",
    "clusters.append([doc for doc in docs if 'Tinder'.lower() in doc['title'].lower() and \n",
    "            'facebook'in doc['title'].lower()])\n",
    "clusters.append([doc for doc in docs if 'elon musk' in doc['title'].lower() and 'tesla' in doc['title'].lower()])\n",
    "clusters.append([doc for doc in docs if 'equinozio' in doc['title'].lower()])\n",
    "clusters.append([doc for doc in docs if 'iphone xs' in doc['title'].lower() and \n",
    "           not('Note 9' in doc['title']) and not('Airpower' in doc['title']) and\n",
    "           not('dentro' in doc['title'])\n",
    "          and not('anteprima' in doc['title'])\n",
    "           and not('Speciale' in doc['title'])\n",
    "      ])\n",
    "\n",
    "clusters.append([doc for doc in docs if 'fifa 19' in doc['title'].lower()])\n",
    "clusters.append([doc for doc in docs if 'youtube' in doc['title'].lower()\n",
    "           and 'bambini' in doc['title'].lower()])\n",
    "clusters.append([doc for doc in docs if 'SpaceX'.lower() in doc['title'].lower() and\n",
    "           'luna'in doc['title'].lower()])\n",
    "clusters.append([doc for doc in docs if 'samsung' in doc['title'].lower()\n",
    "      and not('4.0' in doc['title'])][:20:2])\n",
    "clusters.append([doc for doc in docs if 'huawei' in doc['title'].lower() \n",
    "                 and not('Google' in doc['title']) and not('Wired Next' in doc['title'])][1:])\n",
    "\n",
    "#print([doc ['title'] for cluster in clusters for doc in cluster])\n",
    "#print([doc['title'] for doc in docs if 'marte' in doc['title'].lower()][5::2])\n",
    "#print([doc['title'] for doc in docs if 'blockchain' in doc['title'].lower()\n",
    "#      and ('smart' in doc['title'])])\n",
    "print(len([doc for cluster in clusters for doc in cluster]))\n",
    "filename = 'EvaluateModels/pre-clustered_docs_harder.json'\n",
    "import json\n",
    "with open(filename, 'w') as out:\n",
    "    json.dump(clusters, out)"
   ]
  },
  {
   "cell_type": "code",
   "execution_count": 10,
   "metadata": {},
   "outputs": [
    {
     "name": "stdout",
     "output_type": "stream",
     "text": [
      "[\"iPhone Xs Max tira 3-4 volte più dell'Xs - Hi-tech - ANSA.it\", 'Apple conferma \"per errore\" iPhone XS, XS Max e XR', 'Aspettando iPhone Xs: il giorno di iOS 12', 'iPhone XS: perché Apple ha nascosto il notch?', 'Apple iPhone Xs e Xs Max: è troppo caro?', 'Apple lancia iPhone Xs e la versione Max: sempre più grandi, gli smartphone sono la nuova Tv - Corriere.it', 'Problemi per iPhone XS e XS Max: «Non si caricano se il cavo è collegato mentre lo schermo è spento» - Corriere.it', 'iPhone XS e XS Max: novità, scheda tecnica e prezzo', 'iPhone XS appiana le rughe, protestano gli utenti', 'iPhone XS: proteste per la carica troppo lenta']\n"
     ]
    }
   ],
   "source": [
    "#print([doc['title'] for cluster in clusters for doc in cluster])\n",
    "print([doc['title'] for doc in docs if 'iphone xs' in doc['title'].lower() and \n",
    "           not('Note 9' in doc['title']) and not('Airpower' in doc['title']) and\n",
    "           not('dentro' in doc['title'])\n",
    "          and not('anteprima' in doc['title'])\n",
    "           and not('Speciale' in doc['title'])\n",
    "      ])"
   ]
  },
  {
   "cell_type": "markdown",
   "metadata": {},
   "source": [
    "## 2 major clusters set of docs"
   ]
  },
  {
   "cell_type": "code",
   "execution_count": 16,
   "metadata": {},
   "outputs": [
    {
     "name": "stdout",
     "output_type": "stream",
     "text": [
      "[\"200 nuovi laureati per IBM: l'innovazione ha bisogno anche della Blockchain - Blockchain 4innovation\", 'Arriva SIAChain la piattaforma Blockchain di SIA - Blockchain 4innovation', 'L’anticipo fatture in banca si gestisce con la Blockchain: zero errori e costi ridotti - Blockchain 4innovation', 'L’accordo Hong Kong-Singapore per l’utilizzo della Blockchain - Blockchain 4innovation', \"B2Lab lancia Chainsquare: l'e-commerce scopre la blockchain - Blockchain 4innovation\", 'Deloitte-Dnv GL, nasce la certificazione blockchain: “È solo l’inizio” - Blockchain 4innovation', 'Arriva Notarchain: la Blockchain tutta italiana - Blockchain 4innovation', 'Smart Contract e blockchain - Pagina 4 di 5 - Blockchain 4innovation', 'Quanto si risparmia usando gli smart contract nelle banche e nelle assicurazioni - Blockchain 4innovation', 'Abbanoa punta sulla blockchain per certificare la lettura dei contatori - Blockchain 4innovation', 'Smart Contract e blockchain - Blockchain 4innovation', 'Bocconi e Federnotai presentano il manifesto: \"Smart contract and blockchain\" - Blockchain 4innovation', \"Che cos'è NEM, come funziona e quali sono i principali ambiti applicativi - Blockchain 4innovation\", 'Certy, B2Lab: documenti digitali certificati grazie alla blockchain - Blockchain 4innovation', \"Blockchain: cos'è, come funziona ed applicazioni nell'IoT - I4T\"]\n",
      "['Adolescenti: meglio WhatsApp che dal vivo', 'WhatsApp cambia il rapporto tra scuola e genitori', 'Su WhatsApp arrivano i pagamenti tra utenti: si inizia in India - Corriere.it', 'L’app italiana per acquistare un’auto via WhatsApp - Corriere.it', 'WhatsApp può svelare quando dormi e con chi chatti - Corriere.it', 'WhatsApp monetizza con le Aziende, profili Business parzialmente a pagamento - Corriere.it', 'Facebook: Tinder nel mirino, novità di Instagram e Whatsapp - Corriere.it', 'WhatsApp a pagamento dal 13 gennaio 2018: l’ennesima bufala - Corriere.it', 'WhatsApp, cancellare messaggi inviati è più facile: oltre un’ora di tempo - Corriere.it', 'WhatsApp rivoluziona i gruppi: le 3 novità - Corriere.it', \"Chat di gruppo su WhatsApp, c’è un buco per entrare. Ma l'app minimizza - Corriere.it\", 'Ecco perché WhatsApp non funzionava (e se fosse colpa della Juve?) - Corriere.it', 'Facebook compra WhatsApp, operazione record da 14 miliardi di euro - Corriere.it', 'WhatsApp, mandi il messaggio e ti penti? Presto potremo ripensarci (per 5 minuti) e cancellarlo - Corriere.it', 'WhatsApp, presto potremo fare pagamenti via chat - Corriere.it', 'WhatsApp, i messaggi cancellati si possono recuperare - Corriere.it', 'Facebook vuole mettere la pubblicità su WhatsApp - Corriere.it', \"Arriva la spunta verde su WhatsApp ecco cos'è e a cosa serve - Corriere.it\", 'WhatsApp limita i messaggi inoltrati dopo il caos in India e Myanmar - Corriere.it', 'WhatsApp a pagamento, ma solo per le aziende lente a rispondere - Wired']\n"
     ]
    }
   ],
   "source": [
    "# cluster-like format\n",
    "newdocs = []\n",
    "print([doc['title'] for doc in docs if 'blockchain' in doc['title'].lower()][1:16])\n",
    "print([doc['title'] for doc in docs if 'whatsapp' in doc['title'].lower()])\n",
    "\n",
    "newdocs.append([doc for doc in docs if 'blockchain' in doc['title'].lower()][1:16])\n",
    "newdocs.append([doc for doc in docs if 'whatsapp' in doc['title'].lower()])\n",
    "    \n",
    "# blockchain + whatsapp with slight noise\n",
    "with open('EvaluateModels/blockchain_whatsapp_noise.json','w') as file:\n",
    "    json.dump(newdocs, file)"
   ]
  },
  {
   "cell_type": "markdown",
   "metadata": {},
   "source": [
    "# Get articles from Guardians API"
   ]
  },
  {
   "cell_type": "code",
   "execution_count": 158,
   "metadata": {
    "scrolled": true
   },
   "outputs": [
    {
     "name": "stdout",
     "output_type": "stream",
     "text": [
      "200\n",
      "['Manchester United 0-1 Juventus: Champions League – as it happened', 'Manchester United 0-1 Juventus: player ratings from Old Trafford', 'Juventus in daunting form as Ronaldo turns provider against Napoli', 'José Mourinho says Juventus’ spending can win them Champions League', 'Football transfer rumours: Sergej Milinkovic-Savic to Juventus?', 'Football transfer rumours: Chelsea to sign Daniele Rugani from Juventus?', 'Cristiano Ronaldo for €100m at 33? Indulgence or Juventus masterstroke?', 'Cristiano Ronaldo joining Juventus in €100m deal from Real Madrid', 'José Mourinho: Juventus are at ‘different level of quality and stability’', 'Football transfer rumours: Juventus and PSG in for Rhian Brewster?', 'Football transfer rumours: Cristiano Ronaldo to join Juventus for £88m?', 'Juventus confident of signing Cristiano Ronaldo from Real Madrid', 'Football transfer rumours: Ronaldo in talks with Juventus and Facebook?', 'Football transfer rumours: Malcom to Arsenal or Spurs? Mata to Juventus?', 'Manchester United will take belief into Juventus game, says Chris Smalling', 'Football transfer rumours: Juventus to win race for Aleksandr Golovin?', 'Jadon Sancho and Reiss Nelson in the goals while Juventus lose 100% record', 'Manchester United sign Fred while Emre Can completes Juventus move', 'Juventus rule out move to bring Paul Pogba back from Manchester United', 'Arsenal sign Juventus and Switzerland full-back Stephan Lichtsteiner']\n"
     ]
    }
   ],
   "source": [
    "# it only shows a few articles per-page; we need to get more pages by changing the page parameter in the query\n",
    "import requests\n",
    "import json\n",
    "# get all articles published today that talk about a topic\n",
    "#url = (\"https://content.guardianapis.com/search?from-date=2018-11-05&show-fields=headline%2CbodyText&q=football&api-key=\"+apy_key)\n",
    "\n",
    "# let's use python simplified way of using REST services https://gist.github.com/dannguyen/c9cb220093ee4c12b840\n",
    "MY_API_KEY = \"67d68b19-8fdd-4a08-a8de-b2d891f81f86\"\n",
    "API_ENDPOINT = 'http://content.guardianapis.com/search'\n",
    "query = 'Juventus'\n",
    "my_params = {\n",
    "    'q': query,\n",
    "    'from-date': \"2018-1-03\", # today\n",
    "    'order-by': \"relevance\",\n",
    "    'show-fields': 'headline,bodyText',\n",
    "    'page-size': 200,\n",
    "    'api-key': MY_API_KEY\n",
    "}\n",
    "\n",
    "response = requests.get(API_ENDPOINT, my_params)\n",
    "\n",
    "# get the article array\n",
    "jsonresponse = response.json()\n",
    "jsonresponse = jsonresponse['response']['results']\n",
    "jsonresponse = [d['fields'] for d in jsonresponse]\n",
    "print(len(jsonresponse))\n",
    "print([r['headline'] for r in jsonresponse][:20])\n",
    "#print(jsonresponse)\n",
    "#print([r['title'] for r in jsonresponse if 'Pyongyang' in r['title']])"
   ]
  },
  {
   "cell_type": "markdown",
   "metadata": {},
   "source": [
    "## Creating pre-clustered document\n",
    "Same as above, I will create a pre-clustered document-set, by choosing a few topic and inserting news articles related to this topic."
   ]
  },
  {
   "cell_type": "code",
   "execution_count": 162,
   "metadata": {},
   "outputs": [
    {
     "name": "stdout",
     "output_type": "stream",
     "text": [
      "74\n",
      "['The lunar gateway: a shortcut to Mars?', 'Nasa Mars rover finds organic matter in ancient lake bed', 'Nasa mission to map Mars interior will launch this weekend', 'Scientists call for ‘mega-mission’ to find ancient life on Mars', 'The case against Mars colonisation', 'Don’t let bacteria-laden humans contaminate Mars', 'Spacewatch: Can Mars rover beat the dust to trundle on again?', 'First woman: Smithsonian Air and Space director looks from the moon to Mars', 'New moon mission will not distract from effort to reach Mars, Nasa boss says', \"Planet of the apis: Nasa develops plan to launch 'Marsbees'\", 'The PhD researcher looking for water on Mars – and inspiring girls to reach for the stars', 'Mars to track blood moon in double celestial treat on Friday', 'Spacewatch: Martian rocks on Earth a step nearer as UK builds red planet rover', 'The first human on Mars should be a woman – we deserve stardust too', 'Mars: huge underground lake raises prospects of life on planet, astronomers say', 'Could the Earth lose its atmosphere as Mars once did?', \"'If anyone can Maga, it is Nasa': how First Man's flag 'snub' made space political again\", 'The most likely cradles for life inside our solar system', \"Orange snow transforms eastern Europe into 'Mars'\", 'Gene therapy may help astronauts going to Mars resist deadly radiation']\n",
      "119\n",
      "['Resurgence of deadly measles blamed on low MMR vaccination rates', 'Uganda launches major vaccination drive as deadly cholera outbreak bites', \"Rubella's elimination from Australia 'shows vaccinations work'\", 'Drones to deliver vaccines in Vanuatu in world-first trial', 'Over-65s to be given more effective flu vaccine', 'Teenage boys to be vaccinated against cancer-causing HPV', 'NHS denies flu vaccine shortage amid complaints over delays', \"MPs 'shocked' by low flu vaccine rates among social care staff\", 'Beaten, terrified and disappeared: China cracks down on faulty vaccine outcry', 'Yes, you should have a flu jab', 'Take-up of MMR vaccine falls for fourth year in a row in England', 'Italian children missing school due to confusion over vaccine policy', 'Ethiopia deploys hidden rabies vaccine in bid to protect endangered wolf', \"Russian trolls 'spreading discord' over vaccine safety online\", 'DRC: experimental Ebola vaccine to be administered in Mbandaka', \"Wider use of rotavirus vaccine urged after 'potent' success of Malawi trial\", 'Congo turmoil means Ebola vaccinators will need armed escorts, experts warn', 'Australia on track to wipe out cervical cancer within 20 years', \"'They are devils': China's parents demand answers over vaccine scandal\", 'China: outcry over sale of 250,000 faulty vaccines prompts investigation']\n",
      "200\n",
      "['North Korea set to allow inspectors into nuclear test site', 'North Korea is still developing nuclear weapons, says IAEA', 'Donald Trump cancels North Korea nuclear summit', 'Trump angry after South Korea signals it may ease North Korea sanctions', \"Trump: 'possible' North Korea nuclear deal may not 'work out'\", 'South Korea and US resume military drills ahead of nuclear talks', 'Pompeo backs away from North Korea denuclearisation timeline', \"North Korea 'destroys' nuclear test site as world's media watches\", 'North Korea threatens to cancel Trump summit over nuclear demands', 'Trump orders Pompeo to delay nuclear North Korea talks due to lack of progress', 'US accuses Russia of covering up North Korea sanctions violations', 'Moon Jae-in is gambling with North Korea – and it could upset the US', 'US may resume war games as North Korea negotiations stall', \"Koreas' Kim and Moon to meet again as Trump nuclear agenda sidelined\", 'North Korea threat remains despite Trump summit, says Japan', \"North Korea frustrates US as 'maximum pressure' eases on sanctions\", 'Japan defence ministry seeks record budget over North Korea threat', 'Kim Jong-un pledges nuclear disarmament at summit with Trump', 'North Korea open to relinquishing nuclear weapons, says Seoul', 'Mike Pompeo to visit North Korea this week for nuclear talks']\n",
      "200\n",
      "['Manchester United 0-1 Juventus: Champions League – as it happened', 'Manchester United 0-1 Juventus: player ratings from Old Trafford', 'Juventus in daunting form as Ronaldo turns provider against Napoli', 'José Mourinho says Juventus’ spending can win them Champions League', 'Football transfer rumours: Sergej Milinkovic-Savic to Juventus?', 'Football transfer rumours: Chelsea to sign Daniele Rugani from Juventus?', 'Cristiano Ronaldo for €100m at 33? Indulgence or Juventus masterstroke?', 'Cristiano Ronaldo joining Juventus in €100m deal from Real Madrid', 'José Mourinho: Juventus are at ‘different level of quality and stability’', 'Football transfer rumours: Juventus and PSG in for Rhian Brewster?', 'Football transfer rumours: Cristiano Ronaldo to join Juventus for £88m?', 'Juventus confident of signing Cristiano Ronaldo from Real Madrid', 'Football transfer rumours: Ronaldo in talks with Juventus and Facebook?', 'Football transfer rumours: Malcom to Arsenal or Spurs? Mata to Juventus?', 'Manchester United will take belief into Juventus game, says Chris Smalling', 'Football transfer rumours: Juventus to win race for Aleksandr Golovin?', 'Jadon Sancho and Reiss Nelson in the goals while Juventus lose 100% record', 'Manchester United sign Fred while Emre Can completes Juventus move', 'Juventus rule out move to bring Paul Pogba back from Manchester United', 'Arsenal sign Juventus and Switzerland full-back Stephan Lichtsteiner']\n",
      "File Saved\n"
     ]
    }
   ],
   "source": [
    "clusters = []\n",
    "queries = [\"\\\"Mars\\\" AND Nasa\", \"Vaccination\", \"Nort Korea AND Nuclear\", \"Juventus\"]\n",
    "for q in queries:\n",
    "    my_params['q'] = q\n",
    "    my_params['from-date'] = \"2018-1-03\"\n",
    "    response = requests.get(API_ENDPOINT, my_params)\n",
    "\n",
    "    # get the article array\n",
    "    jsonresponse = response.json()\n",
    "    jsonresponse = jsonresponse['response']['results']\n",
    "    jsonresponse = [d['fields'] for d in jsonresponse]\n",
    "    print(len(jsonresponse))\n",
    "    print([r['headline'] for r in jsonresponse][:20])\n",
    "    clusters.append(jsonresponse[:20])\n",
    "with open(\"EvaluateModels/english_4_clusters.json\", \"w\") as out:\n",
    "    json.dump(clusters, out, indent=4)\n",
    "print(\"File Saved\")"
   ]
  }
 ],
 "metadata": {
  "kernelspec": {
   "display_name": "Python 3",
   "language": "python",
   "name": "python3"
  },
  "language_info": {
   "codemirror_mode": {
    "name": "ipython",
    "version": 3
   },
   "file_extension": ".py",
   "mimetype": "text/x-python",
   "name": "python",
   "nbconvert_exporter": "python",
   "pygments_lexer": "ipython3",
   "version": "3.6.5"
  }
 },
 "nbformat": 4,
 "nbformat_minor": 2
}

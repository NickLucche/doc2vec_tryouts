{
 "cells": [
  {
   "cell_type": "code",
   "execution_count": 1,
   "metadata": {},
   "outputs": [],
   "source": [
    "        ### imports\n",
    "# PCA imports\n",
    "import pandas as pd \n",
    "import numpy as np\n",
    "import matplotlib.pyplot as plt\n",
    "from sklearn.decomposition import PCA\n",
    "from sklearn.preprocessing import StandardScaler\n",
    "%matplotlib inline\n",
    "\n",
    "# Doc2Vec imports\n",
    "from gensim.models.doc2vec import Doc2Vec, TaggedDocument\n",
    "import gensim\n",
    "import json # to open our data file\n"
   ]
  },
  {
   "cell_type": "markdown",
   "metadata": {},
   "source": [
    "## JSON data import"
   ]
  },
  {
   "cell_type": "code",
   "execution_count": 4,
   "metadata": {},
   "outputs": [],
   "source": [
    "\n",
    "DATA_FILENAME = \"dump_solr.json\"\n",
    "DATA_FILENAME2 = \"trend_analisys.json\"\n",
    "# open json file\n",
    "with open(DATA_FILENAME, \"r\") as json_file:\n",
    "    json_data = json.load(json_file)\n",
    "\n",
    "# open 'old' json file\n",
    "with open(DATA_FILENAME2, \"r\") as json_file:\n",
    "    json_data_old = json.load(json_file)\n",
    "\n",
    "# we're expecting a dictionary now, since our json file is a json object\n",
    "assert type(json_data) is dict\n",
    "\n",
    "# we're expecting a list this time, for the way it is formatted \n",
    "assert type(json_data_old) is list"
   ]
  },
  {
   "cell_type": "code",
   "execution_count": 5,
   "metadata": {},
   "outputs": [
    {
     "name": "stdout",
     "output_type": "stream",
     "text": [
      "Number of documents in new json:  1377\n",
      "Number of documents in old json:  293\n",
      "1670\n",
      "New length:  1655\n"
     ]
    }
   ],
   "source": [
    "## let's now retrieve the meaningful part of the json document\n",
    "# response{}--->docs[]\n",
    "\n",
    "docs = json_data['response']['docs']\n",
    "print(\"Number of documents in new json: \",len(docs))\n",
    "print(\"Number of documents in old json: \",len(json_data_old))\n",
    "\n",
    "# let's use both data dumps, make a single list\n",
    "\n",
    "docs = docs + json_data_old\n",
    "print(len(docs))\n",
    "\n",
    "# docs from ilpost.it seem to have a strange title format, let's check it out\n",
    "# 'delete' items by using list comprehension: make a new list containing only valid items\n",
    "\n",
    "docs = [dictionary for dictionary in docs if not 'ilpost' in dictionary['url'][0]]\n",
    "\n",
    "#for i, dictionary in enumerate(docs):\n",
    "#    if 'ilpost' in dictionary['id']:\n",
    "#        print(dictionary['title'])\n",
    "#        del(docs[i])\n",
    "        \n",
    "print(\"New length: \", len(docs))\n",
    "# this should print nothing at all\n",
    "for dictionary in docs:\n",
    "    if 'ilpost' in dictionary['url'][0]:\n",
    "        print(dictionary)"
   ]
  },
  {
   "cell_type": "markdown",
   "metadata": {},
   "source": [
    "## Adjust data format\n",
    "change some field type from list to string in particular"
   ]
  },
  {
   "cell_type": "code",
   "execution_count": 6,
   "metadata": {},
   "outputs": [
    {
     "name": "stdout",
     "output_type": "stream",
     "text": [
      "[{'fonte_dati': ['trend_analisys'], 'id': 'https://www.punto-informatico.it/fujitsu-si-separa-da-pc-e-mobile/', 'ta_id': [5], 'title': 'Fujitsu si separa da PC e mobile', 'abstract': '   Roma – Per guadagnare in efficienza e tentare di rincorrere una posizione più appetibile sul mercato mobile e sul mercato del PC, per affrontare anni di profondi cambiamenti per entrambi i settori, Fujitsu  ha annunciato  lo spinoff delle due divisioni dedicate l’una a notebook e PC e l’altra agli smartphone. \\n Le due aziende, che nasceranno ufficialmente nel mese di febbraio del prossimo anno, consentiranno all’azienda “di chiarire le responsabilità nella gestione, di agevolare decisioni più rapide della dirigenza e di ottenere una maggiore efficienza”: aspetti fondamentali nel momento in cui la diffusione sempre più di massa e sempre più ubiqua di PC e smartphone “ha reso progressivamente sempre più difficile differenziarsi e ha reso sempre più serrata la competizione con i nuovi produttori globali”. \\n Fujitsu lascerà dunque che la propria divisione mobile viva di vita propria in Fujitsu Connected Technologies e tenti di farsi largo in uno scenario mobile estremamente  complesso  , con le sue stagnazioni, le sue conferme di lusso e le nuove esigenze dei mercati emergenti. \\n La divisione PC e notebook, che da febbraio farà capo a Fujitsu Client Computing Limited, affronterà una  conginutura  affatto positiva sperando nella ripresa. Nei mesi scorsi, caratterizzati da  sommovimenti  che  hanno interessato  l’assetto degli storici produttori giapponesi, circolava un’  indiscrezione  che tratteggiava un futuro comune per Fujitsu, Vaio e Toshiba: lo spinoff annunciato dall’azienda  potrebbe rappresentare  un primo passo in questa direzione. ', 'url': ['https://www.punto-informatico.it/fujitsu-si-separa-da-pc-e-mobile/'], 'website': ['punto-informatico.it'], 'timestamp': [1451308920000], 'publication_date': ['2015-12-28T13:22:00Z'], 'flattened_entities': 'azienda client computer_portatile fujitsu mercato roma smartphone spin-off_diritto telefonia_mobile toshiba', 'result_entities': ['Roma', 'Mercato', 'Telefonia mobile', 'Fujitsu', 'Spin-off (diritto)', 'Computer portatile', 'Smartphone', 'Azienda', 'Client', 'Toshiba'], '_version_': 1613295373058572288}, {'fonte_dati': ['trend_analisys'], 'id': 'https://www.punto-informatico.it/business/startup/', 'ta_id': [5], 'title': 'Startup: Notizie del giorno - News online su Punto Informatico', 'abstract': 'Qual è il futuro delle startup in Italia? Il nostro paese è descritto da più parti come un luogo di grandi talenti e grande creatività, ma con terreno poco fertile per fare impresa e per coltivare le nuove idee. Le startup innovative sono spesso carenti di supporto, di finanziamenti e di incubatori: mancano le strutture, in primis, in seguito alla mancanza di politiche per l’innovazione che offrano bandi startup e legislazioni favorevoli allo sviluppo di questo fondamentale fermento. Investire in startup deve diventare occasione appetibile affinché anche l’Italia possa abbracciare appieno le opportunità che l’innovazione riversa sul mondo dell’impresa.', 'url': ['https://www.punto-informatico.it/business/startup/'], 'website': ['punto-informatico.it'], 'timestamp': [1538558357822], 'publication_date': ['2018-10-03T09:19:17.822Z'], 'flattened_entities': 'azienda italia politica startup_economia', 'result_entities': ['Startup (economia)', 'Italia', 'Azienda', 'Politica'], '_version_': 1613295373043892224}, {'fonte_dati': ['trend_analisys'], 'id': 'https://www.punto-informatico.it/goldman-sachs-criptovalute/', 'ta_id': [5], 'title': 'Goldman Sachs non decide e affonda le criptovalute', 'abstract': 'Chi sperava che il Bitcoin fosse pronto a rimbalzare verso l’alto e verso nuove ambizioni, nelle ultime 24 ore ha visto affossati i propri auspici: nuova giornata nera per le principali criptovalute e tutto ciò a causa, in questo caso, di una decisione firmata Goldman Sachs.\\nAggiornaemnto: Goldman ha chiarito la propria posizione ai microfoni CNBC.\\nLa notizia è in realtà una non-notizia, nel senso che da Goldman Sachs non è giunta in realtà alcuna nuova informativa. Il calo improvviso del valore delle criptovalute è tuttavia originato da un report di Business Insider secondo il quale la banca d’affari di New York avrebbe rinunciato alla creazione di un desk dedicato al mondo del Bitcoin e affini. Il progetto era stato confermato nel tempo ed aveva lasciato intendere che la banca fosse pronta a salire sul carrozzone delle criptovalute, aprendo alle monete virtuali i grandi capitali di Wall STreet, cosa che avrebbe rappresentato un boost di enorme importanza per l’intero settore. Tutto ciò si è però lentamente sgonfiato dietro i silenzi della banca e si è ora spento a seguito delle voci trapelate in queste ore.\\nDalla Goldman Sachs giunge semplicemente silenzio: né si conferma che il desk sarà aperto, né si conferma che il progetto è stato detronizzato. Secondo quanto trapelato, i dubbi della banca sono relativi alla confusione normativa che aleggia attorno al mondo delle criptovalute, rendendo ogni azione meno sicura e appetibile tanto da parte della banca, quanto da parte degli utenti. Ciò rappresenta di fatto una sussurrata richiesta di chiarezza tanto alle istituzioni quanto agli stakeholder, affinché si possa giocare a carte scoperte e la criptovaluta possa diventare davvero un asset di investimento.\\nL’entrata da protagonista di Goldman Sachs avrebbe rappresentato un fattore determinante, sia per l’aumento del volume d’affari correlato, sia per il chiaro endorsement che la cosa avrebbe rappresentato. La mancata decisione, l’eterna sfiducia e lo sgonfiarsi delle notizie che ci si attendeva hanno così portato ad una nuova fuga dalle criptovalute, determinandone un immediato tracollo. Per i Bitcoin il valore passa da 7000 a 6400 in 24 ore (-10%), Ethereum scende invece da 260 a 226 (-13%). Similare l’ordine di caduta delle altre principali valute virtuali.\\nBitcoin perde così l’ennesima opportunità per svettare, ma al tempo stesso il passaggio a vuoto non determina giocoforza una bocciatura. Goldman Sachs non ha infatti negato il proprio apporto alla causa per il futuro ed al tempo stesso non ha fatto che ribadire quanto già in molti sostengono: soltanto creando un maggior equilibrio nelle quotazioni, conseguenza di un contesto costruito su maggiori certezze normative, potrà rendere realmente appetibile l’asset al trading a Wall Street.\\nIl passo indietro sarebbe pertanto parziale: invece di un vero e proprio desk dedicato, Goldman Sachs potrebbe aprire un servizio di gestione e protezione delle criptovalute, senza abbracciare alcun rischio e rimanendo in attesa di capire se le criptovalute possano o meno diventare un affare di lungo periodo. Ripartendo, però, da valori che nel frattempo son crollati al solo soffio di un report.\\nAggiornamento: Goldman Sachs chiarisce\\nIl rimbalzo è servito: il valore delle criptovalute è tornato a lievitare fin dal momento in cui il Chief Financial Officer di Golman Sachs, Martin Chavez, si è sentito in dovere di chiarire la posizione del gruppo sul tema criptovalute. Nella fattispecie Chavez smentisce che la banca abbia deciso di abbandonare l’idea di un desk dedicato per le monete virtuali, ma al tempo stesso ha spiegato che non c’è alcuna timeline delineata per il raggiungimento di tale obiettivo.\\nDi fatto la situazione cambia ben poco rispetto a quanto emerso nelle ore antecedenti, ma cambia la prospettiva: il progetto che sembrava destinato a cadere è in realtà un progetto destinato a rimanere nel cassetto in attesa di evoluzioni. Quanto basta al mercato, insomma, per tornare a costruire un rimbalzo del Bitcoin e delle altre principali criptovalute.', 'url': ['https://www.punto-informatico.it/goldman-sachs-criptovalute/'], 'website': ['punto-informatico.it'], 'timestamp': [1536238324000], 'publication_date': ['2018-09-06T12:52:04Z'], 'flattened_entities': \"azione_finanza banca banca_d'affari bitcoin cespite criptovaluta direttore_finanziario ethereum goldman_sachs il_carrozzone/baratto investimento istituzione mercato nbc_universal_tv_networks_distribution new_york stakeholder tempo valuta wall_street\", 'result_entities': ['Bitcoin', 'Criptovaluta', 'Goldman Sachs', 'NBC Universal TV Networks Distribution', \"Banca d'affari\", 'New York', 'Il carrozzone/Baratto', 'Wall Street', 'Banca', 'Azione (finanza)', 'Istituzione', 'Stakeholder', 'Cespite', 'Investimento', 'Ethereum', 'Valuta', 'Direttore finanziario', 'Tempo', 'Mercato'], '_version_': 1613295373204324352}, {'fonte_dati': ['trend_analisys'], 'id': 'https://www.punto-informatico.it/download/hocus/', 'ta_id': [5], 'title': 'hocus. | Punto Informatico', 'abstract': '   Svago   Rompicapi tridimensionali su geometrie impossibili, per un gioco semplice ma in grado...  \\n  Se amate le geometrie impossibili di  Escher  e avete già apprezzato giochi come  Monument Valley  , non potete lasciarvi sfuggire uno degli ultimi giochi  indie  di maggior successo per iOS.  •       Hocus  è un gioco dalla grafica semplice, ma dalla dinamica intrigante, perlomeno per chi è amante di certe tipologie di rompicapo. Il giocatore si troverà di fronte ad una struttura dalla geometria particolare, in molti casi \"impossibile\" (a parte i primi schemi, che servono per prendere familiarità con il gioco) e dovrà guidare un piccolo cubetto rosso per raggiungere la via d\\'uscita, approfittando degli  incroci  più o meno (im)possibili per cercare la giusta strada.  •      La dinamica del gioco si basa su fatto che le strutture tridimensionali, rappresentate in due dimensioni, si prestano a numerosi inganni prospettici, alcuni dei quali resi molto famosi dal già citato Escher. A differenza di  Monument Valley  , dove la grafica era più curata e molti enigmi prevedevano di muovere le strutture per superare gli ostacoli, qui la grafica è minimalista e non c\\'è nulla che si muove, se non il nostro cubetto che deve trovare la via d\\'uscita.  •      I primi schemi sono decisamente molto semplici, ma presto iniziano le prime difficoltà che richiedono di aguzzare vista e ingegno per scoprire gli incroci utili per trovare la via di fuga. Se siete tanto bravi da completare velocemente i 120 livelli proposti, potete anche cimentarvi nella creazione di nuovi livelli da condividere con tutti gli appassionati di questo gioco, e risolvere gli schemi creati dagli altri giocatori.      Hocus include il supporto per  iPhone X  , ma funziona su tutti dispositivi con iOS 6 o successivi, quindi anche su telefoni molto vecchi sarà possibile dedicarsi alla soluzione di questi rompicapi.  •      Nonostante le similitudini con Monument Valley (e con altri giochi che hanno cercato, con meno fortuna, di sfruttare lo stesso tema) le differenze sono molte, sia nella dinamica che nella storia (in questo caso completamente assente)... ma quello che accomuna i due titoli sono le geometrie impossibili da affrontare e superare col il giusto spirito di chi apprezza questo tipo di enigmi.      •     Gli altri interventi di sono disponibili a  questo indirizzo      ', 'url': ['https://www.punto-informatico.it/download/hocus/'], 'website': ['punto-informatico.it'], 'timestamp': [1538558357788], 'publication_date': ['2018-10-03T09:19:17.788Z'], 'flattened_entities': 'geometria gioco ios ios_6 iphone monument_valley tridimensionalità videogioco_indipendente videogioco_rompicapo', 'result_entities': ['Tridimensionalità', 'Gioco', 'Monument Valley', 'Videogioco indipendente', 'IOS', 'Videogioco rompicapo', 'Geometria', 'IPhone', 'IOS 6'], '_version_': 1613295373062766592}, {'fonte_dati': ['trend_analisys'], 'id': 'https://www.punto-informatico.it/download/rmlint/', 'ta_id': [5], 'title': 'Rmlint | Punto Informatico', 'abstract': '   Utility   Pulire il disco da file inutili e danneggiati  \\n Se è vero che i filesystem di Linux hanno meno problemi di frammentazione, grazie alla loro struttura, quando si utilizza lo stesso disco per molti anni si può cominciare a notare un certo rallentamento nelle operazioni di scrittura, dovuto ad accenni della frammentazione. Inoltre, i file \"inutili\", cioè quelli vuoti e danneggiati, occupano comunque dello spazio, che a lungo andare può diventare importante. Ecco quindi che ha comunque senso, pure su GNU/Linux, prendersi cura del filesystem ed eliminare ciò che non serve. Capita spesso, infatti, di avere link rotti, cioè link che puntano a file non più esistenti e quindi ormai inutili, oppure file vuoti rimasti sul disco a causa di qualche log o magari un bug in un programma. Soprattutto, capita di avere molte copie dello stesso file, che ovviamente non ha senso tenere, almeno non sullo stesso disco. Per fortuna, Rmlink è progettato per individuarli automaticamente e eliminarli.  Entrati col terminale in una cartella, si possono analizzare i file e sottocartelle semplicemente dando il comando  Viene presentata una lista di file che sarebbe opportuno rimuovere, come file vuoti e link inattivi.  Per avere una lista completa dei file su cui agire, viene creato un file json. Viene anche creato uno script, che si può eseguire con  Lo script si occupa automaticamente di eliminare i file inutili. La creazione dello script permette di verificare quali siano i file selezionati, è ovvio che se si vuole escludere qualche file dall\\'eliminazione si debba modificare lo script commentando (con #) la riga che contiene il suo nome.  Chi preferisce usare una interfaccia grafica può ricorrere a Shredder, l\\'interfaccia ufficiale di rmlint. Funziona nello stesso modo dell\\'utility a riga di comando, basta eseguirla selezionando una cartella, e procederà a una scansione per determinare i file inutili. A quel punto si possono selezionare o deselezionare e cancellare automaticamente.  ', 'url': ['https://www.punto-informatico.it/download/rmlint/'], 'website': ['punto-informatico.it'], 'timestamp': [1538558357796], 'publication_date': ['2018-10-03T09:19:17.796Z'], 'flattened_entities': 'bug collegamento_ipertestuale directory disco_rigido file file_system interfaccia_a_riga_di_comando interfaccia_grafica istruzione_informatica javascript_object_notation linux log programma_informatica riga script shredder_scacchi terminale_informatica utilità_informatica', 'result_entities': ['File', 'File system', 'Linux', 'Collegamento ipertestuale', 'Disco rigido', 'Log', 'Bug', 'Programma (informatica)', 'Terminale (informatica)', 'Directory', 'Istruzione (informatica)', 'JavaScript Object Notation', 'Script', 'Riga', 'Interfaccia grafica', 'Shredder (scacchi)', 'Utilità (informatica)', 'Interfaccia a riga di comando'], '_version_': 1613295373066960896}, {'fonte_dati': ['trend_analisys'], 'id': 'https://www.punto-informatico.it/download/gwakeonlan/', 'ta_id': [5], 'title': 'gWakeonLan | Punto Informatico', 'abstract': \"   Varie   Una semplice interfaccia grafica per accendere computer da remoto  \\n  Chi lavora con un gran numero di computer in edifici molto grandi, come stabilimenti industriali, campus universitari, e uffici, può ritrovarsi con la necessità di accendere alcuni di questi computer che solitamente sono spenti. Per farlo, avrà bisogno di raggiungere fisicamente il computer e premere il pulsante di accensione. Ma anche no! Esiste un meccanismo chiamato WakeOnLan, che permette di accendere da remoto dei computer che sono spenti (ma ovviamente collegati alla corrente). Quando un PC o un server è spento, un quantitativo minimo di energia elettrica viene comunque fornita alle schede PCI e a quelle integrate nella scheda madre. Questo permette di tenere la scheda di rete ethernet in uno stato di dormiveglia: di fatto è spenta, ma comunque in grado di ascoltare alcuni precisi pacchetti di dati che possono arrivare tramite cavo ethernet. Questi  pacchetti magici  possono essere inviati da un altro PC della rete locale con l'ordine di accendere il computer. Si tratta di una comodità non da poco, perché permette la gestione di un'intera rete di computer da una unica postazione: basta configurare una comoda interfaccia grafica come  gWakeonLan  per poter accendere computer lontani anche centinaia di metri con un click, senza bisogno di alzarsi dalla propria scrivania.  •      Prima di tutto, è necessario assicurarsi che la scheda di rete del computer che si vuole avviare da remoto abbia la funzionalità WoL: tutte le schede di produzione recente ce l'hanno, ma a volte deve essere abilitata nel BIOS. Poi la scheda va configurata dal sistema operativo per consentire l'avvio del sistema tramite il meccanismo WakeOnLan. Lo si può fare modificando il file  /etc/network/interfaces  inserendo le seguenti righe per la scheda di rete:  •    •  Nell'esempio, la scheda di rete si chiama  eth0  , e viene configurata per IP4.  •      Aperto gWakeOnLan sul computer che si intende usare per avviare da remoto l'altro, l'interfaccia che appare è molto semplice: un semplice elenco permette di vedere quali computer sono stati avviati da remoto in precedenza. Per avviarne uno basta spuntare la sua casella e premere il primo pulsante della toolbar. Ovviamente, si possono spuntare più caselle per avviare diversi computer assieme.      Nel caso si vogliano aggiungere degli altri computer alla propria lista, si può sfruttare il pulsante a forma di  +  . Il computer deve essere acceso, nel momento in cui lo si inserisce in lista. Infatti, gWakeOnLan presenta l'elenco dei dispositivi rilevati automaticamente nell'attuale rete locale. Li presenta con il loro attale indirizzo IP, che è più facile da leggere dell'indirizzo MAC, ma servono comunque entrambi questi dati, quindi è ovvio che il computer remoto debba essere accesso e connesso alla rete.  •      Una finestra permette poi di precisare le informazioni a proposito del computer che si sta aggiungendo alla lista. Oltre a specificare un nome facilmente leggibile, si può confermare l'indirizzo MAC della sua scheda di rete (indirizzo che è fisso e quindi non cambia come l'IP) e anche la porta UDP da usare (solitamente la 9, ma si può cambiare). Tra l'altro, è possibile specificare se la richiesta debba essere soltanto sulla rete locale o su Internet, visto che è possibile attivare anche dispositivi al di fuori della propria LAN.         \", 'url': ['https://www.punto-informatico.it/download/gwakeonlan/'], 'website': ['punto-informatico.it'], 'timestamp': [1538558357914], 'publication_date': ['2018-10-03T09:19:17.914Z'], 'flattened_entities': 'barra_degli_strumenti bios boot cavo_ethernet_incrociato computer dato dispositivi_di_rete energia_potenziale_elettrica file indirizzo_ip indirizzo_mac industria informazione interfaccia_grafica internet local_area_network ma_anche_no pacchetto_reti peripheral_component_interconnect porta_reti rete_di_accesso rete_di_computer scheda_di_rete scheda_madre server sistema_operativo user_datagram_protocol wake_on_lan', 'result_entities': ['Interfaccia grafica', 'Computer', 'Industria', 'Ma anche no', 'Wake on LAN', 'Server', 'Energia potenziale elettrica', 'Peripheral Component Interconnect', 'Scheda madre', 'Scheda di rete', 'Pacchetto (reti)', 'Dato', 'Cavo ethernet incrociato', 'Local Area Network', 'Rete di computer', 'BIOS', 'Sistema operativo', 'Boot', 'File', 'Barra degli strumenti', 'Indirizzo IP', 'Indirizzo MAC', 'Rete di accesso', 'Informazione', 'Porta (reti)', 'User Datagram Protocol', 'Internet', 'Dispositivi di rete'], '_version_': 1613295373707640832}, {'fonte_dati': ['trend_analisys'], 'id': 'https://www.punto-informatico.it/download/rings/', 'ta_id': [5], 'title': 'Rings | Punto Informatico', 'abstract': \"   Svago   Un rompicapo colorato, tanto semplice quanto coinvolgentem per tutti i dispositi iOS,...  \\n  I rompicapo son un genere di gioco che trova molto spazio sugli smartphone, visto che solitamente non richiedono una gestione troppo complessa dei comandi, mentre la fantasia nello scovare nuove idee di gioco riesce a concretizzarsi in modo ottimale sugli schermi touch dei nostri cellulari.  •          Rings  , per iPhone, iPad e iPod Touch con iOS 6 o superiori (quindi anche per dispositivi un po'  datati  ) è uno di quei giochi che meglio si identifica nella defizione che abbiamo appena dato, visto che si tratta di un gioco scaturito da un'idea tanto semplice quanto originale, che con una grafica senza fronzoli riesce a regalare molte partite di divertimento mentre si studiano le migliori strategie per ottenere punteggi sempre più elevati.  •         La dinamica di gioco di Rings è molto semplice: si tratta di disporre dei cerchi colorati nello schema di gioco, cercando di realizzare delle linee orizzontali, verticali, o diagonali, dello stesso colore, linee che scompariranno lasciando campo libero ai prossimi cerchi. I cerchi possono essere di tre dimensioni differenti, quindi ogni punto dello schema di gioco potrà contenere tre diversi colori, il che consentire di realizzare un maggior numero di combinazionioni per eliminare linee multiple... anche perché procedendo nel gioco il numero di colori aumenta, il che rende sempre più difficile trovare nuove combunazioni. La possibilità di posizionare tre cerchi sullo stesso punto consente inoltre di elimare tutti i cerchi di quel punto, nel caso in cui si riesca a mettere tutti i cerchi dello stesso colore nella stessa posizione, cosa che può sembrare facile all'inizio della partita, ma che diventa quasi impossibile quando ci si ritrova a posizionare contemporaneamente più cerchi di colore diverso nei pochi spazi rimasti... in caso di errori o ripensamenti, ci sono comunque a disposizione tre possibilità per tornare indietro e cambiare la mossa.         Oltre alla modalità classica appena descritta, Rings offre anche altre opzioni di gioco:  -  Double Diamond  utilizza una tavola di gioco più ampia, di forma differente (a forma di diamante, o, per essere più precisi, romboidale) e con cerchi doppi anziché tripli.  •  -  Time Trial  è una modalità identica nella dinamica al gioco classico, dove però ci si ritrova in corsa anche contro il tempo, scandito da una linea infuocata che scende verso il basso e risale un pochettino ogni volta che si riesce a compeltare una linea.  •  -  One Ring  è anch'essa identica alla modalità classica, con la differenza che viene offerto un solo cerchio per volta da posizionare nello schema (a differenza della scelta tripla che abbiamo a disposizione nella modalità principale) e abbiamo la possibilità di cestinare (per un numero limitato di volte) eventuali cerchi che riteniamo inutili alla nostra strategia.  •               Il gioco è gratuito grazie alle inserzioni pubblicitarie, ma spendendo 2,29 Euro possiamo eliminarle definitivamente per concentrarci senza distrazioni nella pianificazione delle migliori strategie di gioco. Il titolo è sicuramente da consigliare a tutti gli amanti dei rompicapo in cerca di qualcosa di orginale, ma anche a chi cerca un gioco semplice e nello stesso tempo capace di regalare qualche attimo di svago.      •     Gli altri interventi di sono disponibili a  questo indirizzo      \", 'url': ['https://www.punto-informatico.it/download/rings/'], 'website': ['punto-informatico.it'], 'timestamp': [1538558357856], 'publication_date': ['2018-10-03T09:19:17.856Z'], 'flattened_entities': 'basso_elettrico cerchio diagonale diamante_baseball europa genere_scienze_sociali ios ios_6 ipad iphone ipod_touch numero punto_geometria schermo smartphone telefono_cellulare tridimensionalità videogioco_rompicapo', 'result_entities': ['Videogioco rompicapo', 'IOS', 'Genere (scienze sociali)', 'Smartphone', 'Schermo', 'Telefono cellulare', 'IPhone', 'IPad', 'IPod touch', 'IOS 6', 'Cerchio', 'Diagonale', 'Tridimensionalità', 'Punto (geometria)', 'Numero', 'Diamante (baseball)', 'Basso elettrico', 'Europa'], '_version_': 1613295373157138433}, {'fonte_dati': ['trend_analisys'], 'id': 'https://www.punto-informatico.it/google-si-advertising-criptovalute/', 'ta_id': [5], 'title': \"Google: sì all'advertising sulle criptovalute\", 'abstract': 'Si muove ed evolve in modo troppo rapido l’universo delle criptovalute perché il legislatore e le autorità possano regolamentarne le dinamiche. I tentativi fin qui messi in campo non sempre hanno condotto all’esito sperato. C’è chi di conseguenza ha scelto di adottare policy proprie, in attesa che il panorama divenga almeno un po’ più trasparente. Tra queste realtà figura anche Google.\\nNel mese di marzo il gruppo di Mountain View ha annunciato l’intenzione di impedire l’acquisto di advertising sul proprio network a tutte quelle aziende che operano nell’ambito di Bitcoin, Ethereum, Litecoin e delle altre monete virtuali. Una misura in vigore da giugno, che vieta di pubblicizzare ICO (Initial Coin Offering) e wallet, così come consulenze e strumenti dedicati al trading. Questo per tutelare l’utente finale, tenendolo al sicuro dalle tante insidie che hanno accompagnato e ancora stanno accompagnando la crescita del business connesso alle criptovalute. Le cose cambieranno però da ottobre, come si legge in un update del regolamento di bigG relativo alla sponsorizzazione di servizi finanziari.\\n \\n La policy di Google Ads in merito a prodotti e servizi finanziari sarà aggiornata nell’ottobre 2018 per consentire alle realtà attive nello scambio regolamentato di criptovalute la promozione negli Stati Uniti e in Giappone. \\n\\nParziale dietrofront, dunque, anche se con alcune limitazioni: anzitutto, per l’avvio di una campagna pubblicitaria dovrà preventivamente essere richiesta un’autorizzazione e il materiale verrà attentamente esaminato prima di finire online. Inoltre, in un primo momento l’advertising potrà essere mostrato esclusivamente nei territori di Stati Uniti e Giappone. Non è del tutto chiaro quali siano le tipologie di inserzioni che Google accetterà, ma pare che il ban continuerà ad essere in vigore per quelle citate poc’anzi (ICO, wallet e trading).\\nAltri nomi importanti del panorama online hanno scelto di percorrere una strada del tutto simile a quella del gruppo di Mountain View. Facebook, Twitter e Snap hanno fatto altrettanto, con il social network di Mark Zuckerberg tornato sui propri passi nel mese di giugno, ma anch’esso applicando severe restrizioni e chiedendo obbligatoriamente l’ottenimento di un’autorizzazione agli inserzionisti.\\nPer quanto riguarda in particolare bigG, considerando che l’86% circa dei profitti generati dalla parent company Alphabet (oltre 54 miliardi di dollari nella prima metà dell’anno) è ancora legato alle pubblicità, l’intenzione sembra quella di non voler perdere l’occasione di beneficiare di un giro d’affari in forte crescita come quello legato alle monete virtuali. Google lo farà però cercando il giusto equilibrio tra le proprie esigenze di business e la necessità di tutelare l’utente, il destinatario finale delle campagne di advertising.', 'url': ['https://www.punto-informatico.it/google-si-advertising-criptovalute/'], 'website': ['punto-informatico.it'], 'timestamp': [1537954704000], 'publication_date': ['2018-09-26T09:38:24Z'], 'flattened_entities': \"astrophysics_data_system bitcoin criptovaluta dollaro_statunitense economia ethereum facebook finanza giappone google ico_videogioco internet litecoin mark_zuckerberg moneta mountain_view_contea_di_santa_clara profitto pubblicità rete_sociale snap_football_americano società_madre stati_uniti_d'america twitter wallet_apple\", 'result_entities': ['Criptovaluta', 'Google', 'Mountain View (contea di Santa Clara)', 'Bitcoin', 'Ethereum', 'Litecoin', 'ICO (videogioco)', 'Finanza', 'Astrophysics Data System', \"Stati Uniti d'America\", 'Giappone', 'Wallet (Apple)', 'Internet', 'Facebook', 'Twitter', 'Snap (football americano)', 'Rete sociale', 'Mark Zuckerberg', 'Profitto', 'Società madre', 'Dollaro statunitense', 'Pubblicità', 'Economia', 'Moneta'], '_version_': 1613295373224247296}, {'fonte_dati': ['trend_analisys'], 'id': 'https://www.punto-informatico.it/download/sicurpas/', 'ta_id': [5], 'title': 'Sicurpas | Punto Informatico', 'abstract': \"   Archivi e database   Una cassaforte virtuale per file e cartelle  \\n  Negli hard disk dei nostri computer, oltre ai programmi e al sistema operativo, sono memorizzati file di ogni genere: immagini, video, documenti di testo, presentazioni multimediali, fogli di calcolo ecc. Tra questi spesso vi sono file cui teniamo particolarmente perché contengono, ad esempio, dati personali, oppure perché si tratta di materiale che utilizziamo per lavoro. Se al nostro PC accedono più utenti è opportuno proteggere questi file da sguardi indiscreti. Per farlo potremo utilizzare un tool che consente di criptare in modo sicuro e veloce file e cartelle mediante l'uso di una password con i più robusti algoritmi di crittografia. Grazie ad esso i nostri file diverranno praticamente inaccessibili agli estranei, proprio come se li avessimo messi in cassaforte. Ecco come fare.  •   Dopo aver scaricato il programma, estraiamo l'archivio e avviamo l'esecuzione del file  setup.exe  . Installiamo il software seguendo la procedura guidata, che non porta con sé indesiderate toolbar o programmi aggiuntivi: al termine spuntiamo  Launch Sicurpas freeware 4.0 Professional  e premiamo  Fine  .  •      All'avvio di  Sicurpas  una finestra potrebbe avvisarci della disponibilità di aggiornamenti del software. Un clic sul pulsante  OK  , e nella successiva schermata premiamo il tasto  Aggiorna  in basso a destra per avviare il processo di aggiornamento.  •      Per avviare il processo di cifratura di un file, clicchiamo sul pulsante  Cifratura e compressione dei file  nella barra strumenti in alto. Nella finestra che si apre facciamo clic sul tasto  Cifrare file  in basso a sinistra, selezioniamo il documento da cifrare e carichiamolo con  Apri  .  •      Digitiamo, nel campo  Password  , la password scelta per proteggere il file e premiamo  Tab  sulla tastiera. Digitiamo nuovamente la stessa password nel campo  Verifica  , e ancora  Tab  . Dopo qualche istante comparirà il messaggio dell'avvenuta cifratura: premiamo  OK  .  •      Il file sarà ora presente nella sua cartella di origine con un nuovo formato criptato. Qualora volessimo decriptarlo, dall'interfaccia principale di Sicurpas clicchiamo sul pulsante  Cifratura e compressione dei file  e, nella nuova finestra, sul tasto  Decifrare file  .  •      Selezioniamo il file da decriptare e premiamo  Apri  . Digitiamo la password in  Password  e diamo  Tab  . Inseriamola di nuovo in  Verifica  , diamo  Tab  e premiamo  OK  quando compare l'avviso della decriptazione. Troveremo il file decriptato e nel formato originario nella sua cartella.  •      Per criptare (o decriptare) invece un'intera cartella, dall'interfaccia principale clicchiamo sul pulsante  Cifratura e compressione dei file  e poi sul tasto  Cifrare cartella  (o su  Decifrare cartella  ) e seguiamo la procedura vista nei passi precedenti.  •       \", 'url': ['https://www.punto-informatico.it/download/sicurpas/'], 'website': ['punto-informatico.it'], 'timestamp': [1538558357862], 'publication_date': ['2018-10-03T09:19:17.862Z'], 'flattened_entities': 'algoritmo barra_degli_strumenti base_di_dati basso_elettrico compressione_dei_dati computer crittografia directory disco_rigido documento esecuzione_informatica eseguibile_exe file foglio_elettronico formato_di_file freeware funzione_informatica genere_letterario immagine interfaccia_grafica interfaccia_informatica macchina_virtuale multimedialità navigazione_a_schede password presentazione programma_informatica sistema_operativo software tastiera_informatica testo tool utente video', 'result_entities': ['Base di dati', 'Macchina virtuale', 'File', 'Directory', 'Disco rigido', 'Computer', 'Programma (informatica)', 'Sistema operativo', 'Genere letterario', 'Immagine', 'Video', 'Documento', 'Testo', 'Presentazione', 'Multimedialità', 'Foglio elettronico', 'Utente', 'Tool', 'Password', 'Algoritmo', 'Crittografia', 'Esecuzione (informatica)', 'Eseguibile EXE', 'Software', 'Funzione (informatica)', 'Barra degli strumenti', 'Freeware', 'Basso elettrico', 'Compressione dei dati', 'Navigazione a schede', 'Tastiera (informatica)', 'Formato di file', 'Interfaccia (informatica)', 'Interfaccia grafica'], '_version_': 1613295373328056320}, {'fonte_dati': ['trend_analisys'], 'id': 'https://www.punto-informatico.it/windows-10-october-2018-update/', 'ta_id': [5], 'title': 'Redstone 5 sarà Windows 10 October 2018 Update', 'abstract': 'Un nuovo aggiornamento software sta per arrivare agli utenti Windows 10 di tutto il mondo: si tratta di un major update che porta una lunga serie di piccole novità sul sistema operativo con rilascio previsto entro il mese di ottobre. Sta tutto nel nome, del resto: quella che è stata fin qui denominata “Redstone 5”, arriva agli utenti a titolo ufficiale sotto il nome di “Windows 10 October 2018 Update“.\\nL’importanza dell’aggiornamento è anzitutto nei numeri: “circa 700 milioni di dispositivi” saranno coinvolti dall’update di quello che ad oggi è il principale sistema operativo al mondo (in mano a circa il 47% degli utenti). Ignota al momento la data esatta del rilascio, ma sulla base delle esperienze antecedenti è presumibile ipotizzare il rollout nella seconda metà di ottobre.\\nL’update contemplerà una lunga serie di piccoli interventi migliorativi, mentre tra le novità si segnala ad esempio un elemento particolarmente interessante quale la Cloud Clipboard. Da tempo annunciata, tale funzione arriva soltanto ora effettivamente a disposizione degli utenti e rappresenterà per molti una scorciatoia utilissima per passare contenuti tra un device e un altro. Cloud Clipboard, infatti, è una sorta di copia/incolla in remoto sfruttando il cloud: si fa “copia” su un dispositivo e si fa “incolla” su un altro, potendo altresì scegliere all’interno di una cronologia di copie effettuate in passato. La Cloud Clipboard è disponibile pertanto su tutti i device sui quali l’utente ha avuto accesso tramite login con il proprio Microsoft Account: una piccola utilissima funzione che offre una volta di più la percezione per cui al centro della scena non vi sia il PC, ma il suo utente.\\nLa “dark mode” su Esplora Risorse è invece un vezzo grafico che apprezzerà chi intende utilizzare un’interfaccia scura sul proprio sistema operativo. Il nuovo strumento per gli screenshot, invece, consente un uso intelligente di tale funzione con un apposito pannello di gestione che permette di scegliere l’opzione desiderata prima di archiviare le immagini (con tanto di interazione ottimizzata con il pennino, strumento ormai ampiamente disponibile su laptop, tablet e convertibili).\\nL’aggiornamento precedente è stato il Windows 10 April 2018 Update e per il prossimo major update occorrerà attendere la primavera 2019, sulla base del piano semestrale di aggiornamento seguito dalle tradizionali patch. Una curiosità: l’aggiornamento in rilascio è relativo alla versione “1809”, così come il precedente fu il “1803”. Il numero, nella fattispecie, è la combinazione di due numeri da due cifre indicano l’anno e il mese di rilascio della RTM.', 'url': ['https://www.punto-informatico.it/windows-10-october-2018-update/'], 'website': ['punto-informatico.it'], 'timestamp': [1535785251000], 'publication_date': ['2018-09-01T07:00:51Z'], 'flattened_entities': 'aggiornamento_software appunti_informatica computer_portatile copia_e_incolla file_explorer interfaccia_grafica interfaccia_utente login microsoft_account patch_informatica pgm-11_redstone release_to_manufacturing screenshot sistema_operativo tablet_computer windows_10', 'result_entities': ['Aggiornamento software', 'Windows 10', 'Sistema operativo', 'PGM-11 Redstone', 'Appunti (informatica)', 'Copia e incolla', 'Login', 'Microsoft Account', 'File Explorer', 'Interfaccia grafica', 'Interfaccia utente', 'Screenshot', 'Computer portatile', 'Tablet computer', 'Patch (informatica)', 'Release to Manufacturing'], '_version_': 1613295373375242240}]\n"
     ]
    }
   ],
   "source": [
    "for i, dictionary in enumerate(docs):\n",
    "    for field in ['title', 'abstract', 'flattened_entities']:\n",
    "        if isinstance(dictionary[field], list):\n",
    "            # re-format data to hold string instead of single-list item\n",
    "            docs[i][field] = dictionary[field][0]\n",
    "        \n",
    "print(docs[:10])"
   ]
  },
  {
   "cell_type": "markdown",
   "metadata": {},
   "source": [
    "## Delete duplicates"
   ]
  },
  {
   "cell_type": "code",
   "execution_count": 13,
   "metadata": {},
   "outputs": [
    {
     "name": "stdout",
     "output_type": "stream",
     "text": [
      "Number of duplicates:  85\n",
      "New length:  1570\n"
     ]
    }
   ],
   "source": [
    "counter = 0\n",
    "for i, dictionary in enumerate(docs):\n",
    "    try:\n",
    "        index = docs.index(dictionary, i+1, len(docs))\n",
    "        #print(\"Found a duplicate with index {0} from index {1}\".format(index, i))\n",
    "        del(docs[index])\n",
    "        counter = counter + 1\n",
    "    except ValueError:\n",
    "        None\n",
    "print(\"Number of duplicates: \", counter)\n",
    "print(\"New length: \", len(docs))"
   ]
  },
  {
   "cell_type": "markdown",
   "metadata": {},
   "source": [
    "## Build Train corpus for both Models\n",
    "using entire dataset"
   ]
  },
  {
   "cell_type": "code",
   "execution_count": 14,
   "metadata": {},
   "outputs": [
    {
     "name": "stdout",
     "output_type": "stream",
     "text": [
      "Abstract example: \n",
      " [TaggedDocument(words=['fujitsu', 'si', 'separa', 'da', 'pc', 'mobile', 'roma', 'per', 'guadagnare', 'in', 'efficienza', 'tentare', 'di', 'rincorrere', 'una', 'posizione', 'più', 'appetibile', 'sul', 'mercato', 'mobile', 'sul', 'mercato', 'del', 'pc', 'per', 'affrontare', 'anni', 'di', 'profondi', 'cambiamenti', 'per', 'entrambi', 'settori', 'fujitsu', 'ha', 'annunciato', 'lo', 'spinoff', 'delle', 'due', 'divisioni', 'dedicate', 'una', 'notebook', 'pc', 'altra', 'agli', 'smartphone', 'le', 'due', 'aziende', 'che', 'nasceranno', 'ufficialmente', 'nel', 'mese', 'di', 'febbraio', 'del', 'prossimo', 'anno', 'consentiranno', 'all', 'azienda', 'di', 'chiarire', 'le', 'responsabilità', 'nella', 'gestione', 'di', 'agevolare', 'decisioni', 'più', 'rapide', 'della', 'dirigenza', 'di', 'ottenere', 'una', 'maggiore', 'efficienza', 'aspetti', 'fondamentali', 'nel', 'momento', 'in', 'cui', 'la', 'diffusione', 'sempre', 'più', 'di', 'massa', 'sempre', 'più', 'ubiqua', 'di', 'pc', 'smartphone', 'ha', 'reso', 'sempre', 'più', 'difficile', 'differenziarsi', 'ha', 'reso', 'sempre', 'più', 'serrata', 'la', 'competizione', 'con', 'nuovi', 'produttori', 'globali', 'fujitsu', 'lascerà', 'dunque', 'che', 'la', 'propria', 'divisione', 'mobile', 'viva', 'di', 'vita', 'propria', 'in', 'fujitsu', 'connected', 'technologies', 'tenti', 'di', 'farsi', 'largo', 'in', 'uno', 'scenario', 'mobile', 'estremamente', 'complesso', 'con', 'le', 'sue', 'stagnazioni', 'le', 'sue', 'conferme', 'di', 'lusso', 'le', 'nuove', 'esigenze', 'dei', 'mercati', 'emergenti', 'la', 'divisione', 'pc', 'notebook', 'che', 'da', 'febbraio', 'farà', 'capo', 'fujitsu', 'client', 'computing', 'limited', 'affronterà', 'una', 'conginutura', 'affatto', 'positiva', 'sperando', 'nella', 'ripresa', 'nei', 'mesi', 'scorsi', 'caratterizzati', 'da', 'sommovimenti', 'che', 'hanno', 'interessato', 'assetto', 'degli', 'storici', 'produttori', 'giapponesi', 'circolava', 'un', 'indiscrezione', 'che', 'tratteggiava', 'un', 'futuro', 'comune', 'per', 'fujitsu', 'vaio', 'toshiba', 'lo', 'spinoff', 'annunciato', 'dall', 'azienda', 'potrebbe', 'rappresentare', 'un', 'primo', 'passo', 'in', 'questa', 'direzione'], tags=[0])]\n",
      "F_Entities example: \n",
      " [TaggedDocument(words=['azienda', 'client', 'fujitsu', 'mercato', 'roma', 'smartphone', 'spin', 'off_diritto', 'toshiba'], tags=[0])]\n"
     ]
    }
   ],
   "source": [
    "FLATTENED_ENTITIES_FIELD_NAME = 'flattened_entities'\n",
    "TITLE_FIELD_NAME = 'title'\n",
    "ABSTRACT_FIELD_NAME = 'abstract'\n",
    "\n",
    "# go throuh entire data-set and create a list of TaggedDocuments titles+abstracts,\n",
    "# using gensim pre_process feature\n",
    "train_corpus_abstract = [gensim.models.doc2vec.TaggedDocument(gensim.utils.simple_preprocess(\n",
    "    d[TITLE_FIELD_NAME]+d[ABSTRACT_FIELD_NAME]), [i]) for i, d in enumerate(docs)]\n",
    "\n",
    "# same thing but with f_entities\n",
    "train_corpus_entities = [gensim.models.doc2vec.TaggedDocument(gensim.utils.simple_preprocess(\n",
    "    d[FLATTENED_ENTITIES_FIELD_NAME]), [i]) for i, d in enumerate(docs)]\n",
    "\n",
    "print(\"Abstract example: \\n\",train_corpus_abstract[:1])\n",
    "print(\"F_Entities example: \\n\",train_corpus_entities[:1])"
   ]
  },
  {
   "cell_type": "markdown",
   "metadata": {},
   "source": [
    "## Model Training with more data\n",
    "here we will train four models over the improved data-set:\n",
    "    2 models for the title+abstract approach (PV-DM/PV-DBOW)\n",
    "    2 models for the flattened_entities approach (same)\n",
    "credits(gensim tutorial): https://github.com/RaRe-Technologies/gensim/blob/develop/docs/notebooks/doc2vec-IMDB.ipynb"
   ]
  },
  {
   "cell_type": "code",
   "execution_count": 18,
   "metadata": {},
   "outputs": [
    {
     "name": "stdout",
     "output_type": "stream",
     "text": [
      "Vocabulary created!\n",
      "Training Doc2Vec(\"abstract-model\",dbow,d100,n5,mc2,t4)\n",
      "CPU times: user 1min 5s, sys: 552 ms, total: 1min 6s\n",
      "Wall time: 18.8 s\n",
      "Training Doc2Vec(\"alpha=0.05, abstract-model\",dm/m,d100,n5,w10,mc2,t4)\n",
      "CPU times: user 1min 45s, sys: 648 ms, total: 1min 46s\n",
      "Wall time: 29.2 s\n",
      "Training Doc2Vec(\"entities-model\",dbow,d100,n5,mc2,t4)\n",
      "CPU times: user 3.47 s, sys: 180 ms, total: 3.65 s\n",
      "Wall time: 2.03 s\n",
      "Training Doc2Vec(\"alpha=0.1, entities-model\",dm/m,d100,n5,w10,mc2,t4)\n",
      "CPU times: user 5.11 s, sys: 304 ms, total: 5.41 s\n",
      "Wall time: 2.73 s\n",
      "Models Saved\n"
     ]
    }
   ],
   "source": [
    "import multiprocessing\n",
    "\n",
    "cores = multiprocessing.cpu_count()\n",
    "assert gensim.models.doc2vec.FAST_VERSION > -1, \"This will be painfully slow otherwise\"\n",
    "\n",
    "\n",
    "# let's try training two models at once: Paragraph Vector - Distributed Memory (PV-DM), just like CBOW to W2V\n",
    "# and Paragraph Vector - Distributed Bag of Words (PV-DBOW), analogous to W2V Skip-gram\n",
    "epochs = 40\n",
    "vec_size = 100\n",
    "entities_alpha = 0.10  \n",
    "abstract_alpha = 0.05 # here we have much more data\n",
    "ABSTRACT_MODEL_NAME = \"TestModels/d2v_TA_abstract&title\"\n",
    "ENTITIES_MODEL_NAME = \"TestModels/d2v_TA_flattened_entities\"\n",
    "\n",
    "abstract_models = [\n",
    "    # PV-DBOW plain\n",
    "    Doc2Vec(dm=0, vector_size=vec_size, negative=5, hs=0, min_count=2, sample=0, \n",
    "            epochs=epochs, workers=cores, comment='abstract-model'),\n",
    "    # PV-DM w/ default averaging\n",
    "    Doc2Vec(dm=1, vector_size= vec_size, window=10, negative=5, hs=0, min_count=2, sample=0, \n",
    "            epochs= epochs, workers=cores, alpha= abstract_alpha, comment='alpha=0.05, abstract-model'),\n",
    "]\n",
    "\n",
    "entities_models = [\n",
    "    # PV-DBOW plain\n",
    "    Doc2Vec(dm=0, vector_size=vec_size, negative=5, hs=0, min_count=2, sample=0, \n",
    "            epochs=epochs, workers=cores, comment = 'entities-model'),\n",
    "    # PV-DM w/ default averaging\n",
    "    Doc2Vec(dm=1, vector_size= vec_size, window=10, negative=5, hs=0, min_count=2, sample=0, \n",
    "            epochs= epochs, workers=cores, alpha= entities_alpha, comment='alpha=0.1, entities-model'),\n",
    "]\n",
    "\n",
    "# build our vocabulary of words (all the unique words encountered inside our corpus, needed for training)\n",
    "for a_model in abstract_models:\n",
    "    a_model.build_vocab(train_corpus_abstract)\n",
    "for e_model in entities_models:\n",
    "    e_model.build_vocab(train_corpus_entities)\n",
    "print(\"Vocabulary created!\")\n",
    "\n",
    "# train the models on the given data!\n",
    "counter = 0\n",
    "# Train Abstract Models\n",
    "for a_model in abstract_models:\n",
    "    print(\"Training %s\" % a_model)\n",
    "    %time a_model.train(train_corpus_abstract, total_examples=len(train_corpus_abstract), epochs=a_model.epochs)\n",
    "    a_model.save(ABSTRACT_MODEL_NAME+str(counter)+'.model')\n",
    "    counter = counter + 1\n",
    "# Train Flattened_Entities Model\n",
    "counter = 0\n",
    "for e_model in entities_models:\n",
    "    print(\"Training %s\" % e_model)\n",
    "    %time e_model.train(train_corpus_entities, total_examples=len(train_corpus_entities), epochs=e_model.epochs)\n",
    "    e_model.save(ENTITIES_MODEL_NAME+str(counter)+'.model')\n",
    "    counter = counter + 1\n",
    "print(\"Models Saved\")\n"
   ]
  },
  {
   "cell_type": "markdown",
   "metadata": {},
   "source": [
    "# Visualizing Results"
   ]
  },
  {
   "cell_type": "markdown",
   "metadata": {},
   "source": [
    "## PCA 2D Reduction"
   ]
  },
  {
   "cell_type": "code",
   "execution_count": 19,
   "metadata": {},
   "outputs": [],
   "source": [
    "def pcaReduction(model = None):\n",
    "    # let's try to visualize all document_vectors\n",
    "    # get all vectors of documents we created from model training\n",
    "    docs_vecs = []\n",
    "\n",
    "    # docvecs (list of Doc2VecKeyedVectors) \n",
    "    # – Vector representations of the documents in the corpus. Each vector has size == vector_size\n",
    "    for doc in iter(range(0, len(model.docvecs))):\n",
    "        docs_vecs.append(model.docvecs[doc])\n",
    "\n",
    "    # loading dataset into Pandas DataFrame\n",
    "    df = pd.DataFrame.from_records(docs_vecs)\n",
    "    #df.head()\n",
    "    #df[['target']]\n",
    "    \n",
    "    ## PCA scaling\n",
    "    # PCA is effected by scale so you need to scale the features in your data before applying PCA. \n",
    "    vec_size = model.vector_size\n",
    "    features = [i for i in range(vec_size)]\n",
    "\n",
    "    x = df.loc[:, features].values # get features values\n",
    "\n",
    "    # standardize data\n",
    "    x = StandardScaler().fit_transform(x) # scale data (especially in case different measures are used)\n",
    "    \n",
    "    # build PCA model in 2D\n",
    "    pca = PCA(n_components=2) # The new components are just the two main dimensions of variation.\n",
    "    # 2D reduction, 2 main components\n",
    "    principalComponents = pca.fit_transform(x)\n",
    "\n",
    "    principalDf = pd.DataFrame(data = principalComponents\n",
    "                 , columns = ['principal component 1', 'principal component 2'])\n",
    "    principalDf.head()\n",
    "    finalDf = principalDf \n",
    "    return finalDf"
   ]
  },
  {
   "cell_type": "markdown",
   "metadata": {},
   "source": [
    "## Interactive Graph with Plotly"
   ]
  },
  {
   "cell_type": "code",
   "execution_count": 21,
   "metadata": {},
   "outputs": [],
   "source": [
    "import plotly.plotly as py\n",
    "import plotly.figure_factory as ff\n",
    "import plotly.tools as tls\n",
    "import plotly.graph_objs as go\n",
    "\n",
    "tls.set_credentials_file(username='D4nt3', api_key='FdMB4O6qCfciGDOnLvdQ')"
   ]
  },
  {
   "cell_type": "markdown",
   "metadata": {},
   "source": [
    "## Choose model to show by loading it first"
   ]
  },
  {
   "cell_type": "code",
   "execution_count": 30,
   "metadata": {},
   "outputs": [
    {
     "name": "stdout",
     "output_type": "stream",
     "text": [
      "Model correctly loaded\n"
     ]
    }
   ],
   "source": [
    "ABSTRACT_MODEL_NAME = \"TestModels/d2v_TA_abstract&title\"\n",
    "ENTITIES_MODEL_NAME = \"TestModels/d2v_TA_flattened_entities\"\n",
    "model_name = ABSTRACT_MODEL_NAME+'0'+'.model'\n",
    "model = Doc2Vec.load(model_name)\n",
    "print('Model correctly loaded')\n",
    "\n",
    "## PCA REDUCTION, returns pandas dataframe\n",
    "finalDf = pcaReduction(model)\n",
    "GRAPH_NAME = \"TestModel_Abtract\" ## CHANGE THIS EVERYTIME TO SAVE IT TO PLOTLY 'HUB'"
   ]
  },
  {
   "cell_type": "markdown",
   "metadata": {},
   "source": [
    "## Visualize Data"
   ]
  },
  {
   "cell_type": "code",
   "execution_count": 31,
   "metadata": {},
   "outputs": [
    {
     "data": {
      "text/html": [
       "<iframe id=\"igraph\" scrolling=\"no\" style=\"border:none;\" seamless=\"seamless\" src=\"https://plot.ly/~D4nt3/38.embed\" height=\"525px\" width=\"100%\"></iframe>"
      ],
      "text/plain": [
       "<plotly.tools.PlotlyDisplay object>"
      ]
     },
     "execution_count": 31,
     "metadata": {},
     "output_type": "execute_result"
    }
   ],
   "source": [
    "# we'll draw a scatter graph with labels\n",
    "traces = []\n",
    "# let's get the labels\n",
    "titles = [dictionary['title'] for dictionary in docs]\n",
    "\n",
    "# each trace will represent a point (squeezed vector from higher dimensions),\n",
    "# and each point will have the title of the news assigned\n",
    "\n",
    "#we can't plot all points, so we'll select a subsample of them\n",
    "for i in range(600, len(finalDf)):\n",
    "    x , y = finalDf.iat[i, 0], finalDf.iat[i, 1]\n",
    "    # let's highlight some articles we think should be closer\n",
    "    color = 'blue'\n",
    "    text = train_corpus_abstract[i].words\n",
    "    for social in ['facebook', 'instagram', 'linkedn', 'social_network']:\n",
    "        if social in text:\n",
    "            color = 'green'\n",
    "    trace0 = go.Scatter(\n",
    "        x = [x],\n",
    "        y = [y],\n",
    "        mode = 'markers',\n",
    "        #name = 'blue markers',\n",
    "        marker = dict(\n",
    "            size = 7,\n",
    "            color = color,\n",
    "        ),\n",
    "        text = str(titles[i])\n",
    "    )\n",
    "    traces.append(trace0)\n",
    "\n",
    "data = traces \n",
    "layout = dict(title = 'PCA Representantion of Abstract Model',\n",
    "        hovermode= 'closest',\n",
    "        xaxis= dict(\n",
    "            title= 'first component',\n",
    "            ticklen= 5,\n",
    "            gridwidth= 2,\n",
    "        ),\n",
    "        yaxis=dict(\n",
    "            title= 'second component',\n",
    "            ticklen= 5,\n",
    "            gridwidth= 2,\n",
    "        ),\n",
    "        showlegend = False\n",
    "    )\n",
    "# Plot and embed in ipython notebook!\n",
    "fig = dict(data = data, layout = layout)\n",
    "py.iplot(fig, filename=GRAPH_NAME)"
   ]
  },
  {
   "cell_type": "code",
   "execution_count": 28,
   "metadata": {},
   "outputs": [
    {
     "name": "stdout",
     "output_type": "stream",
     "text": [
      "Model correctly loaded\n"
     ]
    }
   ],
   "source": [
    "ABSTRACT_MODEL_NAME = \"TestModels/d2v_TA_abstract&title\"\n",
    "ENTITIES_MODEL_NAME = \"TestModels/d2v_TA_flattened_entities\"\n",
    "model_name = ENTITIES_MODEL_NAME+'1'+'.model'\n",
    "model = Doc2Vec.load(model_name)\n",
    "print('Model correctly loaded')\n",
    "\n",
    "## PCA REDUCTION, returns pandas dataframe\n",
    "finalDf = pcaReduction(model)\n",
    "GRAPH_NAME = \"TestModel_Entities\" ## CHANGE THIS EVERYTIME TO SAVE IT TO PLOTLY 'HUB'"
   ]
  },
  {
   "cell_type": "markdown",
   "metadata": {},
   "source": [
    "# Model Testing"
   ]
  },
  {
   "cell_type": "code",
   "execution_count": 34,
   "metadata": {},
   "outputs": [
    {
     "name": "stdout",
     "output_type": "stream",
     "text": [
      "Test Document (23): «teamviewer punto informatico gestione file computer utilità assistenza da remoto in tutta sicurezza tutti capita di avere un parente spesso in avanti con gli anni che ha continuamente bisogno di una mano col proprio computer che chiede aiuto dicendo pensaci tu tanto sai come funziona ci metti un attimo magari la soluzione al problema davvero questione di un attimo ma ovviamente si perde un sacco di tempo anche solo per raggiungere il computer la cosa più comoda sarebbe riparare il problema distanza con un sistema di desktop remoto questi sistemi però possono essere relativamente complicati da utilizzare per chi non pratico eccezione rappresentata da teamviewer il programma pensato proprio per dare assistenza remota nel modo più semplice sicuro possibile utilizzo del programma gratuito per uso personale mentre per le aziende richiesto acquisto di una licenza dal punto di vista di chi ha bisogno di aiuto teamviewer piuttosto semplice appare una finestra con uno userid una password queste sono le credenziali da comunicare chi fornisce assistenza per consentire accesso remoto al proprio pc non ci sono complicate configurazioni da portare termine basta tenere sul desktop il collegamento teamviewer altro canto chi deve fornire assistenza ha solo bisogno delle credenziali di accesso che ovviamente devono essere fornite dall utente per esempio tramite telefono sono sempre facili da dettare si può decidere se ottenere il controllo remoto se limitarsi inviare un file operazione utile nel caso si voglia semplicemente passare un programma all altra persona quando il controllo remoto viene attivato appare una finestra che presenta il desktop dell utente ma offre anche una toolbar per regolare la visualizzazione la toolbar permette inoltre di inviare messaggi all utente in una chat temporanea così si possono ottenere chiarimenti il protocollo di teamviewer ottimizzato per gli schermi ad alta risoluzione riesce trasmettere in tempo reale con una adeguata connessione anche schermi»\n",
      "\n",
      "\n",
      "Similar Doc-->(doctag:23,score:0.9857805967330933):<<TeamViewer | Punto Informatico>>\n",
      "\n",
      "Similar Doc-->(doctag:142,score:0.616054892539978):<<USB Network Gate | Punto Informatico>>\n",
      "\n",
      "Similar Doc-->(doctag:189,score:0.5658763647079468):<<Glances | Punto Informatico>>\n"
     ]
    },
    {
     "name": "stderr",
     "output_type": "stream",
     "text": [
      "/home/nick/anaconda3/lib/python3.6/site-packages/gensim/matutils.py:737: FutureWarning:\n",
      "\n",
      "Conversion of the second argument of issubdtype from `int` to `np.signedinteger` is deprecated. In future, it will be treated as `np.int64 == np.dtype(int).type`.\n",
      "\n"
     ]
    }
   ],
   "source": [
    "import random\n",
    "train_corpus = train_corpus_abstract\n",
    "# Pick a random document from the train corpus and infer a vector from the model\n",
    "doc_id = random.randint(0, len(train_corpus) - 1)\n",
    "\n",
    "inferred_vector = model.infer_vector(train_corpus[doc_id].words)\n",
    "similar_docs = model.docvecs.most_similar([inferred_vector], topn=3)\n",
    "\n",
    "# show the 3 most similar document titles\n",
    "print('Test Document ({}): «{}»\\n'.format(doc_id, ' '.join(train_corpus[doc_id].words)))\n",
    "for doc_tag, similarity in similar_docs:\n",
    "    print(\"\\nSimilar Doc-->(doctag:{0},score:{1}):<<{2}>>\".format(doc_tag, similarity, titles[doc_tag]))"
   ]
  },
  {
   "cell_type": "markdown",
   "metadata": {},
   "source": [
    "# Model assessment over previously seen data\n",
    "It's not ACTUAL model testing, but we know how the model behaves in recognizing already-seen docs \n",
    "(something like train_error_rate)"
   ]
  },
  {
   "cell_type": "code",
   "execution_count": 36,
   "metadata": {},
   "outputs": [
    {
     "name": "stderr",
     "output_type": "stream",
     "text": [
      "/home/nick/anaconda3/lib/python3.6/site-packages/gensim/matutils.py:737: FutureWarning:\n",
      "\n",
      "Conversion of the second argument of issubdtype from `int` to `np.signedinteger` is deprecated. In future, it will be treated as `np.int64 == np.dtype(int).type`.\n",
      "\n"
     ]
    },
    {
     "name": "stdout",
     "output_type": "stream",
     "text": [
      "Error rate over 200 random examples from training set: 4.5%\n",
      "Correct prediction over 200 random examples from training set: 95.5%\n"
     ]
    }
   ],
   "source": [
    "number_correct = 0\n",
    "n_examples = 200\n",
    "train_corpus = train_corpus_abstract\n",
    "# let's take 200 random examples and see how it performs\n",
    "for i in range(n_examples):\n",
    "    # Pick a random document from the train corpus and infer a vector from the model\n",
    "    doc_id = random.randint(0, len(train_corpus) - 1)\n",
    "\n",
    "    inferred_vector = model.infer_vector(train_corpus[doc_id].words)\n",
    "    similar_docs = model.docvecs.most_similar([inferred_vector], topn=1)\n",
    "    # check if the inferred vector is most similar to the original one\n",
    "    for doc_tag, similarity in similar_docs:\n",
    "        if doc_tag == doc_id:\n",
    "            number_correct += 1\n",
    "correct_rate = (100*number_correct/n_examples)\n",
    "error_rate = 100 - correct_rate\n",
    "print(\"Error rate over {0} random examples from training set: {1}%\".format(n_examples, error_rate))\n",
    "print(\"Correct prediction over {0} random examples from training set: {1}%\".format(n_examples, correct_rate))\n"
   ]
  }
 ],
 "metadata": {
  "kernelspec": {
   "display_name": "Python 3",
   "language": "python",
   "name": "python3"
  },
  "language_info": {
   "codemirror_mode": {
    "name": "ipython",
    "version": 3
   },
   "file_extension": ".py",
   "mimetype": "text/x-python",
   "name": "python",
   "nbconvert_exporter": "python",
   "pygments_lexer": "ipython3",
   "version": "3.6.5"
  }
 },
 "nbformat": 4,
 "nbformat_minor": 2
}

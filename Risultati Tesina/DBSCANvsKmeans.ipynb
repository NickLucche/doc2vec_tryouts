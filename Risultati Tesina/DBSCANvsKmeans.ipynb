{
 "cells": [
  {
   "cell_type": "markdown",
   "metadata": {},
   "source": [
    "# Try different models-compare clustering results over eval. set\n",
    "TODO: try different eps"
   ]
  },
  {
   "cell_type": "code",
   "execution_count": 32,
   "metadata": {},
   "outputs": [
    {
     "name": "stdout",
     "output_type": "stream",
     "text": [
      "#Number of clusters: 10\n",
      "##Cluster length: ['4', '3', '3', '2', '10', '9', '3', '4', '10', '6']\n",
      "### Doc length:  [2210, 468, 2675, 1694, 1947, 1761, 1575, 1812, 1967, 2672, 2588, 2933, 950, 2218, 5673, 3585, 9133, 941, 1467, 9253, 2409, 2247, 3021, 1083, 1003, 1564, 2256, 1198, 2015, 8371, 1183, 3088, 1240, 1200, 1172, 1869, 2315, 3287, 1997, 2162, 2764, 996, 930, 877, 4216, 2068, 1992, 11060, 1157, 1350, 1225, 1978, 5780, 7297]\n"
     ]
    }
   ],
   "source": [
    "# load eval.set (duplicates free)\n",
    "import json\n",
    "#filename = '/home/nick/anaconda3/bin/Tirocinio/doc2vec_tryouts/EvaluateModels/english_4_clusters.json'\n",
    "filename = '/home/nick/anaconda3/bin/Tirocinio/doc2vec_tryouts/EvaluateModels/pre-clustered_docs_harder.json'\n",
    "with open(filename, 'r') as file:\n",
    "    cdocs = json.load(file)\n",
    "print(\"#Number of clusters:\",len(cdocs))\n",
    "print(\"##Cluster length:\",[str(len(cluster)) for cluster in cdocs])\n",
    "#print(\"### Doc length: \",[len(doc['headline']+doc['bodyText']) for cluster in cdocs for doc in cluster \n",
    "#                          if not(doc['bodyText'] is None)])\n",
    "print(\"### Doc length: \",[len(doc['title']+doc['abstract']) for cluster in cdocs for doc in cluster])"
   ]
  },
  {
   "cell_type": "markdown",
   "metadata": {},
   "source": [
    "## Title+abstract models\n",
    "## TODO: lower case text"
   ]
  },
  {
   "cell_type": "code",
   "execution_count": 34,
   "metadata": {},
   "outputs": [
    {
     "name": "stdout",
     "output_type": "stream",
     "text": [
      "Doc2Vec(\"dm=0, vec = 500\",dbow,d500,n5,mc2,t4) -VocabSize: 2104\n",
      "Doc2Vec(\"dm=0, vec = 800\",dbow,d800,n5,mc2,t4) -VocabSize: 2104\n",
      "Doc2Vec(\"dm=0, vec = 800, negative=12\",dbow,d800,n12,mc2,t4) -VocabSize: 2104\n",
      "Doc2Vec(\"dm=0, vec = 500\",dbow,d500,n5,mc2,t4) -VocabSize: 2104\n",
      "Doc2Vec(\"dm=0, vec = 800\",dbow,d800,n5,mc2,t4) -VocabSize: 2104\n",
      "Doc2Vec(\"dm=0, vec = 800, negative=12\",dbow,d800,n12,mc2,t4) -VocabSize: 2104\n",
      "Vocabulary created!\n",
      "Training Doc2Vec(\"dm=0, vec = 500\",dbow,d500,n5,mc2,t4)\n",
      "CPU times: user 3.23 s, sys: 0 ns, total: 3.23 s\n",
      "Wall time: 1.7 s\n",
      "Training Doc2Vec(\"dm=0, vec = 800\",dbow,d800,n5,mc2,t4)\n",
      "CPU times: user 4.89 s, sys: 0 ns, total: 4.89 s\n",
      "Wall time: 2.43 s\n",
      "Training Doc2Vec(\"dm=0, vec = 800, negative=12\",dbow,d800,n12,mc2,t4)\n",
      "CPU times: user 8.91 s, sys: 0 ns, total: 8.91 s\n",
      "Wall time: 4.2 s\n",
      "Training Doc2Vec(\"dm=0, vec = 500\",dbow,d500,n5,mc2,t4)\n",
      "CPU times: user 3.04 s, sys: 0 ns, total: 3.04 s\n",
      "Wall time: 1.57 s\n",
      "Training Doc2Vec(\"dm=0, vec = 800\",dbow,d800,n5,mc2,t4)\n",
      "CPU times: user 5.08 s, sys: 0 ns, total: 5.08 s\n",
      "Wall time: 2.51 s\n",
      "Training Doc2Vec(\"dm=0, vec = 800, negative=12\",dbow,d800,n12,mc2,t4)\n",
      "CPU times: user 9.83 s, sys: 0 ns, total: 9.83 s\n",
      "Wall time: 4.66 s\n"
     ]
    }
   ],
   "source": [
    "# train different models\n",
    "from gensim.utils import simple_preprocess as sp\n",
    "from gensim.models.doc2vec import Doc2Vec, TaggedDocument\n",
    "import multiprocessing\n",
    "\n",
    "unwrapped_docs = [doc for cluster in cdocs for doc in cluster]\n",
    "# title + abstract models\n",
    "#train_corpus_ta = [ TaggedDocument(sp(doc['headline'] + doc['bodyText']) ,[i]) for i, doc in enumerate(unwrapped_docs)]\n",
    "train_corpus_ta = [ TaggedDocument(sp(doc['title'] + doc['abstract']) ,[i]) for i, doc in enumerate(unwrapped_docs)]\n",
    "epochs = 45\n",
    "vec_size = 100\n",
    "models = [\n",
    "    # dm = 0, simple SG, simpler model, most of the time efficient and accurate\n",
    "    Doc2Vec(dm=0, vector_size=500, negative=5, hs=0, min_count=2, sample=0, \n",
    "            epochs=45, workers=multiprocessing.cpu_count(), comment='dm=0, vec = 500'),\n",
    "    Doc2Vec(dm=0, vector_size=800, negative=5, hs=0, min_count=2, sample=0, \n",
    "            epochs=45, workers=multiprocessing.cpu_count(), comment='dm=0, vec = 800'),\n",
    "    Doc2Vec(dm=0, vector_size=800, negative=12, hs=0, min_count=2, sample=0, \n",
    "            epochs=40, workers=multiprocessing.cpu_count(), comment='dm=0, vec = 800, negative=12'),\n",
    "    ## kmeans models\n",
    "    Doc2Vec(dm=0, vector_size=500, negative=5, hs=0, min_count=2, sample=0, \n",
    "            epochs=45, workers=multiprocessing.cpu_count(), comment='dm=0, vec = 500'),\n",
    "    Doc2Vec(dm=0, vector_size=800, negative=5, hs=0, min_count=2, sample=0, \n",
    "            epochs=45, workers=multiprocessing.cpu_count(), comment='dm=0, vec = 800'),\n",
    "    Doc2Vec(dm=0, vector_size=800, negative=12, hs=0, min_count=2, sample=0, \n",
    "            epochs=40, workers=multiprocessing.cpu_count(), comment='dm=0, vec = 800, negative=12'),\n",
    "]\n",
    "\n",
    "# build our vocabulary of words (all the unique words encountered inside our corpus)\n",
    "for model in models:\n",
    "    model.build_vocab(train_corpus_ta)\n",
    "    print(model, \"-VocabSize:\", len(model.wv.vocab))\n",
    "print(\"Vocabulary created!\")\n",
    "\n",
    "# train the models on the given data!\n",
    "counter = 0\n",
    "for model in models:\n",
    "    print(\"Training %s\" % model)\n",
    "    %time model.train(train_corpus_ta, total_examples=len(train_corpus_ta), epochs=model.epochs)"
   ]
  },
  {
   "cell_type": "markdown",
   "metadata": {},
   "source": [
    "# KMeans\n",
    "## Choosing K (highlight the right k in red)"
   ]
  },
  {
   "cell_type": "code",
   "execution_count": 36,
   "metadata": {},
   "outputs": [
    {
     "data": {
      "text/html": [
       "<iframe id=\"igraph\" scrolling=\"no\" style=\"border:none;\" seamless=\"seamless\" src=\"https://plot.ly/~D4nt3_/12.embed\" height=\"525px\" width=\"100%\"></iframe>"
      ],
      "text/plain": [
       "<plotly.tools.PlotlyDisplay object>"
      ]
     },
     "execution_count": 36,
     "metadata": {},
     "output_type": "execute_result"
    }
   ],
   "source": [
    "from sklearn.cluster import KMeans\n",
    "#titles = [doc['headline'] for doc in unwrapped_docs]\n",
    "titles = [doc['title'] for doc in unwrapped_docs]\n",
    "# let's try Kmeans with K between 2 and 20\n",
    "def run_KMeans_K_times(model, K):\n",
    "    doc_vecs = [model.docvecs[j] for j in range(len(model.docvecs))]\n",
    "    sse = []\n",
    "    kmeans_results = []\n",
    "    # run k means with k between 2 and K\n",
    "    for i in range(2, K+1):\n",
    "        kmeans = KMeans(n_clusters=i, init='k-means++', # smart-way of choosing starting point\n",
    "               n_init= 50, # run k-means 100 times and get the best result in terms of SSE\n",
    "                n_jobs = -1 # use every core\n",
    "        )\n",
    "        # compute sse for this kmeans result\n",
    "        kmeans.fit(doc_vecs)\n",
    "        sse.append(kmeans.inertia_)\n",
    "        \n",
    "        # get 'visual' clustering, by saving a list of titles\n",
    "        clusters = {label: [] for label in kmeans.labels_}\n",
    "        for label, list_ in clusters.items():\n",
    "            for i, l in enumerate(kmeans.labels_):\n",
    "                if label==l:\n",
    "                    clusters[label].append(titles[i])\n",
    "        \n",
    "        kmeans_results.append(clusters)\n",
    "    return kmeans_results, sse\n",
    "\n",
    "import plotly.plotly as py\n",
    "import plotly.tools as tls\n",
    "import plotly.graph_objs as go\n",
    "# using my api-key\n",
    "tls.set_credentials_file(username='D4nt3_', api_key='4O71urldgOueVtcApOdX')\n",
    "graph_name = 'kmeans_choosing_k'\n",
    "\n",
    "kmeans_results, sse = run_KMeans_K_times(models[1], 25)\n",
    "K = 20 # max_k\n",
    "# plot results of K and SSE\n",
    "trace = go.Scatter(\n",
    "    x = [k for k in range(2, K)],\n",
    "    y = sse,\n",
    "    mode = 'lines+markers'\n",
    ")\n",
    "layout = dict(title = 'Choosing K in Kmeans',\n",
    "              xaxis = dict(title = 'K value'),\n",
    "              yaxis = dict(title = 'SSE'),\n",
    "              )\n",
    "\n",
    "data = [trace]\n",
    "fig = dict(data=data, layout=layout)\n",
    "py.iplot(fig, filename = graph_name)"
   ]
  },
  {
   "cell_type": "markdown",
   "metadata": {},
   "source": [
    "# Evaluate Kmeans\n",
    "On KMeans best conditions: 4 clusters, no-noise, equal-size in clusters, (approxamately) same density, (unsure about shape).\n"
   ]
  },
  {
   "cell_type": "code",
   "execution_count": 37,
   "metadata": {},
   "outputs": [
    {
     "name": "stdout",
     "output_type": "stream",
     "text": [
      "Results occurences(correct guess, cluster index):  [(2, 1), (3, 2), (3, 3), (2, 4), (6, 6), (9, 8), (2, 2), (4, 1), (8, 5), (4, 7)]\n",
      "Accuracy (Precision) over each cluster:  [33.333333333333336, 60.0, 100.0, 100.0, 100.0, 100.0, 40.0, 66.66666666666667, 61.53846153846154, 57.142857142857146]\n",
      "Accuracy (Recall) over each cluster:  [50.0, 100.0, 100.0, 100.0, 60.0, 100.0, 66.66666666666667, 100.0, 80.0, 66.66666666666667]\n",
      "Precision score: 71.86813186813187, Recall score: 82.33333333333333\n",
      "#Number of clusters found: 10, against number of pre-computed clusters: 10#\n",
      "\n",
      "Results occurences(correct guess, cluster index):  [(4, 0), (3, 0), (3, 1), (2, 2), (8, 3), (8, 5), (3, 0), (4, 6), (7, 8), (5, 7)]\n",
      "Accuracy (Precision) over each cluster:  [28.571428571428573, 21.428571428571427, 100.0, 100.0, 100.0, 100.0, 21.428571428571427, 100.0, 100.0, 83.33333333333333]\n",
      "Accuracy (Recall) over each cluster:  [100.0, 100.0, 100.0, 100.0, 80.0, 88.88888888888889, 100.0, 100.0, 70.0, 83.33333333333333]\n",
      "Precision score: 75.47619047619048, Recall score: 92.22222222222223\n",
      "#Number of clusters found: 10, against number of pre-computed clusters: 10#\n",
      "\n",
      "Results occurences(correct guess, cluster index):  [(2, 2), (3, 1), (3, 3), (2, 4), (9, 5), (9, 7), (2, 1), (4, 2), (5, 9), (5, 9)]\n",
      "Accuracy (Precision) over each cluster:  [33.333333333333336, 50.0, 100.0, 100.0, 100.0, 100.0, 33.333333333333336, 66.66666666666667, 50.0, 50.0]\n",
      "Accuracy (Recall) over each cluster:  [50.0, 100.0, 100.0, 100.0, 90.0, 100.0, 66.66666666666667, 100.0, 50.0, 83.33333333333333]\n",
      "Precision score: 68.33333333333334, Recall score: 84.0\n",
      "#Number of clusters found: 10, against number of pre-computed clusters: 10#\n",
      "\n",
      "Results occurences(correct guess, cluster index):  [(4, 0), (3, 1), (3, 2), (2, 3), (7, 4), (7, 8), (2, 1), (4, 0), (6, 9), (5, 9)]\n",
      "Accuracy (Precision) over each cluster:  [50.0, 60.0, 100.0, 100.0, 100.0, 87.5, 40.0, 50.0, 54.54545454545455, 45.45454545454545]\n",
      "Accuracy (Recall) over each cluster:  [100.0, 100.0, 100.0, 100.0, 70.0, 77.77777777777777, 66.66666666666667, 100.0, 60.0, 83.33333333333333]\n",
      "Precision score: 68.75, Recall score: 85.77777777777779\n",
      "#Number of clusters found: 10, against number of pre-computed clusters: 10#\n",
      "\n",
      "Results occurences(correct guess, cluster index):  [(3, 0), (3, 1), (3, 2), (2, 3), (8, 4), (8, 5), (3, 1), (4, 7), (8, 8), (4, 8)]\n",
      "Accuracy (Precision) over each cluster:  [100.0, 27.272727272727273, 100.0, 100.0, 88.88888888888889, 100.0, 27.272727272727273, 100.0, 66.66666666666667, 33.333333333333336]\n",
      "Accuracy (Recall) over each cluster:  [75.0, 100.0, 100.0, 100.0, 80.0, 88.88888888888889, 100.0, 100.0, 80.0, 66.66666666666667]\n",
      "Precision score: 74.34343434343434, Recall score: 89.05555555555556\n",
      "#Number of clusters found: 10, against number of pre-computed clusters: 10#\n",
      "\n",
      "Results occurences(correct guess, cluster index):  [(3, 0), (3, 1), (3, 2), (2, 3), (7, 4), (8, 5), (3, 1), (4, 8), (6, 9), (6, 9)]\n",
      "Accuracy (Precision) over each cluster:  [100.0, 27.272727272727273, 100.0, 100.0, 100.0, 80.0, 27.272727272727273, 100.0, 50.0, 50.0]\n",
      "Accuracy (Recall) over each cluster:  [75.0, 100.0, 100.0, 100.0, 70.0, 88.88888888888889, 100.0, 100.0, 60.0, 100.0]\n",
      "Precision score: 73.45454545454545, Recall score: 89.38888888888889\n",
      "#Number of clusters found: 10, against number of pre-computed clusters: 10#\n",
      "\n"
     ]
    }
   ],
   "source": [
    "import utils\n",
    "import my_dbscan\n",
    "import model_evaluation as me\n",
    "\n",
    "clusters = []\n",
    "models_precision_kmeans = []\n",
    "models_recall_kmeans = []\n",
    "expected_clusters = []\n",
    "for docs in cdocs:\n",
    "    expected_clusters.append([doc['title'] for doc in docs])\n",
    "    #expected_clusters.append([doc['headline'] for doc in docs])\n",
    "        \n",
    "for model in models:\n",
    "    # K already chosen before, with value 4\n",
    "    #cluster_results, sse = run_KMeans_K_times(model, 4)\n",
    "    cluster_results, sse = run_KMeans_K_times(model, 10)\n",
    "    cluster_results = cluster_results[-1] # get 4-means results\n",
    "    clist = []\n",
    "    for key, cluster in cluster_results.items():\n",
    "        clist.append(cluster)\n",
    "    \n",
    "    clusters.append(clist)\n",
    "    \n",
    "     # evaluate clustering\n",
    "    precision, recall = me.compute_clustering_accuracy(clist, expected_clusters)\n",
    "    print('Precision score: %s, Recall score: %s'%(precision, recall))\n",
    "    \n",
    "    models_precision_kmeans.append(precision)\n",
    "    models_recall_kmeans.append(recall)\n",
    "    # last check: we want to penalize models that simply cluster all docs together (that's not a valid result)\n",
    "    # that's way we have precision score\n",
    "    print(\"#Number of clusters found: {0}, against number of pre-computed clusters: {1}#\\n\".format(\n",
    "        len(clist), len(cdocs)))"
   ]
  },
  {
   "cell_type": "code",
   "execution_count": 38,
   "metadata": {},
   "outputs": [
    {
     "name": "stdout",
     "output_type": "stream",
     "text": [
      "[['Marte, il sottosuolo può avere ospitato la vita - Spazio & Astronomia - ANSA.it', 'SpaceX: ecco come saranno le basi umane su Marte', 'NASA, dalla CO2 al glucosio su Marte', 'Elon Musk contro la NASA per terraformare Marte', 'Decolla Facebook Dating, il Tinder di Menlo Park: primi test in Colombia - Repubblica.it', 'Facebook: Tinder nel mirino, novità di Instagram e Whatsapp - Corriere.it', 'Facebook Dating: ecco come funziona l’anti-Tinder di Zuckerberg - Corriere.it', 'Apple iPhone Xs e Xs Max: è troppo caro?', 'Fifa 19 contro Pes 2019: qual è il migliore quest’anno? Ecco la sfida giocata da noi - Corriere.it', 'YouTube Kids, lo streaming dei bambini in Italia', 'Social e bambini: YouTube assume nuovi moderatori e Facebook lancia Messenger Kids - Corriere.it', 'YouTube e i video con bambini «abusati» Google sotto accusa, ritirata la pubblicità - Corriere.it', 'SmartThings: Samsung presenta un Tracker LTE', 'LetsApp, così Samsung fa avvicinare gli studenti al digitale - Corriere.it'], ['Tesla sotto indagine per colpa dei tweet di Elon Musk: crollo in Borsa - Corriere.it', 'Elon Musk denuciato per truffa, Tesla crolla in borsa - Wired', 'Tesla, Elon Musk lascia la presidenza'], [\"L'equinozio d'autunno non è il 21 settembre: quest'anno arriva il 23 - Repubblica.it\", \"E' l'equinozio d'autunno - Spazio & Astronomia - ANSA.it\"], [\"iPhone Xs Max tira 3-4 volte più dell'Xs - Hi-tech - ANSA.it\", 'Apple conferma \"per errore\" iPhone XS, XS Max e XR', 'iPhone XS: perché Apple ha nascosto il notch?', 'Apple lancia iPhone Xs e la versione Max: sempre più grandi, gli smartphone sono la nuova Tv - Corriere.it', 'Problemi per iPhone XS e XS Max: «Non si caricano se il cavo è collegato mentre lo schermo è spento» - Corriere.it', 'iPhone XS e XS Max: novità, scheda tecnica e prezzo', 'iPhone XS appiana le rughe, protestano gli utenti', 'iPhone XS: proteste per la carica troppo lenta'], ['Aspettando iPhone Xs: il giorno di iOS 12'], ['Fifa 19, la prova in anteprima - Corriere.it', 'FIFA 19 sui campi della Champions League', 'FIFA 19, annunciata la disponibilità della demo', 'I miglioramenti di FIFA 19 per Nintendo Switch', \"FIFA 19: L'ora dei campioni, trailer di lancio\", 'FIFA 19, ecco i requisiti PC', 'FIFA 19: novità, uscita e prezzo', \"FIFA 19 si mostra nel trailer L'Ora dei Campioni\"], ['A spasso attorno alla Luna, SpaceX annuncia il primo turista spaziale - Corriere.it', 'SpaceX, i viaggi sulla Luna possono attendere', 'SpaceX porterà un uomo in orbita attorno alla Luna', 'SpaceX manderà Yusaku Maezawa sulla Luna'], ['Samsung lancia il suo primo smartphone con tre fotocamere - La Stampa', \"Huawei Mate 20 Lite: un midrange dall'ottima autonomia. La recensione\", 'Huawei P Smart Plus: per lanciarlo alleanza tra i cinesi e Amazon. Con Emis Killa come testimonial - Corriere.it', 'Huawei P20 Pro: 3 fotocamere | Arrivano anche P20 e P20 Lite - Corriere.it', 'Huawei: recensioni e novità', 'Huawei Mate 20 lite'], ['Samsung, i nuovi Galaxy J6+ e J4+ - Tlc - ANSA.it', 'Samsung, in arrivo uno smartphone con quattro fotocamere (e il primo con schermo pieghevole) - Corriere.it', 'Samsung Galaxy Note 9: la nuova S Pen', 'Notizie Samsung Galaxy Note 9', \"Samsung Bixby 2.0 supporterà anche l'italiano\", 'Galaxy Note 9, Samsung regala una Micro SD', 'Samsung Galaxy Note 9'], ['Huawei MateBook X Pro']]\n"
     ]
    }
   ],
   "source": [
    "print(clusters[1])"
   ]
  },
  {
   "cell_type": "markdown",
   "metadata": {},
   "source": [
    "# Evaluate Clustering"
   ]
  },
  {
   "cell_type": "code",
   "execution_count": 22,
   "metadata": {
    "scrolled": false
   },
   "outputs": [
    {
     "ename": "ModuleNotFoundError",
     "evalue": "No module named 'my_dbscan'",
     "output_type": "error",
     "traceback": [
      "\u001b[0;31m---------------------------------------------------------------------------\u001b[0m",
      "\u001b[0;31mModuleNotFoundError\u001b[0m                       Traceback (most recent call last)",
      "\u001b[0;32m<ipython-input-22-0e0420ccbd4e>\u001b[0m in \u001b[0;36m<module>\u001b[0;34m()\u001b[0m\n\u001b[1;32m      1\u001b[0m \u001b[0;32mimport\u001b[0m \u001b[0mutils\u001b[0m\u001b[0;34m\u001b[0m\u001b[0m\n\u001b[0;32m----> 2\u001b[0;31m \u001b[0;32mimport\u001b[0m \u001b[0mmy_dbscan\u001b[0m\u001b[0;34m\u001b[0m\u001b[0m\n\u001b[0m\u001b[1;32m      3\u001b[0m \u001b[0;32mimport\u001b[0m \u001b[0mmodel_evaluation\u001b[0m \u001b[0;32mas\u001b[0m \u001b[0mme\u001b[0m\u001b[0;34m\u001b[0m\u001b[0m\n\u001b[1;32m      4\u001b[0m \u001b[0;32mimport\u001b[0m \u001b[0mimportlib\u001b[0m\u001b[0;34m\u001b[0m\u001b[0m\n\u001b[1;32m      5\u001b[0m \u001b[0mimportlib\u001b[0m\u001b[0;34m.\u001b[0m\u001b[0mreload\u001b[0m\u001b[0;34m(\u001b[0m\u001b[0mme\u001b[0m\u001b[0;34m)\u001b[0m\u001b[0;34m\u001b[0m\u001b[0m\n",
      "\u001b[0;31mModuleNotFoundError\u001b[0m: No module named 'my_dbscan'"
     ]
    }
   ],
   "source": [
    "import utils\n",
    "import my_dbscan\n",
    "import model_evaluation as me\n",
    "\n",
    "models_recall = []\n",
    "models_precision = []\n",
    "clusters_found = [] # keep clusters results, they're useful later on\n",
    "min_s = 2 # min_samples\n",
    "for k, model in enumerate(models):\n",
    "    # try different eps for some model\n",
    "    if k == 1:\n",
    "        eps = 0.11\n",
    "        eps_increment = 0.13\n",
    "        min_s = 2\n",
    "    elif k==6:\n",
    "        eps = 0.11\n",
    "        eps_increment = 0.13\n",
    "        min_s = 3\n",
    "    else:\n",
    "        eps = 0.11\n",
    "        eps_increment = 0.13\n",
    "        min_s = 2\n",
    "    # get list of document vectors\n",
    "    doc_vecs = [model.docvecs[j] for j in range(len(model.docvecs))]\n",
    "    titles = [doc['title'] for doc in unwrapped_docs]\n",
    "    urls = [doc['url'] for doc in unwrapped_docs]\n",
    "    # apply dbscan clustering to these vectors\n",
    "    urls_cluster_list = my_dbscan.apply_dbscan(doc_vecs = doc_vecs, titles = titles, \n",
    "                                               urls = urls, subset_length = len(titles),\n",
    "                                                 eps = eps, eps_increment = eps_increment,\n",
    "                                               n_iterations = 3, verbose = False, min_samples = min_s)\n",
    "    # get clusters as list of titles\n",
    "    titles_clusters = utils.getDocTitleFromUrl(unwrapped_docs, urls_cluster_list)\n",
    "    clusters_found.append(titles_clusters)\n",
    "    #data = utils.plot_clusters(titles_clusters)\n",
    "    \n",
    "    # evaluate clustering\n",
    "    expected_clusters = []\n",
    "    for docs in cdocs:\n",
    "        expected_clusters.append([doc['title'] for doc in docs])\n",
    "    precision, recall = me.compute_clustering_accuracy(titles_clusters, expected_clusters)\n",
    "    print('Precision score: %s, Recall score: %s'%(precision, recall))\n",
    "    \n",
    "    models_precision.append(precision)\n",
    "    models_recall.append(recall)\n",
    "    # last check: we want to penalize models that simply cluster all docs together (that's not a valid result)\n",
    "    # that's way we have precision score\n",
    "    print(\"#Number of clusters found: {0}, against number of pre-computed clusters: {1}#\\n\".format(\n",
    "        len(urls_cluster_list), len(cdocs)))\n",
    "\n",
    "## loaded model\n",
    "inferred_vecs = [loaded_model.infer_vector(sp(doc['title']+doc['abstract'])) for doc in unwrapped_docs]\n",
    "urls_cluster_list = my_dbscan.apply_dbscan(doc_vecs = inferred_vecs, titles = titles, \n",
    "                                               urls = urls, subset_length = len(titles),\n",
    "                                                 eps = eps, eps_increment = eps_increment, n_iterations = 3, verbose = False)\n",
    "titles_clusters = utils.getDocTitleFromUrl(unwrapped_docs, urls_cluster_list)\n",
    "clusters_found.append(titles_clusters)\n",
    "# evaluate clustering\n",
    "expected_clusters = []\n",
    "for docs in cdocs:\n",
    "    expected_clusters.append([doc['title'] for doc in docs])\n",
    "precision, recall = me.compute_clustering_accuracy(titles_clusters, expected_clusters)\n",
    "print('Precision score: %s, Recall score: %s'%(precision, recall))\n",
    "models_precision.append(precision)\n",
    "models_recall.append(recall)\n",
    "print(\"#Number of clusters found: {0}, against number of pre-computed clusters: {1}#\\n\".format(\n",
    "    len(urls_cluster_list), len(cdocs)))"
   ]
  },
  {
   "cell_type": "code",
   "execution_count": 11,
   "metadata": {},
   "outputs": [
    {
     "name": "stdout",
     "output_type": "stream",
     "text": [
      "['SpaceX: ecco come saranno le basi umane su Marte', 'Elon Musk contro la NASA per terraformare Marte']\n",
      "['Decolla Facebook Dating, il Tinder di Menlo Park: primi test in Colombia - Repubblica.it', 'Facebook: Tinder nel mirino, novità di Instagram e Whatsapp - Corriere.it', 'Facebook Dating: ecco come funziona l’anti-Tinder di Zuckerberg - Corriere.it', 'Social e bambini: YouTube assume nuovi moderatori e Facebook lancia Messenger Kids - Corriere.it']\n",
      "['Tesla sotto indagine per colpa dei tweet di Elon Musk: crollo in Borsa - Corriere.it', 'Elon Musk denuciato per truffa, Tesla crolla in borsa - Wired', 'Tesla, Elon Musk lascia la presidenza']\n",
      "[\"L'equinozio d'autunno non è il 21 settembre: quest'anno arriva il 23 - Repubblica.it\", \"E' l'equinozio d'autunno - Spazio & Astronomia - ANSA.it\"]\n",
      "[\"iPhone Xs Max tira 3-4 volte più dell'Xs - Hi-tech - ANSA.it\", 'Apple lancia iPhone Xs e la versione Max: sempre più grandi, gli smartphone sono la nuova Tv - Corriere.it']\n",
      "['Fifa 19 contro Pes 2019: qual è il migliore quest’anno? Ecco la sfida giocata da noi - Corriere.it', 'Fifa 19, la prova in anteprima - Corriere.it']\n",
      "['FIFA 19 sui campi della Champions League', 'FIFA 19, annunciata la disponibilità della demo', \"FIFA 19: L'ora dei campioni, trailer di lancio\", \"FIFA 19 si mostra nel trailer L'Ora dei Campioni\"]\n",
      "['A spasso attorno alla Luna, SpaceX annuncia il primo turista spaziale - Corriere.it', 'SpaceX, i viaggi sulla Luna possono attendere', 'SpaceX porterà un uomo in orbita attorno alla Luna']\n",
      "['Samsung, i nuovi Galaxy J6+ e J4+ - Tlc - ANSA.it', 'Samsung Galaxy Note 9: la nuova S Pen', 'Notizie Samsung Galaxy Note 9']\n",
      "['Apple conferma \"per errore\" iPhone XS, XS Max e XR', 'iPhone XS: perché Apple ha nascosto il notch?', 'Problemi per iPhone XS e XS Max: «Non si caricano se il cavo è collegato mentre lo schermo è spento» - Corriere.it', 'iPhone XS appiana le rughe, protestano gli utenti', 'iPhone XS: proteste per la carica troppo lenta']\n",
      "['Samsung lancia il suo primo smartphone con tre fotocamere - La Stampa', 'Samsung, in arrivo uno smartphone con quattro fotocamere (e il primo con schermo pieghevole) - Corriere.it', \"Huawei Mate 20 Lite: un midrange dall'ottima autonomia. La recensione\", 'Huawei P Smart Plus: per lanciarlo alleanza tra i cinesi e Amazon. Con Emis Killa come testimonial - Corriere.it', 'Huawei P20 Pro: 3 fotocamere | Arrivano anche P20 e P20 Lite - Corriere.it', 'Huawei Mate 20 lite']\n",
      "['LetsApp, così Samsung fa avvicinare gli studenti al digitale - Corriere.it', 'Huawei: recensioni e novità']\n",
      "['Marte, il sottosuolo può avere ospitato la vita - Spazio & Astronomia - ANSA.it', 'NASA, dalla CO2 al glucosio su Marte', 'Apple iPhone Xs e Xs Max: è troppo caro?', 'YouTube Kids, lo streaming dei bambini in Italia', 'YouTube e i video con bambini «abusati» Google sotto accusa, ritirata la pubblicità - Corriere.it', 'SpaceX manderà Yusaku Maezawa sulla Luna', 'SmartThings: Samsung presenta un Tracker LTE', \"Samsung Bixby 2.0 supporterà anche l'italiano\"]\n",
      "['I miglioramenti di FIFA 19 per Nintendo Switch', 'FIFA 19: novità, uscita e prezzo']\n",
      "['FIFA 19, ecco i requisiti PC', 'Huawei MateBook X Pro']\n"
     ]
    }
   ],
   "source": [
    "for cluster in clusters_found[2]:\n",
    "    print(cluster)\n"
   ]
  },
  {
   "cell_type": "markdown",
   "metadata": {},
   "source": [
    "# Visualize results graphically"
   ]
  },
  {
   "cell_type": "code",
   "execution_count": 8,
   "metadata": {},
   "outputs": [
    {
     "data": {
      "text/html": [
       "<iframe id=\"igraph\" scrolling=\"no\" style=\"border:none;\" seamless=\"seamless\" src=\"https://plot.ly/~D4nt3/76.embed\" height=\"525px\" width=\"100%\"></iframe>"
      ],
      "text/plain": [
       "<plotly.tools.PlotlyDisplay object>"
      ]
     },
     "execution_count": 8,
     "metadata": {},
     "output_type": "execute_result"
    }
   ],
   "source": [
    "import plotly.plotly as py\n",
    "import plotly.tools as tls\n",
    "import plotly.graph_objs as go\n",
    "# using my api-key\n",
    "tls.set_credentials_file(username='D4nt3', api_key='FdMB4O6qCfciGDOnLvdQ')\n",
    "graph_name = 'model_eval_results'\n",
    "\n",
    "model_descr = [model.comment for model in models]\n",
    "# plot test-accuracy results, plus silhoutte scores (times 100, since all the values are in between 0-1)\n",
    "trace0 = go.Bar(\n",
    "    x = model_descr + ['loaded model'],\n",
    "    y = models_precision,\n",
    "    name='Precision',\n",
    "    marker=dict(\n",
    "        color='rgb(49,130,189)'\n",
    "    )\n",
    ")\n",
    "trace1 = go.Bar(\n",
    "    x = model_descr + ['loaded model'],\n",
    "    y = [s*100 for s in s_scores] + [0],\n",
    "    name='Silhoutte score',\n",
    "    marker=dict(\n",
    "        color='rgb(204,50,100)',\n",
    "    )\n",
    "    \n",
    ")\n",
    "\n",
    "trace2 = go.Bar(\n",
    "    x = model_descr + ['loaded model'],\n",
    "    y = models_recall,\n",
    "    name='Recall',\n",
    "    marker=dict(\n",
    "        color='rgb(155, 244, 66)',\n",
    "    )\n",
    "    \n",
    ")\n",
    "# precision, recall, silhoutte\n",
    "data = [trace0, trace2,  trace1]\n",
    "layout = go.Layout(\n",
    "    title = 'Clustering Accuracy Results',\n",
    "    xaxis=dict(\n",
    "        tickfont=dict(\n",
    "            size=10,\n",
    "            color='rgb(107, 107, 107)',\n",
    "            \n",
    "        ),\n",
    "        tickangle = -45\n",
    "    ),\n",
    "    yaxis=dict(\n",
    "        title='Clustering accuracy (%)',\n",
    "        titlefont=dict(\n",
    "            size=16,\n",
    "            color='rgb(107, 107, 107)'\n",
    "        ),\n",
    "        tickfont=dict(\n",
    "            size=14,\n",
    "            color='rgb(107, 107, 107)'\n",
    "        )\n",
    "    ),\n",
    "   \n",
    "    barmode='group',\n",
    "    bargap=0.2,\n",
    "    bargroupgap=0.1\n",
    ")\n",
    "\n",
    "fig = go.Figure(data=data, layout=layout)\n",
    "py.iplot(fig, filename=graph_name)"
   ]
  },
  {
   "cell_type": "markdown",
   "metadata": {},
   "source": [
    "# Silhoutte score\n",
    "Silhouette coefficient combines ideas of both cohesion and separation, \n",
    "but for individual points, as well as clusters and \n",
    "clusterings; the Silhouette Coefficient is calculated using the mean intra-cluster distance (a) and the mean nearest-cluster distance (b) for each sample.\n",
    "The Silhoutte score is merely the average of each silhoutte coefficient, computed over each sample.\n",
    "It's a measure of the goodness of clustering, by assuming the fact that a cluster X is defined good if both every sample inside it is close to each other, and far from any other relatively-near cluster Y.\n",
    "This is not necessarily true for every shape of cluster.\n",
    "\n",
    "    The best value is 1 and the worst value is -1. Values near 0 indicate overlapping clusters."
   ]
  },
  {
   "cell_type": "code",
   "execution_count": 7,
   "metadata": {
    "scrolled": false
   },
   "outputs": [
    {
     "name": "stdout",
     "output_type": "stream",
     "text": [
      "0.12614417\n",
      "0.19104731\n",
      "0.1858033\n",
      "0.15527193\n",
      "0.1609296\n",
      "-0.023030862\n",
      "0.17550677\n",
      "0.19581276\n"
     ]
    }
   ],
   "source": [
    "from sklearn.metrics import silhouette_score\n",
    "s_scores = []\n",
    "for model in models:\n",
    "    # get clusters for each model\n",
    "    doc_vecs = [model.docvecs[j] for j in range(len(model.docvecs))]\n",
    "    titles = [doc['title'] for doc in unwrapped_docs]\n",
    "    urls = [doc['url'] for doc in unwrapped_docs]\n",
    "    # apply dbscan clustering to these vectors\n",
    "    urls_cluster_list = my_dbscan.apply_dbscan(doc_vecs = doc_vecs, titles = titles, \n",
    "                                               urls = urls, subset_length = len(titles),\n",
    "                                                 eps = 0.11, eps_increment = 0.13, n_iterations = 3, verbose = False)\n",
    "    \n",
    "    # get cluster labels, mantaining original docs ordering\n",
    "    labels = []\n",
    "    for doc in unwrapped_docs:\n",
    "        noise = True\n",
    "        for i, url_list in enumerate(urls_cluster_list):\n",
    "            if(doc['url'] in url_list):\n",
    "                labels.append(i) # keep cluster id\n",
    "                noise = False\n",
    "        if noise:\n",
    "            labels.append(-1)\n",
    "    # make sure they have the same size\n",
    "    assert len(labels) == len(doc_vecs)\n",
    "    ss = silhouette_score(doc_vecs, labels , metric='cosine')\n",
    "    s_scores.append(ss)\n",
    "    print(ss)"
   ]
  },
  {
   "cell_type": "markdown",
   "metadata": {},
   "source": [
    "# Conclusions: \n",
    "A really low silhoutte score helps us identify models that tend to have very few cluster, hence not really recognizing differences between docs. This is fundamental, since test rules used so far prevent us from recognizing these kinds of models.\n",
    "Since silhoutte score is an average of silhoutte coefficients, smaller changes of values here may mean greater differences."
   ]
  }
 ],
 "metadata": {
  "kernelspec": {
   "display_name": "Python 3",
   "language": "python",
   "name": "python3"
  },
  "language_info": {
   "codemirror_mode": {
    "name": "ipython",
    "version": 3
   },
   "file_extension": ".py",
   "mimetype": "text/x-python",
   "name": "python",
   "nbconvert_exporter": "python",
   "pygments_lexer": "ipython3",
   "version": "3.6.5"
  }
 },
 "nbformat": 4,
 "nbformat_minor": 2
}

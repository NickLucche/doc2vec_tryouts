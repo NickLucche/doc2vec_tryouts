{
 "cells": [
  {
   "cell_type": "markdown",
   "metadata": {},
   "source": [
    "# DBSCAN: Choose Eps value by plotting distances between points\n",
    "### e.g. for min_count = 2, plot distances of 2nd closest neighbour of each point"
   ]
  },
  {
   "cell_type": "code",
   "execution_count": 12,
   "metadata": {},
   "outputs": [],
   "source": [
    "# needed libraries\n",
    "import json\n",
    "import random\n",
    "from gensim.models import Word2Vec\n",
    "import  gensim\n",
    "from collections import Counter\n",
    "from sklearn.cluster import DBSCAN\n",
    "import numpy as np\n",
    "from collections import OrderedDict "
   ]
  },
  {
   "cell_type": "code",
   "execution_count": 22,
   "metadata": {},
   "outputs": [],
   "source": [
    "def choose_eps(min_count, docs_vecs, doc_titles):\n",
    "    \"\"\"Plot the graph and choose best eps based on the composition of our data: \n",
    "    to do so, we will need to compute the distances between every point in the data-space, and its\n",
    "    2nd/3rd closest neighbour (based on 'min_count'). \n",
    "    Take the eps corresponding to a great change in the derivative of the plotted function ('knee' or 'elbow' shape).\n",
    "    \n",
    "    Docs_vecs is the list of vectors we will analyze, each representing a document.\n",
    "    \n",
    "    min_count is the number of points needed to define a core point in DBSCAN.\n",
    "    \n",
    "    doc_titles is a matching list (wrt to docs_vecs), containing the titles of each doc\n",
    "    Returns ordered dict doc:distance_k_neighbour for every doc, for now.\n",
    "    \"\"\"\n",
    "    \n",
    "    # first thing to do: compute the matrix of all pairwise elements distances\n",
    "    # warning: this code is not optimized\n",
    "    dist_matrix = get_pairwise_distances_matrix(docs_vecs)\n",
    "    \n",
    "    # for each document vec, discard the other elements and keep the \n",
    "    # k-closest vector DISTANCE\n",
    "    dictionary = {}\n",
    "    j = 0\n",
    "    for doc_distances in dist_matrix:\n",
    "        # get a row of the matrix (vector of distances for doc_j)\n",
    "        \n",
    "        # first occurrence will always be discarded, since it's the distance from a doc to itself,\n",
    "        doc_distances = np.delete(doc_distances, j)\n",
    "        for i in range(min_count-1):\n",
    "            # get the closest doc to it and discard it, we only need the k-th closest doc.\n",
    "            doc_distances = np.delete(doc_distances, np.argmin(doc_distances))\n",
    "        # now create the couple: {doc_name: distance from k-th neighbour}; couple is inverted for sorting\n",
    "        dictionary[np.amin(doc_distances)] = doc_titles[j]\n",
    "        j += 1\n",
    "    # now that we have a dict with the needed distances, we need to order them and return them\n",
    "    #return OrderedDict(sorted(dictionary))\n",
    "    return dictionary"
   ]
  },
  {
   "cell_type": "code",
   "execution_count": 2,
   "metadata": {},
   "outputs": [],
   "source": [
    "import numpy as np\n",
    "import sklearn.metrics.pairwise as sk # for cosine_distance\n",
    "# TODO: add possibility of passing metric to use as parameters\n",
    "def get_pairwise_distances_matrix(docs):\n",
    "    \"\"\"\"\n",
    "        docs: list of documents, each represented as a vector.\n",
    "        \n",
    "        Returns the pairwise distances matrix between documents. \n",
    "    \n",
    "        Metric used to compute the distance is cosine_distance -by default-.\n",
    "    \"\"\"\n",
    "    # initialize distance matrix\n",
    "    n = len(docs)\n",
    "    distances_m = np.zeros((n, n))\n",
    "    \n",
    "    # compute the distance betweem each vector (doc)\n",
    "    # this is all but efficient at the moment, okay for a debug version.\n",
    "    for i, doc1 in enumerate(docs):\n",
    "        for j, doc2 in enumerate(docs):\n",
    "            distances_m[i, j] = sk.cosine_distances([doc1], [doc2])\n",
    "    return distances_m\n",
    "    \n",
    "def get_kth_neighbour_distance(docvec, k):\n",
    "    "
   ]
  },
  {
   "cell_type": "code",
   "execution_count": 4,
   "metadata": {},
   "outputs": [
    {
     "name": "stdout",
     "output_type": "stream",
     "text": [
      "Requirement already satisfied: matplotlib in /Users/imacdev/anaconda3/lib/python3.7/site-packages (2.2.3)\n",
      "Requirement already satisfied: numpy>=1.7.1 in /Users/imacdev/anaconda3/lib/python3.7/site-packages (from matplotlib) (1.15.1)\n",
      "Requirement already satisfied: cycler>=0.10 in /Users/imacdev/anaconda3/lib/python3.7/site-packages (from matplotlib) (0.10.0)\n",
      "Requirement already satisfied: pyparsing!=2.0.4,!=2.1.2,!=2.1.6,>=2.0.1 in /Users/imacdev/anaconda3/lib/python3.7/site-packages (from matplotlib) (2.2.0)\n",
      "Requirement already satisfied: python-dateutil>=2.1 in /Users/imacdev/anaconda3/lib/python3.7/site-packages (from matplotlib) (2.7.3)\n",
      "Requirement already satisfied: pytz in /Users/imacdev/anaconda3/lib/python3.7/site-packages (from matplotlib) (2018.5)\n",
      "Requirement already satisfied: six>=1.10 in /Users/imacdev/anaconda3/lib/python3.7/site-packages (from matplotlib) (1.11.0)\n",
      "Requirement already satisfied: kiwisolver>=1.0.1 in /Users/imacdev/anaconda3/lib/python3.7/site-packages (from matplotlib) (1.0.1)\n",
      "Requirement already satisfied: setuptools in /Users/imacdev/anaconda3/lib/python3.7/site-packages (from kiwisolver>=1.0.1->matplotlib) (40.2.0)\n",
      "\u001b[31mtwisted 18.7.0 requires PyHamcrest>=1.9.0, which is not installed.\u001b[0m\n",
      "\u001b[33mYou are using pip version 10.0.1, however version 18.1 is available.\n",
      "You should consider upgrading via the 'pip install --upgrade pip' command.\u001b[0m\n"
     ]
    }
   ],
   "source": [
    "import matplotlib.pyplot as plt\n",
    "%matplotlib inline\n",
    "import plotly.plotly as py\n",
    "import plotly.figure_factory as ff\n",
    "import plotly.tools as tls\n",
    "import plotly.graph_objs as go\n",
    "\n",
    "tls.set_credentials_file(username='D4nt3', api_key='FdMB4O6qCfciGDOnLvdQ')"
   ]
  },
  {
   "cell_type": "code",
   "execution_count": 24,
   "metadata": {},
   "outputs": [
    {
     "name": "stdout",
     "output_type": "stream",
     "text": [
      "0\n",
      "2\n",
      "[[0.         0.1180829  0.         0.02747092]\n",
      " [0.1180829  0.         0.1180829  0.03509872]\n",
      " [0.         0.1180829  0.         0.02747092]\n",
      " [0.02747092 0.03509872 0.02747092 0.        ]]\n",
      "{0.027470921832270623: 'Terzo', 0.11808289631180302: 'Secondo'}\n"
     ]
    }
   ],
   "source": [
    "a = np.array([1, 2, 3])\n",
    "print(np.argmin(a))\n",
    "a = np.delete(a, np.argmin(a))\n",
    "print(np.amin(a))\n",
    "\n",
    "print(get_pairwise_distances_matrix([[1, 2, 4], [2, 2, 2], [1, 2, 4], [2, 3, 4]]))\n",
    "print(choose_eps(2, [[1, 2, 4], [2, 2, 2], [1, 2, 4], [2, 3, 4]], [\"Primo\", \"Secondo\", \"Primo 2\", \"Terzo\"]))"
   ]
  }
 ],
 "metadata": {
  "kernelspec": {
   "display_name": "Python 3",
   "language": "python",
   "name": "python3"
  },
  "language_info": {
   "codemirror_mode": {
    "name": "ipython",
    "version": 3
   },
   "file_extension": ".py",
   "mimetype": "text/x-python",
   "name": "python",
   "nbconvert_exporter": "python",
   "pygments_lexer": "ipython3",
   "version": "3.7.0"
  }
 },
 "nbformat": 4,
 "nbformat_minor": 2
}

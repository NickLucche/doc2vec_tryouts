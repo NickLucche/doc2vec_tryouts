{
 "cells": [
  {
   "cell_type": "code",
   "execution_count": 1,
   "metadata": {},
   "outputs": [
    {
     "name": "stdout",
     "output_type": "stream",
     "text": [
      "Enter your age:22\n",
      "Year you will be 100 years old: %d 2096\n"
     ]
    }
   ],
   "source": [
    "import datetime\n",
    "\n",
    "age = int(input(\"Enter your age:\"))\n",
    "year_100 = 0\n",
    "if age < 100:\n",
    "    now = datetime.datetime.now()\n",
    "    print(\"Year you will be 100 years old: \", 100-age + now.year)"
   ]
  },
  {
   "cell_type": "code",
   "execution_count": 5,
   "metadata": {},
   "outputs": [
    {
     "name": "stdout",
     "output_type": "stream",
     "text": [
      "[1, 9, 25, 49, 81]\n"
     ]
    }
   ],
   "source": [
    "# take this list\n",
    "a = [1, 4, 9, 16, 25, 36, 49, 64, 81, 100]\n",
    "# and create a new one with only odd numbers in it, using just a line of code\n",
    "b = [element for element in a if (element%2)!=0]\n",
    "print(b)"
   ]
  },
  {
   "cell_type": "code",
   "execution_count": 30,
   "metadata": {},
   "outputs": [
    {
     "name": "stdout",
     "output_type": "stream",
     "text": [
      "{'Aldo': 111}\n",
      "{'Aldo': 111, 'Giovanni': 'Storti'}\n"
     ]
    }
   ],
   "source": [
    "# birthday dictonary\n",
    "class birthdayDictionary:\n",
    "    \"\"\"This class represents a birtday dictionary, implementing functions to handle it as well\"\"\"\n",
    "    def __init__(self, dict=None, name=None, bd=None):\n",
    "        # initialize dictionary either using a given dictionary, or a key-value pair\n",
    "        if dict is not None:\n",
    "            self.dict = {(k, v) for (k, v) in dict.items()}\n",
    "        elif (dict is None) & (name is not None) & (bd is not None):\n",
    "            self.dict = {name: bd}\n",
    "        else:\n",
    "            raise Exception\n",
    " \n",
    "    def addBirthday(self, name, bd):\n",
    "        # i could check name type and so forth..\n",
    "        self.dict[name] = bd\n",
    "        \n",
    "    \n",
    "        \n",
    "\n",
    "#test = birthdayDictionary({'Aldo':111})\n",
    "test = birthdayDictionary(None, 'Aldo', 111)\n",
    "#test = birthdayDictionary()\n",
    "#print(type(test.dict))\n",
    "print(test.dict)\n",
    "test.addBirthday('Giovanni', 'Storti')\n",
    "print(test.dict)"
   ]
  },
  {
   "cell_type": "code",
   "execution_count": null,
   "metadata": {},
   "outputs": [],
   "source": []
  }
 ],
 "metadata": {
  "kernelspec": {
   "display_name": "Python 3",
   "language": "python",
   "name": "python3"
  },
  "language_info": {
   "codemirror_mode": {
    "name": "ipython",
    "version": 3
   },
   "file_extension": ".py",
   "mimetype": "text/x-python",
   "name": "python",
   "nbconvert_exporter": "python",
   "pygments_lexer": "ipython3",
   "version": "3.6.5"
  }
 },
 "nbformat": 4,
 "nbformat_minor": 2
}
